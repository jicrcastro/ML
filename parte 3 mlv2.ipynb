{
 "cells": [
  {
   "cell_type": "code",
   "execution_count": 44,
   "metadata": {
    "vscode": {
     "languageId": "r"
    }
   },
   "outputs": [],
   "source": [
    "# Elimino todas las variables excepto loan_data_knn y loan_data2\n",
    "rm(list = setdiff(ls(), c(\"loan_data_knn\", \"loan_data2\")))"
   ]
  },
  {
   "cell_type": "code",
   "execution_count": 45,
   "metadata": {
    "vscode": {
     "languageId": "r"
    }
   },
   "outputs": [],
   "source": [
    "# importacion de librerias\n",
    "library(readr)\n",
    "library(caret)\n",
    "library(ggplot2)\n",
    "library(dplyr)\n",
    "library(vcd)\n",
    "library(reshape2)\n",
    "library(ltm)\n",
    "library(gmodels)\n",
    "library(pROC)\n",
    "library(kknn)\n",
    "library(rsample)\n",
    "library(doParallel)"
   ]
  },
  {
   "cell_type": "code",
   "execution_count": 46,
   "metadata": {
    "vscode": {
     "languageId": "r"
    }
   },
   "outputs": [
    {
     "name": "stderr",
     "output_type": "stream",
     "text": [
      "\u001b[1mRows: \u001b[22m\u001b[34m38345\u001b[39m \u001b[1mColumns: \u001b[22m\u001b[34m21\u001b[39m\n",
      "\u001b[36m──\u001b[39m \u001b[1mColumn specification\u001b[22m \u001b[36m────────────────────────────────────────────────────────\u001b[39m\n",
      "\u001b[1mDelimiter:\u001b[22m \",\"\n",
      "\u001b[31mchr\u001b[39m  (3): term, last_pymnt_d, last_credit_pull_d\n",
      "\u001b[32mdbl\u001b[39m (18): loan_amnt, funded_amnt, funded_amnt_inv, int_rate, installment, an...\n",
      "\n",
      "\u001b[36mℹ\u001b[39m Use `spec()` to retrieve the full column specification for this data.\n",
      "\u001b[36mℹ\u001b[39m Specify the column types or set `show_col_types = FALSE` to quiet this message.\n"
     ]
    }
   ],
   "source": [
    "loan_data_knn <- read_csv(\"Anonymize_Loan_Default_data_ML2.csv\")\n",
    "loan_data_knn <- as.data.frame(loan_data_knn)"
   ]
  },
  {
   "cell_type": "markdown",
   "metadata": {},
   "source": [
    "Eliminacion de algunas columnas numericas, bajo criterio correlacion biserial"
   ]
  },
  {
   "cell_type": "code",
   "execution_count": 47,
   "metadata": {
    "vscode": {
     "languageId": "r"
    }
   },
   "outputs": [
    {
     "data": {
      "image/png": "[encoded data removed]",
      "text/plain": [
       "plot without title"
      ]
     },
     "metadata": {
      "image/png": {
       "height": 420,
       "width": 420
      }
     },
     "output_type": "display_data"
    }
   ],
   "source": [
    "# Selecciono solo las columnas numéricas\n",
    "numeric_vars <- sapply(loan_data_knn, is.numeric)\n",
    "datos_numericos <- loan_data_knn[, numeric_vars]\n",
    "\n",
    "# Añado 'repay_fail' a los datos numéricos\n",
    "datos_numericos$repay_fail <- loan_data_knn$repay_fail\n",
    "\n",
    "# Función para calcular la correlación biserial\n",
    "cor_biserial <- function(x, y) {\n",
    "  biserial.cor(x, y)\n",
    "}\n",
    "\n",
    "# Calculo la correlación biserial entre cada variable numérica y 'repay_fail'\n",
    "correlaciones <- sapply(datos_numericos[, -ncol(datos_numericos)], cor_biserial, y = datos_numericos$repay_fail)\n",
    "\n",
    "# Convierto las correlaciones a un data frame para ggplot\n",
    "correlaciones_df <- data.frame(Variable = names(correlaciones), Correlacion = correlaciones)\n",
    "\n",
    "# Ajusto tamaño de etiquetas para mejorar la visualización\n",
    "correlaciones_df$Correlacion <- round(correlaciones_df$Correlacion, 2)\n",
    "\n",
    "# Creo el heatmap con etiquetas mejoradas\n",
    "ggplot(correlaciones_df, aes(x = Variable, y = \"repay_fail\", fill = Correlacion)) +\n",
    "  geom_tile(color = \"black\") +\n",
    "  geom_text(aes(label = Correlacion), vjust = 1, color = \"black\", size = 3) +\n",
    "  scale_fill_gradient2(low = \"#3B4CC0\", mid = \"#FFFFFF\", high = \"#B40426\", \n",
    "                       midpoint = 0, limit = c(-1, 1), space = \"Lab\", \n",
    "                       name = \"Correlación Biserial\") +\n",
    "  theme_minimal() +\n",
    "  theme(axis.text.x = element_text(angle = 45, hjust = 1)) +\n",
    "  labs(x = \"\", y = \"\", title = \"Heatmap de Correlación Biserial\")\n"
   ]
  },
  {
   "cell_type": "code",
   "execution_count": 48,
   "metadata": {
    "vscode": {
     "languageId": "r"
    }
   },
   "outputs": [],
   "source": [
    "#por ende procedo a eliminar las variables que tienen baja\n",
    "# correlación con la variable objetivo\n",
    "#osea elimino funded_amnt_inv, installment, revol_bal, total_rec_int\n",
    "# delinq_2yrs, funded_amnt, pub_rec, inq_last_6mths, loan_amnt, revol_util\n",
    "loan_data_knn <- loan_data_knn %>%\n",
    "  dplyr::select(-funded_amnt_inv, -installment, -revol_bal,\n",
    "                -total_rec_int, -delinq_2yrs, -funded_amnt, -pub_rec,\n",
    "                -inq_last_6mths, -loan_amnt, -revol_util)"
   ]
  },
  {
   "cell_type": "code",
   "execution_count": 49,
   "metadata": {
    "vscode": {
     "languageId": "r"
    }
   },
   "outputs": [
    {
     "data": {
      "text/html": [
       "<table class=\"dataframe\">\n",
       "<caption>A data.frame: 6 × 11</caption>\n",
       "<thead>\n",
       "\t<tr><th></th><th scope=col>term</th><th scope=col>int_rate</th><th scope=col>annual_inc</th><th scope=col>dti</th><th scope=col>total_pymnt</th><th scope=col>total_pymnt_inv</th><th scope=col>total_rec_prncp</th><th scope=col>last_pymnt_amnt</th><th scope=col>repay_fail</th><th scope=col>last_pymnt_d</th><th scope=col>last_credit_pull_d</th></tr>\n",
       "\t<tr><th></th><th scope=col>&lt;chr&gt;</th><th scope=col>&lt;dbl&gt;</th><th scope=col>&lt;dbl&gt;</th><th scope=col>&lt;dbl&gt;</th><th scope=col>&lt;dbl&gt;</th><th scope=col>&lt;dbl&gt;</th><th scope=col>&lt;dbl&gt;</th><th scope=col>&lt;dbl&gt;</th><th scope=col>&lt;dbl&gt;</th><th scope=col>&lt;chr&gt;</th><th scope=col>&lt;chr&gt;</th></tr>\n",
       "</thead>\n",
       "<tbody>\n",
       "\t<tr><th scope=row>1</th><td>36 months</td><td>13.98</td><td> 20004</td><td>19.86</td><td>3075.292</td><td>3075.29</td><td>2500.00</td><td>  90.85</td><td>0</td><td>2011-2013</td><td>2014-2016</td></tr>\n",
       "\t<tr><th scope=row>2</th><td>36 months</td><td>15.95</td><td> 59000</td><td>19.57</td><td>2948.760</td><td>2948.76</td><td>1909.02</td><td> 175.67</td><td>1</td><td>2011-2013</td><td>2011-2013</td></tr>\n",
       "\t<tr><th scope=row>3</th><td>36 months</td><td> 9.91</td><td> 53796</td><td>10.80</td><td>8082.392</td><td>8082.39</td><td>7000.00</td><td>1550.27</td><td>0</td><td>2014-2016</td><td>2014-2016</td></tr>\n",
       "\t<tr><th scope=row>4</th><td>36 months</td><td> 5.42</td><td> 30000</td><td> 3.60</td><td>2161.663</td><td>2161.66</td><td>2000.00</td><td>  53.12</td><td>0</td><td>2014-2016</td><td>2014-2016</td></tr>\n",
       "\t<tr><th scope=row>5</th><td>36 months</td><td>10.25</td><td>675048</td><td> 1.55</td><td>4206.031</td><td>4206.03</td><td>3600.00</td><td> 146.75</td><td>0</td><td>2011-2013</td><td>2014-2016</td></tr>\n",
       "\t<tr><th scope=row>6</th><td>36 months</td><td> 6.03</td><td> 77736</td><td> 6.07</td><td>8724.972</td><td>8724.97</td><td>8000.00</td><td>1423.66</td><td>0</td><td>2014-2016</td><td>2014-2016</td></tr>\n",
       "</tbody>\n",
       "</table>\n"
      ],
      "text/latex": [
       "A data.frame: 6 × 11\n",
       "\\begin{tabular}{r|lllllllllll}\n",
       "  & term & int\\_rate & annual\\_inc & dti & total\\_pymnt & total\\_pymnt\\_inv & total\\_rec\\_prncp & last\\_pymnt\\_amnt & repay\\_fail & last\\_pymnt\\_d & last\\_credit\\_pull\\_d\\\\\n",
       "  & <chr> & <dbl> & <dbl> & <dbl> & <dbl> & <dbl> & <dbl> & <dbl> & <dbl> & <chr> & <chr>\\\\\n",
       "\\hline\n",
       "\t1 & 36 months & 13.98 &  20004 & 19.86 & 3075.292 & 3075.29 & 2500.00 &   90.85 & 0 & 2011-2013 & 2014-2016\\\\\n",
       "\t2 & 36 months & 15.95 &  59000 & 19.57 & 2948.760 & 2948.76 & 1909.02 &  175.67 & 1 & 2011-2013 & 2011-2013\\\\\n",
       "\t3 & 36 months &  9.91 &  53796 & 10.80 & 8082.392 & 8082.39 & 7000.00 & 1550.27 & 0 & 2014-2016 & 2014-2016\\\\\n",
       "\t4 & 36 months &  5.42 &  30000 &  3.60 & 2161.663 & 2161.66 & 2000.00 &   53.12 & 0 & 2014-2016 & 2014-2016\\\\\n",
       "\t5 & 36 months & 10.25 & 675048 &  1.55 & 4206.031 & 4206.03 & 3600.00 &  146.75 & 0 & 2011-2013 & 2014-2016\\\\\n",
       "\t6 & 36 months &  6.03 &  77736 &  6.07 & 8724.972 & 8724.97 & 8000.00 & 1423.66 & 0 & 2014-2016 & 2014-2016\\\\\n",
       "\\end{tabular}\n"
      ],
      "text/markdown": [
       "\n",
       "A data.frame: 6 × 11\n",
       "\n",
       "| <!--/--> | term &lt;chr&gt; | int_rate &lt;dbl&gt; | annual_inc &lt;dbl&gt; | dti &lt;dbl&gt; | total_pymnt &lt;dbl&gt; | total_pymnt_inv &lt;dbl&gt; | total_rec_prncp &lt;dbl&gt; | last_pymnt_amnt &lt;dbl&gt; | repay_fail &lt;dbl&gt; | last_pymnt_d &lt;chr&gt; | last_credit_pull_d &lt;chr&gt; |\n",
       "|---|---|---|---|---|---|---|---|---|---|---|---|\n",
       "| 1 | 36 months | 13.98 |  20004 | 19.86 | 3075.292 | 3075.29 | 2500.00 |   90.85 | 0 | 2011-2013 | 2014-2016 |\n",
       "| 2 | 36 months | 15.95 |  59000 | 19.57 | 2948.760 | 2948.76 | 1909.02 |  175.67 | 1 | 2011-2013 | 2011-2013 |\n",
       "| 3 | 36 months |  9.91 |  53796 | 10.80 | 8082.392 | 8082.39 | 7000.00 | 1550.27 | 0 | 2014-2016 | 2014-2016 |\n",
       "| 4 | 36 months |  5.42 |  30000 |  3.60 | 2161.663 | 2161.66 | 2000.00 |   53.12 | 0 | 2014-2016 | 2014-2016 |\n",
       "| 5 | 36 months | 10.25 | 675048 |  1.55 | 4206.031 | 4206.03 | 3600.00 |  146.75 | 0 | 2011-2013 | 2014-2016 |\n",
       "| 6 | 36 months |  6.03 |  77736 |  6.07 | 8724.972 | 8724.97 | 8000.00 | 1423.66 | 0 | 2014-2016 | 2014-2016 |\n",
       "\n"
      ],
      "text/plain": [
       "  term      int_rate annual_inc dti   total_pymnt total_pymnt_inv\n",
       "1 36 months 13.98     20004     19.86 3075.292    3075.29        \n",
       "2 36 months 15.95     59000     19.57 2948.760    2948.76        \n",
       "3 36 months  9.91     53796     10.80 8082.392    8082.39        \n",
       "4 36 months  5.42     30000      3.60 2161.663    2161.66        \n",
       "5 36 months 10.25    675048      1.55 4206.031    4206.03        \n",
       "6 36 months  6.03     77736      6.07 8724.972    8724.97        \n",
       "  total_rec_prncp last_pymnt_amnt repay_fail last_pymnt_d last_credit_pull_d\n",
       "1 2500.00           90.85         0          2011-2013    2014-2016         \n",
       "2 1909.02          175.67         1          2011-2013    2011-2013         \n",
       "3 7000.00         1550.27         0          2014-2016    2014-2016         \n",
       "4 2000.00           53.12         0          2014-2016    2014-2016         \n",
       "5 3600.00          146.75         0          2011-2013    2014-2016         \n",
       "6 8000.00         1423.66         0          2014-2016    2014-2016         "
      ]
     },
     "metadata": {},
     "output_type": "display_data"
    }
   ],
   "source": [
    "head(loan_data_knn)"
   ]
  },
  {
   "cell_type": "markdown",
   "metadata": {},
   "source": [
    "Modelo k-NN de clasificacion"
   ]
  },
  {
   "cell_type": "code",
   "execution_count": 50,
   "metadata": {
    "vscode": {
     "languageId": "r"
    }
   },
   "outputs": [
    {
     "data": {
      "text/plain": [
       "$term\n",
       "\n",
       "36 months 60 months \n",
       "    28478      9867 \n",
       "\n",
       "$last_pymnt_d\n",
       "\n",
       "2007-2010 2011-2013 2014-2016 \n",
       "     3222     22539     12584 \n",
       "\n",
       "$last_credit_pull_d\n",
       "\n",
       "2007-2010 2011-2013 2014-2016 \n",
       "     1431     11041     25873 \n"
      ]
     },
     "metadata": {},
     "output_type": "display_data"
    }
   ],
   "source": [
    "# Selecciono las columnas categóricas específicas\n",
    "col_cate <- c(\"term\", \"last_pymnt_d\", \"last_credit_pull_d\")\n",
    "\n",
    "# Calculo los valores por clase para las columnas especificadas en loan_data_knn\n",
    "valores_por_clase <- lapply(loan_data_knn[col_cate], table)\n",
    "\n",
    "# Muestro los valores por clase\n",
    "valores_por_clase"
   ]
  },
  {
   "cell_type": "code",
   "execution_count": 51,
   "metadata": {
    "vscode": {
     "languageId": "r"
    }
   },
   "outputs": [
    {
     "data": {
      "text/html": [
       "<table class=\"dataframe\">\n",
       "<caption>A data.frame: 6 × 11</caption>\n",
       "<thead>\n",
       "\t<tr><th></th><th scope=col>term</th><th scope=col>int_rate</th><th scope=col>annual_inc</th><th scope=col>dti</th><th scope=col>total_pymnt</th><th scope=col>total_pymnt_inv</th><th scope=col>total_rec_prncp</th><th scope=col>last_pymnt_amnt</th><th scope=col>repay_fail</th><th scope=col>last_pymnt_d</th><th scope=col>last_credit_pull_d</th></tr>\n",
       "\t<tr><th></th><th scope=col>&lt;chr&gt;</th><th scope=col>&lt;dbl&gt;</th><th scope=col>&lt;dbl&gt;</th><th scope=col>&lt;dbl&gt;</th><th scope=col>&lt;dbl&gt;</th><th scope=col>&lt;dbl&gt;</th><th scope=col>&lt;dbl&gt;</th><th scope=col>&lt;dbl&gt;</th><th scope=col>&lt;dbl&gt;</th><th scope=col>&lt;chr&gt;</th><th scope=col>&lt;chr&gt;</th></tr>\n",
       "</thead>\n",
       "<tbody>\n",
       "\t<tr><th scope=row>1</th><td>36 months</td><td>13.98</td><td> 20004</td><td>19.86</td><td>3075.292</td><td>3075.29</td><td>2500.00</td><td>  90.85</td><td>0</td><td>2011-2013</td><td>2014-2016</td></tr>\n",
       "\t<tr><th scope=row>2</th><td>36 months</td><td>15.95</td><td> 59000</td><td>19.57</td><td>2948.760</td><td>2948.76</td><td>1909.02</td><td> 175.67</td><td>1</td><td>2011-2013</td><td>2011-2013</td></tr>\n",
       "\t<tr><th scope=row>3</th><td>36 months</td><td> 9.91</td><td> 53796</td><td>10.80</td><td>8082.392</td><td>8082.39</td><td>7000.00</td><td>1550.27</td><td>0</td><td>2014-2016</td><td>2014-2016</td></tr>\n",
       "\t<tr><th scope=row>4</th><td>36 months</td><td> 5.42</td><td> 30000</td><td> 3.60</td><td>2161.663</td><td>2161.66</td><td>2000.00</td><td>  53.12</td><td>0</td><td>2014-2016</td><td>2014-2016</td></tr>\n",
       "\t<tr><th scope=row>5</th><td>36 months</td><td>10.25</td><td>675048</td><td> 1.55</td><td>4206.031</td><td>4206.03</td><td>3600.00</td><td> 146.75</td><td>0</td><td>2011-2013</td><td>2014-2016</td></tr>\n",
       "\t<tr><th scope=row>6</th><td>36 months</td><td> 6.03</td><td> 77736</td><td> 6.07</td><td>8724.972</td><td>8724.97</td><td>8000.00</td><td>1423.66</td><td>0</td><td>2014-2016</td><td>2014-2016</td></tr>\n",
       "</tbody>\n",
       "</table>\n"
      ],
      "text/latex": [
       "A data.frame: 6 × 11\n",
       "\\begin{tabular}{r|lllllllllll}\n",
       "  & term & int\\_rate & annual\\_inc & dti & total\\_pymnt & total\\_pymnt\\_inv & total\\_rec\\_prncp & last\\_pymnt\\_amnt & repay\\_fail & last\\_pymnt\\_d & last\\_credit\\_pull\\_d\\\\\n",
       "  & <chr> & <dbl> & <dbl> & <dbl> & <dbl> & <dbl> & <dbl> & <dbl> & <dbl> & <chr> & <chr>\\\\\n",
       "\\hline\n",
       "\t1 & 36 months & 13.98 &  20004 & 19.86 & 3075.292 & 3075.29 & 2500.00 &   90.85 & 0 & 2011-2013 & 2014-2016\\\\\n",
       "\t2 & 36 months & 15.95 &  59000 & 19.57 & 2948.760 & 2948.76 & 1909.02 &  175.67 & 1 & 2011-2013 & 2011-2013\\\\\n",
       "\t3 & 36 months &  9.91 &  53796 & 10.80 & 8082.392 & 8082.39 & 7000.00 & 1550.27 & 0 & 2014-2016 & 2014-2016\\\\\n",
       "\t4 & 36 months &  5.42 &  30000 &  3.60 & 2161.663 & 2161.66 & 2000.00 &   53.12 & 0 & 2014-2016 & 2014-2016\\\\\n",
       "\t5 & 36 months & 10.25 & 675048 &  1.55 & 4206.031 & 4206.03 & 3600.00 &  146.75 & 0 & 2011-2013 & 2014-2016\\\\\n",
       "\t6 & 36 months &  6.03 &  77736 &  6.07 & 8724.972 & 8724.97 & 8000.00 & 1423.66 & 0 & 2014-2016 & 2014-2016\\\\\n",
       "\\end{tabular}\n"
      ],
      "text/markdown": [
       "\n",
       "A data.frame: 6 × 11\n",
       "\n",
       "| <!--/--> | term &lt;chr&gt; | int_rate &lt;dbl&gt; | annual_inc &lt;dbl&gt; | dti &lt;dbl&gt; | total_pymnt &lt;dbl&gt; | total_pymnt_inv &lt;dbl&gt; | total_rec_prncp &lt;dbl&gt; | last_pymnt_amnt &lt;dbl&gt; | repay_fail &lt;dbl&gt; | last_pymnt_d &lt;chr&gt; | last_credit_pull_d &lt;chr&gt; |\n",
       "|---|---|---|---|---|---|---|---|---|---|---|---|\n",
       "| 1 | 36 months | 13.98 |  20004 | 19.86 | 3075.292 | 3075.29 | 2500.00 |   90.85 | 0 | 2011-2013 | 2014-2016 |\n",
       "| 2 | 36 months | 15.95 |  59000 | 19.57 | 2948.760 | 2948.76 | 1909.02 |  175.67 | 1 | 2011-2013 | 2011-2013 |\n",
       "| 3 | 36 months |  9.91 |  53796 | 10.80 | 8082.392 | 8082.39 | 7000.00 | 1550.27 | 0 | 2014-2016 | 2014-2016 |\n",
       "| 4 | 36 months |  5.42 |  30000 |  3.60 | 2161.663 | 2161.66 | 2000.00 |   53.12 | 0 | 2014-2016 | 2014-2016 |\n",
       "| 5 | 36 months | 10.25 | 675048 |  1.55 | 4206.031 | 4206.03 | 3600.00 |  146.75 | 0 | 2011-2013 | 2014-2016 |\n",
       "| 6 | 36 months |  6.03 |  77736 |  6.07 | 8724.972 | 8724.97 | 8000.00 | 1423.66 | 0 | 2014-2016 | 2014-2016 |\n",
       "\n"
      ],
      "text/plain": [
       "  term      int_rate annual_inc dti   total_pymnt total_pymnt_inv\n",
       "1 36 months 13.98     20004     19.86 3075.292    3075.29        \n",
       "2 36 months 15.95     59000     19.57 2948.760    2948.76        \n",
       "3 36 months  9.91     53796     10.80 8082.392    8082.39        \n",
       "4 36 months  5.42     30000      3.60 2161.663    2161.66        \n",
       "5 36 months 10.25    675048      1.55 4206.031    4206.03        \n",
       "6 36 months  6.03     77736      6.07 8724.972    8724.97        \n",
       "  total_rec_prncp last_pymnt_amnt repay_fail last_pymnt_d last_credit_pull_d\n",
       "1 2500.00           90.85         0          2011-2013    2014-2016         \n",
       "2 1909.02          175.67         1          2011-2013    2011-2013         \n",
       "3 7000.00         1550.27         0          2014-2016    2014-2016         \n",
       "4 2000.00           53.12         0          2014-2016    2014-2016         \n",
       "5 3600.00          146.75         0          2011-2013    2014-2016         \n",
       "6 8000.00         1423.66         0          2014-2016    2014-2016         "
      ]
     },
     "metadata": {},
     "output_type": "display_data"
    }
   ],
   "source": [
    "head(loan_data_knn)"
   ]
  },
  {
   "cell_type": "markdown",
   "metadata": {},
   "source": [
    "El objetivo principal del siguiente código es preparar las variables categóricas en el conjunto de datos para que puedan ser utilizadas por el algoritmo k-NN. Esto se logra convirtiendo las variables categóricas en variables dummy (también conocidas como variables indicadoras), un proceso crucial porque el k-NN requiere que todas las variables de entrada sean numéricas para calcular distancias entre observaciones."
   ]
  },
  {
   "cell_type": "code",
   "execution_count": 52,
   "metadata": {
    "vscode": {
     "languageId": "r"
    }
   },
   "outputs": [
    {
     "data": {
      "text/html": [
       "<style>\n",
       ".list-inline {list-style: none; margin:0; padding: 0}\n",
       ".list-inline>li {display: inline-block}\n",
       ".list-inline>li:not(:last-child)::after {content: \"\\00b7\"; padding: 0 .5ex}\n",
       "</style>\n",
       "<ol class=list-inline><li>'term60.months'</li><li>'last_pymnt_d2011.2013'</li><li>'last_pymnt_d2014.2016'</li><li>'last_credit_pull_d2011.2013'</li><li>'last_credit_pull_d2014.2016'</li></ol>\n"
      ],
      "text/latex": [
       "\\begin{enumerate*}\n",
       "\\item 'term60.months'\n",
       "\\item 'last\\_pymnt\\_d2011.2013'\n",
       "\\item 'last\\_pymnt\\_d2014.2016'\n",
       "\\item 'last\\_credit\\_pull\\_d2011.2013'\n",
       "\\item 'last\\_credit\\_pull\\_d2014.2016'\n",
       "\\end{enumerate*}\n"
      ],
      "text/markdown": [
       "1. 'term60.months'\n",
       "2. 'last_pymnt_d2011.2013'\n",
       "3. 'last_pymnt_d2014.2016'\n",
       "4. 'last_credit_pull_d2011.2013'\n",
       "5. 'last_credit_pull_d2014.2016'\n",
       "\n",
       "\n"
      ],
      "text/plain": [
       "[1] \"term60.months\"               \"last_pymnt_d2011.2013\"      \n",
       "[3] \"last_pymnt_d2014.2016\"       \"last_credit_pull_d2011.2013\"\n",
       "[5] \"last_credit_pull_d2014.2016\""
      ]
     },
     "metadata": {},
     "output_type": "display_data"
    }
   ],
   "source": [
    "# las variables categoricas las paso a dummies con clases n-1\n",
    "# Especifico las columnas a convertir\n",
    "col_cate <- c(\"term\", \"last_pymnt_d\", \"last_credit_pull_d\")\n",
    "\n",
    "# Defino el objeto con las variables categóricas a convertir, usando\n",
    "# solo las columnas especificadas de loan_data_knn\n",
    "dv <- dummyVars(\"~ .\", data = loan_data_knn[, col_cate], fullRank = TRUE)\n",
    "\n",
    "# Creo el diseño de la matriz con las columnas especificadas\n",
    "design_matrix <- data.frame(predict(dv, newdata = loan_data_knn[, col_cate]))\n",
    "\n",
    "#reviso el nombre de las columnas de mi diseño de matriz\n",
    "colnames(design_matrix)"
   ]
  },
  {
   "cell_type": "markdown",
   "metadata": {},
   "source": [
    "Razón para Usar n-1 Clases al Convertir Columnas Categóricas a Dummies\n",
    "\n",
    "Al convertir variables categóricas en variables dummy, se utiliza n-1 clases para evitar la colinealidad. La colinealidad ocurre cuando una variable puede ser perfectamente predicha por una combinación lineal de otras variables, lo cual puede causar problemas en muchos modelos de machine learning y análisis estadístico.\n",
    "\n",
    "Por ejemplo, si una variable categórica tiene tres niveles: A, B y C, la conversión a variables dummy creará tres columnas: A, B y C. Si se incluyen las tres columnas en el modelo, la suma de las tres será siempre 1 (ya que cada observación pertenecerá a exactamente uno de los niveles), lo que introduce una dependencia perfecta entre las variables. Para evitar esto, se elimina una de las columnas (por ejemplo, la columna C), dejando solo las columnas A y B. Esto permite que el modelo utilice las variables dummy sin introducir colinealidad.\n",
    "\n",
    "Relevancia en el Contexto del Algoritmo k-NN\n",
    "\n",
    "El algoritmo k-NN utiliza distancias para identificar los vecinos más cercanos y, por lo tanto, requiere que todas las variables de entrada sean numéricas. Las variables categóricas, si no se transforman, no pueden ser utilizadas directamente para calcular estas distancias. Al convertir las variables categóricas en dummies, garantizamos que el algoritmo pueda considerar todas las características relevantes en sus cálculos de distancia."
   ]
  },
  {
   "cell_type": "code",
   "execution_count": 53,
   "metadata": {
    "vscode": {
     "languageId": "r"
    }
   },
   "outputs": [
    {
     "data": {
      "text/html": [
       "<style>\n",
       ".list-inline {list-style: none; margin:0; padding: 0}\n",
       ".list-inline>li {display: inline-block}\n",
       ".list-inline>li:not(:last-child)::after {content: \"\\00b7\"; padding: 0 .5ex}\n",
       "</style>\n",
       "<ol class=list-inline><li>38345</li><li>13</li></ol>\n"
      ],
      "text/latex": [
       "\\begin{enumerate*}\n",
       "\\item 38345\n",
       "\\item 13\n",
       "\\end{enumerate*}\n"
      ],
      "text/markdown": [
       "1. 38345\n",
       "2. 13\n",
       "\n",
       "\n"
      ],
      "text/plain": [
       "[1] 38345    13"
      ]
     },
     "metadata": {},
     "output_type": "display_data"
    }
   ],
   "source": [
    "# Elimino las columnas originales de loan_data_knn\n",
    "loan_data_knn <- loan_data_knn[, -which(names(loan_data_knn) %in% col_cate)]\n",
    "# Agrego las columnas de diseño de matriz a loan_data_knn\n",
    "loan_data_knn <- cbind(loan_data_knn, design_matrix)\n",
    "# compruebo que las columnas se han añadido correctamente\n",
    "dim(loan_data_knn)"
   ]
  },
  {
   "cell_type": "markdown",
   "metadata": {},
   "source": [
    "Ahora eliminé las columnas originales de las cuales transformé a columnas con valores dummies"
   ]
  },
  {
   "cell_type": "markdown",
   "metadata": {},
   "source": [
    "La siguientes 2 celdas normalizan todas las variables en el conjunto de datos para que estén en un rango de 0 a 1. Este paso es crucial para el algoritmo k-NN, ya que las diferentes escalas de las variables pueden afectar los cálculos de distancia y, por lo tanto, la precisión del modelo."
   ]
  },
  {
   "cell_type": "code",
   "execution_count": 54,
   "metadata": {
    "vscode": {
     "languageId": "r"
    }
   },
   "outputs": [],
   "source": [
    "# Función de normalización\n",
    "normalizar <- function(x) {\n",
    "  return((x - min(x)) / (max(x) - min(x)))\n",
    "}"
   ]
  },
  {
   "cell_type": "code",
   "execution_count": 55,
   "metadata": {
    "vscode": {
     "languageId": "r"
    }
   },
   "outputs": [
    {
     "data": {
      "text/plain": [
       "    int_rate        annual_inc            dti          total_pymnt     \n",
       " Min.   :0.0000   Min.   :0.000000   Min.   :0.0000   Min.   :0.00000  \n",
       " Max.   :1.0000   Max.   :1.000000   Max.   :1.0000   Max.   :1.00000  \n",
       " total_pymnt_inv   total_rec_prncp  last_pymnt_amnt      repay_fail    \n",
       " Min.   :0.00000   Min.   :0.0000   Min.   :0.000000   Min.   :0.0000  \n",
       " Max.   :1.00000   Max.   :1.0000   Max.   :1.000000   Max.   :1.0000  \n",
       " term60.months    last_pymnt_d2011.2013 last_pymnt_d2014.2016\n",
       " Min.   :0.0000   Min.   :0.0000        Min.   :0.0000       \n",
       " Max.   :1.0000   Max.   :1.0000        Max.   :1.0000       \n",
       " last_credit_pull_d2011.2013 last_credit_pull_d2014.2016\n",
       " Min.   :0.0000              Min.   :0.0000             \n",
       " Max.   :1.0000              Max.   :1.0000             "
      ]
     },
     "metadata": {},
     "output_type": "display_data"
    }
   ],
   "source": [
    "# Normalizo todas las columnas de loan_data_knn\n",
    "loan_data_knn <- as.data.frame(lapply(loan_data_knn, normalizar))\n",
    "# verifico que las columnas se han normalizado correctamente\n",
    "# Quiero verificar que todos mis columnas tengan como mínimo 0 y como máximo 1\n",
    "summary(loan_data_knn)[c(1, 6), ]"
   ]
  },
  {
   "cell_type": "markdown",
   "metadata": {},
   "source": [
    "El algoritmo k-NN calcula distancias entre observaciones para identificar los vecinos más cercanos. Si las variables tienen diferentes escalas, aquellas con valores más grandes pueden dominar los cálculos de distancia, lo que puede llevar a resultados sesgados. Normalizar las variables asegura que cada una contribuya de manera equitativa a los cálculos de distancia, mejorando la precisión del modelo."
   ]
  },
  {
   "cell_type": "markdown",
   "metadata": {},
   "source": [
    "La siguiente celda convierte la variable objetivo repay_fail en un factor. Este paso es crucial para los algoritmos de clasificación como k-NN, que requiere que la variable objetivo esté en formato categórico (factor) para realizar predicciones correctamente"
   ]
  },
  {
   "cell_type": "code",
   "execution_count": 56,
   "metadata": {
    "vscode": {
     "languageId": "r"
    }
   },
   "outputs": [
    {
     "data": {
      "text/html": [
       "'factor'"
      ],
      "text/latex": [
       "'factor'"
      ],
      "text/markdown": [
       "'factor'"
      ],
      "text/plain": [
       "[1] \"factor\""
      ]
     },
     "metadata": {},
     "output_type": "display_data"
    },
    {
     "data": {
      "text/plain": [
       "\n",
       "    0     1 \n",
       "32606  5739 "
      ]
     },
     "metadata": {},
     "output_type": "display_data"
    }
   ],
   "source": [
    "#quiero dejar la variable target como factor\n",
    "# Convierto 'repay_fail' a formato factor\n",
    "loan_data_knn$repay_fail <- as.factor(loan_data_knn$repay_fail)\n",
    "\n",
    "# Verifico la clase de 'repay_fail'\n",
    "class(loan_data_knn$repay_fail)\n",
    "\n",
    "# Verifico los niveles del factor\n",
    "table(loan_data_knn$repay_fail)"
   ]
  },
  {
   "cell_type": "code",
   "execution_count": 57,
   "metadata": {
    "vscode": {
     "languageId": "r"
    }
   },
   "outputs": [],
   "source": [
    "#exporto el dataset final\n",
    "write.csv(loan_data_knn, \"loan_data_knn_ML_python.csv\", row.names = FALSE)"
   ]
  },
  {
   "cell_type": "markdown",
   "metadata": {},
   "source": [
    "El objetivo de la siguiente celda de código es dividir el conjunto de datos en conjuntos de entrenamiento y prueba, asegurando que la proporción de la variable objetivo (repay_fail) se mantenga igual en ambos conjuntos. Este paso es crucial para evaluar correctamente el rendimiento del modelo, ya que garantiza que ambos conjuntos sean representativos de la distribución original de los datos."
   ]
  },
  {
   "cell_type": "code",
   "execution_count": 58,
   "metadata": {
    "vscode": {
     "languageId": "r"
    }
   },
   "outputs": [
    {
     "data": {
      "text/plain": [
       "\n",
       "   0    1 \n",
       "0.85 0.15 "
      ]
     },
     "metadata": {},
     "output_type": "display_data"
    },
    {
     "data": {
      "text/plain": [
       "\n",
       "   0    1 \n",
       "0.85 0.15 "
      ]
     },
     "metadata": {},
     "output_type": "display_data"
    }
   ],
   "source": [
    "### Splitting inicial de los datos\n",
    "set.seed(123) # Semilla\n",
    "# Muestreo Estratificado\n",
    "split <- initial_split(loan_data_knn, prop = 0.7, strata = \"repay_fail\")\n",
    "loan_data_knn_train <- training(split)\n",
    "loan_data_knn_test <- testing(split)\n",
    "\n",
    "# Compruebo proporción de \"repay_fail\"\n",
    "round(prop.table(table(loan_data_knn_train$repay_fail)), 2)\n",
    "round(prop.table(table(loan_data_knn_test$repay_fail)), 2)\n",
    "\n",
    "# Vectores variable objetivo\n",
    "repay_fail_train <- loan_data_knn_train$repay_fail\n",
    "repay_fail_test  <- loan_data_knn_test$repay_fail"
   ]
  },
  {
   "cell_type": "markdown",
   "metadata": {},
   "source": [
    "La división adecuada de los datos es esencial para evaluar el rendimiento de cualquier modelo de machine learning, incluido k-NN. Usar muestreo estratificado asegura que la proporción de clases en la variable objetivo se mantenga constante entre los conjuntos de entrenamiento y prueba, lo que es crucial para obtener una evaluación precisa del modelo. Esto ayuda a prevenir problemas como el sesgo en la evaluación del rendimiento del modelo.\n",
    "\n",
    "Los resultados obtenidos muestran que tanto el conjunto de entrenamiento como el de prueba tienen una proporción de 85% para la clase 0 y 15% para la clase 1, lo cual indica que la estratificación se ha realizado correctamente."
   ]
  },
  {
   "cell_type": "markdown",
   "metadata": {},
   "source": [
    "k-NN de Clasificacion\n",
    "\n",
    "1era forma: Paquete kknn que permite configuracion de parametros k, distancia y kernel, para esta version se colocarán parametros suboptimos de forma manual, sin saber hiperparametro y parametros optimos que se obtendran mediante remuestreo y grilla, lo que se realizará posteriormente en la 2da forma."
   ]
  },
  {
   "cell_type": "markdown",
   "metadata": {},
   "source": [
    "1.1 Evaluacion del modelo, mediante metrica de accuracy, teniendo como output un vector de niveles"
   ]
  },
  {
   "cell_type": "markdown",
   "metadata": {},
   "source": [
    "El objetivo del siguiente trozo de código es evaluar el rendimiento de un modelo k-NN de clasificación utilizando el paquete kknn en R. En esta primera forma, se configuran manualmente algunos parámetros del modelo (k, distancia y kernel) para realizar una evaluación preliminar mediante la métrica de precisión (accuracy)."
   ]
  },
  {
   "cell_type": "code",
   "execution_count": 59,
   "metadata": {
    "vscode": {
     "languageId": "r"
    }
   },
   "outputs": [
    {
     "data": {
      "text/plain": [
       "          Reference\n",
       "Prediction    0    1\n",
       "         0 9395  674\n",
       "         1  387 1048"
      ]
     },
     "metadata": {},
     "output_type": "display_data"
    },
    {
     "data": {
      "text/html": [
       "<strong>Accuracy:</strong> 0.907771210013908"
      ],
      "text/latex": [
       "\\textbf{Accuracy:} 0.907771210013908"
      ],
      "text/markdown": [
       "**Accuracy:** 0.907771210013908"
      ],
      "text/plain": [
       " Accuracy \n",
       "0.9077712 "
      ]
     },
     "metadata": {},
     "output_type": "display_data"
    }
   ],
   "source": [
    "# Evaluación del modelo con kknn\n",
    "set.seed(12345)\n",
    "kknn_level <- kknn(repay_fail ~ ., loan_data_knn_train,\n",
    "                   loan_data_knn_test\n",
    "                   [, colnames(loan_data_knn_test) != \"repay_fail\"],\n",
    "                   k = 7, distance = 2, kernel = \"optimal\")\n",
    "kknn_level <- kknn_level$fitted.values\n",
    "\n",
    "# Resultados\n",
    "results <- confusionMatrix(kknn_level, repay_fail_test)\n",
    "results$table\n",
    "results$overall[names(results$overall) == \"Accuracy\"]"
   ]
  },
  {
   "cell_type": "markdown",
   "metadata": {},
   "source": [
    "Configuración Inicial y Entrenamiento del Modelo:\n",
    "\n",
    "Se establece una semilla para asegurar la reproducibilidad de los resultados.\n",
    "\n",
    "Se entrena el modelo k-NN con parámetros configurados manualmente:\n",
    "\n",
    "- k=7: número de vecinos.\n",
    "- distance=2: distancia euclidiana.\n",
    "- kernel=\"optimal\": tipo de kernel utilizado.\n",
    "\n",
    "Se obtienen los valores predichos del modelo.\n",
    "\n",
    "Evaluación del Modelo:\n",
    "\n",
    "- Se utiliza la matriz de confusión para evaluar el rendimiento del modelo.\n",
    "- Se calcula la precisión (accuracy) del modelo, que es la proporción de predicciones correctas sobre el total de predicciones.\n",
    "\n",
    "- **True Negatives (TN)**: Indican el número de clientes correctamente identificados como no fallidos en el pago del préstamo. Esto es crucial para evitar la pérdida de buenos clientes.\n",
    "- **False Positives (FP)**: Indican el número de clientes incorrectamente identificados como fallidos en el pago del préstamo. Este error puede llevar a la pérdida de clientes potencialmente valiosos.\n",
    "- **False Negatives (FN)**: Indican el número de clientes incorrectamente identificados como no fallidos en el pago del préstamo. Este error es especialmente costoso, ya que representa clientes que representan un riesgo pero no fueron identificados como tales.\n",
    "- **True Positives (TP)**: Indican el número de clientes correctamente identificados como fallidos en el pago del préstamo. Identificar correctamente estos clientes ayuda a mitigar riesgos financieros.\n",
    "\n",
    "Interpretación de los Resultados\n",
    "\n",
    "Matriz de Confusión:\n",
    "\n",
    "- **True Negatives (TN)**: 9395 (Clientes predichos correctamente como que no fallarán en el pago del préstamo).\n",
    "- **False Positives (FP)**: 387 (Clientes predichos incorrectamente como que fallarán en el pago del préstamo, pero en realidad no fallarán).\n",
    "- **False Negatives (FN)**: 674 (Clientes predichos incorrectamente como que no fallarán en el pago del préstamo, pero en realidad sí fallarán).\n",
    "- **True Positives (TP)**: 1048 (Clientes predichos correctamente como que fallarán en el pago del préstamo).\n",
    "\n",
    "Precisión (Accuracy):\n",
    "\n",
    "- La precisión del modelo es aproximadamente 90.78%, lo que indica que el modelo clasifica correctamente el 90.78% de las observaciones en el conjunto de prueba."
   ]
  },
  {
   "cell_type": "markdown",
   "metadata": {},
   "source": [
    "1.2 Evaluacion del modelo mediante ROC, teniendo como output un vector de probabilidades"
   ]
  },
  {
   "cell_type": "markdown",
   "metadata": {},
   "source": [
    "La siguiente celda evalua el rendimiento de un modelo k-NN de clasificación utilizando la curva ROC y las probabilidades de pertenencia a las clases. Esto permite una evaluación más detallada y precisa del modelo comparada con solo usar la matriz de confusión y la precisión (accuracy)."
   ]
  },
  {
   "cell_type": "code",
   "execution_count": 60,
   "metadata": {
    "vscode": {
     "languageId": "r"
    }
   },
   "outputs": [],
   "source": [
    "# Evaluación del modelo con kknn y salida de probabilidades\n",
    "set.seed(12345)\n",
    "kknn_prob <- kknn(repay_fail ~ ., loan_data_knn_train,\n",
    "                  loan_data_knn_test\n",
    "                  [, colnames(loan_data_knn_test) != \"repay_fail\"],\n",
    "                  k = 7, distance = 2, kernel = \"optimal\")\n",
    "kknn_prob <- kknn_prob$prob\n",
    "kknn_prob <- as.numeric(kknn_prob[, colnames(kknn_prob) == \"1\"])"
   ]
  },
  {
   "cell_type": "code",
   "execution_count": 61,
   "metadata": {
    "vscode": {
     "languageId": "r"
    }
   },
   "outputs": [
    {
     "data": {
      "text/html": [
       "0.502203814785806"
      ],
      "text/latex": [
       "0.502203814785806"
      ],
      "text/markdown": [
       "0.502203814785806"
      ],
      "text/plain": [
       "[1] 0.5022038"
      ]
     },
     "metadata": {},
     "output_type": "display_data"
    }
   ],
   "source": [
    "# Umbral nivel/probabilidad\n",
    "level_prob <- data.frame(kknn_level, kknn_prob)\n",
    "level_prob <- min(level_prob[level_prob$kknn_level == \"1\", \"kknn_prob\"])\n",
    "level_prob"
   ]
  },
  {
   "cell_type": "markdown",
   "metadata": {},
   "source": [
    "Umbral de Probabilidad:\n",
    "\n",
    "El umbral calculado (0.502) indica la probabilidad mínima a partir de la cual las observaciones se clasifican como Class_1 (clientes que fallarán en el pago del préstamo). Este umbral se puede ajustar para mejorar la sensibilidad o la especificidad del modelo, osea que ajustar este umbral puede ayudar a balancear la tasa de falsos positivos y falsos negativos, lo cual es crucial para la toma de decisiones en un contexto financiero."
   ]
  },
  {
   "cell_type": "markdown",
   "metadata": {},
   "source": [
    "El objetivo del siguiente código es evaluar el rendimiento del modelo k-NN utilizando la curva ROC para determinar el punto de corte óptimo que maximiza la suma de sensibilidad y especificidad. Luego, se convierte el vector de probabilidades en clases binarias usando este punto de corte óptimo y se evalúa el rendimiento del modelo mediante la matriz de confusión."
   ]
  },
  {
   "cell_type": "code",
   "execution_count": 62,
   "metadata": {
    "vscode": {
     "languageId": "r"
    }
   },
   "outputs": [
    {
     "data": {
      "text/plain": [
       "          Reference\n",
       "Prediction    0    1\n",
       "         0 8371  350\n",
       "         1 1411 1372"
      ]
     },
     "metadata": {},
     "output_type": "display_data"
    },
    {
     "data": {
      "text/html": [
       "1.65250343670887"
      ],
      "text/latex": [
       "1.65250343670887"
      ],
      "text/markdown": [
       "1.65250343670887"
      ],
      "text/plain": [
       "[1] 1.652503"
      ]
     },
     "metadata": {},
     "output_type": "display_data"
    },
    {
     "data": {
      "image/png": "[encoded data removed]",
      "text/plain": [
       "Plot with title \"ROC curve\""
      ]
     },
     "metadata": {
      "image/png": {
       "height": 420,
       "width": 420
      }
     },
     "output_type": "display_data"
    }
   ],
   "source": [
    "# ROC\n",
    "kknn_roc_curve <- roc(repay_fail_test, kknn_prob,\n",
    "                      levels = c(\"0\", \"1\"), direction = \"<\")\n",
    "plot.roc(kknn_roc_curve, main = \"ROC curve\", col = \"blue\", lwd = 2,\n",
    "         legacy.axes = TRUE, print.thres = \"best\", print.auc = TRUE)\n",
    "\n",
    "# Calculo el punto de corte óptimo basado en la suma\n",
    "# de sensibilidades y especificidades\n",
    "aux <- kknn_roc_curve$sensitivities + kknn_roc_curve$specificities\n",
    "corte <- kknn_roc_curve$thresholds[which(aux == max(aux))]\n",
    "\n",
    "# Convierto las probabilidades a clases binarias usando el punto de corte óptimo\n",
    "kknn_prob <- ifelse(kknn_prob < corte, 0, 1)\n",
    "kknn_prob <- factor(kknn_prob, levels = c(0, 1),\n",
    "                    labels = c(\"0\", \"1\"))\n",
    "\n",
    "# Resultados\n",
    "results <- confusionMatrix(kknn_prob, repay_fail_test)\n",
    "results$table\n",
    "sensitivity(kknn_prob, repay_fail_test) +\n",
    "  specificity(kknn_prob, repay_fail_test)"
   ]
  },
  {
   "cell_type": "markdown",
   "metadata": {},
   "source": [
    "Interpretación de los Resultados\n",
    "Matriz de Confusión:\n",
    "\n",
    "- True Negatives (TN): 8371 (Clientes predichos correctamente como que no fallarán en el pago del préstamo).\n",
    "- False Positives (FP): 1411 (Clientes predichos incorrectamente como que fallarán en el pago del préstamo, pero en realidad no fallarán).\n",
    "- False Negatives (FN): 350 (Clientes predichos incorrectamente como que no fallarán en el pago del préstamo, pero en realidad sí fallarán).\n",
    "- True Positives (TP): 1372 (Clientes predichos correctamente como que fallarán en el pago del préstamo).\n",
    "\n",
    "Curva ROC y AUC:\n",
    "\n",
    "- La curva ROC muestra la relación entre la tasa de verdaderos positivos (sensibilidad) y la tasa de falsos positivos (1 - especificidad).\n",
    "- El área bajo la curva (AUC) es 0.892, lo que indica una buena capacidad del modelo para distinguir entre clientes que fallarán y no fallarán en el pago del préstamo.\n",
    "\n",
    "- La sensibilidad (True Positive Rate) es la proporción de verdaderos positivos correctamente identificados por el modelo.\n",
    "- La especificidad (True Negative Rate) es la proporción de verdaderos negativos correctamente identificados por el modelo.\n",
    "\n",
    "Suma de Sensibilidad y Especificidad:\n",
    "\n",
    "- La suma de sensibilidad y especificidad es 1.65, lo que refleja un buen equilibrio entre ambos aspectos en el punto de corte óptimo."
   ]
  },
  {
   "cell_type": "code",
   "execution_count": 63,
   "metadata": {
    "vscode": {
     "languageId": "r"
    }
   },
   "outputs": [],
   "source": [
    "# Elimino objetos\n",
    "rm(kknn_level, kknn_prob, level_prob, results, kknn_roc_curve, aux, corte)"
   ]
  },
  {
   "cell_type": "markdown",
   "metadata": {},
   "source": [
    "2da forma: Paquete kknn que permite configuracion de parametros k, distancia y kernel, para esta version se buscarán los mejores 3 parametros (k, distancia y kernel), para estos efectos se utilizará el remuestreo k-fold CV y grilla."
   ]
  },
  {
   "cell_type": "markdown",
   "metadata": {},
   "source": [
    "2.1 Evaluacion del modelo, mediante metrica de accuracy, teniendo como output un vector de niveles"
   ]
  },
  {
   "cell_type": "markdown",
   "metadata": {},
   "source": [
    "El objetivo de la siguiente celda de código es encontrar los mejores hiperparámetros para el modelo k-NN utilizando el paquete kknn en R. Se realiza una búsqueda exhaustiva de los hiperparámetros óptimos (k, distancia y kernel) utilizando el remuestreo k-fold cross-validation y una grilla de hiperparámetros. Finalmente, se evalúa el modelo utilizando la métrica de precisión (accuracy)."
   ]
  },
  {
   "cell_type": "code",
   "execution_count": 64,
   "metadata": {
    "vscode": {
     "languageId": "r"
    }
   },
   "outputs": [],
   "source": [
    "# Estrategia\n",
    "cv <- trainControl(method = \"cv\", number = 2)\n",
    "\n",
    "# Parámetros\n",
    "hyper_grid <- expand.grid(kmax = seq(5, 35, 2), distance = seq(1, 3, 1),\n",
    "                          kernel = \"optimal\")"
   ]
  },
  {
   "cell_type": "markdown",
   "metadata": {},
   "source": [
    "Configuración de la Estrategia de Remuestreo:\n",
    "\n",
    "Se define una estrategia de remuestreo utilizando k-fold cross-validation con 2 folds.\n",
    "\n",
    "Se crea una grilla de hiperparámetros con diferentes valores para kmax, distance y kernel."
   ]
  },
  {
   "cell_type": "code",
   "execution_count": 65,
   "metadata": {
    "vscode": {
     "languageId": "r"
    }
   },
   "outputs": [
    {
     "data": {
      "text/plain": [
       "k-Nearest Neighbors \n",
       "\n",
       "26841 samples\n",
       "   12 predictor\n",
       "    2 classes: '0', '1' \n",
       "\n",
       "No pre-processing\n",
       "Resampling: Cross-Validated (2 fold) \n",
       "Summary of sample sizes: 13421, 13420 \n",
       "Resampling results across tuning parameters:\n",
       "\n",
       "  kmax  distance  Accuracy   Kappa    \n",
       "   5    1         0.9053314  0.6021425\n",
       "   5    2         0.8974703  0.5705626\n",
       "   5    3         0.8966507  0.5652583\n",
       "   7    1         0.9086845  0.6084157\n",
       "   7    2         0.9007862  0.5760751\n",
       "   7    3         0.8995195  0.5683451\n",
       "   9    1         0.9096904  0.6087484\n",
       "   9    2         0.9037667  0.5834413\n",
       "   9    3         0.9025372  0.5761324\n",
       "  11    1         0.9115160  0.6106203\n",
       "  11    2         0.9060021  0.5857015\n",
       "  11    3         0.9052197  0.5803612\n",
       "  13    1         0.9124847  0.6114094\n",
       "  13    2         0.9074923  0.5880011\n",
       "  13    3         0.9070080  0.5845428\n",
       "  15    1         0.9125964  0.6102182\n",
       "  15    2         0.9086473  0.5904283\n",
       "  15    3         0.9072688  0.5843149\n",
       "  17    1         0.9128200  0.6090507\n",
       "  17    2         0.9089826  0.5898564\n",
       "  17    3         0.9072688  0.5843149\n",
       "  19    1         0.9128200  0.6090507\n",
       "  19    2         0.9091316  0.5886004\n",
       "  19    3         0.9078276  0.5798650\n",
       "  21    1         0.9128200  0.6090507\n",
       "  21    2         0.9091316  0.5886004\n",
       "  21    3         0.9078276  0.5798650\n",
       "  23    1         0.9128200  0.6090507\n",
       "  23    2         0.9091316  0.5886004\n",
       "  23    3         0.9078276  0.5798650\n",
       "  25    1         0.9128200  0.6090507\n",
       "  25    2         0.9091316  0.5886004\n",
       "  25    3         0.9078276  0.5798650\n",
       "  27    1         0.9128200  0.6090507\n",
       "  27    2         0.9091316  0.5886004\n",
       "  27    3         0.9078276  0.5798650\n",
       "  29    1         0.9128200  0.6090507\n",
       "  29    2         0.9091316  0.5886004\n",
       "  29    3         0.9078276  0.5798650\n",
       "  31    1         0.9128200  0.6090507\n",
       "  31    2         0.9091316  0.5886004\n",
       "  31    3         0.9078276  0.5798650\n",
       "  33    1         0.9128200  0.6090507\n",
       "  33    2         0.9091316  0.5886004\n",
       "  33    3         0.9066727  0.5692750\n",
       "  35    1         0.9128200  0.6090507\n",
       "  35    2         0.9091316  0.5886004\n",
       "  35    3         0.9066727  0.5692750\n",
       "\n",
       "Tuning parameter 'kernel' was held constant at a value of optimal\n",
       "Accuracy was used to select the optimal model using the largest value.\n",
       "The final values used for the model were kmax = 35, distance = 1 and kernel\n",
       " = optimal."
      ]
     },
     "metadata": {},
     "output_type": "display_data"
    },
    {
     "data": {
      "image/png": "[encoded data removed]",
      "text/plain": [
       "plot without title"
      ]
     },
     "metadata": {
      "image/png": {
       "height": 420,
       "width": 420
      }
     },
     "output_type": "display_data"
    }
   ],
   "source": [
    "# Configuración del procesamiento en paralelo\n",
    "# Detecta el número de núcleos disponibles\n",
    "num_cores <- detectCores()\n",
    "# Crear cluster\n",
    "# Usar todos menos uno para no sobrecargar el sistema\n",
    "cl <- makeCluster(num_cores - 1)\n",
    "# Registrar el cluster\n",
    "registerDoParallel(cl)\n",
    "\n",
    "# Entrenamiento\n",
    "# tomó 39 minutos\n",
    "set.seed(12345)\n",
    "kknn_fit <- train(repay_fail ~ ., data = loan_data_knn_train, method = \"kknn\",\n",
    "                  metric = \"Accuracy\", trControl = cv, tuneGrid = hyper_grid)\n",
    "kknn_fit\n",
    "ggplot(kknn_fit)\n",
    "\n",
    "# Detener el cluster\n",
    "stopCluster(cl)\n",
    "registerDoSEQ() # Registramos la secuencia por defecto"
   ]
  },
  {
   "cell_type": "markdown",
   "metadata": {},
   "source": [
    "Interpretación de los Resultados\n",
    "\n",
    "Gráfico de Resultados:\n",
    "\n",
    "El gráfico muestra la precisión (accuracy) obtenida para diferentes combinaciones de hiperparámetros (k, distancia y kernel).\n",
    "\n",
    "Hiperparámetros Óptimos:\n",
    "\n",
    "Aunque el modelo seleccionó kmax = 25, distancia = 1 y kernel = \"optimal\", se observó que la precisión fue la misma para kmax = 17 y kmax = 25. Por lo tanto, se seleccionó kmax = 17 para mayor simplicidad y eficiencia computacional.\n",
    "\n",
    "Relevancia en el Contexto del Algoritmo k-NN\n",
    "\n",
    "La búsqueda exhaustiva de los hiperparámetros óptimos es crucial para mejorar el rendimiento del modelo k-NN. Utilizar técnicas de remuestreo como k-fold cross-validation asegura que el modelo se evalúe de manera robusta y generalice bien a datos nuevos.\n",
    "\n",
    "En el proyecto se está utilizando el k-NN para predecir si un cliente fallará en el pago de su préstamo (repay_fail). La optimización de los hiperparámetros (k, distancia y kernel) mediante una búsqueda en grilla y k-fold cross-validation permite mejorar la precisión del modelo, asegurando que las predicciones sean más confiables.\n",
    "\n",
    "- Eficiencia Computacional: Seleccionar un valor de k más pequeño cuando la precisión es la misma puede reducir el tiempo de cómputo y la complejidad del modelo sin sacrificar precisión.\n",
    "\n",
    "- Remuestreo: Usar k-fold cross-validation proporciona una evaluación más fiable del rendimiento del modelo al reducir la varianza que podría resultar de una sola división del conjunto de datos."
   ]
  },
  {
   "cell_type": "markdown",
   "metadata": {},
   "source": [
    "En la siguiente celda se evalua el rendimiento del modelo k-NN utilizando los mejores hiperparámetros (k = 17, distance = 1, kernel = \"optimal\") que se identificaron mediante la búsqueda en grilla y k-fold cross-validation. La métrica utilizada para esta evaluación es la precisión (accuracy)"
   ]
  },
  {
   "cell_type": "code",
   "execution_count": null,
   "metadata": {
    "vscode": {
     "languageId": "r"
    }
   },
   "outputs": [],
   "source": [
    "# Best Model - Accuracy\n",
    "set.seed(12345)\n",
    "kknn_acc <- kknn(repay_fail ~ ., loan_data_knn_train,\n",
    "                 loan_data_knn_test[, colnames(loan_data_knn_test) !=\n",
    "                                      \"repay_fail\"],\n",
    "                 k = 17, distance = 1, kernel = \"optimal\")\n",
    "kknn_acc <- kknn_acc$fitted.values"
   ]
  },
  {
   "cell_type": "code",
   "execution_count": null,
   "metadata": {
    "vscode": {
     "languageId": "r"
    }
   },
   "outputs": [],
   "source": [
    "## Resultados\n",
    "results <- confusionMatrix(kknn_acc, repay_fail_test)\n",
    "results$table\n",
    "results$overall[names(results$overall) == \"Accuracy\"]"
   ]
  },
  {
   "cell_type": "markdown",
   "metadata": {},
   "source": [
    "Interpretación de los Resultados\n",
    "\n",
    "Matriz de Confusión:\n",
    "\n",
    "- True Negatives (TN): 9571 (Clientes predichos correctamente como que no fallarán en el pago del préstamo).\n",
    "- False Positives (FP): 211 (Clientes predichos incorrectamente como que fallarán en el pago del préstamo, pero en realidad no fallarán).\n",
    "- False Negatives (FN): 704 (Clientes predichos incorrectamente como que no fallarán en el pago del préstamo, pero en realidad sí fallarán).\n",
    "- True Positives (TP): 1018 (Clientes predichos correctamente como que fallarán en el pago del préstamo).\n",
    "\n",
    "Precisión (Accuracy):\n",
    "\n",
    "La precisión del modelo es aproximadamente 92.05%, lo que indica que el modelo clasifica correctamente el 92.05% de las observaciones en el conjunto de prueba."
   ]
  },
  {
   "cell_type": "markdown",
   "metadata": {},
   "source": [
    "- True Negatives (TN) y True Positives (TP) son cruciales para identificar correctamente a los clientes que no representan un riesgo y aquellos que sí lo representan, respectivamente.\n",
    "- False Positives (FP) y False Negatives (FN) deben minimizarse para evitar la pérdida de buenos clientes y no subestimar el riesgo de clientes problemáticos."
   ]
  },
  {
   "cell_type": "markdown",
   "metadata": {},
   "source": [
    "2.2 Evaluacion del modelo mediante ROC, teniendo como output un vector de probabilidades"
   ]
  },
  {
   "cell_type": "markdown",
   "metadata": {},
   "source": [
    "El siguiente código configura una estrategia para evaluar el rendimiento del modelo k-NN utilizando la curva ROC, teniendo como output un vector de probabilidades. Se define una estrategia de remuestreo k-fold cross-validation y se crea una grilla de hiperparámetros para encontrar la mejor combinación de k, distancia y kernel."
   ]
  },
  {
   "cell_type": "code",
   "execution_count": null,
   "metadata": {
    "vscode": {
     "languageId": "r"
    }
   },
   "outputs": [],
   "source": [
    "# Estrategia\n",
    "cv <- trainControl(method = \"cv\", number = 2, classProbs = TRUE,\n",
    "                   summaryFunction = twoClassSummary)\n",
    "\n",
    "# Parámetros\n",
    "hyper_grid <- expand.grid(kmax = seq(5, 25, 4), distance = seq(1, 3, 1),\n",
    "                          kernel = c(\"triangular\", \"gaussian\", \"rank\",\n",
    "                                     \"optimal\"))"
   ]
  },
  {
   "cell_type": "markdown",
   "metadata": {},
   "source": [
    "Lo que hace el siguiente código es entrenar y evaluar un modelo k-NN utilizando k-fold cross-validation con una grilla de hiperparámetros para optimizar el ROC. La evaluación se realiza utilizando el área bajo la curva ROC (AUC), que mide la capacidad del modelo para distinguir entre clases. Además, se busca identificar los mejores hiperparámetros (k, distancia y kernel)."
   ]
  },
  {
   "cell_type": "code",
   "execution_count": null,
   "metadata": {
    "vscode": {
     "languageId": "r"
    }
   },
   "outputs": [],
   "source": [
    "# Configuración del procesamiento en paralelo\n",
    "# Detecta el número de núcleos disponibles\n",
    "num_cores <- detectCores()\n",
    "# Crear cluster\n",
    "# Usar todos menos uno para no sobrecargar el sistema\n",
    "cl <- makeCluster(num_cores - 1)\n",
    "# Registrar el cluster\n",
    "registerDoParallel(cl)\n",
    "\n",
    "# Me aseguro de que los niveles de 'repay_fail' sean nombres válidos\n",
    "loan_data_knn_train$repay_fail <- factor(loan_data_knn_train$repay_fail,\n",
    "                                         levels = c(\"0\", \"1\"),\n",
    "                                         labels = c(\"Class_0\", \"Class_1\"))\n",
    "loan_data_knn_test$repay_fail <- factor(loan_data_knn_test$repay_fail,\n",
    "                                        levels = c(\"0\", \"1\"),\n",
    "                                        labels = c(\"Class_0\", \"Class_1\"))\n",
    "# Entrenamiento\n",
    "# tomó 52 minutos\n",
    "set.seed(12345)\n",
    "kknn_fit <- train(repay_fail ~ ., data = loan_data_knn_train, method = \"kknn\",\n",
    "                  metric = \"ROC\", trControl = cv, tuneGrid = hyper_grid)\n",
    "kknn_fit\n",
    "ggplot(kknn_fit)\n",
    "\n",
    "# Detener el cluster\n",
    "stopCluster(cl)\n",
    "registerDoSEQ() # Registramos la secuencia por defecto"
   ]
  },
  {
   "cell_type": "markdown",
   "metadata": {},
   "source": [
    "Interpretación de los Resultados\n",
    "Evaluación de Hiperparámetros:\n",
    "\n",
    "- kmax = 17 y kmax = 25: Los valores de kmax de 17 y 25 muestran un rendimiento similar en términos de AUC, por lo que se seleccionó k = 17 para mayor simplicidad y eficiencia computacional.\n",
    "- Distance = 1: La distancia óptima identificada es 1.\n",
    "- Kernel = \"optimal\": El kernel óptimo es \"optimal\".\n",
    "\n",
    "Métricas de Rendimiento:\n",
    "\n",
    "- ROC: La métrica ROC fue utilizada para seleccionar el modelo óptimo. Un ROC más alto indica una mejor capacidad del modelo para distinguir entre las clases.\n",
    "\n",
    "- Sensibilidad y Especificidad:\n",
    "\n",
    "- La sensibilidad (True Positive Rate) es la proporción de verdaderos positivos correctamente identificados por el modelo.\n",
    "- La especificidad (True Negative Rate) es la proporción de verdaderos negativos correctamente identificados por el modelo."
   ]
  },
  {
   "cell_type": "markdown",
   "metadata": {},
   "source": [
    "El proposito del siguiente código es evaluar el rendimiento del modelo k-NN utilizando la curva ROC, teniendo como output un vector de probabilidades y determinando el punto de corte óptimo basado en la suma de sensibilidades y especificidades."
   ]
  },
  {
   "cell_type": "code",
   "execution_count": null,
   "metadata": {
    "vscode": {
     "languageId": "r"
    }
   },
   "outputs": [],
   "source": [
    "### Splitting inicial de los datos\n",
    "set.seed(123) # Semilla\n",
    "# Muestreo Estratificado\n",
    "split <- initial_split(loan_data_knn, prop = 0.7, strata = \"repay_fail\")\n",
    "loan_data_knn_train <- training(split)\n",
    "loan_data_knn_test <- testing(split)\n",
    "\n",
    "# Vectores variable objetivo\n",
    "repay_fail_train <- loan_data_knn_train$repay_fail\n",
    "repay_fail_test  <- loan_data_knn_test$repay_fail"
   ]
  },
  {
   "cell_type": "code",
   "execution_count": null,
   "metadata": {
    "vscode": {
     "languageId": "r"
    }
   },
   "outputs": [],
   "source": [
    "# Best Model - ROC\n",
    "set.seed(12345)\n",
    "kknn_roc <- kknn(repay_fail ~ ., loan_data_knn_train,\n",
    "                 loan_data_knn_test[, colnames(loan_data_knn_test) !=\n",
    "                                      \"repay_fail\"],\n",
    "                 k = 25, distance = 1, kernel = \"triangular\")\n",
    "kknn_roc <- kknn_roc$prob\n",
    "kknn_roc <- as.numeric(kknn_roc[, colnames(kknn_roc) == \"1\"])"
   ]
  },
  {
   "cell_type": "code",
   "execution_count": null,
   "metadata": {
    "vscode": {
     "languageId": "r"
    }
   },
   "outputs": [],
   "source": [
    "# ROC\n",
    "kknn_roc_curve <- roc(repay_fail_test, kknn_roc,\n",
    "                      levels = c(\"0\", \"1\"), direction = \"<\")\n",
    "plot.roc(kknn_roc_curve, main = \"ROC curve\", col = \"blue\", lwd = 2,\n",
    "         legacy.axes = TRUE, print.thres = \"best\", print.auc = TRUE)\n",
    "\n",
    "# Calculo el punto de corte óptimo basado en la\n",
    "# suma de sensibilidades y especificidades\n",
    "aux <- kknn_roc_curve$sensitivities + kknn_roc_curve$specificities\n",
    "corte <- kknn_roc_curve$thresholds[which(aux == max(aux))]\n",
    "\n",
    "# Convierto las probabilidades a clases binarias usando el punto de corte óptimo\n",
    "kknn_roc <- ifelse(kknn_roc < corte, 0, 1)\n",
    "kknn_roc <- factor(kknn_roc, levels = c(0, 1), labels = c(\"0\", \"1\"))"
   ]
  },
  {
   "cell_type": "markdown",
   "metadata": {},
   "source": [
    "Curva ROC (Imagen)\n",
    "\n",
    "- La curva ROC muestra la relación entre la tasa de verdaderos positivos (sensibilidad) y la tasa de falsos positivos (1 - especificidad).\n",
    "- El área bajo la curva (AUC) es 0.909, lo que indica una buena capacidad del modelo para distinguir entre clientes que fallarán y no fallarán en el pago del préstamo.\n",
    "\n",
    "Interpretación de los Resultados\n",
    "\n",
    "Curva ROC y AUC:\n",
    "\n",
    "- Área Bajo la Curva (AUC): Un AUC de 0.909 indica una excelente capacidad del modelo para distinguir entre clientes que fallarán y no fallarán en el pago del préstamo. Un AUC cercano a 1 indica un modelo muy eficaz.\n",
    "- Curva ROC: La curva ROC proporciona una visión gráfica de la trade-off entre la sensibilidad (tasa de verdaderos positivos) y la especificidad (tasa de verdaderos negativos). Un punto en la curva más cercano a la esquina superior izquierda indica un mejor rendimiento del modelo.\n",
    "- Umbral de Decisión: El punto en la curva con coordenadas (0.153, 0.833, 0.843) indica el umbral de probabilidad óptimo de 0.153, con una sensibilidad de 0.833 y una especificidad de 0.843."
   ]
  },
  {
   "cell_type": "code",
   "execution_count": null,
   "metadata": {
    "vscode": {
     "languageId": "r"
    }
   },
   "outputs": [],
   "source": [
    "# Asegurarse de que repay_fail_test sea un factor con los niveles correctos\n",
    "repay_fail_test <- factor(repay_fail_test, levels = c(0, 1))\n",
    "\n",
    "# Resultados\n",
    "results <- confusionMatrix(kknn_roc, repay_fail_test)\n",
    "results$table\n",
    "sensitivity(kknn_roc, repay_fail_test) + specificity(kknn_roc, repay_fail_test)"
   ]
  },
  {
   "cell_type": "markdown",
   "metadata": {},
   "source": [
    "Interpretación de los Resultados\n",
    "\n",
    "Matriz de Confusión:\n",
    "\n",
    "- True Negatives (TN): 8150 (Clientes predichos correctamente como que no fallarán en el pago del préstamo).\n",
    "- False Positives (FP): 1632 (Clientes predichos incorrectamente como que fallarán en el pago del préstamo, pero en realidad no fallarán).\n",
    "- False Negatives (FN): 271 (Clientes predichos incorrectamente como que no fallarán en el pago del préstamo, pero en realidad sí fallarán).\n",
    "- True Positives (TP): 1451 (Clientes predichos correctamente como que fallarán en el pago del préstamo).\n",
    "\n",
    "Sensibilidad y Especificidad:\n",
    "\n",
    "- Sensibilidad (True Positive Rate): Es la proporción de verdaderos positivos correctamente identificados por el modelo. En este caso, 1451 clientes que realmente fallaron en pagar el préstamo fueron correctamente identificados.\n",
    "- Especificidad (True Negative Rate): Es la proporción de verdaderos negativos correctamente identificados por el modelo. En este caso, 8150 clientes que realmente no fallaron en pagar el préstamo fueron correctamente identificados.\n",
    "\n",
    "Suma de Sensibilidad y Especificidad:\n",
    "\n",
    "La suma de sensibilidad y especificidad es 1.6758, lo que refleja un buen equilibrio entre ambos aspectos en el punto de corte óptimo."
   ]
  },
  {
   "cell_type": "markdown",
   "metadata": {},
   "source": [
    "Comparación de Resultados y Conclusiones\n",
    "\n",
    "1. Precisión (Accuracy):\n",
    "\n",
    "- Primera Configuración: La precisión del modelo es 90.78%.\n",
    "- Segunda Configuración: La precisión del modelo es 92.05%.\n",
    "\n",
    "Conclusión: La optimización de los hiperparámetros mediante remuestreo y grilla resultó en una mejora en la precisión del modelo.\n",
    "\n",
    "2. Matriz de Confusión:\n",
    "\n",
    "Primera Configuración:\n",
    "\n",
    "- True Negatives (TN): 9395\n",
    "- False Positives (FP): 387\n",
    "- False Negatives (FN): 674\n",
    "- True Positives (TP): 1048\n",
    "\n",
    "Segunda Configuración:\n",
    "\n",
    "- True Negatives (TN): 9571\n",
    "- False Positives (FP): 211\n",
    "- False Negatives (FN): 704\n",
    "- True Positives (TP): 1018\n",
    "\n",
    "Conclusión: La segunda configuración reduce significativamente el número de falsos positivos (FP) y ligeramente los verdaderos positivos (TP), lo que mejora la precisión general del modelo.\n",
    "\n",
    "3. Evaluación mediante ROC:\n",
    "\n",
    "Primera Configuración:\n",
    "- AUC: 0.892\n",
    "- Mejor Umbral de Corte: 0.160\n",
    "- Suma de Sensibilidad + Especificidad: 1.65250343670887\n",
    "\n",
    "Segunda Configuración:\n",
    "- AUC: 0.909\n",
    "- Umbral de Corte: 0.153\n",
    "- Suma de Sensibilidad + Especificidad: 1.67578780718146\n",
    "\n",
    "Conclusión: La segunda configuración también mejora el AUC, lo que indica una mejor capacidad del modelo para distinguir entre clientes que fallarán y no fallarán en el pago de sus préstamos. La mejora en la suma de sensibilidad y especificidad también refleja un mejor balance entre estos dos aspectos críticos.\n",
    "\n",
    "4. Sensibilidad y Especificidad:\n",
    "\n",
    "- Primera Configuración: Sensibilidad y especificidad combinadas dan un valor de 1.65250343670887.\n",
    "- Segunda Configuración: Sensibilidad y especificidad combinadas dan un valor de 1.67578780718146.\n",
    "\n",
    "Conclusión: La segunda configuración proporciona un equilibrio ligeramente mejor entre la sensibilidad y la especificidad, lo cual es crucial en el contexto del problema para identificar correctamente tanto a los clientes que no fallarán como a los que sí fallarán.\n",
    "\n",
    "Conclusiones Finales\n",
    "\n",
    "- La optimización de los hiperparámetros utilizando remuestreo k-fold cross-validation y una grilla de parámetros ha demostrado ser más efectiva que el uso de parámetros subóptimos configurados manualmente. - Los resultados indican mejoras en la precisión (accuracy), el AUC, y la suma de sensibilidad y especificidad. En el contexto del problema de predecir si los clientes fallarán en el pago de sus préstamos, estas mejoras significan una mayor capacidad del modelo para identificar correctamente tanto a los clientes que representen un riesgo como a aquellos que no."
   ]
  }
 ],
 "metadata": {
  "kernelspec": {
   "display_name": "R",
   "language": "R",
   "name": "ir"
  },
  "language_info": {
   "codemirror_mode": "r",
   "file_extension": ".r",
   "mimetype": "text/x-r-source",
   "name": "R",
   "pygments_lexer": "r",
   "version": "4.4.0"
  }
 },
 "nbformat": 4,
 "nbformat_minor": 2
}
