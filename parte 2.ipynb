{
 "cells": [
  {
   "cell_type": "code",
   "execution_count": null,
   "metadata": {
    "vscode": {
     "languageId": "r"
    }
   },
   "outputs": [],
   "source": [
    "# Elimino todas las variables en el entorno de trabajo\n",
    "rm(list = ls())"
   ]
  },
  {
   "cell_type": "markdown",
   "metadata": {},
   "source": [
    "**PARTE 2**\n",
    "\n",
    "**APRENDIZAJE SUPERVISADO – CLASIFICACIÓN**\n",
    "\n",
    "Modelos de clasificación, determinación de clases estimadas y evaluación de resultados."
   ]
  },
  {
   "cell_type": "markdown",
   "metadata": {},
   "source": [
    "Conjunto de datos: “METROPOLITANA_2016.csv”.\n",
    "\n",
    "La Encuesta Mundial sobre Tabaco en Jóvenes (GYTS, por sus siglas en inglés) es un estándar global para el monitoreo sistemático del consumo de tabaco (fumado y sin humo) en los jóvenes y de los indicadores clave de control del tabaco. La GYTS forma parte del Sistema Mundial de Vigilancia del Tabaquismo (GTSS, por su sigla en inglés), el mayor sistema mundial de vigilancia de la salud pública jamás desarrollado y mantenido. El archivo “METROPOLITANA_2016.csv” contiene información sobre el hábito de fumar de casi 2.800 jóvenes de la Región Metropolitana.\n"
   ]
  },
  {
   "cell_type": "code",
   "execution_count": 67,
   "metadata": {
    "vscode": {
     "languageId": "r"
    }
   },
   "outputs": [],
   "source": [
    "# cargo librerias\n",
    "library(readr)\n",
    "library(MASS)\n",
    "library(ggplot2)\n",
    "library(dplyr)\n",
    "library(VIM)\n",
    "library(mice)\n",
    "library(caret)\n",
    "library(naivebayes)\n",
    "library(rsample)\n",
    "library(pROC)\n",
    "library(glmnet)"
   ]
  },
  {
   "cell_type": "markdown",
   "metadata": {},
   "source": [
    "1.\tImporte la base de datos y guárdela en un data frame llamado “gytsAux”. "
   ]
  },
  {
   "cell_type": "code",
   "execution_count": 2,
   "metadata": {
    "vscode": {
     "languageId": "r"
    }
   },
   "outputs": [],
   "source": [
    "gytsAux <- as.data.frame(read.csv(\"METROPOLITANA_2016.csv\"))"
   ]
  },
  {
   "cell_type": "markdown",
   "metadata": {},
   "source": [
    "2.\tRecuerde que el tipo de datos de las variables  al realizar la importación podría no coincidir con la definición real de los tipos de datos. Para determinar los tipos de datos reales debe analizar la información complementaria sobre la encuesta. Una vez que haya corregido los tipos de datos (si es que es necesario), describa estadísticamente y de forma concisa cada una de las variables que componen el data frame, indicando también si corresponden a variables numéricas o categóricas. Mantenga solamente las 8 variables de mayor interés para usted justificadamente. En su justificación mencione aspectos teóricos y técnicos. Mantenga estas 8 variables en un data frame nuevo llamado “gyts”."
   ]
  },
  {
   "cell_type": "markdown",
   "metadata": {},
   "source": [
    "De acuerdo a la información contenida en el pdf `\"GYTSPAHO2016 Chile All Schools Region 4 (Metropolitana) Web Codebook.pdf`\" procedo a convertir las columnas a sus tipos adecuados. "
   ]
  },
  {
   "cell_type": "code",
   "execution_count": 3,
   "metadata": {
    "vscode": {
     "languageId": "r"
    }
   },
   "outputs": [],
   "source": [
    "# Identifico todas las columnas excepto FinalWgt y PSU\n",
    "cols_a_factor <- setdiff(names(gytsAux), c(\"FinalWgt\", \"PSU\"))\n",
    "\n",
    "# Convierto todas las columnas identificadas a factor\n",
    "gytsAux[cols_a_factor] <- lapply(gytsAux[cols_a_factor], as.factor)"
   ]
  },
  {
   "cell_type": "code",
   "execution_count": 4,
   "metadata": {
    "vscode": {
     "languageId": "r"
    }
   },
   "outputs": [],
   "source": [
    "# Convierto FinalWgt y PSU a numérico\n",
    "gytsAux$FinalWgt <- as.numeric(gytsAux$FinalWgt)\n",
    "gytsAux$PSU <- as.numeric(gytsAux$PSU)"
   ]
  },
  {
   "cell_type": "markdown",
   "metadata": {},
   "source": [
    "Compruebo que todas las columnas estan consideradas en el dataframe con el tipo correcto de dato:"
   ]
  },
  {
   "cell_type": "code",
   "execution_count": 5,
   "metadata": {
    "vscode": {
     "languageId": "r"
    }
   },
   "outputs": [
    {
     "name": "stdout",
     "output_type": "stream",
     "text": [
      "'data.frame':\t2778 obs. of  75 variables:\n",
      " $ FinalWgt: num  177 177 177 177 177 ...\n",
      " $ CR1     : Factor w/ 7 levels \"1\",\"2\",\"3\",\"4\",..: 5 5 5 5 5 5 5 6 6 6 ...\n",
      " $ CR2     : Factor w/ 2 levels \"1\",\"2\": 1 1 1 1 1 1 1 1 1 1 ...\n",
      " $ CLR3    : Factor w/ 6 levels \"1\",\"2\",\"3\",\"4\",..: 4 4 4 4 4 4 4 4 4 4 ...\n",
      " $ CLR4    : Factor w/ 7 levels \"1\",\"2\",\"3\",\"4\",..: 1 1 1 2 4 4 4 3 3 3 ...\n",
      " $ CR5     : Factor w/ 2 levels \"1\",\"2\": 1 2 2 2 1 1 1 1 1 2 ...\n",
      " $ CR6     : Factor w/ 7 levels \"1\",\"2\",\"3\",\"4\",..: 6 1 1 1 4 4 6 3 5 1 ...\n",
      " $ CR7     : Factor w/ 7 levels \"1\",\"2\",\"3\",\"4\",..: 1 1 1 1 1 1 1 1 1 1 ...\n",
      " $ CR8     : Factor w/ 7 levels \"1\",\"2\",\"3\",\"4\",..: 1 1 1 1 1 1 1 1 1 1 ...\n",
      " $ CR9     : Factor w/ 2 levels \"1\",\"2\": 2 2 2 2 1 2 2 2 1 2 ...\n",
      " $ CR10    : Factor w/ 2 levels \"1\",\"2\": 2 2 2 2 1 2 2 2 2 2 ...\n",
      " $ CR11    : Factor w/ 4 levels \"1\",\"2\",\"3\",\"4\": 2 1 1 1 1 2 2 2 2 1 ...\n",
      " $ CR12    : Factor w/ 8 levels \"1\",\"2\",\"3\",\"4\",..: 2 1 1 1 1 2 1 2 1 1 ...\n",
      " $ CR13    : Factor w/ 2 levels \"1\",\"2\": 2 2 2 2 2 2 2 NA 2 2 ...\n",
      " $ CR14    : Factor w/ 2 levels \"1\",\"2\": 2 2 2 2 2 2 2 NA 2 2 ...\n",
      " $ OR9     : Factor w/ 8 levels \"1\",\"2\",\"3\",\"4\",..: 1 1 1 1 1 6 1 5 1 1 ...\n",
      " $ CLR16   : Factor w/ 5 levels \"1\",\"2\",\"3\",\"4\",..: 5 5 5 5 5 1 5 2 5 5 ...\n",
      " $ CLR17   : Factor w/ 4 levels \"1\",\"2\",\"3\",\"4\": 2 1 1 1 1 3 1 2 3 1 ...\n",
      " $ ELR2    : Factor w/ 7 levels \"1\",\"2\",\"3\",\"4\",..: 1 1 1 1 1 1 1 1 1 1 ...\n",
      " $ CR15    : Factor w/ 4 levels \"1\",\"2\",\"3\",\"4\": 2 1 1 1 1 2 1 2 2 1 ...\n",
      " $ CR16    : Factor w/ 4 levels \"1\",\"2\",\"3\",\"4\": 2 1 1 1 1 3 1 2 2 1 ...\n",
      " $ OR12    : Factor w/ 7 levels \"1\",\"2\",\"3\",\"4\",..: 5 1 1 1 1 2 1 7 6 1 ...\n",
      " $ OR13    : Factor w/ 7 levels \"1\",\"2\",\"3\",\"4\",..: 3 1 1 1 1 3 1 3 3 1 ...\n",
      " $ CR17    : Factor w/ 4 levels \"1\",\"2\",\"3\",\"4\": 2 1 1 1 1 2 1 2 2 1 ...\n",
      " $ CR18    : Factor w/ 6 levels \"1\",\"2\",\"3\",\"4\",..: 6 1 1 1 1 1 1 6 6 1 ...\n",
      " $ CR19    : Factor w/ 5 levels \"1\",\"2\",\"3\",\"4\",..: 3 1 4 1 1 2 5 3 5 1 ...\n",
      " $ CR20    : Factor w/ 5 levels \"1\",\"2\",\"3\",\"4\",..: 1 1 1 4 1 1 1 1 4 1 ...\n",
      " $ CLR27   : Factor w/ 5 levels \"1\",\"2\",\"3\",\"4\",..: 2 4 2 2 3 3 3 2 3 4 ...\n",
      " $ CLR28   : Factor w/ 2 levels \"1\",\"2\": 1 2 2 2 2 1 2 2 1 2 ...\n",
      " $ CR21    : Factor w/ 5 levels \"1\",\"2\",\"3\",\"4\",..: 3 2 4 4 1 1 1 2 5 2 ...\n",
      " $ CR22    : Factor w/ 2 levels \"1\",\"2\": 1 1 2 1 1 2 1 1 2 2 ...\n",
      " $ CR23    : Factor w/ 4 levels \"1\",\"2\",\"3\",\"4\": 3 3 3 4 3 3 4 4 3 3 ...\n",
      " $ CR24    : Factor w/ 2 levels \"1\",\"2\": 1 1 1 1 1 1 1 1 1 1 ...\n",
      " $ CLR33   : Factor w/ 3 levels \"1\",\"2\",\"3\": 3 2 1 3 2 2 2 2 1 2 ...\n",
      " $ CLR34   : Factor w/ 2 levels \"1\",\"2\": 2 1 2 1 1 2 2 2 2 2 ...\n",
      " $ CR25    : Factor w/ 2 levels \"1\",\"2\": 2 1 2 1 2 2 1 2 2 1 ...\n",
      " $ CLR36   : Factor w/ 6 levels \"1\",\"2\",\"3\",\"4\",..: 1 1 1 1 1 4 1 1 1 1 ...\n",
      " $ CR27    : Factor w/ 3 levels \"1\",\"2\",\"3\": 1 1 1 1 1 1 1 1 1 1 ...\n",
      " $ CLR38   : Factor w/ 5 levels \"1\",\"2\",\"3\",\"4\",..: 1 1 1 1 1 1 1 1 1 1 ...\n",
      " $ CLR39   : Factor w/ 6 levels \"1\",\"2\",\"3\",\"4\",..: 6 1 4 1 2 5 6 1 3 6 ...\n",
      " $ CLR40   : Factor w/ 3 levels \"1\",\"2\",\"3\": 3 1 3 3 1 3 2 1 3 3 ...\n",
      " $ CLR41   : Factor w/ 3 levels \"1\",\"2\",\"3\": 1 3 3 1 1 NA 3 1 3 3 ...\n",
      " $ CLR42   : Factor w/ 8 levels \"1\",\"2\",\"3\",\"4\",..: 1 1 1 1 1 1 1 1 1 1 ...\n",
      " $ CR30    : Factor w/ 2 levels \"1\",\"2\": 1 2 1 2 1 2 2 2 2 1 ...\n",
      " $ CR31    : Factor w/ 3 levels \"1\",\"2\",\"3\": 2 1 1 3 1 3 1 1 2 2 ...\n",
      " $ CR32    : Factor w/ 3 levels \"1\",\"2\",\"3\": 2 2 1 3 1 3 2 3 2 3 ...\n",
      " $ CLR46   : Factor w/ 3 levels \"1\",\"2\",\"3\": 3 2 3 3 3 2 2 2 1 1 ...\n",
      " $ CLR47   : Factor w/ 3 levels \"1\",\"2\",\"3\": 3 3 3 3 3 2 2 2 3 3 ...\n",
      " $ CLR48   : Factor w/ 3 levels \"1\",\"2\",\"3\": 3 2 3 3 3 1 1 2 1 3 ...\n",
      " $ CLR49   : Factor w/ 6 levels \"1\",\"2\",\"3\",\"4\",..: 3 3 2 2 2 1 3 3 2 1 ...\n",
      " $ CR34    : Factor w/ 3 levels \"1\",\"2\",\"3\": 3 3 2 3 2 3 3 3 3 2 ...\n",
      " $ CR35    : Factor w/ 3 levels \"1\",\"2\",\"3\": 2 3 2 3 3 3 3 3 3 3 ...\n",
      " $ CR36    : Factor w/ 3 levels \"1\",\"2\",\"3\": 3 3 2 3 2 2 3 3 2 3 ...\n",
      " $ CR37    : Factor w/ 2 levels \"1\",\"2\": 2 2 2 2 2 2 2 2 2 2 ...\n",
      " $ CR38    : Factor w/ 2 levels \"1\",\"2\": 2 2 2 2 2 2 2 2 2 2 ...\n",
      " $ OR45    : Factor w/ 5 levels \"1\",\"2\",\"3\",\"4\",..: 4 1 2 2 1 1 3 2 1 4 ...\n",
      " $ CR39    : Factor w/ 4 levels \"1\",\"2\",\"3\",\"4\": 1 1 2 1 2 2 1 1 2 2 ...\n",
      " $ CR40    : Factor w/ 4 levels \"1\",\"2\",\"3\",\"4\": 1 1 2 1 2 1 1 1 1 2 ...\n",
      " $ CR41    : Factor w/ 4 levels \"1\",\"2\",\"3\",\"4\": 3 3 3 1 4 4 2 1 3 3 ...\n",
      " $ CR42    : Factor w/ 3 levels \"1\",\"2\",\"3\": 3 3 1 3 1 3 3 1 2 3 ...\n",
      " $ CR43    : Factor w/ 5 levels \"1\",\"2\",\"3\",\"4\",..: 4 4 3 3 4 5 5 4 1 4 ...\n",
      " $ OR55    : Factor w/ 2 levels \"1\",\"2\": 2 1 1 1 1 1 2 1 1 1 ...\n",
      " $ CLR62   : Factor w/ 4 levels \"1\",\"2\",\"3\",\"4\": 4 1 1 1 2 4 2 3 1 1 ...\n",
      " $ CLR63   : Factor w/ 5 levels \"1\",\"2\",\"3\",\"4\",..: 4 1 1 1 4 5 1 4 1 1 ...\n",
      " $ CLR64   : Factor w/ 4 levels \"1\",\"2\",\"3\",\"4\": 1 1 2 1 1 2 1 3 1 2 ...\n",
      " $ CLR65   : Factor w/ 3 levels \"1\",\"2\",\"3\": 3 2 3 3 2 1 2 1 2 3 ...\n",
      " $ OR46    : Factor w/ 4 levels \"1\",\"2\",\"3\",\"4\": 2 1 2 3 2 2 2 1 2 3 ...\n",
      " $ OR54    : Factor w/ 4 levels \"1\",\"2\",\"3\",\"4\": 1 1 2 1 1 1 1 1 1 1 ...\n",
      " $ CLR68   : Factor w/ 7 levels \"1\",\"2\",\"3\",\"4\",..: 7 1 7 7 7 7 2 7 2 7 ...\n",
      " $ CLR69   : Factor w/ 7 levels \"1\",\"2\",\"3\",\"4\",..: 7 7 7 7 7 7 2 7 2 7 ...\n",
      " $ CLR70   : Factor w/ 3 levels \"1\",\"2\",\"3\": 2 2 3 2 2 3 1 2 2 2 ...\n",
      " $ CLR71   : Factor w/ 3 levels \"1\",\"2\",\"3\": 3 3 3 2 3 3 3 2 3 2 ...\n",
      " $ CLR72   : Factor w/ 3 levels \"1\",\"2\",\"3\": 3 3 3 2 3 3 3 3 3 2 ...\n",
      " $ Stratum : Factor w/ 12 levels \"201604001\",\"201604002\",..: 1 1 1 1 1 1 1 1 1 1 ...\n",
      " $ PSU     : num  1 1 1 1 1 1 1 1 1 1 ...\n"
     ]
    }
   ],
   "source": [
    "str(gytsAux)"
   ]
  },
  {
   "cell_type": "markdown",
   "metadata": {},
   "source": [
    "Justificacion Técnica de la elección de las 8 variables"
   ]
  },
  {
   "cell_type": "code",
   "execution_count": 6,
   "metadata": {
    "vscode": {
     "languageId": "r"
    }
   },
   "outputs": [],
   "source": [
    "# Elimino filas con valores faltantes\n",
    "gytsAux_sin_na <- na.omit(gytsAux)\n",
    "\n",
    "# Ajusto un modelo inicial\n",
    "modelo_inicial <- lm(FinalWgt ~ ., data = gytsAux_sin_na)"
   ]
  },
  {
   "cell_type": "code",
   "execution_count": 7,
   "metadata": {
    "vscode": {
     "languageId": "r"
    }
   },
   "outputs": [
    {
     "name": "stdout",
     "output_type": "stream",
     "text": [
      "Step:  AIC=12970.79\n",
      "FinalWgt ~ CR1 + CR2 + CLR3 + CR10 + OR9 + CLR27 + CR22 + CR23 + \n",
      "    CR25 + CLR38 + CLR40 + CLR42 + CLR49 + CR37 + OR55 + OR46 + \n",
      "    Stratum + PSU\n",
      "\n",
      "          Df Sum of Sq     RSS   AIC\n",
      "<none>                 1597239 12971\n",
      "+ CR34     2      3339 1593900 12971\n",
      "+ CR17     3      4972 1592267 12971\n",
      "+ CR42     2      2903 1594336 12971\n",
      "- CLR49    5      8863 1606102 12971\n",
      "+ CR38     1       748 1596491 12972\n",
      "+ CLR34    1       722 1596517 12972\n",
      "+ CR30     1       704 1596535 12972\n",
      "+ CR41     3      3947 1593292 12972\n",
      "+ CR5      1       572 1596667 12972\n",
      "+ CLR28    1       507 1596732 12972\n",
      "+ CLR47    2      2166 1595073 12972\n",
      "+ CR32     2      2029 1595210 12972\n",
      "+ CR13     1       183 1597056 12973\n",
      "+ CR24     1       126 1597113 12973\n",
      "+ CR9      1        92 1597147 12973\n",
      "+ CR14     1        15 1597224 12973\n",
      "+ OR45     4      5022 1592217 12973\n",
      "+ CLR16    4      4931 1592308 12973\n",
      "+ CLR39    5      6598 1590641 12973\n",
      "+ CLR72    2      1416 1595823 12973\n",
      "+ CR12     7      9676 1587563 12973\n",
      "+ CR16     3      2999 1594240 12973\n",
      "+ CLR36    5      6305 1590934 12973\n",
      "- CR37     1      3751 1600990 12973\n",
      "+ CR31     2      1164 1596075 12973\n",
      "- CR25     1      3891 1601130 12973\n",
      "+ CR11     3      2791 1594448 12974\n",
      "- OR55     1      4004 1601243 12974\n",
      "+ CLR70    2      1021 1596218 12974\n",
      "+ CLR33    2       823 1596416 12974\n",
      "+ CLR65    2       500 1596739 12974\n",
      "+ CLR64    3      2064 1595175 12974\n",
      "+ CLR46    2       378 1596861 12974\n",
      "+ CLR41    2       365 1596874 12974\n",
      "+ CR35     2       303 1596937 12974\n",
      "+ CLR71    2       185 1597055 12975\n",
      "+ CR39     3      1846 1595393 12975\n",
      "+ CLR48    2       122 1597117 12975\n",
      "+ CR36     2       109 1597130 12975\n",
      "+ CR27     2        50 1597189 12975\n",
      "+ CR18     5      4971 1592268 12975\n",
      "- CLR40    2      6830 1604069 12975\n",
      "+ CLR17    3      1517 1595722 12975\n",
      "- CR23     3      8637 1605877 12975\n",
      "- CR10     1      5580 1602819 12975\n",
      "+ CR40     3       987 1596252 12976\n",
      "+ CR43     4      2571 1594668 12976\n",
      "+ CR15     3       638 1596601 12976\n",
      "+ CLR63    4      2244 1594995 12976\n",
      "+ OR54     3       387 1596852 12976\n",
      "- CLR27    4     11389 1608629 12976\n",
      "+ OR12     6      5220 1592019 12976\n",
      "+ CLR62    3        64 1597175 12977\n",
      "- CR1      6     15190 1612429 12977\n",
      "+ CR20     4      1536 1595703 12977\n",
      "+ OR13     6      4875 1592364 12977\n",
      "+ CLR4     6      4839 1592400 12977\n",
      "- OR9      7     17207 1614446 12977\n",
      "+ CR7      6      4557 1592682 12977\n",
      "- CLR38    4     12287 1609526 12977\n",
      "+ CR19     4       911 1596328 12978\n",
      "+ CLR68    6      3887 1593352 12978\n",
      "+ CR21     4       367 1596872 12978\n",
      "+ CLR69    6      3243 1593996 12979\n",
      "+ ELR2     6      3112 1594127 12979\n",
      "- OR46     3     12092 1609331 12979\n",
      "+ CR8      6      2896 1594343 12979\n",
      "+ CR6      6      1922 1595317 12980\n",
      "- CR22     1     17666 1614905 12990\n",
      "- CLR42    7     34292 1631531 12997\n",
      "- PSU      1     74041 1671280 13055\n",
      "- CLR3     5    217702 1814941 13205\n",
      "- CR2      1    229448 1826687 13225\n",
      "- Stratum 11    713364 2310603 13653\n"
     ]
    }
   ],
   "source": [
    "# Capturo el output del proceso de stepwise en una variable, pero sin imprimirlo\n",
    "# demora alrededor de 2 minutos\n",
    "step_output <- capture.output({\n",
    "  modelo_step_AIC <- step(modelo_inicial, direction = \"both\", k = 2)\n",
    "})\n",
    "\n",
    "# Imprimo solo la últimas 81 lineas del proceso\n",
    "# que corresponden a la última iteración\n",
    "# que es la que nos interesa\n",
    "cat(tail(step_output, 81), sep = \"\\n\")"
   ]
  },
  {
   "cell_type": "code",
   "execution_count": 8,
   "metadata": {
    "vscode": {
     "languageId": "r"
    }
   },
   "outputs": [
    {
     "name": "stdout",
     "output_type": "stream",
     "text": [
      "Step:  AIC=13148.82\n",
      "FinalWgt ~ CR2 + CLR3 + CR22 + Stratum + PSU\n",
      "\n",
      "          Df Sum of Sq     RSS   AIC\n",
      "<none>                 1727363 13149\n",
      "+ CR25     1      3189 1724174 13153\n",
      "+ CR10     1      3179 1724184 13153\n",
      "+ OR55     1      2857 1724506 13154\n",
      "+ CR37     1      2019 1725344 13154\n",
      "+ CR38     1      1516 1725848 13155\n",
      "+ CLR40    2      8362 1719001 13155\n",
      "+ CR9      1       980 1726383 13156\n",
      "+ CR5      1       588 1726775 13156\n",
      "+ CLR28    1       217 1727146 13156\n",
      "+ CR30     1       164 1727199 13157\n",
      "+ CR24     1       109 1727254 13157\n",
      "+ CLR34    1       108 1727256 13157\n",
      "+ CR13     1         2 1727361 13157\n",
      "+ CR14     1         0 1727363 13157\n",
      "+ OR46     3     12436 1714927 13159\n",
      "+ CR34     2      4524 1722839 13160\n",
      "+ CLR47    2      3496 1723867 13161\n",
      "+ CR42     2      2602 1724761 13162\n",
      "+ CLR70    2      2371 1724992 13162\n",
      "+ CR23     3      9044 1718319 13163\n",
      "+ CR31     2      1642 1725721 13163\n",
      "+ CR32     2      1318 1726045 13163\n",
      "+ CLR48    2      1314 1726049 13163\n",
      "+ CLR33    2       882 1726482 13164\n",
      "+ CR36     2       753 1726610 13164\n",
      "+ CLR41    2       608 1726755 13164\n",
      "+ CLR65    2       514 1726849 13164\n",
      "+ CR35     2       311 1727052 13164\n",
      "+ CLR72    2       221 1727142 13164\n",
      "+ CR27     2       145 1727218 13164\n",
      "+ CLR46    2       101 1727262 13165\n",
      "+ CLR71    2        18 1727345 13165\n",
      "- CR22     1     22880 1750243 13166\n",
      "+ CR41     3      5128 1722235 13167\n",
      "+ CLR27    4     11951 1715412 13167\n",
      "+ CR17     3      4365 1722998 13168\n",
      "+ CR15     3      3354 1724009 13169\n",
      "+ CR39     3      2749 1724614 13170\n",
      "+ CLR64    3      2349 1725014 13170\n",
      "+ CR11     3      1753 1725610 13171\n",
      "+ CR16     3      1455 1725908 13171\n",
      "+ CR40     3      1434 1725929 13171\n",
      "+ CLR17    3      1016 1726347 13172\n",
      "+ CLR62    3       864 1726499 13172\n",
      "+ OR54     3       135 1727228 13172\n",
      "+ OR45     4      6927 1720436 13173\n",
      "+ CLR49    5     13061 1714302 13174\n",
      "+ CLR63    4      4169 1723194 13176\n",
      "+ CLR16    4      3529 1723834 13177\n",
      "+ CR43     4      2190 1725173 13178\n",
      "+ CLR38    4      1516 1725847 13179\n",
      "+ CR1      6     15403 1711960 13179\n",
      "+ CR21     4       648 1726715 13180\n",
      "+ CLR39    5      7734 1719629 13180\n",
      "+ CR20     4       430 1726933 13180\n",
      "+ CR19     4       268 1727095 13180\n",
      "+ CLR36    5      5045 1722318 13183\n",
      "+ CR18     5      3637 1723726 13184\n",
      "+ OR12     6      9049 1718314 13186\n",
      "+ CR12     7     16038 1711325 13186\n",
      "+ CLR42    7     15463 1711900 13187\n",
      "+ CR7      6      8166 1719197 13187\n",
      "+ CLR68    6      5739 1721624 13190\n",
      "+ OR13     6      4890 1722474 13191\n",
      "+ CR8      6      4712 1722651 13191\n",
      "+ CLR4     6      4207 1723157 13192\n",
      "+ CLR69    6      2569 1724794 13194\n",
      "+ OR9      7      9248 1718116 13194\n",
      "+ ELR2     6      2091 1725272 13194\n",
      "+ CR6      6      1315 1726048 13195\n",
      "- PSU      1     82976 1810339 13230\n",
      "- CR2      1    240560 1967923 13390\n",
      "- CLR3     5    626589 2353952 13700\n",
      "- Stratum 11    823917 2551280 13806\n"
     ]
    }
   ],
   "source": [
    "# Capturo el output del proceso de stepwise con BIC en una variable,\n",
    "# pero solo guardandolo\n",
    "# demora alrededor de 2 minutos\n",
    "step_output_BIC <- capture.output({\n",
    "  modelo_step_BIC <- step(modelo_inicial, direction = \"both\",\n",
    "                          k = log(nrow(gytsAux)))\n",
    "})\n",
    "\n",
    "# Imprimo solo la últimas 79 lineas del proceso\n",
    "# que corresponden a la última iteración\n",
    "# que es la que nos interesa\n",
    "cat(tail(step_output_BIC, 79), sep = \"\\n\")"
   ]
  },
  {
   "cell_type": "markdown",
   "metadata": {},
   "source": [
    "Nota importante: aunque se muestra como \"AIC\", el valor reportado es realmente el BIC, ya que estoy utilizando `k = log(nrow(gytsAux))` para penalizar los modelos. Y esto es porque la función `step()` en R está diseñada para mostrar el AIC en su salida, incluso cuando estoy utilizando BIC como criterio de selección."
   ]
  },
  {
   "cell_type": "markdown",
   "metadata": {},
   "source": [
    "**Análisis del Stepwise Regression con AIC**\n",
    "\n",
    "En el último paso de la selección con AIC, las siguientes variables fueron retenidas:\n",
    "- CR1, CR2, CLR3, CLR4, CR10, CR11, CR12, OR9, CLR17, OR13, CR17, CR18, CLR27, CR22, CR23, CR25, CLR38, CLR39, CLR40, CLR41, CLR42, CR32, CLR49, CR38, CR41, CR42, CLR65, OR46 y PSU.\n",
    "\n",
    "**Análisis del Stepwise Regression con BIC**\n",
    "\n",
    "En el último paso de la selección con BIC, las siguientes variables fueron retenidas:\n",
    "- CR2, CLR3, CR22, CLR41 y PSU.\n",
    "\n",
    "**Justificación de la Selección de Variables mediante criterio tecnico**\n",
    "\n",
    "- AIC vs. BIC: El criterio AIC tiende a seleccionar un mayor número de variables porque penaliza menos la complejidad del modelo. BIC, en cambio, penaliza más la complejidad y selecciona un modelo más parsimonioso (con menos variables).\n",
    "\n",
    "- Variables Comunes: Al observar las variables seleccionadas por ambos criterios, noto que CR2, CLR3, CR22, CLR41, y PSU son comunes en ambos. Por ende, estas variables son altamente relevantes para el modelo y por eso son parte en la selección final, con la excepcion de PSU que no está definida que significa en el PDF `\"GYTSPAHO2016 Chile All Schools Region 4 (Metropolitana) Web Codebook.pdf\"` ni en la pagina web https://extranet.who.int/ncdsmicrodata/index.php/catalog/387/data-dictionary/F3?file_name=METROPOLITANA_2016"
   ]
  },
  {
   "cell_type": "markdown",
   "metadata": {},
   "source": [
    "Hasta ahora, he seleccionado las variables explicativas **CR2, CLR3, CR22 y CLR41** mediante análisis técnico. Sin embargo, me faltan elegir cuatro variables adicionales. Dado que en la siguiente etapa de Machine Learning se indica que CR7 será la variable objetivo (\"Durante los últimos 30 días, ¿en cuántos días fumaste cigarrillos?\"), analizaré cuidadosamente cuáles serán las otras cuatro variables que elegiré, considerando su potencial para predecir CR7 de manera efectiva.\n",
    "\n",
    "Justificación analisis teorico\n",
    "\n",
    "CR19 - Smoked inside home in your presence:\n",
    "\n",
    "- Considero que la exposición al humo de segunda mano en casa es un predictor significativo de la aceptación y normalización del hábito de fumar. Esto indica que la exposición al humo en casa puede influir en la percepción y la aceptación del comportamiento de fumar, lo que hace que esta variable sea un componente crucial en el modelo.\n",
    "\n",
    "CR17 - Stop smoking if wanted to:\n",
    "\n",
    "- La percepción de la capacidad para dejar de fumar refleja la motivación y la autoeficacia del individuo para abandonar el hábito. \n",
    "- La capacidad percibida para dejar de fumar (capturada por CR17) está estrechamente relacionada con estas motivaciones internas y, por lo tanto, es un predictor importante del comportamiento de fumar.\n",
    "\n",
    "CR20 - Smoked inside public place in your presence past 7 days:\n",
    "\n",
    "- Similar a la exposición en el hogar, la exposición al humo en lugares públicos refleja la normalización social del fumar, lo que puede influir en el comportamiento del encuestado. Osea que la exposición al humo en lugares públicos puede influir en la percepción y aceptación social del fumar, haciendo de esta variable un importante predictor.\n",
    "\n",
    "OR46 - Closest friends smoke:\n",
    "\n",
    "- Se justifica por el impacto significativo que las influencias sociales, especialmente las de los amigos cercanos, tienen en el comportamiento de fumar. Esta variable captura la dinámica del grupo social inmediato del encuestado, que es un factor crucial en la adopción y persistencia del hábito de fumar.\n",
    "\n",
    "Por ende de acuerdo al analisis tecnico y teorico las 8 variables seleccionadas son:\n",
    "\n",
    "**CR2, CLR3, CR22, CLR41, CR19, CR17, CR20, y OR46**"
   ]
  },
  {
   "cell_type": "markdown",
   "metadata": {},
   "source": [
    "Y de acuerdo al correo respondido el día 17/08/2024 con copia a todo el curso por parte del profesor, procedo a describir estadisticamente y de forma concisa sólo las 8 variables que justificadamente elegí."
   ]
  },
  {
   "cell_type": "code",
   "execution_count": 9,
   "metadata": {
    "vscode": {
     "languageId": "r"
    }
   },
   "outputs": [
    {
     "data": {
      "text/plain": [
       "   CR2         CLR3       CR22       CLR41        CR19        CR17     \n",
       " 1   :1278   1   :517   1   :1509   1   :1136   1   :1653   1   :1589  \n",
       " 2   :1480   2   :547   2   :1201   2   : 591   2   : 348   2   : 464  \n",
       " NA's:  20   3   :543   NA's:  68   3   : 996   3   : 201   3   : 650  \n",
       "             4   :462               NA's:  55   4   : 108   4   :  42  \n",
       "             5   :336                           5   : 442   NA's:  33  \n",
       "             6   :358                           NA's:  26              \n",
       "             NA's: 15                                                  \n",
       "   CR20        OR46     \n",
       " 1   :1397   1   : 746  \n",
       " 2   : 594   2   :1279  \n",
       " 3   : 273   3   : 579  \n",
       " 4   : 135   4   :  86  \n",
       " 5   : 352   NA's:  88  \n",
       " NA's:  27              \n",
       "                        "
      ]
     },
     "metadata": {},
     "output_type": "display_data"
    }
   ],
   "source": [
    "# genero variable con las columnas seleccionadas\n",
    "# que son todas categoricas\n",
    "gyts <- as.data.frame(gytsAux[, c(\"CR2\", \"CLR3\", \"CR22\", \"CLR41\", \"CR19\", \"CR17\", \"CR20\", \"OR46\")])\n",
    "\n",
    "summary(gyts)"
   ]
  },
  {
   "cell_type": "code",
   "execution_count": 10,
   "metadata": {
    "vscode": {
     "languageId": "r"
    }
   },
   "outputs": [
    {
     "data": {
      "text/plain": [
       "$CR2\n",
       "col\n",
       "        1         2 \n",
       "0.4633793 0.5366207 \n",
       "\n",
       "$CLR3\n",
       "col\n",
       "        1         2         3         4         5         6 \n",
       "0.1871155 0.1979732 0.1965255 0.1672096 0.1216069 0.1295693 \n",
       "\n",
       "$CR22\n",
       "col\n",
       "        1         2 \n",
       "0.5568266 0.4431734 \n",
       "\n",
       "$CLR41\n",
       "col\n",
       "        1         2         3 \n",
       "0.4171869 0.2170400 0.3657730 \n",
       "\n",
       "$CR19\n",
       "col\n",
       "         1          2          3          4          5 \n",
       "0.60065407 0.12645349 0.07303779 0.03924419 0.16061047 \n",
       "\n",
       "$CR17\n",
       "col\n",
       "         1          2          3          4 \n",
       "0.57887067 0.16903461 0.23679417 0.01530055 \n",
       "\n",
       "$CR20\n",
       "col\n",
       "         1          2          3          4          5 \n",
       "0.50781534 0.21592148 0.09923664 0.04907306 0.12795347 \n",
       "\n",
       "$OR46\n",
       "col\n",
       "         1          2          3          4 \n",
       "0.27732342 0.47546468 0.21524164 0.03197026 \n"
      ]
     },
     "metadata": {},
     "output_type": "display_data"
    }
   ],
   "source": [
    "# Calculo los porcentajes por clase para cada columna categórica\n",
    "porcentajes_por_clase <- lapply(gyts, function(col) {\n",
    "  prop.table(table(col))\n",
    "})\n",
    "\n",
    "# Muestra los porcentajes por clase\n",
    "porcentajes_por_clase"
   ]
  },
  {
   "cell_type": "code",
   "execution_count": 11,
   "metadata": {
    "vscode": {
     "languageId": "r"
    }
   },
   "outputs": [],
   "source": [
    "#todos los posibles valores para cada variable categórica\n",
    "#en español\n",
    "valores_categoria <- list(\n",
    "  CR2 = c(\"1\" = \"Hombre\", \"2\" = \"Mujer\"),\n",
    "  CLR3 = c(\"1\" = \"7° básico\",\n",
    "           \"2\" = \"8° básico\",\n",
    "           \"3\" = \"1° medio\",\n",
    "           \"4\" = \"2° medio\",\n",
    "           \"5\" = \"3° medio\",\n",
    "           \"6\" = \"4° medio\"),\n",
    "  CR22 = c(\"1\" = \"Sí\", \"2\" = \"No\"),\n",
    "  CLR41 = c(\"1\" = \"Sí\", \"2\" = \"No\", \"3\" = \"No lo sé\"),\n",
    "  CR19 = c(\"1\" = \"0 días\", \"2\" = \"1 a 2 días\", \"3\" = \"3 a 4 días\",\n",
    "           \"4\" = \"5 a 6 días\", \"5\" = \"7 días\"),\n",
    "  CR17 = c(\"1\" = \"Nunca he fumado\",\n",
    "           \"2\" = \"No fumo ahora\",\n",
    "           \"3\" = \"Sí\",\n",
    "           \"4\" = \"No\"),\n",
    "  CR20 = c(\"1\" = \"0 días\", \"2\" = \"1 a 2 días\", \"3\" = \"3 a 4 días\",\n",
    "           \"4\" = \"5 a 6 días\", \"5\" = \"7 días\"),\n",
    "  OR46 = c(\"1\" = \"Ninguno de ellos\",\n",
    "           \"2\" = \"Algunos de ellos\",\n",
    "           \"3\" = \"La mayoría de ellos\",\n",
    "           \"4\" = \"Todos ellos\")\n",
    ")"
   ]
  },
  {
   "cell_type": "code",
   "execution_count": 12,
   "metadata": {
    "vscode": {
     "languageId": "r"
    }
   },
   "outputs": [],
   "source": [
    "# Defino los significados de las variables en español\n",
    "significados_variables <- list(\n",
    "  CR2 = \"Sexo\",\n",
    "  CLR3 = \"Nivel de educación\",\n",
    "  CR22 = \"Visto fumar en la escuela\",\n",
    "  CLR41 = \"Posibilidad de comprar cigarrillos sueltos\",\n",
    "  CR19 = \"Fumaron en casa en su presencia\",\n",
    "  CR17 = \"Dejar de fumar si lo desea\",\n",
    "  CR20 = \"Fumaron en lugar público en su presencia\",\n",
    "  OR46 = \"Amigos cercanos que fuman\"\n",
    ")"
   ]
  },
  {
   "cell_type": "code",
   "execution_count": 13,
   "metadata": {
    "vscode": {
     "languageId": "r"
    }
   },
   "outputs": [
    {
     "name": "stdout",
     "output_type": "stream",
     "text": [
      "Descripción de la variable: CR2 (Sexo)\n",
      "Tipo de variable: categórica\n",
      "Número de categorías únicas: 3\n",
      "Moda (valor más frecuente): 2 (Mujer)\n",
      "\n",
      "Descripción de la variable: CLR3 (Nivel de educación)\n",
      "Tipo de variable: categórica\n",
      "Número de categorías únicas: 7\n",
      "Moda (valor más frecuente): 2 (8° básico)\n",
      "\n",
      "Descripción de la variable: CR22 (Visto fumar en la escuela)\n",
      "Tipo de variable: categórica\n",
      "Número de categorías únicas: 3\n",
      "Moda (valor más frecuente): 1 (Sí)\n",
      "\n",
      "Descripción de la variable: CLR41 (Posibilidad de comprar cigarrillos sueltos)\n",
      "Tipo de variable: categórica\n",
      "Número de categorías únicas: 4\n",
      "Moda (valor más frecuente): 1 (Sí)\n",
      "\n",
      "Descripción de la variable: CR19 (Fumaron en casa en su presencia)\n",
      "Tipo de variable: categórica\n",
      "Número de categorías únicas: 6\n",
      "Moda (valor más frecuente): 1 (0 días)\n",
      "\n",
      "Descripción de la variable: CR17 (Dejar de fumar si lo desea)\n",
      "Tipo de variable: categórica\n",
      "Número de categorías únicas: 5\n",
      "Moda (valor más frecuente): 1 (Nunca he fumado)\n",
      "\n",
      "Descripción de la variable: CR20 (Fumaron en lugar público en su presencia)\n",
      "Tipo de variable: categórica\n",
      "Número de categorías únicas: 6\n",
      "Moda (valor más frecuente): 1 (0 días)\n",
      "\n",
      "Descripción de la variable: OR46 (Amigos cercanos que fuman)\n",
      "Tipo de variable: categórica\n",
      "Número de categorías únicas: 5\n",
      "Moda (valor más frecuente): 2 (Algunos de ellos)\n",
      "\n"
     ]
    }
   ],
   "source": [
    "# Función para describir estadísticamente una variable\n",
    "# con su significado\n",
    "describir_variable <- function(var_name) {\n",
    "  var <- gytsAux[[var_name]]\n",
    "  n_unique <- length(unique(var))\n",
    "  moda <- names(sort(table(var), decreasing = TRUE))[1]\n",
    "  moda_significado <- valores_categoria[[var_name]][moda]\n",
    "  significado_var <- significados_variables[[var_name]]\n",
    "\n",
    "  # Determino el tipo de variable\n",
    "  tipo_var <- ifelse(class(var) == \"factor\", \"categórica\", \n",
    "                     ifelse(class(var) == \"numeric\", \"númerica\", class(var)))\n",
    "\n",
    "  cat(sprintf(\"Descripción de la variable: %s (%s)\\n\",\n",
    "              var_name, significado_var))\n",
    "  cat(sprintf(\"Tipo de variable: %s\\n\", tipo_var))\n",
    "  cat(sprintf(\"Número de categorías únicas: %d\\n\", n_unique))\n",
    "  # Solo muestro la moda y su significado si es categórica\n",
    "  if (tipo_var == \"categórica\") {\n",
    "    cat(sprintf(\"Moda (valor más frecuente): %s (%s)\\n\",\n",
    "                moda, moda_significado))\n",
    "  }\n",
    "  cat(\"\\n\")  # Agrego línea en blanco para separar las descripciones\n",
    "}\n",
    "\n",
    "# Aplico la función a cada variable de interés\n",
    "gyts <- c(\"CR2\", \"CLR3\", \"CR22\", \"CLR41\", \"CR19\", \"CR17\", \"CR20\", \"OR46\")\n",
    "\n",
    "for (col in gyts) {\n",
    "  describir_variable(col)\n",
    "}"
   ]
  },
  {
   "cell_type": "markdown",
   "metadata": {},
   "source": [
    "3. Realice estadística descriptiva con mayor detalle principalmente sobre la variable “Q7 (CR7)…”. Se espera que cruce dicha variable con otras 4-5 de interés. Incorpore análisis gráfico. "
   ]
  },
  {
   "cell_type": "code",
   "execution_count": 14,
   "metadata": {
    "vscode": {
     "languageId": "r"
    }
   },
   "outputs": [
    {
     "data": {
      "image/png": "[encoded data removed]",
      "text/plain": [
       "Plot with title \"Distribución de CR7 por Sexo\""
      ]
     },
     "metadata": {
      "image/png": {
       "height": 420,
       "width": 420
      }
     },
     "output_type": "display_data"
    }
   ],
   "source": [
    "# Gráfico de barras apiladas para CR7 y CR2 (Sexo)\n",
    "barplot(table(gytsAux$CR7, gytsAux$CR2),\n",
    "        legend.text = c(\"0 días\", \"1 o 2 días\", \"10 a 19 días\", \"20 a 29 días\",\n",
    "                        \"3 a 5 días\", \"6 a 9 días\", \"Todos los días\"),\n",
    "        col = c(\"skyblue\", \"orange\", \"lightgreen\", \"pink\",\n",
    "                \"purple\", \"yellow\", \"red\"),\n",
    "        main = \"Distribución de CR7 por Sexo\",\n",
    "        xlab = \"Sexo\",\n",
    "        ylab = \"Frecuencia\",\n",
    "        beside = FALSE)"
   ]
  },
  {
   "cell_type": "markdown",
   "metadata": {},
   "source": [
    "CR2 (Sexo):\n",
    "\n",
    "- 1 = Hombre\n",
    "- 2 = Mujer\n",
    "\n",
    "CR7 (Días fumados en los últimos 30 días):\n",
    "\n",
    "- 1 = 0 días\n",
    "- 2 = 1 o 2 días\n",
    "- 3 = 10 a 19 días\n",
    "- 4 = 20 a 29 días\n",
    "- 5 = 3 a 5 días\n",
    "- 6 = 6 a 9 días\n",
    "- 7 = Todos los días"
   ]
  },
  {
   "cell_type": "markdown",
   "metadata": {},
   "source": [
    "La mayoría de los encuestados, tanto hombres como mujeres, no han fumado en los últimos 30 días (0 días).\n",
    "\n",
    "Tambien se observa que tanto en hombres como en mujeres, el mayor porcentaje de individuos no ha fumado en los últimos 30 días. Sin embargo, hay una ligera tendencia a que las mujeres presenten una menor frecuencia en las categorías de consumo más alto (3 a 5 días, 6 a 9 días, todos los días) en comparación con los hombres."
   ]
  },
  {
   "cell_type": "code",
   "execution_count": 15,
   "metadata": {
    "vscode": {
     "languageId": "r"
    }
   },
   "outputs": [
    {
     "data": {
      "image/png": "[encoded data removed]",
      "text/plain": [
       "Plot with title \"Distribución de CR7 por Nivel de Educación\""
      ]
     },
     "metadata": {
      "image/png": {
       "height": 420,
       "width": 420
      }
     },
     "output_type": "display_data"
    }
   ],
   "source": [
    "# Gráfico de barras apiladas para CR7 y CLR3 (Nivel de educación)\n",
    "barplot(table(gytsAux$CR7, gytsAux$CLR3),\n",
    "        legend.text = c(\"0 días\", \"1 o 2 días\", \"10 a 19 días\", \"20 a 29 días\",\n",
    "                        \"3 a 5 días\", \"6 a 9 días\", \"Todos los días\"),\n",
    "        col = c(\"lightblue\", \"orange\", \"lightgreen\", \"pink\",\n",
    "                \"purple\", \"yellow\", \"red\"),\n",
    "        main = \"Distribución de CR7 por Nivel de Educación\",\n",
    "        xlab = \"Nivel de Educación\",\n",
    "        ylab = \"Frecuencia\",\n",
    "        beside = FALSE)"
   ]
  },
  {
   "cell_type": "markdown",
   "metadata": {},
   "source": [
    "CLR3 (Nivel de educación):\n",
    "\n",
    "- 1 = 7° básico\n",
    "- 2 = 8° básico\n",
    "- 3 = 1° medio\n",
    "- 4 = 2° medio\n",
    "- 5 = 3° medio\n",
    "- 6 = 4° medio\n",
    "\n",
    "CR7 (Días fumados en los últimos 30 días):\n",
    "\n",
    "- 1 = 0 días\n",
    "- 2 = 1 o 2 días\n",
    "- 3 = 10 a 19 días\n",
    "- 4 = 20 a 29 días\n",
    "- 5 = 3 a 5 días\n",
    "- 6 = 6 a 9 días\n",
    "- 7 = Todos los días"
   ]
  },
  {
   "cell_type": "markdown",
   "metadata": {},
   "source": [
    "Se observa en el gráfico que los estudiantes de niveles más bajos de educación (7° y 8° básico) muestran un mayor porcentaje de no fumadores (0 días). Sin embargo, conforme aumenta el nivel educativo, hay una ligera disminución en la proporción de no fumadores y un aumento en aquellos que han fumado entre 1 a 9 días o más en los últimos 30 días."
   ]
  },
  {
   "cell_type": "code",
   "execution_count": 16,
   "metadata": {
    "vscode": {
     "languageId": "r"
    }
   },
   "outputs": [
    {
     "data": {
      "image/png": "[encoded data removed]",
      "text/plain": [
       "Plot with title \"Distribución de CR7 por Visto Fumar en la Escuela\""
      ]
     },
     "metadata": {
      "image/png": {
       "height": 420,
       "width": 420
      }
     },
     "output_type": "display_data"
    }
   ],
   "source": [
    "# Gráfico de barras apiladas para CR7 y CR22 (Visto fumar en la escuela)\n",
    "barplot(table(gytsAux$CR7, gytsAux$CR22),\n",
    "        legend.text = c(\"0 días\", \"1 o 2 días\", \"10 a 19 días\",\n",
    "                        \"20 a 29 días\", \"3 a 5 días\", \"6 a 9 días\",\n",
    "                        \"Todos los días\"),\n",
    "        col = c(\"lightblue\", \"orange\", \"lightgreen\", \"pink\",\n",
    "                \"purple\", \"yellow\", \"red\"),\n",
    "        main = \"Distribución de CR7 por Visto Fumar en la Escuela\",\n",
    "        xlab = \"Visto Fumar en la Escuela\",\n",
    "        ylab = \"Frecuencia\",\n",
    "        beside = FALSE)"
   ]
  },
  {
   "cell_type": "markdown",
   "metadata": {},
   "source": [
    "CR22 (Visto fumar en la escuela):\n",
    "\n",
    "- 1 = Sí\n",
    "- 2 = No\n",
    "\n",
    "CR7 (Días fumados en los últimos 30 días):\n",
    "\n",
    "- 1 = 0 días\n",
    "- 2 = 1 o 2 días\n",
    "- 3 = 10 a 19 días\n",
    "- 4 = 20 a 29 días\n",
    "- 5 = 3 a 5 días\n",
    "- 6 = 6 a 9 días\n",
    "- 7 = Todos los días"
   ]
  },
  {
   "cell_type": "markdown",
   "metadata": {},
   "source": [
    "Se ve graficamente que aquellos que han visto fumar en la escuela tienen una mayor tendencia a haber fumado en los últimos 30 días, comparado con aquellos que no lo han visto. Esta relación sugiere que la exposición al comportamiento de fumar en el entorno escolar podría influir en la decisión de fumar de los estudiantes."
   ]
  },
  {
   "cell_type": "code",
   "execution_count": 17,
   "metadata": {
    "vscode": {
     "languageId": "r"
    }
   },
   "outputs": [
    {
     "data": {
      "image/png": "[encoded data removed]",
      "text/plain": [
       "Plot with title \"Distribución de CR7 por Amigos Cercanos que Fuman\""
      ]
     },
     "metadata": {
      "image/png": {
       "height": 420,
       "width": 420
      }
     },
     "output_type": "display_data"
    }
   ],
   "source": [
    "# Gráfico de barras apiladas para CR7 y OR46 (Amigos cercanos que fuman)\n",
    "barplot(table(gytsAux$CR7, gytsAux$OR46),\n",
    "        legend.text = c(\"0 días\", \"1 o 2 días\", \"10 a 19 días\",\n",
    "                        \"20 a 29 días\", \"3 a 5 días\", \"6 a 9 días\",\n",
    "                        \"Todos los días\"),\n",
    "        col = c(\"lightblue\", \"orange\", \"lightgreen\", \"pink\",\n",
    "                \"purple\", \"yellow\", \"red\"),\n",
    "        main = \"Distribución de CR7 por Amigos Cercanos que Fuman\",\n",
    "        xlab = \"Amigos Cercanos que Fuman\",\n",
    "        ylab = \"Frecuencia\",\n",
    "        beside = FALSE)"
   ]
  },
  {
   "cell_type": "markdown",
   "metadata": {},
   "source": [
    "OR46 (Amigos cercanos que fuman):\n",
    "\n",
    "- 1 = Ninguno de ellos\n",
    "- 2 = Algunos de ellos\n",
    "- 3 = La mayoría de ellos\n",
    "- 4 = Todos ellos\n",
    "\n",
    "CR7 (Días fumados en los últimos 30 días):\n",
    "\n",
    "- 1 = 0 días\n",
    "- 2 = 1 o 2 días\n",
    "- 3 = 10 a 19 días\n",
    "- 4 = 20 a 29 días\n",
    "- 5 = 3 a 5 días\n",
    "- 6 = 6 a 9 días\n",
    "- 7 = Todos los días"
   ]
  },
  {
   "cell_type": "markdown",
   "metadata": {},
   "source": [
    "Veo en el gráfico que los estudiantes cuyos amigos cercanos no fuman (Ninguno de ellos) son en su mayoría no fumadores. Sin embargo, a medida que aumenta el número de amigos que fuman (especialmente \"Todos ellos\"), también aumenta la probabilidad de que el estudiante haya fumado en los últimos 30 días, destacando la fuerte influencia social en el comportamiento de fumar."
   ]
  },
  {
   "cell_type": "markdown",
   "metadata": {},
   "source": [
    "Analisis estadístico descriptivo sobre la variable “Q7 (CR7)…”. Y cruces de dicha variable con otras 4-5 de interés."
   ]
  },
  {
   "cell_type": "code",
   "execution_count": 18,
   "metadata": {
    "vscode": {
     "languageId": "r"
    }
   },
   "outputs": [
    {
     "name": "stdout",
     "output_type": "stream",
     "text": [
      "                \n",
      "                 Hombre Mujer\n",
      "  0 días           1019  1058\n",
      "  1 o 2 días         65   127\n",
      "  10 a 19 días       35    78\n",
      "  20 a 29 días       23    51\n",
      "  3 a 5 días         32    54\n",
      "  6 a 9 días         22    35\n",
      "  Todos los días     27    30\n"
     ]
    }
   ],
   "source": [
    "# Defino los posibles valores para las variables CR7 y CR2\n",
    "valores_CR7 <- c(\"1\" = \"0 días\", \"2\" = \"1 o 2 días\", \"3\" = \"10 a 19 días\",\n",
    "                 \"4\" = \"20 a 29 días\", \"5\" = \"3 a 5 días\", \"6\" = \"6 a 9 días\",\n",
    "                 \"7\" = \"Todos los días\")\n",
    "\n",
    "valores_CR2 <- c(\"1\" = \"Hombre\", \"2\" = \"Mujer\")\n",
    "\n",
    "# Creo tabla de contingencia con nombres\n",
    "tabla_CR7_CR2 <- table(factor(gytsAux$CR7, labels = valores_CR7),\n",
    "                       factor(gytsAux$CR2, labels = valores_CR2))\n",
    "# Imprimo tabla de contingencia\n",
    "print(tabla_CR7_CR2)"
   ]
  },
  {
   "cell_type": "markdown",
   "metadata": {},
   "source": [
    "Asociación entre CR7 (Días fumados en los últimos 30 días) y CR2 (Sexo):\n",
    "\n",
    "- La mayoría de los encuestados, tanto hombres como mujeres, no han fumado en los últimos 30 días (\"0 días\").\n",
    "- Sin embargo, se observa una tendencia en la que hay más mujeres que hombres que reportan haber fumado \"1 o 2 días\" y \"10 a 19 días\".\n",
    "- A medida que aumenta la frecuencia de fumar (más días fumados), las diferencias entre sexos se reducen.\n",
    "\n",
    "Esto sugiere que mientras la mayoría de ambos sexos no fuman, hay una proporción ligeramente mayor de mujeres que hombres en las categorías de fumadores ocasionales. Esto podría reflejar diferencias en los patrones de iniciación o en la exposición al tabaco entre sexos."
   ]
  },
  {
   "cell_type": "code",
   "execution_count": 19,
   "metadata": {
    "vscode": {
     "languageId": "r"
    }
   },
   "outputs": [
    {
     "name": "stdout",
     "output_type": "stream",
     "text": [
      "                \n",
      "                 7° básico 8° básico 1° medio 2° medio 3° medio 4° medio\n",
      "  0 días               474       461      385      319      202      236\n",
      "  1 o 2 días            13        32       42       43       30       33\n",
      "  10 a 19 días           9        13       24       29       21       17\n",
      "  20 a 29 días           2        10       17       15       12       19\n",
      "  3 a 5 días             1         9       13       18       24       20\n",
      "  6 a 9 días             1         2       16       11       12       15\n",
      "  Todos los días         0         5       17       13       12       10\n"
     ]
    }
   ],
   "source": [
    "valores_CLR3 <- c(\"1\" = \"7° básico\", \"2\" = \"8° básico\", \"3\" = \"1° medio\",\n",
    "                  \"4\" = \"2° medio\", \"5\" = \"3° medio\", \"6\" = \"4° medio\")\n",
    "\n",
    "# Tabla de contingencia entre CR7 y CLR3 (Nivel de educación)\n",
    "tabla_CR7_CLR3 <- table(factor(gytsAux$CR7, labels = valores_CR7), \n",
    "                        factor(gytsAux$CLR3, labels = valores_CLR3))\n",
    "print(tabla_CR7_CLR3)"
   ]
  },
  {
   "cell_type": "markdown",
   "metadata": {},
   "source": [
    "Asociación entre CR7 (Días fumados en los últimos 30 días) y CLR3 (Nivel de educación):\n",
    "\n",
    "- Los estudiantes de 7° y 8° básico tienen una mayor proporción de no fumadores en comparación con los de niveles superiores.\n",
    "- A medida que el nivel de educación aumenta, parece haber un incremento en el número de días fumados, especialmente en las categorías \"3 a 5 días\" y \"Todos los días\".\n",
    "\n",
    "La relación entre el nivel educativo y el comportamiento de fumar puede estar influenciada por varios factores, como la exposición al tabaco y la presión de pares en niveles educativos superiores. El hecho de que los estudiantes en niveles más avanzados tengan una mayor prevalencia de días fumados podría indicar que el riesgo de fumar aumenta con la edad o el acceso a cigarrillos."
   ]
  },
  {
   "cell_type": "code",
   "execution_count": 20,
   "metadata": {
    "vscode": {
     "languageId": "r"
    }
   },
   "outputs": [
    {
     "name": "stdout",
     "output_type": "stream",
     "text": [
      "                \n",
      "                   Sí   No\n",
      "  0 días         1088  976\n",
      "  1 o 2 días      103   84\n",
      "  10 a 19 días     74   35\n",
      "  20 a 29 días     48   22\n",
      "  3 a 5 días       58   23\n",
      "  6 a 9 días       40   16\n",
      "  Todos los días   41   13\n"
     ]
    }
   ],
   "source": [
    "valores_CR22 <- c(\"1\" = \"Sí\", \"2\" = \"No\")\n",
    "\n",
    "# Tabla de contingencia entre CR7 y CR22 (Visto fumar en la escuela)\n",
    "tabla_CR7_CR22 <- table(factor(gytsAux$CR7, labels = valores_CR7), \n",
    "                        factor(gytsAux$CR22, labels = valores_CR22))\n",
    "print(tabla_CR7_CR22)"
   ]
  },
  {
   "cell_type": "markdown",
   "metadata": {},
   "source": [
    "Asociación entre CR7 (Días fumados en los últimos 30 días) y CR22 (Visto fumar en la escuela):\n",
    "\n",
    "- Aquellos que han visto a otros fumar en la escuela tienden a reportar más días fumados en los últimos 30 días.\n",
    "- La proporción de encuestados que no han fumado (\"0 días\") es menor entre aquellos que han visto fumar en la escuela en comparación con aquellos que no lo han visto.\n",
    "\n",
    "La exposición a compañeros fumando en la escuela parece correlacionarse con una mayor propensión a fumar. Esto resalta la importancia del entorno escolar en la influencia sobre el comportamiento de los adolescentes respecto al tabaquismo."
   ]
  },
  {
   "cell_type": "code",
   "execution_count": 21,
   "metadata": {
    "vscode": {
     "languageId": "r"
    }
   },
   "outputs": [
    {
     "name": "stdout",
     "output_type": "stream",
     "text": [
      "                \n",
      "                 Ninguno de ellos Algunos de ellos La mayoría de ellos\n",
      "  0 días                      708             1024                 280\n",
      "  1 o 2 días                   10               93                  71\n",
      "  10 a 19 días                  2               44                  55\n",
      "  20 a 29 días                  2               31                  32\n",
      "  3 a 5 días                    2               22                  47\n",
      "  6 a 9 días                    5                8                  40\n",
      "  Todos los días                3               16                  23\n",
      "                \n",
      "                 Todos ellos\n",
      "  0 días                  31\n",
      "  1 o 2 días              10\n",
      "  10 a 19 días             6\n",
      "  20 a 29 días             6\n",
      "  3 a 5 días              10\n",
      "  6 a 9 días               3\n",
      "  Todos los días           9\n"
     ]
    }
   ],
   "source": [
    "valores_OR46 <- c(\"1\" = \"Ninguno de ellos\", \"2\" = \"Algunos de ellos\",\n",
    "                  \"3\" = \"La mayoría de ellos\", \"4\" = \"Todos ellos\")\n",
    "\n",
    "# Tabla de contingencia entre CR7 y OR46 (Amigos cercanos que fuman)\n",
    "tabla_CR7_OR46 <- table(factor(gytsAux$CR7, labels = valores_CR7), \n",
    "                        factor(gytsAux$OR46, labels = valores_OR46))\n",
    "print(tabla_CR7_OR46)"
   ]
  },
  {
   "cell_type": "markdown",
   "metadata": {},
   "source": [
    "Asociación entre CR7 (Días fumados en los últimos 30 días) y OR46 (Amigos cercanos que fuman):\n",
    "\n",
    "- Una gran proporción de no fumadores (\"0 días\") tiene pocos o ningún amigo que fuma.\n",
    "- A medida que el número de amigos fumadores aumenta, también lo hace la cantidad de días que el encuestado reporta haber fumado, especialmente en las categorías de fumadores más frecuentes (\"10 a 19 días\", \"20 a 29 días\", \"Todos los días\").\n",
    "\n",
    "La influencia de los amigos cercanos es claramente un factor importante en el comportamiento de fumar. Los datos muestran que tener más amigos que fuman se asocia con un mayor número de días fumados, lo que subraya la importancia de los vinculos sociales en la adopción y mantenimiento del hábito de fumar."
   ]
  },
  {
   "cell_type": "markdown",
   "metadata": {},
   "source": [
    "Analisis de asociacion con Chi-cuadrado"
   ]
  },
  {
   "cell_type": "code",
   "execution_count": 22,
   "metadata": {
    "vscode": {
     "languageId": "r"
    }
   },
   "outputs": [
    {
     "name": "stdout",
     "output_type": "stream",
     "text": [
      "Resultado del Test Chi-cuadrado entre CR7 y CR2 (Sexo):\n",
      "\n",
      "\tPearson's Chi-squared test\n",
      "\n",
      "data:  gytsAux$CR7 and gytsAux$CR2\n",
      "X-squared = 40.108, df = 6, p-value = 4.338e-07\n",
      "\n",
      "\n",
      "Resultado del Test Chi-cuadrado entre CR7 y CLR3 (Nivel de educación):\n",
      "\n",
      "\tPearson's Chi-squared test\n",
      "\n",
      "data:  gytsAux$CR7 and gytsAux$CLR3\n",
      "X-squared = 207.48, df = 30, p-value < 2.2e-16\n",
      "\n",
      "\n",
      "Resultado del Test Chi-cuadrado entre CR7 y CR22 (Visto fumar en la escuela):\n",
      "\n",
      "\tPearson's Chi-squared test\n",
      "\n",
      "data:  gytsAux$CR7 and gytsAux$CR22\n",
      "X-squared = 41.474, df = 6, p-value = 2.335e-07\n",
      "\n",
      "\n"
     ]
    },
    {
     "name": "stderr",
     "output_type": "stream",
     "text": [
      "Warning message in chisq.test(gytsAux$CR7, gytsAux$OR46):\n",
      "\"Chi-squared approximation may be incorrect\"\n"
     ]
    },
    {
     "name": "stdout",
     "output_type": "stream",
     "text": [
      "Resultado del Test Chi-cuadrado entre CR7 y OR46 (Amigos cercanos que fuman):\n",
      "\n",
      "\tPearson's Chi-squared test\n",
      "\n",
      "data:  gytsAux$CR7 and gytsAux$OR46\n",
      "X-squared = 539.82, df = 18, p-value < 2.2e-16\n",
      "\n",
      "\n"
     ]
    }
   ],
   "source": [
    "# Test Chi-cuadrado entre CR7 y CR2 (Sexo)\n",
    "chisq_test_CR7_CR2 <- chisq.test(gytsAux$CR7, gytsAux$CR2)\n",
    "cat(\"Resultado del Test Chi-cuadrado entre CR7 y CR2 (Sexo):\\n\")\n",
    "print(chisq_test_CR7_CR2)\n",
    "cat(\"\\n\")\n",
    "\n",
    "# Test Chi-cuadrado entre CR7 y CLR3 (Nivel de educación)\n",
    "chisq_test_CR7_CLR3 <- chisq.test(gytsAux$CR7, gytsAux$CLR3)\n",
    "cat(\"Resultado del Test Chi-cuadrado entre CR7 y CLR3 (Nivel de educación):\\n\")\n",
    "print(chisq_test_CR7_CLR3)\n",
    "cat(\"\\n\")\n",
    "\n",
    "# Test Chi-cuadrado entre CR7 y CR22 (Visto fumar en la escuela)\n",
    "chisq_test_CR7_CR22 <- chisq.test(gytsAux$CR7, gytsAux$CR22)\n",
    "cat(\"Resultado del Test Chi-cuadrado entre CR7 y CR22 (Visto fumar en la escuela):\\n\")\n",
    "print(chisq_test_CR7_CR22)\n",
    "cat(\"\\n\")\n",
    "\n",
    "# Test Chi-cuadrado entre CR7 y OR46 (Amigos cercanos que fuman)\n",
    "chisq_test_CR7_OR46 <- chisq.test(gytsAux$CR7, gytsAux$OR46)\n",
    "cat(\"Resultado del Test Chi-cuadrado entre CR7 y OR46 (Amigos cercanos que fuman):\\n\")\n",
    "print(chisq_test_CR7_OR46)\n",
    "cat(\"\\n\")"
   ]
  },
  {
   "cell_type": "markdown",
   "metadata": {},
   "source": [
    "1. Asociación entre CR7 (Días fumados en los últimos 30 días) y CR2 (Sexo):\n",
    "\n",
    "- Estadístico Chi-cuadrado (X-squared): 40.108\n",
    "- Grados de libertad (df): 6\n",
    "- p-valor: 4.338e-07\n",
    "\n",
    "El p-valor es extremadamente pequeño (mucho menor que 0.05), lo que indica que hay una relación significativa entre la cantidad de días que los encuestados han fumado en los últimos 30 días y su sexo. Esto sugiere que el comportamiento de fumar podría diferir entre hombres y mujeres, lo que coincide con la literatura que a menudo señala diferencias de género en el hábito de fumar.\n",
    "\n",
    "2. Asociación entre CR7 (Días fumados en los últimos 30 días) y CLR3 (Nivel de educación):\n",
    "\n",
    "- Estadístico Chi-cuadrado (X-squared): 207.48\n",
    "- Grados de libertad (df): 30\n",
    "- p-valor: < 2.2e-16\n",
    "\n",
    "El p-valor es nuevamente extremadamente pequeño, indicando una fuerte relación entre la cantidad de días que los encuestados han fumado y su nivel de educación. Este resultado sugiere que el nivel de educación puede influir en la frecuencia de fumar, probablemente debido a la influencia de la educación en la percepción de los riesgos para la salud y el acceso a información sobre los peligros del tabaco.\n",
    "\n",
    "3. Asociación entre CR7 (Días fumados en los últimos 30 días) y CR22 (Visto fumar en la escuela):\n",
    "\n",
    "- Estadístico Chi-cuadrado (X-squared): 41.474\n",
    "- Grados de libertad (df): 6\n",
    "- p-valor: 2.335e-07\n",
    "\n",
    "El p-valor indica una relación significativa entre la cantidad de días que los encuestados han fumado en los últimos 30 días y si han visto a otros fumar en la escuela. Esto sugiere que la exposición al comportamiento de fumar en un entorno escolar puede estar asociada con una mayor probabilidad de que los estudiantes fumen, lo que es coherente con teorías sobre el modelado de comportamiento y la influencia de pares.\n",
    "\n",
    "4. Asociación entre CR7 (Días fumados en los últimos 30 días) y OR46 (Amigos cercanos que fuman):\n",
    "\n",
    "- Estadístico Chi-cuadrado (X-squared): 539.82\n",
    "- Grados de libertad (df): 18\n",
    "- p-valor: < 2.2e-16\n",
    "\n",
    "El p-valor extremadamente pequeño indica una relación muy fuerte entre la cantidad de días que los encuestados han fumado en los últimos 30 días y si sus amigos cercanos fuman. Esto respalda la idea de que la presión de grupo y las normas sociales dentro de los círculos de amigos son factores clave en la adopción del hábito de fumar.\n",
    "\n",
    "La advertencia sobre la aproximación incorrecta del Chi-cuadrado sugiere que podría haber celdas en la tabla de contingencia con frecuencias esperadas muy bajas. Esto podría afectar la validez del test de Chi-cuadrado, sugiriendo que los resultados deben interpretarse con cautela."
   ]
  },
  {
   "cell_type": "markdown",
   "metadata": {},
   "source": [
    "`En los próximos apartados debe analizar un problema de aprendizaje supervisado de clasificación mediante una regresión logística y el algoritmo Naive Bayes. Considere como variable objetivo una transformación binaria de la variable “Q7 (CR7) During the past 30 days, on how many days did you smoke cigarettes?” (vea el archivo “GYTSPAHO2016 Chile All Schools Region 4 (Metropolitana) Web Codebook.pdf”).\n",
    "En R realice una copia independiente de la data para cada modelo, llámelas “gytsRL” y “gytsNB” para la regresión logística y Naive Bayes correspondientemente. Para el desarrollo del informe realizar el procedimiento completo para una técnica y luego continuar con la siguiente:`\n",
    "\n",
    "4.\tElimine las 110 observaciones con valores perdidos en la variable “Q7 (CR7)…” Transforme la variable categórica “Q7 (CR7) During the past 30 days, on how many days did you smoke cigarettes?” en una variable binaria de valor 1 cuando el/la joven muestre signos de ser fumador/a y 0 en otro caso. Comente. "
   ]
  },
  {
   "cell_type": "code",
   "execution_count": 23,
   "metadata": {
    "vscode": {
     "languageId": "r"
    }
   },
   "outputs": [],
   "source": [
    "# Vuelvo a cargar los datos originales y sin modificaciones\n",
    "gytsAux <- as.data.frame(read.csv(\"METROPOLITANA_2016.csv\"))"
   ]
  },
  {
   "cell_type": "code",
   "execution_count": 24,
   "metadata": {
    "vscode": {
     "languageId": "r"
    }
   },
   "outputs": [],
   "source": [
    "# Creo copias independientes de la base de datos\n",
    "gytsRL <- gytsAux\n",
    "gytsNB <- gytsAux"
   ]
  },
  {
   "cell_type": "code",
   "execution_count": 25,
   "metadata": {
    "vscode": {
     "languageId": "r"
    }
   },
   "outputs": [
    {
     "name": "stdout",
     "output_type": "stream",
     "text": [
      "Número de filas originales: 2778 \n",
      "Número de valores faltantes por columna:\n",
      "FinalWgt      CR1      CR2     CLR3     CLR4      CR5      CR6      CR7 \n",
      "       0        2       20       15       22       55       53      110 \n",
      "     CR8      CR9     CR10     CR11     CR12     CR13     CR14      OR9 \n",
      "     107       78       59       25       26       58       69       38 \n",
      "   CLR16    CLR17     ELR2     CR15     CR16     OR12     OR13     CR17 \n",
      "      30       34       23       22       19       48       18       33 \n",
      "    CR18     CR19     CR20    CLR27    CLR28     CR21     CR22     CR23 \n",
      "      32       26       27       40       64       34       68       33 \n",
      "    CR24    CLR33    CLR34     CR25    CLR36     CR27    CLR38    CLR39 \n",
      "      78       44       57       55       51       54       40       36 \n",
      "   CLR40    CLR41    CLR42     CR30     CR31     CR32    CLR46    CLR47 \n",
      "      42       55       35       79       48       81       45       53 \n",
      "   CLR48    CLR49     CR34     CR35     CR36     CR37     CR38     OR45 \n",
      "      68       45       65       72       64      212      169       56 \n",
      "    CR39     CR40     CR41     CR42     CR43     OR55    CLR62    CLR63 \n",
      "      53       70       50       84       83      127       81       75 \n",
      "   CLR64    CLR65     OR46     OR54    CLR68    CLR69    CLR70    CLR71 \n",
      "      82       92       88      104       90      104      107      109 \n",
      "   CLR72  Stratum      PSU \n",
      "     144        0        0 \n",
      "Número de filas con al menos un valor faltante: 870 \n"
     ]
    }
   ],
   "source": [
    "# Verifico la cantidad de valores faltantes por columna\n",
    "cat(\"Número de filas originales:\", nrow(gytsRL), \"\\n\")\n",
    "cat(\"Número de valores faltantes por columna:\\n\")\n",
    "print(colSums(is.na(gytsRL)))\n",
    "\n",
    "# Imprimo número de filas con al menos un valor faltante\n",
    "num_filas_faltantes <- sum(rowSums(is.na(gytsRL)) > 0)\n",
    "cat(\"Número de filas con al menos un valor faltante:\", num_filas_faltantes, \"\\n\")"
   ]
  },
  {
   "cell_type": "code",
   "execution_count": 26,
   "metadata": {
    "vscode": {
     "languageId": "r"
    }
   },
   "outputs": [],
   "source": [
    "# Elimino las observaciones con valores faltantes en la variable CR7\n",
    "gytsRL <- gytsRL[!is.na(gytsRL$CR7), ]\n",
    "gytsNB <- gytsNB[!is.na(gytsNB$CR7), ]"
   ]
  },
  {
   "cell_type": "markdown",
   "metadata": {},
   "source": [
    "Considerando lo siguiente:\n",
    "\n",
    "CR7 (Días fumados en los últimos 30 días)\n",
    "\n",
    "- 1 = 0 días\n",
    "- 2 = 1 o 2 días\n",
    "- 3 = 10 a 19 días\n",
    "- 4 = 20 a 29 días\n",
    "- 5 = 3 a 5 días\n",
    "- 6 = 6 a 9 días\n",
    "- 7 = Todos los días\n",
    "\n",
    "creo una nueva variable llamada `CR7_bin` en ambos dataframes (`gytsRL` y `gytsNB`). La variable `CR7_bin` tomará el valor de 1 si el individuo mostró signos de ser fumador (es decir, si `CR7` tiene alguno de los valores del 2 al 7) y 0 en caso contrario (cuando `CR7` es igual a 1, lo que representa 0 días fumados)."
   ]
  },
  {
   "cell_type": "code",
   "execution_count": 27,
   "metadata": {
    "vscode": {
     "languageId": "r"
    }
   },
   "outputs": [],
   "source": [
    "# Transformo CR7 en una variable binaria\n",
    "gytsRL$CR7_bin <- ifelse(gytsRL$CR7 %in% 2:7, 1, 0)\n",
    "gytsNB$CR7_bin <- ifelse(gytsNB$CR7 %in% 2:7, 1, 0)\n",
    "\n",
    "# Elimino la variable CR7\n",
    "# dado que CR7_bin es una transformación de CR7\n",
    "# y no se necesita tener ambas variables\n",
    "gytsRL$CR7 <- NULL\n",
    "gytsNB$CR7 <- NULL"
   ]
  },
  {
   "cell_type": "markdown",
   "metadata": {},
   "source": [
    "Modelo Naive Bayes\n",
    "\n",
    "5.\t**(Naive Bayes)**  Realice el tratamiento necesario a las variables que utilizará finalmente en función del algoritmo. Puede crear otras variables si lo desea. Explique.\n",
    "\n",
    "Como vimos anteriormente de un total de 2778 filas, hay 870 filas con almenos 1 valor faltante por lo que simplemente borrar esas filas no es algo factible dado que son demasiadas las filas que habrian que borrar, por lo que se procederá a realizar un proceso de imputacion MICE, para así tener 0 valores missing."
   ]
  },
  {
   "cell_type": "code",
   "execution_count": 28,
   "metadata": {
    "vscode": {
     "languageId": "r"
    }
   },
   "outputs": [],
   "source": [
    "# Selecciono variables para la imputación\n",
    "# (excluyendo FinalWgt, Stratum, PSU y CR7_bin)\n",
    "vars_imput <- names(gytsNB)[!names(gytsNB) %in%\n",
    "                               c(\"FinalWgt\", \"Stratum\", \"PSU\", \"CR7_bin\")]"
   ]
  },
  {
   "cell_type": "code",
   "execution_count": 29,
   "metadata": {
    "vscode": {
     "languageId": "r"
    }
   },
   "outputs": [],
   "source": [
    "# Especifico el método de imputación\n",
    "methods <- make.method(gytsNB)\n",
    "# Uso 'pmm' para todas las variables a imputar\n",
    "methods[vars_imput] <- \"pmm\""
   ]
  },
  {
   "cell_type": "code",
   "execution_count": 30,
   "metadata": {
    "vscode": {
     "languageId": "r"
    }
   },
   "outputs": [
    {
     "name": "stdout",
     "output_type": "stream",
     "text": [
      "\n",
      " iter imp variable\n",
      "  1   1  CR1  CR2  CLR3  CLR4  CR5  CR6  CR8  CR9  CR10  CR11  CR12  CR13  CR14  OR9  CLR16  CLR17  ELR2  CR15  CR16  OR12  OR13  CR17  CR18  CR19  CR20  CLR27  CLR28  CR21  CR22  CR23  CR24  CLR33  CLR34  CR25  CLR36  CR27  CLR38  CLR39  CLR40  CLR41  CLR42  CR30  CR31  CR32  CLR46  CLR47  CLR48  CLR49  CR34  CR35  CR36  CR37  CR38  OR45  CR39  CR40  CR41  CR42  CR43  OR55  CLR62  CLR63  CLR64  CLR65  OR46  OR54  CLR68  CLR69  CLR70  CLR71  CLR72\n",
      "  1   2  CR1  CR2  CLR3  CLR4  CR5  CR6  CR8  CR9  CR10  CR11  CR12  CR13  CR14  OR9  CLR16  CLR17  ELR2  CR15  CR16  OR12  OR13  CR17  CR18  CR19  CR20  CLR27  CLR28  CR21  CR22  CR23  CR24  CLR33  CLR34  CR25  CLR36  CR27  CLR38  CLR39  CLR40  CLR41  CLR42  CR30  CR31  CR32  CLR46  CLR47  CLR48  CLR49  CR34  CR35  CR36  CR37  CR38  OR45  CR39  CR40  CR41  CR42  CR43  OR55  CLR62  CLR63  CLR64  CLR65  OR46  OR54  CLR68  CLR69  CLR70  CLR71  CLR72\n",
      "  1   3  CR1  CR2  CLR3  CLR4  CR5  CR6  CR8  CR9  CR10  CR11  CR12  CR13  CR14  OR9  CLR16  CLR17  ELR2  CR15  CR16  OR12  OR13  CR17  CR18  CR19  CR20  CLR27  CLR28  CR21  CR22  CR23  CR24  CLR33  CLR34  CR25  CLR36  CR27  CLR38  CLR39  CLR40  CLR41  CLR42  CR30  CR31  CR32  CLR46  CLR47  CLR48  CLR49  CR34  CR35  CR36  CR37  CR38  OR45  CR39  CR40  CR41  CR42  CR43  OR55  CLR62  CLR63  CLR64  CLR65  OR46  OR54  CLR68  CLR69  CLR70  CLR71  CLR72\n",
      "  1   4  CR1  CR2  CLR3  CLR4  CR5  CR6  CR8  CR9  CR10  CR11  CR12  CR13  CR14  OR9  CLR16  CLR17  ELR2  CR15  CR16  OR12  OR13  CR17  CR18  CR19  CR20  CLR27  CLR28  CR21  CR22  CR23  CR24  CLR33  CLR34  CR25  CLR36  CR27  CLR38  CLR39  CLR40  CLR41  CLR42  CR30  CR31  CR32  CLR46  CLR47  CLR48  CLR49  CR34  CR35  CR36  CR37  CR38  OR45  CR39  CR40  CR41  CR42  CR43  OR55  CLR62  CLR63  CLR64  CLR65  OR46  OR54  CLR68  CLR69  CLR70  CLR71  CLR72\n",
      "  1   5  CR1  CR2  CLR3  CLR4  CR5  CR6  CR8  CR9  CR10  CR11  CR12  CR13  CR14  OR9  CLR16  CLR17  ELR2  CR15  CR16  OR12  OR13  CR17  CR18  CR19  CR20  CLR27  CLR28  CR21  CR22  CR23  CR24  CLR33  CLR34  CR25  CLR36  CR27  CLR38  CLR39  CLR40  CLR41  CLR42  CR30  CR31  CR32  CLR46  CLR47  CLR48  CLR49  CR34  CR35  CR36  CR37  CR38  OR45  CR39  CR40  CR41  CR42  CR43  OR55  CLR62  CLR63  CLR64  CLR65  OR46  OR54  CLR68  CLR69  CLR70  CLR71  CLR72\n",
      "  2   1  CR1  CR2  CLR3  CLR4  CR5  CR6  CR8  CR9  CR10  CR11  CR12  CR13  CR14  OR9  CLR16  CLR17  ELR2  CR15  CR16  OR12  OR13  CR17  CR18  CR19  CR20  CLR27  CLR28  CR21  CR22  CR23  CR24  CLR33  CLR34  CR25  CLR36  CR27  CLR38  CLR39  CLR40  CLR41  CLR42  CR30  CR31  CR32  CLR46  CLR47  CLR48  CLR49  CR34  CR35  CR36  CR37  CR38  OR45  CR39  CR40  CR41  CR42  CR43  OR55  CLR62  CLR63  CLR64  CLR65  OR46  OR54  CLR68  CLR69  CLR70  CLR71  CLR72\n",
      "  2   2  CR1  CR2  CLR3  CLR4  CR5  CR6  CR8  CR9  CR10  CR11  CR12  CR13  CR14  OR9  CLR16  CLR17  ELR2  CR15  CR16  OR12  OR13  CR17  CR18  CR19  CR20  CLR27  CLR28  CR21  CR22  CR23  CR24  CLR33  CLR34  CR25  CLR36  CR27  CLR38  CLR39  CLR40  CLR41  CLR42  CR30  CR31  CR32  CLR46  CLR47  CLR48  CLR49  CR34  CR35  CR36  CR37  CR38  OR45  CR39  CR40  CR41  CR42  CR43  OR55  CLR62  CLR63  CLR64  CLR65  OR46  OR54  CLR68  CLR69  CLR70  CLR71  CLR72\n",
      "  2   3  CR1  CR2  CLR3  CLR4  CR5  CR6  CR8  CR9  CR10  CR11  CR12  CR13  CR14  OR9  CLR16  CLR17  ELR2  CR15  CR16  OR12  OR13  CR17  CR18  CR19  CR20  CLR27  CLR28  CR21  CR22  CR23  CR24  CLR33  CLR34  CR25  CLR36  CR27  CLR38  CLR39  CLR40  CLR41  CLR42  CR30  CR31  CR32  CLR46  CLR47  CLR48  CLR49  CR34  CR35  CR36  CR37  CR38  OR45  CR39  CR40  CR41  CR42  CR43  OR55  CLR62  CLR63  CLR64  CLR65  OR46  OR54  CLR68  CLR69  CLR70  CLR71  CLR72\n",
      "  2   4  CR1  CR2  CLR3  CLR4  CR5  CR6  CR8  CR9  CR10  CR11  CR12  CR13  CR14  OR9  CLR16  CLR17  ELR2  CR15  CR16  OR12  OR13  CR17  CR18  CR19  CR20  CLR27  CLR28  CR21  CR22  CR23  CR24  CLR33  CLR34  CR25  CLR36  CR27  CLR38  CLR39  CLR40  CLR41  CLR42  CR30  CR31  CR32  CLR46  CLR47  CLR48  CLR49  CR34  CR35  CR36  CR37  CR38  OR45  CR39  CR40  CR41  CR42  CR43  OR55  CLR62  CLR63  CLR64  CLR65  OR46  OR54  CLR68  CLR69  CLR70  CLR71  CLR72\n",
      "  2   5  CR1  CR2  CLR3  CLR4  CR5  CR6  CR8  CR9  CR10  CR11  CR12  CR13  CR14  OR9  CLR16  CLR17  ELR2  CR15  CR16  OR12  OR13  CR17  CR18  CR19  CR20  CLR27  CLR28  CR21  CR22  CR23  CR24  CLR33  CLR34  CR25  CLR36  CR27  CLR38  CLR39  CLR40  CLR41  CLR42  CR30  CR31  CR32  CLR46  CLR47  CLR48  CLR49  CR34  CR35  CR36  CR37  CR38  OR45  CR39  CR40  CR41  CR42  CR43  OR55  CLR62  CLR63  CLR64  CLR65  OR46  OR54  CLR68  CLR69  CLR70  CLR71  CLR72\n",
      "  3   1  CR1  CR2  CLR3  CLR4  CR5  CR6  CR8  CR9  CR10  CR11  CR12  CR13  CR14  OR9  CLR16  CLR17  ELR2  CR15  CR16  OR12  OR13  CR17  CR18  CR19  CR20  CLR27  CLR28  CR21  CR22  CR23  CR24  CLR33  CLR34  CR25  CLR36  CR27  CLR38  CLR39  CLR40  CLR41  CLR42  CR30  CR31  CR32  CLR46  CLR47  CLR48  CLR49  CR34  CR35  CR36  CR37  CR38  OR45  CR39  CR40  CR41  CR42  CR43  OR55  CLR62  CLR63  CLR64  CLR65  OR46  OR54  CLR68  CLR69  CLR70  CLR71  CLR72\n",
      "  3   2  CR1  CR2  CLR3  CLR4  CR5  CR6  CR8  CR9  CR10  CR11  CR12  CR13  CR14  OR9  CLR16  CLR17  ELR2  CR15  CR16  OR12  OR13  CR17  CR18  CR19  CR20  CLR27  CLR28  CR21  CR22  CR23  CR24  CLR33  CLR34  CR25  CLR36  CR27  CLR38  CLR39  CLR40  CLR41  CLR42  CR30  CR31  CR32  CLR46  CLR47  CLR48  CLR49  CR34  CR35  CR36  CR37  CR38  OR45  CR39  CR40  CR41  CR42  CR43  OR55  CLR62  CLR63  CLR64  CLR65  OR46  OR54  CLR68  CLR69  CLR70  CLR71  CLR72\n",
      "  3   3  CR1  CR2  CLR3  CLR4  CR5  CR6  CR8  CR9  CR10  CR11  CR12  CR13  CR14  OR9  CLR16  CLR17  ELR2  CR15  CR16  OR12  OR13  CR17  CR18  CR19  CR20  CLR27  CLR28  CR21  CR22  CR23  CR24  CLR33  CLR34  CR25  CLR36  CR27  CLR38  CLR39  CLR40  CLR41  CLR42  CR30  CR31  CR32  CLR46  CLR47  CLR48  CLR49  CR34  CR35  CR36  CR37  CR38  OR45  CR39  CR40  CR41  CR42  CR43  OR55  CLR62  CLR63  CLR64  CLR65  OR46  OR54  CLR68  CLR69  CLR70  CLR71  CLR72\n",
      "  3   4  CR1  CR2  CLR3  CLR4  CR5  CR6  CR8  CR9  CR10  CR11  CR12  CR13  CR14  OR9  CLR16  CLR17  ELR2  CR15  CR16  OR12  OR13  CR17  CR18  CR19  CR20  CLR27  CLR28  CR21  CR22  CR23  CR24  CLR33  CLR34  CR25  CLR36  CR27  CLR38  CLR39  CLR40  CLR41  CLR42  CR30  CR31  CR32  CLR46  CLR47  CLR48  CLR49  CR34  CR35  CR36  CR37  CR38  OR45  CR39  CR40  CR41  CR42  CR43  OR55  CLR62  CLR63  CLR64  CLR65  OR46  OR54  CLR68  CLR69  CLR70  CLR71  CLR72\n",
      "  3   5  CR1  CR2  CLR3  CLR4  CR5  CR6  CR8  CR9  CR10  CR11  CR12  CR13  CR14  OR9  CLR16  CLR17  ELR2  CR15  CR16  OR12  OR13  CR17  CR18  CR19  CR20  CLR27  CLR28  CR21  CR22  CR23  CR24  CLR33  CLR34  CR25  CLR36  CR27  CLR38  CLR39  CLR40  CLR41  CLR42  CR30  CR31  CR32  CLR46  CLR47  CLR48  CLR49  CR34  CR35  CR36  CR37  CR38  OR45  CR39  CR40  CR41  CR42  CR43  OR55  CLR62  CLR63  CLR64  CLR65  OR46  OR54  CLR68  CLR69  CLR70  CLR71  CLR72\n",
      "  4   1  CR1  CR2  CLR3  CLR4  CR5  CR6  CR8  CR9  CR10  CR11  CR12  CR13  CR14  OR9  CLR16  CLR17  ELR2  CR15  CR16  OR12  OR13  CR17  CR18  CR19  CR20  CLR27  CLR28  CR21  CR22  CR23  CR24  CLR33  CLR34  CR25  CLR36  CR27  CLR38  CLR39  CLR40  CLR41  CLR42  CR30  CR31  CR32  CLR46  CLR47  CLR48  CLR49  CR34  CR35  CR36  CR37  CR38  OR45  CR39  CR40  CR41  CR42  CR43  OR55  CLR62  CLR63  CLR64  CLR65  OR46  OR54  CLR68  CLR69  CLR70  CLR71  CLR72\n",
      "  4   2  CR1  CR2  CLR3  CLR4  CR5  CR6  CR8  CR9  CR10  CR11  CR12  CR13  CR14  OR9  CLR16  CLR17  ELR2  CR15  CR16  OR12  OR13  CR17  CR18  CR19  CR20  CLR27  CLR28  CR21  CR22  CR23  CR24  CLR33  CLR34  CR25  CLR36  CR27  CLR38  CLR39  CLR40  CLR41  CLR42  CR30  CR31  CR32  CLR46  CLR47  CLR48  CLR49  CR34  CR35  CR36  CR37  CR38  OR45  CR39  CR40  CR41  CR42  CR43  OR55  CLR62  CLR63  CLR64  CLR65  OR46  OR54  CLR68  CLR69  CLR70  CLR71  CLR72\n",
      "  4   3  CR1  CR2  CLR3  CLR4  CR5  CR6  CR8  CR9  CR10  CR11  CR12  CR13  CR14  OR9  CLR16  CLR17  ELR2  CR15  CR16  OR12  OR13  CR17  CR18  CR19  CR20  CLR27  CLR28  CR21  CR22  CR23  CR24  CLR33  CLR34  CR25  CLR36  CR27  CLR38  CLR39  CLR40  CLR41  CLR42  CR30  CR31  CR32  CLR46  CLR47  CLR48  CLR49  CR34  CR35  CR36  CR37  CR38  OR45  CR39  CR40  CR41  CR42  CR43  OR55  CLR62  CLR63  CLR64  CLR65  OR46  OR54  CLR68  CLR69  CLR70  CLR71  CLR72\n",
      "  4   4  CR1  CR2  CLR3  CLR4  CR5  CR6  CR8  CR9  CR10  CR11  CR12  CR13  CR14  OR9  CLR16  CLR17  ELR2  CR15  CR16  OR12  OR13  CR17  CR18  CR19  CR20  CLR27  CLR28  CR21  CR22  CR23  CR24  CLR33  CLR34  CR25  CLR36  CR27  CLR38  CLR39  CLR40  CLR41  CLR42  CR30  CR31  CR32  CLR46  CLR47  CLR48  CLR49  CR34  CR35  CR36  CR37  CR38  OR45  CR39  CR40  CR41  CR42  CR43  OR55  CLR62  CLR63  CLR64  CLR65  OR46  OR54  CLR68  CLR69  CLR70  CLR71  CLR72\n",
      "  4   5  CR1  CR2  CLR3  CLR4  CR5  CR6  CR8  CR9  CR10  CR11  CR12  CR13  CR14  OR9  CLR16  CLR17  ELR2  CR15  CR16  OR12  OR13  CR17  CR18  CR19  CR20  CLR27  CLR28  CR21  CR22  CR23  CR24  CLR33  CLR34  CR25  CLR36  CR27  CLR38  CLR39  CLR40  CLR41  CLR42  CR30  CR31  CR32  CLR46  CLR47  CLR48  CLR49  CR34  CR35  CR36  CR37  CR38  OR45  CR39  CR40  CR41  CR42  CR43  OR55  CLR62  CLR63  CLR64  CLR65  OR46  OR54  CLR68  CLR69  CLR70  CLR71  CLR72\n",
      "  5   1  CR1  CR2  CLR3  CLR4  CR5  CR6  CR8  CR9  CR10  CR11  CR12  CR13  CR14  OR9  CLR16  CLR17  ELR2  CR15  CR16  OR12  OR13  CR17  CR18  CR19  CR20  CLR27  CLR28  CR21  CR22  CR23  CR24  CLR33  CLR34  CR25  CLR36  CR27  CLR38  CLR39  CLR40  CLR41  CLR42  CR30  CR31  CR32  CLR46  CLR47  CLR48  CLR49  CR34  CR35  CR36  CR37  CR38  OR45  CR39  CR40  CR41  CR42  CR43  OR55  CLR62  CLR63  CLR64  CLR65  OR46  OR54  CLR68  CLR69  CLR70  CLR71  CLR72\n",
      "  5   2  CR1  CR2  CLR3  CLR4  CR5  CR6  CR8  CR9  CR10  CR11  CR12  CR13  CR14  OR9  CLR16  CLR17  ELR2  CR15  CR16  OR12  OR13  CR17  CR18  CR19  CR20  CLR27  CLR28  CR21  CR22  CR23  CR24  CLR33  CLR34  CR25  CLR36  CR27  CLR38  CLR39  CLR40  CLR41  CLR42  CR30  CR31  CR32  CLR46  CLR47  CLR48  CLR49  CR34  CR35  CR36  CR37  CR38  OR45  CR39  CR40  CR41  CR42  CR43  OR55  CLR62  CLR63  CLR64  CLR65  OR46  OR54  CLR68  CLR69  CLR70  CLR71  CLR72\n",
      "  5   3  CR1  CR2  CLR3  CLR4  CR5  CR6  CR8  CR9  CR10  CR11  CR12  CR13  CR14  OR9  CLR16  CLR17  ELR2  CR15  CR16  OR12  OR13  CR17  CR18  CR19  CR20  CLR27  CLR28  CR21  CR22  CR23  CR24  CLR33  CLR34  CR25  CLR36  CR27  CLR38  CLR39  CLR40  CLR41  CLR42  CR30  CR31  CR32  CLR46  CLR47  CLR48  CLR49  CR34  CR35  CR36  CR37  CR38  OR45  CR39  CR40  CR41  CR42  CR43  OR55  CLR62  CLR63  CLR64  CLR65  OR46  OR54  CLR68  CLR69  CLR70  CLR71  CLR72\n",
      "  5   4  CR1  CR2  CLR3  CLR4  CR5  CR6  CR8  CR9  CR10  CR11  CR12  CR13  CR14  OR9  CLR16  CLR17  ELR2  CR15  CR16  OR12  OR13  CR17  CR18  CR19  CR20  CLR27  CLR28  CR21  CR22  CR23  CR24  CLR33  CLR34  CR25  CLR36  CR27  CLR38  CLR39  CLR40  CLR41  CLR42  CR30  CR31  CR32  CLR46  CLR47  CLR48  CLR49  CR34  CR35  CR36  CR37  CR38  OR45  CR39  CR40  CR41  CR42  CR43  OR55  CLR62  CLR63  CLR64  CLR65  OR46  OR54  CLR68  CLR69  CLR70  CLR71  CLR72\n",
      "  5   5  CR1  CR2  CLR3  CLR4  CR5  CR6  CR8  CR9  CR10  CR11  CR12  CR13  CR14  OR9  CLR16  CLR17  ELR2  CR15  CR16  OR12  OR13  CR17  CR18  CR19  CR20  CLR27  CLR28  CR21  CR22  CR23  CR24  CLR33  CLR34  CR25  CLR36  CR27  CLR38  CLR39  CLR40  CLR41  CLR42  CR30  CR31  CR32  CLR46  CLR47  CLR48  CLR49  CR34  CR35  CR36  CR37  CR38  OR45  CR39  CR40  CR41  CR42  CR43  OR55  CLR62  CLR63  CLR64  CLR65  OR46  OR54  CLR68  CLR69  CLR70  CLR71  CLR72\n",
      "  6   1  CR1  CR2  CLR3  CLR4  CR5  CR6  CR8  CR9  CR10  CR11  CR12  CR13  CR14  OR9  CLR16  CLR17  ELR2  CR15  CR16  OR12  OR13  CR17  CR18  CR19  CR20  CLR27  CLR28  CR21  CR22  CR23  CR24  CLR33  CLR34  CR25  CLR36  CR27  CLR38  CLR39  CLR40  CLR41  CLR42  CR30  CR31  CR32  CLR46  CLR47  CLR48  CLR49  CR34  CR35  CR36  CR37  CR38  OR45  CR39  CR40  CR41  CR42  CR43  OR55  CLR62  CLR63  CLR64  CLR65  OR46  OR54  CLR68  CLR69  CLR70  CLR71  CLR72\n",
      "  6   2  CR1  CR2  CLR3  CLR4  CR5  CR6  CR8  CR9  CR10  CR11  CR12  CR13  CR14  OR9  CLR16  CLR17  ELR2  CR15  CR16  OR12  OR13  CR17  CR18  CR19  CR20  CLR27  CLR28  CR21  CR22  CR23  CR24  CLR33  CLR34  CR25  CLR36  CR27  CLR38  CLR39  CLR40  CLR41  CLR42  CR30  CR31  CR32  CLR46  CLR47  CLR48  CLR49  CR34  CR35  CR36  CR37  CR38  OR45  CR39  CR40  CR41  CR42  CR43  OR55  CLR62  CLR63  CLR64  CLR65  OR46  OR54  CLR68  CLR69  CLR70  CLR71  CLR72\n",
      "  6   3  CR1  CR2  CLR3  CLR4  CR5  CR6  CR8  CR9  CR10  CR11  CR12  CR13  CR14  OR9  CLR16  CLR17  ELR2  CR15  CR16  OR12  OR13  CR17  CR18  CR19  CR20  CLR27  CLR28  CR21  CR22  CR23  CR24  CLR33  CLR34  CR25  CLR36  CR27  CLR38  CLR39  CLR40  CLR41  CLR42  CR30  CR31  CR32  CLR46  CLR47  CLR48  CLR49  CR34  CR35  CR36  CR37  CR38  OR45  CR39  CR40  CR41  CR42  CR43  OR55  CLR62  CLR63  CLR64  CLR65  OR46  OR54  CLR68  CLR69  CLR70  CLR71  CLR72\n",
      "  6   4  CR1  CR2  CLR3  CLR4  CR5  CR6  CR8  CR9  CR10  CR11  CR12  CR13  CR14  OR9  CLR16  CLR17  ELR2  CR15  CR16  OR12  OR13  CR17  CR18  CR19  CR20  CLR27  CLR28  CR21  CR22  CR23  CR24  CLR33  CLR34  CR25  CLR36  CR27  CLR38  CLR39  CLR40  CLR41  CLR42  CR30  CR31  CR32  CLR46  CLR47  CLR48  CLR49  CR34  CR35  CR36  CR37  CR38  OR45  CR39  CR40  CR41  CR42  CR43  OR55  CLR62  CLR63  CLR64  CLR65  OR46  OR54  CLR68  CLR69  CLR70  CLR71  CLR72\n",
      "  6   5  CR1  CR2  CLR3  CLR4  CR5  CR6  CR8  CR9  CR10  CR11  CR12  CR13  CR14  OR9  CLR16  CLR17  ELR2  CR15  CR16  OR12  OR13  CR17  CR18  CR19  CR20  CLR27  CLR28  CR21  CR22  CR23  CR24  CLR33  CLR34  CR25  CLR36  CR27  CLR38  CLR39  CLR40  CLR41  CLR42  CR30  CR31  CR32  CLR46  CLR47  CLR48  CLR49  CR34  CR35  CR36  CR37  CR38  OR45  CR39  CR40  CR41  CR42  CR43  OR55  CLR62  CLR63  CLR64  CLR65  OR46  OR54  CLR68  CLR69  CLR70  CLR71  CLR72\n",
      "  7   1  CR1  CR2  CLR3  CLR4  CR5  CR6  CR8  CR9  CR10  CR11  CR12  CR13  CR14  OR9  CLR16  CLR17  ELR2  CR15  CR16  OR12  OR13  CR17  CR18  CR19  CR20  CLR27  CLR28  CR21  CR22  CR23  CR24  CLR33  CLR34  CR25  CLR36  CR27  CLR38  CLR39  CLR40  CLR41  CLR42  CR30  CR31  CR32  CLR46  CLR47  CLR48  CLR49  CR34  CR35  CR36  CR37  CR38  OR45  CR39  CR40  CR41  CR42  CR43  OR55  CLR62  CLR63  CLR64  CLR65  OR46  OR54  CLR68  CLR69  CLR70  CLR71  CLR72\n",
      "  7   2  CR1  CR2  CLR3  CLR4  CR5  CR6  CR8  CR9  CR10  CR11  CR12  CR13  CR14  OR9  CLR16  CLR17  ELR2  CR15  CR16  OR12  OR13  CR17  CR18  CR19  CR20  CLR27  CLR28  CR21  CR22  CR23  CR24  CLR33  CLR34  CR25  CLR36  CR27  CLR38  CLR39  CLR40  CLR41  CLR42  CR30  CR31  CR32  CLR46  CLR47  CLR48  CLR49  CR34  CR35  CR36  CR37  CR38  OR45  CR39  CR40  CR41  CR42  CR43  OR55  CLR62  CLR63  CLR64  CLR65  OR46  OR54  CLR68  CLR69  CLR70  CLR71  CLR72\n",
      "  7   3  CR1  CR2  CLR3  CLR4  CR5  CR6  CR8  CR9  CR10  CR11  CR12  CR13  CR14  OR9  CLR16  CLR17  ELR2  CR15  CR16  OR12  OR13  CR17  CR18  CR19  CR20  CLR27  CLR28  CR21  CR22  CR23  CR24  CLR33  CLR34  CR25  CLR36  CR27  CLR38  CLR39  CLR40  CLR41  CLR42  CR30  CR31  CR32  CLR46  CLR47  CLR48  CLR49  CR34  CR35  CR36  CR37  CR38  OR45  CR39  CR40  CR41  CR42  CR43  OR55  CLR62  CLR63  CLR64  CLR65  OR46  OR54  CLR68  CLR69  CLR70  CLR71  CLR72\n",
      "  7   4  CR1  CR2  CLR3  CLR4  CR5  CR6  CR8  CR9  CR10  CR11  CR12  CR13  CR14  OR9  CLR16  CLR17  ELR2  CR15  CR16  OR12  OR13  CR17  CR18  CR19  CR20  CLR27  CLR28  CR21  CR22  CR23  CR24  CLR33  CLR34  CR25  CLR36  CR27  CLR38  CLR39  CLR40  CLR41  CLR42  CR30  CR31  CR32  CLR46  CLR47  CLR48  CLR49  CR34  CR35  CR36  CR37  CR38  OR45  CR39  CR40  CR41  CR42  CR43  OR55  CLR62  CLR63  CLR64  CLR65  OR46  OR54  CLR68  CLR69  CLR70  CLR71  CLR72\n",
      "  7   5  CR1  CR2  CLR3  CLR4  CR5  CR6  CR8  CR9  CR10  CR11  CR12  CR13  CR14  OR9  CLR16  CLR17  ELR2  CR15  CR16  OR12  OR13  CR17  CR18  CR19  CR20  CLR27  CLR28  CR21  CR22  CR23  CR24  CLR33  CLR34  CR25  CLR36  CR27  CLR38  CLR39  CLR40  CLR41  CLR42  CR30  CR31  CR32  CLR46  CLR47  CLR48  CLR49  CR34  CR35  CR36  CR37  CR38  OR45  CR39  CR40  CR41  CR42  CR43  OR55  CLR62  CLR63  CLR64  CLR65  OR46  OR54  CLR68  CLR69  CLR70  CLR71  CLR72\n",
      "  8   1  CR1  CR2  CLR3  CLR4  CR5  CR6  CR8  CR9  CR10  CR11  CR12  CR13  CR14  OR9  CLR16  CLR17  ELR2  CR15  CR16  OR12  OR13  CR17  CR18  CR19  CR20  CLR27  CLR28  CR21  CR22  CR23  CR24  CLR33  CLR34  CR25  CLR36  CR27  CLR38  CLR39  CLR40  CLR41  CLR42  CR30  CR31  CR32  CLR46  CLR47  CLR48  CLR49  CR34  CR35  CR36  CR37  CR38  OR45  CR39  CR40  CR41  CR42  CR43  OR55  CLR62  CLR63  CLR64  CLR65  OR46  OR54  CLR68  CLR69  CLR70  CLR71  CLR72\n",
      "  8   2  CR1  CR2  CLR3  CLR4  CR5  CR6  CR8  CR9  CR10  CR11  CR12  CR13  CR14  OR9  CLR16  CLR17  ELR2  CR15  CR16  OR12  OR13  CR17  CR18  CR19  CR20  CLR27  CLR28  CR21  CR22  CR23  CR24  CLR33  CLR34  CR25  CLR36  CR27  CLR38  CLR39  CLR40  CLR41  CLR42  CR30  CR31  CR32  CLR46  CLR47  CLR48  CLR49  CR34  CR35  CR36  CR37  CR38  OR45  CR39  CR40  CR41  CR42  CR43  OR55  CLR62  CLR63  CLR64  CLR65  OR46  OR54  CLR68  CLR69  CLR70  CLR71  CLR72\n",
      "  8   3  CR1  CR2  CLR3  CLR4  CR5  CR6  CR8  CR9  CR10  CR11  CR12  CR13  CR14  OR9  CLR16  CLR17  ELR2  CR15  CR16  OR12  OR13  CR17  CR18  CR19  CR20  CLR27  CLR28  CR21  CR22  CR23  CR24  CLR33  CLR34  CR25  CLR36  CR27  CLR38  CLR39  CLR40  CLR41  CLR42  CR30  CR31  CR32  CLR46  CLR47  CLR48  CLR49  CR34  CR35  CR36  CR37  CR38  OR45  CR39  CR40  CR41  CR42  CR43  OR55  CLR62  CLR63  CLR64  CLR65  OR46  OR54  CLR68  CLR69  CLR70  CLR71  CLR72\n",
      "  8   4  CR1  CR2  CLR3  CLR4  CR5  CR6  CR8  CR9  CR10  CR11  CR12  CR13  CR14  OR9  CLR16  CLR17  ELR2  CR15  CR16  OR12  OR13  CR17  CR18  CR19  CR20  CLR27  CLR28  CR21  CR22  CR23  CR24  CLR33  CLR34  CR25  CLR36  CR27  CLR38  CLR39  CLR40  CLR41  CLR42  CR30  CR31  CR32  CLR46  CLR47  CLR48  CLR49  CR34  CR35  CR36  CR37  CR38  OR45  CR39  CR40  CR41  CR42  CR43  OR55  CLR62  CLR63  CLR64  CLR65  OR46  OR54  CLR68  CLR69  CLR70  CLR71  CLR72\n",
      "  8   5  CR1  CR2  CLR3  CLR4  CR5  CR6  CR8  CR9  CR10  CR11  CR12  CR13  CR14  OR9  CLR16  CLR17  ELR2  CR15  CR16  OR12  OR13  CR17  CR18  CR19  CR20  CLR27  CLR28  CR21  CR22  CR23  CR24  CLR33  CLR34  CR25  CLR36  CR27  CLR38  CLR39  CLR40  CLR41  CLR42  CR30  CR31  CR32  CLR46  CLR47  CLR48  CLR49  CR34  CR35  CR36  CR37  CR38  OR45  CR39  CR40  CR41  CR42  CR43  OR55  CLR62  CLR63  CLR64  CLR65  OR46  OR54  CLR68  CLR69  CLR70  CLR71  CLR72\n",
      "  9   1  CR1  CR2  CLR3  CLR4  CR5  CR6  CR8  CR9  CR10  CR11  CR12  CR13  CR14  OR9  CLR16  CLR17  ELR2  CR15  CR16  OR12  OR13  CR17  CR18  CR19  CR20  CLR27  CLR28  CR21  CR22  CR23  CR24  CLR33  CLR34  CR25  CLR36  CR27  CLR38  CLR39  CLR40  CLR41  CLR42  CR30  CR31  CR32  CLR46  CLR47  CLR48  CLR49  CR34  CR35  CR36  CR37  CR38  OR45  CR39  CR40  CR41  CR42  CR43  OR55  CLR62  CLR63  CLR64  CLR65  OR46  OR54  CLR68  CLR69  CLR70  CLR71  CLR72\n",
      "  9   2  CR1  CR2  CLR3  CLR4  CR5  CR6  CR8  CR9  CR10  CR11  CR12  CR13  CR14  OR9  CLR16  CLR17  ELR2  CR15  CR16  OR12  OR13  CR17  CR18  CR19  CR20  CLR27  CLR28  CR21  CR22  CR23  CR24  CLR33  CLR34  CR25  CLR36  CR27  CLR38  CLR39  CLR40  CLR41  CLR42  CR30  CR31  CR32  CLR46  CLR47  CLR48  CLR49  CR34  CR35  CR36  CR37  CR38  OR45  CR39  CR40  CR41  CR42  CR43  OR55  CLR62  CLR63  CLR64  CLR65  OR46  OR54  CLR68  CLR69  CLR70  CLR71  CLR72\n",
      "  9   3  CR1  CR2  CLR3  CLR4  CR5  CR6  CR8  CR9  CR10  CR11  CR12  CR13  CR14  OR9  CLR16  CLR17  ELR2  CR15  CR16  OR12  OR13  CR17  CR18  CR19  CR20  CLR27  CLR28  CR21  CR22  CR23  CR24  CLR33  CLR34  CR25  CLR36  CR27  CLR38  CLR39  CLR40  CLR41  CLR42  CR30  CR31  CR32  CLR46  CLR47  CLR48  CLR49  CR34  CR35  CR36  CR37  CR38  OR45  CR39  CR40  CR41  CR42  CR43  OR55  CLR62  CLR63  CLR64  CLR65  OR46  OR54  CLR68  CLR69  CLR70  CLR71  CLR72\n",
      "  9   4  CR1  CR2  CLR3  CLR4  CR5  CR6  CR8  CR9  CR10  CR11  CR12  CR13  CR14  OR9  CLR16  CLR17  ELR2  CR15  CR16  OR12  OR13  CR17  CR18  CR19  CR20  CLR27  CLR28  CR21  CR22  CR23  CR24  CLR33  CLR34  CR25  CLR36  CR27  CLR38  CLR39  CLR40  CLR41  CLR42  CR30  CR31  CR32  CLR46  CLR47  CLR48  CLR49  CR34  CR35  CR36  CR37  CR38  OR45  CR39  CR40  CR41  CR42  CR43  OR55  CLR62  CLR63  CLR64  CLR65  OR46  OR54  CLR68  CLR69  CLR70  CLR71  CLR72\n",
      "  9   5  CR1  CR2  CLR3  CLR4  CR5  CR6  CR8  CR9  CR10  CR11  CR12  CR13  CR14  OR9  CLR16  CLR17  ELR2  CR15  CR16  OR12  OR13  CR17  CR18  CR19  CR20  CLR27  CLR28  CR21  CR22  CR23  CR24  CLR33  CLR34  CR25  CLR36  CR27  CLR38  CLR39  CLR40  CLR41  CLR42  CR30  CR31  CR32  CLR46  CLR47  CLR48  CLR49  CR34  CR35  CR36  CR37  CR38  OR45  CR39  CR40  CR41  CR42  CR43  OR55  CLR62  CLR63  CLR64  CLR65  OR46  OR54  CLR68  CLR69  CLR70  CLR71  CLR72\n",
      "  10   1  CR1  CR2  CLR3  CLR4  CR5  CR6  CR8  CR9  CR10  CR11  CR12  CR13  CR14  OR9  CLR16  CLR17  ELR2  CR15  CR16  OR12  OR13  CR17  CR18  CR19  CR20  CLR27  CLR28  CR21  CR22  CR23  CR24  CLR33  CLR34  CR25  CLR36  CR27  CLR38  CLR39  CLR40  CLR41  CLR42  CR30  CR31  CR32  CLR46  CLR47  CLR48  CLR49  CR34  CR35  CR36  CR37  CR38  OR45  CR39  CR40  CR41  CR42  CR43  OR55  CLR62  CLR63  CLR64  CLR65  OR46  OR54  CLR68  CLR69  CLR70  CLR71  CLR72\n",
      "  10   2  CR1  CR2  CLR3  CLR4  CR5  CR6  CR8  CR9  CR10  CR11  CR12  CR13  CR14  OR9  CLR16  CLR17  ELR2  CR15  CR16  OR12  OR13  CR17  CR18  CR19  CR20  CLR27  CLR28  CR21  CR22  CR23  CR24  CLR33  CLR34  CR25  CLR36  CR27  CLR38  CLR39  CLR40  CLR41  CLR42  CR30  CR31  CR32  CLR46  CLR47  CLR48  CLR49  CR34  CR35  CR36  CR37  CR38  OR45  CR39  CR40  CR41  CR42  CR43  OR55  CLR62  CLR63  CLR64  CLR65  OR46  OR54  CLR68  CLR69  CLR70  CLR71  CLR72\n",
      "  10   3  CR1  CR2  CLR3  CLR4  CR5  CR6  CR8  CR9  CR10  CR11  CR12  CR13  CR14  OR9  CLR16  CLR17  ELR2  CR15  CR16  OR12  OR13  CR17  CR18  CR19  CR20  CLR27  CLR28  CR21  CR22  CR23  CR24  CLR33  CLR34  CR25  CLR36  CR27  CLR38  CLR39  CLR40  CLR41  CLR42  CR30  CR31  CR32  CLR46  CLR47  CLR48  CLR49  CR34  CR35  CR36  CR37  CR38  OR45  CR39  CR40  CR41  CR42  CR43  OR55  CLR62  CLR63  CLR64  CLR65  OR46  OR54  CLR68  CLR69  CLR70  CLR71  CLR72\n",
      "  10   4  CR1  CR2  CLR3  CLR4  CR5  CR6  CR8  CR9  CR10  CR11  CR12  CR13  CR14  OR9  CLR16  CLR17  ELR2  CR15  CR16  OR12  OR13  CR17  CR18  CR19  CR20  CLR27  CLR28  CR21  CR22  CR23  CR24  CLR33  CLR34  CR25  CLR36  CR27  CLR38  CLR39  CLR40  CLR41  CLR42  CR30  CR31  CR32  CLR46  CLR47  CLR48  CLR49  CR34  CR35  CR36  CR37  CR38  OR45  CR39  CR40  CR41  CR42  CR43  OR55  CLR62  CLR63  CLR64  CLR65  OR46  OR54  CLR68  CLR69  CLR70  CLR71  CLR72\n",
      "  10   5  CR1  CR2  CLR3  CLR4  CR5  CR6  CR8  CR9  CR10  CR11  CR12  CR13  CR14  OR9  CLR16  CLR17  ELR2  CR15  CR16  OR12  OR13  CR17  CR18  CR19  CR20  CLR27  CLR28  CR21  CR22  CR23  CR24  CLR33  CLR34  CR25  CLR36  CR27  CLR38  CLR39  CLR40  CLR41  CLR42  CR30  CR31  CR32  CLR46  CLR47  CLR48  CLR49  CR34  CR35  CR36  CR37  CR38  OR45  CR39  CR40  CR41  CR42  CR43  OR55  CLR62  CLR63  CLR64  CLR65  OR46  OR54  CLR68  CLR69  CLR70  CLR71  CLR72\n",
      "  11   1  CR1  CR2  CLR3  CLR4  CR5  CR6  CR8  CR9  CR10  CR11  CR12  CR13  CR14  OR9  CLR16  CLR17  ELR2  CR15  CR16  OR12  OR13  CR17  CR18  CR19  CR20  CLR27  CLR28  CR21  CR22  CR23  CR24  CLR33  CLR34  CR25  CLR36  CR27  CLR38  CLR39  CLR40  CLR41  CLR42  CR30  CR31  CR32  CLR46  CLR47  CLR48  CLR49  CR34  CR35  CR36  CR37  CR38  OR45  CR39  CR40  CR41  CR42  CR43  OR55  CLR62  CLR63  CLR64  CLR65  OR46  OR54  CLR68  CLR69  CLR70  CLR71  CLR72\n",
      "  11   2  CR1  CR2  CLR3  CLR4  CR5  CR6  CR8  CR9  CR10  CR11  CR12  CR13  CR14  OR9  CLR16  CLR17  ELR2  CR15  CR16  OR12  OR13  CR17  CR18  CR19  CR20  CLR27  CLR28  CR21  CR22  CR23  CR24  CLR33  CLR34  CR25  CLR36  CR27  CLR38  CLR39  CLR40  CLR41  CLR42  CR30  CR31  CR32  CLR46  CLR47  CLR48  CLR49  CR34  CR35  CR36  CR37  CR38  OR45  CR39  CR40  CR41  CR42  CR43  OR55  CLR62  CLR63  CLR64  CLR65  OR46  OR54  CLR68  CLR69  CLR70  CLR71  CLR72\n",
      "  11   3  CR1  CR2  CLR3  CLR4  CR5  CR6  CR8  CR9  CR10  CR11  CR12  CR13  CR14  OR9  CLR16  CLR17  ELR2  CR15  CR16  OR12  OR13  CR17  CR18  CR19  CR20  CLR27  CLR28  CR21  CR22  CR23  CR24  CLR33  CLR34  CR25  CLR36  CR27  CLR38  CLR39  CLR40  CLR41  CLR42  CR30  CR31  CR32  CLR46  CLR47  CLR48  CLR49  CR34  CR35  CR36  CR37  CR38  OR45  CR39  CR40  CR41  CR42  CR43  OR55  CLR62  CLR63  CLR64  CLR65  OR46  OR54  CLR68  CLR69  CLR70  CLR71  CLR72\n",
      "  11   4  CR1  CR2  CLR3  CLR4  CR5  CR6  CR8  CR9  CR10  CR11  CR12  CR13  CR14  OR9  CLR16  CLR17  ELR2  CR15  CR16  OR12  OR13  CR17  CR18  CR19  CR20  CLR27  CLR28  CR21  CR22  CR23  CR24  CLR33  CLR34  CR25  CLR36  CR27  CLR38  CLR39  CLR40  CLR41  CLR42  CR30  CR31  CR32  CLR46  CLR47  CLR48  CLR49  CR34  CR35  CR36  CR37  CR38  OR45  CR39  CR40  CR41  CR42  CR43  OR55  CLR62  CLR63  CLR64  CLR65  OR46  OR54  CLR68  CLR69  CLR70  CLR71  CLR72\n",
      "  11   5  CR1  CR2  CLR3  CLR4  CR5  CR6  CR8  CR9  CR10  CR11  CR12  CR13  CR14  OR9  CLR16  CLR17  ELR2  CR15  CR16  OR12  OR13  CR17  CR18  CR19  CR20  CLR27  CLR28  CR21  CR22  CR23  CR24  CLR33  CLR34  CR25  CLR36  CR27  CLR38  CLR39  CLR40  CLR41  CLR42  CR30  CR31  CR32  CLR46  CLR47  CLR48  CLR49  CR34  CR35  CR36  CR37  CR38  OR45  CR39  CR40  CR41  CR42  CR43  OR55  CLR62  CLR63  CLR64  CLR65  OR46  OR54  CLR68  CLR69  CLR70  CLR71  CLR72\n",
      "  12   1  CR1  CR2  CLR3  CLR4  CR5  CR6  CR8  CR9  CR10  CR11  CR12  CR13  CR14  OR9  CLR16  CLR17  ELR2  CR15  CR16  OR12  OR13  CR17  CR18  CR19  CR20  CLR27  CLR28  CR21  CR22  CR23  CR24  CLR33  CLR34  CR25  CLR36  CR27  CLR38  CLR39  CLR40  CLR41  CLR42  CR30  CR31  CR32  CLR46  CLR47  CLR48  CLR49  CR34  CR35  CR36  CR37  CR38  OR45  CR39  CR40  CR41  CR42  CR43  OR55  CLR62  CLR63  CLR64  CLR65  OR46  OR54  CLR68  CLR69  CLR70  CLR71  CLR72\n",
      "  12   2  CR1  CR2  CLR3  CLR4  CR5  CR6  CR8  CR9  CR10  CR11  CR12  CR13  CR14  OR9  CLR16  CLR17  ELR2  CR15  CR16  OR12  OR13  CR17  CR18  CR19  CR20  CLR27  CLR28  CR21  CR22  CR23  CR24  CLR33  CLR34  CR25  CLR36  CR27  CLR38  CLR39  CLR40  CLR41  CLR42  CR30  CR31  CR32  CLR46  CLR47  CLR48  CLR49  CR34  CR35  CR36  CR37  CR38  OR45  CR39  CR40  CR41  CR42  CR43  OR55  CLR62  CLR63  CLR64  CLR65  OR46  OR54  CLR68  CLR69  CLR70  CLR71  CLR72\n",
      "  12   3  CR1  CR2  CLR3  CLR4  CR5  CR6  CR8  CR9  CR10  CR11  CR12  CR13  CR14  OR9  CLR16  CLR17  ELR2  CR15  CR16  OR12  OR13  CR17  CR18  CR19  CR20  CLR27  CLR28  CR21  CR22  CR23  CR24  CLR33  CLR34  CR25  CLR36  CR27  CLR38  CLR39  CLR40  CLR41  CLR42  CR30  CR31  CR32  CLR46  CLR47  CLR48  CLR49  CR34  CR35  CR36  CR37  CR38  OR45  CR39  CR40  CR41  CR42  CR43  OR55  CLR62  CLR63  CLR64  CLR65  OR46  OR54  CLR68  CLR69  CLR70  CLR71  CLR72\n",
      "  12   4  CR1  CR2  CLR3  CLR4  CR5  CR6  CR8  CR9  CR10  CR11  CR12  CR13  CR14  OR9  CLR16  CLR17  ELR2  CR15  CR16  OR12  OR13  CR17  CR18  CR19  CR20  CLR27  CLR28  CR21  CR22  CR23  CR24  CLR33  CLR34  CR25  CLR36  CR27  CLR38  CLR39  CLR40  CLR41  CLR42  CR30  CR31  CR32  CLR46  CLR47  CLR48  CLR49  CR34  CR35  CR36  CR37  CR38  OR45  CR39  CR40  CR41  CR42  CR43  OR55  CLR62  CLR63  CLR64  CLR65  OR46  OR54  CLR68  CLR69  CLR70  CLR71  CLR72\n",
      "  12   5  CR1  CR2  CLR3  CLR4  CR5  CR6  CR8  CR9  CR10  CR11  CR12  CR13  CR14  OR9  CLR16  CLR17  ELR2  CR15  CR16  OR12  OR13  CR17  CR18  CR19  CR20  CLR27  CLR28  CR21  CR22  CR23  CR24  CLR33  CLR34  CR25  CLR36  CR27  CLR38  CLR39  CLR40  CLR41  CLR42  CR30  CR31  CR32  CLR46  CLR47  CLR48  CLR49  CR34  CR35  CR36  CR37  CR38  OR45  CR39  CR40  CR41  CR42  CR43  OR55  CLR62  CLR63  CLR64  CLR65  OR46  OR54  CLR68  CLR69  CLR70  CLR71  CLR72\n",
      "  13   1  CR1  CR2  CLR3  CLR4  CR5  CR6  CR8  CR9  CR10  CR11  CR12  CR13  CR14  OR9  CLR16  CLR17  ELR2  CR15  CR16  OR12  OR13  CR17  CR18  CR19  CR20  CLR27  CLR28  CR21  CR22  CR23  CR24  CLR33  CLR34  CR25  CLR36  CR27  CLR38  CLR39  CLR40  CLR41  CLR42  CR30  CR31  CR32  CLR46  CLR47  CLR48  CLR49  CR34  CR35  CR36  CR37  CR38  OR45  CR39  CR40  CR41  CR42  CR43  OR55  CLR62  CLR63  CLR64  CLR65  OR46  OR54  CLR68  CLR69  CLR70  CLR71  CLR72\n",
      "  13   2  CR1  CR2  CLR3  CLR4  CR5  CR6  CR8  CR9  CR10  CR11  CR12  CR13  CR14  OR9  CLR16  CLR17  ELR2  CR15  CR16  OR12  OR13  CR17  CR18  CR19  CR20  CLR27  CLR28  CR21  CR22  CR23  CR24  CLR33  CLR34  CR25  CLR36  CR27  CLR38  CLR39  CLR40  CLR41  CLR42  CR30  CR31  CR32  CLR46  CLR47  CLR48  CLR49  CR34  CR35  CR36  CR37  CR38  OR45  CR39  CR40  CR41  CR42  CR43  OR55  CLR62  CLR63  CLR64  CLR65  OR46  OR54  CLR68  CLR69  CLR70  CLR71  CLR72\n",
      "  13   3  CR1  CR2  CLR3  CLR4  CR5  CR6  CR8  CR9  CR10  CR11  CR12  CR13  CR14  OR9  CLR16  CLR17  ELR2  CR15  CR16  OR12  OR13  CR17  CR18  CR19  CR20  CLR27  CLR28  CR21  CR22  CR23  CR24  CLR33  CLR34  CR25  CLR36  CR27  CLR38  CLR39  CLR40  CLR41  CLR42  CR30  CR31  CR32  CLR46  CLR47  CLR48  CLR49  CR34  CR35  CR36  CR37  CR38  OR45  CR39  CR40  CR41  CR42  CR43  OR55  CLR62  CLR63  CLR64  CLR65  OR46  OR54  CLR68  CLR69  CLR70  CLR71  CLR72\n",
      "  13   4  CR1  CR2  CLR3  CLR4  CR5  CR6  CR8  CR9  CR10  CR11  CR12  CR13  CR14  OR9  CLR16  CLR17  ELR2  CR15  CR16  OR12  OR13  CR17  CR18  CR19  CR20  CLR27  CLR28  CR21  CR22  CR23  CR24  CLR33  CLR34  CR25  CLR36  CR27  CLR38  CLR39  CLR40  CLR41  CLR42  CR30  CR31  CR32  CLR46  CLR47  CLR48  CLR49  CR34  CR35  CR36  CR37  CR38  OR45  CR39  CR40  CR41  CR42  CR43  OR55  CLR62  CLR63  CLR64  CLR65  OR46  OR54  CLR68  CLR69  CLR70  CLR71  CLR72\n",
      "  13   5  CR1  CR2  CLR3  CLR4  CR5  CR6  CR8  CR9  CR10  CR11  CR12  CR13  CR14  OR9  CLR16  CLR17  ELR2  CR15  CR16  OR12  OR13  CR17  CR18  CR19  CR20  CLR27  CLR28  CR21  CR22  CR23  CR24  CLR33  CLR34  CR25  CLR36  CR27  CLR38  CLR39  CLR40  CLR41  CLR42  CR30  CR31  CR32  CLR46  CLR47  CLR48  CLR49  CR34  CR35  CR36  CR37  CR38  OR45  CR39  CR40  CR41  CR42  CR43  OR55  CLR62  CLR63  CLR64  CLR65  OR46  OR54  CLR68  CLR69  CLR70  CLR71  CLR72\n",
      "  14   1  CR1  CR2  CLR3  CLR4  CR5  CR6  CR8  CR9  CR10  CR11  CR12  CR13  CR14  OR9  CLR16  CLR17  ELR2  CR15  CR16  OR12  OR13  CR17  CR18  CR19  CR20  CLR27  CLR28  CR21  CR22  CR23  CR24  CLR33  CLR34  CR25  CLR36  CR27  CLR38  CLR39  CLR40  CLR41  CLR42  CR30  CR31  CR32  CLR46  CLR47  CLR48  CLR49  CR34  CR35  CR36  CR37  CR38  OR45  CR39  CR40  CR41  CR42  CR43  OR55  CLR62  CLR63  CLR64  CLR65  OR46  OR54  CLR68  CLR69  CLR70  CLR71  CLR72\n",
      "  14   2  CR1  CR2  CLR3  CLR4  CR5  CR6  CR8  CR9  CR10  CR11  CR12  CR13  CR14  OR9  CLR16  CLR17  ELR2  CR15  CR16  OR12  OR13  CR17  CR18  CR19  CR20  CLR27  CLR28  CR21  CR22  CR23  CR24  CLR33  CLR34  CR25  CLR36  CR27  CLR38  CLR39  CLR40  CLR41  CLR42  CR30  CR31  CR32  CLR46  CLR47  CLR48  CLR49  CR34  CR35  CR36  CR37  CR38  OR45  CR39  CR40  CR41  CR42  CR43  OR55  CLR62  CLR63  CLR64  CLR65  OR46  OR54  CLR68  CLR69  CLR70  CLR71  CLR72\n",
      "  14   3  CR1  CR2  CLR3  CLR4  CR5  CR6  CR8  CR9  CR10  CR11  CR12  CR13  CR14  OR9  CLR16  CLR17  ELR2  CR15  CR16  OR12  OR13  CR17  CR18  CR19  CR20  CLR27  CLR28  CR21  CR22  CR23  CR24  CLR33  CLR34  CR25  CLR36  CR27  CLR38  CLR39  CLR40  CLR41  CLR42  CR30  CR31  CR32  CLR46  CLR47  CLR48  CLR49  CR34  CR35  CR36  CR37  CR38  OR45  CR39  CR40  CR41  CR42  CR43  OR55  CLR62  CLR63  CLR64  CLR65  OR46  OR54  CLR68  CLR69  CLR70  CLR71  CLR72\n",
      "  14   4  CR1  CR2  CLR3  CLR4  CR5  CR6  CR8  CR9  CR10  CR11  CR12  CR13  CR14  OR9  CLR16  CLR17  ELR2  CR15  CR16  OR12  OR13  CR17  CR18  CR19  CR20  CLR27  CLR28  CR21  CR22  CR23  CR24  CLR33  CLR34  CR25  CLR36  CR27  CLR38  CLR39  CLR40  CLR41  CLR42  CR30  CR31  CR32  CLR46  CLR47  CLR48  CLR49  CR34  CR35  CR36  CR37  CR38  OR45  CR39  CR40  CR41  CR42  CR43  OR55  CLR62  CLR63  CLR64  CLR65  OR46  OR54  CLR68  CLR69  CLR70  CLR71  CLR72\n",
      "  14   5  CR1  CR2  CLR3  CLR4  CR5  CR6  CR8  CR9  CR10  CR11  CR12  CR13  CR14  OR9  CLR16  CLR17  ELR2  CR15  CR16  OR12  OR13  CR17  CR18  CR19  CR20  CLR27  CLR28  CR21  CR22  CR23  CR24  CLR33  CLR34  CR25  CLR36  CR27  CLR38  CLR39  CLR40  CLR41  CLR42  CR30  CR31  CR32  CLR46  CLR47  CLR48  CLR49  CR34  CR35  CR36  CR37  CR38  OR45  CR39  CR40  CR41  CR42  CR43  OR55  CLR62  CLR63  CLR64  CLR65  OR46  OR54  CLR68  CLR69  CLR70  CLR71  CLR72\n",
      "  15   1  CR1  CR2  CLR3  CLR4  CR5  CR6  CR8  CR9  CR10  CR11  CR12  CR13  CR14  OR9  CLR16  CLR17  ELR2  CR15  CR16  OR12  OR13  CR17  CR18  CR19  CR20  CLR27  CLR28  CR21  CR22  CR23  CR24  CLR33  CLR34  CR25  CLR36  CR27  CLR38  CLR39  CLR40  CLR41  CLR42  CR30  CR31  CR32  CLR46  CLR47  CLR48  CLR49  CR34  CR35  CR36  CR37  CR38  OR45  CR39  CR40  CR41  CR42  CR43  OR55  CLR62  CLR63  CLR64  CLR65  OR46  OR54  CLR68  CLR69  CLR70  CLR71  CLR72\n",
      "  15   2  CR1  CR2  CLR3  CLR4  CR5  CR6  CR8  CR9  CR10  CR11  CR12  CR13  CR14  OR9  CLR16  CLR17  ELR2  CR15  CR16  OR12  OR13  CR17  CR18  CR19  CR20  CLR27  CLR28  CR21  CR22  CR23  CR24  CLR33  CLR34  CR25  CLR36  CR27  CLR38  CLR39  CLR40  CLR41  CLR42  CR30  CR31  CR32  CLR46  CLR47  CLR48  CLR49  CR34  CR35  CR36  CR37  CR38  OR45  CR39  CR40  CR41  CR42  CR43  OR55  CLR62  CLR63  CLR64  CLR65  OR46  OR54  CLR68  CLR69  CLR70  CLR71  CLR72\n",
      "  15   3  CR1  CR2  CLR3  CLR4  CR5  CR6  CR8  CR9  CR10  CR11  CR12  CR13  CR14  OR9  CLR16  CLR17  ELR2  CR15  CR16  OR12  OR13  CR17  CR18  CR19  CR20  CLR27  CLR28  CR21  CR22  CR23  CR24  CLR33  CLR34  CR25  CLR36  CR27  CLR38  CLR39  CLR40  CLR41  CLR42  CR30  CR31  CR32  CLR46  CLR47  CLR48  CLR49  CR34  CR35  CR36  CR37  CR38  OR45  CR39  CR40  CR41  CR42  CR43  OR55  CLR62  CLR63  CLR64  CLR65  OR46  OR54  CLR68  CLR69  CLR70  CLR71  CLR72\n",
      "  15   4  CR1  CR2  CLR3  CLR4  CR5  CR6  CR8  CR9  CR10  CR11  CR12  CR13  CR14  OR9  CLR16  CLR17  ELR2  CR15  CR16  OR12  OR13  CR17  CR18  CR19  CR20  CLR27  CLR28  CR21  CR22  CR23  CR24  CLR33  CLR34  CR25  CLR36  CR27  CLR38  CLR39  CLR40  CLR41  CLR42  CR30  CR31  CR32  CLR46  CLR47  CLR48  CLR49  CR34  CR35  CR36  CR37  CR38  OR45  CR39  CR40  CR41  CR42  CR43  OR55  CLR62  CLR63  CLR64  CLR65  OR46  OR54  CLR68  CLR69  CLR70  CLR71  CLR72\n",
      "  15   5  CR1  CR2  CLR3  CLR4  CR5  CR6  CR8  CR9  CR10  CR11  CR12  CR13  CR14  OR9  CLR16  CLR17  ELR2  CR15  CR16  OR12  OR13  CR17  CR18  CR19  CR20  CLR27  CLR28  CR21  CR22  CR23  CR24  CLR33  CLR34  CR25  CLR36  CR27  CLR38  CLR39  CLR40  CLR41  CLR42  CR30  CR31  CR32  CLR46  CLR47  CLR48  CLR49  CR34  CR35  CR36  CR37  CR38  OR45  CR39  CR40  CR41  CR42  CR43  OR55  CLR62  CLR63  CLR64  CLR65  OR46  OR54  CLR68  CLR69  CLR70  CLR71  CLR72\n",
      "  16   1  CR1  CR2  CLR3  CLR4  CR5  CR6  CR8  CR9  CR10  CR11  CR12  CR13  CR14  OR9  CLR16  CLR17  ELR2  CR15  CR16  OR12  OR13  CR17  CR18  CR19  CR20  CLR27  CLR28  CR21  CR22  CR23  CR24  CLR33  CLR34  CR25  CLR36  CR27  CLR38  CLR39  CLR40  CLR41  CLR42  CR30  CR31  CR32  CLR46  CLR47  CLR48  CLR49  CR34  CR35  CR36  CR37  CR38  OR45  CR39  CR40  CR41  CR42  CR43  OR55  CLR62  CLR63  CLR64  CLR65  OR46  OR54  CLR68  CLR69  CLR70  CLR71  CLR72\n",
      "  16   2  CR1  CR2  CLR3  CLR4  CR5  CR6  CR8  CR9  CR10  CR11  CR12  CR13  CR14  OR9  CLR16  CLR17  ELR2  CR15  CR16  OR12  OR13  CR17  CR18  CR19  CR20  CLR27  CLR28  CR21  CR22  CR23  CR24  CLR33  CLR34  CR25  CLR36  CR27  CLR38  CLR39  CLR40  CLR41  CLR42  CR30  CR31  CR32  CLR46  CLR47  CLR48  CLR49  CR34  CR35  CR36  CR37  CR38  OR45  CR39  CR40  CR41  CR42  CR43  OR55  CLR62  CLR63  CLR64  CLR65  OR46  OR54  CLR68  CLR69  CLR70  CLR71  CLR72\n",
      "  16   3  CR1  CR2  CLR3  CLR4  CR5  CR6  CR8  CR9  CR10  CR11  CR12  CR13  CR14  OR9  CLR16  CLR17  ELR2  CR15  CR16  OR12  OR13  CR17  CR18  CR19  CR20  CLR27  CLR28  CR21  CR22  CR23  CR24  CLR33  CLR34  CR25  CLR36  CR27  CLR38  CLR39  CLR40  CLR41  CLR42  CR30  CR31  CR32  CLR46  CLR47  CLR48  CLR49  CR34  CR35  CR36  CR37  CR38  OR45  CR39  CR40  CR41  CR42  CR43  OR55  CLR62  CLR63  CLR64  CLR65  OR46  OR54  CLR68  CLR69  CLR70  CLR71  CLR72\n",
      "  16   4  CR1  CR2  CLR3  CLR4  CR5  CR6  CR8  CR9  CR10  CR11  CR12  CR13  CR14  OR9  CLR16  CLR17  ELR2  CR15  CR16  OR12  OR13  CR17  CR18  CR19  CR20  CLR27  CLR28  CR21  CR22  CR23  CR24  CLR33  CLR34  CR25  CLR36  CR27  CLR38  CLR39  CLR40  CLR41  CLR42  CR30  CR31  CR32  CLR46  CLR47  CLR48  CLR49  CR34  CR35  CR36  CR37  CR38  OR45  CR39  CR40  CR41  CR42  CR43  OR55  CLR62  CLR63  CLR64  CLR65  OR46  OR54  CLR68  CLR69  CLR70  CLR71  CLR72\n",
      "  16   5  CR1  CR2  CLR3  CLR4  CR5  CR6  CR8  CR9  CR10  CR11  CR12  CR13  CR14  OR9  CLR16  CLR17  ELR2  CR15  CR16  OR12  OR13  CR17  CR18  CR19  CR20  CLR27  CLR28  CR21  CR22  CR23  CR24  CLR33  CLR34  CR25  CLR36  CR27  CLR38  CLR39  CLR40  CLR41  CLR42  CR30  CR31  CR32  CLR46  CLR47  CLR48  CLR49  CR34  CR35  CR36  CR37  CR38  OR45  CR39  CR40  CR41  CR42  CR43  OR55  CLR62  CLR63  CLR64  CLR65  OR46  OR54  CLR68  CLR69  CLR70  CLR71  CLR72\n",
      "  17   1  CR1  CR2  CLR3  CLR4  CR5  CR6  CR8  CR9  CR10  CR11  CR12  CR13  CR14  OR9  CLR16  CLR17  ELR2  CR15  CR16  OR12  OR13  CR17  CR18  CR19  CR20  CLR27  CLR28  CR21  CR22  CR23  CR24  CLR33  CLR34  CR25  CLR36  CR27  CLR38  CLR39  CLR40  CLR41  CLR42  CR30  CR31  CR32  CLR46  CLR47  CLR48  CLR49  CR34  CR35  CR36  CR37  CR38  OR45  CR39  CR40  CR41  CR42  CR43  OR55  CLR62  CLR63  CLR64  CLR65  OR46  OR54  CLR68  CLR69  CLR70  CLR71  CLR72\n",
      "  17   2  CR1  CR2  CLR3  CLR4  CR5  CR6  CR8  CR9  CR10  CR11  CR12  CR13  CR14  OR9  CLR16  CLR17  ELR2  CR15  CR16  OR12  OR13  CR17  CR18  CR19  CR20  CLR27  CLR28  CR21  CR22  CR23  CR24  CLR33  CLR34  CR25  CLR36  CR27  CLR38  CLR39  CLR40  CLR41  CLR42  CR30  CR31  CR32  CLR46  CLR47  CLR48  CLR49  CR34  CR35  CR36  CR37  CR38  OR45  CR39  CR40  CR41  CR42  CR43  OR55  CLR62  CLR63  CLR64  CLR65  OR46  OR54  CLR68  CLR69  CLR70  CLR71  CLR72\n",
      "  17   3  CR1  CR2  CLR3  CLR4  CR5  CR6  CR8  CR9  CR10  CR11  CR12  CR13  CR14  OR9  CLR16  CLR17  ELR2  CR15  CR16  OR12  OR13  CR17  CR18  CR19  CR20  CLR27  CLR28  CR21  CR22  CR23  CR24  CLR33  CLR34  CR25  CLR36  CR27  CLR38  CLR39  CLR40  CLR41  CLR42  CR30  CR31  CR32  CLR46  CLR47  CLR48  CLR49  CR34  CR35  CR36  CR37  CR38  OR45  CR39  CR40  CR41  CR42  CR43  OR55  CLR62  CLR63  CLR64  CLR65  OR46  OR54  CLR68  CLR69  CLR70  CLR71  CLR72\n",
      "  17   4  CR1  CR2  CLR3  CLR4  CR5  CR6  CR8  CR9  CR10  CR11  CR12  CR13  CR14  OR9  CLR16  CLR17  ELR2  CR15  CR16  OR12  OR13  CR17  CR18  CR19  CR20  CLR27  CLR28  CR21  CR22  CR23  CR24  CLR33  CLR34  CR25  CLR36  CR27  CLR38  CLR39  CLR40  CLR41  CLR42  CR30  CR31  CR32  CLR46  CLR47  CLR48  CLR49  CR34  CR35  CR36  CR37  CR38  OR45  CR39  CR40  CR41  CR42  CR43  OR55  CLR62  CLR63  CLR64  CLR65  OR46  OR54  CLR68  CLR69  CLR70  CLR71  CLR72\n",
      "  17   5  CR1  CR2  CLR3  CLR4  CR5  CR6  CR8  CR9  CR10  CR11  CR12  CR13  CR14  OR9  CLR16  CLR17  ELR2  CR15  CR16  OR12  OR13  CR17  CR18  CR19  CR20  CLR27  CLR28  CR21  CR22  CR23  CR24  CLR33  CLR34  CR25  CLR36  CR27  CLR38  CLR39  CLR40  CLR41  CLR42  CR30  CR31  CR32  CLR46  CLR47  CLR48  CLR49  CR34  CR35  CR36  CR37  CR38  OR45  CR39  CR40  CR41  CR42  CR43  OR55  CLR62  CLR63  CLR64  CLR65  OR46  OR54  CLR68  CLR69  CLR70  CLR71  CLR72\n",
      "  18   1  CR1  CR2  CLR3  CLR4  CR5  CR6  CR8  CR9  CR10  CR11  CR12  CR13  CR14  OR9  CLR16  CLR17  ELR2  CR15  CR16  OR12  OR13  CR17  CR18  CR19  CR20  CLR27  CLR28  CR21  CR22  CR23  CR24  CLR33  CLR34  CR25  CLR36  CR27  CLR38  CLR39  CLR40  CLR41  CLR42  CR30  CR31  CR32  CLR46  CLR47  CLR48  CLR49  CR34  CR35  CR36  CR37  CR38  OR45  CR39  CR40  CR41  CR42  CR43  OR55  CLR62  CLR63  CLR64  CLR65  OR46  OR54  CLR68  CLR69  CLR70  CLR71  CLR72\n",
      "  18   2  CR1  CR2  CLR3  CLR4  CR5  CR6  CR8  CR9  CR10  CR11  CR12  CR13  CR14  OR9  CLR16  CLR17  ELR2  CR15  CR16  OR12  OR13  CR17  CR18  CR19  CR20  CLR27  CLR28  CR21  CR22  CR23  CR24  CLR33  CLR34  CR25  CLR36  CR27  CLR38  CLR39  CLR40  CLR41  CLR42  CR30  CR31  CR32  CLR46  CLR47  CLR48  CLR49  CR34  CR35  CR36  CR37  CR38  OR45  CR39  CR40  CR41  CR42  CR43  OR55  CLR62  CLR63  CLR64  CLR65  OR46  OR54  CLR68  CLR69  CLR70  CLR71  CLR72\n",
      "  18   3  CR1  CR2  CLR3  CLR4  CR5  CR6  CR8  CR9  CR10  CR11  CR12  CR13  CR14  OR9  CLR16  CLR17  ELR2  CR15  CR16  OR12  OR13  CR17  CR18  CR19  CR20  CLR27  CLR28  CR21  CR22  CR23  CR24  CLR33  CLR34  CR25  CLR36  CR27  CLR38  CLR39  CLR40  CLR41  CLR42  CR30  CR31  CR32  CLR46  CLR47  CLR48  CLR49  CR34  CR35  CR36  CR37  CR38  OR45  CR39  CR40  CR41  CR42  CR43  OR55  CLR62  CLR63  CLR64  CLR65  OR46  OR54  CLR68  CLR69  CLR70  CLR71  CLR72\n",
      "  18   4  CR1  CR2  CLR3  CLR4  CR5  CR6  CR8  CR9  CR10  CR11  CR12  CR13  CR14  OR9  CLR16  CLR17  ELR2  CR15  CR16  OR12  OR13  CR17  CR18  CR19  CR20  CLR27  CLR28  CR21  CR22  CR23  CR24  CLR33  CLR34  CR25  CLR36  CR27  CLR38  CLR39  CLR40  CLR41  CLR42  CR30  CR31  CR32  CLR46  CLR47  CLR48  CLR49  CR34  CR35  CR36  CR37  CR38  OR45  CR39  CR40  CR41  CR42  CR43  OR55  CLR62  CLR63  CLR64  CLR65  OR46  OR54  CLR68  CLR69  CLR70  CLR71  CLR72\n",
      "  18   5  CR1  CR2  CLR3  CLR4  CR5  CR6  CR8  CR9  CR10  CR11  CR12  CR13  CR14  OR9  CLR16  CLR17  ELR2  CR15  CR16  OR12  OR13  CR17  CR18  CR19  CR20  CLR27  CLR28  CR21  CR22  CR23  CR24  CLR33  CLR34  CR25  CLR36  CR27  CLR38  CLR39  CLR40  CLR41  CLR42  CR30  CR31  CR32  CLR46  CLR47  CLR48  CLR49  CR34  CR35  CR36  CR37  CR38  OR45  CR39  CR40  CR41  CR42  CR43  OR55  CLR62  CLR63  CLR64  CLR65  OR46  OR54  CLR68  CLR69  CLR70  CLR71  CLR72\n",
      "  19   1  CR1  CR2  CLR3  CLR4  CR5  CR6  CR8  CR9  CR10  CR11  CR12  CR13  CR14  OR9  CLR16  CLR17  ELR2  CR15  CR16  OR12  OR13  CR17  CR18  CR19  CR20  CLR27  CLR28  CR21  CR22  CR23  CR24  CLR33  CLR34  CR25  CLR36  CR27  CLR38  CLR39  CLR40  CLR41  CLR42  CR30  CR31  CR32  CLR46  CLR47  CLR48  CLR49  CR34  CR35  CR36  CR37  CR38  OR45  CR39  CR40  CR41  CR42  CR43  OR55  CLR62  CLR63  CLR64  CLR65  OR46  OR54  CLR68  CLR69  CLR70  CLR71  CLR72\n",
      "  19   2  CR1  CR2  CLR3  CLR4  CR5  CR6  CR8  CR9  CR10  CR11  CR12  CR13  CR14  OR9  CLR16  CLR17  ELR2  CR15  CR16  OR12  OR13  CR17  CR18  CR19  CR20  CLR27  CLR28  CR21  CR22  CR23  CR24  CLR33  CLR34  CR25  CLR36  CR27  CLR38  CLR39  CLR40  CLR41  CLR42  CR30  CR31  CR32  CLR46  CLR47  CLR48  CLR49  CR34  CR35  CR36  CR37  CR38  OR45  CR39  CR40  CR41  CR42  CR43  OR55  CLR62  CLR63  CLR64  CLR65  OR46  OR54  CLR68  CLR69  CLR70  CLR71  CLR72\n",
      "  19   3  CR1  CR2  CLR3  CLR4  CR5  CR6  CR8  CR9  CR10  CR11  CR12  CR13  CR14  OR9  CLR16  CLR17  ELR2  CR15  CR16  OR12  OR13  CR17  CR18  CR19  CR20  CLR27  CLR28  CR21  CR22  CR23  CR24  CLR33  CLR34  CR25  CLR36  CR27  CLR38  CLR39  CLR40  CLR41  CLR42  CR30  CR31  CR32  CLR46  CLR47  CLR48  CLR49  CR34  CR35  CR36  CR37  CR38  OR45  CR39  CR40  CR41  CR42  CR43  OR55  CLR62  CLR63  CLR64  CLR65  OR46  OR54  CLR68  CLR69  CLR70  CLR71  CLR72\n",
      "  19   4  CR1  CR2  CLR3  CLR4  CR5  CR6  CR8  CR9  CR10  CR11  CR12  CR13  CR14  OR9  CLR16  CLR17  ELR2  CR15  CR16  OR12  OR13  CR17  CR18  CR19  CR20  CLR27  CLR28  CR21  CR22  CR23  CR24  CLR33  CLR34  CR25  CLR36  CR27  CLR38  CLR39  CLR40  CLR41  CLR42  CR30  CR31  CR32  CLR46  CLR47  CLR48  CLR49  CR34  CR35  CR36  CR37  CR38  OR45  CR39  CR40  CR41  CR42  CR43  OR55  CLR62  CLR63  CLR64  CLR65  OR46  OR54  CLR68  CLR69  CLR70  CLR71  CLR72\n",
      "  19   5  CR1  CR2  CLR3  CLR4  CR5  CR6  CR8  CR9  CR10  CR11  CR12  CR13  CR14  OR9  CLR16  CLR17  ELR2  CR15  CR16  OR12  OR13  CR17  CR18  CR19  CR20  CLR27  CLR28  CR21  CR22  CR23  CR24  CLR33  CLR34  CR25  CLR36  CR27  CLR38  CLR39  CLR40  CLR41  CLR42  CR30  CR31  CR32  CLR46  CLR47  CLR48  CLR49  CR34  CR35  CR36  CR37  CR38  OR45  CR39  CR40  CR41  CR42  CR43  OR55  CLR62  CLR63  CLR64  CLR65  OR46  OR54  CLR68  CLR69  CLR70  CLR71  CLR72\n",
      "  20   1  CR1  CR2  CLR3  CLR4  CR5  CR6  CR8  CR9  CR10  CR11  CR12  CR13  CR14  OR9  CLR16  CLR17  ELR2  CR15  CR16  OR12  OR13  CR17  CR18  CR19  CR20  CLR27  CLR28  CR21  CR22  CR23  CR24  CLR33  CLR34  CR25  CLR36  CR27  CLR38  CLR39  CLR40  CLR41  CLR42  CR30  CR31  CR32  CLR46  CLR47  CLR48  CLR49  CR34  CR35  CR36  CR37  CR38  OR45  CR39  CR40  CR41  CR42  CR43  OR55  CLR62  CLR63  CLR64  CLR65  OR46  OR54  CLR68  CLR69  CLR70  CLR71  CLR72\n",
      "  20   2  CR1  CR2  CLR3  CLR4  CR5  CR6  CR8  CR9  CR10  CR11  CR12  CR13  CR14  OR9  CLR16  CLR17  ELR2  CR15  CR16  OR12  OR13  CR17  CR18  CR19  CR20  CLR27  CLR28  CR21  CR22  CR23  CR24  CLR33  CLR34  CR25  CLR36  CR27  CLR38  CLR39  CLR40  CLR41  CLR42  CR30  CR31  CR32  CLR46  CLR47  CLR48  CLR49  CR34  CR35  CR36  CR37  CR38  OR45  CR39  CR40  CR41  CR42  CR43  OR55  CLR62  CLR63  CLR64  CLR65  OR46  OR54  CLR68  CLR69  CLR70  CLR71  CLR72\n",
      "  20   3  CR1  CR2  CLR3  CLR4  CR5  CR6  CR8  CR9  CR10  CR11  CR12  CR13  CR14  OR9  CLR16  CLR17  ELR2  CR15  CR16  OR12  OR13  CR17  CR18  CR19  CR20  CLR27  CLR28  CR21  CR22  CR23  CR24  CLR33  CLR34  CR25  CLR36  CR27  CLR38  CLR39  CLR40  CLR41  CLR42  CR30  CR31  CR32  CLR46  CLR47  CLR48  CLR49  CR34  CR35  CR36  CR37  CR38  OR45  CR39  CR40  CR41  CR42  CR43  OR55  CLR62  CLR63  CLR64  CLR65  OR46  OR54  CLR68  CLR69  CLR70  CLR71  CLR72\n",
      "  20   4  CR1  CR2  CLR3  CLR4  CR5  CR6  CR8  CR9  CR10  CR11  CR12  CR13  CR14  OR9  CLR16  CLR17  ELR2  CR15  CR16  OR12  OR13  CR17  CR18  CR19  CR20  CLR27  CLR28  CR21  CR22  CR23  CR24  CLR33  CLR34  CR25  CLR36  CR27  CLR38  CLR39  CLR40  CLR41  CLR42  CR30  CR31  CR32  CLR46  CLR47  CLR48  CLR49  CR34  CR35  CR36  CR37  CR38  OR45  CR39  CR40  CR41  CR42  CR43  OR55  CLR62  CLR63  CLR64  CLR65  OR46  OR54  CLR68  CLR69  CLR70  CLR71  CLR72\n",
      "  20   5  CR1  CR2  CLR3  CLR4  CR5  CR6  CR8  CR9  CR10  CR11  CR12  CR13  CR14  OR9  CLR16  CLR17  ELR2  CR15  CR16  OR12  OR13  CR17  CR18  CR19  CR20  CLR27  CLR28  CR21  CR22  CR23  CR24  CLR33  CLR34  CR25  CLR36  CR27  CLR38  CLR39  CLR40  CLR41  CLR42  CR30  CR31  CR32  CLR46  CLR47  CLR48  CLR49  CR34  CR35  CR36  CR37  CR38  OR45  CR39  CR40  CR41  CR42  CR43  OR55  CLR62  CLR63  CLR64  CLR65  OR46  OR54  CLR68  CLR69  CLR70  CLR71  CLR72\n",
      "  21   1  CR1  CR2  CLR3  CLR4  CR5  CR6  CR8  CR9  CR10  CR11  CR12  CR13  CR14  OR9  CLR16  CLR17  ELR2  CR15  CR16  OR12  OR13  CR17  CR18  CR19  CR20  CLR27  CLR28  CR21  CR22  CR23  CR24  CLR33  CLR34  CR25  CLR36  CR27  CLR38  CLR39  CLR40  CLR41  CLR42  CR30  CR31  CR32  CLR46  CLR47  CLR48  CLR49  CR34  CR35  CR36  CR37  CR38  OR45  CR39  CR40  CR41  CR42  CR43  OR55  CLR62  CLR63  CLR64  CLR65  OR46  OR54  CLR68  CLR69  CLR70  CLR71  CLR72\n",
      "  21   2  CR1  CR2  CLR3  CLR4  CR5  CR6  CR8  CR9  CR10  CR11  CR12  CR13  CR14  OR9  CLR16  CLR17  ELR2  CR15  CR16  OR12  OR13  CR17  CR18  CR19  CR20  CLR27  CLR28  CR21  CR22  CR23  CR24  CLR33  CLR34  CR25  CLR36  CR27  CLR38  CLR39  CLR40  CLR41  CLR42  CR30  CR31  CR32  CLR46  CLR47  CLR48  CLR49  CR34  CR35  CR36  CR37  CR38  OR45  CR39  CR40  CR41  CR42  CR43  OR55  CLR62  CLR63  CLR64  CLR65  OR46  OR54  CLR68  CLR69  CLR70  CLR71  CLR72\n",
      "  21   3  CR1  CR2  CLR3  CLR4  CR5  CR6  CR8  CR9  CR10  CR11  CR12  CR13  CR14  OR9  CLR16  CLR17  ELR2  CR15  CR16  OR12  OR13  CR17  CR18  CR19  CR20  CLR27  CLR28  CR21  CR22  CR23  CR24  CLR33  CLR34  CR25  CLR36  CR27  CLR38  CLR39  CLR40  CLR41  CLR42  CR30  CR31  CR32  CLR46  CLR47  CLR48  CLR49  CR34  CR35  CR36  CR37  CR38  OR45  CR39  CR40  CR41  CR42  CR43  OR55  CLR62  CLR63  CLR64  CLR65  OR46  OR54  CLR68  CLR69  CLR70  CLR71  CLR72\n",
      "  21   4  CR1  CR2  CLR3  CLR4  CR5  CR6  CR8  CR9  CR10  CR11  CR12  CR13  CR14  OR9  CLR16  CLR17  ELR2  CR15  CR16  OR12  OR13  CR17  CR18  CR19  CR20  CLR27  CLR28  CR21  CR22  CR23  CR24  CLR33  CLR34  CR25  CLR36  CR27  CLR38  CLR39  CLR40  CLR41  CLR42  CR30  CR31  CR32  CLR46  CLR47  CLR48  CLR49  CR34  CR35  CR36  CR37  CR38  OR45  CR39  CR40  CR41  CR42  CR43  OR55  CLR62  CLR63  CLR64  CLR65  OR46  OR54  CLR68  CLR69  CLR70  CLR71  CLR72\n",
      "  21   5  CR1  CR2  CLR3  CLR4  CR5  CR6  CR8  CR9  CR10  CR11  CR12  CR13  CR14  OR9  CLR16  CLR17  ELR2  CR15  CR16  OR12  OR13  CR17  CR18  CR19  CR20  CLR27  CLR28  CR21  CR22  CR23  CR24  CLR33  CLR34  CR25  CLR36  CR27  CLR38  CLR39  CLR40  CLR41  CLR42  CR30  CR31  CR32  CLR46  CLR47  CLR48  CLR49  CR34  CR35  CR36  CR37  CR38  OR45  CR39  CR40  CR41  CR42  CR43  OR55  CLR62  CLR63  CLR64  CLR65  OR46  OR54  CLR68  CLR69  CLR70  CLR71  CLR72\n",
      "  22   1  CR1  CR2  CLR3  CLR4  CR5  CR6  CR8  CR9  CR10  CR11  CR12  CR13  CR14  OR9  CLR16  CLR17  ELR2  CR15  CR16  OR12  OR13  CR17  CR18  CR19  CR20  CLR27  CLR28  CR21  CR22  CR23  CR24  CLR33  CLR34  CR25  CLR36  CR27  CLR38  CLR39  CLR40  CLR41  CLR42  CR30  CR31  CR32  CLR46  CLR47  CLR48  CLR49  CR34  CR35  CR36  CR37  CR38  OR45  CR39  CR40  CR41  CR42  CR43  OR55  CLR62  CLR63  CLR64  CLR65  OR46  OR54  CLR68  CLR69  CLR70  CLR71  CLR72\n",
      "  22   2  CR1  CR2  CLR3  CLR4  CR5  CR6  CR8  CR9  CR10  CR11  CR12  CR13  CR14  OR9  CLR16  CLR17  ELR2  CR15  CR16  OR12  OR13  CR17  CR18  CR19  CR20  CLR27  CLR28  CR21  CR22  CR23  CR24  CLR33  CLR34  CR25  CLR36  CR27  CLR38  CLR39  CLR40  CLR41  CLR42  CR30  CR31  CR32  CLR46  CLR47  CLR48  CLR49  CR34  CR35  CR36  CR37  CR38  OR45  CR39  CR40  CR41  CR42  CR43  OR55  CLR62  CLR63  CLR64  CLR65  OR46  OR54  CLR68  CLR69  CLR70  CLR71  CLR72\n",
      "  22   3  CR1  CR2  CLR3  CLR4  CR5  CR6  CR8  CR9  CR10  CR11  CR12  CR13  CR14  OR9  CLR16  CLR17  ELR2  CR15  CR16  OR12  OR13  CR17  CR18  CR19  CR20  CLR27  CLR28  CR21  CR22  CR23  CR24  CLR33  CLR34  CR25  CLR36  CR27  CLR38  CLR39  CLR40  CLR41  CLR42  CR30  CR31  CR32  CLR46  CLR47  CLR48  CLR49  CR34  CR35  CR36  CR37  CR38  OR45  CR39  CR40  CR41  CR42  CR43  OR55  CLR62  CLR63  CLR64  CLR65  OR46  OR54  CLR68  CLR69  CLR70  CLR71  CLR72\n",
      "  22   4  CR1  CR2  CLR3  CLR4  CR5  CR6  CR8  CR9  CR10  CR11  CR12  CR13  CR14  OR9  CLR16  CLR17  ELR2  CR15  CR16  OR12  OR13  CR17  CR18  CR19  CR20  CLR27  CLR28  CR21  CR22  CR23  CR24  CLR33  CLR34  CR25  CLR36  CR27  CLR38  CLR39  CLR40  CLR41  CLR42  CR30  CR31  CR32  CLR46  CLR47  CLR48  CLR49  CR34  CR35  CR36  CR37  CR38  OR45  CR39  CR40  CR41  CR42  CR43  OR55  CLR62  CLR63  CLR64  CLR65  OR46  OR54  CLR68  CLR69  CLR70  CLR71  CLR72\n",
      "  22   5  CR1  CR2  CLR3  CLR4  CR5  CR6  CR8  CR9  CR10  CR11  CR12  CR13  CR14  OR9  CLR16  CLR17  ELR2  CR15  CR16  OR12  OR13  CR17  CR18  CR19  CR20  CLR27  CLR28  CR21  CR22  CR23  CR24  CLR33  CLR34  CR25  CLR36  CR27  CLR38  CLR39  CLR40  CLR41  CLR42  CR30  CR31  CR32  CLR46  CLR47  CLR48  CLR49  CR34  CR35  CR36  CR37  CR38  OR45  CR39  CR40  CR41  CR42  CR43  OR55  CLR62  CLR63  CLR64  CLR65  OR46  OR54  CLR68  CLR69  CLR70  CLR71  CLR72\n",
      "  23   1  CR1  CR2  CLR3  CLR4  CR5  CR6  CR8  CR9  CR10  CR11  CR12  CR13  CR14  OR9  CLR16  CLR17  ELR2  CR15  CR16  OR12  OR13  CR17  CR18  CR19  CR20  CLR27  CLR28  CR21  CR22  CR23  CR24  CLR33  CLR34  CR25  CLR36  CR27  CLR38  CLR39  CLR40  CLR41  CLR42  CR30  CR31  CR32  CLR46  CLR47  CLR48  CLR49  CR34  CR35  CR36  CR37  CR38  OR45  CR39  CR40  CR41  CR42  CR43  OR55  CLR62  CLR63  CLR64  CLR65  OR46  OR54  CLR68  CLR69  CLR70  CLR71  CLR72\n",
      "  23   2  CR1  CR2  CLR3  CLR4  CR5  CR6  CR8  CR9  CR10  CR11  CR12  CR13  CR14  OR9  CLR16  CLR17  ELR2  CR15  CR16  OR12  OR13  CR17  CR18  CR19  CR20  CLR27  CLR28  CR21  CR22  CR23  CR24  CLR33  CLR34  CR25  CLR36  CR27  CLR38  CLR39  CLR40  CLR41  CLR42  CR30  CR31  CR32  CLR46  CLR47  CLR48  CLR49  CR34  CR35  CR36  CR37  CR38  OR45  CR39  CR40  CR41  CR42  CR43  OR55  CLR62  CLR63  CLR64  CLR65  OR46  OR54  CLR68  CLR69  CLR70  CLR71  CLR72\n",
      "  23   3  CR1  CR2  CLR3  CLR4  CR5  CR6  CR8  CR9  CR10  CR11  CR12  CR13  CR14  OR9  CLR16  CLR17  ELR2  CR15  CR16  OR12  OR13  CR17  CR18  CR19  CR20  CLR27  CLR28  CR21  CR22  CR23  CR24  CLR33  CLR34  CR25  CLR36  CR27  CLR38  CLR39  CLR40  CLR41  CLR42  CR30  CR31  CR32  CLR46  CLR47  CLR48  CLR49  CR34  CR35  CR36  CR37  CR38  OR45  CR39  CR40  CR41  CR42  CR43  OR55  CLR62  CLR63  CLR64  CLR65  OR46  OR54  CLR68  CLR69  CLR70  CLR71  CLR72\n",
      "  23   4  CR1  CR2  CLR3  CLR4  CR5  CR6  CR8  CR9  CR10  CR11  CR12  CR13  CR14  OR9  CLR16  CLR17  ELR2  CR15  CR16  OR12  OR13  CR17  CR18  CR19  CR20  CLR27  CLR28  CR21  CR22  CR23  CR24  CLR33  CLR34  CR25  CLR36  CR27  CLR38  CLR39  CLR40  CLR41  CLR42  CR30  CR31  CR32  CLR46  CLR47  CLR48  CLR49  CR34  CR35  CR36  CR37  CR38  OR45  CR39  CR40  CR41  CR42  CR43  OR55  CLR62  CLR63  CLR64  CLR65  OR46  OR54  CLR68  CLR69  CLR70  CLR71  CLR72\n",
      "  23   5  CR1  CR2  CLR3  CLR4  CR5  CR6  CR8  CR9  CR10  CR11  CR12  CR13  CR14  OR9  CLR16  CLR17  ELR2  CR15  CR16  OR12  OR13  CR17  CR18  CR19  CR20  CLR27  CLR28  CR21  CR22  CR23  CR24  CLR33  CLR34  CR25  CLR36  CR27  CLR38  CLR39  CLR40  CLR41  CLR42  CR30  CR31  CR32  CLR46  CLR47  CLR48  CLR49  CR34  CR35  CR36  CR37  CR38  OR45  CR39  CR40  CR41  CR42  CR43  OR55  CLR62  CLR63  CLR64  CLR65  OR46  OR54  CLR68  CLR69  CLR70  CLR71  CLR72\n",
      "  24   1  CR1  CR2  CLR3  CLR4  CR5  CR6  CR8  CR9  CR10  CR11  CR12  CR13  CR14  OR9  CLR16  CLR17  ELR2  CR15  CR16  OR12  OR13  CR17  CR18  CR19  CR20  CLR27  CLR28  CR21  CR22  CR23  CR24  CLR33  CLR34  CR25  CLR36  CR27  CLR38  CLR39  CLR40  CLR41  CLR42  CR30  CR31  CR32  CLR46  CLR47  CLR48  CLR49  CR34  CR35  CR36  CR37  CR38  OR45  CR39  CR40  CR41  CR42  CR43  OR55  CLR62  CLR63  CLR64  CLR65  OR46  OR54  CLR68  CLR69  CLR70  CLR71  CLR72\n",
      "  24   2  CR1  CR2  CLR3  CLR4  CR5  CR6  CR8  CR9  CR10  CR11  CR12  CR13  CR14  OR9  CLR16  CLR17  ELR2  CR15  CR16  OR12  OR13  CR17  CR18  CR19  CR20  CLR27  CLR28  CR21  CR22  CR23  CR24  CLR33  CLR34  CR25  CLR36  CR27  CLR38  CLR39  CLR40  CLR41  CLR42  CR30  CR31  CR32  CLR46  CLR47  CLR48  CLR49  CR34  CR35  CR36  CR37  CR38  OR45  CR39  CR40  CR41  CR42  CR43  OR55  CLR62  CLR63  CLR64  CLR65  OR46  OR54  CLR68  CLR69  CLR70  CLR71  CLR72\n",
      "  24   3  CR1  CR2  CLR3  CLR4  CR5  CR6  CR8  CR9  CR10  CR11  CR12  CR13  CR14  OR9  CLR16  CLR17  ELR2  CR15  CR16  OR12  OR13  CR17  CR18  CR19  CR20  CLR27  CLR28  CR21  CR22  CR23  CR24  CLR33  CLR34  CR25  CLR36  CR27  CLR38  CLR39  CLR40  CLR41  CLR42  CR30  CR31  CR32  CLR46  CLR47  CLR48  CLR49  CR34  CR35  CR36  CR37  CR38  OR45  CR39  CR40  CR41  CR42  CR43  OR55  CLR62  CLR63  CLR64  CLR65  OR46  OR54  CLR68  CLR69  CLR70  CLR71  CLR72\n",
      "  24   4  CR1  CR2  CLR3  CLR4  CR5  CR6  CR8  CR9  CR10  CR11  CR12  CR13  CR14  OR9  CLR16  CLR17  ELR2  CR15  CR16  OR12  OR13  CR17  CR18  CR19  CR20  CLR27  CLR28  CR21  CR22  CR23  CR24  CLR33  CLR34  CR25  CLR36  CR27  CLR38  CLR39  CLR40  CLR41  CLR42  CR30  CR31  CR32  CLR46  CLR47  CLR48  CLR49  CR34  CR35  CR36  CR37  CR38  OR45  CR39  CR40  CR41  CR42  CR43  OR55  CLR62  CLR63  CLR64  CLR65  OR46  OR54  CLR68  CLR69  CLR70  CLR71  CLR72\n",
      "  24   5  CR1  CR2  CLR3  CLR4  CR5  CR6  CR8  CR9  CR10  CR11  CR12  CR13  CR14  OR9  CLR16  CLR17  ELR2  CR15  CR16  OR12  OR13  CR17  CR18  CR19  CR20  CLR27  CLR28  CR21  CR22  CR23  CR24  CLR33  CLR34  CR25  CLR36  CR27  CLR38  CLR39  CLR40  CLR41  CLR42  CR30  CR31  CR32  CLR46  CLR47  CLR48  CLR49  CR34  CR35  CR36  CR37  CR38  OR45  CR39  CR40  CR41  CR42  CR43  OR55  CLR62  CLR63  CLR64  CLR65  OR46  OR54  CLR68  CLR69  CLR70  CLR71  CLR72\n",
      "  25   1  CR1  CR2  CLR3  CLR4  CR5  CR6  CR8  CR9  CR10  CR11  CR12  CR13  CR14  OR9  CLR16  CLR17  ELR2  CR15  CR16  OR12  OR13  CR17  CR18  CR19  CR20  CLR27  CLR28  CR21  CR22  CR23  CR24  CLR33  CLR34  CR25  CLR36  CR27  CLR38  CLR39  CLR40  CLR41  CLR42  CR30  CR31  CR32  CLR46  CLR47  CLR48  CLR49  CR34  CR35  CR36  CR37  CR38  OR45  CR39  CR40  CR41  CR42  CR43  OR55  CLR62  CLR63  CLR64  CLR65  OR46  OR54  CLR68  CLR69  CLR70  CLR71  CLR72\n",
      "  25   2  CR1  CR2  CLR3  CLR4  CR5  CR6  CR8  CR9  CR10  CR11  CR12  CR13  CR14  OR9  CLR16  CLR17  ELR2  CR15  CR16  OR12  OR13  CR17  CR18  CR19  CR20  CLR27  CLR28  CR21  CR22  CR23  CR24  CLR33  CLR34  CR25  CLR36  CR27  CLR38  CLR39  CLR40  CLR41  CLR42  CR30  CR31  CR32  CLR46  CLR47  CLR48  CLR49  CR34  CR35  CR36  CR37  CR38  OR45  CR39  CR40  CR41  CR42  CR43  OR55  CLR62  CLR63  CLR64  CLR65  OR46  OR54  CLR68  CLR69  CLR70  CLR71  CLR72\n",
      "  25   3  CR1  CR2  CLR3  CLR4  CR5  CR6  CR8  CR9  CR10  CR11  CR12  CR13  CR14  OR9  CLR16  CLR17  ELR2  CR15  CR16  OR12  OR13  CR17  CR18  CR19  CR20  CLR27  CLR28  CR21  CR22  CR23  CR24  CLR33  CLR34  CR25  CLR36  CR27  CLR38  CLR39  CLR40  CLR41  CLR42  CR30  CR31  CR32  CLR46  CLR47  CLR48  CLR49  CR34  CR35  CR36  CR37  CR38  OR45  CR39  CR40  CR41  CR42  CR43  OR55  CLR62  CLR63  CLR64  CLR65  OR46  OR54  CLR68  CLR69  CLR70  CLR71  CLR72\n",
      "  25   4  CR1  CR2  CLR3  CLR4  CR5  CR6  CR8  CR9  CR10  CR11  CR12  CR13  CR14  OR9  CLR16  CLR17  ELR2  CR15  CR16  OR12  OR13  CR17  CR18  CR19  CR20  CLR27  CLR28  CR21  CR22  CR23  CR24  CLR33  CLR34  CR25  CLR36  CR27  CLR38  CLR39  CLR40  CLR41  CLR42  CR30  CR31  CR32  CLR46  CLR47  CLR48  CLR49  CR34  CR35  CR36  CR37  CR38  OR45  CR39  CR40  CR41  CR42  CR43  OR55  CLR62  CLR63  CLR64  CLR65  OR46  OR54  CLR68  CLR69  CLR70  CLR71  CLR72\n",
      "  25   5  CR1  CR2  CLR3  CLR4  CR5  CR6  CR8  CR9  CR10  CR11  CR12  CR13  CR14  OR9  CLR16  CLR17  ELR2  CR15  CR16  OR12  OR13  CR17  CR18  CR19  CR20  CLR27  CLR28  CR21  CR22  CR23  CR24  CLR33  CLR34  CR25  CLR36  CR27  CLR38  CLR39  CLR40  CLR41  CLR42  CR30  CR31  CR32  CLR46  CLR47  CLR48  CLR49  CR34  CR35  CR36  CR37  CR38  OR45  CR39  CR40  CR41  CR42  CR43  OR55  CLR62  CLR63  CLR64  CLR65  OR46  OR54  CLR68  CLR69  CLR70  CLR71  CLR72\n",
      "  26   1  CR1  CR2  CLR3  CLR4  CR5  CR6  CR8  CR9  CR10  CR11  CR12  CR13  CR14  OR9  CLR16  CLR17  ELR2  CR15  CR16  OR12  OR13  CR17  CR18  CR19  CR20  CLR27  CLR28  CR21  CR22  CR23  CR24  CLR33  CLR34  CR25  CLR36  CR27  CLR38  CLR39  CLR40  CLR41  CLR42  CR30  CR31  CR32  CLR46  CLR47  CLR48  CLR49  CR34  CR35  CR36  CR37  CR38  OR45  CR39  CR40  CR41  CR42  CR43  OR55  CLR62  CLR63  CLR64  CLR65  OR46  OR54  CLR68  CLR69  CLR70  CLR71  CLR72\n",
      "  26   2  CR1  CR2  CLR3  CLR4  CR5  CR6  CR8  CR9  CR10  CR11  CR12  CR13  CR14  OR9  CLR16  CLR17  ELR2  CR15  CR16  OR12  OR13  CR17  CR18  CR19  CR20  CLR27  CLR28  CR21  CR22  CR23  CR24  CLR33  CLR34  CR25  CLR36  CR27  CLR38  CLR39  CLR40  CLR41  CLR42  CR30  CR31  CR32  CLR46  CLR47  CLR48  CLR49  CR34  CR35  CR36  CR37  CR38  OR45  CR39  CR40  CR41  CR42  CR43  OR55  CLR62  CLR63  CLR64  CLR65  OR46  OR54  CLR68  CLR69  CLR70  CLR71  CLR72\n",
      "  26   3  CR1  CR2  CLR3  CLR4  CR5  CR6  CR8  CR9  CR10  CR11  CR12  CR13  CR14  OR9  CLR16  CLR17  ELR2  CR15  CR16  OR12  OR13  CR17  CR18  CR19  CR20  CLR27  CLR28  CR21  CR22  CR23  CR24  CLR33  CLR34  CR25  CLR36  CR27  CLR38  CLR39  CLR40  CLR41  CLR42  CR30  CR31  CR32  CLR46  CLR47  CLR48  CLR49  CR34  CR35  CR36  CR37  CR38  OR45  CR39  CR40  CR41  CR42  CR43  OR55  CLR62  CLR63  CLR64  CLR65  OR46  OR54  CLR68  CLR69  CLR70  CLR71  CLR72\n",
      "  26   4  CR1  CR2  CLR3  CLR4  CR5  CR6  CR8  CR9  CR10  CR11  CR12  CR13  CR14  OR9  CLR16  CLR17  ELR2  CR15  CR16  OR12  OR13  CR17  CR18  CR19  CR20  CLR27  CLR28  CR21  CR22  CR23  CR24  CLR33  CLR34  CR25  CLR36  CR27  CLR38  CLR39  CLR40  CLR41  CLR42  CR30  CR31  CR32  CLR46  CLR47  CLR48  CLR49  CR34  CR35  CR36  CR37  CR38  OR45  CR39  CR40  CR41  CR42  CR43  OR55  CLR62  CLR63  CLR64  CLR65  OR46  OR54  CLR68  CLR69  CLR70  CLR71  CLR72\n",
      "  26   5  CR1  CR2  CLR3  CLR4  CR5  CR6  CR8  CR9  CR10  CR11  CR12  CR13  CR14  OR9  CLR16  CLR17  ELR2  CR15  CR16  OR12  OR13  CR17  CR18  CR19  CR20  CLR27  CLR28  CR21  CR22  CR23  CR24  CLR33  CLR34  CR25  CLR36  CR27  CLR38  CLR39  CLR40  CLR41  CLR42  CR30  CR31  CR32  CLR46  CLR47  CLR48  CLR49  CR34  CR35  CR36  CR37  CR38  OR45  CR39  CR40  CR41  CR42  CR43  OR55  CLR62  CLR63  CLR64  CLR65  OR46  OR54  CLR68  CLR69  CLR70  CLR71  CLR72\n",
      "  27   1  CR1  CR2  CLR3  CLR4  CR5  CR6  CR8  CR9  CR10  CR11  CR12  CR13  CR14  OR9  CLR16  CLR17  ELR2  CR15  CR16  OR12  OR13  CR17  CR18  CR19  CR20  CLR27  CLR28  CR21  CR22  CR23  CR24  CLR33  CLR34  CR25  CLR36  CR27  CLR38  CLR39  CLR40  CLR41  CLR42  CR30  CR31  CR32  CLR46  CLR47  CLR48  CLR49  CR34  CR35  CR36  CR37  CR38  OR45  CR39  CR40  CR41  CR42  CR43  OR55  CLR62  CLR63  CLR64  CLR65  OR46  OR54  CLR68  CLR69  CLR70  CLR71  CLR72\n",
      "  27   2  CR1  CR2  CLR3  CLR4  CR5  CR6  CR8  CR9  CR10  CR11  CR12  CR13  CR14  OR9  CLR16  CLR17  ELR2  CR15  CR16  OR12  OR13  CR17  CR18  CR19  CR20  CLR27  CLR28  CR21  CR22  CR23  CR24  CLR33  CLR34  CR25  CLR36  CR27  CLR38  CLR39  CLR40  CLR41  CLR42  CR30  CR31  CR32  CLR46  CLR47  CLR48  CLR49  CR34  CR35  CR36  CR37  CR38  OR45  CR39  CR40  CR41  CR42  CR43  OR55  CLR62  CLR63  CLR64  CLR65  OR46  OR54  CLR68  CLR69  CLR70  CLR71  CLR72\n",
      "  27   3  CR1  CR2  CLR3  CLR4  CR5  CR6  CR8  CR9  CR10  CR11  CR12  CR13  CR14  OR9  CLR16  CLR17  ELR2  CR15  CR16  OR12  OR13  CR17  CR18  CR19  CR20  CLR27  CLR28  CR21  CR22  CR23  CR24  CLR33  CLR34  CR25  CLR36  CR27  CLR38  CLR39  CLR40  CLR41  CLR42  CR30  CR31  CR32  CLR46  CLR47  CLR48  CLR49  CR34  CR35  CR36  CR37  CR38  OR45  CR39  CR40  CR41  CR42  CR43  OR55  CLR62  CLR63  CLR64  CLR65  OR46  OR54  CLR68  CLR69  CLR70  CLR71  CLR72\n",
      "  27   4  CR1  CR2  CLR3  CLR4  CR5  CR6  CR8  CR9  CR10  CR11  CR12  CR13  CR14  OR9  CLR16  CLR17  ELR2  CR15  CR16  OR12  OR13  CR17  CR18  CR19  CR20  CLR27  CLR28  CR21  CR22  CR23  CR24  CLR33  CLR34  CR25  CLR36  CR27  CLR38  CLR39  CLR40  CLR41  CLR42  CR30  CR31  CR32  CLR46  CLR47  CLR48  CLR49  CR34  CR35  CR36  CR37  CR38  OR45  CR39  CR40  CR41  CR42  CR43  OR55  CLR62  CLR63  CLR64  CLR65  OR46  OR54  CLR68  CLR69  CLR70  CLR71  CLR72\n",
      "  27   5  CR1  CR2  CLR3  CLR4  CR5  CR6  CR8  CR9  CR10  CR11  CR12  CR13  CR14  OR9  CLR16  CLR17  ELR2  CR15  CR16  OR12  OR13  CR17  CR18  CR19  CR20  CLR27  CLR28  CR21  CR22  CR23  CR24  CLR33  CLR34  CR25  CLR36  CR27  CLR38  CLR39  CLR40  CLR41  CLR42  CR30  CR31  CR32  CLR46  CLR47  CLR48  CLR49  CR34  CR35  CR36  CR37  CR38  OR45  CR39  CR40  CR41  CR42  CR43  OR55  CLR62  CLR63  CLR64  CLR65  OR46  OR54  CLR68  CLR69  CLR70  CLR71  CLR72\n",
      "  28   1  CR1  CR2  CLR3  CLR4  CR5  CR6  CR8  CR9  CR10  CR11  CR12  CR13  CR14  OR9  CLR16  CLR17  ELR2  CR15  CR16  OR12  OR13  CR17  CR18  CR19  CR20  CLR27  CLR28  CR21  CR22  CR23  CR24  CLR33  CLR34  CR25  CLR36  CR27  CLR38  CLR39  CLR40  CLR41  CLR42  CR30  CR31  CR32  CLR46  CLR47  CLR48  CLR49  CR34  CR35  CR36  CR37  CR38  OR45  CR39  CR40  CR41  CR42  CR43  OR55  CLR62  CLR63  CLR64  CLR65  OR46  OR54  CLR68  CLR69  CLR70  CLR71  CLR72\n",
      "  28   2  CR1  CR2  CLR3  CLR4  CR5  CR6  CR8  CR9  CR10  CR11  CR12  CR13  CR14  OR9  CLR16  CLR17  ELR2  CR15  CR16  OR12  OR13  CR17  CR18  CR19  CR20  CLR27  CLR28  CR21  CR22  CR23  CR24  CLR33  CLR34  CR25  CLR36  CR27  CLR38  CLR39  CLR40  CLR41  CLR42  CR30  CR31  CR32  CLR46  CLR47  CLR48  CLR49  CR34  CR35  CR36  CR37  CR38  OR45  CR39  CR40  CR41  CR42  CR43  OR55  CLR62  CLR63  CLR64  CLR65  OR46  OR54  CLR68  CLR69  CLR70  CLR71  CLR72\n",
      "  28   3  CR1  CR2  CLR3  CLR4  CR5  CR6  CR8  CR9  CR10  CR11  CR12  CR13  CR14  OR9  CLR16  CLR17  ELR2  CR15  CR16  OR12  OR13  CR17  CR18  CR19  CR20  CLR27  CLR28  CR21  CR22  CR23  CR24  CLR33  CLR34  CR25  CLR36  CR27  CLR38  CLR39  CLR40  CLR41  CLR42  CR30  CR31  CR32  CLR46  CLR47  CLR48  CLR49  CR34  CR35  CR36  CR37  CR38  OR45  CR39  CR40  CR41  CR42  CR43  OR55  CLR62  CLR63  CLR64  CLR65  OR46  OR54  CLR68  CLR69  CLR70  CLR71  CLR72\n",
      "  28   4  CR1  CR2  CLR3  CLR4  CR5  CR6  CR8  CR9  CR10  CR11  CR12  CR13  CR14  OR9  CLR16  CLR17  ELR2  CR15  CR16  OR12  OR13  CR17  CR18  CR19  CR20  CLR27  CLR28  CR21  CR22  CR23  CR24  CLR33  CLR34  CR25  CLR36  CR27  CLR38  CLR39  CLR40  CLR41  CLR42  CR30  CR31  CR32  CLR46  CLR47  CLR48  CLR49  CR34  CR35  CR36  CR37  CR38  OR45  CR39  CR40  CR41  CR42  CR43  OR55  CLR62  CLR63  CLR64  CLR65  OR46  OR54  CLR68  CLR69  CLR70  CLR71  CLR72\n",
      "  28   5  CR1  CR2  CLR3  CLR4  CR5  CR6  CR8  CR9  CR10  CR11  CR12  CR13  CR14  OR9  CLR16  CLR17  ELR2  CR15  CR16  OR12  OR13  CR17  CR18  CR19  CR20  CLR27  CLR28  CR21  CR22  CR23  CR24  CLR33  CLR34  CR25  CLR36  CR27  CLR38  CLR39  CLR40  CLR41  CLR42  CR30  CR31  CR32  CLR46  CLR47  CLR48  CLR49  CR34  CR35  CR36  CR37  CR38  OR45  CR39  CR40  CR41  CR42  CR43  OR55  CLR62  CLR63  CLR64  CLR65  OR46  OR54  CLR68  CLR69  CLR70  CLR71  CLR72\n",
      "  29   1  CR1  CR2  CLR3  CLR4  CR5  CR6  CR8  CR9  CR10  CR11  CR12  CR13  CR14  OR9  CLR16  CLR17  ELR2  CR15  CR16  OR12  OR13  CR17  CR18  CR19  CR20  CLR27  CLR28  CR21  CR22  CR23  CR24  CLR33  CLR34  CR25  CLR36  CR27  CLR38  CLR39  CLR40  CLR41  CLR42  CR30  CR31  CR32  CLR46  CLR47  CLR48  CLR49  CR34  CR35  CR36  CR37  CR38  OR45  CR39  CR40  CR41  CR42  CR43  OR55  CLR62  CLR63  CLR64  CLR65  OR46  OR54  CLR68  CLR69  CLR70  CLR71  CLR72\n",
      "  29   2  CR1  CR2  CLR3  CLR4  CR5  CR6  CR8  CR9  CR10  CR11  CR12  CR13  CR14  OR9  CLR16  CLR17  ELR2  CR15  CR16  OR12  OR13  CR17  CR18  CR19  CR20  CLR27  CLR28  CR21  CR22  CR23  CR24  CLR33  CLR34  CR25  CLR36  CR27  CLR38  CLR39  CLR40  CLR41  CLR42  CR30  CR31  CR32  CLR46  CLR47  CLR48  CLR49  CR34  CR35  CR36  CR37  CR38  OR45  CR39  CR40  CR41  CR42  CR43  OR55  CLR62  CLR63  CLR64  CLR65  OR46  OR54  CLR68  CLR69  CLR70  CLR71  CLR72\n",
      "  29   3  CR1  CR2  CLR3  CLR4  CR5  CR6  CR8  CR9  CR10  CR11  CR12  CR13  CR14  OR9  CLR16  CLR17  ELR2  CR15  CR16  OR12  OR13  CR17  CR18  CR19  CR20  CLR27  CLR28  CR21  CR22  CR23  CR24  CLR33  CLR34  CR25  CLR36  CR27  CLR38  CLR39  CLR40  CLR41  CLR42  CR30  CR31  CR32  CLR46  CLR47  CLR48  CLR49  CR34  CR35  CR36  CR37  CR38  OR45  CR39  CR40  CR41  CR42  CR43  OR55  CLR62  CLR63  CLR64  CLR65  OR46  OR54  CLR68  CLR69  CLR70  CLR71  CLR72\n",
      "  29   4  CR1  CR2  CLR3  CLR4  CR5  CR6  CR8  CR9  CR10  CR11  CR12  CR13  CR14  OR9  CLR16  CLR17  ELR2  CR15  CR16  OR12  OR13  CR17  CR18  CR19  CR20  CLR27  CLR28  CR21  CR22  CR23  CR24  CLR33  CLR34  CR25  CLR36  CR27  CLR38  CLR39  CLR40  CLR41  CLR42  CR30  CR31  CR32  CLR46  CLR47  CLR48  CLR49  CR34  CR35  CR36  CR37  CR38  OR45  CR39  CR40  CR41  CR42  CR43  OR55  CLR62  CLR63  CLR64  CLR65  OR46  OR54  CLR68  CLR69  CLR70  CLR71  CLR72\n",
      "  29   5  CR1  CR2  CLR3  CLR4  CR5  CR6  CR8  CR9  CR10  CR11  CR12  CR13  CR14  OR9  CLR16  CLR17  ELR2  CR15  CR16  OR12  OR13  CR17  CR18  CR19  CR20  CLR27  CLR28  CR21  CR22  CR23  CR24  CLR33  CLR34  CR25  CLR36  CR27  CLR38  CLR39  CLR40  CLR41  CLR42  CR30  CR31  CR32  CLR46  CLR47  CLR48  CLR49  CR34  CR35  CR36  CR37  CR38  OR45  CR39  CR40  CR41  CR42  CR43  OR55  CLR62  CLR63  CLR64  CLR65  OR46  OR54  CLR68  CLR69  CLR70  CLR71  CLR72\n",
      "  30   1  CR1  CR2  CLR3  CLR4  CR5  CR6  CR8  CR9  CR10  CR11  CR12  CR13  CR14  OR9  CLR16  CLR17  ELR2  CR15  CR16  OR12  OR13  CR17  CR18  CR19  CR20  CLR27  CLR28  CR21  CR22  CR23  CR24  CLR33  CLR34  CR25  CLR36  CR27  CLR38  CLR39  CLR40  CLR41  CLR42  CR30  CR31  CR32  CLR46  CLR47  CLR48  CLR49  CR34  CR35  CR36  CR37  CR38  OR45  CR39  CR40  CR41  CR42  CR43  OR55  CLR62  CLR63  CLR64  CLR65  OR46  OR54  CLR68  CLR69  CLR70  CLR71  CLR72\n",
      "  30   2  CR1  CR2  CLR3  CLR4  CR5  CR6  CR8  CR9  CR10  CR11  CR12  CR13  CR14  OR9  CLR16  CLR17  ELR2  CR15  CR16  OR12  OR13  CR17  CR18  CR19  CR20  CLR27  CLR28  CR21  CR22  CR23  CR24  CLR33  CLR34  CR25  CLR36  CR27  CLR38  CLR39  CLR40  CLR41  CLR42  CR30  CR31  CR32  CLR46  CLR47  CLR48  CLR49  CR34  CR35  CR36  CR37  CR38  OR45  CR39  CR40  CR41  CR42  CR43  OR55  CLR62  CLR63  CLR64  CLR65  OR46  OR54  CLR68  CLR69  CLR70  CLR71  CLR72\n",
      "  30   3  CR1  CR2  CLR3  CLR4  CR5  CR6  CR8  CR9  CR10  CR11  CR12  CR13  CR14  OR9  CLR16  CLR17  ELR2  CR15  CR16  OR12  OR13  CR17  CR18  CR19  CR20  CLR27  CLR28  CR21  CR22  CR23  CR24  CLR33  CLR34  CR25  CLR36  CR27  CLR38  CLR39  CLR40  CLR41  CLR42  CR30  CR31  CR32  CLR46  CLR47  CLR48  CLR49  CR34  CR35  CR36  CR37  CR38  OR45  CR39  CR40  CR41  CR42  CR43  OR55  CLR62  CLR63  CLR64  CLR65  OR46  OR54  CLR68  CLR69  CLR70  CLR71  CLR72\n",
      "  30   4  CR1  CR2  CLR3  CLR4  CR5  CR6  CR8  CR9  CR10  CR11  CR12  CR13  CR14  OR9  CLR16  CLR17  ELR2  CR15  CR16  OR12  OR13  CR17  CR18  CR19  CR20  CLR27  CLR28  CR21  CR22  CR23  CR24  CLR33  CLR34  CR25  CLR36  CR27  CLR38  CLR39  CLR40  CLR41  CLR42  CR30  CR31  CR32  CLR46  CLR47  CLR48  CLR49  CR34  CR35  CR36  CR37  CR38  OR45  CR39  CR40  CR41  CR42  CR43  OR55  CLR62  CLR63  CLR64  CLR65  OR46  OR54  CLR68  CLR69  CLR70  CLR71  CLR72\n",
      "  30   5  CR1  CR2  CLR3  CLR4  CR5  CR6  CR8  CR9  CR10  CR11  CR12  CR13  CR14  OR9  CLR16  CLR17  ELR2  CR15  CR16  OR12  OR13  CR17  CR18  CR19  CR20  CLR27  CLR28  CR21  CR22  CR23  CR24  CLR33  CLR34  CR25  CLR36  CR27  CLR38  CLR39  CLR40  CLR41  CLR42  CR30  CR31  CR32  CLR46  CLR47  CLR48  CLR49  CR34  CR35  CR36  CR37  CR38  OR45  CR39  CR40  CR41  CR42  CR43  OR55  CLR62  CLR63  CLR64  CLR65  OR46  OR54  CLR68  CLR69  CLR70  CLR71  CLR72\n",
      "  31   1  CR1  CR2  CLR3  CLR4  CR5  CR6  CR8  CR9  CR10  CR11  CR12  CR13  CR14  OR9  CLR16  CLR17  ELR2  CR15  CR16  OR12  OR13  CR17  CR18  CR19  CR20  CLR27  CLR28  CR21  CR22  CR23  CR24  CLR33  CLR34  CR25  CLR36  CR27  CLR38  CLR39  CLR40  CLR41  CLR42  CR30  CR31  CR32  CLR46  CLR47  CLR48  CLR49  CR34  CR35  CR36  CR37  CR38  OR45  CR39  CR40  CR41  CR42  CR43  OR55  CLR62  CLR63  CLR64  CLR65  OR46  OR54  CLR68  CLR69  CLR70  CLR71  CLR72\n",
      "  31   2  CR1  CR2  CLR3  CLR4  CR5  CR6  CR8  CR9  CR10  CR11  CR12  CR13  CR14  OR9  CLR16  CLR17  ELR2  CR15  CR16  OR12  OR13  CR17  CR18  CR19  CR20  CLR27  CLR28  CR21  CR22  CR23  CR24  CLR33  CLR34  CR25  CLR36  CR27  CLR38  CLR39  CLR40  CLR41  CLR42  CR30  CR31  CR32  CLR46  CLR47  CLR48  CLR49  CR34  CR35  CR36  CR37  CR38  OR45  CR39  CR40  CR41  CR42  CR43  OR55  CLR62  CLR63  CLR64  CLR65  OR46  OR54  CLR68  CLR69  CLR70  CLR71  CLR72\n",
      "  31   3  CR1  CR2  CLR3  CLR4  CR5  CR6  CR8  CR9  CR10  CR11  CR12  CR13  CR14  OR9  CLR16  CLR17  ELR2  CR15  CR16  OR12  OR13  CR17  CR18  CR19  CR20  CLR27  CLR28  CR21  CR22  CR23  CR24  CLR33  CLR34  CR25  CLR36  CR27  CLR38  CLR39  CLR40  CLR41  CLR42  CR30  CR31  CR32  CLR46  CLR47  CLR48  CLR49  CR34  CR35  CR36  CR37  CR38  OR45  CR39  CR40  CR41  CR42  CR43  OR55  CLR62  CLR63  CLR64  CLR65  OR46  OR54  CLR68  CLR69  CLR70  CLR71  CLR72\n",
      "  31   4  CR1  CR2  CLR3  CLR4  CR5  CR6  CR8  CR9  CR10  CR11  CR12  CR13  CR14  OR9  CLR16  CLR17  ELR2  CR15  CR16  OR12  OR13  CR17  CR18  CR19  CR20  CLR27  CLR28  CR21  CR22  CR23  CR24  CLR33  CLR34  CR25  CLR36  CR27  CLR38  CLR39  CLR40  CLR41  CLR42  CR30  CR31  CR32  CLR46  CLR47  CLR48  CLR49  CR34  CR35  CR36  CR37  CR38  OR45  CR39  CR40  CR41  CR42  CR43  OR55  CLR62  CLR63  CLR64  CLR65  OR46  OR54  CLR68  CLR69  CLR70  CLR71  CLR72\n",
      "  31   5  CR1  CR2  CLR3  CLR4  CR5  CR6  CR8  CR9  CR10  CR11  CR12  CR13  CR14  OR9  CLR16  CLR17  ELR2  CR15  CR16  OR12  OR13  CR17  CR18  CR19  CR20  CLR27  CLR28  CR21  CR22  CR23  CR24  CLR33  CLR34  CR25  CLR36  CR27  CLR38  CLR39  CLR40  CLR41  CLR42  CR30  CR31  CR32  CLR46  CLR47  CLR48  CLR49  CR34  CR35  CR36  CR37  CR38  OR45  CR39  CR40  CR41  CR42  CR43  OR55  CLR62  CLR63  CLR64  CLR65  OR46  OR54  CLR68  CLR69  CLR70  CLR71  CLR72\n",
      "  32   1  CR1  CR2  CLR3  CLR4  CR5  CR6  CR8  CR9  CR10  CR11  CR12  CR13  CR14  OR9  CLR16  CLR17  ELR2  CR15  CR16  OR12  OR13  CR17  CR18  CR19  CR20  CLR27  CLR28  CR21  CR22  CR23  CR24  CLR33  CLR34  CR25  CLR36  CR27  CLR38  CLR39  CLR40  CLR41  CLR42  CR30  CR31  CR32  CLR46  CLR47  CLR48  CLR49  CR34  CR35  CR36  CR37  CR38  OR45  CR39  CR40  CR41  CR42  CR43  OR55  CLR62  CLR63  CLR64  CLR65  OR46  OR54  CLR68  CLR69  CLR70  CLR71  CLR72\n",
      "  32   2  CR1  CR2  CLR3  CLR4  CR5  CR6  CR8  CR9  CR10  CR11  CR12  CR13  CR14  OR9  CLR16  CLR17  ELR2  CR15  CR16  OR12  OR13  CR17  CR18  CR19  CR20  CLR27  CLR28  CR21  CR22  CR23  CR24  CLR33  CLR34  CR25  CLR36  CR27  CLR38  CLR39  CLR40  CLR41  CLR42  CR30  CR31  CR32  CLR46  CLR47  CLR48  CLR49  CR34  CR35  CR36  CR37  CR38  OR45  CR39  CR40  CR41  CR42  CR43  OR55  CLR62  CLR63  CLR64  CLR65  OR46  OR54  CLR68  CLR69  CLR70  CLR71  CLR72\n",
      "  32   3  CR1  CR2  CLR3  CLR4  CR5  CR6  CR8  CR9  CR10  CR11  CR12  CR13  CR14  OR9  CLR16  CLR17  ELR2  CR15  CR16  OR12  OR13  CR17  CR18  CR19  CR20  CLR27  CLR28  CR21  CR22  CR23  CR24  CLR33  CLR34  CR25  CLR36  CR27  CLR38  CLR39  CLR40  CLR41  CLR42  CR30  CR31  CR32  CLR46  CLR47  CLR48  CLR49  CR34  CR35  CR36  CR37  CR38  OR45  CR39  CR40  CR41  CR42  CR43  OR55  CLR62  CLR63  CLR64  CLR65  OR46  OR54  CLR68  CLR69  CLR70  CLR71  CLR72\n",
      "  32   4  CR1  CR2  CLR3  CLR4  CR5  CR6  CR8  CR9  CR10  CR11  CR12  CR13  CR14  OR9  CLR16  CLR17  ELR2  CR15  CR16  OR12  OR13  CR17  CR18  CR19  CR20  CLR27  CLR28  CR21  CR22  CR23  CR24  CLR33  CLR34  CR25  CLR36  CR27  CLR38  CLR39  CLR40  CLR41  CLR42  CR30  CR31  CR32  CLR46  CLR47  CLR48  CLR49  CR34  CR35  CR36  CR37  CR38  OR45  CR39  CR40  CR41  CR42  CR43  OR55  CLR62  CLR63  CLR64  CLR65  OR46  OR54  CLR68  CLR69  CLR70  CLR71  CLR72\n",
      "  32   5  CR1  CR2  CLR3  CLR4  CR5  CR6  CR8  CR9  CR10  CR11  CR12  CR13  CR14  OR9  CLR16  CLR17  ELR2  CR15  CR16  OR12  OR13  CR17  CR18  CR19  CR20  CLR27  CLR28  CR21  CR22  CR23  CR24  CLR33  CLR34  CR25  CLR36  CR27  CLR38  CLR39  CLR40  CLR41  CLR42  CR30  CR31  CR32  CLR46  CLR47  CLR48  CLR49  CR34  CR35  CR36  CR37  CR38  OR45  CR39  CR40  CR41  CR42  CR43  OR55  CLR62  CLR63  CLR64  CLR65  OR46  OR54  CLR68  CLR69  CLR70  CLR71  CLR72\n",
      "  33   1  CR1  CR2  CLR3  CLR4  CR5  CR6  CR8  CR9  CR10  CR11  CR12  CR13  CR14  OR9  CLR16  CLR17  ELR2  CR15  CR16  OR12  OR13  CR17  CR18  CR19  CR20  CLR27  CLR28  CR21  CR22  CR23  CR24  CLR33  CLR34  CR25  CLR36  CR27  CLR38  CLR39  CLR40  CLR41  CLR42  CR30  CR31  CR32  CLR46  CLR47  CLR48  CLR49  CR34  CR35  CR36  CR37  CR38  OR45  CR39  CR40  CR41  CR42  CR43  OR55  CLR62  CLR63  CLR64  CLR65  OR46  OR54  CLR68  CLR69  CLR70  CLR71  CLR72\n",
      "  33   2  CR1  CR2  CLR3  CLR4  CR5  CR6  CR8  CR9  CR10  CR11  CR12  CR13  CR14  OR9  CLR16  CLR17  ELR2  CR15  CR16  OR12  OR13  CR17  CR18  CR19  CR20  CLR27  CLR28  CR21  CR22  CR23  CR24  CLR33  CLR34  CR25  CLR36  CR27  CLR38  CLR39  CLR40  CLR41  CLR42  CR30  CR31  CR32  CLR46  CLR47  CLR48  CLR49  CR34  CR35  CR36  CR37  CR38  OR45  CR39  CR40  CR41  CR42  CR43  OR55  CLR62  CLR63  CLR64  CLR65  OR46  OR54  CLR68  CLR69  CLR70  CLR71  CLR72\n",
      "  33   3  CR1  CR2  CLR3  CLR4  CR5  CR6  CR8  CR9  CR10  CR11  CR12  CR13  CR14  OR9  CLR16  CLR17  ELR2  CR15  CR16  OR12  OR13  CR17  CR18  CR19  CR20  CLR27  CLR28  CR21  CR22  CR23  CR24  CLR33  CLR34  CR25  CLR36  CR27  CLR38  CLR39  CLR40  CLR41  CLR42  CR30  CR31  CR32  CLR46  CLR47  CLR48  CLR49  CR34  CR35  CR36  CR37  CR38  OR45  CR39  CR40  CR41  CR42  CR43  OR55  CLR62  CLR63  CLR64  CLR65  OR46  OR54  CLR68  CLR69  CLR70  CLR71  CLR72\n",
      "  33   4  CR1  CR2  CLR3  CLR4  CR5  CR6  CR8  CR9  CR10  CR11  CR12  CR13  CR14  OR9  CLR16  CLR17  ELR2  CR15  CR16  OR12  OR13  CR17  CR18  CR19  CR20  CLR27  CLR28  CR21  CR22  CR23  CR24  CLR33  CLR34  CR25  CLR36  CR27  CLR38  CLR39  CLR40  CLR41  CLR42  CR30  CR31  CR32  CLR46  CLR47  CLR48  CLR49  CR34  CR35  CR36  CR37  CR38  OR45  CR39  CR40  CR41  CR42  CR43  OR55  CLR62  CLR63  CLR64  CLR65  OR46  OR54  CLR68  CLR69  CLR70  CLR71  CLR72\n",
      "  33   5  CR1  CR2  CLR3  CLR4  CR5  CR6  CR8  CR9  CR10  CR11  CR12  CR13  CR14  OR9  CLR16  CLR17  ELR2  CR15  CR16  OR12  OR13  CR17  CR18  CR19  CR20  CLR27  CLR28  CR21  CR22  CR23  CR24  CLR33  CLR34  CR25  CLR36  CR27  CLR38  CLR39  CLR40  CLR41  CLR42  CR30  CR31  CR32  CLR46  CLR47  CLR48  CLR49  CR34  CR35  CR36  CR37  CR38  OR45  CR39  CR40  CR41  CR42  CR43  OR55  CLR62  CLR63  CLR64  CLR65  OR46  OR54  CLR68  CLR69  CLR70  CLR71  CLR72\n",
      "  34   1  CR1  CR2  CLR3  CLR4  CR5  CR6  CR8  CR9  CR10  CR11  CR12  CR13  CR14  OR9  CLR16  CLR17  ELR2  CR15  CR16  OR12  OR13  CR17  CR18  CR19  CR20  CLR27  CLR28  CR21  CR22  CR23  CR24  CLR33  CLR34  CR25  CLR36  CR27  CLR38  CLR39  CLR40  CLR41  CLR42  CR30  CR31  CR32  CLR46  CLR47  CLR48  CLR49  CR34  CR35  CR36  CR37  CR38  OR45  CR39  CR40  CR41  CR42  CR43  OR55  CLR62  CLR63  CLR64  CLR65  OR46  OR54  CLR68  CLR69  CLR70  CLR71  CLR72\n",
      "  34   2  CR1  CR2  CLR3  CLR4  CR5  CR6  CR8  CR9  CR10  CR11  CR12  CR13  CR14  OR9  CLR16  CLR17  ELR2  CR15  CR16  OR12  OR13  CR17  CR18  CR19  CR20  CLR27  CLR28  CR21  CR22  CR23  CR24  CLR33  CLR34  CR25  CLR36  CR27  CLR38  CLR39  CLR40  CLR41  CLR42  CR30  CR31  CR32  CLR46  CLR47  CLR48  CLR49  CR34  CR35  CR36  CR37  CR38  OR45  CR39  CR40  CR41  CR42  CR43  OR55  CLR62  CLR63  CLR64  CLR65  OR46  OR54  CLR68  CLR69  CLR70  CLR71  CLR72\n",
      "  34   3  CR1  CR2  CLR3  CLR4  CR5  CR6  CR8  CR9  CR10  CR11  CR12  CR13  CR14  OR9  CLR16  CLR17  ELR2  CR15  CR16  OR12  OR13  CR17  CR18  CR19  CR20  CLR27  CLR28  CR21  CR22  CR23  CR24  CLR33  CLR34  CR25  CLR36  CR27  CLR38  CLR39  CLR40  CLR41  CLR42  CR30  CR31  CR32  CLR46  CLR47  CLR48  CLR49  CR34  CR35  CR36  CR37  CR38  OR45  CR39  CR40  CR41  CR42  CR43  OR55  CLR62  CLR63  CLR64  CLR65  OR46  OR54  CLR68  CLR69  CLR70  CLR71  CLR72\n",
      "  34   4  CR1  CR2  CLR3  CLR4  CR5  CR6  CR8  CR9  CR10  CR11  CR12  CR13  CR14  OR9  CLR16  CLR17  ELR2  CR15  CR16  OR12  OR13  CR17  CR18  CR19  CR20  CLR27  CLR28  CR21  CR22  CR23  CR24  CLR33  CLR34  CR25  CLR36  CR27  CLR38  CLR39  CLR40  CLR41  CLR42  CR30  CR31  CR32  CLR46  CLR47  CLR48  CLR49  CR34  CR35  CR36  CR37  CR38  OR45  CR39  CR40  CR41  CR42  CR43  OR55  CLR62  CLR63  CLR64  CLR65  OR46  OR54  CLR68  CLR69  CLR70  CLR71  CLR72\n",
      "  34   5  CR1  CR2  CLR3  CLR4  CR5  CR6  CR8  CR9  CR10  CR11  CR12  CR13  CR14  OR9  CLR16  CLR17  ELR2  CR15  CR16  OR12  OR13  CR17  CR18  CR19  CR20  CLR27  CLR28  CR21  CR22  CR23  CR24  CLR33  CLR34  CR25  CLR36  CR27  CLR38  CLR39  CLR40  CLR41  CLR42  CR30  CR31  CR32  CLR46  CLR47  CLR48  CLR49  CR34  CR35  CR36  CR37  CR38  OR45  CR39  CR40  CR41  CR42  CR43  OR55  CLR62  CLR63  CLR64  CLR65  OR46  OR54  CLR68  CLR69  CLR70  CLR71  CLR72\n",
      "  35   1  CR1  CR2  CLR3  CLR4  CR5  CR6  CR8  CR9  CR10  CR11  CR12  CR13  CR14  OR9  CLR16  CLR17  ELR2  CR15  CR16  OR12  OR13  CR17  CR18  CR19  CR20  CLR27  CLR28  CR21  CR22  CR23  CR24  CLR33  CLR34  CR25  CLR36  CR27  CLR38  CLR39  CLR40  CLR41  CLR42  CR30  CR31  CR32  CLR46  CLR47  CLR48  CLR49  CR34  CR35  CR36  CR37  CR38  OR45  CR39  CR40  CR41  CR42  CR43  OR55  CLR62  CLR63  CLR64  CLR65  OR46  OR54  CLR68  CLR69  CLR70  CLR71  CLR72\n",
      "  35   2  CR1  CR2  CLR3  CLR4  CR5  CR6  CR8  CR9  CR10  CR11  CR12  CR13  CR14  OR9  CLR16  CLR17  ELR2  CR15  CR16  OR12  OR13  CR17  CR18  CR19  CR20  CLR27  CLR28  CR21  CR22  CR23  CR24  CLR33  CLR34  CR25  CLR36  CR27  CLR38  CLR39  CLR40  CLR41  CLR42  CR30  CR31  CR32  CLR46  CLR47  CLR48  CLR49  CR34  CR35  CR36  CR37  CR38  OR45  CR39  CR40  CR41  CR42  CR43  OR55  CLR62  CLR63  CLR64  CLR65  OR46  OR54  CLR68  CLR69  CLR70  CLR71  CLR72\n",
      "  35   3  CR1  CR2  CLR3  CLR4  CR5  CR6  CR8  CR9  CR10  CR11  CR12  CR13  CR14  OR9  CLR16  CLR17  ELR2  CR15  CR16  OR12  OR13  CR17  CR18  CR19  CR20  CLR27  CLR28  CR21  CR22  CR23  CR24  CLR33  CLR34  CR25  CLR36  CR27  CLR38  CLR39  CLR40  CLR41  CLR42  CR30  CR31  CR32  CLR46  CLR47  CLR48  CLR49  CR34  CR35  CR36  CR37  CR38  OR45  CR39  CR40  CR41  CR42  CR43  OR55  CLR62  CLR63  CLR64  CLR65  OR46  OR54  CLR68  CLR69  CLR70  CLR71  CLR72\n",
      "  35   4  CR1  CR2  CLR3  CLR4  CR5  CR6  CR8  CR9  CR10  CR11  CR12  CR13  CR14  OR9  CLR16  CLR17  ELR2  CR15  CR16  OR12  OR13  CR17  CR18  CR19  CR20  CLR27  CLR28  CR21  CR22  CR23  CR24  CLR33  CLR34  CR25  CLR36  CR27  CLR38  CLR39  CLR40  CLR41  CLR42  CR30  CR31  CR32  CLR46  CLR47  CLR48  CLR49  CR34  CR35  CR36  CR37  CR38  OR45  CR39  CR40  CR41  CR42  CR43  OR55  CLR62  CLR63  CLR64  CLR65  OR46  OR54  CLR68  CLR69  CLR70  CLR71  CLR72\n",
      "  35   5  CR1  CR2  CLR3  CLR4  CR5  CR6  CR8  CR9  CR10  CR11  CR12  CR13  CR14  OR9  CLR16  CLR17  ELR2  CR15  CR16  OR12  OR13  CR17  CR18  CR19  CR20  CLR27  CLR28  CR21  CR22  CR23  CR24  CLR33  CLR34  CR25  CLR36  CR27  CLR38  CLR39  CLR40  CLR41  CLR42  CR30  CR31  CR32  CLR46  CLR47  CLR48  CLR49  CR34  CR35  CR36  CR37  CR38  OR45  CR39  CR40  CR41  CR42  CR43  OR55  CLR62  CLR63  CLR64  CLR65  OR46  OR54  CLR68  CLR69  CLR70  CLR71  CLR72\n",
      "  36   1  CR1  CR2  CLR3  CLR4  CR5  CR6  CR8  CR9  CR10  CR11  CR12  CR13  CR14  OR9  CLR16  CLR17  ELR2  CR15  CR16  OR12  OR13  CR17  CR18  CR19  CR20  CLR27  CLR28  CR21  CR22  CR23  CR24  CLR33  CLR34  CR25  CLR36  CR27  CLR38  CLR39  CLR40  CLR41  CLR42  CR30  CR31  CR32  CLR46  CLR47  CLR48  CLR49  CR34  CR35  CR36  CR37  CR38  OR45  CR39  CR40  CR41  CR42  CR43  OR55  CLR62  CLR63  CLR64  CLR65  OR46  OR54  CLR68  CLR69  CLR70  CLR71  CLR72\n",
      "  36   2  CR1  CR2  CLR3  CLR4  CR5  CR6  CR8  CR9  CR10  CR11  CR12  CR13  CR14  OR9  CLR16  CLR17  ELR2  CR15  CR16  OR12  OR13  CR17  CR18  CR19  CR20  CLR27  CLR28  CR21  CR22  CR23  CR24  CLR33  CLR34  CR25  CLR36  CR27  CLR38  CLR39  CLR40  CLR41  CLR42  CR30  CR31  CR32  CLR46  CLR47  CLR48  CLR49  CR34  CR35  CR36  CR37  CR38  OR45  CR39  CR40  CR41  CR42  CR43  OR55  CLR62  CLR63  CLR64  CLR65  OR46  OR54  CLR68  CLR69  CLR70  CLR71  CLR72\n",
      "  36   3  CR1  CR2  CLR3  CLR4  CR5  CR6  CR8  CR9  CR10  CR11  CR12  CR13  CR14  OR9  CLR16  CLR17  ELR2  CR15  CR16  OR12  OR13  CR17  CR18  CR19  CR20  CLR27  CLR28  CR21  CR22  CR23  CR24  CLR33  CLR34  CR25  CLR36  CR27  CLR38  CLR39  CLR40  CLR41  CLR42  CR30  CR31  CR32  CLR46  CLR47  CLR48  CLR49  CR34  CR35  CR36  CR37  CR38  OR45  CR39  CR40  CR41  CR42  CR43  OR55  CLR62  CLR63  CLR64  CLR65  OR46  OR54  CLR68  CLR69  CLR70  CLR71  CLR72\n",
      "  36   4  CR1  CR2  CLR3  CLR4  CR5  CR6  CR8  CR9  CR10  CR11  CR12  CR13  CR14  OR9  CLR16  CLR17  ELR2  CR15  CR16  OR12  OR13  CR17  CR18  CR19  CR20  CLR27  CLR28  CR21  CR22  CR23  CR24  CLR33  CLR34  CR25  CLR36  CR27  CLR38  CLR39  CLR40  CLR41  CLR42  CR30  CR31  CR32  CLR46  CLR47  CLR48  CLR49  CR34  CR35  CR36  CR37  CR38  OR45  CR39  CR40  CR41  CR42  CR43  OR55  CLR62  CLR63  CLR64  CLR65  OR46  OR54  CLR68  CLR69  CLR70  CLR71  CLR72\n",
      "  36   5  CR1  CR2  CLR3  CLR4  CR5  CR6  CR8  CR9  CR10  CR11  CR12  CR13  CR14  OR9  CLR16  CLR17  ELR2  CR15  CR16  OR12  OR13  CR17  CR18  CR19  CR20  CLR27  CLR28  CR21  CR22  CR23  CR24  CLR33  CLR34  CR25  CLR36  CR27  CLR38  CLR39  CLR40  CLR41  CLR42  CR30  CR31  CR32  CLR46  CLR47  CLR48  CLR49  CR34  CR35  CR36  CR37  CR38  OR45  CR39  CR40  CR41  CR42  CR43  OR55  CLR62  CLR63  CLR64  CLR65  OR46  OR54  CLR68  CLR69  CLR70  CLR71  CLR72\n",
      "  37   1  CR1  CR2  CLR3  CLR4  CR5  CR6  CR8  CR9  CR10  CR11  CR12  CR13  CR14  OR9  CLR16  CLR17  ELR2  CR15  CR16  OR12  OR13  CR17  CR18  CR19  CR20  CLR27  CLR28  CR21  CR22  CR23  CR24  CLR33  CLR34  CR25  CLR36  CR27  CLR38  CLR39  CLR40  CLR41  CLR42  CR30  CR31  CR32  CLR46  CLR47  CLR48  CLR49  CR34  CR35  CR36  CR37  CR38  OR45  CR39  CR40  CR41  CR42  CR43  OR55  CLR62  CLR63  CLR64  CLR65  OR46  OR54  CLR68  CLR69  CLR70  CLR71  CLR72\n",
      "  37   2  CR1  CR2  CLR3  CLR4  CR5  CR6  CR8  CR9  CR10  CR11  CR12  CR13  CR14  OR9  CLR16  CLR17  ELR2  CR15  CR16  OR12  OR13  CR17  CR18  CR19  CR20  CLR27  CLR28  CR21  CR22  CR23  CR24  CLR33  CLR34  CR25  CLR36  CR27  CLR38  CLR39  CLR40  CLR41  CLR42  CR30  CR31  CR32  CLR46  CLR47  CLR48  CLR49  CR34  CR35  CR36  CR37  CR38  OR45  CR39  CR40  CR41  CR42  CR43  OR55  CLR62  CLR63  CLR64  CLR65  OR46  OR54  CLR68  CLR69  CLR70  CLR71  CLR72\n",
      "  37   3  CR1  CR2  CLR3  CLR4  CR5  CR6  CR8  CR9  CR10  CR11  CR12  CR13  CR14  OR9  CLR16  CLR17  ELR2  CR15  CR16  OR12  OR13  CR17  CR18  CR19  CR20  CLR27  CLR28  CR21  CR22  CR23  CR24  CLR33  CLR34  CR25  CLR36  CR27  CLR38  CLR39  CLR40  CLR41  CLR42  CR30  CR31  CR32  CLR46  CLR47  CLR48  CLR49  CR34  CR35  CR36  CR37  CR38  OR45  CR39  CR40  CR41  CR42  CR43  OR55  CLR62  CLR63  CLR64  CLR65  OR46  OR54  CLR68  CLR69  CLR70  CLR71  CLR72\n",
      "  37   4  CR1  CR2  CLR3  CLR4  CR5  CR6  CR8  CR9  CR10  CR11  CR12  CR13  CR14  OR9  CLR16  CLR17  ELR2  CR15  CR16  OR12  OR13  CR17  CR18  CR19  CR20  CLR27  CLR28  CR21  CR22  CR23  CR24  CLR33  CLR34  CR25  CLR36  CR27  CLR38  CLR39  CLR40  CLR41  CLR42  CR30  CR31  CR32  CLR46  CLR47  CLR48  CLR49  CR34  CR35  CR36  CR37  CR38  OR45  CR39  CR40  CR41  CR42  CR43  OR55  CLR62  CLR63  CLR64  CLR65  OR46  OR54  CLR68  CLR69  CLR70  CLR71  CLR72\n",
      "  37   5  CR1  CR2  CLR3  CLR4  CR5  CR6  CR8  CR9  CR10  CR11  CR12  CR13  CR14  OR9  CLR16  CLR17  ELR2  CR15  CR16  OR12  OR13  CR17  CR18  CR19  CR20  CLR27  CLR28  CR21  CR22  CR23  CR24  CLR33  CLR34  CR25  CLR36  CR27  CLR38  CLR39  CLR40  CLR41  CLR42  CR30  CR31  CR32  CLR46  CLR47  CLR48  CLR49  CR34  CR35  CR36  CR37  CR38  OR45  CR39  CR40  CR41  CR42  CR43  OR55  CLR62  CLR63  CLR64  CLR65  OR46  OR54  CLR68  CLR69  CLR70  CLR71  CLR72\n",
      "  38   1  CR1  CR2  CLR3  CLR4  CR5  CR6  CR8  CR9  CR10  CR11  CR12  CR13  CR14  OR9  CLR16  CLR17  ELR2  CR15  CR16  OR12  OR13  CR17  CR18  CR19  CR20  CLR27  CLR28  CR21  CR22  CR23  CR24  CLR33  CLR34  CR25  CLR36  CR27  CLR38  CLR39  CLR40  CLR41  CLR42  CR30  CR31  CR32  CLR46  CLR47  CLR48  CLR49  CR34  CR35  CR36  CR37  CR38  OR45  CR39  CR40  CR41  CR42  CR43  OR55  CLR62  CLR63  CLR64  CLR65  OR46  OR54  CLR68  CLR69  CLR70  CLR71  CLR72\n",
      "  38   2  CR1  CR2  CLR3  CLR4  CR5  CR6  CR8  CR9  CR10  CR11  CR12  CR13  CR14  OR9  CLR16  CLR17  ELR2  CR15  CR16  OR12  OR13  CR17  CR18  CR19  CR20  CLR27  CLR28  CR21  CR22  CR23  CR24  CLR33  CLR34  CR25  CLR36  CR27  CLR38  CLR39  CLR40  CLR41  CLR42  CR30  CR31  CR32  CLR46  CLR47  CLR48  CLR49  CR34  CR35  CR36  CR37  CR38  OR45  CR39  CR40  CR41  CR42  CR43  OR55  CLR62  CLR63  CLR64  CLR65  OR46  OR54  CLR68  CLR69  CLR70  CLR71  CLR72\n",
      "  38   3  CR1  CR2  CLR3  CLR4  CR5  CR6  CR8  CR9  CR10  CR11  CR12  CR13  CR14  OR9  CLR16  CLR17  ELR2  CR15  CR16  OR12  OR13  CR17  CR18  CR19  CR20  CLR27  CLR28  CR21  CR22  CR23  CR24  CLR33  CLR34  CR25  CLR36  CR27  CLR38  CLR39  CLR40  CLR41  CLR42  CR30  CR31  CR32  CLR46  CLR47  CLR48  CLR49  CR34  CR35  CR36  CR37  CR38  OR45  CR39  CR40  CR41  CR42  CR43  OR55  CLR62  CLR63  CLR64  CLR65  OR46  OR54  CLR68  CLR69  CLR70  CLR71  CLR72\n",
      "  38   4  CR1  CR2  CLR3  CLR4  CR5  CR6  CR8  CR9  CR10  CR11  CR12  CR13  CR14  OR9  CLR16  CLR17  ELR2  CR15  CR16  OR12  OR13  CR17  CR18  CR19  CR20  CLR27  CLR28  CR21  CR22  CR23  CR24  CLR33  CLR34  CR25  CLR36  CR27  CLR38  CLR39  CLR40  CLR41  CLR42  CR30  CR31  CR32  CLR46  CLR47  CLR48  CLR49  CR34  CR35  CR36  CR37  CR38  OR45  CR39  CR40  CR41  CR42  CR43  OR55  CLR62  CLR63  CLR64  CLR65  OR46  OR54  CLR68  CLR69  CLR70  CLR71  CLR72\n",
      "  38   5  CR1  CR2  CLR3  CLR4  CR5  CR6  CR8  CR9  CR10  CR11  CR12  CR13  CR14  OR9  CLR16  CLR17  ELR2  CR15  CR16  OR12  OR13  CR17  CR18  CR19  CR20  CLR27  CLR28  CR21  CR22  CR23  CR24  CLR33  CLR34  CR25  CLR36  CR27  CLR38  CLR39  CLR40  CLR41  CLR42  CR30  CR31  CR32  CLR46  CLR47  CLR48  CLR49  CR34  CR35  CR36  CR37  CR38  OR45  CR39  CR40  CR41  CR42  CR43  OR55  CLR62  CLR63  CLR64  CLR65  OR46  OR54  CLR68  CLR69  CLR70  CLR71  CLR72\n",
      "  39   1  CR1  CR2  CLR3  CLR4  CR5  CR6  CR8  CR9  CR10  CR11  CR12  CR13  CR14  OR9  CLR16  CLR17  ELR2  CR15  CR16  OR12  OR13  CR17  CR18  CR19  CR20  CLR27  CLR28  CR21  CR22  CR23  CR24  CLR33  CLR34  CR25  CLR36  CR27  CLR38  CLR39  CLR40  CLR41  CLR42  CR30  CR31  CR32  CLR46  CLR47  CLR48  CLR49  CR34  CR35  CR36  CR37  CR38  OR45  CR39  CR40  CR41  CR42  CR43  OR55  CLR62  CLR63  CLR64  CLR65  OR46  OR54  CLR68  CLR69  CLR70  CLR71  CLR72\n",
      "  39   2  CR1  CR2  CLR3  CLR4  CR5  CR6  CR8  CR9  CR10  CR11  CR12  CR13  CR14  OR9  CLR16  CLR17  ELR2  CR15  CR16  OR12  OR13  CR17  CR18  CR19  CR20  CLR27  CLR28  CR21  CR22  CR23  CR24  CLR33  CLR34  CR25  CLR36  CR27  CLR38  CLR39  CLR40  CLR41  CLR42  CR30  CR31  CR32  CLR46  CLR47  CLR48  CLR49  CR34  CR35  CR36  CR37  CR38  OR45  CR39  CR40  CR41  CR42  CR43  OR55  CLR62  CLR63  CLR64  CLR65  OR46  OR54  CLR68  CLR69  CLR70  CLR71  CLR72\n",
      "  39   3  CR1  CR2  CLR3  CLR4  CR5  CR6  CR8  CR9  CR10  CR11  CR12  CR13  CR14  OR9  CLR16  CLR17  ELR2  CR15  CR16  OR12  OR13  CR17  CR18  CR19  CR20  CLR27  CLR28  CR21  CR22  CR23  CR24  CLR33  CLR34  CR25  CLR36  CR27  CLR38  CLR39  CLR40  CLR41  CLR42  CR30  CR31  CR32  CLR46  CLR47  CLR48  CLR49  CR34  CR35  CR36  CR37  CR38  OR45  CR39  CR40  CR41  CR42  CR43  OR55  CLR62  CLR63  CLR64  CLR65  OR46  OR54  CLR68  CLR69  CLR70  CLR71  CLR72\n",
      "  39   4  CR1  CR2  CLR3  CLR4  CR5  CR6  CR8  CR9  CR10  CR11  CR12  CR13  CR14  OR9  CLR16  CLR17  ELR2  CR15  CR16  OR12  OR13  CR17  CR18  CR19  CR20  CLR27  CLR28  CR21  CR22  CR23  CR24  CLR33  CLR34  CR25  CLR36  CR27  CLR38  CLR39  CLR40  CLR41  CLR42  CR30  CR31  CR32  CLR46  CLR47  CLR48  CLR49  CR34  CR35  CR36  CR37  CR38  OR45  CR39  CR40  CR41  CR42  CR43  OR55  CLR62  CLR63  CLR64  CLR65  OR46  OR54  CLR68  CLR69  CLR70  CLR71  CLR72\n",
      "  39   5  CR1  CR2  CLR3  CLR4  CR5  CR6  CR8  CR9  CR10  CR11  CR12  CR13  CR14  OR9  CLR16  CLR17  ELR2  CR15  CR16  OR12  OR13  CR17  CR18  CR19  CR20  CLR27  CLR28  CR21  CR22  CR23  CR24  CLR33  CLR34  CR25  CLR36  CR27  CLR38  CLR39  CLR40  CLR41  CLR42  CR30  CR31  CR32  CLR46  CLR47  CLR48  CLR49  CR34  CR35  CR36  CR37  CR38  OR45  CR39  CR40  CR41  CR42  CR43  OR55  CLR62  CLR63  CLR64  CLR65  OR46  OR54  CLR68  CLR69  CLR70  CLR71  CLR72\n",
      "  40   1  CR1  CR2  CLR3  CLR4  CR5  CR6  CR8  CR9  CR10  CR11  CR12  CR13  CR14  OR9  CLR16  CLR17  ELR2  CR15  CR16  OR12  OR13  CR17  CR18  CR19  CR20  CLR27  CLR28  CR21  CR22  CR23  CR24  CLR33  CLR34  CR25  CLR36  CR27  CLR38  CLR39  CLR40  CLR41  CLR42  CR30  CR31  CR32  CLR46  CLR47  CLR48  CLR49  CR34  CR35  CR36  CR37  CR38  OR45  CR39  CR40  CR41  CR42  CR43  OR55  CLR62  CLR63  CLR64  CLR65  OR46  OR54  CLR68  CLR69  CLR70  CLR71  CLR72\n",
      "  40   2  CR1  CR2  CLR3  CLR4  CR5  CR6  CR8  CR9  CR10  CR11  CR12  CR13  CR14  OR9  CLR16  CLR17  ELR2  CR15  CR16  OR12  OR13  CR17  CR18  CR19  CR20  CLR27  CLR28  CR21  CR22  CR23  CR24  CLR33  CLR34  CR25  CLR36  CR27  CLR38  CLR39  CLR40  CLR41  CLR42  CR30  CR31  CR32  CLR46  CLR47  CLR48  CLR49  CR34  CR35  CR36  CR37  CR38  OR45  CR39  CR40  CR41  CR42  CR43  OR55  CLR62  CLR63  CLR64  CLR65  OR46  OR54  CLR68  CLR69  CLR70  CLR71  CLR72\n",
      "  40   3  CR1  CR2  CLR3  CLR4  CR5  CR6  CR8  CR9  CR10  CR11  CR12  CR13  CR14  OR9  CLR16  CLR17  ELR2  CR15  CR16  OR12  OR13  CR17  CR18  CR19  CR20  CLR27  CLR28  CR21  CR22  CR23  CR24  CLR33  CLR34  CR25  CLR36  CR27  CLR38  CLR39  CLR40  CLR41  CLR42  CR30  CR31  CR32  CLR46  CLR47  CLR48  CLR49  CR34  CR35  CR36  CR37  CR38  OR45  CR39  CR40  CR41  CR42  CR43  OR55  CLR62  CLR63  CLR64  CLR65  OR46  OR54  CLR68  CLR69  CLR70  CLR71  CLR72\n",
      "  40   4  CR1  CR2  CLR3  CLR4  CR5  CR6  CR8  CR9  CR10  CR11  CR12  CR13  CR14  OR9  CLR16  CLR17  ELR2  CR15  CR16  OR12  OR13  CR17  CR18  CR19  CR20  CLR27  CLR28  CR21  CR22  CR23  CR24  CLR33  CLR34  CR25  CLR36  CR27  CLR38  CLR39  CLR40  CLR41  CLR42  CR30  CR31  CR32  CLR46  CLR47  CLR48  CLR49  CR34  CR35  CR36  CR37  CR38  OR45  CR39  CR40  CR41  CR42  CR43  OR55  CLR62  CLR63  CLR64  CLR65  OR46  OR54  CLR68  CLR69  CLR70  CLR71  CLR72\n",
      "  40   5  CR1  CR2  CLR3  CLR4  CR5  CR6  CR8  CR9  CR10  CR11  CR12  CR13  CR14  OR9  CLR16  CLR17  ELR2  CR15  CR16  OR12  OR13  CR17  CR18  CR19  CR20  CLR27  CLR28  CR21  CR22  CR23  CR24  CLR33  CLR34  CR25  CLR36  CR27  CLR38  CLR39  CLR40  CLR41  CLR42  CR30  CR31  CR32  CLR46  CLR47  CLR48  CLR49  CR34  CR35  CR36  CR37  CR38  OR45  CR39  CR40  CR41  CR42  CR43  OR55  CLR62  CLR63  CLR64  CLR65  OR46  OR54  CLR68  CLR69  CLR70  CLR71  CLR72\n",
      "  41   1  CR1  CR2  CLR3  CLR4  CR5  CR6  CR8  CR9  CR10  CR11  CR12  CR13  CR14  OR9  CLR16  CLR17  ELR2  CR15  CR16  OR12  OR13  CR17  CR18  CR19  CR20  CLR27  CLR28  CR21  CR22  CR23  CR24  CLR33  CLR34  CR25  CLR36  CR27  CLR38  CLR39  CLR40  CLR41  CLR42  CR30  CR31  CR32  CLR46  CLR47  CLR48  CLR49  CR34  CR35  CR36  CR37  CR38  OR45  CR39  CR40  CR41  CR42  CR43  OR55  CLR62  CLR63  CLR64  CLR65  OR46  OR54  CLR68  CLR69  CLR70  CLR71  CLR72\n",
      "  41   2  CR1  CR2  CLR3  CLR4  CR5  CR6  CR8  CR9  CR10  CR11  CR12  CR13  CR14  OR9  CLR16  CLR17  ELR2  CR15  CR16  OR12  OR13  CR17  CR18  CR19  CR20  CLR27  CLR28  CR21  CR22  CR23  CR24  CLR33  CLR34  CR25  CLR36  CR27  CLR38  CLR39  CLR40  CLR41  CLR42  CR30  CR31  CR32  CLR46  CLR47  CLR48  CLR49  CR34  CR35  CR36  CR37  CR38  OR45  CR39  CR40  CR41  CR42  CR43  OR55  CLR62  CLR63  CLR64  CLR65  OR46  OR54  CLR68  CLR69  CLR70  CLR71  CLR72\n",
      "  41   3  CR1  CR2  CLR3  CLR4  CR5  CR6  CR8  CR9  CR10  CR11  CR12  CR13  CR14  OR9  CLR16  CLR17  ELR2  CR15  CR16  OR12  OR13  CR17  CR18  CR19  CR20  CLR27  CLR28  CR21  CR22  CR23  CR24  CLR33  CLR34  CR25  CLR36  CR27  CLR38  CLR39  CLR40  CLR41  CLR42  CR30  CR31  CR32  CLR46  CLR47  CLR48  CLR49  CR34  CR35  CR36  CR37  CR38  OR45  CR39  CR40  CR41  CR42  CR43  OR55  CLR62  CLR63  CLR64  CLR65  OR46  OR54  CLR68  CLR69  CLR70  CLR71  CLR72\n",
      "  41   4  CR1  CR2  CLR3  CLR4  CR5  CR6  CR8  CR9  CR10  CR11  CR12  CR13  CR14  OR9  CLR16  CLR17  ELR2  CR15  CR16  OR12  OR13  CR17  CR18  CR19  CR20  CLR27  CLR28  CR21  CR22  CR23  CR24  CLR33  CLR34  CR25  CLR36  CR27  CLR38  CLR39  CLR40  CLR41  CLR42  CR30  CR31  CR32  CLR46  CLR47  CLR48  CLR49  CR34  CR35  CR36  CR37  CR38  OR45  CR39  CR40  CR41  CR42  CR43  OR55  CLR62  CLR63  CLR64  CLR65  OR46  OR54  CLR68  CLR69  CLR70  CLR71  CLR72\n",
      "  41   5  CR1  CR2  CLR3  CLR4  CR5  CR6  CR8  CR9  CR10  CR11  CR12  CR13  CR14  OR9  CLR16  CLR17  ELR2  CR15  CR16  OR12  OR13  CR17  CR18  CR19  CR20  CLR27  CLR28  CR21  CR22  CR23  CR24  CLR33  CLR34  CR25  CLR36  CR27  CLR38  CLR39  CLR40  CLR41  CLR42  CR30  CR31  CR32  CLR46  CLR47  CLR48  CLR49  CR34  CR35  CR36  CR37  CR38  OR45  CR39  CR40  CR41  CR42  CR43  OR55  CLR62  CLR63  CLR64  CLR65  OR46  OR54  CLR68  CLR69  CLR70  CLR71  CLR72\n",
      "  42   1  CR1  CR2  CLR3  CLR4  CR5  CR6  CR8  CR9  CR10  CR11  CR12  CR13  CR14  OR9  CLR16  CLR17  ELR2  CR15  CR16  OR12  OR13  CR17  CR18  CR19  CR20  CLR27  CLR28  CR21  CR22  CR23  CR24  CLR33  CLR34  CR25  CLR36  CR27  CLR38  CLR39  CLR40  CLR41  CLR42  CR30  CR31  CR32  CLR46  CLR47  CLR48  CLR49  CR34  CR35  CR36  CR37  CR38  OR45  CR39  CR40  CR41  CR42  CR43  OR55  CLR62  CLR63  CLR64  CLR65  OR46  OR54  CLR68  CLR69  CLR70  CLR71  CLR72\n",
      "  42   2  CR1  CR2  CLR3  CLR4  CR5  CR6  CR8  CR9  CR10  CR11  CR12  CR13  CR14  OR9  CLR16  CLR17  ELR2  CR15  CR16  OR12  OR13  CR17  CR18  CR19  CR20  CLR27  CLR28  CR21  CR22  CR23  CR24  CLR33  CLR34  CR25  CLR36  CR27  CLR38  CLR39  CLR40  CLR41  CLR42  CR30  CR31  CR32  CLR46  CLR47  CLR48  CLR49  CR34  CR35  CR36  CR37  CR38  OR45  CR39  CR40  CR41  CR42  CR43  OR55  CLR62  CLR63  CLR64  CLR65  OR46  OR54  CLR68  CLR69  CLR70  CLR71  CLR72\n",
      "  42   3  CR1  CR2  CLR3  CLR4  CR5  CR6  CR8  CR9  CR10  CR11  CR12  CR13  CR14  OR9  CLR16  CLR17  ELR2  CR15  CR16  OR12  OR13  CR17  CR18  CR19  CR20  CLR27  CLR28  CR21  CR22  CR23  CR24  CLR33  CLR34  CR25  CLR36  CR27  CLR38  CLR39  CLR40  CLR41  CLR42  CR30  CR31  CR32  CLR46  CLR47  CLR48  CLR49  CR34  CR35  CR36  CR37  CR38  OR45  CR39  CR40  CR41  CR42  CR43  OR55  CLR62  CLR63  CLR64  CLR65  OR46  OR54  CLR68  CLR69  CLR70  CLR71  CLR72\n",
      "  42   4  CR1  CR2  CLR3  CLR4  CR5  CR6  CR8  CR9  CR10  CR11  CR12  CR13  CR14  OR9  CLR16  CLR17  ELR2  CR15  CR16  OR12  OR13  CR17  CR18  CR19  CR20  CLR27  CLR28  CR21  CR22  CR23  CR24  CLR33  CLR34  CR25  CLR36  CR27  CLR38  CLR39  CLR40  CLR41  CLR42  CR30  CR31  CR32  CLR46  CLR47  CLR48  CLR49  CR34  CR35  CR36  CR37  CR38  OR45  CR39  CR40  CR41  CR42  CR43  OR55  CLR62  CLR63  CLR64  CLR65  OR46  OR54  CLR68  CLR69  CLR70  CLR71  CLR72\n",
      "  42   5  CR1  CR2  CLR3  CLR4  CR5  CR6  CR8  CR9  CR10  CR11  CR12  CR13  CR14  OR9  CLR16  CLR17  ELR2  CR15  CR16  OR12  OR13  CR17  CR18  CR19  CR20  CLR27  CLR28  CR21  CR22  CR23  CR24  CLR33  CLR34  CR25  CLR36  CR27  CLR38  CLR39  CLR40  CLR41  CLR42  CR30  CR31  CR32  CLR46  CLR47  CLR48  CLR49  CR34  CR35  CR36  CR37  CR38  OR45  CR39  CR40  CR41  CR42  CR43  OR55  CLR62  CLR63  CLR64  CLR65  OR46  OR54  CLR68  CLR69  CLR70  CLR71  CLR72\n",
      "  43   1  CR1  CR2  CLR3  CLR4  CR5  CR6  CR8  CR9  CR10  CR11  CR12  CR13  CR14  OR9  CLR16  CLR17  ELR2  CR15  CR16  OR12  OR13  CR17  CR18  CR19  CR20  CLR27  CLR28  CR21  CR22  CR23  CR24  CLR33  CLR34  CR25  CLR36  CR27  CLR38  CLR39  CLR40  CLR41  CLR42  CR30  CR31  CR32  CLR46  CLR47  CLR48  CLR49  CR34  CR35  CR36  CR37  CR38  OR45  CR39  CR40  CR41  CR42  CR43  OR55  CLR62  CLR63  CLR64  CLR65  OR46  OR54  CLR68  CLR69  CLR70  CLR71  CLR72\n",
      "  43   2  CR1  CR2  CLR3  CLR4  CR5  CR6  CR8  CR9  CR10  CR11  CR12  CR13  CR14  OR9  CLR16  CLR17  ELR2  CR15  CR16  OR12  OR13  CR17  CR18  CR19  CR20  CLR27  CLR28  CR21  CR22  CR23  CR24  CLR33  CLR34  CR25  CLR36  CR27  CLR38  CLR39  CLR40  CLR41  CLR42  CR30  CR31  CR32  CLR46  CLR47  CLR48  CLR49  CR34  CR35  CR36  CR37  CR38  OR45  CR39  CR40  CR41  CR42  CR43  OR55  CLR62  CLR63  CLR64  CLR65  OR46  OR54  CLR68  CLR69  CLR70  CLR71  CLR72\n",
      "  43   3  CR1  CR2  CLR3  CLR4  CR5  CR6  CR8  CR9  CR10  CR11  CR12  CR13  CR14  OR9  CLR16  CLR17  ELR2  CR15  CR16  OR12  OR13  CR17  CR18  CR19  CR20  CLR27  CLR28  CR21  CR22  CR23  CR24  CLR33  CLR34  CR25  CLR36  CR27  CLR38  CLR39  CLR40  CLR41  CLR42  CR30  CR31  CR32  CLR46  CLR47  CLR48  CLR49  CR34  CR35  CR36  CR37  CR38  OR45  CR39  CR40  CR41  CR42  CR43  OR55  CLR62  CLR63  CLR64  CLR65  OR46  OR54  CLR68  CLR69  CLR70  CLR71  CLR72\n",
      "  43   4  CR1  CR2  CLR3  CLR4  CR5  CR6  CR8  CR9  CR10  CR11  CR12  CR13  CR14  OR9  CLR16  CLR17  ELR2  CR15  CR16  OR12  OR13  CR17  CR18  CR19  CR20  CLR27  CLR28  CR21  CR22  CR23  CR24  CLR33  CLR34  CR25  CLR36  CR27  CLR38  CLR39  CLR40  CLR41  CLR42  CR30  CR31  CR32  CLR46  CLR47  CLR48  CLR49  CR34  CR35  CR36  CR37  CR38  OR45  CR39  CR40  CR41  CR42  CR43  OR55  CLR62  CLR63  CLR64  CLR65  OR46  OR54  CLR68  CLR69  CLR70  CLR71  CLR72\n",
      "  43   5  CR1  CR2  CLR3  CLR4  CR5  CR6  CR8  CR9  CR10  CR11  CR12  CR13  CR14  OR9  CLR16  CLR17  ELR2  CR15  CR16  OR12  OR13  CR17  CR18  CR19  CR20  CLR27  CLR28  CR21  CR22  CR23  CR24  CLR33  CLR34  CR25  CLR36  CR27  CLR38  CLR39  CLR40  CLR41  CLR42  CR30  CR31  CR32  CLR46  CLR47  CLR48  CLR49  CR34  CR35  CR36  CR37  CR38  OR45  CR39  CR40  CR41  CR42  CR43  OR55  CLR62  CLR63  CLR64  CLR65  OR46  OR54  CLR68  CLR69  CLR70  CLR71  CLR72\n",
      "  44   1  CR1  CR2  CLR3  CLR4  CR5  CR6  CR8  CR9  CR10  CR11  CR12  CR13  CR14  OR9  CLR16  CLR17  ELR2  CR15  CR16  OR12  OR13  CR17  CR18  CR19  CR20  CLR27  CLR28  CR21  CR22  CR23  CR24  CLR33  CLR34  CR25  CLR36  CR27  CLR38  CLR39  CLR40  CLR41  CLR42  CR30  CR31  CR32  CLR46  CLR47  CLR48  CLR49  CR34  CR35  CR36  CR37  CR38  OR45  CR39  CR40  CR41  CR42  CR43  OR55  CLR62  CLR63  CLR64  CLR65  OR46  OR54  CLR68  CLR69  CLR70  CLR71  CLR72\n",
      "  44   2  CR1  CR2  CLR3  CLR4  CR5  CR6  CR8  CR9  CR10  CR11  CR12  CR13  CR14  OR9  CLR16  CLR17  ELR2  CR15  CR16  OR12  OR13  CR17  CR18  CR19  CR20  CLR27  CLR28  CR21  CR22  CR23  CR24  CLR33  CLR34  CR25  CLR36  CR27  CLR38  CLR39  CLR40  CLR41  CLR42  CR30  CR31  CR32  CLR46  CLR47  CLR48  CLR49  CR34  CR35  CR36  CR37  CR38  OR45  CR39  CR40  CR41  CR42  CR43  OR55  CLR62  CLR63  CLR64  CLR65  OR46  OR54  CLR68  CLR69  CLR70  CLR71  CLR72\n",
      "  44   3  CR1  CR2  CLR3  CLR4  CR5  CR6  CR8  CR9  CR10  CR11  CR12  CR13  CR14  OR9  CLR16  CLR17  ELR2  CR15  CR16  OR12  OR13  CR17  CR18  CR19  CR20  CLR27  CLR28  CR21  CR22  CR23  CR24  CLR33  CLR34  CR25  CLR36  CR27  CLR38  CLR39  CLR40  CLR41  CLR42  CR30  CR31  CR32  CLR46  CLR47  CLR48  CLR49  CR34  CR35  CR36  CR37  CR38  OR45  CR39  CR40  CR41  CR42  CR43  OR55  CLR62  CLR63  CLR64  CLR65  OR46  OR54  CLR68  CLR69  CLR70  CLR71  CLR72\n",
      "  44   4  CR1  CR2  CLR3  CLR4  CR5  CR6  CR8  CR9  CR10  CR11  CR12  CR13  CR14  OR9  CLR16  CLR17  ELR2  CR15  CR16  OR12  OR13  CR17  CR18  CR19  CR20  CLR27  CLR28  CR21  CR22  CR23  CR24  CLR33  CLR34  CR25  CLR36  CR27  CLR38  CLR39  CLR40  CLR41  CLR42  CR30  CR31  CR32  CLR46  CLR47  CLR48  CLR49  CR34  CR35  CR36  CR37  CR38  OR45  CR39  CR40  CR41  CR42  CR43  OR55  CLR62  CLR63  CLR64  CLR65  OR46  OR54  CLR68  CLR69  CLR70  CLR71  CLR72\n",
      "  44   5  CR1  CR2  CLR3  CLR4  CR5  CR6  CR8  CR9  CR10  CR11  CR12  CR13  CR14  OR9  CLR16  CLR17  ELR2  CR15  CR16  OR12  OR13  CR17  CR18  CR19  CR20  CLR27  CLR28  CR21  CR22  CR23  CR24  CLR33  CLR34  CR25  CLR36  CR27  CLR38  CLR39  CLR40  CLR41  CLR42  CR30  CR31  CR32  CLR46  CLR47  CLR48  CLR49  CR34  CR35  CR36  CR37  CR38  OR45  CR39  CR40  CR41  CR42  CR43  OR55  CLR62  CLR63  CLR64  CLR65  OR46  OR54  CLR68  CLR69  CLR70  CLR71  CLR72\n",
      "  45   1  CR1  CR2  CLR3  CLR4  CR5  CR6  CR8  CR9  CR10  CR11  CR12  CR13  CR14  OR9  CLR16  CLR17  ELR2  CR15  CR16  OR12  OR13  CR17  CR18  CR19  CR20  CLR27  CLR28  CR21  CR22  CR23  CR24  CLR33  CLR34  CR25  CLR36  CR27  CLR38  CLR39  CLR40  CLR41  CLR42  CR30  CR31  CR32  CLR46  CLR47  CLR48  CLR49  CR34  CR35  CR36  CR37  CR38  OR45  CR39  CR40  CR41  CR42  CR43  OR55  CLR62  CLR63  CLR64  CLR65  OR46  OR54  CLR68  CLR69  CLR70  CLR71  CLR72\n",
      "  45   2  CR1  CR2  CLR3  CLR4  CR5  CR6  CR8  CR9  CR10  CR11  CR12  CR13  CR14  OR9  CLR16  CLR17  ELR2  CR15  CR16  OR12  OR13  CR17  CR18  CR19  CR20  CLR27  CLR28  CR21  CR22  CR23  CR24  CLR33  CLR34  CR25  CLR36  CR27  CLR38  CLR39  CLR40  CLR41  CLR42  CR30  CR31  CR32  CLR46  CLR47  CLR48  CLR49  CR34  CR35  CR36  CR37  CR38  OR45  CR39  CR40  CR41  CR42  CR43  OR55  CLR62  CLR63  CLR64  CLR65  OR46  OR54  CLR68  CLR69  CLR70  CLR71  CLR72\n",
      "  45   3  CR1  CR2  CLR3  CLR4  CR5  CR6  CR8  CR9  CR10  CR11  CR12  CR13  CR14  OR9  CLR16  CLR17  ELR2  CR15  CR16  OR12  OR13  CR17  CR18  CR19  CR20  CLR27  CLR28  CR21  CR22  CR23  CR24  CLR33  CLR34  CR25  CLR36  CR27  CLR38  CLR39  CLR40  CLR41  CLR42  CR30  CR31  CR32  CLR46  CLR47  CLR48  CLR49  CR34  CR35  CR36  CR37  CR38  OR45  CR39  CR40  CR41  CR42  CR43  OR55  CLR62  CLR63  CLR64  CLR65  OR46  OR54  CLR68  CLR69  CLR70  CLR71  CLR72\n",
      "  45   4  CR1  CR2  CLR3  CLR4  CR5  CR6  CR8  CR9  CR10  CR11  CR12  CR13  CR14  OR9  CLR16  CLR17  ELR2  CR15  CR16  OR12  OR13  CR17  CR18  CR19  CR20  CLR27  CLR28  CR21  CR22  CR23  CR24  CLR33  CLR34  CR25  CLR36  CR27  CLR38  CLR39  CLR40  CLR41  CLR42  CR30  CR31  CR32  CLR46  CLR47  CLR48  CLR49  CR34  CR35  CR36  CR37  CR38  OR45  CR39  CR40  CR41  CR42  CR43  OR55  CLR62  CLR63  CLR64  CLR65  OR46  OR54  CLR68  CLR69  CLR70  CLR71  CLR72\n",
      "  45   5  CR1  CR2  CLR3  CLR4  CR5  CR6  CR8  CR9  CR10  CR11  CR12  CR13  CR14  OR9  CLR16  CLR17  ELR2  CR15  CR16  OR12  OR13  CR17  CR18  CR19  CR20  CLR27  CLR28  CR21  CR22  CR23  CR24  CLR33  CLR34  CR25  CLR36  CR27  CLR38  CLR39  CLR40  CLR41  CLR42  CR30  CR31  CR32  CLR46  CLR47  CLR48  CLR49  CR34  CR35  CR36  CR37  CR38  OR45  CR39  CR40  CR41  CR42  CR43  OR55  CLR62  CLR63  CLR64  CLR65  OR46  OR54  CLR68  CLR69  CLR70  CLR71  CLR72\n",
      "  46   1  CR1  CR2  CLR3  CLR4  CR5  CR6  CR8  CR9  CR10  CR11  CR12  CR13  CR14  OR9  CLR16  CLR17  ELR2  CR15  CR16  OR12  OR13  CR17  CR18  CR19  CR20  CLR27  CLR28  CR21  CR22  CR23  CR24  CLR33  CLR34  CR25  CLR36  CR27  CLR38  CLR39  CLR40  CLR41  CLR42  CR30  CR31  CR32  CLR46  CLR47  CLR48  CLR49  CR34  CR35  CR36  CR37  CR38  OR45  CR39  CR40  CR41  CR42  CR43  OR55  CLR62  CLR63  CLR64  CLR65  OR46  OR54  CLR68  CLR69  CLR70  CLR71  CLR72\n",
      "  46   2  CR1  CR2  CLR3  CLR4  CR5  CR6  CR8  CR9  CR10  CR11  CR12  CR13  CR14  OR9  CLR16  CLR17  ELR2  CR15  CR16  OR12  OR13  CR17  CR18  CR19  CR20  CLR27  CLR28  CR21  CR22  CR23  CR24  CLR33  CLR34  CR25  CLR36  CR27  CLR38  CLR39  CLR40  CLR41  CLR42  CR30  CR31  CR32  CLR46  CLR47  CLR48  CLR49  CR34  CR35  CR36  CR37  CR38  OR45  CR39  CR40  CR41  CR42  CR43  OR55  CLR62  CLR63  CLR64  CLR65  OR46  OR54  CLR68  CLR69  CLR70  CLR71  CLR72\n",
      "  46   3  CR1  CR2  CLR3  CLR4  CR5  CR6  CR8  CR9  CR10  CR11  CR12  CR13  CR14  OR9  CLR16  CLR17  ELR2  CR15  CR16  OR12  OR13  CR17  CR18  CR19  CR20  CLR27  CLR28  CR21  CR22  CR23  CR24  CLR33  CLR34  CR25  CLR36  CR27  CLR38  CLR39  CLR40  CLR41  CLR42  CR30  CR31  CR32  CLR46  CLR47  CLR48  CLR49  CR34  CR35  CR36  CR37  CR38  OR45  CR39  CR40  CR41  CR42  CR43  OR55  CLR62  CLR63  CLR64  CLR65  OR46  OR54  CLR68  CLR69  CLR70  CLR71  CLR72\n",
      "  46   4  CR1  CR2  CLR3  CLR4  CR5  CR6  CR8  CR9  CR10  CR11  CR12  CR13  CR14  OR9  CLR16  CLR17  ELR2  CR15  CR16  OR12  OR13  CR17  CR18  CR19  CR20  CLR27  CLR28  CR21  CR22  CR23  CR24  CLR33  CLR34  CR25  CLR36  CR27  CLR38  CLR39  CLR40  CLR41  CLR42  CR30  CR31  CR32  CLR46  CLR47  CLR48  CLR49  CR34  CR35  CR36  CR37  CR38  OR45  CR39  CR40  CR41  CR42  CR43  OR55  CLR62  CLR63  CLR64  CLR65  OR46  OR54  CLR68  CLR69  CLR70  CLR71  CLR72\n",
      "  46   5  CR1  CR2  CLR3  CLR4  CR5  CR6  CR8  CR9  CR10  CR11  CR12  CR13  CR14  OR9  CLR16  CLR17  ELR2  CR15  CR16  OR12  OR13  CR17  CR18  CR19  CR20  CLR27  CLR28  CR21  CR22  CR23  CR24  CLR33  CLR34  CR25  CLR36  CR27  CLR38  CLR39  CLR40  CLR41  CLR42  CR30  CR31  CR32  CLR46  CLR47  CLR48  CLR49  CR34  CR35  CR36  CR37  CR38  OR45  CR39  CR40  CR41  CR42  CR43  OR55  CLR62  CLR63  CLR64  CLR65  OR46  OR54  CLR68  CLR69  CLR70  CLR71  CLR72\n",
      "  47   1  CR1  CR2  CLR3  CLR4  CR5  CR6  CR8  CR9  CR10  CR11  CR12  CR13  CR14  OR9  CLR16  CLR17  ELR2  CR15  CR16  OR12  OR13  CR17  CR18  CR19  CR20  CLR27  CLR28  CR21  CR22  CR23  CR24  CLR33  CLR34  CR25  CLR36  CR27  CLR38  CLR39  CLR40  CLR41  CLR42  CR30  CR31  CR32  CLR46  CLR47  CLR48  CLR49  CR34  CR35  CR36  CR37  CR38  OR45  CR39  CR40  CR41  CR42  CR43  OR55  CLR62  CLR63  CLR64  CLR65  OR46  OR54  CLR68  CLR69  CLR70  CLR71  CLR72\n",
      "  47   2  CR1  CR2  CLR3  CLR4  CR5  CR6  CR8  CR9  CR10  CR11  CR12  CR13  CR14  OR9  CLR16  CLR17  ELR2  CR15  CR16  OR12  OR13  CR17  CR18  CR19  CR20  CLR27  CLR28  CR21  CR22  CR23  CR24  CLR33  CLR34  CR25  CLR36  CR27  CLR38  CLR39  CLR40  CLR41  CLR42  CR30  CR31  CR32  CLR46  CLR47  CLR48  CLR49  CR34  CR35  CR36  CR37  CR38  OR45  CR39  CR40  CR41  CR42  CR43  OR55  CLR62  CLR63  CLR64  CLR65  OR46  OR54  CLR68  CLR69  CLR70  CLR71  CLR72\n",
      "  47   3  CR1  CR2  CLR3  CLR4  CR5  CR6  CR8  CR9  CR10  CR11  CR12  CR13  CR14  OR9  CLR16  CLR17  ELR2  CR15  CR16  OR12  OR13  CR17  CR18  CR19  CR20  CLR27  CLR28  CR21  CR22  CR23  CR24  CLR33  CLR34  CR25  CLR36  CR27  CLR38  CLR39  CLR40  CLR41  CLR42  CR30  CR31  CR32  CLR46  CLR47  CLR48  CLR49  CR34  CR35  CR36  CR37  CR38  OR45  CR39  CR40  CR41  CR42  CR43  OR55  CLR62  CLR63  CLR64  CLR65  OR46  OR54  CLR68  CLR69  CLR70  CLR71  CLR72\n",
      "  47   4  CR1  CR2  CLR3  CLR4  CR5  CR6  CR8  CR9  CR10  CR11  CR12  CR13  CR14  OR9  CLR16  CLR17  ELR2  CR15  CR16  OR12  OR13  CR17  CR18  CR19  CR20  CLR27  CLR28  CR21  CR22  CR23  CR24  CLR33  CLR34  CR25  CLR36  CR27  CLR38  CLR39  CLR40  CLR41  CLR42  CR30  CR31  CR32  CLR46  CLR47  CLR48  CLR49  CR34  CR35  CR36  CR37  CR38  OR45  CR39  CR40  CR41  CR42  CR43  OR55  CLR62  CLR63  CLR64  CLR65  OR46  OR54  CLR68  CLR69  CLR70  CLR71  CLR72\n",
      "  47   5  CR1  CR2  CLR3  CLR4  CR5  CR6  CR8  CR9  CR10  CR11  CR12  CR13  CR14  OR9  CLR16  CLR17  ELR2  CR15  CR16  OR12  OR13  CR17  CR18  CR19  CR20  CLR27  CLR28  CR21  CR22  CR23  CR24  CLR33  CLR34  CR25  CLR36  CR27  CLR38  CLR39  CLR40  CLR41  CLR42  CR30  CR31  CR32  CLR46  CLR47  CLR48  CLR49  CR34  CR35  CR36  CR37  CR38  OR45  CR39  CR40  CR41  CR42  CR43  OR55  CLR62  CLR63  CLR64  CLR65  OR46  OR54  CLR68  CLR69  CLR70  CLR71  CLR72\n",
      "  48   1  CR1  CR2  CLR3  CLR4  CR5  CR6  CR8  CR9  CR10  CR11  CR12  CR13  CR14  OR9  CLR16  CLR17  ELR2  CR15  CR16  OR12  OR13  CR17  CR18  CR19  CR20  CLR27  CLR28  CR21  CR22  CR23  CR24  CLR33  CLR34  CR25  CLR36  CR27  CLR38  CLR39  CLR40  CLR41  CLR42  CR30  CR31  CR32  CLR46  CLR47  CLR48  CLR49  CR34  CR35  CR36  CR37  CR38  OR45  CR39  CR40  CR41  CR42  CR43  OR55  CLR62  CLR63  CLR64  CLR65  OR46  OR54  CLR68  CLR69  CLR70  CLR71  CLR72\n",
      "  48   2  CR1  CR2  CLR3  CLR4  CR5  CR6  CR8  CR9  CR10  CR11  CR12  CR13  CR14  OR9  CLR16  CLR17  ELR2  CR15  CR16  OR12  OR13  CR17  CR18  CR19  CR20  CLR27  CLR28  CR21  CR22  CR23  CR24  CLR33  CLR34  CR25  CLR36  CR27  CLR38  CLR39  CLR40  CLR41  CLR42  CR30  CR31  CR32  CLR46  CLR47  CLR48  CLR49  CR34  CR35  CR36  CR37  CR38  OR45  CR39  CR40  CR41  CR42  CR43  OR55  CLR62  CLR63  CLR64  CLR65  OR46  OR54  CLR68  CLR69  CLR70  CLR71  CLR72\n",
      "  48   3  CR1  CR2  CLR3  CLR4  CR5  CR6  CR8  CR9  CR10  CR11  CR12  CR13  CR14  OR9  CLR16  CLR17  ELR2  CR15  CR16  OR12  OR13  CR17  CR18  CR19  CR20  CLR27  CLR28  CR21  CR22  CR23  CR24  CLR33  CLR34  CR25  CLR36  CR27  CLR38  CLR39  CLR40  CLR41  CLR42  CR30  CR31  CR32  CLR46  CLR47  CLR48  CLR49  CR34  CR35  CR36  CR37  CR38  OR45  CR39  CR40  CR41  CR42  CR43  OR55  CLR62  CLR63  CLR64  CLR65  OR46  OR54  CLR68  CLR69  CLR70  CLR71  CLR72\n",
      "  48   4  CR1  CR2  CLR3  CLR4  CR5  CR6  CR8  CR9  CR10  CR11  CR12  CR13  CR14  OR9  CLR16  CLR17  ELR2  CR15  CR16  OR12  OR13  CR17  CR18  CR19  CR20  CLR27  CLR28  CR21  CR22  CR23  CR24  CLR33  CLR34  CR25  CLR36  CR27  CLR38  CLR39  CLR40  CLR41  CLR42  CR30  CR31  CR32  CLR46  CLR47  CLR48  CLR49  CR34  CR35  CR36  CR37  CR38  OR45  CR39  CR40  CR41  CR42  CR43  OR55  CLR62  CLR63  CLR64  CLR65  OR46  OR54  CLR68  CLR69  CLR70  CLR71  CLR72\n",
      "  48   5  CR1  CR2  CLR3  CLR4  CR5  CR6  CR8  CR9  CR10  CR11  CR12  CR13  CR14  OR9  CLR16  CLR17  ELR2  CR15  CR16  OR12  OR13  CR17  CR18  CR19  CR20  CLR27  CLR28  CR21  CR22  CR23  CR24  CLR33  CLR34  CR25  CLR36  CR27  CLR38  CLR39  CLR40  CLR41  CLR42  CR30  CR31  CR32  CLR46  CLR47  CLR48  CLR49  CR34  CR35  CR36  CR37  CR38  OR45  CR39  CR40  CR41  CR42  CR43  OR55  CLR62  CLR63  CLR64  CLR65  OR46  OR54  CLR68  CLR69  CLR70  CLR71  CLR72\n",
      "  49   1  CR1  CR2  CLR3  CLR4  CR5  CR6  CR8  CR9  CR10  CR11  CR12  CR13  CR14  OR9  CLR16  CLR17  ELR2  CR15  CR16  OR12  OR13  CR17  CR18  CR19  CR20  CLR27  CLR28  CR21  CR22  CR23  CR24  CLR33  CLR34  CR25  CLR36  CR27  CLR38  CLR39  CLR40  CLR41  CLR42  CR30  CR31  CR32  CLR46  CLR47  CLR48  CLR49  CR34  CR35  CR36  CR37  CR38  OR45  CR39  CR40  CR41  CR42  CR43  OR55  CLR62  CLR63  CLR64  CLR65  OR46  OR54  CLR68  CLR69  CLR70  CLR71  CLR72\n",
      "  49   2  CR1  CR2  CLR3  CLR4  CR5  CR6  CR8  CR9  CR10  CR11  CR12  CR13  CR14  OR9  CLR16  CLR17  ELR2  CR15  CR16  OR12  OR13  CR17  CR18  CR19  CR20  CLR27  CLR28  CR21  CR22  CR23  CR24  CLR33  CLR34  CR25  CLR36  CR27  CLR38  CLR39  CLR40  CLR41  CLR42  CR30  CR31  CR32  CLR46  CLR47  CLR48  CLR49  CR34  CR35  CR36  CR37  CR38  OR45  CR39  CR40  CR41  CR42  CR43  OR55  CLR62  CLR63  CLR64  CLR65  OR46  OR54  CLR68  CLR69  CLR70  CLR71  CLR72\n",
      "  49   3  CR1  CR2  CLR3  CLR4  CR5  CR6  CR8  CR9  CR10  CR11  CR12  CR13  CR14  OR9  CLR16  CLR17  ELR2  CR15  CR16  OR12  OR13  CR17  CR18  CR19  CR20  CLR27  CLR28  CR21  CR22  CR23  CR24  CLR33  CLR34  CR25  CLR36  CR27  CLR38  CLR39  CLR40  CLR41  CLR42  CR30  CR31  CR32  CLR46  CLR47  CLR48  CLR49  CR34  CR35  CR36  CR37  CR38  OR45  CR39  CR40  CR41  CR42  CR43  OR55  CLR62  CLR63  CLR64  CLR65  OR46  OR54  CLR68  CLR69  CLR70  CLR71  CLR72\n",
      "  49   4  CR1  CR2  CLR3  CLR4  CR5  CR6  CR8  CR9  CR10  CR11  CR12  CR13  CR14  OR9  CLR16  CLR17  ELR2  CR15  CR16  OR12  OR13  CR17  CR18  CR19  CR20  CLR27  CLR28  CR21  CR22  CR23  CR24  CLR33  CLR34  CR25  CLR36  CR27  CLR38  CLR39  CLR40  CLR41  CLR42  CR30  CR31  CR32  CLR46  CLR47  CLR48  CLR49  CR34  CR35  CR36  CR37  CR38  OR45  CR39  CR40  CR41  CR42  CR43  OR55  CLR62  CLR63  CLR64  CLR65  OR46  OR54  CLR68  CLR69  CLR70  CLR71  CLR72\n",
      "  49   5  CR1  CR2  CLR3  CLR4  CR5  CR6  CR8  CR9  CR10  CR11  CR12  CR13  CR14  OR9  CLR16  CLR17  ELR2  CR15  CR16  OR12  OR13  CR17  CR18  CR19  CR20  CLR27  CLR28  CR21  CR22  CR23  CR24  CLR33  CLR34  CR25  CLR36  CR27  CLR38  CLR39  CLR40  CLR41  CLR42  CR30  CR31  CR32  CLR46  CLR47  CLR48  CLR49  CR34  CR35  CR36  CR37  CR38  OR45  CR39  CR40  CR41  CR42  CR43  OR55  CLR62  CLR63  CLR64  CLR65  OR46  OR54  CLR68  CLR69  CLR70  CLR71  CLR72\n",
      "  50   1  CR1  CR2  CLR3  CLR4  CR5  CR6  CR8  CR9  CR10  CR11  CR12  CR13  CR14  OR9  CLR16  CLR17  ELR2  CR15  CR16  OR12  OR13  CR17  CR18  CR19  CR20  CLR27  CLR28  CR21  CR22  CR23  CR24  CLR33  CLR34  CR25  CLR36  CR27  CLR38  CLR39  CLR40  CLR41  CLR42  CR30  CR31  CR32  CLR46  CLR47  CLR48  CLR49  CR34  CR35  CR36  CR37  CR38  OR45  CR39  CR40  CR41  CR42  CR43  OR55  CLR62  CLR63  CLR64  CLR65  OR46  OR54  CLR68  CLR69  CLR70  CLR71  CLR72\n",
      "  50   2  CR1  CR2  CLR3  CLR4  CR5  CR6  CR8  CR9  CR10  CR11  CR12  CR13  CR14  OR9  CLR16  CLR17  ELR2  CR15  CR16  OR12  OR13  CR17  CR18  CR19  CR20  CLR27  CLR28  CR21  CR22  CR23  CR24  CLR33  CLR34  CR25  CLR36  CR27  CLR38  CLR39  CLR40  CLR41  CLR42  CR30  CR31  CR32  CLR46  CLR47  CLR48  CLR49  CR34  CR35  CR36  CR37  CR38  OR45  CR39  CR40  CR41  CR42  CR43  OR55  CLR62  CLR63  CLR64  CLR65  OR46  OR54  CLR68  CLR69  CLR70  CLR71  CLR72\n",
      "  50   3  CR1  CR2  CLR3  CLR4  CR5  CR6  CR8  CR9  CR10  CR11  CR12  CR13  CR14  OR9  CLR16  CLR17  ELR2  CR15  CR16  OR12  OR13  CR17  CR18  CR19  CR20  CLR27  CLR28  CR21  CR22  CR23  CR24  CLR33  CLR34  CR25  CLR36  CR27  CLR38  CLR39  CLR40  CLR41  CLR42  CR30  CR31  CR32  CLR46  CLR47  CLR48  CLR49  CR34  CR35  CR36  CR37  CR38  OR45  CR39  CR40  CR41  CR42  CR43  OR55  CLR62  CLR63  CLR64  CLR65  OR46  OR54  CLR68  CLR69  CLR70  CLR71  CLR72\n",
      "  50   4  CR1  CR2  CLR3  CLR4  CR5  CR6  CR8  CR9  CR10  CR11  CR12  CR13  CR14  OR9  CLR16  CLR17  ELR2  CR15  CR16  OR12  OR13  CR17  CR18  CR19  CR20  CLR27  CLR28  CR21  CR22  CR23  CR24  CLR33  CLR34  CR25  CLR36  CR27  CLR38  CLR39  CLR40  CLR41  CLR42  CR30  CR31  CR32  CLR46  CLR47  CLR48  CLR49  CR34  CR35  CR36  CR37  CR38  OR45  CR39  CR40  CR41  CR42  CR43  OR55  CLR62  CLR63  CLR64  CLR65  OR46  OR54  CLR68  CLR69  CLR70  CLR71  CLR72\n",
      "  50   5  CR1  CR2  CLR3  CLR4  CR5  CR6  CR8  CR9  CR10  CR11  CR12  CR13  CR14  OR9  CLR16  CLR17  ELR2  CR15  CR16  OR12  OR13  CR17  CR18  CR19  CR20  CLR27  CLR28  CR21  CR22  CR23  CR24  CLR33  CLR34  CR25  CLR36  CR27  CLR38  CLR39  CLR40  CLR41  CLR42  CR30  CR31  CR32  CLR46  CLR47  CLR48  CLR49  CR34  CR35  CR36  CR37  CR38  OR45  CR39  CR40  CR41  CR42  CR43  OR55  CLR62  CLR63  CLR64  CLR65  OR46  OR54  CLR68  CLR69  CLR70  CLR71  CLR72\n"
     ]
    }
   ],
   "source": [
    "# Realizo la imputación MICE\n",
    "# toma alrededor de 12 minutos\n",
    "set.seed(12345)\n",
    "imp <- mice(gytsNB[, vars_imput], m = 5, maxit = 50,\n",
    "            method = methods[vars_imput], seed = 12345)"
   ]
  },
  {
   "cell_type": "code",
   "execution_count": 31,
   "metadata": {
    "vscode": {
     "languageId": "r"
    }
   },
   "outputs": [
    {
     "name": "stdout",
     "output_type": "stream",
     "text": [
      "Número de valores faltantes después de la imputación:\n",
      "     CR1      CR2     CLR3     CLR4      CR5      CR6      CR8      CR9 \n",
      "       0        0        0        0        0        0        0        0 \n",
      "    CR10     CR11     CR12     CR13     CR14      OR9    CLR16    CLR17 \n",
      "       0        0        0        0        0        0        0        0 \n",
      "    ELR2     CR15     CR16     OR12     OR13     CR17     CR18     CR19 \n",
      "       0        0        0        0        0        0        0        0 \n",
      "    CR20    CLR27    CLR28     CR21     CR22     CR23     CR24    CLR33 \n",
      "       0        0        0        0        0        0        0        0 \n",
      "   CLR34     CR25    CLR36     CR27    CLR38    CLR39    CLR40    CLR41 \n",
      "       0        0        0        0        0        0        0        0 \n",
      "   CLR42     CR30     CR31     CR32    CLR46    CLR47    CLR48    CLR49 \n",
      "       0        0        0        0        0        0        0        0 \n",
      "    CR34     CR35     CR36     CR37     CR38     OR45     CR39     CR40 \n",
      "       0        0        0        0        0        0        0        0 \n",
      "    CR41     CR42     CR43     OR55    CLR62    CLR63    CLR64    CLR65 \n",
      "       0        0        0        0        0        0        0        0 \n",
      "    OR46     OR54    CLR68    CLR69    CLR70    CLR71    CLR72 FinalWgt \n",
      "       0        0        0        0        0        0        0        0 \n",
      " Stratum      PSU  CR7_bin \n",
      "       0        0        0 \n"
     ]
    }
   ],
   "source": [
    "# Extraigo el conjunto de datos imputado completo\n",
    "gytsNB_imput <- complete(imp, 1)\n",
    "\n",
    "# Añado las columnas que no se imputaron\n",
    "gytsNB_imput$FinalWgt <- gytsNB$FinalWgt\n",
    "gytsNB_imput$Stratum <- gytsNB$Stratum\n",
    "gytsNB_imput$PSU <- gytsNB$PSU\n",
    "gytsNB_imput$CR7_bin <- gytsNB$CR7_bin\n",
    "\n",
    "# Verifico que no haya valores NA en el conjunto imputado\n",
    "cat(\"Número de valores faltantes después de la imputación:\\n\")\n",
    "print(colSums(is.na(gytsNB_imput)))"
   ]
  },
  {
   "cell_type": "code",
   "execution_count": 32,
   "metadata": {
    "vscode": {
     "languageId": "r"
    }
   },
   "outputs": [],
   "source": [
    "# Función para crear dummies n-1 para cada columna categórica\n",
    "crear_dummies <- function(df, cols) {\n",
    "  for (col in cols) {\n",
    "    # Identifico los niveles de la variable\n",
    "    niveles <- sort(unique(df[[col]]))\n",
    "\n",
    "    # Itero sobre los niveles menos uno\n",
    "    for (nivel in niveles[-length(niveles)]) {\n",
    "      nombre_columna <- paste0(col, \"_\", nivel)\n",
    "      df[[nombre_columna]] <- as.integer(df[[col]] == nivel)\n",
    "    }\n",
    "\n",
    "    # Elimino la columna original categórica\n",
    "    df[[col]] <- NULL\n",
    "  }\n",
    "\n",
    "  return(df)\n",
    "}"
   ]
  },
  {
   "cell_type": "code",
   "execution_count": 33,
   "metadata": {
    "vscode": {
     "languageId": "r"
    }
   },
   "outputs": [],
   "source": [
    "# Lista de columnas categóricas que convertiré en variables dummy\n",
    "cols_categoricas <- c(\"Stratum\", \"CR1\", \"CR2\", \"CLR3\", \"CLR4\", \"CR5\", \"CR6\",\n",
    "                      \"CR8\", \"CR9\", \"CR10\", \"CR11\", \"CR12\", \"CR13\", \"CR14\",\n",
    "                      \"OR9\", \"CLR16\", \"CLR17\", \"ELR2\", \"CR15\", \"CR16\",\n",
    "                      \"OR12\", \"OR13\", \"CR17\", \"CR18\", \"CR19\", \"CR20\",\n",
    "                      \"CLR27\", \"CLR28\", \"CR21\", \"CR22\", \"CR23\", \"CR24\",\n",
    "                      \"CLR33\", \"CLR34\", \"CR25\", \"CLR36\", \"CR27\", \"CLR38\",\n",
    "                      \"CLR39\", \"CLR40\", \"CLR41\", \"CLR42\", \"CR30\", \"CR31\",\n",
    "                      \"CR32\", \"CLR46\", \"CLR47\", \"CLR48\", \"CLR49\", \"CR34\",\n",
    "                      \"CR35\", \"CR36\", \"CR37\", \"CR38\", \"OR45\", \"CR39\",\n",
    "                      \"CR40\", \"CR41\", \"CR42\", \"CR43\", \"OR55\", \"CLR62\",\n",
    "                      \"CLR63\", \"CLR64\", \"CLR65\", \"OR46\", \"OR54\", \"CLR68\",\n",
    "                      \"CLR69\", \"CLR70\", \"CLR71\", \"CLR72\")"
   ]
  },
  {
   "cell_type": "code",
   "execution_count": 34,
   "metadata": {
    "vscode": {
     "languageId": "r"
    }
   },
   "outputs": [],
   "source": [
    "# Aplico la función a la base de datos\n",
    "gytsNB_imput <- crear_dummies(gytsNB_imput, cols_categoricas)"
   ]
  },
  {
   "cell_type": "code",
   "execution_count": 35,
   "metadata": {
    "vscode": {
     "languageId": "r"
    }
   },
   "outputs": [
    {
     "name": "stdout",
     "output_type": "stream",
     "text": [
      "         FinalWgt               PSU           CR7_bin Stratum_201604001 \n",
      "                0                 0                 0                 0 \n",
      "Stratum_201604002 Stratum_201604003 Stratum_201604004 Stratum_201604005 \n",
      "                0                 0                 0                 0 \n",
      "Stratum_201604006 Stratum_201604007 Stratum_201604008 Stratum_201604009 \n",
      "                0                 0                 0                 0 \n",
      "Stratum_201604010 Stratum_201604011             CR1_1             CR1_2 \n",
      "                0                 0                 0                 0 \n",
      "            CR1_3             CR1_4             CR1_5             CR1_6 \n",
      "                0                 0                 0                 0 \n",
      "            CR2_1            CLR3_1            CLR3_2            CLR3_3 \n",
      "                0                 0                 0                 0 \n",
      "           CLR3_4            CLR3_5            CLR4_1            CLR4_2 \n",
      "                0                 0                 0                 0 \n",
      "           CLR4_3            CLR4_4            CLR4_5            CLR4_6 \n",
      "                0                 0                 0                 0 \n",
      "            CR5_1             CR6_1             CR6_2             CR6_3 \n",
      "                0                 0                 0                 0 \n",
      "            CR6_4             CR6_5             CR6_6             CR8_1 \n",
      "                0                 0                 0                 0 \n",
      "            CR8_2             CR8_3             CR8_4             CR8_5 \n",
      "                0                 0                 0                 0 \n",
      "            CR8_6             CR9_1            CR10_1            CR11_1 \n",
      "                0                 0                 0                 0 \n",
      "           CR11_2            CR11_3            CR12_1            CR12_2 \n",
      "                0                 0                 0                 0 \n",
      "           CR12_3            CR12_4            CR12_5            CR12_6 \n",
      "                0                 0                 0                 0 \n",
      "           CR12_7            CR13_1            CR14_1             OR9_1 \n",
      "                0                 0                 0                 0 \n",
      "            OR9_2             OR9_3             OR9_4             OR9_5 \n",
      "                0                 0                 0                 0 \n",
      "            OR9_6             OR9_7           CLR16_1           CLR16_2 \n",
      "                0                 0                 0                 0 \n",
      "          CLR16_3           CLR16_4           CLR17_1           CLR17_2 \n",
      "                0                 0                 0                 0 \n",
      "          CLR17_3            ELR2_1            ELR2_2            ELR2_3 \n",
      "                0                 0                 0                 0 \n",
      "           ELR2_4            ELR2_5            ELR2_6            CR15_1 \n",
      "                0                 0                 0                 0 \n",
      "           CR15_2            CR15_3            CR16_1            CR16_2 \n",
      "                0                 0                 0                 0 \n",
      "           CR16_3            OR12_1            OR12_2            OR12_3 \n",
      "                0                 0                 0                 0 \n",
      "           OR12_4            OR12_5            OR12_6            OR13_1 \n",
      "                0                 0                 0                 0 \n",
      "           OR13_2            OR13_3            OR13_4            OR13_5 \n",
      "                0                 0                 0                 0 \n",
      "           OR13_6            CR17_1            CR17_2            CR17_3 \n",
      "                0                 0                 0                 0 \n",
      "           CR18_1            CR18_2            CR18_3            CR18_4 \n",
      "                0                 0                 0                 0 \n",
      "           CR18_5            CR19_1            CR19_2            CR19_3 \n",
      "                0                 0                 0                 0 \n",
      "           CR19_4            CR20_1            CR20_2            CR20_3 \n",
      "                0                 0                 0                 0 \n",
      "           CR20_4           CLR27_1           CLR27_2           CLR27_3 \n",
      "                0                 0                 0                 0 \n",
      "          CLR27_4           CLR28_1            CR21_1            CR21_2 \n",
      "                0                 0                 0                 0 \n",
      "           CR21_3            CR21_4            CR22_1            CR23_1 \n",
      "                0                 0                 0                 0 \n",
      "           CR23_2            CR23_3            CR24_1           CLR33_1 \n",
      "                0                 0                 0                 0 \n",
      "          CLR33_2           CLR34_1            CR25_1           CLR36_1 \n",
      "                0                 0                 0                 0 \n",
      "          CLR36_2           CLR36_3           CLR36_4           CLR36_5 \n",
      "                0                 0                 0                 0 \n",
      "           CR27_1            CR27_2           CLR38_1           CLR38_2 \n",
      "                0                 0                 0                 0 \n",
      "          CLR38_3           CLR38_4           CLR39_1           CLR39_2 \n",
      "                0                 0                 0                 0 \n",
      "          CLR39_3           CLR39_4           CLR39_5           CLR40_1 \n",
      "                0                 0                 0                 0 \n",
      "          CLR40_2           CLR41_1           CLR41_2           CLR42_1 \n",
      "                0                 0                 0                 0 \n",
      "          CLR42_2           CLR42_3           CLR42_4           CLR42_5 \n",
      "                0                 0                 0                 0 \n",
      "          CLR42_6           CLR42_7            CR30_1            CR31_1 \n",
      "                0                 0                 0                 0 \n",
      "           CR31_2            CR32_1            CR32_2           CLR46_1 \n",
      "                0                 0                 0                 0 \n",
      "          CLR46_2           CLR47_1           CLR47_2           CLR48_1 \n",
      "                0                 0                 0                 0 \n",
      "          CLR48_2           CLR49_1           CLR49_2           CLR49_3 \n",
      "                0                 0                 0                 0 \n",
      "          CLR49_4           CLR49_5            CR34_1            CR34_2 \n",
      "                0                 0                 0                 0 \n",
      "           CR35_1            CR35_2            CR36_1            CR36_2 \n",
      "                0                 0                 0                 0 \n",
      "           CR37_1            CR38_1            OR45_1            OR45_2 \n",
      "                0                 0                 0                 0 \n",
      "           OR45_3            OR45_4            CR39_1            CR39_2 \n",
      "                0                 0                 0                 0 \n",
      "           CR39_3            CR40_1            CR40_2            CR40_3 \n",
      "                0                 0                 0                 0 \n",
      "           CR41_1            CR41_2            CR41_3            CR42_1 \n",
      "                0                 0                 0                 0 \n",
      "           CR42_2            CR43_1            CR43_2            CR43_3 \n",
      "                0                 0                 0                 0 \n",
      "           CR43_4            OR55_1           CLR62_1           CLR62_2 \n",
      "                0                 0                 0                 0 \n",
      "          CLR62_3           CLR63_1           CLR63_2           CLR63_3 \n",
      "                0                 0                 0                 0 \n",
      "          CLR63_4           CLR64_1           CLR64_2           CLR64_3 \n",
      "                0                 0                 0                 0 \n",
      "          CLR65_1           CLR65_2            OR46_1            OR46_2 \n",
      "                0                 0                 0                 0 \n",
      "           OR46_3            OR54_1            OR54_2            OR54_3 \n",
      "                0                 0                 0                 0 \n",
      "          CLR68_1           CLR68_2           CLR68_3           CLR68_4 \n",
      "                0                 0                 0                 0 \n",
      "          CLR68_5           CLR68_6           CLR69_1           CLR69_2 \n",
      "                0                 0                 0                 0 \n",
      "          CLR69_3           CLR69_4           CLR69_5           CLR69_6 \n",
      "                0                 0                 0                 0 \n",
      "          CLR70_1           CLR70_2           CLR71_1           CLR71_2 \n",
      "                0                 0                 0                 0 \n",
      "          CLR72_1           CLR72_2 \n",
      "                0                 0 \n"
     ]
    }
   ],
   "source": [
    "# Verifico que no haya valores NA después de crear dummies\n",
    "print(colSums(is.na(gytsNB_imput)))"
   ]
  },
  {
   "cell_type": "code",
   "execution_count": 36,
   "metadata": {
    "vscode": {
     "languageId": "r"
    }
   },
   "outputs": [
    {
     "name": "stdout",
     "output_type": "stream",
     "text": [
      "[1] 2668  238\n"
     ]
    }
   ],
   "source": [
    "# Muestro las dimensiones del nuevo dataframe\n",
    "print(dim(gytsNB_imput))"
   ]
  },
  {
   "cell_type": "code",
   "execution_count": 37,
   "metadata": {
    "vscode": {
     "languageId": "r"
    }
   },
   "outputs": [
    {
     "name": "stdout",
     "output_type": "stream",
     "text": [
      "  [1] \"FinalWgt\"          \"PSU\"               \"CR7_bin\"          \n",
      "  [4] \"Stratum_201604001\" \"Stratum_201604002\" \"Stratum_201604003\"\n",
      "  [7] \"Stratum_201604004\" \"Stratum_201604005\" \"Stratum_201604006\"\n",
      " [10] \"Stratum_201604007\" \"Stratum_201604008\" \"Stratum_201604009\"\n",
      " [13] \"Stratum_201604010\" \"Stratum_201604011\" \"CR1_1\"            \n",
      " [16] \"CR1_2\"             \"CR1_3\"             \"CR1_4\"            \n",
      " [19] \"CR1_5\"             \"CR1_6\"             \"CR2_1\"            \n",
      " [22] \"CLR3_1\"            \"CLR3_2\"            \"CLR3_3\"           \n",
      " [25] \"CLR3_4\"            \"CLR3_5\"            \"CLR4_1\"           \n",
      " [28] \"CLR4_2\"            \"CLR4_3\"            \"CLR4_4\"           \n",
      " [31] \"CLR4_5\"            \"CLR4_6\"            \"CR5_1\"            \n",
      " [34] \"CR6_1\"             \"CR6_2\"             \"CR6_3\"            \n",
      " [37] \"CR6_4\"             \"CR6_5\"             \"CR6_6\"            \n",
      " [40] \"CR8_1\"             \"CR8_2\"             \"CR8_3\"            \n",
      " [43] \"CR8_4\"             \"CR8_5\"             \"CR8_6\"            \n",
      " [46] \"CR9_1\"             \"CR10_1\"            \"CR11_1\"           \n",
      " [49] \"CR11_2\"            \"CR11_3\"            \"CR12_1\"           \n",
      " [52] \"CR12_2\"            \"CR12_3\"            \"CR12_4\"           \n",
      " [55] \"CR12_5\"            \"CR12_6\"            \"CR12_7\"           \n",
      " [58] \"CR13_1\"            \"CR14_1\"            \"OR9_1\"            \n",
      " [61] \"OR9_2\"             \"OR9_3\"             \"OR9_4\"            \n",
      " [64] \"OR9_5\"             \"OR9_6\"             \"OR9_7\"            \n",
      " [67] \"CLR16_1\"           \"CLR16_2\"           \"CLR16_3\"          \n",
      " [70] \"CLR16_4\"           \"CLR17_1\"           \"CLR17_2\"          \n",
      " [73] \"CLR17_3\"           \"ELR2_1\"            \"ELR2_2\"           \n",
      " [76] \"ELR2_3\"            \"ELR2_4\"            \"ELR2_5\"           \n",
      " [79] \"ELR2_6\"            \"CR15_1\"            \"CR15_2\"           \n",
      " [82] \"CR15_3\"            \"CR16_1\"            \"CR16_2\"           \n",
      " [85] \"CR16_3\"            \"OR12_1\"            \"OR12_2\"           \n",
      " [88] \"OR12_3\"            \"OR12_4\"            \"OR12_5\"           \n",
      " [91] \"OR12_6\"            \"OR13_1\"            \"OR13_2\"           \n",
      " [94] \"OR13_3\"            \"OR13_4\"            \"OR13_5\"           \n",
      " [97] \"OR13_6\"            \"CR17_1\"            \"CR17_2\"           \n",
      "[100] \"CR17_3\"            \"CR18_1\"            \"CR18_2\"           \n",
      "[103] \"CR18_3\"            \"CR18_4\"            \"CR18_5\"           \n",
      "[106] \"CR19_1\"            \"CR19_2\"            \"CR19_3\"           \n",
      "[109] \"CR19_4\"            \"CR20_1\"            \"CR20_2\"           \n",
      "[112] \"CR20_3\"            \"CR20_4\"            \"CLR27_1\"          \n",
      "[115] \"CLR27_2\"           \"CLR27_3\"           \"CLR27_4\"          \n",
      "[118] \"CLR28_1\"           \"CR21_1\"            \"CR21_2\"           \n",
      "[121] \"CR21_3\"            \"CR21_4\"            \"CR22_1\"           \n",
      "[124] \"CR23_1\"            \"CR23_2\"            \"CR23_3\"           \n",
      "[127] \"CR24_1\"            \"CLR33_1\"           \"CLR33_2\"          \n",
      "[130] \"CLR34_1\"           \"CR25_1\"            \"CLR36_1\"          \n",
      "[133] \"CLR36_2\"           \"CLR36_3\"           \"CLR36_4\"          \n",
      "[136] \"CLR36_5\"           \"CR27_1\"            \"CR27_2\"           \n",
      "[139] \"CLR38_1\"           \"CLR38_2\"           \"CLR38_3\"          \n",
      "[142] \"CLR38_4\"           \"CLR39_1\"           \"CLR39_2\"          \n",
      "[145] \"CLR39_3\"           \"CLR39_4\"           \"CLR39_5\"          \n",
      "[148] \"CLR40_1\"           \"CLR40_2\"           \"CLR41_1\"          \n",
      "[151] \"CLR41_2\"           \"CLR42_1\"           \"CLR42_2\"          \n",
      "[154] \"CLR42_3\"           \"CLR42_4\"           \"CLR42_5\"          \n",
      "[157] \"CLR42_6\"           \"CLR42_7\"           \"CR30_1\"           \n",
      "[160] \"CR31_1\"            \"CR31_2\"            \"CR32_1\"           \n",
      "[163] \"CR32_2\"            \"CLR46_1\"           \"CLR46_2\"          \n",
      "[166] \"CLR47_1\"           \"CLR47_2\"           \"CLR48_1\"          \n",
      "[169] \"CLR48_2\"           \"CLR49_1\"           \"CLR49_2\"          \n",
      "[172] \"CLR49_3\"           \"CLR49_4\"           \"CLR49_5\"          \n",
      "[175] \"CR34_1\"            \"CR34_2\"            \"CR35_1\"           \n",
      "[178] \"CR35_2\"            \"CR36_1\"            \"CR36_2\"           \n",
      "[181] \"CR37_1\"            \"CR38_1\"            \"OR45_1\"           \n",
      "[184] \"OR45_2\"            \"OR45_3\"            \"OR45_4\"           \n",
      "[187] \"CR39_1\"            \"CR39_2\"            \"CR39_3\"           \n",
      "[190] \"CR40_1\"            \"CR40_2\"            \"CR40_3\"           \n",
      "[193] \"CR41_1\"            \"CR41_2\"            \"CR41_3\"           \n",
      "[196] \"CR42_1\"            \"CR42_2\"            \"CR43_1\"           \n",
      "[199] \"CR43_2\"            \"CR43_3\"            \"CR43_4\"           \n",
      "[202] \"OR55_1\"            \"CLR62_1\"           \"CLR62_2\"          \n",
      "[205] \"CLR62_3\"           \"CLR63_1\"           \"CLR63_2\"          \n",
      "[208] \"CLR63_3\"           \"CLR63_4\"           \"CLR64_1\"          \n",
      "[211] \"CLR64_2\"           \"CLR64_3\"           \"CLR65_1\"          \n",
      "[214] \"CLR65_2\"           \"OR46_1\"            \"OR46_2\"           \n",
      "[217] \"OR46_3\"            \"OR54_1\"            \"OR54_2\"           \n",
      "[220] \"OR54_3\"            \"CLR68_1\"           \"CLR68_2\"          \n",
      "[223] \"CLR68_3\"           \"CLR68_4\"           \"CLR68_5\"          \n",
      "[226] \"CLR68_6\"           \"CLR69_1\"           \"CLR69_2\"          \n",
      "[229] \"CLR69_3\"           \"CLR69_4\"           \"CLR69_5\"          \n",
      "[232] \"CLR69_6\"           \"CLR70_1\"           \"CLR70_2\"          \n",
      "[235] \"CLR71_1\"           \"CLR71_2\"           \"CLR72_1\"          \n",
      "[238] \"CLR72_2\"          \n"
     ]
    }
   ],
   "source": [
    "# Muestro los nombres de las columnas\n",
    "print(names(gytsNB_imput))"
   ]
  },
  {
   "cell_type": "markdown",
   "metadata": {},
   "source": [
    "¿Por qué consideré agregar a Stratum dentro del modelo de Machine learning pero no a PSU ni FinalWgt?\n",
    "\n",
    "- **PSU (Primary Sampling Unit)**: PSU es una variable utilizada para controlar la estructura de la muestra y ajustar los errores estándar en análisis estadísticos. Por ende en contexto de machine learning no será útil porque no aporta directamente a la predicción, sino que es más relevante en el contexto del diseño de la encuesta.\n",
    "\n",
    "- **FinalWgt (Final Weight)**: Es un peso de encuesta diseñado para ajustar las estimaciones para que sean representativas de la población general. No se utiliza como predictor en modelos de machine learning, sino más bien para ajustar las estimaciones agregadas a nivel de población. Si incluyera esta variable en el modelo podría sesgar los resultados en mi modelo, ya que los modelos de machine learning ya buscan patrones en los datos sin requerir este tipo de ponderación.\n",
    "\n",
    "- **Stratum**: La variable Stratum puede ser relevante si los estratos capturan variaciones significativas en la población que pueden influir en el comportamiento que estás modelando (por ejemplo, si diferentes estratos demográficos o geográficos tienen comportamientos muy distintos en relación a la variable objetivo, lo que podría ser razonable considerando la desigualdad socioeconomica que existe en santiago)."
   ]
  },
  {
   "cell_type": "code",
   "execution_count": 38,
   "metadata": {
    "vscode": {
     "languageId": "r"
    }
   },
   "outputs": [],
   "source": [
    "# Por ende procedo a eliminar las columnas que no aportan información\n",
    "# PSU y FinalWgt\n",
    "gytsNB_imput$PSU <- NULL\n",
    "gytsNB_imput$FinalWgt <- NULL"
   ]
  },
  {
   "cell_type": "code",
   "execution_count": 39,
   "metadata": {
    "vscode": {
     "languageId": "r"
    }
   },
   "outputs": [
    {
     "name": "stdout",
     "output_type": "stream",
     "text": [
      "'data.frame':\t2668 obs. of  236 variables:\n",
      " $ CR7_bin          : Factor w/ 2 levels \"0\",\"1\": 1 1 1 1 1 1 1 1 1 1 ...\n",
      " $ Stratum_201604001: Factor w/ 2 levels \"0\",\"1\": 2 2 2 2 2 2 2 2 2 2 ...\n",
      " $ Stratum_201604002: Factor w/ 2 levels \"0\",\"1\": 1 1 1 1 1 1 1 1 1 1 ...\n",
      " $ Stratum_201604003: Factor w/ 2 levels \"0\",\"1\": 1 1 1 1 1 1 1 1 1 1 ...\n",
      " $ Stratum_201604004: Factor w/ 2 levels \"0\",\"1\": 1 1 1 1 1 1 1 1 1 1 ...\n",
      " $ Stratum_201604005: Factor w/ 2 levels \"0\",\"1\": 1 1 1 1 1 1 1 1 1 1 ...\n",
      " $ Stratum_201604006: Factor w/ 2 levels \"0\",\"1\": 1 1 1 1 1 1 1 1 1 1 ...\n",
      " $ Stratum_201604007: Factor w/ 2 levels \"0\",\"1\": 1 1 1 1 1 1 1 1 1 1 ...\n",
      " $ Stratum_201604008: Factor w/ 2 levels \"0\",\"1\": 1 1 1 1 1 1 1 1 1 1 ...\n",
      " $ Stratum_201604009: Factor w/ 2 levels \"0\",\"1\": 1 1 1 1 1 1 1 1 1 1 ...\n",
      " $ Stratum_201604010: Factor w/ 2 levels \"0\",\"1\": 1 1 1 1 1 1 1 1 1 1 ...\n",
      " $ Stratum_201604011: Factor w/ 2 levels \"0\",\"1\": 1 1 1 1 1 1 1 1 1 1 ...\n",
      " $ CR1_1            : Factor w/ 2 levels \"0\",\"1\": 1 1 1 1 1 1 1 1 1 1 ...\n",
      " $ CR1_2            : Factor w/ 2 levels \"0\",\"1\": 1 1 1 1 1 1 1 1 1 1 ...\n",
      " $ CR1_3            : Factor w/ 2 levels \"0\",\"1\": 1 1 1 1 1 1 1 1 1 1 ...\n",
      " $ CR1_4            : Factor w/ 2 levels \"0\",\"1\": 1 1 1 1 1 1 1 1 1 1 ...\n",
      " $ CR1_5            : Factor w/ 2 levels \"0\",\"1\": 2 2 2 2 2 2 2 1 1 1 ...\n",
      " $ CR1_6            : Factor w/ 2 levels \"0\",\"1\": 1 1 1 1 1 1 1 2 2 2 ...\n",
      " $ CR2_1            : Factor w/ 2 levels \"0\",\"1\": 2 2 2 2 2 2 2 2 2 2 ...\n",
      " $ CLR3_1           : Factor w/ 2 levels \"0\",\"1\": 1 1 1 1 1 1 1 1 1 1 ...\n",
      " $ CLR3_2           : Factor w/ 2 levels \"0\",\"1\": 1 1 1 1 1 1 1 1 1 1 ...\n",
      " $ CLR3_3           : Factor w/ 2 levels \"0\",\"1\": 1 1 1 1 1 1 1 1 1 1 ...\n",
      " $ CLR3_4           : Factor w/ 2 levels \"0\",\"1\": 2 2 2 2 2 2 2 2 2 2 ...\n",
      " $ CLR3_5           : Factor w/ 2 levels \"0\",\"1\": 1 1 1 1 1 1 1 1 1 1 ...\n",
      " $ CLR4_1           : Factor w/ 2 levels \"0\",\"1\": 2 2 2 1 1 1 1 1 1 1 ...\n",
      " $ CLR4_2           : Factor w/ 2 levels \"0\",\"1\": 1 1 1 2 1 1 1 1 1 1 ...\n",
      " $ CLR4_3           : Factor w/ 2 levels \"0\",\"1\": 1 1 1 1 1 1 1 2 2 2 ...\n",
      " $ CLR4_4           : Factor w/ 2 levels \"0\",\"1\": 1 1 1 1 2 2 2 1 1 1 ...\n",
      " $ CLR4_5           : Factor w/ 2 levels \"0\",\"1\": 1 1 1 1 1 1 1 1 1 1 ...\n",
      " $ CLR4_6           : Factor w/ 2 levels \"0\",\"1\": 1 1 1 1 1 1 1 1 1 1 ...\n",
      " $ CR5_1            : Factor w/ 2 levels \"0\",\"1\": 2 1 1 1 2 2 2 2 2 1 ...\n",
      " $ CR6_1            : Factor w/ 2 levels \"0\",\"1\": 1 2 2 2 1 1 1 1 1 2 ...\n",
      " $ CR6_2            : Factor w/ 2 levels \"0\",\"1\": 1 1 1 1 1 1 1 1 1 1 ...\n",
      " $ CR6_3            : Factor w/ 2 levels \"0\",\"1\": 1 1 1 1 1 1 1 2 1 1 ...\n",
      " $ CR6_4            : Factor w/ 2 levels \"0\",\"1\": 1 1 1 1 2 2 1 1 1 1 ...\n",
      " $ CR6_5            : Factor w/ 2 levels \"0\",\"1\": 1 1 1 1 1 1 1 1 2 1 ...\n",
      " $ CR6_6            : Factor w/ 2 levels \"0\",\"1\": 2 1 1 1 1 1 2 1 1 1 ...\n",
      " $ CR8_1            : Factor w/ 2 levels \"0\",\"1\": 2 2 2 2 2 2 2 2 2 2 ...\n",
      " $ CR8_2            : Factor w/ 2 levels \"0\",\"1\": 1 1 1 1 1 1 1 1 1 1 ...\n",
      " $ CR8_3            : Factor w/ 2 levels \"0\",\"1\": 1 1 1 1 1 1 1 1 1 1 ...\n",
      " $ CR8_4            : Factor w/ 2 levels \"0\",\"1\": 1 1 1 1 1 1 1 1 1 1 ...\n",
      " $ CR8_5            : Factor w/ 2 levels \"0\",\"1\": 1 1 1 1 1 1 1 1 1 1 ...\n",
      " $ CR8_6            : Factor w/ 2 levels \"0\",\"1\": 1 1 1 1 1 1 1 1 1 1 ...\n",
      " $ CR9_1            : Factor w/ 2 levels \"0\",\"1\": 1 1 1 1 2 1 1 1 2 1 ...\n",
      " $ CR10_1           : Factor w/ 2 levels \"0\",\"1\": 1 1 1 1 2 1 1 1 1 1 ...\n",
      " $ CR11_1           : Factor w/ 2 levels \"0\",\"1\": 1 2 2 2 2 1 1 1 1 2 ...\n",
      " $ CR11_2           : Factor w/ 2 levels \"0\",\"1\": 2 1 1 1 1 2 2 2 2 1 ...\n",
      " $ CR11_3           : Factor w/ 2 levels \"0\",\"1\": 1 1 1 1 1 1 1 1 1 1 ...\n",
      " $ CR12_1           : Factor w/ 2 levels \"0\",\"1\": 1 2 2 2 2 1 2 1 2 2 ...\n",
      " $ CR12_2           : Factor w/ 2 levels \"0\",\"1\": 2 1 1 1 1 2 1 2 1 1 ...\n",
      " $ CR12_3           : Factor w/ 2 levels \"0\",\"1\": 1 1 1 1 1 1 1 1 1 1 ...\n",
      " $ CR12_4           : Factor w/ 2 levels \"0\",\"1\": 1 1 1 1 1 1 1 1 1 1 ...\n",
      " $ CR12_5           : Factor w/ 2 levels \"0\",\"1\": 1 1 1 1 1 1 1 1 1 1 ...\n",
      " $ CR12_6           : Factor w/ 2 levels \"0\",\"1\": 1 1 1 1 1 1 1 1 1 1 ...\n",
      " $ CR12_7           : Factor w/ 2 levels \"0\",\"1\": 1 1 1 1 1 1 1 1 1 1 ...\n",
      " $ CR13_1           : Factor w/ 2 levels \"0\",\"1\": 1 1 1 1 1 1 1 1 1 1 ...\n",
      " $ CR14_1           : Factor w/ 2 levels \"0\",\"1\": 1 1 1 1 1 1 1 1 1 1 ...\n",
      " $ OR9_1            : Factor w/ 2 levels \"0\",\"1\": 2 2 2 2 2 1 2 1 2 2 ...\n",
      " $ OR9_2            : Factor w/ 2 levels \"0\",\"1\": 1 1 1 1 1 1 1 1 1 1 ...\n",
      " $ OR9_3            : Factor w/ 2 levels \"0\",\"1\": 1 1 1 1 1 1 1 1 1 1 ...\n",
      " $ OR9_4            : Factor w/ 2 levels \"0\",\"1\": 1 1 1 1 1 1 1 1 1 1 ...\n",
      " $ OR9_5            : Factor w/ 2 levels \"0\",\"1\": 1 1 1 1 1 1 1 2 1 1 ...\n",
      " $ OR9_6            : Factor w/ 2 levels \"0\",\"1\": 1 1 1 1 1 2 1 1 1 1 ...\n",
      " $ OR9_7            : Factor w/ 2 levels \"0\",\"1\": 1 1 1 1 1 1 1 1 1 1 ...\n",
      " $ CLR16_1          : Factor w/ 2 levels \"0\",\"1\": 1 1 1 1 1 2 1 1 1 1 ...\n",
      " $ CLR16_2          : Factor w/ 2 levels \"0\",\"1\": 1 1 1 1 1 1 1 2 1 1 ...\n",
      " $ CLR16_3          : Factor w/ 2 levels \"0\",\"1\": 1 1 1 1 1 1 1 1 1 1 ...\n",
      " $ CLR16_4          : Factor w/ 2 levels \"0\",\"1\": 1 1 1 1 1 1 1 1 1 1 ...\n",
      " $ CLR17_1          : Factor w/ 2 levels \"0\",\"1\": 1 2 2 2 2 1 2 1 1 2 ...\n",
      " $ CLR17_2          : Factor w/ 2 levels \"0\",\"1\": 2 1 1 1 1 1 1 2 1 1 ...\n",
      " $ CLR17_3          : Factor w/ 2 levels \"0\",\"1\": 1 1 1 1 1 2 1 1 2 1 ...\n",
      " $ ELR2_1           : Factor w/ 2 levels \"0\",\"1\": 2 2 2 2 2 2 2 2 2 2 ...\n",
      " $ ELR2_2           : Factor w/ 2 levels \"0\",\"1\": 1 1 1 1 1 1 1 1 1 1 ...\n",
      " $ ELR2_3           : Factor w/ 2 levels \"0\",\"1\": 1 1 1 1 1 1 1 1 1 1 ...\n",
      " $ ELR2_4           : Factor w/ 2 levels \"0\",\"1\": 1 1 1 1 1 1 1 1 1 1 ...\n",
      " $ ELR2_5           : Factor w/ 2 levels \"0\",\"1\": 1 1 1 1 1 1 1 1 1 1 ...\n",
      " $ ELR2_6           : Factor w/ 2 levels \"0\",\"1\": 1 1 1 1 1 1 1 1 1 1 ...\n",
      " $ CR15_1           : Factor w/ 2 levels \"0\",\"1\": 1 2 2 2 2 1 2 1 1 2 ...\n",
      " $ CR15_2           : Factor w/ 2 levels \"0\",\"1\": 2 1 1 1 1 2 1 2 2 1 ...\n",
      " $ CR15_3           : Factor w/ 2 levels \"0\",\"1\": 1 1 1 1 1 1 1 1 1 1 ...\n",
      " $ CR16_1           : Factor w/ 2 levels \"0\",\"1\": 1 2 2 2 2 1 2 1 1 2 ...\n",
      " $ CR16_2           : Factor w/ 2 levels \"0\",\"1\": 2 1 1 1 1 1 1 2 2 1 ...\n",
      " $ CR16_3           : Factor w/ 2 levels \"0\",\"1\": 1 1 1 1 1 2 1 1 1 1 ...\n",
      " $ OR12_1           : Factor w/ 2 levels \"0\",\"1\": 1 2 2 2 2 1 2 1 1 2 ...\n",
      " $ OR12_2           : Factor w/ 2 levels \"0\",\"1\": 1 1 1 1 1 2 1 1 1 1 ...\n",
      " $ OR12_3           : Factor w/ 2 levels \"0\",\"1\": 1 1 1 1 1 1 1 1 1 1 ...\n",
      " $ OR12_4           : Factor w/ 2 levels \"0\",\"1\": 1 1 1 1 1 1 1 1 1 1 ...\n",
      " $ OR12_5           : Factor w/ 2 levels \"0\",\"1\": 2 1 1 1 1 1 1 1 1 1 ...\n",
      " $ OR12_6           : Factor w/ 2 levels \"0\",\"1\": 1 1 1 1 1 1 1 1 2 1 ...\n",
      " $ OR13_1           : Factor w/ 2 levels \"0\",\"1\": 1 2 2 2 2 1 2 1 1 2 ...\n",
      " $ OR13_2           : Factor w/ 2 levels \"0\",\"1\": 1 1 1 1 1 1 1 1 1 1 ...\n",
      " $ OR13_3           : Factor w/ 2 levels \"0\",\"1\": 2 1 1 1 1 2 1 2 2 1 ...\n",
      " $ OR13_4           : Factor w/ 2 levels \"0\",\"1\": 1 1 1 1 1 1 1 1 1 1 ...\n",
      " $ OR13_5           : Factor w/ 2 levels \"0\",\"1\": 1 1 1 1 1 1 1 1 1 1 ...\n",
      " $ OR13_6           : Factor w/ 2 levels \"0\",\"1\": 1 1 1 1 1 1 1 1 1 1 ...\n",
      " $ CR17_1           : Factor w/ 2 levels \"0\",\"1\": 1 2 2 2 2 1 2 1 1 2 ...\n",
      " $ CR17_2           : Factor w/ 2 levels \"0\",\"1\": 2 1 1 1 1 2 1 2 2 1 ...\n",
      " $ CR17_3           : Factor w/ 2 levels \"0\",\"1\": 1 1 1 1 1 1 1 1 1 1 ...\n",
      " $ CR18_1           : Factor w/ 2 levels \"0\",\"1\": 1 2 2 2 2 2 2 1 1 2 ...\n",
      "  [list output truncated]\n"
     ]
    }
   ],
   "source": [
    "# Transformo las variables dummy y la variable objetivo a factores\n",
    "gytsNB_imput <- gytsNB_imput %>%\n",
    "  mutate(across(where(is.integer), as.factor))\n",
    "\n",
    "# me aseguro de que la variable objetivo es un factor\n",
    "gytsNB_imput$CR7_bin <- as.factor(gytsNB_imput$CR7_bin)\n",
    "\n",
    "# Verificación final de la estructura del dataset\n",
    "str(gytsNB_imput)"
   ]
  },
  {
   "cell_type": "markdown",
   "metadata": {},
   "source": [
    "Evaluacion del modelo Naive Bayes mediante ROC, teniendo como output un vector de probabilidades"
   ]
  },
  {
   "cell_type": "markdown",
   "metadata": {},
   "source": [
    "6.\t**(Naive Bayes)** Inserte una semilla. Divida la base de datos en los conjuntos de entrenamiento y prueba. Verifique que la variable objetivo cumpla el supuesto de proporción en cada conjunto. "
   ]
  },
  {
   "cell_type": "code",
   "execution_count": 40,
   "metadata": {
    "vscode": {
     "languageId": "r"
    }
   },
   "outputs": [],
   "source": [
    "# Inserto semilla para reproducibilidad\n",
    "set.seed(12345)\n",
    "\n",
    "# Divido el conjunto de datos en entrenamiento (70%) y prueba (30%)\n",
    "split <- initial_split(gytsNB_imput, prop = 0.7, strata = \"CR7_bin\")\n",
    "gytsNB_train <- training(split)\n",
    "gytsNB_test <- testing(split)"
   ]
  },
  {
   "cell_type": "code",
   "execution_count": 41,
   "metadata": {
    "vscode": {
     "languageId": "r"
    }
   },
   "outputs": [
    {
     "name": "stdout",
     "output_type": "stream",
     "text": [
      "Proporción de la variable objetivo en el conjunto de entrenamiento:\n",
      "\n",
      "   0    1 \n",
      "0.78 0.22 \n",
      "Proporción de la variable objetivo en el conjunto de prueba:\n",
      "\n",
      "   0    1 \n",
      "0.78 0.22 \n"
     ]
    }
   ],
   "source": [
    "# Verificación de la proporción de la variable objetivo en los conjuntos\n",
    "cat(\"Proporción de la variable objetivo en el conjunto de entrenamiento:\\n\")\n",
    "print(round(prop.table(table(gytsNB_train$CR7_bin)), 2))\n",
    "\n",
    "cat(\"Proporción de la variable objetivo en el conjunto de prueba:\\n\")\n",
    "print(round(prop.table(table(gytsNB_test$CR7_bin)), 2))"
   ]
  },
  {
   "cell_type": "markdown",
   "metadata": {},
   "source": [
    "Se realizó la verificación de la proporción de la variable objetivo CR7_bin, que indica si un individuo mostró signos de ser fumador en los últimos 30 días (1 para fumador, 0 para no fumador). Este paso es crucial para asegurarse de que las proporciones en los conjuntos de entrenamiento y prueba reflejen adecuadamente la distribución de la población original, lo que garantiza que los modelos entrenados y evaluados sean representativos.\n",
    "\n",
    "Resultados:\n",
    "\n",
    "Conjunto de Entrenamiento:\n",
    "- No fumador (X0): 78%\n",
    "- Fumador (X1): 22%\n",
    "\n",
    "Conjunto de Prueba:\n",
    "- No fumador (X0): 78%\n",
    "- Fumador (X1): 22%\n",
    "\n",
    "Estos resultados muestran que el 78% de las observaciones en ambos conjuntos representan individuos que no fumaron en los últimos 30 días (X0), mientras que el 22% representan a aquellos que sí lo hicieron (X1). La coincidencia exacta en la proporción entre los conjuntos de entrenamiento y prueba (0.78 para X0 y 0.22 para X1) indica que ambos conjuntos son representativos de la distribución original de la variable objetivo en la base de datos completa.\n",
    "\n",
    "Esta representatividad es fundamental para garantizar que el modelo Naive Bayes que se entrene en este conjunto de datos tenga una generalización adecuada cuando se evalúe en el conjunto de prueba, y que los resultados obtenidos puedan aplicarse a nuevos datos con una distribución similar."
   ]
  },
  {
   "cell_type": "markdown",
   "metadata": {},
   "source": [
    "7.\t**(Naive Bayes)** Prediga la variable objetivo del conjunto de prueba y muestre los resultados de la curva ROC. Reporte cuál es el punto de corte que seleccionó para transformar las probabilidades estimadas en clases estimadas y fundamente. Muestre la matriz de confusión final e interprete."
   ]
  },
  {
   "cell_type": "code",
   "execution_count": 42,
   "metadata": {
    "vscode": {
     "languageId": "r"
    }
   },
   "outputs": [],
   "source": [
    "# Me aseguro de que los niveles de CR7_bin sean nombres válidos en R\n",
    "gytsNB_train$CR7_bin <- make.names(as.factor(gytsNB_train$CR7_bin))\n",
    "gytsNB_test$CR7_bin <- make.names(as.factor(gytsNB_test$CR7_bin))"
   ]
  },
  {
   "cell_type": "code",
   "execution_count": 43,
   "metadata": {
    "vscode": {
     "languageId": "r"
    }
   },
   "outputs": [],
   "source": [
    "# Estrategia de remuestreo con cross-validation k-fold (5) enfocada en ROC\n",
    "cv <- trainControl(method = \"cv\", number = 5, classProbs = TRUE,\n",
    "                   summaryFunction = twoClassSummary)\n",
    "\n",
    "# grilla de hiperparámetros\n",
    "hyper_grid <- expand.grid(\n",
    "  laplace = c(0, 1),\n",
    "  usekernel = c(TRUE, FALSE),\n",
    "  adjust = seq(0.5, 3, by = 0.5)\n",
    ")"
   ]
  },
  {
   "cell_type": "code",
   "execution_count": 44,
   "metadata": {
    "vscode": {
     "languageId": "r"
    }
   },
   "outputs": [
    {
     "name": "stdout",
     "output_type": "stream",
     "text": [
      "Naive Bayes \n",
      "\n",
      "1867 samples\n",
      " 235 predictor\n",
      "   2 classes: 'X0', 'X1' \n",
      "\n",
      "No pre-processing\n",
      "Resampling: Cross-Validated (5 fold) \n",
      "Summary of sample sizes: 1494, 1493, 1494, 1494, 1493 \n",
      "Resampling results across tuning parameters:\n",
      "\n",
      "  laplace  usekernel  adjust  ROC        Sens       Spec     \n",
      "  0        FALSE      0.5     0.9692618  0.9253425  0.9582656\n",
      "  0        FALSE      1.0     0.9692618  0.9253425  0.9582656\n",
      "  0        FALSE      1.5     0.9692618  0.9253425  0.9582656\n",
      "  0        FALSE      2.0     0.9692618  0.9253425  0.9582656\n",
      "  0        FALSE      2.5     0.9692618  0.9253425  0.9582656\n",
      "  0        FALSE      3.0     0.9692618  0.9253425  0.9582656\n",
      "  0         TRUE      0.5     0.7196589  1.0000000  0.0000000\n",
      "  0         TRUE      1.0     0.7147550  1.0000000  0.0000000\n",
      "  0         TRUE      1.5     0.7135101  1.0000000  0.0000000\n",
      "  0         TRUE      2.0     0.6667439  1.0000000  0.0000000\n",
      "  0         TRUE      2.5     0.6458857  1.0000000  0.0000000\n",
      "  0         TRUE      3.0     0.6689937  1.0000000  0.0000000\n",
      "  1        FALSE      0.5     0.9692618  0.9253425  0.9582656\n",
      "  1        FALSE      1.0     0.9692618  0.9253425  0.9582656\n",
      "  1        FALSE      1.5     0.9692618  0.9253425  0.9582656\n",
      "  1        FALSE      2.0     0.9692618  0.9253425  0.9582656\n",
      "  1        FALSE      2.5     0.9692618  0.9253425  0.9582656\n",
      "  1        FALSE      3.0     0.9692618  0.9253425  0.9582656\n",
      "  1         TRUE      0.5     0.7196589  1.0000000  0.0000000\n",
      "  1         TRUE      1.0     0.7147550  1.0000000  0.0000000\n",
      "  1         TRUE      1.5     0.7135101  1.0000000  0.0000000\n",
      "  1         TRUE      2.0     0.6667439  1.0000000  0.0000000\n",
      "  1         TRUE      2.5     0.6458857  1.0000000  0.0000000\n",
      "  1         TRUE      3.0     0.6689937  1.0000000  0.0000000\n",
      "\n",
      "ROC was used to select the optimal model using the largest value.\n",
      "The final values used for the model were laplace = 0, usekernel = FALSE\n",
      " and adjust = 0.5.\n"
     ]
    },
    {
     "data": {
      "image/png": "[encoded data removed]",
      "text/plain": [
       "plot without title"
      ]
     },
     "metadata": {
      "image/png": {
       "height": 420,
       "width": 420
      }
     },
     "output_type": "display_data"
    }
   ],
   "source": [
    "# Entrenamiento del modelo Naive Bayes optimizado para ROC\n",
    "set.seed(12345)\n",
    "naive_bayes_fit_roc <- train(\n",
    "  CR7_bin ~ .,\n",
    "  data = gytsNB_train,\n",
    "  method = \"naive_bayes\",\n",
    "  metric = \"ROC\",\n",
    "  trControl = cv,\n",
    "  tuneGrid = hyper_grid\n",
    ")\n",
    "\n",
    "# Muestro los resultados del modelo\n",
    "print(naive_bayes_fit_roc)\n",
    "ggplot(naive_bayes_fit_roc)"
   ]
  },
  {
   "cell_type": "code",
   "execution_count": 45,
   "metadata": {
    "vscode": {
     "languageId": "r"
    }
   },
   "outputs": [],
   "source": [
    "# Entrenamiento del Mejor Modelo basado en ROC\n",
    "set.seed(12345)\n",
    "nb_roc <- naive_bayes(\n",
    "  CR7_bin ~ .,\n",
    "  data = gytsNB_train,\n",
    "  laplace = 1, #el suavizado de laplace resuelve el problema de probabilidad 0\n",
    "  usekernel = FALSE,\n",
    "  adjust = 0.5\n",
    ")"
   ]
  },
  {
   "cell_type": "code",
   "execution_count": 46,
   "metadata": {
    "vscode": {
     "languageId": "r"
    }
   },
   "outputs": [
    {
     "data": {
      "image/png": "[encoded data removed]",
      "text/plain": [
       "Plot with title \"ROC curve\""
      ]
     },
     "metadata": {
      "image/png": {
       "height": 420,
       "width": 420
      }
     },
     "output_type": "display_data"
    }
   ],
   "source": [
    "# Predicciones de probabilidad en el conjunto de prueba\n",
    "nb_roc_prob <- predict(\n",
    "  nb_roc,\n",
    "  gytsNB_test[, colnames(gytsNB_test) != \"CR7_bin\"],\n",
    "  type = \"prob\"\n",
    ")\n",
    "nb_roc_prob <- as.numeric(nb_roc_prob[, \"X1\"])\n",
    "\n",
    "# Generación de la curva ROC\n",
    "nb_roc_curve <- roc(gytsNB_test$CR7_bin, nb_roc_prob,\n",
    "                    levels = c(\"X0\", \"X1\"), direction = \"<\")\n",
    "plot.roc(nb_roc_curve, main = \"ROC curve\", col = \"blue\", lwd = 2,\n",
    "         legacy.axes = TRUE, print.thres = \"best\", print.auc = TRUE)"
   ]
  },
  {
   "cell_type": "code",
   "execution_count": 47,
   "metadata": {
    "vscode": {
     "languageId": "r"
    }
   },
   "outputs": [
    {
     "name": "stdout",
     "output_type": "stream",
     "text": [
      "          Reference\n",
      "Prediction  X0  X1\n",
      "        X0 588   7\n",
      "        X1  38 168\n"
     ]
    }
   ],
   "source": [
    "# Cálculo del punto de corte óptimo basado en la suma\n",
    "# de sensibilidades y especificidades\n",
    "aux <- nb_roc_curve$sensitivities + nb_roc_curve$specificities\n",
    "corte <- nb_roc_curve$thresholds[which(aux == max(aux))]\n",
    "\n",
    "# Convierto las probabilidades a clases binarias usando el punto de corte óptimo\n",
    "nb_roc_class <- ifelse(nb_roc_prob < corte, \"X0\", \"X1\")\n",
    "nb_roc_class <- factor(nb_roc_class, levels = c(\"X0\", \"X1\"))\n",
    "\n",
    "# Me aseguro de que `gytsNB_test$CR7_bin` tenga los mismos niveles\n",
    "gytsNB_test$CR7_bin <- factor(gytsNB_test$CR7_bin, levels = c(\"X0\", \"X1\"))\n",
    "\n",
    "# Matriz de confusión y sensibilidad + especificidad\n",
    "results <- confusionMatrix(nb_roc_class, gytsNB_test$CR7_bin)\n",
    "print(results$table)"
   ]
  },
  {
   "cell_type": "markdown",
   "metadata": {},
   "source": [
    "- La variable objetivo en este análisis es CR7_bin, que indica si un individuo mostró signos de ser fumador, es decir, si fumó al menos un día en los últimos 30 días (CR7_bin = 1), o si no fumó en absoluto (CR7_bin = 0). Todas las demás variables en el dataset se utilizaron como predictores para construir el modelo Naive Bayes.\n",
    "\n",
    "- El modelo Naive Bayes fue entrenado y evaluado utilizando la métrica de ROC, lo que permitió medir la capacidad del modelo para discriminar entre los individuos que son fumadores y los que no lo son. La curva ROC obtenida mostró un AUC (Área Bajo la Curva) de 0.986, lo que indica un excelente rendimiento del modelo. Un AUC cercano a 1 implica que el modelo es capaz de distinguir casi perfectamente entre fumadores y no fumadores.\n",
    "\n",
    "- El punto de corte óptimo fue seleccionado basándose en la maximización de la suma de sensibilidades y especificidades. Esto se hizo al calcular para cada posible umbral la suma de la sensibilidad (tasa de verdaderos positivos) y la especificidad (tasa de verdaderos negativos), y eligiendo el umbral que maximiza esta suma.\n",
    "\n",
    "Punto de corte seleccionado: 0.939\n",
    "\n",
    "- Este valor indica que cualquier probabilidad de que un individuo sea fumador superior a 0.939 se clasifica como 1 (fumador), y cualquier probabilidad igual o inferior se clasifica como 0 (no fumador). Este punto de corte fue elegido porque ofrece el mejor equilibrio entre la sensibilidad y la especificidad, lo que es crucial en contextos donde ambas medidas son importantes para una correcta clasificación."
   ]
  },
  {
   "cell_type": "markdown",
   "metadata": {},
   "source": [
    "La matriz de confusión generada a partir del modelo usando el punto de corte óptimo es la siguiente:\n",
    "\n",
    "| Predicción / Realidad | No Fumador (0) | Fumador (1) |\n",
    "|-----------------------|----------------|-------------|\n",
    "| No Fumador (0)        | 588            | 7           |\n",
    "| Fumador (1)           | 38             | 168         |\n",
    "\n",
    "Interpretación de la Matriz de Confusión:\n",
    "\n",
    "Verdaderos Negativos (588): El modelo clasificó correctamente a 588 individuos como no fumadores cuando realmente no lo eran.\n",
    "\n",
    "Falsos Negativos (7): El modelo clasificó incorrectamente a 7 individuos como no fumadores cuando en realidad eran fumadores. Esto representa una pequeña cantidad de individuos fumadores que el modelo no pudo identificar.\n",
    "\n",
    "Falsos Positivos (38): El modelo clasificó incorrectamente a 38 individuos como fumadores cuando en realidad no lo eran. Este número de falsos positivos es relevante para analizar, ya que en ciertos contextos, un alto número de falsos positivos podría ser problemático (por ejemplo, en intervenciones donde los recursos se destinan a aquellos clasificados como fumadores).\n",
    "\n",
    "Verdaderos Positivos (168): El modelo identificó correctamente a 168 individuos como fumadores cuando realmente lo eran.\n",
    "\n",
    "El modelo, con el punto de corte óptimo, ha logrado un buen equilibrio, reduciendo tanto los falsos negativos como los falsos positivos. Sin embargo, la decisión de qué umbral utilizar podría ajustarse dependiendo de la prioridad dada a la minimización de falsos negativos o falsos positivos en escenarios específicos."
   ]
  },
  {
   "cell_type": "markdown",
   "metadata": {},
   "source": [
    "Modelo de Regresión logistica"
   ]
  },
  {
   "cell_type": "markdown",
   "metadata": {},
   "source": [
    "5.\t**(Regresión lógistica)** Realice el tratamiento necesario a las variables que utilizará finalmente en función del algoritmo. Puede crear otras variables si lo desea. Explique."
   ]
  },
  {
   "cell_type": "markdown",
   "metadata": {},
   "source": [
    "1ero hay que recordar que ya se le han hecho en el código 3 cambios a la copia de la base de datos para el modelo de regresión logistica que son los siguientes:\n",
    "\n",
    "Se Eliminaron las observaciones con valores faltantes en la variable CR7:\n",
    "- `gytsRL <- gytsRL[!is.na(gytsRL$CR7), ]`\n",
    "\n",
    "Se transformó CR7 en una variable binaria\n",
    "- `gytsRL$CR7_bin <- ifelse(gytsRL$CR7 %in% 2:7, 1, 0)`\n",
    "\n",
    "Se eliminó la variable CR7 dado que CR7_bin es una transformación de CR7 y no se necesita tener ambas variables:\n",
    "- `gytsRL$CR7 <- NULL`"
   ]
  },
  {
   "cell_type": "code",
   "execution_count": 48,
   "metadata": {
    "vscode": {
     "languageId": "r"
    }
   },
   "outputs": [],
   "source": [
    "# Selecciono variables para la imputación\n",
    "# (excluyendo FinalWgt, Stratum, PSU y CR7_bin)\n",
    "vars_imput_RL <- names(gytsRL)[!names(gytsRL) %in%\n",
    "                                     c(\"FinalWgt\", \"Stratum\", \"PSU\", \"CR7_bin\")]"
   ]
  },
  {
   "cell_type": "code",
   "execution_count": 49,
   "metadata": {
    "vscode": {
     "languageId": "r"
    }
   },
   "outputs": [],
   "source": [
    "# Especifico el método de imputación\n",
    "methods <- make.method(gytsRL)\n",
    "# Uso 'pmm' para todas las variables a imputar\n",
    "methods[vars_imput_RL] <- \"pmm\""
   ]
  },
  {
   "cell_type": "code",
   "execution_count": 50,
   "metadata": {
    "vscode": {
     "languageId": "r"
    }
   },
   "outputs": [
    {
     "name": "stdout",
     "output_type": "stream",
     "text": [
      "\n",
      " iter imp variable\n",
      "  1   1  CR1  CR2  CLR3  CLR4  CR5  CR6  CR8  CR9  CR10  CR11  CR12  CR13  CR14  OR9  CLR16  CLR17  ELR2  CR15  CR16  OR12  OR13  CR17  CR18  CR19  CR20  CLR27  CLR28  CR21  CR22  CR23  CR24  CLR33  CLR34  CR25  CLR36  CR27  CLR38  CLR39  CLR40  CLR41  CLR42  CR30  CR31  CR32  CLR46  CLR47  CLR48  CLR49  CR34  CR35  CR36  CR37  CR38  OR45  CR39  CR40  CR41  CR42  CR43  OR55  CLR62  CLR63  CLR64  CLR65  OR46  OR54  CLR68  CLR69  CLR70  CLR71  CLR72\n",
      "  1   2  CR1  CR2  CLR3  CLR4  CR5  CR6  CR8  CR9  CR10  CR11  CR12  CR13  CR14  OR9  CLR16  CLR17  ELR2  CR15  CR16  OR12  OR13  CR17  CR18  CR19  CR20  CLR27  CLR28  CR21  CR22  CR23  CR24  CLR33  CLR34  CR25  CLR36  CR27  CLR38  CLR39  CLR40  CLR41  CLR42  CR30  CR31  CR32  CLR46  CLR47  CLR48  CLR49  CR34  CR35  CR36  CR37  CR38  OR45  CR39  CR40  CR41  CR42  CR43  OR55  CLR62  CLR63  CLR64  CLR65  OR46  OR54  CLR68  CLR69  CLR70  CLR71  CLR72\n",
      "  1   3  CR1  CR2  CLR3  CLR4  CR5  CR6  CR8  CR9  CR10  CR11  CR12  CR13  CR14  OR9  CLR16  CLR17  ELR2  CR15  CR16  OR12  OR13  CR17  CR18  CR19  CR20  CLR27  CLR28  CR21  CR22  CR23  CR24  CLR33  CLR34  CR25  CLR36  CR27  CLR38  CLR39  CLR40  CLR41  CLR42  CR30  CR31  CR32  CLR46  CLR47  CLR48  CLR49  CR34  CR35  CR36  CR37  CR38  OR45  CR39  CR40  CR41  CR42  CR43  OR55  CLR62  CLR63  CLR64  CLR65  OR46  OR54  CLR68  CLR69  CLR70  CLR71  CLR72\n",
      "  1   4  CR1  CR2  CLR3  CLR4  CR5  CR6  CR8  CR9  CR10  CR11  CR12  CR13  CR14  OR9  CLR16  CLR17  ELR2  CR15  CR16  OR12  OR13  CR17  CR18  CR19  CR20  CLR27  CLR28  CR21  CR22  CR23  CR24  CLR33  CLR34  CR25  CLR36  CR27  CLR38  CLR39  CLR40  CLR41  CLR42  CR30  CR31  CR32  CLR46  CLR47  CLR48  CLR49  CR34  CR35  CR36  CR37  CR38  OR45  CR39  CR40  CR41  CR42  CR43  OR55  CLR62  CLR63  CLR64  CLR65  OR46  OR54  CLR68  CLR69  CLR70  CLR71  CLR72\n",
      "  1   5  CR1  CR2  CLR3  CLR4  CR5  CR6  CR8  CR9  CR10  CR11  CR12  CR13  CR14  OR9  CLR16  CLR17  ELR2  CR15  CR16  OR12  OR13  CR17  CR18  CR19  CR20  CLR27  CLR28  CR21  CR22  CR23  CR24  CLR33  CLR34  CR25  CLR36  CR27  CLR38  CLR39  CLR40  CLR41  CLR42  CR30  CR31  CR32  CLR46  CLR47  CLR48  CLR49  CR34  CR35  CR36  CR37  CR38  OR45  CR39  CR40  CR41  CR42  CR43  OR55  CLR62  CLR63  CLR64  CLR65  OR46  OR54  CLR68  CLR69  CLR70  CLR71  CLR72\n",
      "  2   1  CR1  CR2  CLR3  CLR4  CR5  CR6  CR8  CR9  CR10  CR11  CR12  CR13  CR14  OR9  CLR16  CLR17  ELR2  CR15  CR16  OR12  OR13  CR17  CR18  CR19  CR20  CLR27  CLR28  CR21  CR22  CR23  CR24  CLR33  CLR34  CR25  CLR36  CR27  CLR38  CLR39  CLR40  CLR41  CLR42  CR30  CR31  CR32  CLR46  CLR47  CLR48  CLR49  CR34  CR35  CR36  CR37  CR38  OR45  CR39  CR40  CR41  CR42  CR43  OR55  CLR62  CLR63  CLR64  CLR65  OR46  OR54  CLR68  CLR69  CLR70  CLR71  CLR72\n",
      "  2   2  CR1  CR2  CLR3  CLR4  CR5  CR6  CR8  CR9  CR10  CR11  CR12  CR13  CR14  OR9  CLR16  CLR17  ELR2  CR15  CR16  OR12  OR13  CR17  CR18  CR19  CR20  CLR27  CLR28  CR21  CR22  CR23  CR24  CLR33  CLR34  CR25  CLR36  CR27  CLR38  CLR39  CLR40  CLR41  CLR42  CR30  CR31  CR32  CLR46  CLR47  CLR48  CLR49  CR34  CR35  CR36  CR37  CR38  OR45  CR39  CR40  CR41  CR42  CR43  OR55  CLR62  CLR63  CLR64  CLR65  OR46  OR54  CLR68  CLR69  CLR70  CLR71  CLR72\n",
      "  2   3  CR1  CR2  CLR3  CLR4  CR5  CR6  CR8  CR9  CR10  CR11  CR12  CR13  CR14  OR9  CLR16  CLR17  ELR2  CR15  CR16  OR12  OR13  CR17  CR18  CR19  CR20  CLR27  CLR28  CR21  CR22  CR23  CR24  CLR33  CLR34  CR25  CLR36  CR27  CLR38  CLR39  CLR40  CLR41  CLR42  CR30  CR31  CR32  CLR46  CLR47  CLR48  CLR49  CR34  CR35  CR36  CR37  CR38  OR45  CR39  CR40  CR41  CR42  CR43  OR55  CLR62  CLR63  CLR64  CLR65  OR46  OR54  CLR68  CLR69  CLR70  CLR71  CLR72\n",
      "  2   4  CR1  CR2  CLR3  CLR4  CR5  CR6  CR8  CR9  CR10  CR11  CR12  CR13  CR14  OR9  CLR16  CLR17  ELR2  CR15  CR16  OR12  OR13  CR17  CR18  CR19  CR20  CLR27  CLR28  CR21  CR22  CR23  CR24  CLR33  CLR34  CR25  CLR36  CR27  CLR38  CLR39  CLR40  CLR41  CLR42  CR30  CR31  CR32  CLR46  CLR47  CLR48  CLR49  CR34  CR35  CR36  CR37  CR38  OR45  CR39  CR40  CR41  CR42  CR43  OR55  CLR62  CLR63  CLR64  CLR65  OR46  OR54  CLR68  CLR69  CLR70  CLR71  CLR72\n",
      "  2   5  CR1  CR2  CLR3  CLR4  CR5  CR6  CR8  CR9  CR10  CR11  CR12  CR13  CR14  OR9  CLR16  CLR17  ELR2  CR15  CR16  OR12  OR13  CR17  CR18  CR19  CR20  CLR27  CLR28  CR21  CR22  CR23  CR24  CLR33  CLR34  CR25  CLR36  CR27  CLR38  CLR39  CLR40  CLR41  CLR42  CR30  CR31  CR32  CLR46  CLR47  CLR48  CLR49  CR34  CR35  CR36  CR37  CR38  OR45  CR39  CR40  CR41  CR42  CR43  OR55  CLR62  CLR63  CLR64  CLR65  OR46  OR54  CLR68  CLR69  CLR70  CLR71  CLR72\n",
      "  3   1  CR1  CR2  CLR3  CLR4  CR5  CR6  CR8  CR9  CR10  CR11  CR12  CR13  CR14  OR9  CLR16  CLR17  ELR2  CR15  CR16  OR12  OR13  CR17  CR18  CR19  CR20  CLR27  CLR28  CR21  CR22  CR23  CR24  CLR33  CLR34  CR25  CLR36  CR27  CLR38  CLR39  CLR40  CLR41  CLR42  CR30  CR31  CR32  CLR46  CLR47  CLR48  CLR49  CR34  CR35  CR36  CR37  CR38  OR45  CR39  CR40  CR41  CR42  CR43  OR55  CLR62  CLR63  CLR64  CLR65  OR46  OR54  CLR68  CLR69  CLR70  CLR71  CLR72\n",
      "  3   2  CR1  CR2  CLR3  CLR4  CR5  CR6  CR8  CR9  CR10  CR11  CR12  CR13  CR14  OR9  CLR16  CLR17  ELR2  CR15  CR16  OR12  OR13  CR17  CR18  CR19  CR20  CLR27  CLR28  CR21  CR22  CR23  CR24  CLR33  CLR34  CR25  CLR36  CR27  CLR38  CLR39  CLR40  CLR41  CLR42  CR30  CR31  CR32  CLR46  CLR47  CLR48  CLR49  CR34  CR35  CR36  CR37  CR38  OR45  CR39  CR40  CR41  CR42  CR43  OR55  CLR62  CLR63  CLR64  CLR65  OR46  OR54  CLR68  CLR69  CLR70  CLR71  CLR72\n",
      "  3   3  CR1  CR2  CLR3  CLR4  CR5  CR6  CR8  CR9  CR10  CR11  CR12  CR13  CR14  OR9  CLR16  CLR17  ELR2  CR15  CR16  OR12  OR13  CR17  CR18  CR19  CR20  CLR27  CLR28  CR21  CR22  CR23  CR24  CLR33  CLR34  CR25  CLR36  CR27  CLR38  CLR39  CLR40  CLR41  CLR42  CR30  CR31  CR32  CLR46  CLR47  CLR48  CLR49  CR34  CR35  CR36  CR37  CR38  OR45  CR39  CR40  CR41  CR42  CR43  OR55  CLR62  CLR63  CLR64  CLR65  OR46  OR54  CLR68  CLR69  CLR70  CLR71  CLR72\n",
      "  3   4  CR1  CR2  CLR3  CLR4  CR5  CR6  CR8  CR9  CR10  CR11  CR12  CR13  CR14  OR9  CLR16  CLR17  ELR2  CR15  CR16  OR12  OR13  CR17  CR18  CR19  CR20  CLR27  CLR28  CR21  CR22  CR23  CR24  CLR33  CLR34  CR25  CLR36  CR27  CLR38  CLR39  CLR40  CLR41  CLR42  CR30  CR31  CR32  CLR46  CLR47  CLR48  CLR49  CR34  CR35  CR36  CR37  CR38  OR45  CR39  CR40  CR41  CR42  CR43  OR55  CLR62  CLR63  CLR64  CLR65  OR46  OR54  CLR68  CLR69  CLR70  CLR71  CLR72\n",
      "  3   5  CR1  CR2  CLR3  CLR4  CR5  CR6  CR8  CR9  CR10  CR11  CR12  CR13  CR14  OR9  CLR16  CLR17  ELR2  CR15  CR16  OR12  OR13  CR17  CR18  CR19  CR20  CLR27  CLR28  CR21  CR22  CR23  CR24  CLR33  CLR34  CR25  CLR36  CR27  CLR38  CLR39  CLR40  CLR41  CLR42  CR30  CR31  CR32  CLR46  CLR47  CLR48  CLR49  CR34  CR35  CR36  CR37  CR38  OR45  CR39  CR40  CR41  CR42  CR43  OR55  CLR62  CLR63  CLR64  CLR65  OR46  OR54  CLR68  CLR69  CLR70  CLR71  CLR72\n",
      "  4   1  CR1  CR2  CLR3  CLR4  CR5  CR6  CR8  CR9  CR10  CR11  CR12  CR13  CR14  OR9  CLR16  CLR17  ELR2  CR15  CR16  OR12  OR13  CR17  CR18  CR19  CR20  CLR27  CLR28  CR21  CR22  CR23  CR24  CLR33  CLR34  CR25  CLR36  CR27  CLR38  CLR39  CLR40  CLR41  CLR42  CR30  CR31  CR32  CLR46  CLR47  CLR48  CLR49  CR34  CR35  CR36  CR37  CR38  OR45  CR39  CR40  CR41  CR42  CR43  OR55  CLR62  CLR63  CLR64  CLR65  OR46  OR54  CLR68  CLR69  CLR70  CLR71  CLR72\n",
      "  4   2  CR1  CR2  CLR3  CLR4  CR5  CR6  CR8  CR9  CR10  CR11  CR12  CR13  CR14  OR9  CLR16  CLR17  ELR2  CR15  CR16  OR12  OR13  CR17  CR18  CR19  CR20  CLR27  CLR28  CR21  CR22  CR23  CR24  CLR33  CLR34  CR25  CLR36  CR27  CLR38  CLR39  CLR40  CLR41  CLR42  CR30  CR31  CR32  CLR46  CLR47  CLR48  CLR49  CR34  CR35  CR36  CR37  CR38  OR45  CR39  CR40  CR41  CR42  CR43  OR55  CLR62  CLR63  CLR64  CLR65  OR46  OR54  CLR68  CLR69  CLR70  CLR71  CLR72\n",
      "  4   3  CR1  CR2  CLR3  CLR4  CR5  CR6  CR8  CR9  CR10  CR11  CR12  CR13  CR14  OR9  CLR16  CLR17  ELR2  CR15  CR16  OR12  OR13  CR17  CR18  CR19  CR20  CLR27  CLR28  CR21  CR22  CR23  CR24  CLR33  CLR34  CR25  CLR36  CR27  CLR38  CLR39  CLR40  CLR41  CLR42  CR30  CR31  CR32  CLR46  CLR47  CLR48  CLR49  CR34  CR35  CR36  CR37  CR38  OR45  CR39  CR40  CR41  CR42  CR43  OR55  CLR62  CLR63  CLR64  CLR65  OR46  OR54  CLR68  CLR69  CLR70  CLR71  CLR72\n",
      "  4   4  CR1  CR2  CLR3  CLR4  CR5  CR6  CR8  CR9  CR10  CR11  CR12  CR13  CR14  OR9  CLR16  CLR17  ELR2  CR15  CR16  OR12  OR13  CR17  CR18  CR19  CR20  CLR27  CLR28  CR21  CR22  CR23  CR24  CLR33  CLR34  CR25  CLR36  CR27  CLR38  CLR39  CLR40  CLR41  CLR42  CR30  CR31  CR32  CLR46  CLR47  CLR48  CLR49  CR34  CR35  CR36  CR37  CR38  OR45  CR39  CR40  CR41  CR42  CR43  OR55  CLR62  CLR63  CLR64  CLR65  OR46  OR54  CLR68  CLR69  CLR70  CLR71  CLR72\n",
      "  4   5  CR1  CR2  CLR3  CLR4  CR5  CR6  CR8  CR9  CR10  CR11  CR12  CR13  CR14  OR9  CLR16  CLR17  ELR2  CR15  CR16  OR12  OR13  CR17  CR18  CR19  CR20  CLR27  CLR28  CR21  CR22  CR23  CR24  CLR33  CLR34  CR25  CLR36  CR27  CLR38  CLR39  CLR40  CLR41  CLR42  CR30  CR31  CR32  CLR46  CLR47  CLR48  CLR49  CR34  CR35  CR36  CR37  CR38  OR45  CR39  CR40  CR41  CR42  CR43  OR55  CLR62  CLR63  CLR64  CLR65  OR46  OR54  CLR68  CLR69  CLR70  CLR71  CLR72\n",
      "  5   1  CR1  CR2  CLR3  CLR4  CR5  CR6  CR8  CR9  CR10  CR11  CR12  CR13  CR14  OR9  CLR16  CLR17  ELR2  CR15  CR16  OR12  OR13  CR17  CR18  CR19  CR20  CLR27  CLR28  CR21  CR22  CR23  CR24  CLR33  CLR34  CR25  CLR36  CR27  CLR38  CLR39  CLR40  CLR41  CLR42  CR30  CR31  CR32  CLR46  CLR47  CLR48  CLR49  CR34  CR35  CR36  CR37  CR38  OR45  CR39  CR40  CR41  CR42  CR43  OR55  CLR62  CLR63  CLR64  CLR65  OR46  OR54  CLR68  CLR69  CLR70  CLR71  CLR72\n",
      "  5   2  CR1  CR2  CLR3  CLR4  CR5  CR6  CR8  CR9  CR10  CR11  CR12  CR13  CR14  OR9  CLR16  CLR17  ELR2  CR15  CR16  OR12  OR13  CR17  CR18  CR19  CR20  CLR27  CLR28  CR21  CR22  CR23  CR24  CLR33  CLR34  CR25  CLR36  CR27  CLR38  CLR39  CLR40  CLR41  CLR42  CR30  CR31  CR32  CLR46  CLR47  CLR48  CLR49  CR34  CR35  CR36  CR37  CR38  OR45  CR39  CR40  CR41  CR42  CR43  OR55  CLR62  CLR63  CLR64  CLR65  OR46  OR54  CLR68  CLR69  CLR70  CLR71  CLR72\n",
      "  5   3  CR1  CR2  CLR3  CLR4  CR5  CR6  CR8  CR9  CR10  CR11  CR12  CR13  CR14  OR9  CLR16  CLR17  ELR2  CR15  CR16  OR12  OR13  CR17  CR18  CR19  CR20  CLR27  CLR28  CR21  CR22  CR23  CR24  CLR33  CLR34  CR25  CLR36  CR27  CLR38  CLR39  CLR40  CLR41  CLR42  CR30  CR31  CR32  CLR46  CLR47  CLR48  CLR49  CR34  CR35  CR36  CR37  CR38  OR45  CR39  CR40  CR41  CR42  CR43  OR55  CLR62  CLR63  CLR64  CLR65  OR46  OR54  CLR68  CLR69  CLR70  CLR71  CLR72\n",
      "  5   4  CR1  CR2  CLR3  CLR4  CR5  CR6  CR8  CR9  CR10  CR11  CR12  CR13  CR14  OR9  CLR16  CLR17  ELR2  CR15  CR16  OR12  OR13  CR17  CR18  CR19  CR20  CLR27  CLR28  CR21  CR22  CR23  CR24  CLR33  CLR34  CR25  CLR36  CR27  CLR38  CLR39  CLR40  CLR41  CLR42  CR30  CR31  CR32  CLR46  CLR47  CLR48  CLR49  CR34  CR35  CR36  CR37  CR38  OR45  CR39  CR40  CR41  CR42  CR43  OR55  CLR62  CLR63  CLR64  CLR65  OR46  OR54  CLR68  CLR69  CLR70  CLR71  CLR72\n",
      "  5   5  CR1  CR2  CLR3  CLR4  CR5  CR6  CR8  CR9  CR10  CR11  CR12  CR13  CR14  OR9  CLR16  CLR17  ELR2  CR15  CR16  OR12  OR13  CR17  CR18  CR19  CR20  CLR27  CLR28  CR21  CR22  CR23  CR24  CLR33  CLR34  CR25  CLR36  CR27  CLR38  CLR39  CLR40  CLR41  CLR42  CR30  CR31  CR32  CLR46  CLR47  CLR48  CLR49  CR34  CR35  CR36  CR37  CR38  OR45  CR39  CR40  CR41  CR42  CR43  OR55  CLR62  CLR63  CLR64  CLR65  OR46  OR54  CLR68  CLR69  CLR70  CLR71  CLR72\n",
      "  6   1  CR1  CR2  CLR3  CLR4  CR5  CR6  CR8  CR9  CR10  CR11  CR12  CR13  CR14  OR9  CLR16  CLR17  ELR2  CR15  CR16  OR12  OR13  CR17  CR18  CR19  CR20  CLR27  CLR28  CR21  CR22  CR23  CR24  CLR33  CLR34  CR25  CLR36  CR27  CLR38  CLR39  CLR40  CLR41  CLR42  CR30  CR31  CR32  CLR46  CLR47  CLR48  CLR49  CR34  CR35  CR36  CR37  CR38  OR45  CR39  CR40  CR41  CR42  CR43  OR55  CLR62  CLR63  CLR64  CLR65  OR46  OR54  CLR68  CLR69  CLR70  CLR71  CLR72\n",
      "  6   2  CR1  CR2  CLR3  CLR4  CR5  CR6  CR8  CR9  CR10  CR11  CR12  CR13  CR14  OR9  CLR16  CLR17  ELR2  CR15  CR16  OR12  OR13  CR17  CR18  CR19  CR20  CLR27  CLR28  CR21  CR22  CR23  CR24  CLR33  CLR34  CR25  CLR36  CR27  CLR38  CLR39  CLR40  CLR41  CLR42  CR30  CR31  CR32  CLR46  CLR47  CLR48  CLR49  CR34  CR35  CR36  CR37  CR38  OR45  CR39  CR40  CR41  CR42  CR43  OR55  CLR62  CLR63  CLR64  CLR65  OR46  OR54  CLR68  CLR69  CLR70  CLR71  CLR72\n",
      "  6   3  CR1  CR2  CLR3  CLR4  CR5  CR6  CR8  CR9  CR10  CR11  CR12  CR13  CR14  OR9  CLR16  CLR17  ELR2  CR15  CR16  OR12  OR13  CR17  CR18  CR19  CR20  CLR27  CLR28  CR21  CR22  CR23  CR24  CLR33  CLR34  CR25  CLR36  CR27  CLR38  CLR39  CLR40  CLR41  CLR42  CR30  CR31  CR32  CLR46  CLR47  CLR48  CLR49  CR34  CR35  CR36  CR37  CR38  OR45  CR39  CR40  CR41  CR42  CR43  OR55  CLR62  CLR63  CLR64  CLR65  OR46  OR54  CLR68  CLR69  CLR70  CLR71  CLR72\n",
      "  6   4  CR1  CR2  CLR3  CLR4  CR5  CR6  CR8  CR9  CR10  CR11  CR12  CR13  CR14  OR9  CLR16  CLR17  ELR2  CR15  CR16  OR12  OR13  CR17  CR18  CR19  CR20  CLR27  CLR28  CR21  CR22  CR23  CR24  CLR33  CLR34  CR25  CLR36  CR27  CLR38  CLR39  CLR40  CLR41  CLR42  CR30  CR31  CR32  CLR46  CLR47  CLR48  CLR49  CR34  CR35  CR36  CR37  CR38  OR45  CR39  CR40  CR41  CR42  CR43  OR55  CLR62  CLR63  CLR64  CLR65  OR46  OR54  CLR68  CLR69  CLR70  CLR71  CLR72\n",
      "  6   5  CR1  CR2  CLR3  CLR4  CR5  CR6  CR8  CR9  CR10  CR11  CR12  CR13  CR14  OR9  CLR16  CLR17  ELR2  CR15  CR16  OR12  OR13  CR17  CR18  CR19  CR20  CLR27  CLR28  CR21  CR22  CR23  CR24  CLR33  CLR34  CR25  CLR36  CR27  CLR38  CLR39  CLR40  CLR41  CLR42  CR30  CR31  CR32  CLR46  CLR47  CLR48  CLR49  CR34  CR35  CR36  CR37  CR38  OR45  CR39  CR40  CR41  CR42  CR43  OR55  CLR62  CLR63  CLR64  CLR65  OR46  OR54  CLR68  CLR69  CLR70  CLR71  CLR72\n",
      "  7   1  CR1  CR2  CLR3  CLR4  CR5  CR6  CR8  CR9  CR10  CR11  CR12  CR13  CR14  OR9  CLR16  CLR17  ELR2  CR15  CR16  OR12  OR13  CR17  CR18  CR19  CR20  CLR27  CLR28  CR21  CR22  CR23  CR24  CLR33  CLR34  CR25  CLR36  CR27  CLR38  CLR39  CLR40  CLR41  CLR42  CR30  CR31  CR32  CLR46  CLR47  CLR48  CLR49  CR34  CR35  CR36  CR37  CR38  OR45  CR39  CR40  CR41  CR42  CR43  OR55  CLR62  CLR63  CLR64  CLR65  OR46  OR54  CLR68  CLR69  CLR70  CLR71  CLR72\n",
      "  7   2  CR1  CR2  CLR3  CLR4  CR5  CR6  CR8  CR9  CR10  CR11  CR12  CR13  CR14  OR9  CLR16  CLR17  ELR2  CR15  CR16  OR12  OR13  CR17  CR18  CR19  CR20  CLR27  CLR28  CR21  CR22  CR23  CR24  CLR33  CLR34  CR25  CLR36  CR27  CLR38  CLR39  CLR40  CLR41  CLR42  CR30  CR31  CR32  CLR46  CLR47  CLR48  CLR49  CR34  CR35  CR36  CR37  CR38  OR45  CR39  CR40  CR41  CR42  CR43  OR55  CLR62  CLR63  CLR64  CLR65  OR46  OR54  CLR68  CLR69  CLR70  CLR71  CLR72\n",
      "  7   3  CR1  CR2  CLR3  CLR4  CR5  CR6  CR8  CR9  CR10  CR11  CR12  CR13  CR14  OR9  CLR16  CLR17  ELR2  CR15  CR16  OR12  OR13  CR17  CR18  CR19  CR20  CLR27  CLR28  CR21  CR22  CR23  CR24  CLR33  CLR34  CR25  CLR36  CR27  CLR38  CLR39  CLR40  CLR41  CLR42  CR30  CR31  CR32  CLR46  CLR47  CLR48  CLR49  CR34  CR35  CR36  CR37  CR38  OR45  CR39  CR40  CR41  CR42  CR43  OR55  CLR62  CLR63  CLR64  CLR65  OR46  OR54  CLR68  CLR69  CLR70  CLR71  CLR72\n",
      "  7   4  CR1  CR2  CLR3  CLR4  CR5  CR6  CR8  CR9  CR10  CR11  CR12  CR13  CR14  OR9  CLR16  CLR17  ELR2  CR15  CR16  OR12  OR13  CR17  CR18  CR19  CR20  CLR27  CLR28  CR21  CR22  CR23  CR24  CLR33  CLR34  CR25  CLR36  CR27  CLR38  CLR39  CLR40  CLR41  CLR42  CR30  CR31  CR32  CLR46  CLR47  CLR48  CLR49  CR34  CR35  CR36  CR37  CR38  OR45  CR39  CR40  CR41  CR42  CR43  OR55  CLR62  CLR63  CLR64  CLR65  OR46  OR54  CLR68  CLR69  CLR70  CLR71  CLR72\n",
      "  7   5  CR1  CR2  CLR3  CLR4  CR5  CR6  CR8  CR9  CR10  CR11  CR12  CR13  CR14  OR9  CLR16  CLR17  ELR2  CR15  CR16  OR12  OR13  CR17  CR18  CR19  CR20  CLR27  CLR28  CR21  CR22  CR23  CR24  CLR33  CLR34  CR25  CLR36  CR27  CLR38  CLR39  CLR40  CLR41  CLR42  CR30  CR31  CR32  CLR46  CLR47  CLR48  CLR49  CR34  CR35  CR36  CR37  CR38  OR45  CR39  CR40  CR41  CR42  CR43  OR55  CLR62  CLR63  CLR64  CLR65  OR46  OR54  CLR68  CLR69  CLR70  CLR71  CLR72\n",
      "  8   1  CR1  CR2  CLR3  CLR4  CR5  CR6  CR8  CR9  CR10  CR11  CR12  CR13  CR14  OR9  CLR16  CLR17  ELR2  CR15  CR16  OR12  OR13  CR17  CR18  CR19  CR20  CLR27  CLR28  CR21  CR22  CR23  CR24  CLR33  CLR34  CR25  CLR36  CR27  CLR38  CLR39  CLR40  CLR41  CLR42  CR30  CR31  CR32  CLR46  CLR47  CLR48  CLR49  CR34  CR35  CR36  CR37  CR38  OR45  CR39  CR40  CR41  CR42  CR43  OR55  CLR62  CLR63  CLR64  CLR65  OR46  OR54  CLR68  CLR69  CLR70  CLR71  CLR72\n",
      "  8   2  CR1  CR2  CLR3  CLR4  CR5  CR6  CR8  CR9  CR10  CR11  CR12  CR13  CR14  OR9  CLR16  CLR17  ELR2  CR15  CR16  OR12  OR13  CR17  CR18  CR19  CR20  CLR27  CLR28  CR21  CR22  CR23  CR24  CLR33  CLR34  CR25  CLR36  CR27  CLR38  CLR39  CLR40  CLR41  CLR42  CR30  CR31  CR32  CLR46  CLR47  CLR48  CLR49  CR34  CR35  CR36  CR37  CR38  OR45  CR39  CR40  CR41  CR42  CR43  OR55  CLR62  CLR63  CLR64  CLR65  OR46  OR54  CLR68  CLR69  CLR70  CLR71  CLR72\n",
      "  8   3  CR1  CR2  CLR3  CLR4  CR5  CR6  CR8  CR9  CR10  CR11  CR12  CR13  CR14  OR9  CLR16  CLR17  ELR2  CR15  CR16  OR12  OR13  CR17  CR18  CR19  CR20  CLR27  CLR28  CR21  CR22  CR23  CR24  CLR33  CLR34  CR25  CLR36  CR27  CLR38  CLR39  CLR40  CLR41  CLR42  CR30  CR31  CR32  CLR46  CLR47  CLR48  CLR49  CR34  CR35  CR36  CR37  CR38  OR45  CR39  CR40  CR41  CR42  CR43  OR55  CLR62  CLR63  CLR64  CLR65  OR46  OR54  CLR68  CLR69  CLR70  CLR71  CLR72\n",
      "  8   4  CR1  CR2  CLR3  CLR4  CR5  CR6  CR8  CR9  CR10  CR11  CR12  CR13  CR14  OR9  CLR16  CLR17  ELR2  CR15  CR16  OR12  OR13  CR17  CR18  CR19  CR20  CLR27  CLR28  CR21  CR22  CR23  CR24  CLR33  CLR34  CR25  CLR36  CR27  CLR38  CLR39  CLR40  CLR41  CLR42  CR30  CR31  CR32  CLR46  CLR47  CLR48  CLR49  CR34  CR35  CR36  CR37  CR38  OR45  CR39  CR40  CR41  CR42  CR43  OR55  CLR62  CLR63  CLR64  CLR65  OR46  OR54  CLR68  CLR69  CLR70  CLR71  CLR72\n",
      "  8   5  CR1  CR2  CLR3  CLR4  CR5  CR6  CR8  CR9  CR10  CR11  CR12  CR13  CR14  OR9  CLR16  CLR17  ELR2  CR15  CR16  OR12  OR13  CR17  CR18  CR19  CR20  CLR27  CLR28  CR21  CR22  CR23  CR24  CLR33  CLR34  CR25  CLR36  CR27  CLR38  CLR39  CLR40  CLR41  CLR42  CR30  CR31  CR32  CLR46  CLR47  CLR48  CLR49  CR34  CR35  CR36  CR37  CR38  OR45  CR39  CR40  CR41  CR42  CR43  OR55  CLR62  CLR63  CLR64  CLR65  OR46  OR54  CLR68  CLR69  CLR70  CLR71  CLR72\n",
      "  9   1  CR1  CR2  CLR3  CLR4  CR5  CR6  CR8  CR9  CR10  CR11  CR12  CR13  CR14  OR9  CLR16  CLR17  ELR2  CR15  CR16  OR12  OR13  CR17  CR18  CR19  CR20  CLR27  CLR28  CR21  CR22  CR23  CR24  CLR33  CLR34  CR25  CLR36  CR27  CLR38  CLR39  CLR40  CLR41  CLR42  CR30  CR31  CR32  CLR46  CLR47  CLR48  CLR49  CR34  CR35  CR36  CR37  CR38  OR45  CR39  CR40  CR41  CR42  CR43  OR55  CLR62  CLR63  CLR64  CLR65  OR46  OR54  CLR68  CLR69  CLR70  CLR71  CLR72\n",
      "  9   2  CR1  CR2  CLR3  CLR4  CR5  CR6  CR8  CR9  CR10  CR11  CR12  CR13  CR14  OR9  CLR16  CLR17  ELR2  CR15  CR16  OR12  OR13  CR17  CR18  CR19  CR20  CLR27  CLR28  CR21  CR22  CR23  CR24  CLR33  CLR34  CR25  CLR36  CR27  CLR38  CLR39  CLR40  CLR41  CLR42  CR30  CR31  CR32  CLR46  CLR47  CLR48  CLR49  CR34  CR35  CR36  CR37  CR38  OR45  CR39  CR40  CR41  CR42  CR43  OR55  CLR62  CLR63  CLR64  CLR65  OR46  OR54  CLR68  CLR69  CLR70  CLR71  CLR72\n",
      "  9   3  CR1  CR2  CLR3  CLR4  CR5  CR6  CR8  CR9  CR10  CR11  CR12  CR13  CR14  OR9  CLR16  CLR17  ELR2  CR15  CR16  OR12  OR13  CR17  CR18  CR19  CR20  CLR27  CLR28  CR21  CR22  CR23  CR24  CLR33  CLR34  CR25  CLR36  CR27  CLR38  CLR39  CLR40  CLR41  CLR42  CR30  CR31  CR32  CLR46  CLR47  CLR48  CLR49  CR34  CR35  CR36  CR37  CR38  OR45  CR39  CR40  CR41  CR42  CR43  OR55  CLR62  CLR63  CLR64  CLR65  OR46  OR54  CLR68  CLR69  CLR70  CLR71  CLR72\n",
      "  9   4  CR1  CR2  CLR3  CLR4  CR5  CR6  CR8  CR9  CR10  CR11  CR12  CR13  CR14  OR9  CLR16  CLR17  ELR2  CR15  CR16  OR12  OR13  CR17  CR18  CR19  CR20  CLR27  CLR28  CR21  CR22  CR23  CR24  CLR33  CLR34  CR25  CLR36  CR27  CLR38  CLR39  CLR40  CLR41  CLR42  CR30  CR31  CR32  CLR46  CLR47  CLR48  CLR49  CR34  CR35  CR36  CR37  CR38  OR45  CR39  CR40  CR41  CR42  CR43  OR55  CLR62  CLR63  CLR64  CLR65  OR46  OR54  CLR68  CLR69  CLR70  CLR71  CLR72\n",
      "  9   5  CR1  CR2  CLR3  CLR4  CR5  CR6  CR8  CR9  CR10  CR11  CR12  CR13  CR14  OR9  CLR16  CLR17  ELR2  CR15  CR16  OR12  OR13  CR17  CR18  CR19  CR20  CLR27  CLR28  CR21  CR22  CR23  CR24  CLR33  CLR34  CR25  CLR36  CR27  CLR38  CLR39  CLR40  CLR41  CLR42  CR30  CR31  CR32  CLR46  CLR47  CLR48  CLR49  CR34  CR35  CR36  CR37  CR38  OR45  CR39  CR40  CR41  CR42  CR43  OR55  CLR62  CLR63  CLR64  CLR65  OR46  OR54  CLR68  CLR69  CLR70  CLR71  CLR72\n",
      "  10   1  CR1  CR2  CLR3  CLR4  CR5  CR6  CR8  CR9  CR10  CR11  CR12  CR13  CR14  OR9  CLR16  CLR17  ELR2  CR15  CR16  OR12  OR13  CR17  CR18  CR19  CR20  CLR27  CLR28  CR21  CR22  CR23  CR24  CLR33  CLR34  CR25  CLR36  CR27  CLR38  CLR39  CLR40  CLR41  CLR42  CR30  CR31  CR32  CLR46  CLR47  CLR48  CLR49  CR34  CR35  CR36  CR37  CR38  OR45  CR39  CR40  CR41  CR42  CR43  OR55  CLR62  CLR63  CLR64  CLR65  OR46  OR54  CLR68  CLR69  CLR70  CLR71  CLR72\n",
      "  10   2  CR1  CR2  CLR3  CLR4  CR5  CR6  CR8  CR9  CR10  CR11  CR12  CR13  CR14  OR9  CLR16  CLR17  ELR2  CR15  CR16  OR12  OR13  CR17  CR18  CR19  CR20  CLR27  CLR28  CR21  CR22  CR23  CR24  CLR33  CLR34  CR25  CLR36  CR27  CLR38  CLR39  CLR40  CLR41  CLR42  CR30  CR31  CR32  CLR46  CLR47  CLR48  CLR49  CR34  CR35  CR36  CR37  CR38  OR45  CR39  CR40  CR41  CR42  CR43  OR55  CLR62  CLR63  CLR64  CLR65  OR46  OR54  CLR68  CLR69  CLR70  CLR71  CLR72\n",
      "  10   3  CR1  CR2  CLR3  CLR4  CR5  CR6  CR8  CR9  CR10  CR11  CR12  CR13  CR14  OR9  CLR16  CLR17  ELR2  CR15  CR16  OR12  OR13  CR17  CR18  CR19  CR20  CLR27  CLR28  CR21  CR22  CR23  CR24  CLR33  CLR34  CR25  CLR36  CR27  CLR38  CLR39  CLR40  CLR41  CLR42  CR30  CR31  CR32  CLR46  CLR47  CLR48  CLR49  CR34  CR35  CR36  CR37  CR38  OR45  CR39  CR40  CR41  CR42  CR43  OR55  CLR62  CLR63  CLR64  CLR65  OR46  OR54  CLR68  CLR69  CLR70  CLR71  CLR72\n",
      "  10   4  CR1  CR2  CLR3  CLR4  CR5  CR6  CR8  CR9  CR10  CR11  CR12  CR13  CR14  OR9  CLR16  CLR17  ELR2  CR15  CR16  OR12  OR13  CR17  CR18  CR19  CR20  CLR27  CLR28  CR21  CR22  CR23  CR24  CLR33  CLR34  CR25  CLR36  CR27  CLR38  CLR39  CLR40  CLR41  CLR42  CR30  CR31  CR32  CLR46  CLR47  CLR48  CLR49  CR34  CR35  CR36  CR37  CR38  OR45  CR39  CR40  CR41  CR42  CR43  OR55  CLR62  CLR63  CLR64  CLR65  OR46  OR54  CLR68  CLR69  CLR70  CLR71  CLR72\n",
      "  10   5  CR1  CR2  CLR3  CLR4  CR5  CR6  CR8  CR9  CR10  CR11  CR12  CR13  CR14  OR9  CLR16  CLR17  ELR2  CR15  CR16  OR12  OR13  CR17  CR18  CR19  CR20  CLR27  CLR28  CR21  CR22  CR23  CR24  CLR33  CLR34  CR25  CLR36  CR27  CLR38  CLR39  CLR40  CLR41  CLR42  CR30  CR31  CR32  CLR46  CLR47  CLR48  CLR49  CR34  CR35  CR36  CR37  CR38  OR45  CR39  CR40  CR41  CR42  CR43  OR55  CLR62  CLR63  CLR64  CLR65  OR46  OR54  CLR68  CLR69  CLR70  CLR71  CLR72\n",
      "  11   1  CR1  CR2  CLR3  CLR4  CR5  CR6  CR8  CR9  CR10  CR11  CR12  CR13  CR14  OR9  CLR16  CLR17  ELR2  CR15  CR16  OR12  OR13  CR17  CR18  CR19  CR20  CLR27  CLR28  CR21  CR22  CR23  CR24  CLR33  CLR34  CR25  CLR36  CR27  CLR38  CLR39  CLR40  CLR41  CLR42  CR30  CR31  CR32  CLR46  CLR47  CLR48  CLR49  CR34  CR35  CR36  CR37  CR38  OR45  CR39  CR40  CR41  CR42  CR43  OR55  CLR62  CLR63  CLR64  CLR65  OR46  OR54  CLR68  CLR69  CLR70  CLR71  CLR72\n",
      "  11   2  CR1  CR2  CLR3  CLR4  CR5  CR6  CR8  CR9  CR10  CR11  CR12  CR13  CR14  OR9  CLR16  CLR17  ELR2  CR15  CR16  OR12  OR13  CR17  CR18  CR19  CR20  CLR27  CLR28  CR21  CR22  CR23  CR24  CLR33  CLR34  CR25  CLR36  CR27  CLR38  CLR39  CLR40  CLR41  CLR42  CR30  CR31  CR32  CLR46  CLR47  CLR48  CLR49  CR34  CR35  CR36  CR37  CR38  OR45  CR39  CR40  CR41  CR42  CR43  OR55  CLR62  CLR63  CLR64  CLR65  OR46  OR54  CLR68  CLR69  CLR70  CLR71  CLR72\n",
      "  11   3  CR1  CR2  CLR3  CLR4  CR5  CR6  CR8  CR9  CR10  CR11  CR12  CR13  CR14  OR9  CLR16  CLR17  ELR2  CR15  CR16  OR12  OR13  CR17  CR18  CR19  CR20  CLR27  CLR28  CR21  CR22  CR23  CR24  CLR33  CLR34  CR25  CLR36  CR27  CLR38  CLR39  CLR40  CLR41  CLR42  CR30  CR31  CR32  CLR46  CLR47  CLR48  CLR49  CR34  CR35  CR36  CR37  CR38  OR45  CR39  CR40  CR41  CR42  CR43  OR55  CLR62  CLR63  CLR64  CLR65  OR46  OR54  CLR68  CLR69  CLR70  CLR71  CLR72\n",
      "  11   4  CR1  CR2  CLR3  CLR4  CR5  CR6  CR8  CR9  CR10  CR11  CR12  CR13  CR14  OR9  CLR16  CLR17  ELR2  CR15  CR16  OR12  OR13  CR17  CR18  CR19  CR20  CLR27  CLR28  CR21  CR22  CR23  CR24  CLR33  CLR34  CR25  CLR36  CR27  CLR38  CLR39  CLR40  CLR41  CLR42  CR30  CR31  CR32  CLR46  CLR47  CLR48  CLR49  CR34  CR35  CR36  CR37  CR38  OR45  CR39  CR40  CR41  CR42  CR43  OR55  CLR62  CLR63  CLR64  CLR65  OR46  OR54  CLR68  CLR69  CLR70  CLR71  CLR72\n",
      "  11   5  CR1  CR2  CLR3  CLR4  CR5  CR6  CR8  CR9  CR10  CR11  CR12  CR13  CR14  OR9  CLR16  CLR17  ELR2  CR15  CR16  OR12  OR13  CR17  CR18  CR19  CR20  CLR27  CLR28  CR21  CR22  CR23  CR24  CLR33  CLR34  CR25  CLR36  CR27  CLR38  CLR39  CLR40  CLR41  CLR42  CR30  CR31  CR32  CLR46  CLR47  CLR48  CLR49  CR34  CR35  CR36  CR37  CR38  OR45  CR39  CR40  CR41  CR42  CR43  OR55  CLR62  CLR63  CLR64  CLR65  OR46  OR54  CLR68  CLR69  CLR70  CLR71  CLR72\n",
      "  12   1  CR1  CR2  CLR3  CLR4  CR5  CR6  CR8  CR9  CR10  CR11  CR12  CR13  CR14  OR9  CLR16  CLR17  ELR2  CR15  CR16  OR12  OR13  CR17  CR18  CR19  CR20  CLR27  CLR28  CR21  CR22  CR23  CR24  CLR33  CLR34  CR25  CLR36  CR27  CLR38  CLR39  CLR40  CLR41  CLR42  CR30  CR31  CR32  CLR46  CLR47  CLR48  CLR49  CR34  CR35  CR36  CR37  CR38  OR45  CR39  CR40  CR41  CR42  CR43  OR55  CLR62  CLR63  CLR64  CLR65  OR46  OR54  CLR68  CLR69  CLR70  CLR71  CLR72\n",
      "  12   2  CR1  CR2  CLR3  CLR4  CR5  CR6  CR8  CR9  CR10  CR11  CR12  CR13  CR14  OR9  CLR16  CLR17  ELR2  CR15  CR16  OR12  OR13  CR17  CR18  CR19  CR20  CLR27  CLR28  CR21  CR22  CR23  CR24  CLR33  CLR34  CR25  CLR36  CR27  CLR38  CLR39  CLR40  CLR41  CLR42  CR30  CR31  CR32  CLR46  CLR47  CLR48  CLR49  CR34  CR35  CR36  CR37  CR38  OR45  CR39  CR40  CR41  CR42  CR43  OR55  CLR62  CLR63  CLR64  CLR65  OR46  OR54  CLR68  CLR69  CLR70  CLR71  CLR72\n",
      "  12   3  CR1  CR2  CLR3  CLR4  CR5  CR6  CR8  CR9  CR10  CR11  CR12  CR13  CR14  OR9  CLR16  CLR17  ELR2  CR15  CR16  OR12  OR13  CR17  CR18  CR19  CR20  CLR27  CLR28  CR21  CR22  CR23  CR24  CLR33  CLR34  CR25  CLR36  CR27  CLR38  CLR39  CLR40  CLR41  CLR42  CR30  CR31  CR32  CLR46  CLR47  CLR48  CLR49  CR34  CR35  CR36  CR37  CR38  OR45  CR39  CR40  CR41  CR42  CR43  OR55  CLR62  CLR63  CLR64  CLR65  OR46  OR54  CLR68  CLR69  CLR70  CLR71  CLR72\n",
      "  12   4  CR1  CR2  CLR3  CLR4  CR5  CR6  CR8  CR9  CR10  CR11  CR12  CR13  CR14  OR9  CLR16  CLR17  ELR2  CR15  CR16  OR12  OR13  CR17  CR18  CR19  CR20  CLR27  CLR28  CR21  CR22  CR23  CR24  CLR33  CLR34  CR25  CLR36  CR27  CLR38  CLR39  CLR40  CLR41  CLR42  CR30  CR31  CR32  CLR46  CLR47  CLR48  CLR49  CR34  CR35  CR36  CR37  CR38  OR45  CR39  CR40  CR41  CR42  CR43  OR55  CLR62  CLR63  CLR64  CLR65  OR46  OR54  CLR68  CLR69  CLR70  CLR71  CLR72\n",
      "  12   5  CR1  CR2  CLR3  CLR4  CR5  CR6  CR8  CR9  CR10  CR11  CR12  CR13  CR14  OR9  CLR16  CLR17  ELR2  CR15  CR16  OR12  OR13  CR17  CR18  CR19  CR20  CLR27  CLR28  CR21  CR22  CR23  CR24  CLR33  CLR34  CR25  CLR36  CR27  CLR38  CLR39  CLR40  CLR41  CLR42  CR30  CR31  CR32  CLR46  CLR47  CLR48  CLR49  CR34  CR35  CR36  CR37  CR38  OR45  CR39  CR40  CR41  CR42  CR43  OR55  CLR62  CLR63  CLR64  CLR65  OR46  OR54  CLR68  CLR69  CLR70  CLR71  CLR72\n",
      "  13   1  CR1  CR2  CLR3  CLR4  CR5  CR6  CR8  CR9  CR10  CR11  CR12  CR13  CR14  OR9  CLR16  CLR17  ELR2  CR15  CR16  OR12  OR13  CR17  CR18  CR19  CR20  CLR27  CLR28  CR21  CR22  CR23  CR24  CLR33  CLR34  CR25  CLR36  CR27  CLR38  CLR39  CLR40  CLR41  CLR42  CR30  CR31  CR32  CLR46  CLR47  CLR48  CLR49  CR34  CR35  CR36  CR37  CR38  OR45  CR39  CR40  CR41  CR42  CR43  OR55  CLR62  CLR63  CLR64  CLR65  OR46  OR54  CLR68  CLR69  CLR70  CLR71  CLR72\n",
      "  13   2  CR1  CR2  CLR3  CLR4  CR5  CR6  CR8  CR9  CR10  CR11  CR12  CR13  CR14  OR9  CLR16  CLR17  ELR2  CR15  CR16  OR12  OR13  CR17  CR18  CR19  CR20  CLR27  CLR28  CR21  CR22  CR23  CR24  CLR33  CLR34  CR25  CLR36  CR27  CLR38  CLR39  CLR40  CLR41  CLR42  CR30  CR31  CR32  CLR46  CLR47  CLR48  CLR49  CR34  CR35  CR36  CR37  CR38  OR45  CR39  CR40  CR41  CR42  CR43  OR55  CLR62  CLR63  CLR64  CLR65  OR46  OR54  CLR68  CLR69  CLR70  CLR71  CLR72\n",
      "  13   3  CR1  CR2  CLR3  CLR4  CR5  CR6  CR8  CR9  CR10  CR11  CR12  CR13  CR14  OR9  CLR16  CLR17  ELR2  CR15  CR16  OR12  OR13  CR17  CR18  CR19  CR20  CLR27  CLR28  CR21  CR22  CR23  CR24  CLR33  CLR34  CR25  CLR36  CR27  CLR38  CLR39  CLR40  CLR41  CLR42  CR30  CR31  CR32  CLR46  CLR47  CLR48  CLR49  CR34  CR35  CR36  CR37  CR38  OR45  CR39  CR40  CR41  CR42  CR43  OR55  CLR62  CLR63  CLR64  CLR65  OR46  OR54  CLR68  CLR69  CLR70  CLR71  CLR72\n",
      "  13   4  CR1  CR2  CLR3  CLR4  CR5  CR6  CR8  CR9  CR10  CR11  CR12  CR13  CR14  OR9  CLR16  CLR17  ELR2  CR15  CR16  OR12  OR13  CR17  CR18  CR19  CR20  CLR27  CLR28  CR21  CR22  CR23  CR24  CLR33  CLR34  CR25  CLR36  CR27  CLR38  CLR39  CLR40  CLR41  CLR42  CR30  CR31  CR32  CLR46  CLR47  CLR48  CLR49  CR34  CR35  CR36  CR37  CR38  OR45  CR39  CR40  CR41  CR42  CR43  OR55  CLR62  CLR63  CLR64  CLR65  OR46  OR54  CLR68  CLR69  CLR70  CLR71  CLR72\n",
      "  13   5  CR1  CR2  CLR3  CLR4  CR5  CR6  CR8  CR9  CR10  CR11  CR12  CR13  CR14  OR9  CLR16  CLR17  ELR2  CR15  CR16  OR12  OR13  CR17  CR18  CR19  CR20  CLR27  CLR28  CR21  CR22  CR23  CR24  CLR33  CLR34  CR25  CLR36  CR27  CLR38  CLR39  CLR40  CLR41  CLR42  CR30  CR31  CR32  CLR46  CLR47  CLR48  CLR49  CR34  CR35  CR36  CR37  CR38  OR45  CR39  CR40  CR41  CR42  CR43  OR55  CLR62  CLR63  CLR64  CLR65  OR46  OR54  CLR68  CLR69  CLR70  CLR71  CLR72\n",
      "  14   1  CR1  CR2  CLR3  CLR4  CR5  CR6  CR8  CR9  CR10  CR11  CR12  CR13  CR14  OR9  CLR16  CLR17  ELR2  CR15  CR16  OR12  OR13  CR17  CR18  CR19  CR20  CLR27  CLR28  CR21  CR22  CR23  CR24  CLR33  CLR34  CR25  CLR36  CR27  CLR38  CLR39  CLR40  CLR41  CLR42  CR30  CR31  CR32  CLR46  CLR47  CLR48  CLR49  CR34  CR35  CR36  CR37  CR38  OR45  CR39  CR40  CR41  CR42  CR43  OR55  CLR62  CLR63  CLR64  CLR65  OR46  OR54  CLR68  CLR69  CLR70  CLR71  CLR72\n",
      "  14   2  CR1  CR2  CLR3  CLR4  CR5  CR6  CR8  CR9  CR10  CR11  CR12  CR13  CR14  OR9  CLR16  CLR17  ELR2  CR15  CR16  OR12  OR13  CR17  CR18  CR19  CR20  CLR27  CLR28  CR21  CR22  CR23  CR24  CLR33  CLR34  CR25  CLR36  CR27  CLR38  CLR39  CLR40  CLR41  CLR42  CR30  CR31  CR32  CLR46  CLR47  CLR48  CLR49  CR34  CR35  CR36  CR37  CR38  OR45  CR39  CR40  CR41  CR42  CR43  OR55  CLR62  CLR63  CLR64  CLR65  OR46  OR54  CLR68  CLR69  CLR70  CLR71  CLR72\n",
      "  14   3  CR1  CR2  CLR3  CLR4  CR5  CR6  CR8  CR9  CR10  CR11  CR12  CR13  CR14  OR9  CLR16  CLR17  ELR2  CR15  CR16  OR12  OR13  CR17  CR18  CR19  CR20  CLR27  CLR28  CR21  CR22  CR23  CR24  CLR33  CLR34  CR25  CLR36  CR27  CLR38  CLR39  CLR40  CLR41  CLR42  CR30  CR31  CR32  CLR46  CLR47  CLR48  CLR49  CR34  CR35  CR36  CR37  CR38  OR45  CR39  CR40  CR41  CR42  CR43  OR55  CLR62  CLR63  CLR64  CLR65  OR46  OR54  CLR68  CLR69  CLR70  CLR71  CLR72\n",
      "  14   4  CR1  CR2  CLR3  CLR4  CR5  CR6  CR8  CR9  CR10  CR11  CR12  CR13  CR14  OR9  CLR16  CLR17  ELR2  CR15  CR16  OR12  OR13  CR17  CR18  CR19  CR20  CLR27  CLR28  CR21  CR22  CR23  CR24  CLR33  CLR34  CR25  CLR36  CR27  CLR38  CLR39  CLR40  CLR41  CLR42  CR30  CR31  CR32  CLR46  CLR47  CLR48  CLR49  CR34  CR35  CR36  CR37  CR38  OR45  CR39  CR40  CR41  CR42  CR43  OR55  CLR62  CLR63  CLR64  CLR65  OR46  OR54  CLR68  CLR69  CLR70  CLR71  CLR72\n",
      "  14   5  CR1  CR2  CLR3  CLR4  CR5  CR6  CR8  CR9  CR10  CR11  CR12  CR13  CR14  OR9  CLR16  CLR17  ELR2  CR15  CR16  OR12  OR13  CR17  CR18  CR19  CR20  CLR27  CLR28  CR21  CR22  CR23  CR24  CLR33  CLR34  CR25  CLR36  CR27  CLR38  CLR39  CLR40  CLR41  CLR42  CR30  CR31  CR32  CLR46  CLR47  CLR48  CLR49  CR34  CR35  CR36  CR37  CR38  OR45  CR39  CR40  CR41  CR42  CR43  OR55  CLR62  CLR63  CLR64  CLR65  OR46  OR54  CLR68  CLR69  CLR70  CLR71  CLR72\n",
      "  15   1  CR1  CR2  CLR3  CLR4  CR5  CR6  CR8  CR9  CR10  CR11  CR12  CR13  CR14  OR9  CLR16  CLR17  ELR2  CR15  CR16  OR12  OR13  CR17  CR18  CR19  CR20  CLR27  CLR28  CR21  CR22  CR23  CR24  CLR33  CLR34  CR25  CLR36  CR27  CLR38  CLR39  CLR40  CLR41  CLR42  CR30  CR31  CR32  CLR46  CLR47  CLR48  CLR49  CR34  CR35  CR36  CR37  CR38  OR45  CR39  CR40  CR41  CR42  CR43  OR55  CLR62  CLR63  CLR64  CLR65  OR46  OR54  CLR68  CLR69  CLR70  CLR71  CLR72\n",
      "  15   2  CR1  CR2  CLR3  CLR4  CR5  CR6  CR8  CR9  CR10  CR11  CR12  CR13  CR14  OR9  CLR16  CLR17  ELR2  CR15  CR16  OR12  OR13  CR17  CR18  CR19  CR20  CLR27  CLR28  CR21  CR22  CR23  CR24  CLR33  CLR34  CR25  CLR36  CR27  CLR38  CLR39  CLR40  CLR41  CLR42  CR30  CR31  CR32  CLR46  CLR47  CLR48  CLR49  CR34  CR35  CR36  CR37  CR38  OR45  CR39  CR40  CR41  CR42  CR43  OR55  CLR62  CLR63  CLR64  CLR65  OR46  OR54  CLR68  CLR69  CLR70  CLR71  CLR72\n",
      "  15   3  CR1  CR2  CLR3  CLR4  CR5  CR6  CR8  CR9  CR10  CR11  CR12  CR13  CR14  OR9  CLR16  CLR17  ELR2  CR15  CR16  OR12  OR13  CR17  CR18  CR19  CR20  CLR27  CLR28  CR21  CR22  CR23  CR24  CLR33  CLR34  CR25  CLR36  CR27  CLR38  CLR39  CLR40  CLR41  CLR42  CR30  CR31  CR32  CLR46  CLR47  CLR48  CLR49  CR34  CR35  CR36  CR37  CR38  OR45  CR39  CR40  CR41  CR42  CR43  OR55  CLR62  CLR63  CLR64  CLR65  OR46  OR54  CLR68  CLR69  CLR70  CLR71  CLR72\n",
      "  15   4  CR1  CR2  CLR3  CLR4  CR5  CR6  CR8  CR9  CR10  CR11  CR12  CR13  CR14  OR9  CLR16  CLR17  ELR2  CR15  CR16  OR12  OR13  CR17  CR18  CR19  CR20  CLR27  CLR28  CR21  CR22  CR23  CR24  CLR33  CLR34  CR25  CLR36  CR27  CLR38  CLR39  CLR40  CLR41  CLR42  CR30  CR31  CR32  CLR46  CLR47  CLR48  CLR49  CR34  CR35  CR36  CR37  CR38  OR45  CR39  CR40  CR41  CR42  CR43  OR55  CLR62  CLR63  CLR64  CLR65  OR46  OR54  CLR68  CLR69  CLR70  CLR71  CLR72\n",
      "  15   5  CR1  CR2  CLR3  CLR4  CR5  CR6  CR8  CR9  CR10  CR11  CR12  CR13  CR14  OR9  CLR16  CLR17  ELR2  CR15  CR16  OR12  OR13  CR17  CR18  CR19  CR20  CLR27  CLR28  CR21  CR22  CR23  CR24  CLR33  CLR34  CR25  CLR36  CR27  CLR38  CLR39  CLR40  CLR41  CLR42  CR30  CR31  CR32  CLR46  CLR47  CLR48  CLR49  CR34  CR35  CR36  CR37  CR38  OR45  CR39  CR40  CR41  CR42  CR43  OR55  CLR62  CLR63  CLR64  CLR65  OR46  OR54  CLR68  CLR69  CLR70  CLR71  CLR72\n",
      "  16   1  CR1  CR2  CLR3  CLR4  CR5  CR6  CR8  CR9  CR10  CR11  CR12  CR13  CR14  OR9  CLR16  CLR17  ELR2  CR15  CR16  OR12  OR13  CR17  CR18  CR19  CR20  CLR27  CLR28  CR21  CR22  CR23  CR24  CLR33  CLR34  CR25  CLR36  CR27  CLR38  CLR39  CLR40  CLR41  CLR42  CR30  CR31  CR32  CLR46  CLR47  CLR48  CLR49  CR34  CR35  CR36  CR37  CR38  OR45  CR39  CR40  CR41  CR42  CR43  OR55  CLR62  CLR63  CLR64  CLR65  OR46  OR54  CLR68  CLR69  CLR70  CLR71  CLR72\n",
      "  16   2  CR1  CR2  CLR3  CLR4  CR5  CR6  CR8  CR9  CR10  CR11  CR12  CR13  CR14  OR9  CLR16  CLR17  ELR2  CR15  CR16  OR12  OR13  CR17  CR18  CR19  CR20  CLR27  CLR28  CR21  CR22  CR23  CR24  CLR33  CLR34  CR25  CLR36  CR27  CLR38  CLR39  CLR40  CLR41  CLR42  CR30  CR31  CR32  CLR46  CLR47  CLR48  CLR49  CR34  CR35  CR36  CR37  CR38  OR45  CR39  CR40  CR41  CR42  CR43  OR55  CLR62  CLR63  CLR64  CLR65  OR46  OR54  CLR68  CLR69  CLR70  CLR71  CLR72\n",
      "  16   3  CR1  CR2  CLR3  CLR4  CR5  CR6  CR8  CR9  CR10  CR11  CR12  CR13  CR14  OR9  CLR16  CLR17  ELR2  CR15  CR16  OR12  OR13  CR17  CR18  CR19  CR20  CLR27  CLR28  CR21  CR22  CR23  CR24  CLR33  CLR34  CR25  CLR36  CR27  CLR38  CLR39  CLR40  CLR41  CLR42  CR30  CR31  CR32  CLR46  CLR47  CLR48  CLR49  CR34  CR35  CR36  CR37  CR38  OR45  CR39  CR40  CR41  CR42  CR43  OR55  CLR62  CLR63  CLR64  CLR65  OR46  OR54  CLR68  CLR69  CLR70  CLR71  CLR72\n",
      "  16   4  CR1  CR2  CLR3  CLR4  CR5  CR6  CR8  CR9  CR10  CR11  CR12  CR13  CR14  OR9  CLR16  CLR17  ELR2  CR15  CR16  OR12  OR13  CR17  CR18  CR19  CR20  CLR27  CLR28  CR21  CR22  CR23  CR24  CLR33  CLR34  CR25  CLR36  CR27  CLR38  CLR39  CLR40  CLR41  CLR42  CR30  CR31  CR32  CLR46  CLR47  CLR48  CLR49  CR34  CR35  CR36  CR37  CR38  OR45  CR39  CR40  CR41  CR42  CR43  OR55  CLR62  CLR63  CLR64  CLR65  OR46  OR54  CLR68  CLR69  CLR70  CLR71  CLR72\n",
      "  16   5  CR1  CR2  CLR3  CLR4  CR5  CR6  CR8  CR9  CR10  CR11  CR12  CR13  CR14  OR9  CLR16  CLR17  ELR2  CR15  CR16  OR12  OR13  CR17  CR18  CR19  CR20  CLR27  CLR28  CR21  CR22  CR23  CR24  CLR33  CLR34  CR25  CLR36  CR27  CLR38  CLR39  CLR40  CLR41  CLR42  CR30  CR31  CR32  CLR46  CLR47  CLR48  CLR49  CR34  CR35  CR36  CR37  CR38  OR45  CR39  CR40  CR41  CR42  CR43  OR55  CLR62  CLR63  CLR64  CLR65  OR46  OR54  CLR68  CLR69  CLR70  CLR71  CLR72\n",
      "  17   1  CR1  CR2  CLR3  CLR4  CR5  CR6  CR8  CR9  CR10  CR11  CR12  CR13  CR14  OR9  CLR16  CLR17  ELR2  CR15  CR16  OR12  OR13  CR17  CR18  CR19  CR20  CLR27  CLR28  CR21  CR22  CR23  CR24  CLR33  CLR34  CR25  CLR36  CR27  CLR38  CLR39  CLR40  CLR41  CLR42  CR30  CR31  CR32  CLR46  CLR47  CLR48  CLR49  CR34  CR35  CR36  CR37  CR38  OR45  CR39  CR40  CR41  CR42  CR43  OR55  CLR62  CLR63  CLR64  CLR65  OR46  OR54  CLR68  CLR69  CLR70  CLR71  CLR72\n",
      "  17   2  CR1  CR2  CLR3  CLR4  CR5  CR6  CR8  CR9  CR10  CR11  CR12  CR13  CR14  OR9  CLR16  CLR17  ELR2  CR15  CR16  OR12  OR13  CR17  CR18  CR19  CR20  CLR27  CLR28  CR21  CR22  CR23  CR24  CLR33  CLR34  CR25  CLR36  CR27  CLR38  CLR39  CLR40  CLR41  CLR42  CR30  CR31  CR32  CLR46  CLR47  CLR48  CLR49  CR34  CR35  CR36  CR37  CR38  OR45  CR39  CR40  CR41  CR42  CR43  OR55  CLR62  CLR63  CLR64  CLR65  OR46  OR54  CLR68  CLR69  CLR70  CLR71  CLR72\n",
      "  17   3  CR1  CR2  CLR3  CLR4  CR5  CR6  CR8  CR9  CR10  CR11  CR12  CR13  CR14  OR9  CLR16  CLR17  ELR2  CR15  CR16  OR12  OR13  CR17  CR18  CR19  CR20  CLR27  CLR28  CR21  CR22  CR23  CR24  CLR33  CLR34  CR25  CLR36  CR27  CLR38  CLR39  CLR40  CLR41  CLR42  CR30  CR31  CR32  CLR46  CLR47  CLR48  CLR49  CR34  CR35  CR36  CR37  CR38  OR45  CR39  CR40  CR41  CR42  CR43  OR55  CLR62  CLR63  CLR64  CLR65  OR46  OR54  CLR68  CLR69  CLR70  CLR71  CLR72\n",
      "  17   4  CR1  CR2  CLR3  CLR4  CR5  CR6  CR8  CR9  CR10  CR11  CR12  CR13  CR14  OR9  CLR16  CLR17  ELR2  CR15  CR16  OR12  OR13  CR17  CR18  CR19  CR20  CLR27  CLR28  CR21  CR22  CR23  CR24  CLR33  CLR34  CR25  CLR36  CR27  CLR38  CLR39  CLR40  CLR41  CLR42  CR30  CR31  CR32  CLR46  CLR47  CLR48  CLR49  CR34  CR35  CR36  CR37  CR38  OR45  CR39  CR40  CR41  CR42  CR43  OR55  CLR62  CLR63  CLR64  CLR65  OR46  OR54  CLR68  CLR69  CLR70  CLR71  CLR72\n",
      "  17   5  CR1  CR2  CLR3  CLR4  CR5  CR6  CR8  CR9  CR10  CR11  CR12  CR13  CR14  OR9  CLR16  CLR17  ELR2  CR15  CR16  OR12  OR13  CR17  CR18  CR19  CR20  CLR27  CLR28  CR21  CR22  CR23  CR24  CLR33  CLR34  CR25  CLR36  CR27  CLR38  CLR39  CLR40  CLR41  CLR42  CR30  CR31  CR32  CLR46  CLR47  CLR48  CLR49  CR34  CR35  CR36  CR37  CR38  OR45  CR39  CR40  CR41  CR42  CR43  OR55  CLR62  CLR63  CLR64  CLR65  OR46  OR54  CLR68  CLR69  CLR70  CLR71  CLR72\n",
      "  18   1  CR1  CR2  CLR3  CLR4  CR5  CR6  CR8  CR9  CR10  CR11  CR12  CR13  CR14  OR9  CLR16  CLR17  ELR2  CR15  CR16  OR12  OR13  CR17  CR18  CR19  CR20  CLR27  CLR28  CR21  CR22  CR23  CR24  CLR33  CLR34  CR25  CLR36  CR27  CLR38  CLR39  CLR40  CLR41  CLR42  CR30  CR31  CR32  CLR46  CLR47  CLR48  CLR49  CR34  CR35  CR36  CR37  CR38  OR45  CR39  CR40  CR41  CR42  CR43  OR55  CLR62  CLR63  CLR64  CLR65  OR46  OR54  CLR68  CLR69  CLR70  CLR71  CLR72\n",
      "  18   2  CR1  CR2  CLR3  CLR4  CR5  CR6  CR8  CR9  CR10  CR11  CR12  CR13  CR14  OR9  CLR16  CLR17  ELR2  CR15  CR16  OR12  OR13  CR17  CR18  CR19  CR20  CLR27  CLR28  CR21  CR22  CR23  CR24  CLR33  CLR34  CR25  CLR36  CR27  CLR38  CLR39  CLR40  CLR41  CLR42  CR30  CR31  CR32  CLR46  CLR47  CLR48  CLR49  CR34  CR35  CR36  CR37  CR38  OR45  CR39  CR40  CR41  CR42  CR43  OR55  CLR62  CLR63  CLR64  CLR65  OR46  OR54  CLR68  CLR69  CLR70  CLR71  CLR72\n",
      "  18   3  CR1  CR2  CLR3  CLR4  CR5  CR6  CR8  CR9  CR10  CR11  CR12  CR13  CR14  OR9  CLR16  CLR17  ELR2  CR15  CR16  OR12  OR13  CR17  CR18  CR19  CR20  CLR27  CLR28  CR21  CR22  CR23  CR24  CLR33  CLR34  CR25  CLR36  CR27  CLR38  CLR39  CLR40  CLR41  CLR42  CR30  CR31  CR32  CLR46  CLR47  CLR48  CLR49  CR34  CR35  CR36  CR37  CR38  OR45  CR39  CR40  CR41  CR42  CR43  OR55  CLR62  CLR63  CLR64  CLR65  OR46  OR54  CLR68  CLR69  CLR70  CLR71  CLR72\n",
      "  18   4  CR1  CR2  CLR3  CLR4  CR5  CR6  CR8  CR9  CR10  CR11  CR12  CR13  CR14  OR9  CLR16  CLR17  ELR2  CR15  CR16  OR12  OR13  CR17  CR18  CR19  CR20  CLR27  CLR28  CR21  CR22  CR23  CR24  CLR33  CLR34  CR25  CLR36  CR27  CLR38  CLR39  CLR40  CLR41  CLR42  CR30  CR31  CR32  CLR46  CLR47  CLR48  CLR49  CR34  CR35  CR36  CR37  CR38  OR45  CR39  CR40  CR41  CR42  CR43  OR55  CLR62  CLR63  CLR64  CLR65  OR46  OR54  CLR68  CLR69  CLR70  CLR71  CLR72\n",
      "  18   5  CR1  CR2  CLR3  CLR4  CR5  CR6  CR8  CR9  CR10  CR11  CR12  CR13  CR14  OR9  CLR16  CLR17  ELR2  CR15  CR16  OR12  OR13  CR17  CR18  CR19  CR20  CLR27  CLR28  CR21  CR22  CR23  CR24  CLR33  CLR34  CR25  CLR36  CR27  CLR38  CLR39  CLR40  CLR41  CLR42  CR30  CR31  CR32  CLR46  CLR47  CLR48  CLR49  CR34  CR35  CR36  CR37  CR38  OR45  CR39  CR40  CR41  CR42  CR43  OR55  CLR62  CLR63  CLR64  CLR65  OR46  OR54  CLR68  CLR69  CLR70  CLR71  CLR72\n",
      "  19   1  CR1  CR2  CLR3  CLR4  CR5  CR6  CR8  CR9  CR10  CR11  CR12  CR13  CR14  OR9  CLR16  CLR17  ELR2  CR15  CR16  OR12  OR13  CR17  CR18  CR19  CR20  CLR27  CLR28  CR21  CR22  CR23  CR24  CLR33  CLR34  CR25  CLR36  CR27  CLR38  CLR39  CLR40  CLR41  CLR42  CR30  CR31  CR32  CLR46  CLR47  CLR48  CLR49  CR34  CR35  CR36  CR37  CR38  OR45  CR39  CR40  CR41  CR42  CR43  OR55  CLR62  CLR63  CLR64  CLR65  OR46  OR54  CLR68  CLR69  CLR70  CLR71  CLR72\n",
      "  19   2  CR1  CR2  CLR3  CLR4  CR5  CR6  CR8  CR9  CR10  CR11  CR12  CR13  CR14  OR9  CLR16  CLR17  ELR2  CR15  CR16  OR12  OR13  CR17  CR18  CR19  CR20  CLR27  CLR28  CR21  CR22  CR23  CR24  CLR33  CLR34  CR25  CLR36  CR27  CLR38  CLR39  CLR40  CLR41  CLR42  CR30  CR31  CR32  CLR46  CLR47  CLR48  CLR49  CR34  CR35  CR36  CR37  CR38  OR45  CR39  CR40  CR41  CR42  CR43  OR55  CLR62  CLR63  CLR64  CLR65  OR46  OR54  CLR68  CLR69  CLR70  CLR71  CLR72\n",
      "  19   3  CR1  CR2  CLR3  CLR4  CR5  CR6  CR8  CR9  CR10  CR11  CR12  CR13  CR14  OR9  CLR16  CLR17  ELR2  CR15  CR16  OR12  OR13  CR17  CR18  CR19  CR20  CLR27  CLR28  CR21  CR22  CR23  CR24  CLR33  CLR34  CR25  CLR36  CR27  CLR38  CLR39  CLR40  CLR41  CLR42  CR30  CR31  CR32  CLR46  CLR47  CLR48  CLR49  CR34  CR35  CR36  CR37  CR38  OR45  CR39  CR40  CR41  CR42  CR43  OR55  CLR62  CLR63  CLR64  CLR65  OR46  OR54  CLR68  CLR69  CLR70  CLR71  CLR72\n",
      "  19   4  CR1  CR2  CLR3  CLR4  CR5  CR6  CR8  CR9  CR10  CR11  CR12  CR13  CR14  OR9  CLR16  CLR17  ELR2  CR15  CR16  OR12  OR13  CR17  CR18  CR19  CR20  CLR27  CLR28  CR21  CR22  CR23  CR24  CLR33  CLR34  CR25  CLR36  CR27  CLR38  CLR39  CLR40  CLR41  CLR42  CR30  CR31  CR32  CLR46  CLR47  CLR48  CLR49  CR34  CR35  CR36  CR37  CR38  OR45  CR39  CR40  CR41  CR42  CR43  OR55  CLR62  CLR63  CLR64  CLR65  OR46  OR54  CLR68  CLR69  CLR70  CLR71  CLR72\n",
      "  19   5  CR1  CR2  CLR3  CLR4  CR5  CR6  CR8  CR9  CR10  CR11  CR12  CR13  CR14  OR9  CLR16  CLR17  ELR2  CR15  CR16  OR12  OR13  CR17  CR18  CR19  CR20  CLR27  CLR28  CR21  CR22  CR23  CR24  CLR33  CLR34  CR25  CLR36  CR27  CLR38  CLR39  CLR40  CLR41  CLR42  CR30  CR31  CR32  CLR46  CLR47  CLR48  CLR49  CR34  CR35  CR36  CR37  CR38  OR45  CR39  CR40  CR41  CR42  CR43  OR55  CLR62  CLR63  CLR64  CLR65  OR46  OR54  CLR68  CLR69  CLR70  CLR71  CLR72\n",
      "  20   1  CR1  CR2  CLR3  CLR4  CR5  CR6  CR8  CR9  CR10  CR11  CR12  CR13  CR14  OR9  CLR16  CLR17  ELR2  CR15  CR16  OR12  OR13  CR17  CR18  CR19  CR20  CLR27  CLR28  CR21  CR22  CR23  CR24  CLR33  CLR34  CR25  CLR36  CR27  CLR38  CLR39  CLR40  CLR41  CLR42  CR30  CR31  CR32  CLR46  CLR47  CLR48  CLR49  CR34  CR35  CR36  CR37  CR38  OR45  CR39  CR40  CR41  CR42  CR43  OR55  CLR62  CLR63  CLR64  CLR65  OR46  OR54  CLR68  CLR69  CLR70  CLR71  CLR72\n",
      "  20   2  CR1  CR2  CLR3  CLR4  CR5  CR6  CR8  CR9  CR10  CR11  CR12  CR13  CR14  OR9  CLR16  CLR17  ELR2  CR15  CR16  OR12  OR13  CR17  CR18  CR19  CR20  CLR27  CLR28  CR21  CR22  CR23  CR24  CLR33  CLR34  CR25  CLR36  CR27  CLR38  CLR39  CLR40  CLR41  CLR42  CR30  CR31  CR32  CLR46  CLR47  CLR48  CLR49  CR34  CR35  CR36  CR37  CR38  OR45  CR39  CR40  CR41  CR42  CR43  OR55  CLR62  CLR63  CLR64  CLR65  OR46  OR54  CLR68  CLR69  CLR70  CLR71  CLR72\n",
      "  20   3  CR1  CR2  CLR3  CLR4  CR5  CR6  CR8  CR9  CR10  CR11  CR12  CR13  CR14  OR9  CLR16  CLR17  ELR2  CR15  CR16  OR12  OR13  CR17  CR18  CR19  CR20  CLR27  CLR28  CR21  CR22  CR23  CR24  CLR33  CLR34  CR25  CLR36  CR27  CLR38  CLR39  CLR40  CLR41  CLR42  CR30  CR31  CR32  CLR46  CLR47  CLR48  CLR49  CR34  CR35  CR36  CR37  CR38  OR45  CR39  CR40  CR41  CR42  CR43  OR55  CLR62  CLR63  CLR64  CLR65  OR46  OR54  CLR68  CLR69  CLR70  CLR71  CLR72\n",
      "  20   4  CR1  CR2  CLR3  CLR4  CR5  CR6  CR8  CR9  CR10  CR11  CR12  CR13  CR14  OR9  CLR16  CLR17  ELR2  CR15  CR16  OR12  OR13  CR17  CR18  CR19  CR20  CLR27  CLR28  CR21  CR22  CR23  CR24  CLR33  CLR34  CR25  CLR36  CR27  CLR38  CLR39  CLR40  CLR41  CLR42  CR30  CR31  CR32  CLR46  CLR47  CLR48  CLR49  CR34  CR35  CR36  CR37  CR38  OR45  CR39  CR40  CR41  CR42  CR43  OR55  CLR62  CLR63  CLR64  CLR65  OR46  OR54  CLR68  CLR69  CLR70  CLR71  CLR72\n",
      "  20   5  CR1  CR2  CLR3  CLR4  CR5  CR6  CR8  CR9  CR10  CR11  CR12  CR13  CR14  OR9  CLR16  CLR17  ELR2  CR15  CR16  OR12  OR13  CR17  CR18  CR19  CR20  CLR27  CLR28  CR21  CR22  CR23  CR24  CLR33  CLR34  CR25  CLR36  CR27  CLR38  CLR39  CLR40  CLR41  CLR42  CR30  CR31  CR32  CLR46  CLR47  CLR48  CLR49  CR34  CR35  CR36  CR37  CR38  OR45  CR39  CR40  CR41  CR42  CR43  OR55  CLR62  CLR63  CLR64  CLR65  OR46  OR54  CLR68  CLR69  CLR70  CLR71  CLR72\n",
      "  21   1  CR1  CR2  CLR3  CLR4  CR5  CR6  CR8  CR9  CR10  CR11  CR12  CR13  CR14  OR9  CLR16  CLR17  ELR2  CR15  CR16  OR12  OR13  CR17  CR18  CR19  CR20  CLR27  CLR28  CR21  CR22  CR23  CR24  CLR33  CLR34  CR25  CLR36  CR27  CLR38  CLR39  CLR40  CLR41  CLR42  CR30  CR31  CR32  CLR46  CLR47  CLR48  CLR49  CR34  CR35  CR36  CR37  CR38  OR45  CR39  CR40  CR41  CR42  CR43  OR55  CLR62  CLR63  CLR64  CLR65  OR46  OR54  CLR68  CLR69  CLR70  CLR71  CLR72\n",
      "  21   2  CR1  CR2  CLR3  CLR4  CR5  CR6  CR8  CR9  CR10  CR11  CR12  CR13  CR14  OR9  CLR16  CLR17  ELR2  CR15  CR16  OR12  OR13  CR17  CR18  CR19  CR20  CLR27  CLR28  CR21  CR22  CR23  CR24  CLR33  CLR34  CR25  CLR36  CR27  CLR38  CLR39  CLR40  CLR41  CLR42  CR30  CR31  CR32  CLR46  CLR47  CLR48  CLR49  CR34  CR35  CR36  CR37  CR38  OR45  CR39  CR40  CR41  CR42  CR43  OR55  CLR62  CLR63  CLR64  CLR65  OR46  OR54  CLR68  CLR69  CLR70  CLR71  CLR72\n",
      "  21   3  CR1  CR2  CLR3  CLR4  CR5  CR6  CR8  CR9  CR10  CR11  CR12  CR13  CR14  OR9  CLR16  CLR17  ELR2  CR15  CR16  OR12  OR13  CR17  CR18  CR19  CR20  CLR27  CLR28  CR21  CR22  CR23  CR24  CLR33  CLR34  CR25  CLR36  CR27  CLR38  CLR39  CLR40  CLR41  CLR42  CR30  CR31  CR32  CLR46  CLR47  CLR48  CLR49  CR34  CR35  CR36  CR37  CR38  OR45  CR39  CR40  CR41  CR42  CR43  OR55  CLR62  CLR63  CLR64  CLR65  OR46  OR54  CLR68  CLR69  CLR70  CLR71  CLR72\n",
      "  21   4  CR1  CR2  CLR3  CLR4  CR5  CR6  CR8  CR9  CR10  CR11  CR12  CR13  CR14  OR9  CLR16  CLR17  ELR2  CR15  CR16  OR12  OR13  CR17  CR18  CR19  CR20  CLR27  CLR28  CR21  CR22  CR23  CR24  CLR33  CLR34  CR25  CLR36  CR27  CLR38  CLR39  CLR40  CLR41  CLR42  CR30  CR31  CR32  CLR46  CLR47  CLR48  CLR49  CR34  CR35  CR36  CR37  CR38  OR45  CR39  CR40  CR41  CR42  CR43  OR55  CLR62  CLR63  CLR64  CLR65  OR46  OR54  CLR68  CLR69  CLR70  CLR71  CLR72\n",
      "  21   5  CR1  CR2  CLR3  CLR4  CR5  CR6  CR8  CR9  CR10  CR11  CR12  CR13  CR14  OR9  CLR16  CLR17  ELR2  CR15  CR16  OR12  OR13  CR17  CR18  CR19  CR20  CLR27  CLR28  CR21  CR22  CR23  CR24  CLR33  CLR34  CR25  CLR36  CR27  CLR38  CLR39  CLR40  CLR41  CLR42  CR30  CR31  CR32  CLR46  CLR47  CLR48  CLR49  CR34  CR35  CR36  CR37  CR38  OR45  CR39  CR40  CR41  CR42  CR43  OR55  CLR62  CLR63  CLR64  CLR65  OR46  OR54  CLR68  CLR69  CLR70  CLR71  CLR72\n",
      "  22   1  CR1  CR2  CLR3  CLR4  CR5  CR6  CR8  CR9  CR10  CR11  CR12  CR13  CR14  OR9  CLR16  CLR17  ELR2  CR15  CR16  OR12  OR13  CR17  CR18  CR19  CR20  CLR27  CLR28  CR21  CR22  CR23  CR24  CLR33  CLR34  CR25  CLR36  CR27  CLR38  CLR39  CLR40  CLR41  CLR42  CR30  CR31  CR32  CLR46  CLR47  CLR48  CLR49  CR34  CR35  CR36  CR37  CR38  OR45  CR39  CR40  CR41  CR42  CR43  OR55  CLR62  CLR63  CLR64  CLR65  OR46  OR54  CLR68  CLR69  CLR70  CLR71  CLR72\n",
      "  22   2  CR1  CR2  CLR3  CLR4  CR5  CR6  CR8  CR9  CR10  CR11  CR12  CR13  CR14  OR9  CLR16  CLR17  ELR2  CR15  CR16  OR12  OR13  CR17  CR18  CR19  CR20  CLR27  CLR28  CR21  CR22  CR23  CR24  CLR33  CLR34  CR25  CLR36  CR27  CLR38  CLR39  CLR40  CLR41  CLR42  CR30  CR31  CR32  CLR46  CLR47  CLR48  CLR49  CR34  CR35  CR36  CR37  CR38  OR45  CR39  CR40  CR41  CR42  CR43  OR55  CLR62  CLR63  CLR64  CLR65  OR46  OR54  CLR68  CLR69  CLR70  CLR71  CLR72\n",
      "  22   3  CR1  CR2  CLR3  CLR4  CR5  CR6  CR8  CR9  CR10  CR11  CR12  CR13  CR14  OR9  CLR16  CLR17  ELR2  CR15  CR16  OR12  OR13  CR17  CR18  CR19  CR20  CLR27  CLR28  CR21  CR22  CR23  CR24  CLR33  CLR34  CR25  CLR36  CR27  CLR38  CLR39  CLR40  CLR41  CLR42  CR30  CR31  CR32  CLR46  CLR47  CLR48  CLR49  CR34  CR35  CR36  CR37  CR38  OR45  CR39  CR40  CR41  CR42  CR43  OR55  CLR62  CLR63  CLR64  CLR65  OR46  OR54  CLR68  CLR69  CLR70  CLR71  CLR72\n",
      "  22   4  CR1  CR2  CLR3  CLR4  CR5  CR6  CR8  CR9  CR10  CR11  CR12  CR13  CR14  OR9  CLR16  CLR17  ELR2  CR15  CR16  OR12  OR13  CR17  CR18  CR19  CR20  CLR27  CLR28  CR21  CR22  CR23  CR24  CLR33  CLR34  CR25  CLR36  CR27  CLR38  CLR39  CLR40  CLR41  CLR42  CR30  CR31  CR32  CLR46  CLR47  CLR48  CLR49  CR34  CR35  CR36  CR37  CR38  OR45  CR39  CR40  CR41  CR42  CR43  OR55  CLR62  CLR63  CLR64  CLR65  OR46  OR54  CLR68  CLR69  CLR70  CLR71  CLR72\n",
      "  22   5  CR1  CR2  CLR3  CLR4  CR5  CR6  CR8  CR9  CR10  CR11  CR12  CR13  CR14  OR9  CLR16  CLR17  ELR2  CR15  CR16  OR12  OR13  CR17  CR18  CR19  CR20  CLR27  CLR28  CR21  CR22  CR23  CR24  CLR33  CLR34  CR25  CLR36  CR27  CLR38  CLR39  CLR40  CLR41  CLR42  CR30  CR31  CR32  CLR46  CLR47  CLR48  CLR49  CR34  CR35  CR36  CR37  CR38  OR45  CR39  CR40  CR41  CR42  CR43  OR55  CLR62  CLR63  CLR64  CLR65  OR46  OR54  CLR68  CLR69  CLR70  CLR71  CLR72\n",
      "  23   1  CR1  CR2  CLR3  CLR4  CR5  CR6  CR8  CR9  CR10  CR11  CR12  CR13  CR14  OR9  CLR16  CLR17  ELR2  CR15  CR16  OR12  OR13  CR17  CR18  CR19  CR20  CLR27  CLR28  CR21  CR22  CR23  CR24  CLR33  CLR34  CR25  CLR36  CR27  CLR38  CLR39  CLR40  CLR41  CLR42  CR30  CR31  CR32  CLR46  CLR47  CLR48  CLR49  CR34  CR35  CR36  CR37  CR38  OR45  CR39  CR40  CR41  CR42  CR43  OR55  CLR62  CLR63  CLR64  CLR65  OR46  OR54  CLR68  CLR69  CLR70  CLR71  CLR72\n",
      "  23   2  CR1  CR2  CLR3  CLR4  CR5  CR6  CR8  CR9  CR10  CR11  CR12  CR13  CR14  OR9  CLR16  CLR17  ELR2  CR15  CR16  OR12  OR13  CR17  CR18  CR19  CR20  CLR27  CLR28  CR21  CR22  CR23  CR24  CLR33  CLR34  CR25  CLR36  CR27  CLR38  CLR39  CLR40  CLR41  CLR42  CR30  CR31  CR32  CLR46  CLR47  CLR48  CLR49  CR34  CR35  CR36  CR37  CR38  OR45  CR39  CR40  CR41  CR42  CR43  OR55  CLR62  CLR63  CLR64  CLR65  OR46  OR54  CLR68  CLR69  CLR70  CLR71  CLR72\n",
      "  23   3  CR1  CR2  CLR3  CLR4  CR5  CR6  CR8  CR9  CR10  CR11  CR12  CR13  CR14  OR9  CLR16  CLR17  ELR2  CR15  CR16  OR12  OR13  CR17  CR18  CR19  CR20  CLR27  CLR28  CR21  CR22  CR23  CR24  CLR33  CLR34  CR25  CLR36  CR27  CLR38  CLR39  CLR40  CLR41  CLR42  CR30  CR31  CR32  CLR46  CLR47  CLR48  CLR49  CR34  CR35  CR36  CR37  CR38  OR45  CR39  CR40  CR41  CR42  CR43  OR55  CLR62  CLR63  CLR64  CLR65  OR46  OR54  CLR68  CLR69  CLR70  CLR71  CLR72\n",
      "  23   4  CR1  CR2  CLR3  CLR4  CR5  CR6  CR8  CR9  CR10  CR11  CR12  CR13  CR14  OR9  CLR16  CLR17  ELR2  CR15  CR16  OR12  OR13  CR17  CR18  CR19  CR20  CLR27  CLR28  CR21  CR22  CR23  CR24  CLR33  CLR34  CR25  CLR36  CR27  CLR38  CLR39  CLR40  CLR41  CLR42  CR30  CR31  CR32  CLR46  CLR47  CLR48  CLR49  CR34  CR35  CR36  CR37  CR38  OR45  CR39  CR40  CR41  CR42  CR43  OR55  CLR62  CLR63  CLR64  CLR65  OR46  OR54  CLR68  CLR69  CLR70  CLR71  CLR72\n",
      "  23   5  CR1  CR2  CLR3  CLR4  CR5  CR6  CR8  CR9  CR10  CR11  CR12  CR13  CR14  OR9  CLR16  CLR17  ELR2  CR15  CR16  OR12  OR13  CR17  CR18  CR19  CR20  CLR27  CLR28  CR21  CR22  CR23  CR24  CLR33  CLR34  CR25  CLR36  CR27  CLR38  CLR39  CLR40  CLR41  CLR42  CR30  CR31  CR32  CLR46  CLR47  CLR48  CLR49  CR34  CR35  CR36  CR37  CR38  OR45  CR39  CR40  CR41  CR42  CR43  OR55  CLR62  CLR63  CLR64  CLR65  OR46  OR54  CLR68  CLR69  CLR70  CLR71  CLR72\n",
      "  24   1  CR1  CR2  CLR3  CLR4  CR5  CR6  CR8  CR9  CR10  CR11  CR12  CR13  CR14  OR9  CLR16  CLR17  ELR2  CR15  CR16  OR12  OR13  CR17  CR18  CR19  CR20  CLR27  CLR28  CR21  CR22  CR23  CR24  CLR33  CLR34  CR25  CLR36  CR27  CLR38  CLR39  CLR40  CLR41  CLR42  CR30  CR31  CR32  CLR46  CLR47  CLR48  CLR49  CR34  CR35  CR36  CR37  CR38  OR45  CR39  CR40  CR41  CR42  CR43  OR55  CLR62  CLR63  CLR64  CLR65  OR46  OR54  CLR68  CLR69  CLR70  CLR71  CLR72\n",
      "  24   2  CR1  CR2  CLR3  CLR4  CR5  CR6  CR8  CR9  CR10  CR11  CR12  CR13  CR14  OR9  CLR16  CLR17  ELR2  CR15  CR16  OR12  OR13  CR17  CR18  CR19  CR20  CLR27  CLR28  CR21  CR22  CR23  CR24  CLR33  CLR34  CR25  CLR36  CR27  CLR38  CLR39  CLR40  CLR41  CLR42  CR30  CR31  CR32  CLR46  CLR47  CLR48  CLR49  CR34  CR35  CR36  CR37  CR38  OR45  CR39  CR40  CR41  CR42  CR43  OR55  CLR62  CLR63  CLR64  CLR65  OR46  OR54  CLR68  CLR69  CLR70  CLR71  CLR72\n",
      "  24   3  CR1  CR2  CLR3  CLR4  CR5  CR6  CR8  CR9  CR10  CR11  CR12  CR13  CR14  OR9  CLR16  CLR17  ELR2  CR15  CR16  OR12  OR13  CR17  CR18  CR19  CR20  CLR27  CLR28  CR21  CR22  CR23  CR24  CLR33  CLR34  CR25  CLR36  CR27  CLR38  CLR39  CLR40  CLR41  CLR42  CR30  CR31  CR32  CLR46  CLR47  CLR48  CLR49  CR34  CR35  CR36  CR37  CR38  OR45  CR39  CR40  CR41  CR42  CR43  OR55  CLR62  CLR63  CLR64  CLR65  OR46  OR54  CLR68  CLR69  CLR70  CLR71  CLR72\n",
      "  24   4  CR1  CR2  CLR3  CLR4  CR5  CR6  CR8  CR9  CR10  CR11  CR12  CR13  CR14  OR9  CLR16  CLR17  ELR2  CR15  CR16  OR12  OR13  CR17  CR18  CR19  CR20  CLR27  CLR28  CR21  CR22  CR23  CR24  CLR33  CLR34  CR25  CLR36  CR27  CLR38  CLR39  CLR40  CLR41  CLR42  CR30  CR31  CR32  CLR46  CLR47  CLR48  CLR49  CR34  CR35  CR36  CR37  CR38  OR45  CR39  CR40  CR41  CR42  CR43  OR55  CLR62  CLR63  CLR64  CLR65  OR46  OR54  CLR68  CLR69  CLR70  CLR71  CLR72\n",
      "  24   5  CR1  CR2  CLR3  CLR4  CR5  CR6  CR8  CR9  CR10  CR11  CR12  CR13  CR14  OR9  CLR16  CLR17  ELR2  CR15  CR16  OR12  OR13  CR17  CR18  CR19  CR20  CLR27  CLR28  CR21  CR22  CR23  CR24  CLR33  CLR34  CR25  CLR36  CR27  CLR38  CLR39  CLR40  CLR41  CLR42  CR30  CR31  CR32  CLR46  CLR47  CLR48  CLR49  CR34  CR35  CR36  CR37  CR38  OR45  CR39  CR40  CR41  CR42  CR43  OR55  CLR62  CLR63  CLR64  CLR65  OR46  OR54  CLR68  CLR69  CLR70  CLR71  CLR72\n",
      "  25   1  CR1  CR2  CLR3  CLR4  CR5  CR6  CR8  CR9  CR10  CR11  CR12  CR13  CR14  OR9  CLR16  CLR17  ELR2  CR15  CR16  OR12  OR13  CR17  CR18  CR19  CR20  CLR27  CLR28  CR21  CR22  CR23  CR24  CLR33  CLR34  CR25  CLR36  CR27  CLR38  CLR39  CLR40  CLR41  CLR42  CR30  CR31  CR32  CLR46  CLR47  CLR48  CLR49  CR34  CR35  CR36  CR37  CR38  OR45  CR39  CR40  CR41  CR42  CR43  OR55  CLR62  CLR63  CLR64  CLR65  OR46  OR54  CLR68  CLR69  CLR70  CLR71  CLR72\n",
      "  25   2  CR1  CR2  CLR3  CLR4  CR5  CR6  CR8  CR9  CR10  CR11  CR12  CR13  CR14  OR9  CLR16  CLR17  ELR2  CR15  CR16  OR12  OR13  CR17  CR18  CR19  CR20  CLR27  CLR28  CR21  CR22  CR23  CR24  CLR33  CLR34  CR25  CLR36  CR27  CLR38  CLR39  CLR40  CLR41  CLR42  CR30  CR31  CR32  CLR46  CLR47  CLR48  CLR49  CR34  CR35  CR36  CR37  CR38  OR45  CR39  CR40  CR41  CR42  CR43  OR55  CLR62  CLR63  CLR64  CLR65  OR46  OR54  CLR68  CLR69  CLR70  CLR71  CLR72\n",
      "  25   3  CR1  CR2  CLR3  CLR4  CR5  CR6  CR8  CR9  CR10  CR11  CR12  CR13  CR14  OR9  CLR16  CLR17  ELR2  CR15  CR16  OR12  OR13  CR17  CR18  CR19  CR20  CLR27  CLR28  CR21  CR22  CR23  CR24  CLR33  CLR34  CR25  CLR36  CR27  CLR38  CLR39  CLR40  CLR41  CLR42  CR30  CR31  CR32  CLR46  CLR47  CLR48  CLR49  CR34  CR35  CR36  CR37  CR38  OR45  CR39  CR40  CR41  CR42  CR43  OR55  CLR62  CLR63  CLR64  CLR65  OR46  OR54  CLR68  CLR69  CLR70  CLR71  CLR72\n",
      "  25   4  CR1  CR2  CLR3  CLR4  CR5  CR6  CR8  CR9  CR10  CR11  CR12  CR13  CR14  OR9  CLR16  CLR17  ELR2  CR15  CR16  OR12  OR13  CR17  CR18  CR19  CR20  CLR27  CLR28  CR21  CR22  CR23  CR24  CLR33  CLR34  CR25  CLR36  CR27  CLR38  CLR39  CLR40  CLR41  CLR42  CR30  CR31  CR32  CLR46  CLR47  CLR48  CLR49  CR34  CR35  CR36  CR37  CR38  OR45  CR39  CR40  CR41  CR42  CR43  OR55  CLR62  CLR63  CLR64  CLR65  OR46  OR54  CLR68  CLR69  CLR70  CLR71  CLR72\n",
      "  25   5  CR1  CR2  CLR3  CLR4  CR5  CR6  CR8  CR9  CR10  CR11  CR12  CR13  CR14  OR9  CLR16  CLR17  ELR2  CR15  CR16  OR12  OR13  CR17  CR18  CR19  CR20  CLR27  CLR28  CR21  CR22  CR23  CR24  CLR33  CLR34  CR25  CLR36  CR27  CLR38  CLR39  CLR40  CLR41  CLR42  CR30  CR31  CR32  CLR46  CLR47  CLR48  CLR49  CR34  CR35  CR36  CR37  CR38  OR45  CR39  CR40  CR41  CR42  CR43  OR55  CLR62  CLR63  CLR64  CLR65  OR46  OR54  CLR68  CLR69  CLR70  CLR71  CLR72\n",
      "  26   1  CR1  CR2  CLR3  CLR4  CR5  CR6  CR8  CR9  CR10  CR11  CR12  CR13  CR14  OR9  CLR16  CLR17  ELR2  CR15  CR16  OR12  OR13  CR17  CR18  CR19  CR20  CLR27  CLR28  CR21  CR22  CR23  CR24  CLR33  CLR34  CR25  CLR36  CR27  CLR38  CLR39  CLR40  CLR41  CLR42  CR30  CR31  CR32  CLR46  CLR47  CLR48  CLR49  CR34  CR35  CR36  CR37  CR38  OR45  CR39  CR40  CR41  CR42  CR43  OR55  CLR62  CLR63  CLR64  CLR65  OR46  OR54  CLR68  CLR69  CLR70  CLR71  CLR72\n",
      "  26   2  CR1  CR2  CLR3  CLR4  CR5  CR6  CR8  CR9  CR10  CR11  CR12  CR13  CR14  OR9  CLR16  CLR17  ELR2  CR15  CR16  OR12  OR13  CR17  CR18  CR19  CR20  CLR27  CLR28  CR21  CR22  CR23  CR24  CLR33  CLR34  CR25  CLR36  CR27  CLR38  CLR39  CLR40  CLR41  CLR42  CR30  CR31  CR32  CLR46  CLR47  CLR48  CLR49  CR34  CR35  CR36  CR37  CR38  OR45  CR39  CR40  CR41  CR42  CR43  OR55  CLR62  CLR63  CLR64  CLR65  OR46  OR54  CLR68  CLR69  CLR70  CLR71  CLR72\n",
      "  26   3  CR1  CR2  CLR3  CLR4  CR5  CR6  CR8  CR9  CR10  CR11  CR12  CR13  CR14  OR9  CLR16  CLR17  ELR2  CR15  CR16  OR12  OR13  CR17  CR18  CR19  CR20  CLR27  CLR28  CR21  CR22  CR23  CR24  CLR33  CLR34  CR25  CLR36  CR27  CLR38  CLR39  CLR40  CLR41  CLR42  CR30  CR31  CR32  CLR46  CLR47  CLR48  CLR49  CR34  CR35  CR36  CR37  CR38  OR45  CR39  CR40  CR41  CR42  CR43  OR55  CLR62  CLR63  CLR64  CLR65  OR46  OR54  CLR68  CLR69  CLR70  CLR71  CLR72\n",
      "  26   4  CR1  CR2  CLR3  CLR4  CR5  CR6  CR8  CR9  CR10  CR11  CR12  CR13  CR14  OR9  CLR16  CLR17  ELR2  CR15  CR16  OR12  OR13  CR17  CR18  CR19  CR20  CLR27  CLR28  CR21  CR22  CR23  CR24  CLR33  CLR34  CR25  CLR36  CR27  CLR38  CLR39  CLR40  CLR41  CLR42  CR30  CR31  CR32  CLR46  CLR47  CLR48  CLR49  CR34  CR35  CR36  CR37  CR38  OR45  CR39  CR40  CR41  CR42  CR43  OR55  CLR62  CLR63  CLR64  CLR65  OR46  OR54  CLR68  CLR69  CLR70  CLR71  CLR72\n",
      "  26   5  CR1  CR2  CLR3  CLR4  CR5  CR6  CR8  CR9  CR10  CR11  CR12  CR13  CR14  OR9  CLR16  CLR17  ELR2  CR15  CR16  OR12  OR13  CR17  CR18  CR19  CR20  CLR27  CLR28  CR21  CR22  CR23  CR24  CLR33  CLR34  CR25  CLR36  CR27  CLR38  CLR39  CLR40  CLR41  CLR42  CR30  CR31  CR32  CLR46  CLR47  CLR48  CLR49  CR34  CR35  CR36  CR37  CR38  OR45  CR39  CR40  CR41  CR42  CR43  OR55  CLR62  CLR63  CLR64  CLR65  OR46  OR54  CLR68  CLR69  CLR70  CLR71  CLR72\n",
      "  27   1  CR1  CR2  CLR3  CLR4  CR5  CR6  CR8  CR9  CR10  CR11  CR12  CR13  CR14  OR9  CLR16  CLR17  ELR2  CR15  CR16  OR12  OR13  CR17  CR18  CR19  CR20  CLR27  CLR28  CR21  CR22  CR23  CR24  CLR33  CLR34  CR25  CLR36  CR27  CLR38  CLR39  CLR40  CLR41  CLR42  CR30  CR31  CR32  CLR46  CLR47  CLR48  CLR49  CR34  CR35  CR36  CR37  CR38  OR45  CR39  CR40  CR41  CR42  CR43  OR55  CLR62  CLR63  CLR64  CLR65  OR46  OR54  CLR68  CLR69  CLR70  CLR71  CLR72\n",
      "  27   2  CR1  CR2  CLR3  CLR4  CR5  CR6  CR8  CR9  CR10  CR11  CR12  CR13  CR14  OR9  CLR16  CLR17  ELR2  CR15  CR16  OR12  OR13  CR17  CR18  CR19  CR20  CLR27  CLR28  CR21  CR22  CR23  CR24  CLR33  CLR34  CR25  CLR36  CR27  CLR38  CLR39  CLR40  CLR41  CLR42  CR30  CR31  CR32  CLR46  CLR47  CLR48  CLR49  CR34  CR35  CR36  CR37  CR38  OR45  CR39  CR40  CR41  CR42  CR43  OR55  CLR62  CLR63  CLR64  CLR65  OR46  OR54  CLR68  CLR69  CLR70  CLR71  CLR72\n",
      "  27   3  CR1  CR2  CLR3  CLR4  CR5  CR6  CR8  CR9  CR10  CR11  CR12  CR13  CR14  OR9  CLR16  CLR17  ELR2  CR15  CR16  OR12  OR13  CR17  CR18  CR19  CR20  CLR27  CLR28  CR21  CR22  CR23  CR24  CLR33  CLR34  CR25  CLR36  CR27  CLR38  CLR39  CLR40  CLR41  CLR42  CR30  CR31  CR32  CLR46  CLR47  CLR48  CLR49  CR34  CR35  CR36  CR37  CR38  OR45  CR39  CR40  CR41  CR42  CR43  OR55  CLR62  CLR63  CLR64  CLR65  OR46  OR54  CLR68  CLR69  CLR70  CLR71  CLR72\n",
      "  27   4  CR1  CR2  CLR3  CLR4  CR5  CR6  CR8  CR9  CR10  CR11  CR12  CR13  CR14  OR9  CLR16  CLR17  ELR2  CR15  CR16  OR12  OR13  CR17  CR18  CR19  CR20  CLR27  CLR28  CR21  CR22  CR23  CR24  CLR33  CLR34  CR25  CLR36  CR27  CLR38  CLR39  CLR40  CLR41  CLR42  CR30  CR31  CR32  CLR46  CLR47  CLR48  CLR49  CR34  CR35  CR36  CR37  CR38  OR45  CR39  CR40  CR41  CR42  CR43  OR55  CLR62  CLR63  CLR64  CLR65  OR46  OR54  CLR68  CLR69  CLR70  CLR71  CLR72\n",
      "  27   5  CR1  CR2  CLR3  CLR4  CR5  CR6  CR8  CR9  CR10  CR11  CR12  CR13  CR14  OR9  CLR16  CLR17  ELR2  CR15  CR16  OR12  OR13  CR17  CR18  CR19  CR20  CLR27  CLR28  CR21  CR22  CR23  CR24  CLR33  CLR34  CR25  CLR36  CR27  CLR38  CLR39  CLR40  CLR41  CLR42  CR30  CR31  CR32  CLR46  CLR47  CLR48  CLR49  CR34  CR35  CR36  CR37  CR38  OR45  CR39  CR40  CR41  CR42  CR43  OR55  CLR62  CLR63  CLR64  CLR65  OR46  OR54  CLR68  CLR69  CLR70  CLR71  CLR72\n",
      "  28   1  CR1  CR2  CLR3  CLR4  CR5  CR6  CR8  CR9  CR10  CR11  CR12  CR13  CR14  OR9  CLR16  CLR17  ELR2  CR15  CR16  OR12  OR13  CR17  CR18  CR19  CR20  CLR27  CLR28  CR21  CR22  CR23  CR24  CLR33  CLR34  CR25  CLR36  CR27  CLR38  CLR39  CLR40  CLR41  CLR42  CR30  CR31  CR32  CLR46  CLR47  CLR48  CLR49  CR34  CR35  CR36  CR37  CR38  OR45  CR39  CR40  CR41  CR42  CR43  OR55  CLR62  CLR63  CLR64  CLR65  OR46  OR54  CLR68  CLR69  CLR70  CLR71  CLR72\n",
      "  28   2  CR1  CR2  CLR3  CLR4  CR5  CR6  CR8  CR9  CR10  CR11  CR12  CR13  CR14  OR9  CLR16  CLR17  ELR2  CR15  CR16  OR12  OR13  CR17  CR18  CR19  CR20  CLR27  CLR28  CR21  CR22  CR23  CR24  CLR33  CLR34  CR25  CLR36  CR27  CLR38  CLR39  CLR40  CLR41  CLR42  CR30  CR31  CR32  CLR46  CLR47  CLR48  CLR49  CR34  CR35  CR36  CR37  CR38  OR45  CR39  CR40  CR41  CR42  CR43  OR55  CLR62  CLR63  CLR64  CLR65  OR46  OR54  CLR68  CLR69  CLR70  CLR71  CLR72\n",
      "  28   3  CR1  CR2  CLR3  CLR4  CR5  CR6  CR8  CR9  CR10  CR11  CR12  CR13  CR14  OR9  CLR16  CLR17  ELR2  CR15  CR16  OR12  OR13  CR17  CR18  CR19  CR20  CLR27  CLR28  CR21  CR22  CR23  CR24  CLR33  CLR34  CR25  CLR36  CR27  CLR38  CLR39  CLR40  CLR41  CLR42  CR30  CR31  CR32  CLR46  CLR47  CLR48  CLR49  CR34  CR35  CR36  CR37  CR38  OR45  CR39  CR40  CR41  CR42  CR43  OR55  CLR62  CLR63  CLR64  CLR65  OR46  OR54  CLR68  CLR69  CLR70  CLR71  CLR72\n",
      "  28   4  CR1  CR2  CLR3  CLR4  CR5  CR6  CR8  CR9  CR10  CR11  CR12  CR13  CR14  OR9  CLR16  CLR17  ELR2  CR15  CR16  OR12  OR13  CR17  CR18  CR19  CR20  CLR27  CLR28  CR21  CR22  CR23  CR24  CLR33  CLR34  CR25  CLR36  CR27  CLR38  CLR39  CLR40  CLR41  CLR42  CR30  CR31  CR32  CLR46  CLR47  CLR48  CLR49  CR34  CR35  CR36  CR37  CR38  OR45  CR39  CR40  CR41  CR42  CR43  OR55  CLR62  CLR63  CLR64  CLR65  OR46  OR54  CLR68  CLR69  CLR70  CLR71  CLR72\n",
      "  28   5  CR1  CR2  CLR3  CLR4  CR5  CR6  CR8  CR9  CR10  CR11  CR12  CR13  CR14  OR9  CLR16  CLR17  ELR2  CR15  CR16  OR12  OR13  CR17  CR18  CR19  CR20  CLR27  CLR28  CR21  CR22  CR23  CR24  CLR33  CLR34  CR25  CLR36  CR27  CLR38  CLR39  CLR40  CLR41  CLR42  CR30  CR31  CR32  CLR46  CLR47  CLR48  CLR49  CR34  CR35  CR36  CR37  CR38  OR45  CR39  CR40  CR41  CR42  CR43  OR55  CLR62  CLR63  CLR64  CLR65  OR46  OR54  CLR68  CLR69  CLR70  CLR71  CLR72\n",
      "  29   1  CR1  CR2  CLR3  CLR4  CR5  CR6  CR8  CR9  CR10  CR11  CR12  CR13  CR14  OR9  CLR16  CLR17  ELR2  CR15  CR16  OR12  OR13  CR17  CR18  CR19  CR20  CLR27  CLR28  CR21  CR22  CR23  CR24  CLR33  CLR34  CR25  CLR36  CR27  CLR38  CLR39  CLR40  CLR41  CLR42  CR30  CR31  CR32  CLR46  CLR47  CLR48  CLR49  CR34  CR35  CR36  CR37  CR38  OR45  CR39  CR40  CR41  CR42  CR43  OR55  CLR62  CLR63  CLR64  CLR65  OR46  OR54  CLR68  CLR69  CLR70  CLR71  CLR72\n",
      "  29   2  CR1  CR2  CLR3  CLR4  CR5  CR6  CR8  CR9  CR10  CR11  CR12  CR13  CR14  OR9  CLR16  CLR17  ELR2  CR15  CR16  OR12  OR13  CR17  CR18  CR19  CR20  CLR27  CLR28  CR21  CR22  CR23  CR24  CLR33  CLR34  CR25  CLR36  CR27  CLR38  CLR39  CLR40  CLR41  CLR42  CR30  CR31  CR32  CLR46  CLR47  CLR48  CLR49  CR34  CR35  CR36  CR37  CR38  OR45  CR39  CR40  CR41  CR42  CR43  OR55  CLR62  CLR63  CLR64  CLR65  OR46  OR54  CLR68  CLR69  CLR70  CLR71  CLR72\n",
      "  29   3  CR1  CR2  CLR3  CLR4  CR5  CR6  CR8  CR9  CR10  CR11  CR12  CR13  CR14  OR9  CLR16  CLR17  ELR2  CR15  CR16  OR12  OR13  CR17  CR18  CR19  CR20  CLR27  CLR28  CR21  CR22  CR23  CR24  CLR33  CLR34  CR25  CLR36  CR27  CLR38  CLR39  CLR40  CLR41  CLR42  CR30  CR31  CR32  CLR46  CLR47  CLR48  CLR49  CR34  CR35  CR36  CR37  CR38  OR45  CR39  CR40  CR41  CR42  CR43  OR55  CLR62  CLR63  CLR64  CLR65  OR46  OR54  CLR68  CLR69  CLR70  CLR71  CLR72\n",
      "  29   4  CR1  CR2  CLR3  CLR4  CR5  CR6  CR8  CR9  CR10  CR11  CR12  CR13  CR14  OR9  CLR16  CLR17  ELR2  CR15  CR16  OR12  OR13  CR17  CR18  CR19  CR20  CLR27  CLR28  CR21  CR22  CR23  CR24  CLR33  CLR34  CR25  CLR36  CR27  CLR38  CLR39  CLR40  CLR41  CLR42  CR30  CR31  CR32  CLR46  CLR47  CLR48  CLR49  CR34  CR35  CR36  CR37  CR38  OR45  CR39  CR40  CR41  CR42  CR43  OR55  CLR62  CLR63  CLR64  CLR65  OR46  OR54  CLR68  CLR69  CLR70  CLR71  CLR72\n",
      "  29   5  CR1  CR2  CLR3  CLR4  CR5  CR6  CR8  CR9  CR10  CR11  CR12  CR13  CR14  OR9  CLR16  CLR17  ELR2  CR15  CR16  OR12  OR13  CR17  CR18  CR19  CR20  CLR27  CLR28  CR21  CR22  CR23  CR24  CLR33  CLR34  CR25  CLR36  CR27  CLR38  CLR39  CLR40  CLR41  CLR42  CR30  CR31  CR32  CLR46  CLR47  CLR48  CLR49  CR34  CR35  CR36  CR37  CR38  OR45  CR39  CR40  CR41  CR42  CR43  OR55  CLR62  CLR63  CLR64  CLR65  OR46  OR54  CLR68  CLR69  CLR70  CLR71  CLR72\n",
      "  30   1  CR1  CR2  CLR3  CLR4  CR5  CR6  CR8  CR9  CR10  CR11  CR12  CR13  CR14  OR9  CLR16  CLR17  ELR2  CR15  CR16  OR12  OR13  CR17  CR18  CR19  CR20  CLR27  CLR28  CR21  CR22  CR23  CR24  CLR33  CLR34  CR25  CLR36  CR27  CLR38  CLR39  CLR40  CLR41  CLR42  CR30  CR31  CR32  CLR46  CLR47  CLR48  CLR49  CR34  CR35  CR36  CR37  CR38  OR45  CR39  CR40  CR41  CR42  CR43  OR55  CLR62  CLR63  CLR64  CLR65  OR46  OR54  CLR68  CLR69  CLR70  CLR71  CLR72\n",
      "  30   2  CR1  CR2  CLR3  CLR4  CR5  CR6  CR8  CR9  CR10  CR11  CR12  CR13  CR14  OR9  CLR16  CLR17  ELR2  CR15  CR16  OR12  OR13  CR17  CR18  CR19  CR20  CLR27  CLR28  CR21  CR22  CR23  CR24  CLR33  CLR34  CR25  CLR36  CR27  CLR38  CLR39  CLR40  CLR41  CLR42  CR30  CR31  CR32  CLR46  CLR47  CLR48  CLR49  CR34  CR35  CR36  CR37  CR38  OR45  CR39  CR40  CR41  CR42  CR43  OR55  CLR62  CLR63  CLR64  CLR65  OR46  OR54  CLR68  CLR69  CLR70  CLR71  CLR72\n",
      "  30   3  CR1  CR2  CLR3  CLR4  CR5  CR6  CR8  CR9  CR10  CR11  CR12  CR13  CR14  OR9  CLR16  CLR17  ELR2  CR15  CR16  OR12  OR13  CR17  CR18  CR19  CR20  CLR27  CLR28  CR21  CR22  CR23  CR24  CLR33  CLR34  CR25  CLR36  CR27  CLR38  CLR39  CLR40  CLR41  CLR42  CR30  CR31  CR32  CLR46  CLR47  CLR48  CLR49  CR34  CR35  CR36  CR37  CR38  OR45  CR39  CR40  CR41  CR42  CR43  OR55  CLR62  CLR63  CLR64  CLR65  OR46  OR54  CLR68  CLR69  CLR70  CLR71  CLR72\n",
      "  30   4  CR1  CR2  CLR3  CLR4  CR5  CR6  CR8  CR9  CR10  CR11  CR12  CR13  CR14  OR9  CLR16  CLR17  ELR2  CR15  CR16  OR12  OR13  CR17  CR18  CR19  CR20  CLR27  CLR28  CR21  CR22  CR23  CR24  CLR33  CLR34  CR25  CLR36  CR27  CLR38  CLR39  CLR40  CLR41  CLR42  CR30  CR31  CR32  CLR46  CLR47  CLR48  CLR49  CR34  CR35  CR36  CR37  CR38  OR45  CR39  CR40  CR41  CR42  CR43  OR55  CLR62  CLR63  CLR64  CLR65  OR46  OR54  CLR68  CLR69  CLR70  CLR71  CLR72\n",
      "  30   5  CR1  CR2  CLR3  CLR4  CR5  CR6  CR8  CR9  CR10  CR11  CR12  CR13  CR14  OR9  CLR16  CLR17  ELR2  CR15  CR16  OR12  OR13  CR17  CR18  CR19  CR20  CLR27  CLR28  CR21  CR22  CR23  CR24  CLR33  CLR34  CR25  CLR36  CR27  CLR38  CLR39  CLR40  CLR41  CLR42  CR30  CR31  CR32  CLR46  CLR47  CLR48  CLR49  CR34  CR35  CR36  CR37  CR38  OR45  CR39  CR40  CR41  CR42  CR43  OR55  CLR62  CLR63  CLR64  CLR65  OR46  OR54  CLR68  CLR69  CLR70  CLR71  CLR72\n",
      "  31   1  CR1  CR2  CLR3  CLR4  CR5  CR6  CR8  CR9  CR10  CR11  CR12  CR13  CR14  OR9  CLR16  CLR17  ELR2  CR15  CR16  OR12  OR13  CR17  CR18  CR19  CR20  CLR27  CLR28  CR21  CR22  CR23  CR24  CLR33  CLR34  CR25  CLR36  CR27  CLR38  CLR39  CLR40  CLR41  CLR42  CR30  CR31  CR32  CLR46  CLR47  CLR48  CLR49  CR34  CR35  CR36  CR37  CR38  OR45  CR39  CR40  CR41  CR42  CR43  OR55  CLR62  CLR63  CLR64  CLR65  OR46  OR54  CLR68  CLR69  CLR70  CLR71  CLR72\n",
      "  31   2  CR1  CR2  CLR3  CLR4  CR5  CR6  CR8  CR9  CR10  CR11  CR12  CR13  CR14  OR9  CLR16  CLR17  ELR2  CR15  CR16  OR12  OR13  CR17  CR18  CR19  CR20  CLR27  CLR28  CR21  CR22  CR23  CR24  CLR33  CLR34  CR25  CLR36  CR27  CLR38  CLR39  CLR40  CLR41  CLR42  CR30  CR31  CR32  CLR46  CLR47  CLR48  CLR49  CR34  CR35  CR36  CR37  CR38  OR45  CR39  CR40  CR41  CR42  CR43  OR55  CLR62  CLR63  CLR64  CLR65  OR46  OR54  CLR68  CLR69  CLR70  CLR71  CLR72\n",
      "  31   3  CR1  CR2  CLR3  CLR4  CR5  CR6  CR8  CR9  CR10  CR11  CR12  CR13  CR14  OR9  CLR16  CLR17  ELR2  CR15  CR16  OR12  OR13  CR17  CR18  CR19  CR20  CLR27  CLR28  CR21  CR22  CR23  CR24  CLR33  CLR34  CR25  CLR36  CR27  CLR38  CLR39  CLR40  CLR41  CLR42  CR30  CR31  CR32  CLR46  CLR47  CLR48  CLR49  CR34  CR35  CR36  CR37  CR38  OR45  CR39  CR40  CR41  CR42  CR43  OR55  CLR62  CLR63  CLR64  CLR65  OR46  OR54  CLR68  CLR69  CLR70  CLR71  CLR72\n",
      "  31   4  CR1  CR2  CLR3  CLR4  CR5  CR6  CR8  CR9  CR10  CR11  CR12  CR13  CR14  OR9  CLR16  CLR17  ELR2  CR15  CR16  OR12  OR13  CR17  CR18  CR19  CR20  CLR27  CLR28  CR21  CR22  CR23  CR24  CLR33  CLR34  CR25  CLR36  CR27  CLR38  CLR39  CLR40  CLR41  CLR42  CR30  CR31  CR32  CLR46  CLR47  CLR48  CLR49  CR34  CR35  CR36  CR37  CR38  OR45  CR39  CR40  CR41  CR42  CR43  OR55  CLR62  CLR63  CLR64  CLR65  OR46  OR54  CLR68  CLR69  CLR70  CLR71  CLR72\n",
      "  31   5  CR1  CR2  CLR3  CLR4  CR5  CR6  CR8  CR9  CR10  CR11  CR12  CR13  CR14  OR9  CLR16  CLR17  ELR2  CR15  CR16  OR12  OR13  CR17  CR18  CR19  CR20  CLR27  CLR28  CR21  CR22  CR23  CR24  CLR33  CLR34  CR25  CLR36  CR27  CLR38  CLR39  CLR40  CLR41  CLR42  CR30  CR31  CR32  CLR46  CLR47  CLR48  CLR49  CR34  CR35  CR36  CR37  CR38  OR45  CR39  CR40  CR41  CR42  CR43  OR55  CLR62  CLR63  CLR64  CLR65  OR46  OR54  CLR68  CLR69  CLR70  CLR71  CLR72\n",
      "  32   1  CR1  CR2  CLR3  CLR4  CR5  CR6  CR8  CR9  CR10  CR11  CR12  CR13  CR14  OR9  CLR16  CLR17  ELR2  CR15  CR16  OR12  OR13  CR17  CR18  CR19  CR20  CLR27  CLR28  CR21  CR22  CR23  CR24  CLR33  CLR34  CR25  CLR36  CR27  CLR38  CLR39  CLR40  CLR41  CLR42  CR30  CR31  CR32  CLR46  CLR47  CLR48  CLR49  CR34  CR35  CR36  CR37  CR38  OR45  CR39  CR40  CR41  CR42  CR43  OR55  CLR62  CLR63  CLR64  CLR65  OR46  OR54  CLR68  CLR69  CLR70  CLR71  CLR72\n",
      "  32   2  CR1  CR2  CLR3  CLR4  CR5  CR6  CR8  CR9  CR10  CR11  CR12  CR13  CR14  OR9  CLR16  CLR17  ELR2  CR15  CR16  OR12  OR13  CR17  CR18  CR19  CR20  CLR27  CLR28  CR21  CR22  CR23  CR24  CLR33  CLR34  CR25  CLR36  CR27  CLR38  CLR39  CLR40  CLR41  CLR42  CR30  CR31  CR32  CLR46  CLR47  CLR48  CLR49  CR34  CR35  CR36  CR37  CR38  OR45  CR39  CR40  CR41  CR42  CR43  OR55  CLR62  CLR63  CLR64  CLR65  OR46  OR54  CLR68  CLR69  CLR70  CLR71  CLR72\n",
      "  32   3  CR1  CR2  CLR3  CLR4  CR5  CR6  CR8  CR9  CR10  CR11  CR12  CR13  CR14  OR9  CLR16  CLR17  ELR2  CR15  CR16  OR12  OR13  CR17  CR18  CR19  CR20  CLR27  CLR28  CR21  CR22  CR23  CR24  CLR33  CLR34  CR25  CLR36  CR27  CLR38  CLR39  CLR40  CLR41  CLR42  CR30  CR31  CR32  CLR46  CLR47  CLR48  CLR49  CR34  CR35  CR36  CR37  CR38  OR45  CR39  CR40  CR41  CR42  CR43  OR55  CLR62  CLR63  CLR64  CLR65  OR46  OR54  CLR68  CLR69  CLR70  CLR71  CLR72\n",
      "  32   4  CR1  CR2  CLR3  CLR4  CR5  CR6  CR8  CR9  CR10  CR11  CR12  CR13  CR14  OR9  CLR16  CLR17  ELR2  CR15  CR16  OR12  OR13  CR17  CR18  CR19  CR20  CLR27  CLR28  CR21  CR22  CR23  CR24  CLR33  CLR34  CR25  CLR36  CR27  CLR38  CLR39  CLR40  CLR41  CLR42  CR30  CR31  CR32  CLR46  CLR47  CLR48  CLR49  CR34  CR35  CR36  CR37  CR38  OR45  CR39  CR40  CR41  CR42  CR43  OR55  CLR62  CLR63  CLR64  CLR65  OR46  OR54  CLR68  CLR69  CLR70  CLR71  CLR72\n",
      "  32   5  CR1  CR2  CLR3  CLR4  CR5  CR6  CR8  CR9  CR10  CR11  CR12  CR13  CR14  OR9  CLR16  CLR17  ELR2  CR15  CR16  OR12  OR13  CR17  CR18  CR19  CR20  CLR27  CLR28  CR21  CR22  CR23  CR24  CLR33  CLR34  CR25  CLR36  CR27  CLR38  CLR39  CLR40  CLR41  CLR42  CR30  CR31  CR32  CLR46  CLR47  CLR48  CLR49  CR34  CR35  CR36  CR37  CR38  OR45  CR39  CR40  CR41  CR42  CR43  OR55  CLR62  CLR63  CLR64  CLR65  OR46  OR54  CLR68  CLR69  CLR70  CLR71  CLR72\n",
      "  33   1  CR1  CR2  CLR3  CLR4  CR5  CR6  CR8  CR9  CR10  CR11  CR12  CR13  CR14  OR9  CLR16  CLR17  ELR2  CR15  CR16  OR12  OR13  CR17  CR18  CR19  CR20  CLR27  CLR28  CR21  CR22  CR23  CR24  CLR33  CLR34  CR25  CLR36  CR27  CLR38  CLR39  CLR40  CLR41  CLR42  CR30  CR31  CR32  CLR46  CLR47  CLR48  CLR49  CR34  CR35  CR36  CR37  CR38  OR45  CR39  CR40  CR41  CR42  CR43  OR55  CLR62  CLR63  CLR64  CLR65  OR46  OR54  CLR68  CLR69  CLR70  CLR71  CLR72\n",
      "  33   2  CR1  CR2  CLR3  CLR4  CR5  CR6  CR8  CR9  CR10  CR11  CR12  CR13  CR14  OR9  CLR16  CLR17  ELR2  CR15  CR16  OR12  OR13  CR17  CR18  CR19  CR20  CLR27  CLR28  CR21  CR22  CR23  CR24  CLR33  CLR34  CR25  CLR36  CR27  CLR38  CLR39  CLR40  CLR41  CLR42  CR30  CR31  CR32  CLR46  CLR47  CLR48  CLR49  CR34  CR35  CR36  CR37  CR38  OR45  CR39  CR40  CR41  CR42  CR43  OR55  CLR62  CLR63  CLR64  CLR65  OR46  OR54  CLR68  CLR69  CLR70  CLR71  CLR72\n",
      "  33   3  CR1  CR2  CLR3  CLR4  CR5  CR6  CR8  CR9  CR10  CR11  CR12  CR13  CR14  OR9  CLR16  CLR17  ELR2  CR15  CR16  OR12  OR13  CR17  CR18  CR19  CR20  CLR27  CLR28  CR21  CR22  CR23  CR24  CLR33  CLR34  CR25  CLR36  CR27  CLR38  CLR39  CLR40  CLR41  CLR42  CR30  CR31  CR32  CLR46  CLR47  CLR48  CLR49  CR34  CR35  CR36  CR37  CR38  OR45  CR39  CR40  CR41  CR42  CR43  OR55  CLR62  CLR63  CLR64  CLR65  OR46  OR54  CLR68  CLR69  CLR70  CLR71  CLR72\n",
      "  33   4  CR1  CR2  CLR3  CLR4  CR5  CR6  CR8  CR9  CR10  CR11  CR12  CR13  CR14  OR9  CLR16  CLR17  ELR2  CR15  CR16  OR12  OR13  CR17  CR18  CR19  CR20  CLR27  CLR28  CR21  CR22  CR23  CR24  CLR33  CLR34  CR25  CLR36  CR27  CLR38  CLR39  CLR40  CLR41  CLR42  CR30  CR31  CR32  CLR46  CLR47  CLR48  CLR49  CR34  CR35  CR36  CR37  CR38  OR45  CR39  CR40  CR41  CR42  CR43  OR55  CLR62  CLR63  CLR64  CLR65  OR46  OR54  CLR68  CLR69  CLR70  CLR71  CLR72\n",
      "  33   5  CR1  CR2  CLR3  CLR4  CR5  CR6  CR8  CR9  CR10  CR11  CR12  CR13  CR14  OR9  CLR16  CLR17  ELR2  CR15  CR16  OR12  OR13  CR17  CR18  CR19  CR20  CLR27  CLR28  CR21  CR22  CR23  CR24  CLR33  CLR34  CR25  CLR36  CR27  CLR38  CLR39  CLR40  CLR41  CLR42  CR30  CR31  CR32  CLR46  CLR47  CLR48  CLR49  CR34  CR35  CR36  CR37  CR38  OR45  CR39  CR40  CR41  CR42  CR43  OR55  CLR62  CLR63  CLR64  CLR65  OR46  OR54  CLR68  CLR69  CLR70  CLR71  CLR72\n",
      "  34   1  CR1  CR2  CLR3  CLR4  CR5  CR6  CR8  CR9  CR10  CR11  CR12  CR13  CR14  OR9  CLR16  CLR17  ELR2  CR15  CR16  OR12  OR13  CR17  CR18  CR19  CR20  CLR27  CLR28  CR21  CR22  CR23  CR24  CLR33  CLR34  CR25  CLR36  CR27  CLR38  CLR39  CLR40  CLR41  CLR42  CR30  CR31  CR32  CLR46  CLR47  CLR48  CLR49  CR34  CR35  CR36  CR37  CR38  OR45  CR39  CR40  CR41  CR42  CR43  OR55  CLR62  CLR63  CLR64  CLR65  OR46  OR54  CLR68  CLR69  CLR70  CLR71  CLR72\n",
      "  34   2  CR1  CR2  CLR3  CLR4  CR5  CR6  CR8  CR9  CR10  CR11  CR12  CR13  CR14  OR9  CLR16  CLR17  ELR2  CR15  CR16  OR12  OR13  CR17  CR18  CR19  CR20  CLR27  CLR28  CR21  CR22  CR23  CR24  CLR33  CLR34  CR25  CLR36  CR27  CLR38  CLR39  CLR40  CLR41  CLR42  CR30  CR31  CR32  CLR46  CLR47  CLR48  CLR49  CR34  CR35  CR36  CR37  CR38  OR45  CR39  CR40  CR41  CR42  CR43  OR55  CLR62  CLR63  CLR64  CLR65  OR46  OR54  CLR68  CLR69  CLR70  CLR71  CLR72\n",
      "  34   3  CR1  CR2  CLR3  CLR4  CR5  CR6  CR8  CR9  CR10  CR11  CR12  CR13  CR14  OR9  CLR16  CLR17  ELR2  CR15  CR16  OR12  OR13  CR17  CR18  CR19  CR20  CLR27  CLR28  CR21  CR22  CR23  CR24  CLR33  CLR34  CR25  CLR36  CR27  CLR38  CLR39  CLR40  CLR41  CLR42  CR30  CR31  CR32  CLR46  CLR47  CLR48  CLR49  CR34  CR35  CR36  CR37  CR38  OR45  CR39  CR40  CR41  CR42  CR43  OR55  CLR62  CLR63  CLR64  CLR65  OR46  OR54  CLR68  CLR69  CLR70  CLR71  CLR72\n",
      "  34   4  CR1  CR2  CLR3  CLR4  CR5  CR6  CR8  CR9  CR10  CR11  CR12  CR13  CR14  OR9  CLR16  CLR17  ELR2  CR15  CR16  OR12  OR13  CR17  CR18  CR19  CR20  CLR27  CLR28  CR21  CR22  CR23  CR24  CLR33  CLR34  CR25  CLR36  CR27  CLR38  CLR39  CLR40  CLR41  CLR42  CR30  CR31  CR32  CLR46  CLR47  CLR48  CLR49  CR34  CR35  CR36  CR37  CR38  OR45  CR39  CR40  CR41  CR42  CR43  OR55  CLR62  CLR63  CLR64  CLR65  OR46  OR54  CLR68  CLR69  CLR70  CLR71  CLR72\n",
      "  34   5  CR1  CR2  CLR3  CLR4  CR5  CR6  CR8  CR9  CR10  CR11  CR12  CR13  CR14  OR9  CLR16  CLR17  ELR2  CR15  CR16  OR12  OR13  CR17  CR18  CR19  CR20  CLR27  CLR28  CR21  CR22  CR23  CR24  CLR33  CLR34  CR25  CLR36  CR27  CLR38  CLR39  CLR40  CLR41  CLR42  CR30  CR31  CR32  CLR46  CLR47  CLR48  CLR49  CR34  CR35  CR36  CR37  CR38  OR45  CR39  CR40  CR41  CR42  CR43  OR55  CLR62  CLR63  CLR64  CLR65  OR46  OR54  CLR68  CLR69  CLR70  CLR71  CLR72\n",
      "  35   1  CR1  CR2  CLR3  CLR4  CR5  CR6  CR8  CR9  CR10  CR11  CR12  CR13  CR14  OR9  CLR16  CLR17  ELR2  CR15  CR16  OR12  OR13  CR17  CR18  CR19  CR20  CLR27  CLR28  CR21  CR22  CR23  CR24  CLR33  CLR34  CR25  CLR36  CR27  CLR38  CLR39  CLR40  CLR41  CLR42  CR30  CR31  CR32  CLR46  CLR47  CLR48  CLR49  CR34  CR35  CR36  CR37  CR38  OR45  CR39  CR40  CR41  CR42  CR43  OR55  CLR62  CLR63  CLR64  CLR65  OR46  OR54  CLR68  CLR69  CLR70  CLR71  CLR72\n",
      "  35   2  CR1  CR2  CLR3  CLR4  CR5  CR6  CR8  CR9  CR10  CR11  CR12  CR13  CR14  OR9  CLR16  CLR17  ELR2  CR15  CR16  OR12  OR13  CR17  CR18  CR19  CR20  CLR27  CLR28  CR21  CR22  CR23  CR24  CLR33  CLR34  CR25  CLR36  CR27  CLR38  CLR39  CLR40  CLR41  CLR42  CR30  CR31  CR32  CLR46  CLR47  CLR48  CLR49  CR34  CR35  CR36  CR37  CR38  OR45  CR39  CR40  CR41  CR42  CR43  OR55  CLR62  CLR63  CLR64  CLR65  OR46  OR54  CLR68  CLR69  CLR70  CLR71  CLR72\n",
      "  35   3  CR1  CR2  CLR3  CLR4  CR5  CR6  CR8  CR9  CR10  CR11  CR12  CR13  CR14  OR9  CLR16  CLR17  ELR2  CR15  CR16  OR12  OR13  CR17  CR18  CR19  CR20  CLR27  CLR28  CR21  CR22  CR23  CR24  CLR33  CLR34  CR25  CLR36  CR27  CLR38  CLR39  CLR40  CLR41  CLR42  CR30  CR31  CR32  CLR46  CLR47  CLR48  CLR49  CR34  CR35  CR36  CR37  CR38  OR45  CR39  CR40  CR41  CR42  CR43  OR55  CLR62  CLR63  CLR64  CLR65  OR46  OR54  CLR68  CLR69  CLR70  CLR71  CLR72\n",
      "  35   4  CR1  CR2  CLR3  CLR4  CR5  CR6  CR8  CR9  CR10  CR11  CR12  CR13  CR14  OR9  CLR16  CLR17  ELR2  CR15  CR16  OR12  OR13  CR17  CR18  CR19  CR20  CLR27  CLR28  CR21  CR22  CR23  CR24  CLR33  CLR34  CR25  CLR36  CR27  CLR38  CLR39  CLR40  CLR41  CLR42  CR30  CR31  CR32  CLR46  CLR47  CLR48  CLR49  CR34  CR35  CR36  CR37  CR38  OR45  CR39  CR40  CR41  CR42  CR43  OR55  CLR62  CLR63  CLR64  CLR65  OR46  OR54  CLR68  CLR69  CLR70  CLR71  CLR72\n",
      "  35   5  CR1  CR2  CLR3  CLR4  CR5  CR6  CR8  CR9  CR10  CR11  CR12  CR13  CR14  OR9  CLR16  CLR17  ELR2  CR15  CR16  OR12  OR13  CR17  CR18  CR19  CR20  CLR27  CLR28  CR21  CR22  CR23  CR24  CLR33  CLR34  CR25  CLR36  CR27  CLR38  CLR39  CLR40  CLR41  CLR42  CR30  CR31  CR32  CLR46  CLR47  CLR48  CLR49  CR34  CR35  CR36  CR37  CR38  OR45  CR39  CR40  CR41  CR42  CR43  OR55  CLR62  CLR63  CLR64  CLR65  OR46  OR54  CLR68  CLR69  CLR70  CLR71  CLR72\n",
      "  36   1  CR1  CR2  CLR3  CLR4  CR5  CR6  CR8  CR9  CR10  CR11  CR12  CR13  CR14  OR9  CLR16  CLR17  ELR2  CR15  CR16  OR12  OR13  CR17  CR18  CR19  CR20  CLR27  CLR28  CR21  CR22  CR23  CR24  CLR33  CLR34  CR25  CLR36  CR27  CLR38  CLR39  CLR40  CLR41  CLR42  CR30  CR31  CR32  CLR46  CLR47  CLR48  CLR49  CR34  CR35  CR36  CR37  CR38  OR45  CR39  CR40  CR41  CR42  CR43  OR55  CLR62  CLR63  CLR64  CLR65  OR46  OR54  CLR68  CLR69  CLR70  CLR71  CLR72\n",
      "  36   2  CR1  CR2  CLR3  CLR4  CR5  CR6  CR8  CR9  CR10  CR11  CR12  CR13  CR14  OR9  CLR16  CLR17  ELR2  CR15  CR16  OR12  OR13  CR17  CR18  CR19  CR20  CLR27  CLR28  CR21  CR22  CR23  CR24  CLR33  CLR34  CR25  CLR36  CR27  CLR38  CLR39  CLR40  CLR41  CLR42  CR30  CR31  CR32  CLR46  CLR47  CLR48  CLR49  CR34  CR35  CR36  CR37  CR38  OR45  CR39  CR40  CR41  CR42  CR43  OR55  CLR62  CLR63  CLR64  CLR65  OR46  OR54  CLR68  CLR69  CLR70  CLR71  CLR72\n",
      "  36   3  CR1  CR2  CLR3  CLR4  CR5  CR6  CR8  CR9  CR10  CR11  CR12  CR13  CR14  OR9  CLR16  CLR17  ELR2  CR15  CR16  OR12  OR13  CR17  CR18  CR19  CR20  CLR27  CLR28  CR21  CR22  CR23  CR24  CLR33  CLR34  CR25  CLR36  CR27  CLR38  CLR39  CLR40  CLR41  CLR42  CR30  CR31  CR32  CLR46  CLR47  CLR48  CLR49  CR34  CR35  CR36  CR37  CR38  OR45  CR39  CR40  CR41  CR42  CR43  OR55  CLR62  CLR63  CLR64  CLR65  OR46  OR54  CLR68  CLR69  CLR70  CLR71  CLR72\n",
      "  36   4  CR1  CR2  CLR3  CLR4  CR5  CR6  CR8  CR9  CR10  CR11  CR12  CR13  CR14  OR9  CLR16  CLR17  ELR2  CR15  CR16  OR12  OR13  CR17  CR18  CR19  CR20  CLR27  CLR28  CR21  CR22  CR23  CR24  CLR33  CLR34  CR25  CLR36  CR27  CLR38  CLR39  CLR40  CLR41  CLR42  CR30  CR31  CR32  CLR46  CLR47  CLR48  CLR49  CR34  CR35  CR36  CR37  CR38  OR45  CR39  CR40  CR41  CR42  CR43  OR55  CLR62  CLR63  CLR64  CLR65  OR46  OR54  CLR68  CLR69  CLR70  CLR71  CLR72\n",
      "  36   5  CR1  CR2  CLR3  CLR4  CR5  CR6  CR8  CR9  CR10  CR11  CR12  CR13  CR14  OR9  CLR16  CLR17  ELR2  CR15  CR16  OR12  OR13  CR17  CR18  CR19  CR20  CLR27  CLR28  CR21  CR22  CR23  CR24  CLR33  CLR34  CR25  CLR36  CR27  CLR38  CLR39  CLR40  CLR41  CLR42  CR30  CR31  CR32  CLR46  CLR47  CLR48  CLR49  CR34  CR35  CR36  CR37  CR38  OR45  CR39  CR40  CR41  CR42  CR43  OR55  CLR62  CLR63  CLR64  CLR65  OR46  OR54  CLR68  CLR69  CLR70  CLR71  CLR72\n",
      "  37   1  CR1  CR2  CLR3  CLR4  CR5  CR6  CR8  CR9  CR10  CR11  CR12  CR13  CR14  OR9  CLR16  CLR17  ELR2  CR15  CR16  OR12  OR13  CR17  CR18  CR19  CR20  CLR27  CLR28  CR21  CR22  CR23  CR24  CLR33  CLR34  CR25  CLR36  CR27  CLR38  CLR39  CLR40  CLR41  CLR42  CR30  CR31  CR32  CLR46  CLR47  CLR48  CLR49  CR34  CR35  CR36  CR37  CR38  OR45  CR39  CR40  CR41  CR42  CR43  OR55  CLR62  CLR63  CLR64  CLR65  OR46  OR54  CLR68  CLR69  CLR70  CLR71  CLR72\n",
      "  37   2  CR1  CR2  CLR3  CLR4  CR5  CR6  CR8  CR9  CR10  CR11  CR12  CR13  CR14  OR9  CLR16  CLR17  ELR2  CR15  CR16  OR12  OR13  CR17  CR18  CR19  CR20  CLR27  CLR28  CR21  CR22  CR23  CR24  CLR33  CLR34  CR25  CLR36  CR27  CLR38  CLR39  CLR40  CLR41  CLR42  CR30  CR31  CR32  CLR46  CLR47  CLR48  CLR49  CR34  CR35  CR36  CR37  CR38  OR45  CR39  CR40  CR41  CR42  CR43  OR55  CLR62  CLR63  CLR64  CLR65  OR46  OR54  CLR68  CLR69  CLR70  CLR71  CLR72\n",
      "  37   3  CR1  CR2  CLR3  CLR4  CR5  CR6  CR8  CR9  CR10  CR11  CR12  CR13  CR14  OR9  CLR16  CLR17  ELR2  CR15  CR16  OR12  OR13  CR17  CR18  CR19  CR20  CLR27  CLR28  CR21  CR22  CR23  CR24  CLR33  CLR34  CR25  CLR36  CR27  CLR38  CLR39  CLR40  CLR41  CLR42  CR30  CR31  CR32  CLR46  CLR47  CLR48  CLR49  CR34  CR35  CR36  CR37  CR38  OR45  CR39  CR40  CR41  CR42  CR43  OR55  CLR62  CLR63  CLR64  CLR65  OR46  OR54  CLR68  CLR69  CLR70  CLR71  CLR72\n",
      "  37   4  CR1  CR2  CLR3  CLR4  CR5  CR6  CR8  CR9  CR10  CR11  CR12  CR13  CR14  OR9  CLR16  CLR17  ELR2  CR15  CR16  OR12  OR13  CR17  CR18  CR19  CR20  CLR27  CLR28  CR21  CR22  CR23  CR24  CLR33  CLR34  CR25  CLR36  CR27  CLR38  CLR39  CLR40  CLR41  CLR42  CR30  CR31  CR32  CLR46  CLR47  CLR48  CLR49  CR34  CR35  CR36  CR37  CR38  OR45  CR39  CR40  CR41  CR42  CR43  OR55  CLR62  CLR63  CLR64  CLR65  OR46  OR54  CLR68  CLR69  CLR70  CLR71  CLR72\n",
      "  37   5  CR1  CR2  CLR3  CLR4  CR5  CR6  CR8  CR9  CR10  CR11  CR12  CR13  CR14  OR9  CLR16  CLR17  ELR2  CR15  CR16  OR12  OR13  CR17  CR18  CR19  CR20  CLR27  CLR28  CR21  CR22  CR23  CR24  CLR33  CLR34  CR25  CLR36  CR27  CLR38  CLR39  CLR40  CLR41  CLR42  CR30  CR31  CR32  CLR46  CLR47  CLR48  CLR49  CR34  CR35  CR36  CR37  CR38  OR45  CR39  CR40  CR41  CR42  CR43  OR55  CLR62  CLR63  CLR64  CLR65  OR46  OR54  CLR68  CLR69  CLR70  CLR71  CLR72\n",
      "  38   1  CR1  CR2  CLR3  CLR4  CR5  CR6  CR8  CR9  CR10  CR11  CR12  CR13  CR14  OR9  CLR16  CLR17  ELR2  CR15  CR16  OR12  OR13  CR17  CR18  CR19  CR20  CLR27  CLR28  CR21  CR22  CR23  CR24  CLR33  CLR34  CR25  CLR36  CR27  CLR38  CLR39  CLR40  CLR41  CLR42  CR30  CR31  CR32  CLR46  CLR47  CLR48  CLR49  CR34  CR35  CR36  CR37  CR38  OR45  CR39  CR40  CR41  CR42  CR43  OR55  CLR62  CLR63  CLR64  CLR65  OR46  OR54  CLR68  CLR69  CLR70  CLR71  CLR72\n",
      "  38   2  CR1  CR2  CLR3  CLR4  CR5  CR6  CR8  CR9  CR10  CR11  CR12  CR13  CR14  OR9  CLR16  CLR17  ELR2  CR15  CR16  OR12  OR13  CR17  CR18  CR19  CR20  CLR27  CLR28  CR21  CR22  CR23  CR24  CLR33  CLR34  CR25  CLR36  CR27  CLR38  CLR39  CLR40  CLR41  CLR42  CR30  CR31  CR32  CLR46  CLR47  CLR48  CLR49  CR34  CR35  CR36  CR37  CR38  OR45  CR39  CR40  CR41  CR42  CR43  OR55  CLR62  CLR63  CLR64  CLR65  OR46  OR54  CLR68  CLR69  CLR70  CLR71  CLR72\n",
      "  38   3  CR1  CR2  CLR3  CLR4  CR5  CR6  CR8  CR9  CR10  CR11  CR12  CR13  CR14  OR9  CLR16  CLR17  ELR2  CR15  CR16  OR12  OR13  CR17  CR18  CR19  CR20  CLR27  CLR28  CR21  CR22  CR23  CR24  CLR33  CLR34  CR25  CLR36  CR27  CLR38  CLR39  CLR40  CLR41  CLR42  CR30  CR31  CR32  CLR46  CLR47  CLR48  CLR49  CR34  CR35  CR36  CR37  CR38  OR45  CR39  CR40  CR41  CR42  CR43  OR55  CLR62  CLR63  CLR64  CLR65  OR46  OR54  CLR68  CLR69  CLR70  CLR71  CLR72\n",
      "  38   4  CR1  CR2  CLR3  CLR4  CR5  CR6  CR8  CR9  CR10  CR11  CR12  CR13  CR14  OR9  CLR16  CLR17  ELR2  CR15  CR16  OR12  OR13  CR17  CR18  CR19  CR20  CLR27  CLR28  CR21  CR22  CR23  CR24  CLR33  CLR34  CR25  CLR36  CR27  CLR38  CLR39  CLR40  CLR41  CLR42  CR30  CR31  CR32  CLR46  CLR47  CLR48  CLR49  CR34  CR35  CR36  CR37  CR38  OR45  CR39  CR40  CR41  CR42  CR43  OR55  CLR62  CLR63  CLR64  CLR65  OR46  OR54  CLR68  CLR69  CLR70  CLR71  CLR72\n",
      "  38   5  CR1  CR2  CLR3  CLR4  CR5  CR6  CR8  CR9  CR10  CR11  CR12  CR13  CR14  OR9  CLR16  CLR17  ELR2  CR15  CR16  OR12  OR13  CR17  CR18  CR19  CR20  CLR27  CLR28  CR21  CR22  CR23  CR24  CLR33  CLR34  CR25  CLR36  CR27  CLR38  CLR39  CLR40  CLR41  CLR42  CR30  CR31  CR32  CLR46  CLR47  CLR48  CLR49  CR34  CR35  CR36  CR37  CR38  OR45  CR39  CR40  CR41  CR42  CR43  OR55  CLR62  CLR63  CLR64  CLR65  OR46  OR54  CLR68  CLR69  CLR70  CLR71  CLR72\n",
      "  39   1  CR1  CR2  CLR3  CLR4  CR5  CR6  CR8  CR9  CR10  CR11  CR12  CR13  CR14  OR9  CLR16  CLR17  ELR2  CR15  CR16  OR12  OR13  CR17  CR18  CR19  CR20  CLR27  CLR28  CR21  CR22  CR23  CR24  CLR33  CLR34  CR25  CLR36  CR27  CLR38  CLR39  CLR40  CLR41  CLR42  CR30  CR31  CR32  CLR46  CLR47  CLR48  CLR49  CR34  CR35  CR36  CR37  CR38  OR45  CR39  CR40  CR41  CR42  CR43  OR55  CLR62  CLR63  CLR64  CLR65  OR46  OR54  CLR68  CLR69  CLR70  CLR71  CLR72\n",
      "  39   2  CR1  CR2  CLR3  CLR4  CR5  CR6  CR8  CR9  CR10  CR11  CR12  CR13  CR14  OR9  CLR16  CLR17  ELR2  CR15  CR16  OR12  OR13  CR17  CR18  CR19  CR20  CLR27  CLR28  CR21  CR22  CR23  CR24  CLR33  CLR34  CR25  CLR36  CR27  CLR38  CLR39  CLR40  CLR41  CLR42  CR30  CR31  CR32  CLR46  CLR47  CLR48  CLR49  CR34  CR35  CR36  CR37  CR38  OR45  CR39  CR40  CR41  CR42  CR43  OR55  CLR62  CLR63  CLR64  CLR65  OR46  OR54  CLR68  CLR69  CLR70  CLR71  CLR72\n",
      "  39   3  CR1  CR2  CLR3  CLR4  CR5  CR6  CR8  CR9  CR10  CR11  CR12  CR13  CR14  OR9  CLR16  CLR17  ELR2  CR15  CR16  OR12  OR13  CR17  CR18  CR19  CR20  CLR27  CLR28  CR21  CR22  CR23  CR24  CLR33  CLR34  CR25  CLR36  CR27  CLR38  CLR39  CLR40  CLR41  CLR42  CR30  CR31  CR32  CLR46  CLR47  CLR48  CLR49  CR34  CR35  CR36  CR37  CR38  OR45  CR39  CR40  CR41  CR42  CR43  OR55  CLR62  CLR63  CLR64  CLR65  OR46  OR54  CLR68  CLR69  CLR70  CLR71  CLR72\n",
      "  39   4  CR1  CR2  CLR3  CLR4  CR5  CR6  CR8  CR9  CR10  CR11  CR12  CR13  CR14  OR9  CLR16  CLR17  ELR2  CR15  CR16  OR12  OR13  CR17  CR18  CR19  CR20  CLR27  CLR28  CR21  CR22  CR23  CR24  CLR33  CLR34  CR25  CLR36  CR27  CLR38  CLR39  CLR40  CLR41  CLR42  CR30  CR31  CR32  CLR46  CLR47  CLR48  CLR49  CR34  CR35  CR36  CR37  CR38  OR45  CR39  CR40  CR41  CR42  CR43  OR55  CLR62  CLR63  CLR64  CLR65  OR46  OR54  CLR68  CLR69  CLR70  CLR71  CLR72\n",
      "  39   5  CR1  CR2  CLR3  CLR4  CR5  CR6  CR8  CR9  CR10  CR11  CR12  CR13  CR14  OR9  CLR16  CLR17  ELR2  CR15  CR16  OR12  OR13  CR17  CR18  CR19  CR20  CLR27  CLR28  CR21  CR22  CR23  CR24  CLR33  CLR34  CR25  CLR36  CR27  CLR38  CLR39  CLR40  CLR41  CLR42  CR30  CR31  CR32  CLR46  CLR47  CLR48  CLR49  CR34  CR35  CR36  CR37  CR38  OR45  CR39  CR40  CR41  CR42  CR43  OR55  CLR62  CLR63  CLR64  CLR65  OR46  OR54  CLR68  CLR69  CLR70  CLR71  CLR72\n",
      "  40   1  CR1  CR2  CLR3  CLR4  CR5  CR6  CR8  CR9  CR10  CR11  CR12  CR13  CR14  OR9  CLR16  CLR17  ELR2  CR15  CR16  OR12  OR13  CR17  CR18  CR19  CR20  CLR27  CLR28  CR21  CR22  CR23  CR24  CLR33  CLR34  CR25  CLR36  CR27  CLR38  CLR39  CLR40  CLR41  CLR42  CR30  CR31  CR32  CLR46  CLR47  CLR48  CLR49  CR34  CR35  CR36  CR37  CR38  OR45  CR39  CR40  CR41  CR42  CR43  OR55  CLR62  CLR63  CLR64  CLR65  OR46  OR54  CLR68  CLR69  CLR70  CLR71  CLR72\n",
      "  40   2  CR1  CR2  CLR3  CLR4  CR5  CR6  CR8  CR9  CR10  CR11  CR12  CR13  CR14  OR9  CLR16  CLR17  ELR2  CR15  CR16  OR12  OR13  CR17  CR18  CR19  CR20  CLR27  CLR28  CR21  CR22  CR23  CR24  CLR33  CLR34  CR25  CLR36  CR27  CLR38  CLR39  CLR40  CLR41  CLR42  CR30  CR31  CR32  CLR46  CLR47  CLR48  CLR49  CR34  CR35  CR36  CR37  CR38  OR45  CR39  CR40  CR41  CR42  CR43  OR55  CLR62  CLR63  CLR64  CLR65  OR46  OR54  CLR68  CLR69  CLR70  CLR71  CLR72\n",
      "  40   3  CR1  CR2  CLR3  CLR4  CR5  CR6  CR8  CR9  CR10  CR11  CR12  CR13  CR14  OR9  CLR16  CLR17  ELR2  CR15  CR16  OR12  OR13  CR17  CR18  CR19  CR20  CLR27  CLR28  CR21  CR22  CR23  CR24  CLR33  CLR34  CR25  CLR36  CR27  CLR38  CLR39  CLR40  CLR41  CLR42  CR30  CR31  CR32  CLR46  CLR47  CLR48  CLR49  CR34  CR35  CR36  CR37  CR38  OR45  CR39  CR40  CR41  CR42  CR43  OR55  CLR62  CLR63  CLR64  CLR65  OR46  OR54  CLR68  CLR69  CLR70  CLR71  CLR72\n",
      "  40   4  CR1  CR2  CLR3  CLR4  CR5  CR6  CR8  CR9  CR10  CR11  CR12  CR13  CR14  OR9  CLR16  CLR17  ELR2  CR15  CR16  OR12  OR13  CR17  CR18  CR19  CR20  CLR27  CLR28  CR21  CR22  CR23  CR24  CLR33  CLR34  CR25  CLR36  CR27  CLR38  CLR39  CLR40  CLR41  CLR42  CR30  CR31  CR32  CLR46  CLR47  CLR48  CLR49  CR34  CR35  CR36  CR37  CR38  OR45  CR39  CR40  CR41  CR42  CR43  OR55  CLR62  CLR63  CLR64  CLR65  OR46  OR54  CLR68  CLR69  CLR70  CLR71  CLR72\n",
      "  40   5  CR1  CR2  CLR3  CLR4  CR5  CR6  CR8  CR9  CR10  CR11  CR12  CR13  CR14  OR9  CLR16  CLR17  ELR2  CR15  CR16  OR12  OR13  CR17  CR18  CR19  CR20  CLR27  CLR28  CR21  CR22  CR23  CR24  CLR33  CLR34  CR25  CLR36  CR27  CLR38  CLR39  CLR40  CLR41  CLR42  CR30  CR31  CR32  CLR46  CLR47  CLR48  CLR49  CR34  CR35  CR36  CR37  CR38  OR45  CR39  CR40  CR41  CR42  CR43  OR55  CLR62  CLR63  CLR64  CLR65  OR46  OR54  CLR68  CLR69  CLR70  CLR71  CLR72\n",
      "  41   1  CR1  CR2  CLR3  CLR4  CR5  CR6  CR8  CR9  CR10  CR11  CR12  CR13  CR14  OR9  CLR16  CLR17  ELR2  CR15  CR16  OR12  OR13  CR17  CR18  CR19  CR20  CLR27  CLR28  CR21  CR22  CR23  CR24  CLR33  CLR34  CR25  CLR36  CR27  CLR38  CLR39  CLR40  CLR41  CLR42  CR30  CR31  CR32  CLR46  CLR47  CLR48  CLR49  CR34  CR35  CR36  CR37  CR38  OR45  CR39  CR40  CR41  CR42  CR43  OR55  CLR62  CLR63  CLR64  CLR65  OR46  OR54  CLR68  CLR69  CLR70  CLR71  CLR72\n",
      "  41   2  CR1  CR2  CLR3  CLR4  CR5  CR6  CR8  CR9  CR10  CR11  CR12  CR13  CR14  OR9  CLR16  CLR17  ELR2  CR15  CR16  OR12  OR13  CR17  CR18  CR19  CR20  CLR27  CLR28  CR21  CR22  CR23  CR24  CLR33  CLR34  CR25  CLR36  CR27  CLR38  CLR39  CLR40  CLR41  CLR42  CR30  CR31  CR32  CLR46  CLR47  CLR48  CLR49  CR34  CR35  CR36  CR37  CR38  OR45  CR39  CR40  CR41  CR42  CR43  OR55  CLR62  CLR63  CLR64  CLR65  OR46  OR54  CLR68  CLR69  CLR70  CLR71  CLR72\n",
      "  41   3  CR1  CR2  CLR3  CLR4  CR5  CR6  CR8  CR9  CR10  CR11  CR12  CR13  CR14  OR9  CLR16  CLR17  ELR2  CR15  CR16  OR12  OR13  CR17  CR18  CR19  CR20  CLR27  CLR28  CR21  CR22  CR23  CR24  CLR33  CLR34  CR25  CLR36  CR27  CLR38  CLR39  CLR40  CLR41  CLR42  CR30  CR31  CR32  CLR46  CLR47  CLR48  CLR49  CR34  CR35  CR36  CR37  CR38  OR45  CR39  CR40  CR41  CR42  CR43  OR55  CLR62  CLR63  CLR64  CLR65  OR46  OR54  CLR68  CLR69  CLR70  CLR71  CLR72\n",
      "  41   4  CR1  CR2  CLR3  CLR4  CR5  CR6  CR8  CR9  CR10  CR11  CR12  CR13  CR14  OR9  CLR16  CLR17  ELR2  CR15  CR16  OR12  OR13  CR17  CR18  CR19  CR20  CLR27  CLR28  CR21  CR22  CR23  CR24  CLR33  CLR34  CR25  CLR36  CR27  CLR38  CLR39  CLR40  CLR41  CLR42  CR30  CR31  CR32  CLR46  CLR47  CLR48  CLR49  CR34  CR35  CR36  CR37  CR38  OR45  CR39  CR40  CR41  CR42  CR43  OR55  CLR62  CLR63  CLR64  CLR65  OR46  OR54  CLR68  CLR69  CLR70  CLR71  CLR72\n",
      "  41   5  CR1  CR2  CLR3  CLR4  CR5  CR6  CR8  CR9  CR10  CR11  CR12  CR13  CR14  OR9  CLR16  CLR17  ELR2  CR15  CR16  OR12  OR13  CR17  CR18  CR19  CR20  CLR27  CLR28  CR21  CR22  CR23  CR24  CLR33  CLR34  CR25  CLR36  CR27  CLR38  CLR39  CLR40  CLR41  CLR42  CR30  CR31  CR32  CLR46  CLR47  CLR48  CLR49  CR34  CR35  CR36  CR37  CR38  OR45  CR39  CR40  CR41  CR42  CR43  OR55  CLR62  CLR63  CLR64  CLR65  OR46  OR54  CLR68  CLR69  CLR70  CLR71  CLR72\n",
      "  42   1  CR1  CR2  CLR3  CLR4  CR5  CR6  CR8  CR9  CR10  CR11  CR12  CR13  CR14  OR9  CLR16  CLR17  ELR2  CR15  CR16  OR12  OR13  CR17  CR18  CR19  CR20  CLR27  CLR28  CR21  CR22  CR23  CR24  CLR33  CLR34  CR25  CLR36  CR27  CLR38  CLR39  CLR40  CLR41  CLR42  CR30  CR31  CR32  CLR46  CLR47  CLR48  CLR49  CR34  CR35  CR36  CR37  CR38  OR45  CR39  CR40  CR41  CR42  CR43  OR55  CLR62  CLR63  CLR64  CLR65  OR46  OR54  CLR68  CLR69  CLR70  CLR71  CLR72\n",
      "  42   2  CR1  CR2  CLR3  CLR4  CR5  CR6  CR8  CR9  CR10  CR11  CR12  CR13  CR14  OR9  CLR16  CLR17  ELR2  CR15  CR16  OR12  OR13  CR17  CR18  CR19  CR20  CLR27  CLR28  CR21  CR22  CR23  CR24  CLR33  CLR34  CR25  CLR36  CR27  CLR38  CLR39  CLR40  CLR41  CLR42  CR30  CR31  CR32  CLR46  CLR47  CLR48  CLR49  CR34  CR35  CR36  CR37  CR38  OR45  CR39  CR40  CR41  CR42  CR43  OR55  CLR62  CLR63  CLR64  CLR65  OR46  OR54  CLR68  CLR69  CLR70  CLR71  CLR72\n",
      "  42   3  CR1  CR2  CLR3  CLR4  CR5  CR6  CR8  CR9  CR10  CR11  CR12  CR13  CR14  OR9  CLR16  CLR17  ELR2  CR15  CR16  OR12  OR13  CR17  CR18  CR19  CR20  CLR27  CLR28  CR21  CR22  CR23  CR24  CLR33  CLR34  CR25  CLR36  CR27  CLR38  CLR39  CLR40  CLR41  CLR42  CR30  CR31  CR32  CLR46  CLR47  CLR48  CLR49  CR34  CR35  CR36  CR37  CR38  OR45  CR39  CR40  CR41  CR42  CR43  OR55  CLR62  CLR63  CLR64  CLR65  OR46  OR54  CLR68  CLR69  CLR70  CLR71  CLR72\n",
      "  42   4  CR1  CR2  CLR3  CLR4  CR5  CR6  CR8  CR9  CR10  CR11  CR12  CR13  CR14  OR9  CLR16  CLR17  ELR2  CR15  CR16  OR12  OR13  CR17  CR18  CR19  CR20  CLR27  CLR28  CR21  CR22  CR23  CR24  CLR33  CLR34  CR25  CLR36  CR27  CLR38  CLR39  CLR40  CLR41  CLR42  CR30  CR31  CR32  CLR46  CLR47  CLR48  CLR49  CR34  CR35  CR36  CR37  CR38  OR45  CR39  CR40  CR41  CR42  CR43  OR55  CLR62  CLR63  CLR64  CLR65  OR46  OR54  CLR68  CLR69  CLR70  CLR71  CLR72\n",
      "  42   5  CR1  CR2  CLR3  CLR4  CR5  CR6  CR8  CR9  CR10  CR11  CR12  CR13  CR14  OR9  CLR16  CLR17  ELR2  CR15  CR16  OR12  OR13  CR17  CR18  CR19  CR20  CLR27  CLR28  CR21  CR22  CR23  CR24  CLR33  CLR34  CR25  CLR36  CR27  CLR38  CLR39  CLR40  CLR41  CLR42  CR30  CR31  CR32  CLR46  CLR47  CLR48  CLR49  CR34  CR35  CR36  CR37  CR38  OR45  CR39  CR40  CR41  CR42  CR43  OR55  CLR62  CLR63  CLR64  CLR65  OR46  OR54  CLR68  CLR69  CLR70  CLR71  CLR72\n",
      "  43   1  CR1  CR2  CLR3  CLR4  CR5  CR6  CR8  CR9  CR10  CR11  CR12  CR13  CR14  OR9  CLR16  CLR17  ELR2  CR15  CR16  OR12  OR13  CR17  CR18  CR19  CR20  CLR27  CLR28  CR21  CR22  CR23  CR24  CLR33  CLR34  CR25  CLR36  CR27  CLR38  CLR39  CLR40  CLR41  CLR42  CR30  CR31  CR32  CLR46  CLR47  CLR48  CLR49  CR34  CR35  CR36  CR37  CR38  OR45  CR39  CR40  CR41  CR42  CR43  OR55  CLR62  CLR63  CLR64  CLR65  OR46  OR54  CLR68  CLR69  CLR70  CLR71  CLR72\n",
      "  43   2  CR1  CR2  CLR3  CLR4  CR5  CR6  CR8  CR9  CR10  CR11  CR12  CR13  CR14  OR9  CLR16  CLR17  ELR2  CR15  CR16  OR12  OR13  CR17  CR18  CR19  CR20  CLR27  CLR28  CR21  CR22  CR23  CR24  CLR33  CLR34  CR25  CLR36  CR27  CLR38  CLR39  CLR40  CLR41  CLR42  CR30  CR31  CR32  CLR46  CLR47  CLR48  CLR49  CR34  CR35  CR36  CR37  CR38  OR45  CR39  CR40  CR41  CR42  CR43  OR55  CLR62  CLR63  CLR64  CLR65  OR46  OR54  CLR68  CLR69  CLR70  CLR71  CLR72\n",
      "  43   3  CR1  CR2  CLR3  CLR4  CR5  CR6  CR8  CR9  CR10  CR11  CR12  CR13  CR14  OR9  CLR16  CLR17  ELR2  CR15  CR16  OR12  OR13  CR17  CR18  CR19  CR20  CLR27  CLR28  CR21  CR22  CR23  CR24  CLR33  CLR34  CR25  CLR36  CR27  CLR38  CLR39  CLR40  CLR41  CLR42  CR30  CR31  CR32  CLR46  CLR47  CLR48  CLR49  CR34  CR35  CR36  CR37  CR38  OR45  CR39  CR40  CR41  CR42  CR43  OR55  CLR62  CLR63  CLR64  CLR65  OR46  OR54  CLR68  CLR69  CLR70  CLR71  CLR72\n",
      "  43   4  CR1  CR2  CLR3  CLR4  CR5  CR6  CR8  CR9  CR10  CR11  CR12  CR13  CR14  OR9  CLR16  CLR17  ELR2  CR15  CR16  OR12  OR13  CR17  CR18  CR19  CR20  CLR27  CLR28  CR21  CR22  CR23  CR24  CLR33  CLR34  CR25  CLR36  CR27  CLR38  CLR39  CLR40  CLR41  CLR42  CR30  CR31  CR32  CLR46  CLR47  CLR48  CLR49  CR34  CR35  CR36  CR37  CR38  OR45  CR39  CR40  CR41  CR42  CR43  OR55  CLR62  CLR63  CLR64  CLR65  OR46  OR54  CLR68  CLR69  CLR70  CLR71  CLR72\n",
      "  43   5  CR1  CR2  CLR3  CLR4  CR5  CR6  CR8  CR9  CR10  CR11  CR12  CR13  CR14  OR9  CLR16  CLR17  ELR2  CR15  CR16  OR12  OR13  CR17  CR18  CR19  CR20  CLR27  CLR28  CR21  CR22  CR23  CR24  CLR33  CLR34  CR25  CLR36  CR27  CLR38  CLR39  CLR40  CLR41  CLR42  CR30  CR31  CR32  CLR46  CLR47  CLR48  CLR49  CR34  CR35  CR36  CR37  CR38  OR45  CR39  CR40  CR41  CR42  CR43  OR55  CLR62  CLR63  CLR64  CLR65  OR46  OR54  CLR68  CLR69  CLR70  CLR71  CLR72\n",
      "  44   1  CR1  CR2  CLR3  CLR4  CR5  CR6  CR8  CR9  CR10  CR11  CR12  CR13  CR14  OR9  CLR16  CLR17  ELR2  CR15  CR16  OR12  OR13  CR17  CR18  CR19  CR20  CLR27  CLR28  CR21  CR22  CR23  CR24  CLR33  CLR34  CR25  CLR36  CR27  CLR38  CLR39  CLR40  CLR41  CLR42  CR30  CR31  CR32  CLR46  CLR47  CLR48  CLR49  CR34  CR35  CR36  CR37  CR38  OR45  CR39  CR40  CR41  CR42  CR43  OR55  CLR62  CLR63  CLR64  CLR65  OR46  OR54  CLR68  CLR69  CLR70  CLR71  CLR72\n",
      "  44   2  CR1  CR2  CLR3  CLR4  CR5  CR6  CR8  CR9  CR10  CR11  CR12  CR13  CR14  OR9  CLR16  CLR17  ELR2  CR15  CR16  OR12  OR13  CR17  CR18  CR19  CR20  CLR27  CLR28  CR21  CR22  CR23  CR24  CLR33  CLR34  CR25  CLR36  CR27  CLR38  CLR39  CLR40  CLR41  CLR42  CR30  CR31  CR32  CLR46  CLR47  CLR48  CLR49  CR34  CR35  CR36  CR37  CR38  OR45  CR39  CR40  CR41  CR42  CR43  OR55  CLR62  CLR63  CLR64  CLR65  OR46  OR54  CLR68  CLR69  CLR70  CLR71  CLR72\n",
      "  44   3  CR1  CR2  CLR3  CLR4  CR5  CR6  CR8  CR9  CR10  CR11  CR12  CR13  CR14  OR9  CLR16  CLR17  ELR2  CR15  CR16  OR12  OR13  CR17  CR18  CR19  CR20  CLR27  CLR28  CR21  CR22  CR23  CR24  CLR33  CLR34  CR25  CLR36  CR27  CLR38  CLR39  CLR40  CLR41  CLR42  CR30  CR31  CR32  CLR46  CLR47  CLR48  CLR49  CR34  CR35  CR36  CR37  CR38  OR45  CR39  CR40  CR41  CR42  CR43  OR55  CLR62  CLR63  CLR64  CLR65  OR46  OR54  CLR68  CLR69  CLR70  CLR71  CLR72\n",
      "  44   4  CR1  CR2  CLR3  CLR4  CR5  CR6  CR8  CR9  CR10  CR11  CR12  CR13  CR14  OR9  CLR16  CLR17  ELR2  CR15  CR16  OR12  OR13  CR17  CR18  CR19  CR20  CLR27  CLR28  CR21  CR22  CR23  CR24  CLR33  CLR34  CR25  CLR36  CR27  CLR38  CLR39  CLR40  CLR41  CLR42  CR30  CR31  CR32  CLR46  CLR47  CLR48  CLR49  CR34  CR35  CR36  CR37  CR38  OR45  CR39  CR40  CR41  CR42  CR43  OR55  CLR62  CLR63  CLR64  CLR65  OR46  OR54  CLR68  CLR69  CLR70  CLR71  CLR72\n",
      "  44   5  CR1  CR2  CLR3  CLR4  CR5  CR6  CR8  CR9  CR10  CR11  CR12  CR13  CR14  OR9  CLR16  CLR17  ELR2  CR15  CR16  OR12  OR13  CR17  CR18  CR19  CR20  CLR27  CLR28  CR21  CR22  CR23  CR24  CLR33  CLR34  CR25  CLR36  CR27  CLR38  CLR39  CLR40  CLR41  CLR42  CR30  CR31  CR32  CLR46  CLR47  CLR48  CLR49  CR34  CR35  CR36  CR37  CR38  OR45  CR39  CR40  CR41  CR42  CR43  OR55  CLR62  CLR63  CLR64  CLR65  OR46  OR54  CLR68  CLR69  CLR70  CLR71  CLR72\n",
      "  45   1  CR1  CR2  CLR3  CLR4  CR5  CR6  CR8  CR9  CR10  CR11  CR12  CR13  CR14  OR9  CLR16  CLR17  ELR2  CR15  CR16  OR12  OR13  CR17  CR18  CR19  CR20  CLR27  CLR28  CR21  CR22  CR23  CR24  CLR33  CLR34  CR25  CLR36  CR27  CLR38  CLR39  CLR40  CLR41  CLR42  CR30  CR31  CR32  CLR46  CLR47  CLR48  CLR49  CR34  CR35  CR36  CR37  CR38  OR45  CR39  CR40  CR41  CR42  CR43  OR55  CLR62  CLR63  CLR64  CLR65  OR46  OR54  CLR68  CLR69  CLR70  CLR71  CLR72\n",
      "  45   2  CR1  CR2  CLR3  CLR4  CR5  CR6  CR8  CR9  CR10  CR11  CR12  CR13  CR14  OR9  CLR16  CLR17  ELR2  CR15  CR16  OR12  OR13  CR17  CR18  CR19  CR20  CLR27  CLR28  CR21  CR22  CR23  CR24  CLR33  CLR34  CR25  CLR36  CR27  CLR38  CLR39  CLR40  CLR41  CLR42  CR30  CR31  CR32  CLR46  CLR47  CLR48  CLR49  CR34  CR35  CR36  CR37  CR38  OR45  CR39  CR40  CR41  CR42  CR43  OR55  CLR62  CLR63  CLR64  CLR65  OR46  OR54  CLR68  CLR69  CLR70  CLR71  CLR72\n",
      "  45   3  CR1  CR2  CLR3  CLR4  CR5  CR6  CR8  CR9  CR10  CR11  CR12  CR13  CR14  OR9  CLR16  CLR17  ELR2  CR15  CR16  OR12  OR13  CR17  CR18  CR19  CR20  CLR27  CLR28  CR21  CR22  CR23  CR24  CLR33  CLR34  CR25  CLR36  CR27  CLR38  CLR39  CLR40  CLR41  CLR42  CR30  CR31  CR32  CLR46  CLR47  CLR48  CLR49  CR34  CR35  CR36  CR37  CR38  OR45  CR39  CR40  CR41  CR42  CR43  OR55  CLR62  CLR63  CLR64  CLR65  OR46  OR54  CLR68  CLR69  CLR70  CLR71  CLR72\n",
      "  45   4  CR1  CR2  CLR3  CLR4  CR5  CR6  CR8  CR9  CR10  CR11  CR12  CR13  CR14  OR9  CLR16  CLR17  ELR2  CR15  CR16  OR12  OR13  CR17  CR18  CR19  CR20  CLR27  CLR28  CR21  CR22  CR23  CR24  CLR33  CLR34  CR25  CLR36  CR27  CLR38  CLR39  CLR40  CLR41  CLR42  CR30  CR31  CR32  CLR46  CLR47  CLR48  CLR49  CR34  CR35  CR36  CR37  CR38  OR45  CR39  CR40  CR41  CR42  CR43  OR55  CLR62  CLR63  CLR64  CLR65  OR46  OR54  CLR68  CLR69  CLR70  CLR71  CLR72\n",
      "  45   5  CR1  CR2  CLR3  CLR4  CR5  CR6  CR8  CR9  CR10  CR11  CR12  CR13  CR14  OR9  CLR16  CLR17  ELR2  CR15  CR16  OR12  OR13  CR17  CR18  CR19  CR20  CLR27  CLR28  CR21  CR22  CR23  CR24  CLR33  CLR34  CR25  CLR36  CR27  CLR38  CLR39  CLR40  CLR41  CLR42  CR30  CR31  CR32  CLR46  CLR47  CLR48  CLR49  CR34  CR35  CR36  CR37  CR38  OR45  CR39  CR40  CR41  CR42  CR43  OR55  CLR62  CLR63  CLR64  CLR65  OR46  OR54  CLR68  CLR69  CLR70  CLR71  CLR72\n",
      "  46   1  CR1  CR2  CLR3  CLR4  CR5  CR6  CR8  CR9  CR10  CR11  CR12  CR13  CR14  OR9  CLR16  CLR17  ELR2  CR15  CR16  OR12  OR13  CR17  CR18  CR19  CR20  CLR27  CLR28  CR21  CR22  CR23  CR24  CLR33  CLR34  CR25  CLR36  CR27  CLR38  CLR39  CLR40  CLR41  CLR42  CR30  CR31  CR32  CLR46  CLR47  CLR48  CLR49  CR34  CR35  CR36  CR37  CR38  OR45  CR39  CR40  CR41  CR42  CR43  OR55  CLR62  CLR63  CLR64  CLR65  OR46  OR54  CLR68  CLR69  CLR70  CLR71  CLR72\n",
      "  46   2  CR1  CR2  CLR3  CLR4  CR5  CR6  CR8  CR9  CR10  CR11  CR12  CR13  CR14  OR9  CLR16  CLR17  ELR2  CR15  CR16  OR12  OR13  CR17  CR18  CR19  CR20  CLR27  CLR28  CR21  CR22  CR23  CR24  CLR33  CLR34  CR25  CLR36  CR27  CLR38  CLR39  CLR40  CLR41  CLR42  CR30  CR31  CR32  CLR46  CLR47  CLR48  CLR49  CR34  CR35  CR36  CR37  CR38  OR45  CR39  CR40  CR41  CR42  CR43  OR55  CLR62  CLR63  CLR64  CLR65  OR46  OR54  CLR68  CLR69  CLR70  CLR71  CLR72\n",
      "  46   3  CR1  CR2  CLR3  CLR4  CR5  CR6  CR8  CR9  CR10  CR11  CR12  CR13  CR14  OR9  CLR16  CLR17  ELR2  CR15  CR16  OR12  OR13  CR17  CR18  CR19  CR20  CLR27  CLR28  CR21  CR22  CR23  CR24  CLR33  CLR34  CR25  CLR36  CR27  CLR38  CLR39  CLR40  CLR41  CLR42  CR30  CR31  CR32  CLR46  CLR47  CLR48  CLR49  CR34  CR35  CR36  CR37  CR38  OR45  CR39  CR40  CR41  CR42  CR43  OR55  CLR62  CLR63  CLR64  CLR65  OR46  OR54  CLR68  CLR69  CLR70  CLR71  CLR72\n",
      "  46   4  CR1  CR2  CLR3  CLR4  CR5  CR6  CR8  CR9  CR10  CR11  CR12  CR13  CR14  OR9  CLR16  CLR17  ELR2  CR15  CR16  OR12  OR13  CR17  CR18  CR19  CR20  CLR27  CLR28  CR21  CR22  CR23  CR24  CLR33  CLR34  CR25  CLR36  CR27  CLR38  CLR39  CLR40  CLR41  CLR42  CR30  CR31  CR32  CLR46  CLR47  CLR48  CLR49  CR34  CR35  CR36  CR37  CR38  OR45  CR39  CR40  CR41  CR42  CR43  OR55  CLR62  CLR63  CLR64  CLR65  OR46  OR54  CLR68  CLR69  CLR70  CLR71  CLR72\n",
      "  46   5  CR1  CR2  CLR3  CLR4  CR5  CR6  CR8  CR9  CR10  CR11  CR12  CR13  CR14  OR9  CLR16  CLR17  ELR2  CR15  CR16  OR12  OR13  CR17  CR18  CR19  CR20  CLR27  CLR28  CR21  CR22  CR23  CR24  CLR33  CLR34  CR25  CLR36  CR27  CLR38  CLR39  CLR40  CLR41  CLR42  CR30  CR31  CR32  CLR46  CLR47  CLR48  CLR49  CR34  CR35  CR36  CR37  CR38  OR45  CR39  CR40  CR41  CR42  CR43  OR55  CLR62  CLR63  CLR64  CLR65  OR46  OR54  CLR68  CLR69  CLR70  CLR71  CLR72\n",
      "  47   1  CR1  CR2  CLR3  CLR4  CR5  CR6  CR8  CR9  CR10  CR11  CR12  CR13  CR14  OR9  CLR16  CLR17  ELR2  CR15  CR16  OR12  OR13  CR17  CR18  CR19  CR20  CLR27  CLR28  CR21  CR22  CR23  CR24  CLR33  CLR34  CR25  CLR36  CR27  CLR38  CLR39  CLR40  CLR41  CLR42  CR30  CR31  CR32  CLR46  CLR47  CLR48  CLR49  CR34  CR35  CR36  CR37  CR38  OR45  CR39  CR40  CR41  CR42  CR43  OR55  CLR62  CLR63  CLR64  CLR65  OR46  OR54  CLR68  CLR69  CLR70  CLR71  CLR72\n",
      "  47   2  CR1  CR2  CLR3  CLR4  CR5  CR6  CR8  CR9  CR10  CR11  CR12  CR13  CR14  OR9  CLR16  CLR17  ELR2  CR15  CR16  OR12  OR13  CR17  CR18  CR19  CR20  CLR27  CLR28  CR21  CR22  CR23  CR24  CLR33  CLR34  CR25  CLR36  CR27  CLR38  CLR39  CLR40  CLR41  CLR42  CR30  CR31  CR32  CLR46  CLR47  CLR48  CLR49  CR34  CR35  CR36  CR37  CR38  OR45  CR39  CR40  CR41  CR42  CR43  OR55  CLR62  CLR63  CLR64  CLR65  OR46  OR54  CLR68  CLR69  CLR70  CLR71  CLR72\n",
      "  47   3  CR1  CR2  CLR3  CLR4  CR5  CR6  CR8  CR9  CR10  CR11  CR12  CR13  CR14  OR9  CLR16  CLR17  ELR2  CR15  CR16  OR12  OR13  CR17  CR18  CR19  CR20  CLR27  CLR28  CR21  CR22  CR23  CR24  CLR33  CLR34  CR25  CLR36  CR27  CLR38  CLR39  CLR40  CLR41  CLR42  CR30  CR31  CR32  CLR46  CLR47  CLR48  CLR49  CR34  CR35  CR36  CR37  CR38  OR45  CR39  CR40  CR41  CR42  CR43  OR55  CLR62  CLR63  CLR64  CLR65  OR46  OR54  CLR68  CLR69  CLR70  CLR71  CLR72\n",
      "  47   4  CR1  CR2  CLR3  CLR4  CR5  CR6  CR8  CR9  CR10  CR11  CR12  CR13  CR14  OR9  CLR16  CLR17  ELR2  CR15  CR16  OR12  OR13  CR17  CR18  CR19  CR20  CLR27  CLR28  CR21  CR22  CR23  CR24  CLR33  CLR34  CR25  CLR36  CR27  CLR38  CLR39  CLR40  CLR41  CLR42  CR30  CR31  CR32  CLR46  CLR47  CLR48  CLR49  CR34  CR35  CR36  CR37  CR38  OR45  CR39  CR40  CR41  CR42  CR43  OR55  CLR62  CLR63  CLR64  CLR65  OR46  OR54  CLR68  CLR69  CLR70  CLR71  CLR72\n",
      "  47   5  CR1  CR2  CLR3  CLR4  CR5  CR6  CR8  CR9  CR10  CR11  CR12  CR13  CR14  OR9  CLR16  CLR17  ELR2  CR15  CR16  OR12  OR13  CR17  CR18  CR19  CR20  CLR27  CLR28  CR21  CR22  CR23  CR24  CLR33  CLR34  CR25  CLR36  CR27  CLR38  CLR39  CLR40  CLR41  CLR42  CR30  CR31  CR32  CLR46  CLR47  CLR48  CLR49  CR34  CR35  CR36  CR37  CR38  OR45  CR39  CR40  CR41  CR42  CR43  OR55  CLR62  CLR63  CLR64  CLR65  OR46  OR54  CLR68  CLR69  CLR70  CLR71  CLR72\n",
      "  48   1  CR1  CR2  CLR3  CLR4  CR5  CR6  CR8  CR9  CR10  CR11  CR12  CR13  CR14  OR9  CLR16  CLR17  ELR2  CR15  CR16  OR12  OR13  CR17  CR18  CR19  CR20  CLR27  CLR28  CR21  CR22  CR23  CR24  CLR33  CLR34  CR25  CLR36  CR27  CLR38  CLR39  CLR40  CLR41  CLR42  CR30  CR31  CR32  CLR46  CLR47  CLR48  CLR49  CR34  CR35  CR36  CR37  CR38  OR45  CR39  CR40  CR41  CR42  CR43  OR55  CLR62  CLR63  CLR64  CLR65  OR46  OR54  CLR68  CLR69  CLR70  CLR71  CLR72\n",
      "  48   2  CR1  CR2  CLR3  CLR4  CR5  CR6  CR8  CR9  CR10  CR11  CR12  CR13  CR14  OR9  CLR16  CLR17  ELR2  CR15  CR16  OR12  OR13  CR17  CR18  CR19  CR20  CLR27  CLR28  CR21  CR22  CR23  CR24  CLR33  CLR34  CR25  CLR36  CR27  CLR38  CLR39  CLR40  CLR41  CLR42  CR30  CR31  CR32  CLR46  CLR47  CLR48  CLR49  CR34  CR35  CR36  CR37  CR38  OR45  CR39  CR40  CR41  CR42  CR43  OR55  CLR62  CLR63  CLR64  CLR65  OR46  OR54  CLR68  CLR69  CLR70  CLR71  CLR72\n",
      "  48   3  CR1  CR2  CLR3  CLR4  CR5  CR6  CR8  CR9  CR10  CR11  CR12  CR13  CR14  OR9  CLR16  CLR17  ELR2  CR15  CR16  OR12  OR13  CR17  CR18  CR19  CR20  CLR27  CLR28  CR21  CR22  CR23  CR24  CLR33  CLR34  CR25  CLR36  CR27  CLR38  CLR39  CLR40  CLR41  CLR42  CR30  CR31  CR32  CLR46  CLR47  CLR48  CLR49  CR34  CR35  CR36  CR37  CR38  OR45  CR39  CR40  CR41  CR42  CR43  OR55  CLR62  CLR63  CLR64  CLR65  OR46  OR54  CLR68  CLR69  CLR70  CLR71  CLR72\n",
      "  48   4  CR1  CR2  CLR3  CLR4  CR5  CR6  CR8  CR9  CR10  CR11  CR12  CR13  CR14  OR9  CLR16  CLR17  ELR2  CR15  CR16  OR12  OR13  CR17  CR18  CR19  CR20  CLR27  CLR28  CR21  CR22  CR23  CR24  CLR33  CLR34  CR25  CLR36  CR27  CLR38  CLR39  CLR40  CLR41  CLR42  CR30  CR31  CR32  CLR46  CLR47  CLR48  CLR49  CR34  CR35  CR36  CR37  CR38  OR45  CR39  CR40  CR41  CR42  CR43  OR55  CLR62  CLR63  CLR64  CLR65  OR46  OR54  CLR68  CLR69  CLR70  CLR71  CLR72\n",
      "  48   5  CR1  CR2  CLR3  CLR4  CR5  CR6  CR8  CR9  CR10  CR11  CR12  CR13  CR14  OR9  CLR16  CLR17  ELR2  CR15  CR16  OR12  OR13  CR17  CR18  CR19  CR20  CLR27  CLR28  CR21  CR22  CR23  CR24  CLR33  CLR34  CR25  CLR36  CR27  CLR38  CLR39  CLR40  CLR41  CLR42  CR30  CR31  CR32  CLR46  CLR47  CLR48  CLR49  CR34  CR35  CR36  CR37  CR38  OR45  CR39  CR40  CR41  CR42  CR43  OR55  CLR62  CLR63  CLR64  CLR65  OR46  OR54  CLR68  CLR69  CLR70  CLR71  CLR72\n",
      "  49   1  CR1  CR2  CLR3  CLR4  CR5  CR6  CR8  CR9  CR10  CR11  CR12  CR13  CR14  OR9  CLR16  CLR17  ELR2  CR15  CR16  OR12  OR13  CR17  CR18  CR19  CR20  CLR27  CLR28  CR21  CR22  CR23  CR24  CLR33  CLR34  CR25  CLR36  CR27  CLR38  CLR39  CLR40  CLR41  CLR42  CR30  CR31  CR32  CLR46  CLR47  CLR48  CLR49  CR34  CR35  CR36  CR37  CR38  OR45  CR39  CR40  CR41  CR42  CR43  OR55  CLR62  CLR63  CLR64  CLR65  OR46  OR54  CLR68  CLR69  CLR70  CLR71  CLR72\n",
      "  49   2  CR1  CR2  CLR3  CLR4  CR5  CR6  CR8  CR9  CR10  CR11  CR12  CR13  CR14  OR9  CLR16  CLR17  ELR2  CR15  CR16  OR12  OR13  CR17  CR18  CR19  CR20  CLR27  CLR28  CR21  CR22  CR23  CR24  CLR33  CLR34  CR25  CLR36  CR27  CLR38  CLR39  CLR40  CLR41  CLR42  CR30  CR31  CR32  CLR46  CLR47  CLR48  CLR49  CR34  CR35  CR36  CR37  CR38  OR45  CR39  CR40  CR41  CR42  CR43  OR55  CLR62  CLR63  CLR64  CLR65  OR46  OR54  CLR68  CLR69  CLR70  CLR71  CLR72\n",
      "  49   3  CR1  CR2  CLR3  CLR4  CR5  CR6  CR8  CR9  CR10  CR11  CR12  CR13  CR14  OR9  CLR16  CLR17  ELR2  CR15  CR16  OR12  OR13  CR17  CR18  CR19  CR20  CLR27  CLR28  CR21  CR22  CR23  CR24  CLR33  CLR34  CR25  CLR36  CR27  CLR38  CLR39  CLR40  CLR41  CLR42  CR30  CR31  CR32  CLR46  CLR47  CLR48  CLR49  CR34  CR35  CR36  CR37  CR38  OR45  CR39  CR40  CR41  CR42  CR43  OR55  CLR62  CLR63  CLR64  CLR65  OR46  OR54  CLR68  CLR69  CLR70  CLR71  CLR72\n",
      "  49   4  CR1  CR2  CLR3  CLR4  CR5  CR6  CR8  CR9  CR10  CR11  CR12  CR13  CR14  OR9  CLR16  CLR17  ELR2  CR15  CR16  OR12  OR13  CR17  CR18  CR19  CR20  CLR27  CLR28  CR21  CR22  CR23  CR24  CLR33  CLR34  CR25  CLR36  CR27  CLR38  CLR39  CLR40  CLR41  CLR42  CR30  CR31  CR32  CLR46  CLR47  CLR48  CLR49  CR34  CR35  CR36  CR37  CR38  OR45  CR39  CR40  CR41  CR42  CR43  OR55  CLR62  CLR63  CLR64  CLR65  OR46  OR54  CLR68  CLR69  CLR70  CLR71  CLR72\n",
      "  49   5  CR1  CR2  CLR3  CLR4  CR5  CR6  CR8  CR9  CR10  CR11  CR12  CR13  CR14  OR9  CLR16  CLR17  ELR2  CR15  CR16  OR12  OR13  CR17  CR18  CR19  CR20  CLR27  CLR28  CR21  CR22  CR23  CR24  CLR33  CLR34  CR25  CLR36  CR27  CLR38  CLR39  CLR40  CLR41  CLR42  CR30  CR31  CR32  CLR46  CLR47  CLR48  CLR49  CR34  CR35  CR36  CR37  CR38  OR45  CR39  CR40  CR41  CR42  CR43  OR55  CLR62  CLR63  CLR64  CLR65  OR46  OR54  CLR68  CLR69  CLR70  CLR71  CLR72\n",
      "  50   1  CR1  CR2  CLR3  CLR4  CR5  CR6  CR8  CR9  CR10  CR11  CR12  CR13  CR14  OR9  CLR16  CLR17  ELR2  CR15  CR16  OR12  OR13  CR17  CR18  CR19  CR20  CLR27  CLR28  CR21  CR22  CR23  CR24  CLR33  CLR34  CR25  CLR36  CR27  CLR38  CLR39  CLR40  CLR41  CLR42  CR30  CR31  CR32  CLR46  CLR47  CLR48  CLR49  CR34  CR35  CR36  CR37  CR38  OR45  CR39  CR40  CR41  CR42  CR43  OR55  CLR62  CLR63  CLR64  CLR65  OR46  OR54  CLR68  CLR69  CLR70  CLR71  CLR72\n",
      "  50   2  CR1  CR2  CLR3  CLR4  CR5  CR6  CR8  CR9  CR10  CR11  CR12  CR13  CR14  OR9  CLR16  CLR17  ELR2  CR15  CR16  OR12  OR13  CR17  CR18  CR19  CR20  CLR27  CLR28  CR21  CR22  CR23  CR24  CLR33  CLR34  CR25  CLR36  CR27  CLR38  CLR39  CLR40  CLR41  CLR42  CR30  CR31  CR32  CLR46  CLR47  CLR48  CLR49  CR34  CR35  CR36  CR37  CR38  OR45  CR39  CR40  CR41  CR42  CR43  OR55  CLR62  CLR63  CLR64  CLR65  OR46  OR54  CLR68  CLR69  CLR70  CLR71  CLR72\n",
      "  50   3  CR1  CR2  CLR3  CLR4  CR5  CR6  CR8  CR9  CR10  CR11  CR12  CR13  CR14  OR9  CLR16  CLR17  ELR2  CR15  CR16  OR12  OR13  CR17  CR18  CR19  CR20  CLR27  CLR28  CR21  CR22  CR23  CR24  CLR33  CLR34  CR25  CLR36  CR27  CLR38  CLR39  CLR40  CLR41  CLR42  CR30  CR31  CR32  CLR46  CLR47  CLR48  CLR49  CR34  CR35  CR36  CR37  CR38  OR45  CR39  CR40  CR41  CR42  CR43  OR55  CLR62  CLR63  CLR64  CLR65  OR46  OR54  CLR68  CLR69  CLR70  CLR71  CLR72\n",
      "  50   4  CR1  CR2  CLR3  CLR4  CR5  CR6  CR8  CR9  CR10  CR11  CR12  CR13  CR14  OR9  CLR16  CLR17  ELR2  CR15  CR16  OR12  OR13  CR17  CR18  CR19  CR20  CLR27  CLR28  CR21  CR22  CR23  CR24  CLR33  CLR34  CR25  CLR36  CR27  CLR38  CLR39  CLR40  CLR41  CLR42  CR30  CR31  CR32  CLR46  CLR47  CLR48  CLR49  CR34  CR35  CR36  CR37  CR38  OR45  CR39  CR40  CR41  CR42  CR43  OR55  CLR62  CLR63  CLR64  CLR65  OR46  OR54  CLR68  CLR69  CLR70  CLR71  CLR72\n",
      "  50   5  CR1  CR2  CLR3  CLR4  CR5  CR6  CR8  CR9  CR10  CR11  CR12  CR13  CR14  OR9  CLR16  CLR17  ELR2  CR15  CR16  OR12  OR13  CR17  CR18  CR19  CR20  CLR27  CLR28  CR21  CR22  CR23  CR24  CLR33  CLR34  CR25  CLR36  CR27  CLR38  CLR39  CLR40  CLR41  CLR42  CR30  CR31  CR32  CLR46  CLR47  CLR48  CLR49  CR34  CR35  CR36  CR37  CR38  OR45  CR39  CR40  CR41  CR42  CR43  OR55  CLR62  CLR63  CLR64  CLR65  OR46  OR54  CLR68  CLR69  CLR70  CLR71  CLR72\n"
     ]
    }
   ],
   "source": [
    "# Realizo la imputación MICE\n",
    "# toma alrededor de 12 minutos\n",
    "set.seed(12345)\n",
    "imp <- mice(gytsRL[, vars_imput_RL], m = 5, maxit = 50,\n",
    "            method = methods[vars_imput_RL], seed = 12345)"
   ]
  },
  {
   "cell_type": "code",
   "execution_count": 51,
   "metadata": {
    "vscode": {
     "languageId": "r"
    }
   },
   "outputs": [
    {
     "name": "stdout",
     "output_type": "stream",
     "text": [
      "Número de valores faltantes después de la imputación:\n",
      "     CR1      CR2     CLR3     CLR4      CR5      CR6      CR8      CR9 \n",
      "       0        0        0        0        0        0        0        0 \n",
      "    CR10     CR11     CR12     CR13     CR14      OR9    CLR16    CLR17 \n",
      "       0        0        0        0        0        0        0        0 \n",
      "    ELR2     CR15     CR16     OR12     OR13     CR17     CR18     CR19 \n",
      "       0        0        0        0        0        0        0        0 \n",
      "    CR20    CLR27    CLR28     CR21     CR22     CR23     CR24    CLR33 \n",
      "       0        0        0        0        0        0        0        0 \n",
      "   CLR34     CR25    CLR36     CR27    CLR38    CLR39    CLR40    CLR41 \n",
      "       0        0        0        0        0        0        0        0 \n",
      "   CLR42     CR30     CR31     CR32    CLR46    CLR47    CLR48    CLR49 \n",
      "       0        0        0        0        0        0        0        0 \n",
      "    CR34     CR35     CR36     CR37     CR38     OR45     CR39     CR40 \n",
      "       0        0        0        0        0        0        0        0 \n",
      "    CR41     CR42     CR43     OR55    CLR62    CLR63    CLR64    CLR65 \n",
      "       0        0        0        0        0        0        0        0 \n",
      "    OR46     OR54    CLR68    CLR69    CLR70    CLR71    CLR72 FinalWgt \n",
      "       0        0        0        0        0        0        0        0 \n",
      " Stratum      PSU  CR7_bin \n",
      "       0        0        0 \n"
     ]
    }
   ],
   "source": [
    "# Extraigo el conjunto de datos imputado completo\n",
    "gytsRL_imput <- complete(imp, 1)\n",
    "\n",
    "# Añado las columnas que no se imputaron\n",
    "gytsRL_imput$FinalWgt <- gytsRL$FinalWgt\n",
    "gytsRL_imput$Stratum <- gytsRL$Stratum\n",
    "gytsRL_imput$PSU <- gytsRL$PSU\n",
    "gytsRL_imput$CR7_bin <- gytsRL$CR7_bin\n",
    "\n",
    "# Verifico que no haya valores NA en el conjunto imputado\n",
    "cat(\"Número de valores faltantes después de la imputación:\\n\")\n",
    "print(colSums(is.na(gytsRL_imput)))"
   ]
  },
  {
   "cell_type": "code",
   "execution_count": 53,
   "metadata": {
    "vscode": {
     "languageId": "r"
    }
   },
   "outputs": [],
   "source": [
    "# Aplico la función de creación de dummies ya creada en Naive Bayes\n",
    "# Considerando la variable \"cols_categoricas\" ya creada en NB\n",
    "gytsRL_imput <- crear_dummies(gytsRL_imput, cols_categoricas)"
   ]
  },
  {
   "cell_type": "code",
   "execution_count": 54,
   "metadata": {
    "vscode": {
     "languageId": "r"
    }
   },
   "outputs": [
    {
     "name": "stdout",
     "output_type": "stream",
     "text": [
      "         FinalWgt               PSU           CR7_bin Stratum_201604001 \n",
      "                0                 0                 0                 0 \n",
      "Stratum_201604002 Stratum_201604003 Stratum_201604004 Stratum_201604005 \n",
      "                0                 0                 0                 0 \n",
      "Stratum_201604006 Stratum_201604007 Stratum_201604008 Stratum_201604009 \n",
      "                0                 0                 0                 0 \n",
      "Stratum_201604010 Stratum_201604011             CR1_1             CR1_2 \n",
      "                0                 0                 0                 0 \n",
      "            CR1_3             CR1_4             CR1_5             CR1_6 \n",
      "                0                 0                 0                 0 \n",
      "            CR2_1            CLR3_1            CLR3_2            CLR3_3 \n",
      "                0                 0                 0                 0 \n",
      "           CLR3_4            CLR3_5            CLR4_1            CLR4_2 \n",
      "                0                 0                 0                 0 \n",
      "           CLR4_3            CLR4_4            CLR4_5            CLR4_6 \n",
      "                0                 0                 0                 0 \n",
      "            CR5_1             CR6_1             CR6_2             CR6_3 \n",
      "                0                 0                 0                 0 \n",
      "            CR6_4             CR6_5             CR6_6             CR8_1 \n",
      "                0                 0                 0                 0 \n",
      "            CR8_2             CR8_3             CR8_4             CR8_5 \n",
      "                0                 0                 0                 0 \n",
      "            CR8_6             CR9_1            CR10_1            CR11_1 \n",
      "                0                 0                 0                 0 \n",
      "           CR11_2            CR11_3            CR12_1            CR12_2 \n",
      "                0                 0                 0                 0 \n",
      "           CR12_3            CR12_4            CR12_5            CR12_6 \n",
      "                0                 0                 0                 0 \n",
      "           CR12_7            CR13_1            CR14_1             OR9_1 \n",
      "                0                 0                 0                 0 \n",
      "            OR9_2             OR9_3             OR9_4             OR9_5 \n",
      "                0                 0                 0                 0 \n",
      "            OR9_6             OR9_7           CLR16_1           CLR16_2 \n",
      "                0                 0                 0                 0 \n",
      "          CLR16_3           CLR16_4           CLR17_1           CLR17_2 \n",
      "                0                 0                 0                 0 \n",
      "          CLR17_3            ELR2_1            ELR2_2            ELR2_3 \n",
      "                0                 0                 0                 0 \n",
      "           ELR2_4            ELR2_5            ELR2_6            CR15_1 \n",
      "                0                 0                 0                 0 \n",
      "           CR15_2            CR15_3            CR16_1            CR16_2 \n",
      "                0                 0                 0                 0 \n",
      "           CR16_3            OR12_1            OR12_2            OR12_3 \n",
      "                0                 0                 0                 0 \n",
      "           OR12_4            OR12_5            OR12_6            OR13_1 \n",
      "                0                 0                 0                 0 \n",
      "           OR13_2            OR13_3            OR13_4            OR13_5 \n",
      "                0                 0                 0                 0 \n",
      "           OR13_6            CR17_1            CR17_2            CR17_3 \n",
      "                0                 0                 0                 0 \n",
      "           CR18_1            CR18_2            CR18_3            CR18_4 \n",
      "                0                 0                 0                 0 \n",
      "           CR18_5            CR19_1            CR19_2            CR19_3 \n",
      "                0                 0                 0                 0 \n",
      "           CR19_4            CR20_1            CR20_2            CR20_3 \n",
      "                0                 0                 0                 0 \n",
      "           CR20_4           CLR27_1           CLR27_2           CLR27_3 \n",
      "                0                 0                 0                 0 \n",
      "          CLR27_4           CLR28_1            CR21_1            CR21_2 \n",
      "                0                 0                 0                 0 \n",
      "           CR21_3            CR21_4            CR22_1            CR23_1 \n",
      "                0                 0                 0                 0 \n",
      "           CR23_2            CR23_3            CR24_1           CLR33_1 \n",
      "                0                 0                 0                 0 \n",
      "          CLR33_2           CLR34_1            CR25_1           CLR36_1 \n",
      "                0                 0                 0                 0 \n",
      "          CLR36_2           CLR36_3           CLR36_4           CLR36_5 \n",
      "                0                 0                 0                 0 \n",
      "           CR27_1            CR27_2           CLR38_1           CLR38_2 \n",
      "                0                 0                 0                 0 \n",
      "          CLR38_3           CLR38_4           CLR39_1           CLR39_2 \n",
      "                0                 0                 0                 0 \n",
      "          CLR39_3           CLR39_4           CLR39_5           CLR40_1 \n",
      "                0                 0                 0                 0 \n",
      "          CLR40_2           CLR41_1           CLR41_2           CLR42_1 \n",
      "                0                 0                 0                 0 \n",
      "          CLR42_2           CLR42_3           CLR42_4           CLR42_5 \n",
      "                0                 0                 0                 0 \n",
      "          CLR42_6           CLR42_7            CR30_1            CR31_1 \n",
      "                0                 0                 0                 0 \n",
      "           CR31_2            CR32_1            CR32_2           CLR46_1 \n",
      "                0                 0                 0                 0 \n",
      "          CLR46_2           CLR47_1           CLR47_2           CLR48_1 \n",
      "                0                 0                 0                 0 \n",
      "          CLR48_2           CLR49_1           CLR49_2           CLR49_3 \n",
      "                0                 0                 0                 0 \n",
      "          CLR49_4           CLR49_5            CR34_1            CR34_2 \n",
      "                0                 0                 0                 0 \n",
      "           CR35_1            CR35_2            CR36_1            CR36_2 \n",
      "                0                 0                 0                 0 \n",
      "           CR37_1            CR38_1            OR45_1            OR45_2 \n",
      "                0                 0                 0                 0 \n",
      "           OR45_3            OR45_4            CR39_1            CR39_2 \n",
      "                0                 0                 0                 0 \n",
      "           CR39_3            CR40_1            CR40_2            CR40_3 \n",
      "                0                 0                 0                 0 \n",
      "           CR41_1            CR41_2            CR41_3            CR42_1 \n",
      "                0                 0                 0                 0 \n",
      "           CR42_2            CR43_1            CR43_2            CR43_3 \n",
      "                0                 0                 0                 0 \n",
      "           CR43_4            OR55_1           CLR62_1           CLR62_2 \n",
      "                0                 0                 0                 0 \n",
      "          CLR62_3           CLR63_1           CLR63_2           CLR63_3 \n",
      "                0                 0                 0                 0 \n",
      "          CLR63_4           CLR64_1           CLR64_2           CLR64_3 \n",
      "                0                 0                 0                 0 \n",
      "          CLR65_1           CLR65_2            OR46_1            OR46_2 \n",
      "                0                 0                 0                 0 \n",
      "           OR46_3            OR54_1            OR54_2            OR54_3 \n",
      "                0                 0                 0                 0 \n",
      "          CLR68_1           CLR68_2           CLR68_3           CLR68_4 \n",
      "                0                 0                 0                 0 \n",
      "          CLR68_5           CLR68_6           CLR69_1           CLR69_2 \n",
      "                0                 0                 0                 0 \n",
      "          CLR69_3           CLR69_4           CLR69_5           CLR69_6 \n",
      "                0                 0                 0                 0 \n",
      "          CLR70_1           CLR70_2           CLR71_1           CLR71_2 \n",
      "                0                 0                 0                 0 \n",
      "          CLR72_1           CLR72_2 \n",
      "                0                 0 \n"
     ]
    }
   ],
   "source": [
    "# Verifico que no haya valores NA después de crear dummies\n",
    "print(colSums(is.na(gytsRL_imput)))"
   ]
  },
  {
   "cell_type": "code",
   "execution_count": 55,
   "metadata": {
    "vscode": {
     "languageId": "r"
    }
   },
   "outputs": [
    {
     "name": "stdout",
     "output_type": "stream",
     "text": [
      "[1] 2668  238\n"
     ]
    }
   ],
   "source": [
    "# Muestro las dimensiones del nuevo dataframe\n",
    "print(dim(gytsRL_imput))"
   ]
  },
  {
   "cell_type": "code",
   "execution_count": 56,
   "metadata": {
    "vscode": {
     "languageId": "r"
    }
   },
   "outputs": [
    {
     "name": "stdout",
     "output_type": "stream",
     "text": [
      "  [1] \"FinalWgt\"          \"PSU\"               \"CR7_bin\"          \n",
      "  [4] \"Stratum_201604001\" \"Stratum_201604002\" \"Stratum_201604003\"\n",
      "  [7] \"Stratum_201604004\" \"Stratum_201604005\" \"Stratum_201604006\"\n",
      " [10] \"Stratum_201604007\" \"Stratum_201604008\" \"Stratum_201604009\"\n",
      " [13] \"Stratum_201604010\" \"Stratum_201604011\" \"CR1_1\"            \n",
      " [16] \"CR1_2\"             \"CR1_3\"             \"CR1_4\"            \n",
      " [19] \"CR1_5\"             \"CR1_6\"             \"CR2_1\"            \n",
      " [22] \"CLR3_1\"            \"CLR3_2\"            \"CLR3_3\"           \n",
      " [25] \"CLR3_4\"            \"CLR3_5\"            \"CLR4_1\"           \n",
      " [28] \"CLR4_2\"            \"CLR4_3\"            \"CLR4_4\"           \n",
      " [31] \"CLR4_5\"            \"CLR4_6\"            \"CR5_1\"            \n",
      " [34] \"CR6_1\"             \"CR6_2\"             \"CR6_3\"            \n",
      " [37] \"CR6_4\"             \"CR6_5\"             \"CR6_6\"            \n",
      " [40] \"CR8_1\"             \"CR8_2\"             \"CR8_3\"            \n",
      " [43] \"CR8_4\"             \"CR8_5\"             \"CR8_6\"            \n",
      " [46] \"CR9_1\"             \"CR10_1\"            \"CR11_1\"           \n",
      " [49] \"CR11_2\"            \"CR11_3\"            \"CR12_1\"           \n",
      " [52] \"CR12_2\"            \"CR12_3\"            \"CR12_4\"           \n",
      " [55] \"CR12_5\"            \"CR12_6\"            \"CR12_7\"           \n",
      " [58] \"CR13_1\"            \"CR14_1\"            \"OR9_1\"            \n",
      " [61] \"OR9_2\"             \"OR9_3\"             \"OR9_4\"            \n",
      " [64] \"OR9_5\"             \"OR9_6\"             \"OR9_7\"            \n",
      " [67] \"CLR16_1\"           \"CLR16_2\"           \"CLR16_3\"          \n",
      " [70] \"CLR16_4\"           \"CLR17_1\"           \"CLR17_2\"          \n",
      " [73] \"CLR17_3\"           \"ELR2_1\"            \"ELR2_2\"           \n",
      " [76] \"ELR2_3\"            \"ELR2_4\"            \"ELR2_5\"           \n",
      " [79] \"ELR2_6\"            \"CR15_1\"            \"CR15_2\"           \n",
      " [82] \"CR15_3\"            \"CR16_1\"            \"CR16_2\"           \n",
      " [85] \"CR16_3\"            \"OR12_1\"            \"OR12_2\"           \n",
      " [88] \"OR12_3\"            \"OR12_4\"            \"OR12_5\"           \n",
      " [91] \"OR12_6\"            \"OR13_1\"            \"OR13_2\"           \n",
      " [94] \"OR13_3\"            \"OR13_4\"            \"OR13_5\"           \n",
      " [97] \"OR13_6\"            \"CR17_1\"            \"CR17_2\"           \n",
      "[100] \"CR17_3\"            \"CR18_1\"            \"CR18_2\"           \n",
      "[103] \"CR18_3\"            \"CR18_4\"            \"CR18_5\"           \n",
      "[106] \"CR19_1\"            \"CR19_2\"            \"CR19_3\"           \n",
      "[109] \"CR19_4\"            \"CR20_1\"            \"CR20_2\"           \n",
      "[112] \"CR20_3\"            \"CR20_4\"            \"CLR27_1\"          \n",
      "[115] \"CLR27_2\"           \"CLR27_3\"           \"CLR27_4\"          \n",
      "[118] \"CLR28_1\"           \"CR21_1\"            \"CR21_2\"           \n",
      "[121] \"CR21_3\"            \"CR21_4\"            \"CR22_1\"           \n",
      "[124] \"CR23_1\"            \"CR23_2\"            \"CR23_3\"           \n",
      "[127] \"CR24_1\"            \"CLR33_1\"           \"CLR33_2\"          \n",
      "[130] \"CLR34_1\"           \"CR25_1\"            \"CLR36_1\"          \n",
      "[133] \"CLR36_2\"           \"CLR36_3\"           \"CLR36_4\"          \n",
      "[136] \"CLR36_5\"           \"CR27_1\"            \"CR27_2\"           \n",
      "[139] \"CLR38_1\"           \"CLR38_2\"           \"CLR38_3\"          \n",
      "[142] \"CLR38_4\"           \"CLR39_1\"           \"CLR39_2\"          \n",
      "[145] \"CLR39_3\"           \"CLR39_4\"           \"CLR39_5\"          \n",
      "[148] \"CLR40_1\"           \"CLR40_2\"           \"CLR41_1\"          \n",
      "[151] \"CLR41_2\"           \"CLR42_1\"           \"CLR42_2\"          \n",
      "[154] \"CLR42_3\"           \"CLR42_4\"           \"CLR42_5\"          \n",
      "[157] \"CLR42_6\"           \"CLR42_7\"           \"CR30_1\"           \n",
      "[160] \"CR31_1\"            \"CR31_2\"            \"CR32_1\"           \n",
      "[163] \"CR32_2\"            \"CLR46_1\"           \"CLR46_2\"          \n",
      "[166] \"CLR47_1\"           \"CLR47_2\"           \"CLR48_1\"          \n",
      "[169] \"CLR48_2\"           \"CLR49_1\"           \"CLR49_2\"          \n",
      "[172] \"CLR49_3\"           \"CLR49_4\"           \"CLR49_5\"          \n",
      "[175] \"CR34_1\"            \"CR34_2\"            \"CR35_1\"           \n",
      "[178] \"CR35_2\"            \"CR36_1\"            \"CR36_2\"           \n",
      "[181] \"CR37_1\"            \"CR38_1\"            \"OR45_1\"           \n",
      "[184] \"OR45_2\"            \"OR45_3\"            \"OR45_4\"           \n",
      "[187] \"CR39_1\"            \"CR39_2\"            \"CR39_3\"           \n",
      "[190] \"CR40_1\"            \"CR40_2\"            \"CR40_3\"           \n",
      "[193] \"CR41_1\"            \"CR41_2\"            \"CR41_3\"           \n",
      "[196] \"CR42_1\"            \"CR42_2\"            \"CR43_1\"           \n",
      "[199] \"CR43_2\"            \"CR43_3\"            \"CR43_4\"           \n",
      "[202] \"OR55_1\"            \"CLR62_1\"           \"CLR62_2\"          \n",
      "[205] \"CLR62_3\"           \"CLR63_1\"           \"CLR63_2\"          \n",
      "[208] \"CLR63_3\"           \"CLR63_4\"           \"CLR64_1\"          \n",
      "[211] \"CLR64_2\"           \"CLR64_3\"           \"CLR65_1\"          \n",
      "[214] \"CLR65_2\"           \"OR46_1\"            \"OR46_2\"           \n",
      "[217] \"OR46_3\"            \"OR54_1\"            \"OR54_2\"           \n",
      "[220] \"OR54_3\"            \"CLR68_1\"           \"CLR68_2\"          \n",
      "[223] \"CLR68_3\"           \"CLR68_4\"           \"CLR68_5\"          \n",
      "[226] \"CLR68_6\"           \"CLR69_1\"           \"CLR69_2\"          \n",
      "[229] \"CLR69_3\"           \"CLR69_4\"           \"CLR69_5\"          \n",
      "[232] \"CLR69_6\"           \"CLR70_1\"           \"CLR70_2\"          \n",
      "[235] \"CLR71_1\"           \"CLR71_2\"           \"CLR72_1\"          \n",
      "[238] \"CLR72_2\"          \n"
     ]
    }
   ],
   "source": [
    "# Muestro los nombres de las columnas\n",
    "print(names(gytsRL_imput))"
   ]
  },
  {
   "cell_type": "code",
   "execution_count": 57,
   "metadata": {
    "vscode": {
     "languageId": "r"
    }
   },
   "outputs": [],
   "source": [
    "#procedo a eliminar las columnas que no aportan información\n",
    "# PSU y FinalWgt\n",
    "gytsRL_imput$PSU <- NULL\n",
    "gytsRL_imput$FinalWgt <- NULL"
   ]
  },
  {
   "cell_type": "code",
   "execution_count": 58,
   "metadata": {
    "vscode": {
     "languageId": "r"
    }
   },
   "outputs": [
    {
     "name": "stdout",
     "output_type": "stream",
     "text": [
      "'data.frame':\t2668 obs. of  236 variables:\n",
      " $ CR7_bin          : Factor w/ 2 levels \"0\",\"1\": 1 1 1 1 1 1 1 1 1 1 ...\n",
      " $ Stratum_201604001: Factor w/ 2 levels \"0\",\"1\": 2 2 2 2 2 2 2 2 2 2 ...\n",
      " $ Stratum_201604002: Factor w/ 2 levels \"0\",\"1\": 1 1 1 1 1 1 1 1 1 1 ...\n",
      " $ Stratum_201604003: Factor w/ 2 levels \"0\",\"1\": 1 1 1 1 1 1 1 1 1 1 ...\n",
      " $ Stratum_201604004: Factor w/ 2 levels \"0\",\"1\": 1 1 1 1 1 1 1 1 1 1 ...\n",
      " $ Stratum_201604005: Factor w/ 2 levels \"0\",\"1\": 1 1 1 1 1 1 1 1 1 1 ...\n",
      " $ Stratum_201604006: Factor w/ 2 levels \"0\",\"1\": 1 1 1 1 1 1 1 1 1 1 ...\n",
      " $ Stratum_201604007: Factor w/ 2 levels \"0\",\"1\": 1 1 1 1 1 1 1 1 1 1 ...\n",
      " $ Stratum_201604008: Factor w/ 2 levels \"0\",\"1\": 1 1 1 1 1 1 1 1 1 1 ...\n",
      " $ Stratum_201604009: Factor w/ 2 levels \"0\",\"1\": 1 1 1 1 1 1 1 1 1 1 ...\n",
      " $ Stratum_201604010: Factor w/ 2 levels \"0\",\"1\": 1 1 1 1 1 1 1 1 1 1 ...\n",
      " $ Stratum_201604011: Factor w/ 2 levels \"0\",\"1\": 1 1 1 1 1 1 1 1 1 1 ...\n",
      " $ CR1_1            : Factor w/ 2 levels \"0\",\"1\": 1 1 1 1 1 1 1 1 1 1 ...\n",
      " $ CR1_2            : Factor w/ 2 levels \"0\",\"1\": 1 1 1 1 1 1 1 1 1 1 ...\n",
      " $ CR1_3            : Factor w/ 2 levels \"0\",\"1\": 1 1 1 1 1 1 1 1 1 1 ...\n",
      " $ CR1_4            : Factor w/ 2 levels \"0\",\"1\": 1 1 1 1 1 1 1 1 1 1 ...\n",
      " $ CR1_5            : Factor w/ 2 levels \"0\",\"1\": 2 2 2 2 2 2 2 1 1 1 ...\n",
      " $ CR1_6            : Factor w/ 2 levels \"0\",\"1\": 1 1 1 1 1 1 1 2 2 2 ...\n",
      " $ CR2_1            : Factor w/ 2 levels \"0\",\"1\": 2 2 2 2 2 2 2 2 2 2 ...\n",
      " $ CLR3_1           : Factor w/ 2 levels \"0\",\"1\": 1 1 1 1 1 1 1 1 1 1 ...\n",
      " $ CLR3_2           : Factor w/ 2 levels \"0\",\"1\": 1 1 1 1 1 1 1 1 1 1 ...\n",
      " $ CLR3_3           : Factor w/ 2 levels \"0\",\"1\": 1 1 1 1 1 1 1 1 1 1 ...\n",
      " $ CLR3_4           : Factor w/ 2 levels \"0\",\"1\": 2 2 2 2 2 2 2 2 2 2 ...\n",
      " $ CLR3_5           : Factor w/ 2 levels \"0\",\"1\": 1 1 1 1 1 1 1 1 1 1 ...\n",
      " $ CLR4_1           : Factor w/ 2 levels \"0\",\"1\": 2 2 2 1 1 1 1 1 1 1 ...\n",
      " $ CLR4_2           : Factor w/ 2 levels \"0\",\"1\": 1 1 1 2 1 1 1 1 1 1 ...\n",
      " $ CLR4_3           : Factor w/ 2 levels \"0\",\"1\": 1 1 1 1 1 1 1 2 2 2 ...\n",
      " $ CLR4_4           : Factor w/ 2 levels \"0\",\"1\": 1 1 1 1 2 2 2 1 1 1 ...\n",
      " $ CLR4_5           : Factor w/ 2 levels \"0\",\"1\": 1 1 1 1 1 1 1 1 1 1 ...\n",
      " $ CLR4_6           : Factor w/ 2 levels \"0\",\"1\": 1 1 1 1 1 1 1 1 1 1 ...\n",
      " $ CR5_1            : Factor w/ 2 levels \"0\",\"1\": 2 1 1 1 2 2 2 2 2 1 ...\n",
      " $ CR6_1            : Factor w/ 2 levels \"0\",\"1\": 1 2 2 2 1 1 1 1 1 2 ...\n",
      " $ CR6_2            : Factor w/ 2 levels \"0\",\"1\": 1 1 1 1 1 1 1 1 1 1 ...\n",
      " $ CR6_3            : Factor w/ 2 levels \"0\",\"1\": 1 1 1 1 1 1 1 2 1 1 ...\n",
      " $ CR6_4            : Factor w/ 2 levels \"0\",\"1\": 1 1 1 1 2 2 1 1 1 1 ...\n",
      " $ CR6_5            : Factor w/ 2 levels \"0\",\"1\": 1 1 1 1 1 1 1 1 2 1 ...\n",
      " $ CR6_6            : Factor w/ 2 levels \"0\",\"1\": 2 1 1 1 1 1 2 1 1 1 ...\n",
      " $ CR8_1            : Factor w/ 2 levels \"0\",\"1\": 2 2 2 2 2 2 2 2 2 2 ...\n",
      " $ CR8_2            : Factor w/ 2 levels \"0\",\"1\": 1 1 1 1 1 1 1 1 1 1 ...\n",
      " $ CR8_3            : Factor w/ 2 levels \"0\",\"1\": 1 1 1 1 1 1 1 1 1 1 ...\n",
      " $ CR8_4            : Factor w/ 2 levels \"0\",\"1\": 1 1 1 1 1 1 1 1 1 1 ...\n",
      " $ CR8_5            : Factor w/ 2 levels \"0\",\"1\": 1 1 1 1 1 1 1 1 1 1 ...\n",
      " $ CR8_6            : Factor w/ 2 levels \"0\",\"1\": 1 1 1 1 1 1 1 1 1 1 ...\n",
      " $ CR9_1            : Factor w/ 2 levels \"0\",\"1\": 1 1 1 1 2 1 1 1 2 1 ...\n",
      " $ CR10_1           : Factor w/ 2 levels \"0\",\"1\": 1 1 1 1 2 1 1 1 1 1 ...\n",
      " $ CR11_1           : Factor w/ 2 levels \"0\",\"1\": 1 2 2 2 2 1 1 1 1 2 ...\n",
      " $ CR11_2           : Factor w/ 2 levels \"0\",\"1\": 2 1 1 1 1 2 2 2 2 1 ...\n",
      " $ CR11_3           : Factor w/ 2 levels \"0\",\"1\": 1 1 1 1 1 1 1 1 1 1 ...\n",
      " $ CR12_1           : Factor w/ 2 levels \"0\",\"1\": 1 2 2 2 2 1 2 1 2 2 ...\n",
      " $ CR12_2           : Factor w/ 2 levels \"0\",\"1\": 2 1 1 1 1 2 1 2 1 1 ...\n",
      " $ CR12_3           : Factor w/ 2 levels \"0\",\"1\": 1 1 1 1 1 1 1 1 1 1 ...\n",
      " $ CR12_4           : Factor w/ 2 levels \"0\",\"1\": 1 1 1 1 1 1 1 1 1 1 ...\n",
      " $ CR12_5           : Factor w/ 2 levels \"0\",\"1\": 1 1 1 1 1 1 1 1 1 1 ...\n",
      " $ CR12_6           : Factor w/ 2 levels \"0\",\"1\": 1 1 1 1 1 1 1 1 1 1 ...\n",
      " $ CR12_7           : Factor w/ 2 levels \"0\",\"1\": 1 1 1 1 1 1 1 1 1 1 ...\n",
      " $ CR13_1           : Factor w/ 2 levels \"0\",\"1\": 1 1 1 1 1 1 1 1 1 1 ...\n",
      " $ CR14_1           : Factor w/ 2 levels \"0\",\"1\": 1 1 1 1 1 1 1 1 1 1 ...\n",
      " $ OR9_1            : Factor w/ 2 levels \"0\",\"1\": 2 2 2 2 2 1 2 1 2 2 ...\n",
      " $ OR9_2            : Factor w/ 2 levels \"0\",\"1\": 1 1 1 1 1 1 1 1 1 1 ...\n",
      " $ OR9_3            : Factor w/ 2 levels \"0\",\"1\": 1 1 1 1 1 1 1 1 1 1 ...\n",
      " $ OR9_4            : Factor w/ 2 levels \"0\",\"1\": 1 1 1 1 1 1 1 1 1 1 ...\n",
      " $ OR9_5            : Factor w/ 2 levels \"0\",\"1\": 1 1 1 1 1 1 1 2 1 1 ...\n",
      " $ OR9_6            : Factor w/ 2 levels \"0\",\"1\": 1 1 1 1 1 2 1 1 1 1 ...\n",
      " $ OR9_7            : Factor w/ 2 levels \"0\",\"1\": 1 1 1 1 1 1 1 1 1 1 ...\n",
      " $ CLR16_1          : Factor w/ 2 levels \"0\",\"1\": 1 1 1 1 1 2 1 1 1 1 ...\n",
      " $ CLR16_2          : Factor w/ 2 levels \"0\",\"1\": 1 1 1 1 1 1 1 2 1 1 ...\n",
      " $ CLR16_3          : Factor w/ 2 levels \"0\",\"1\": 1 1 1 1 1 1 1 1 1 1 ...\n",
      " $ CLR16_4          : Factor w/ 2 levels \"0\",\"1\": 1 1 1 1 1 1 1 1 1 1 ...\n",
      " $ CLR17_1          : Factor w/ 2 levels \"0\",\"1\": 1 2 2 2 2 1 2 1 1 2 ...\n",
      " $ CLR17_2          : Factor w/ 2 levels \"0\",\"1\": 2 1 1 1 1 1 1 2 1 1 ...\n",
      " $ CLR17_3          : Factor w/ 2 levels \"0\",\"1\": 1 1 1 1 1 2 1 1 2 1 ...\n",
      " $ ELR2_1           : Factor w/ 2 levels \"0\",\"1\": 2 2 2 2 2 2 2 2 2 2 ...\n",
      " $ ELR2_2           : Factor w/ 2 levels \"0\",\"1\": 1 1 1 1 1 1 1 1 1 1 ...\n",
      " $ ELR2_3           : Factor w/ 2 levels \"0\",\"1\": 1 1 1 1 1 1 1 1 1 1 ...\n",
      " $ ELR2_4           : Factor w/ 2 levels \"0\",\"1\": 1 1 1 1 1 1 1 1 1 1 ...\n",
      " $ ELR2_5           : Factor w/ 2 levels \"0\",\"1\": 1 1 1 1 1 1 1 1 1 1 ...\n",
      " $ ELR2_6           : Factor w/ 2 levels \"0\",\"1\": 1 1 1 1 1 1 1 1 1 1 ...\n",
      " $ CR15_1           : Factor w/ 2 levels \"0\",\"1\": 1 2 2 2 2 1 2 1 1 2 ...\n",
      " $ CR15_2           : Factor w/ 2 levels \"0\",\"1\": 2 1 1 1 1 2 1 2 2 1 ...\n",
      " $ CR15_3           : Factor w/ 2 levels \"0\",\"1\": 1 1 1 1 1 1 1 1 1 1 ...\n",
      " $ CR16_1           : Factor w/ 2 levels \"0\",\"1\": 1 2 2 2 2 1 2 1 1 2 ...\n",
      " $ CR16_2           : Factor w/ 2 levels \"0\",\"1\": 2 1 1 1 1 1 1 2 2 1 ...\n",
      " $ CR16_3           : Factor w/ 2 levels \"0\",\"1\": 1 1 1 1 1 2 1 1 1 1 ...\n",
      " $ OR12_1           : Factor w/ 2 levels \"0\",\"1\": 1 2 2 2 2 1 2 1 1 2 ...\n",
      " $ OR12_2           : Factor w/ 2 levels \"0\",\"1\": 1 1 1 1 1 2 1 1 1 1 ...\n",
      " $ OR12_3           : Factor w/ 2 levels \"0\",\"1\": 1 1 1 1 1 1 1 1 1 1 ...\n",
      " $ OR12_4           : Factor w/ 2 levels \"0\",\"1\": 1 1 1 1 1 1 1 1 1 1 ...\n",
      " $ OR12_5           : Factor w/ 2 levels \"0\",\"1\": 2 1 1 1 1 1 1 1 1 1 ...\n",
      " $ OR12_6           : Factor w/ 2 levels \"0\",\"1\": 1 1 1 1 1 1 1 1 2 1 ...\n",
      " $ OR13_1           : Factor w/ 2 levels \"0\",\"1\": 1 2 2 2 2 1 2 1 1 2 ...\n",
      " $ OR13_2           : Factor w/ 2 levels \"0\",\"1\": 1 1 1 1 1 1 1 1 1 1 ...\n",
      " $ OR13_3           : Factor w/ 2 levels \"0\",\"1\": 2 1 1 1 1 2 1 2 2 1 ...\n",
      " $ OR13_4           : Factor w/ 2 levels \"0\",\"1\": 1 1 1 1 1 1 1 1 1 1 ...\n",
      " $ OR13_5           : Factor w/ 2 levels \"0\",\"1\": 1 1 1 1 1 1 1 1 1 1 ...\n",
      " $ OR13_6           : Factor w/ 2 levels \"0\",\"1\": 1 1 1 1 1 1 1 1 1 1 ...\n",
      " $ CR17_1           : Factor w/ 2 levels \"0\",\"1\": 1 2 2 2 2 1 2 1 1 2 ...\n",
      " $ CR17_2           : Factor w/ 2 levels \"0\",\"1\": 2 1 1 1 1 2 1 2 2 1 ...\n",
      " $ CR17_3           : Factor w/ 2 levels \"0\",\"1\": 1 1 1 1 1 1 1 1 1 1 ...\n",
      " $ CR18_1           : Factor w/ 2 levels \"0\",\"1\": 1 2 2 2 2 2 2 1 1 2 ...\n",
      "  [list output truncated]\n"
     ]
    }
   ],
   "source": [
    "# Convierto la variable objetivo en factor\n",
    "gytsRL_imput$CR7_bin <- as.factor(gytsRL_imput$CR7_bin)\n",
    "\n",
    "# Convierto todas las variables dummy a factores\n",
    "gytsRL_imput <- gytsRL_imput %>%\n",
    "  mutate(across(where(is.integer), as.factor))\n",
    "\n",
    "# Verificación final de la estructura del dataset\n",
    "str(gytsRL_imput)"
   ]
  },
  {
   "cell_type": "markdown",
   "metadata": {},
   "source": [
    "6. **(Regresion logistica)** Inserte una semilla. Divida la base de datos en los conjuntos de entrenamiento y prueba. Verifique que la variable objetivo cumpla el supuesto de proporción en cada conjunto."
   ]
  },
  {
   "cell_type": "code",
   "execution_count": 59,
   "metadata": {
    "vscode": {
     "languageId": "r"
    }
   },
   "outputs": [],
   "source": [
    "# Inserto semilla para reproducibilidad\n",
    "set.seed(12345)\n",
    "\n",
    "# División del conjunto de datos en entrenamiento (70%) y prueba (30%)\n",
    "split <- initial_split(gytsRL_imput, prop = 0.7, strata = \"CR7_bin\")\n",
    "gytsRL_train <- training(split)\n",
    "gytsRL_test <- testing(split)"
   ]
  },
  {
   "cell_type": "code",
   "execution_count": 60,
   "metadata": {
    "vscode": {
     "languageId": "r"
    }
   },
   "outputs": [
    {
     "name": "stdout",
     "output_type": "stream",
     "text": [
      "Proporción de la variable objetivo en el conjunto de entrenamiento:\n",
      "\n",
      "   0    1 \n",
      "0.78 0.22 \n",
      "Proporción de la variable objetivo en el conjunto de prueba:\n",
      "\n",
      "   0    1 \n",
      "0.78 0.22 \n"
     ]
    }
   ],
   "source": [
    "# Verificación de la proporción de la variable objetivo en los conjuntos\n",
    "cat(\"Proporción de la variable objetivo en el conjunto de entrenamiento:\\n\")\n",
    "print(round(prop.table(table(gytsRL_train$CR7_bin)), 2))\n",
    "\n",
    "cat(\"Proporción de la variable objetivo en el conjunto de prueba:\\n\")\n",
    "print(round(prop.table(table(gytsRL_test$CR7_bin)), 2))"
   ]
  },
  {
   "cell_type": "markdown",
   "metadata": {},
   "source": [
    "7. **(Regresion logistica)** Prediga la variable objetivo del conjunto de prueba y muestre los resultados de la curva ROC. Reporte cuál es el punto de corte que seleccionó para transformar las probabilidades estimadas en clases estimadas y fundamente. Muestre la matriz de confusión final e interprete."
   ]
  },
  {
   "cell_type": "code",
   "execution_count": 61,
   "metadata": {
    "vscode": {
     "languageId": "r"
    }
   },
   "outputs": [],
   "source": [
    "# Ajusto el modelo\n",
    "set.seed(12345)\n",
    "model_rl <- glm(CR7_bin ~ ., data = gytsRL_train,\n",
    "                family = binomial(), control = list(maxit = 50))"
   ]
  },
  {
   "cell_type": "code",
   "execution_count": 62,
   "metadata": {
    "vscode": {
     "languageId": "r"
    }
   },
   "outputs": [],
   "source": [
    "# Realizo la predicción de probabilidades en el conjunto de prueba\n",
    "prob_pred_rl <- predict(model_rl, gytsRL_test, type = \"response\")"
   ]
  },
  {
   "cell_type": "code",
   "execution_count": 63,
   "metadata": {
    "vscode": {
     "languageId": "r"
    }
   },
   "outputs": [
    {
     "name": "stderr",
     "output_type": "stream",
     "text": [
      "Setting levels: control = 0, case = 1\n",
      "\n",
      "Setting direction: controls < cases\n",
      "\n"
     ]
    },
    {
     "data": {
      "image/png": "[encoded data removed]",
      "text/plain": [
       "Plot with title \"Curva ROC para regresion logistica\""
      ]
     },
     "metadata": {
      "image/png": {
       "height": 420,
       "width": 420
      }
     },
     "output_type": "display_data"
    }
   ],
   "source": [
    "# Generación de la curva ROC\n",
    "roc_rl <- roc(gytsRL_test$CR7_bin, prob_pred_rl)\n",
    "plot.roc(roc_rl, main = \"Curva ROC para regresion logistica\",\n",
    "         col = \"blue\", lwd = 2, print.auc = TRUE)"
   ]
  },
  {
   "cell_type": "code",
   "execution_count": 64,
   "metadata": {
    "vscode": {
     "languageId": "r"
    }
   },
   "outputs": [
    {
     "name": "stdout",
     "output_type": "stream",
     "text": [
      "Punto de corte óptimo: 0.5 \n"
     ]
    }
   ],
   "source": [
    "# Determino el punto de corte óptimo\n",
    "corte_opt <- coords(roc_rl, \"best\", ret = \"threshold\", transpose = TRUE)\n",
    "\n",
    "# Me aseguro de que sea un valor numérico\n",
    "corte_opt <- as.numeric(corte_opt)\n",
    "\n",
    "# Imprimo el punto de corte óptimo\n",
    "cat(\"Punto de corte óptimo:\", corte_opt, \"\\n\")"
   ]
  },
  {
   "cell_type": "code",
   "execution_count": 65,
   "metadata": {
    "vscode": {
     "languageId": "r"
    }
   },
   "outputs": [],
   "source": [
    "# Conversión de probabilidades a clases utilizando el punto de corte óptimo\n",
    "pred_class_rl <- ifelse(prob_pred_rl > corte_opt, 1, 0)\n",
    "pred_class_rl <- factor(pred_class_rl, levels = c(0, 1))"
   ]
  },
  {
   "cell_type": "code",
   "execution_count": 66,
   "metadata": {
    "vscode": {
     "languageId": "r"
    }
   },
   "outputs": [
    {
     "name": "stdout",
     "output_type": "stream",
     "text": [
      "          Reference\n",
      "Prediction   0   1\n",
      "         0 625   0\n",
      "         1   1 175\n"
     ]
    }
   ],
   "source": [
    "# genero matriz de confusión\n",
    "conf_matrix_rl <- confusionMatrix(pred_class_rl, gytsRL_test$CR7_bin)\n",
    "print(conf_matrix_rl$table)"
   ]
  },
  {
   "cell_type": "markdown",
   "metadata": {},
   "source": [
    "Interpretación de la Matriz de Confusión:\n",
    "\n",
    "- Verdaderos Negativos (TN): 625 (casos que son 0 y fueron predichos como 0).\n",
    "- Falsos Negativos (FN): 0 (casos que son 1 pero fueron predichos como 0).\n",
    "- Verdaderos Positivos (TP): 175 (casos que son 1 y fueron predichos como 1).\n",
    "- Falsos Positivos (FP): 1 (casos que son 0 pero fueron predichos como 1).\n",
    "\n",
    "- Perfecta Sensibilidad (FN = 0): Tener 0 falsos negativos significa que el modelo no cometió errores al identificar los casos positivos (los 1). Esto podría sugerir que el modelo está sobreajustado, especialmente si la variable objetivo está desbalanceada (muchos más 0 que 1).\n",
    "\n",
    "- Casi Perfecta Especificidad (FP = 1): Tener solo 1 falso positivo es bastante inusual y sugiere que el modelo está funcionando excepcionalmente bien o que el conjunto de datos tiene un fuerte sesgo que facilita la predicción (por ejemplo, si los predictores tienen una relación muy fuerte con la variable objetivo).\n",
    "\n",
    "Umbral de Corte (Threshold) en 0.5:\n",
    "\n",
    "El hecho de que el umbral óptimo haya sido 0.5 es común en muchos problemas de clasificación, pero en algunos casos, podría ser un indicador de que el modelo no está considerando un balance adecuado entre sensibilidad y especificidad.\n",
    "\n",
    "Posible Sobreajuste\n",
    "\n",
    "Perfecta Separación: Los resultados que muestran un casi perfecto ajuste (solo un error) pueden indicar que el modelo está sobreajustado a los datos de entrenamiento, especialmente si el conjunto de datos es pequeño o si hay demasiadas variables predictoras. Esto puede resultar en un modelo que no generaliza bien a nuevos datos.\n",
    "\n",
    "- AUC Alto: Un AUC de 0.999 significa que el modelo tiene una capacidad casi perfecta para distinguir entre las clases positivas y negativas. En teoría, esto es excelente, pero en la práctica, un valor tan alto puede indicar que el modelo está sobreajustado (overfitting)\n",
    "\n",
    "- Sesgo de Datos: Otro posible problema podría ser que los datos están sesgados o que hay una fuerte correlación entre las variables predictoras y la variable objetivo, lo que hace que el modelo parezca casi perfecto en el conjunto de datos actual, pero posiblemente no se desempeñe tan bien en un conjunto de datos diferente."
   ]
  },
  {
   "cell_type": "markdown",
   "metadata": {},
   "source": [
    "Tras analizar el problema de clasificación del hábito de fumar en jóvenes, utilizando Regresión Logística y Naive Bayes, se concluye que ambos algoritmos son altamente efectivos para predecir si un individuo es fumador o no.\n",
    "\n",
    "Comparación de desempeño:\n",
    "\n",
    "| Modelo               | AUC   | Precisión | Sensibilidad | Especificidad | Punto de Corte |\n",
    "|----------------------|-------|-----------|--------------|---------------|----------------|\n",
    "| Regresión Logística  | 0.999 | 0.998     | 1.0          | 0.998         | 0.5            |\n",
    "| Naive Bayes          | 0.986 | 0.917     | 0.823        | 0.960         | 0.939          |\n",
    "\n",
    "\n",
    "Análisis Regresión Logística:\n",
    "\n",
    "Ventajas:\n",
    "\n",
    "Alcanzó una precisión casi perfecta (0.998) en el conjunto de prueba, clasificando correctamente casi todas las instancias.\n",
    "\n",
    "Obtuvo un AUC de 0.999, lo que indica una capacidad de discriminación excepcional.\n",
    "\n",
    "La matriz de confusión muestra un solo falso positivo y ningún falso negativo, lo que indica una alta capacidad para identificar correctamente tanto a fumadores como a no fumadores.\n",
    "\n",
    "\n",
    "Desventajas:\n",
    "\n",
    "La precisión casi perfecta, con tan pocos errores, genera preocupación por un posible sobreajuste a los datos de entrenamiento.\n",
    "\n",
    "\n",
    "Análisis Naive Bayes:\n",
    "\n",
    "Ventajas:\n",
    "\n",
    "Mostró una excelente capacidad de discriminación con un AUC de 0.986 en la curva ROC.\n",
    "\n",
    "Logró un buen equilibrio entre sensibilidad (0.823) y especificidad (0.960) con un punto de corte optimizado de 0.939.\n",
    "\n",
    "Desventajas:\n",
    "\n",
    "Presentó un mayor número de errores de clasificación en comparación con la regresión logística, con 7 falsos negativos y 38 falsos positivos."
   ]
  },
  {
   "cell_type": "markdown",
   "metadata": {},
   "source": [
    "Conclusión Final y Comparación de Modelos\n",
    "\n",
    "Comparación y Elección del Mejor Modelo:\n",
    "\n",
    "**ROC y AUC**: Aunque ambos modelos tienen un AUC alto, el modelo de regresión logística muestra un AUC ligeramente superior. Sin embargo, el modelo de Naive Bayes podría ser más robusto, ya que no mostró indicios significativos de sobreajuste en el conjunto de prueba.\n",
    "\n",
    "**Punto de Corte y Matriz de Confusión**: El modelo de Naive Bayes parece manejar mejor el equilibrio entre la sensibilidad y especificidad con un punto de corte más alto. La matriz de confusión sugiere que Naive Bayes tiene un mejor desempeño práctico en la clasificación correcta de fumadores y no fumadores, aunque con un pequeño sacrificio en sensibilidad.\n",
    "\n",
    "Decisión:\n",
    "\n",
    "Si la principal métrica de interés es el AUC, elegiría la regresión logística como el mejor modelo. Sin embargo, existe la preocupación del sobreajuste y por ende, si se desea un modelo más robusto con una buena generalización, Naive Bayes es entonces la opción que yo preferiría."
   ]
  }
 ],
 "metadata": {
  "kernelspec": {
   "display_name": "R",
   "language": "R",
   "name": "ir"
  },
  "language_info": {
   "codemirror_mode": "r",
   "file_extension": ".r",
   "mimetype": "text/x-r-source",
   "name": "R",
   "pygments_lexer": "r",
   "version": "4.4.0"
  }
 },
 "nbformat": 4,
 "nbformat_minor": 2
}
