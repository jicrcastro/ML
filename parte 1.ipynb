{
 "cells": [
  {
   "cell_type": "code",
   "execution_count": 39,
   "metadata": {
    "vscode": {
     "languageId": "r"
    }
   },
   "outputs": [],
   "source": [
    "# importacion de librerias\n",
    "library(ggplot2)\n",
    "library(dplyr)\n",
    "library(readr)\n",
    "library(VIM)\n",
    "library(mice)\n",
    "library(rsample)\n",
    "library(caret)\n",
    "library(glmnet)"
   ]
  },
  {
   "cell_type": "markdown",
   "metadata": {},
   "source": [
    "1.\tImporte la base de datos, transfórmela en un data frame y elimine la variable “Emp.ID”."
   ]
  },
  {
   "cell_type": "code",
   "execution_count": 2,
   "metadata": {
    "vscode": {
     "languageId": "r"
    }
   },
   "outputs": [],
   "source": [
    "# Importo la base de datos y la cargo como dataframe\n",
    "datos <- as.data.frame(read.csv(\"Employee Attrition.csv\"))"
   ]
  },
  {
   "cell_type": "code",
   "execution_count": 3,
   "metadata": {
    "vscode": {
     "languageId": "r"
    }
   },
   "outputs": [],
   "source": [
    "# Elimino la variable \"Emp.ID\"\n",
    "datos <- datos[, -which(names(datos) == \"Emp.ID\")]"
   ]
  },
  {
   "cell_type": "code",
   "execution_count": 4,
   "metadata": {
    "vscode": {
     "languageId": "r"
    }
   },
   "outputs": [
    {
     "data": {
      "text/html": [
       "<table class=\"dataframe\">\n",
       "<caption>A data.frame: 6 × 9</caption>\n",
       "<thead>\n",
       "\t<tr><th></th><th scope=col>satisfaction_level</th><th scope=col>last_evaluation</th><th scope=col>number_project</th><th scope=col>average_montly_hours</th><th scope=col>time_spend_company</th><th scope=col>Work_accident</th><th scope=col>promotion_last_5years</th><th scope=col>dept</th><th scope=col>salary</th></tr>\n",
       "\t<tr><th></th><th scope=col>&lt;dbl&gt;</th><th scope=col>&lt;dbl&gt;</th><th scope=col>&lt;int&gt;</th><th scope=col>&lt;int&gt;</th><th scope=col>&lt;int&gt;</th><th scope=col>&lt;int&gt;</th><th scope=col>&lt;int&gt;</th><th scope=col>&lt;chr&gt;</th><th scope=col>&lt;chr&gt;</th></tr>\n",
       "</thead>\n",
       "<tbody>\n",
       "\t<tr><th scope=row>1</th><td>0.38</td><td>0.53</td><td>2</td><td>157</td><td>3</td><td>0</td><td>0</td><td>sales</td><td>low   </td></tr>\n",
       "\t<tr><th scope=row>2</th><td>0.80</td><td>0.86</td><td>5</td><td>262</td><td>6</td><td>0</td><td>0</td><td>sales</td><td>medium</td></tr>\n",
       "\t<tr><th scope=row>3</th><td>0.11</td><td>0.88</td><td>7</td><td>272</td><td>4</td><td>0</td><td>0</td><td>sales</td><td>medium</td></tr>\n",
       "\t<tr><th scope=row>4</th><td>0.72</td><td>0.87</td><td>5</td><td>223</td><td>5</td><td>0</td><td>0</td><td>sales</td><td>low   </td></tr>\n",
       "\t<tr><th scope=row>5</th><td>0.37</td><td>0.52</td><td>2</td><td>159</td><td>3</td><td>0</td><td>0</td><td>sales</td><td>low   </td></tr>\n",
       "\t<tr><th scope=row>6</th><td>0.41</td><td>0.50</td><td>2</td><td>153</td><td>3</td><td>0</td><td>0</td><td>sales</td><td>low   </td></tr>\n",
       "</tbody>\n",
       "</table>\n"
      ],
      "text/latex": [
       "A data.frame: 6 × 9\n",
       "\\begin{tabular}{r|lllllllll}\n",
       "  & satisfaction\\_level & last\\_evaluation & number\\_project & average\\_montly\\_hours & time\\_spend\\_company & Work\\_accident & promotion\\_last\\_5years & dept & salary\\\\\n",
       "  & <dbl> & <dbl> & <int> & <int> & <int> & <int> & <int> & <chr> & <chr>\\\\\n",
       "\\hline\n",
       "\t1 & 0.38 & 0.53 & 2 & 157 & 3 & 0 & 0 & sales & low   \\\\\n",
       "\t2 & 0.80 & 0.86 & 5 & 262 & 6 & 0 & 0 & sales & medium\\\\\n",
       "\t3 & 0.11 & 0.88 & 7 & 272 & 4 & 0 & 0 & sales & medium\\\\\n",
       "\t4 & 0.72 & 0.87 & 5 & 223 & 5 & 0 & 0 & sales & low   \\\\\n",
       "\t5 & 0.37 & 0.52 & 2 & 159 & 3 & 0 & 0 & sales & low   \\\\\n",
       "\t6 & 0.41 & 0.50 & 2 & 153 & 3 & 0 & 0 & sales & low   \\\\\n",
       "\\end{tabular}\n"
      ],
      "text/markdown": [
       "\n",
       "A data.frame: 6 × 9\n",
       "\n",
       "| <!--/--> | satisfaction_level &lt;dbl&gt; | last_evaluation &lt;dbl&gt; | number_project &lt;int&gt; | average_montly_hours &lt;int&gt; | time_spend_company &lt;int&gt; | Work_accident &lt;int&gt; | promotion_last_5years &lt;int&gt; | dept &lt;chr&gt; | salary &lt;chr&gt; |\n",
       "|---|---|---|---|---|---|---|---|---|---|\n",
       "| 1 | 0.38 | 0.53 | 2 | 157 | 3 | 0 | 0 | sales | low    |\n",
       "| 2 | 0.80 | 0.86 | 5 | 262 | 6 | 0 | 0 | sales | medium |\n",
       "| 3 | 0.11 | 0.88 | 7 | 272 | 4 | 0 | 0 | sales | medium |\n",
       "| 4 | 0.72 | 0.87 | 5 | 223 | 5 | 0 | 0 | sales | low    |\n",
       "| 5 | 0.37 | 0.52 | 2 | 159 | 3 | 0 | 0 | sales | low    |\n",
       "| 6 | 0.41 | 0.50 | 2 | 153 | 3 | 0 | 0 | sales | low    |\n",
       "\n"
      ],
      "text/plain": [
       "  satisfaction_level last_evaluation number_project average_montly_hours\n",
       "1 0.38               0.53            2              157                 \n",
       "2 0.80               0.86            5              262                 \n",
       "3 0.11               0.88            7              272                 \n",
       "4 0.72               0.87            5              223                 \n",
       "5 0.37               0.52            2              159                 \n",
       "6 0.41               0.50            2              153                 \n",
       "  time_spend_company Work_accident promotion_last_5years dept  salary\n",
       "1 3                  0             0                     sales low   \n",
       "2 6                  0             0                     sales medium\n",
       "3 4                  0             0                     sales medium\n",
       "4 5                  0             0                     sales low   \n",
       "5 3                  0             0                     sales low   \n",
       "6 3                  0             0                     sales low   "
      ]
     },
     "metadata": {},
     "output_type": "display_data"
    }
   ],
   "source": [
    "#verifico si se eliminó la variable\n",
    "head(datos)"
   ]
  },
  {
   "cell_type": "markdown",
   "metadata": {},
   "source": [
    "2.\tDescriba cada una de las variables e indique si corresponden a variables numéricas o categóricas. Si considera que hay un número excesivo de variables (o variables irrelevantes) describir solamente las de mayor interés. "
   ]
  },
  {
   "cell_type": "markdown",
   "metadata": {},
   "source": [
    "Variables Numéricas:\n",
    "\n",
    "\n",
    "- Emp_Id: Identificador único del empleado.\n",
    "- satisfaction_level: Nivel de satisfacción del empleado, expresado como una proporción (0 a 1).\n",
    "- last_evaluation: Evaluación de desempeño (0 a 1).\n",
    "- number_project: Número de proyectos en los que el empleado está trabajando actualmente.\n",
    "- average_montly_hours: Promedio de horas mensuales trabajadas por el empleado.\n",
    "- time_spend_company: Tiempo de permanencia en la empresa por parte del empleado.\n",
    "\n",
    "Variables Categóricas:\n",
    "\n",
    "- Work_accident: Indicador de si el empleado ha estado involucrado en un accidente laboral (sí/no).\n",
    "- promotion_last_5years: Indicador de si el empleado ha recibido una promoción en los últimos 5 años (sí/no).\n",
    "- dept: Departamento en el que el empleado trabaja.\n",
    "- salary: Categoría salarial del empleado (baja, media, alta)."
   ]
  },
  {
   "cell_type": "markdown",
   "metadata": {},
   "source": [
    "3.\tRealice estadística descriptiva para cada una de las variables (énfasis principal en la variable dependiente). Incorpore análisis gráfico"
   ]
  },
  {
   "cell_type": "markdown",
   "metadata": {},
   "source": [
    "Considerando el contexto del conjunto de datos, que se enfoca en la satisfacción de los empleados y la retención de talentos en la empresa, creo que la variable que más sentido tiene como variable dependiente es **satisfaction_level**.\n",
    "\n",
    "La satisfacción del empleado es un resultado o un efecto que puede ser influenciado por las otras variables, como la evaluación de desempeño, el número de proyectos, las horas trabajadas, la permanencia en la empresa, los accidentes laborales, las promociones, el departamento y la categoría salarial.\n",
    "\n",
    "En otras palabras, la satisfacción del empleado es una variable que puede ser explicada o predicha por las otras variables, lo que la convierte en una buena candidata para ser la variable dependiente en un modelo de regresión o análisis de correlación."
   ]
  },
  {
   "cell_type": "code",
   "execution_count": 5,
   "metadata": {
    "vscode": {
     "languageId": "r"
    }
   },
   "outputs": [
    {
     "data": {
      "text/plain": [
       "$Work_accident\n",
       "\n",
       "    0     1 \n",
       "12830  2169 \n",
       "\n",
       "$promotion_last_5years\n",
       "\n",
       "    0     1 \n",
       "14680   319 \n",
       "\n",
       "$dept\n",
       "\n",
       " accounting          hr          IT  management   marketing product_mng \n",
       "        767         739        1227         630         858         902 \n",
       "      RandD       sales     support   technical \n",
       "        787        4140        2229        2720 \n",
       "\n",
       "$salary\n",
       "\n",
       "  high    low medium \n",
       "  1237   7316   6446 \n"
      ]
     },
     "metadata": {},
     "output_type": "display_data"
    }
   ],
   "source": [
    "# selecciono las columnas categoricas\n",
    "# luego veo la cantidad de valores por cada categoria o clase\n",
    "categorical_columns <- c(\"Work_accident\",\n",
    "                         \"promotion_last_5years\",\n",
    "                         \"dept\", \"salary\")\n",
    "valores_por_categoria <- lapply(datos[categorical_columns], table)\n",
    "valores_por_categoria"
   ]
  },
  {
   "cell_type": "code",
   "execution_count": 6,
   "metadata": {
    "vscode": {
     "languageId": "r"
    }
   },
   "outputs": [
    {
     "data": {
      "text/plain": [
       "$Work_accident\n",
       "x\n",
       "       0        1 \n",
       "85.53904 14.46096 \n",
       "\n",
       "$promotion_last_5years\n",
       "x\n",
       "        0         1 \n",
       "97.873192  2.126808 \n",
       "\n",
       "$dept\n",
       "x\n",
       " accounting          hr          IT  management   marketing product_mng \n",
       "   5.113674    4.926995    8.180545    4.200280    5.720381    6.013734 \n",
       "      RandD       sales     support   technical \n",
       "   5.247016   27.601840   14.860991   18.134542 \n",
       "\n",
       "$salary\n",
       "x\n",
       "     high       low    medium \n",
       " 8.247216 48.776585 42.976198 \n"
      ]
     },
     "metadata": {},
     "output_type": "display_data"
    }
   ],
   "source": [
    "# ahora veo los porcentajes de valores por cada categoria\n",
    "# en cada columna categorica\n",
    "col_interes_cat <- c(\"Work_accident\", \"promotion_last_5years\", \"dept\", \"salary\")\n",
    "porcentaje_por_clase <- lapply(datos[, col_interes_cat],\n",
    "                               function(x) prop.table(table(x)) * 100)\n",
    "porcentaje_por_clase"
   ]
  },
  {
   "cell_type": "markdown",
   "metadata": {},
   "source": [
    "#### Analisis Univariado Variables Numericas"
   ]
  },
  {
   "cell_type": "markdown",
   "metadata": {},
   "source": [
    "La siguiente celda se utiliza para generar un resumen estadístico de las variables numéricas seleccionadas en el conjunto de datos Employee Attrition. \n",
    "\n",
    "El resumen incluye medidas como la media, mediana, mínimo, máximo y los cuartiles (Q1 y Q3), que son útiles para entender la distribución de los datos."
   ]
  },
  {
   "cell_type": "code",
   "execution_count": 7,
   "metadata": {
    "vscode": {
     "languageId": "r"
    }
   },
   "outputs": [
    {
     "data": {
      "text/plain": [
       " satisfaction_level last_evaluation  number_project  average_montly_hours\n",
       " Min.   :0.0900     Min.   :0.3600   Min.   :2.000   Min.   : 96.0       \n",
       " 1st Qu.:0.4400     1st Qu.:0.5600   1st Qu.:3.000   1st Qu.:156.0       \n",
       " Median :0.6400     Median :0.7200   Median :4.000   Median :200.0       \n",
       " Mean   :0.6128     Mean   :0.7161   Mean   :3.803   Mean   :201.1       \n",
       " 3rd Qu.:0.8200     3rd Qu.:0.8700   3rd Qu.:5.000   3rd Qu.:245.0       \n",
       " Max.   :1.0000     Max.   :1.0000   Max.   :7.000   Max.   :310.0       \n",
       " time_spend_company\n",
       " Min.   : 2.000    \n",
       " 1st Qu.: 3.000    \n",
       " Median : 3.000    \n",
       " Mean   : 3.498    \n",
       " 3rd Qu.: 4.000    \n",
       " Max.   :10.000    "
      ]
     },
     "metadata": {},
     "output_type": "display_data"
    }
   ],
   "source": [
    "# veo un resumen de las variables numericas\n",
    "# como la media, mediana (Q2), minimo, maximo, Q1, Q3\n",
    "summary(datos[c(\"satisfaction_level\",\n",
    "                \"last_evaluation\", \"number_project\",\n",
    "                \"average_montly_hours\", \"time_spend_company\")])"
   ]
  },
  {
   "cell_type": "markdown",
   "metadata": {},
   "source": [
    "Medidas resumen incluidas:\n",
    "\n",
    "- Media: El promedio de los valores en cada columna.\n",
    "- Mediana (Q2): El valor central cuando los datos están ordenados.\n",
    "- Mínimo: El valor más pequeño en la columna.\n",
    "- Máximo: El valor más grande en la columna.\n",
    "- Primer cuartil (Q1): El valor por debajo del cual se encuentra el 25% de los datos.\n",
    "- Tercer cuartil (Q3): El valor por debajo del cual se encuentra el 75% de los datos."
   ]
  },
  {
   "cell_type": "code",
   "execution_count": 8,
   "metadata": {
    "vscode": {
     "languageId": "r"
    }
   },
   "outputs": [
    {
     "data": {
      "text/html": [
       "<style>\n",
       ".dl-inline {width: auto; margin:0; padding: 0}\n",
       ".dl-inline>dt, .dl-inline>dd {float: none; width: auto; display: inline-block}\n",
       ".dl-inline>dt::after {content: \":\\0020\"; padding-right: .5ex}\n",
       ".dl-inline>dt:not(:first-of-type) {padding-left: .5ex}\n",
       "</style><dl class=dl-inline><dt>satisfaction_level</dt><dd>0.38</dd><dt>last_evaluation</dt><dd>0.31</dd><dt>number_project</dt><dd>2</dd><dt>average_montly_hours</dt><dd>89</dd><dt>time_spend_company</dt><dd>1</dd></dl>\n"
      ],
      "text/latex": [
       "\\begin{description*}\n",
       "\\item[satisfaction\\textbackslash{}\\_level] 0.38\n",
       "\\item[last\\textbackslash{}\\_evaluation] 0.31\n",
       "\\item[number\\textbackslash{}\\_project] 2\n",
       "\\item[average\\textbackslash{}\\_montly\\textbackslash{}\\_hours] 89\n",
       "\\item[time\\textbackslash{}\\_spend\\textbackslash{}\\_company] 1\n",
       "\\end{description*}\n"
      ],
      "text/markdown": [
       "satisfaction_level\n",
       ":   0.38last_evaluation\n",
       ":   0.31number_project\n",
       ":   2average_montly_hours\n",
       ":   89time_spend_company\n",
       ":   1\n",
       "\n"
      ],
      "text/plain": [
       "  satisfaction_level      last_evaluation       number_project \n",
       "                0.38                 0.31                 2.00 \n",
       "average_montly_hours   time_spend_company \n",
       "               89.00                 1.00 "
      ]
     },
     "metadata": {},
     "output_type": "display_data"
    }
   ],
   "source": [
    "# selecciono las columnas numericas que me interesan\n",
    "# luego calculo el rango intercuartilico de cada una\n",
    "col_interes_num <- c(\"satisfaction_level\", \"last_evaluation\", \"number_project\", \n",
    "                     \"average_montly_hours\", \"time_spend_company\")\n",
    "valores_iqr <- sapply(datos[col_interes_num], IQR)\n",
    "valores_iqr"
   ]
  },
  {
   "cell_type": "code",
   "execution_count": 9,
   "metadata": {
    "vscode": {
     "languageId": "r"
    }
   },
   "outputs": [
    {
     "data": {
      "image/png": "[encoded data removed]",
      "text/plain": [
       "Plot with title \"Boxplot de last_evaluation\""
      ]
     },
     "metadata": {
      "image/png": {
       "height": 300,
       "width": 600
      }
     },
     "output_type": "display_data"
    }
   ],
   "source": [
    "# Ajusto el tamaño de la ventana gráfica\n",
    "options(repr.plot.width = 10, repr.plot.height = 5)\n",
    "\n",
    "# Divido el área de gráficos en una disposición de 1 fila por 2 columnas\n",
    "par(mfrow = c(1, 2))\n",
    "\n",
    "# Creo el primer boxplot para satisfaction_level\n",
    "boxplot(datos$satisfaction_level,\n",
    "        main = \"Boxplot de satisfaction_level\",\n",
    "        ylab = \"Nivel de satisfacción\",\n",
    "        xlab = \"\",\n",
    "        outline = TRUE,\n",
    "        axes = FALSE)  # Oculto ejes para personalizarlos después\n",
    "\n",
    "# Añado de nuevo los ejes\n",
    "axis(2, las = 1, cex.axis = 0.7,\n",
    "     at = pretty(datos$satisfaction_level),\n",
    "     labels = format(pretty(datos$satisfaction_level), scientific = FALSE))\n",
    "axis(1, at = 1, labels = \"\")\n",
    "box()  # Añado el cuadro alrededor del gráfico\n",
    "\n",
    "# Creo el segundo boxplot para last_evaluation\n",
    "boxplot(datos$last_evaluation,\n",
    "        main = \"Boxplot de last_evaluation\",\n",
    "        ylab = \"Evaluación del desempeño\",\n",
    "        xlab = \"\",\n",
    "        outline = TRUE,\n",
    "        axes = FALSE)  # Oculto ejes para personalizarlos después\n",
    "\n",
    "# Añado de nuevo los ejes\n",
    "axis(2, las = 1, cex.axis = 0.7,\n",
    "     at = pretty(datos$last_evaluation),\n",
    "     labels = format(pretty(datos$last_evaluation), scientific = FALSE))\n",
    "axis(1, at = 1, labels = \"\")\n",
    "box()  # Añado el cuadro alrededor del gráfico"
   ]
  },
  {
   "cell_type": "markdown",
   "metadata": {},
   "source": [
    "`satisfaction_level`:\n",
    "\n",
    "- El boxplot muestra que el nivel de satisfacción de los empleados varía entre aproximadamente 0.1 y 1.0, con una mediana en torno a 0.6. La mayoría de los datos están concentrados entre 0.44 (primer cuartil) y 0.82 (tercer cuartil), indicando una distribución relativamente simétrica. No hay valores atípicos (outliers), lo que sugiere que los niveles de satisfacción están bastante concentrados dentro de este rango.\n",
    "\n",
    "`last_evaluation`:\n",
    "\n",
    "- El boxplot de la evaluación de desempeño muestra una distribución que abarca desde aproximadamente 0.36 hasta 1.0, con una mediana alrededor de 0.72. La mayoría de los empleados tienen una evaluación de desempeño entre 0.56 y 0.87. Tampoco se observan outliers en esta variable, indicando una dispersión similar a la de satisfaction_level."
   ]
  },
  {
   "cell_type": "code",
   "execution_count": 10,
   "metadata": {
    "vscode": {
     "languageId": "r"
    }
   },
   "outputs": [
    {
     "data": {
      "image/png": "[encoded data removed]",
      "text/plain": [
       "Plot with title \"Boxplot de average_montly_hours\""
      ]
     },
     "metadata": {
      "image/png": {
       "height": 300,
       "width": 600
      }
     },
     "output_type": "display_data"
    }
   ],
   "source": [
    "# Ajusto el tamaño de la ventana gráfica\n",
    "options(repr.plot.width = 10, repr.plot.height = 5)\n",
    "\n",
    "# Divido el área de gráficos en una disposición de 1 fila por 2 columnas\n",
    "par(mfrow = c(1, 2))\n",
    "\n",
    "# Creo el primer boxplot para number_project\n",
    "boxplot(datos$number_project,\n",
    "        main = \"Boxplot de number_project\",\n",
    "        ylab = \"Número de proyectos\",\n",
    "        xlab = \"\",\n",
    "        outline = TRUE,\n",
    "        axes = FALSE)  # Oculto ejes para personalizarlos después\n",
    "\n",
    "# Añado de nuevo los ejes\n",
    "axis(2, las = 1, cex.axis = 0.7,\n",
    "     at = pretty(datos$number_project),\n",
    "     labels = format(pretty(datos$number_project), scientific = FALSE))\n",
    "axis(1, at = 1, labels = \"\")\n",
    "box()  # Añado el cuadro alrededor del gráfico\n",
    "\n",
    "# Creo el segundo boxplot para average_montly_hours\n",
    "boxplot(datos$average_montly_hours,\n",
    "        main = \"Boxplot de average_montly_hours\",\n",
    "        ylab = \"Horas trabajadas por mes\",\n",
    "        xlab = \"\",\n",
    "        outline = TRUE,\n",
    "        axes = FALSE)  # Oculto ejes para personalizarlos después\n",
    "\n",
    "# Añado de nuevo los ejes\n",
    "axis(2, las = 1, cex.axis = 0.7,\n",
    "     at = pretty(datos$average_montly_hours),\n",
    "     labels = format(pretty(datos$average_montly_hours), scientific = FALSE))\n",
    "axis(1, at = 1, labels = \"\")\n",
    "box()  # Añado el cuadro alrededor del gráfico"
   ]
  },
  {
   "cell_type": "markdown",
   "metadata": {},
   "source": [
    "`number_project`:\n",
    "\n",
    "El número de proyectos en los que los empleados están involucrados varía de 2 a 7, con una mediana en 4. La mayoría de los empleados tienen entre 3 y 5 proyectos. No hay outliers, lo que sugiere una distribución razonable de la carga de trabajo entre los empleados.\n",
    "\n",
    "`average_montly_hours`:\n",
    "\n",
    "Las horas trabajadas por mes varían de 96 a 310, con una mediana de aproximadamente 200. El rango intercuartílico (IQR) sugiere que la mayoría de los empleados trabajan entre 156 y 245 horas mensuales. No hay outliers significativos, lo que indica que la mayoría de los empleados tienen un horario laboral dentro de un rango esperado."
   ]
  },
  {
   "cell_type": "code",
   "execution_count": 11,
   "metadata": {
    "vscode": {
     "languageId": "r"
    }
   },
   "outputs": [
    {
     "data": {
      "image/png": "[encoded data removed]",
      "text/plain": [
       "Plot with title \"Boxplot de time_spend_company\""
      ]
     },
     "metadata": {
      "image/png": {
       "height": 300,
       "width": 600
      }
     },
     "output_type": "display_data"
    }
   ],
   "source": [
    "#grafico time_spend_company\n",
    "# Creo un boxplot\n",
    "par(mfrow = c(1, 2))\n",
    "boxplot(datos$time_spend_company,\n",
    "        main = \"Boxplot de time_spend_company\",\n",
    "        ylab = \"Tiempo en la empresa\",\n",
    "        xlab = \"\",\n",
    "        outline = TRUE)"
   ]
  },
  {
   "cell_type": "markdown",
   "metadata": {},
   "source": [
    "`time_spend_company`:\n",
    "\n",
    "El tiempo de permanencia en la empresa varía de 2 a 10 años, con una mediana de aproximadamente 3 años. El grueso de los empleados tiene una permanencia de entre 3 a 4 años aprox."
   ]
  },
  {
   "cell_type": "markdown",
   "metadata": {},
   "source": [
    "La siguiente celda calcula el rango intercuartílico (IQR) de la variable satisfaction_level para identificar los outliers. El IQR es una medida de la dispersión de los datos y se utiliza para detectar valores atípicos que están significativamente alejados del rango intercuartílico. Y luego identifico los outliers y los cuento."
   ]
  },
  {
   "cell_type": "code",
   "execution_count": 12,
   "metadata": {
    "vscode": {
     "languageId": "r"
    }
   },
   "outputs": [
    {
     "data": {
      "text/html": [
       "0"
      ],
      "text/latex": [
       "0"
      ],
      "text/markdown": [
       "0"
      ],
      "text/plain": [
       "[1] 0"
      ]
     },
     "metadata": {},
     "output_type": "display_data"
    }
   ],
   "source": [
    "# Cálculo del rango intercuartílico de satisfaction_level\n",
    "q1 <- quantile(datos$satisfaction_level, 0.25)\n",
    "q3 <- quantile(datos$satisfaction_level, 0.75)\n",
    "iqr <- q3 - q1\n",
    "lim_inf <- q1 - 1.5 * iqr\n",
    "lim_sup <- q3 + 1.5 * iqr\n",
    "# Identificación de los outliers\n",
    "outliers <- datos %>%\n",
    "  filter(satisfaction_level < lim_inf | satisfaction_level > lim_sup)\n",
    "#numero de outliers\n",
    "nrow(outliers)"
   ]
  },
  {
   "cell_type": "code",
   "execution_count": 13,
   "metadata": {
    "vscode": {
     "languageId": "r"
    }
   },
   "outputs": [
    {
     "data": {
      "text/html": [
       "0"
      ],
      "text/latex": [
       "0"
      ],
      "text/markdown": [
       "0"
      ],
      "text/plain": [
       "[1] 0"
      ]
     },
     "metadata": {},
     "output_type": "display_data"
    }
   ],
   "source": [
    "# Cálculo del rango intercuartílico de last_evaluation\n",
    "q1 <- quantile(datos$last_evaluation, 0.25)\n",
    "q3 <- quantile(datos$last_evaluation, 0.75)\n",
    "iqr <- q3 - q1\n",
    "lim_inf <- q1 - 1.5 * iqr\n",
    "lim_sup <- q3 + 1.5 * iqr\n",
    "# Identificación de los outliers\n",
    "outliers <- datos %>%\n",
    "  filter(last_evaluation < lim_inf | last_evaluation > lim_sup)\n",
    "#numero de outliers\n",
    "nrow(outliers)"
   ]
  },
  {
   "cell_type": "code",
   "execution_count": 14,
   "metadata": {
    "vscode": {
     "languageId": "r"
    }
   },
   "outputs": [
    {
     "data": {
      "text/html": [
       "0"
      ],
      "text/latex": [
       "0"
      ],
      "text/markdown": [
       "0"
      ],
      "text/plain": [
       "[1] 0"
      ]
     },
     "metadata": {},
     "output_type": "display_data"
    }
   ],
   "source": [
    "# Cálculo del rango intercuartílico de number_project\n",
    "q1 <- quantile(datos$number_project, 0.25)\n",
    "q3 <- quantile(datos$number_project, 0.75)\n",
    "iqr <- q3 - q1\n",
    "lim_inf <- q1 - 1.5 * iqr\n",
    "lim_sup <- q3 + 1.5 * iqr\n",
    "# Identificación de los outliers\n",
    "outliers <- datos %>%\n",
    "  filter(number_project < lim_inf | number_project > lim_sup)\n",
    "#numero de outliers\n",
    "nrow(outliers)"
   ]
  },
  {
   "cell_type": "code",
   "execution_count": 15,
   "metadata": {
    "vscode": {
     "languageId": "r"
    }
   },
   "outputs": [
    {
     "data": {
      "text/html": [
       "0"
      ],
      "text/latex": [
       "0"
      ],
      "text/markdown": [
       "0"
      ],
      "text/plain": [
       "[1] 0"
      ]
     },
     "metadata": {},
     "output_type": "display_data"
    }
   ],
   "source": [
    "# Cálculo del rango intercuartílico de average_montly_hours\n",
    "q1 <- quantile(datos$average_montly_hours, 0.25)\n",
    "q3 <- quantile(datos$average_montly_hours, 0.75)\n",
    "iqr <- q3 - q1\n",
    "lim_inf <- q1 - 1.5 * iqr\n",
    "lim_sup <- q3 + 1.5 * iqr\n",
    "# Identificación de los outliers\n",
    "outliers <- datos %>%\n",
    "  filter(average_montly_hours < lim_inf | average_montly_hours > lim_sup)\n",
    "#numero de outliers\n",
    "nrow(outliers)"
   ]
  },
  {
   "cell_type": "code",
   "execution_count": 16,
   "metadata": {
    "vscode": {
     "languageId": "r"
    }
   },
   "outputs": [
    {
     "data": {
      "text/html": [
       "1282"
      ],
      "text/latex": [
       "1282"
      ],
      "text/markdown": [
       "1282"
      ],
      "text/plain": [
       "[1] 1282"
      ]
     },
     "metadata": {},
     "output_type": "display_data"
    }
   ],
   "source": [
    "# Cálculo del rango intercuartílico de time_spend_company\n",
    "q1 <- quantile(datos$time_spend_company, 0.25)\n",
    "q3 <- quantile(datos$time_spend_company, 0.75)\n",
    "iqr <- q3 - q1\n",
    "lim_inf <- q1 - 1.5 * iqr\n",
    "lim_sup <- q3 + 1.5 * iqr\n",
    "# Identificación de los outliers\n",
    "outliers <- datos %>%\n",
    "  filter(time_spend_company < lim_inf | time_spend_company > lim_sup)\n",
    "#numero de outliers\n",
    "nrow(outliers)"
   ]
  },
  {
   "cell_type": "markdown",
   "metadata": {},
   "source": [
    "La próxima celda tiene como objetivo crear histogramas de variables para visualizar la distribución de los datos. La visualización gráfica es una parte fundamental del análisis descriptivo y ayuda a identificar patrones y tendencias en los datos."
   ]
  },
  {
   "cell_type": "code",
   "execution_count": 17,
   "metadata": {
    "vscode": {
     "languageId": "r"
    }
   },
   "outputs": [
    {
     "data": {
      "image/png": "[encoded data removed]",
      "text/plain": [
       "Plot with title \"Histograma de last_evaluation\""
      ]
     },
     "metadata": {
      "image/png": {
       "height": 300,
       "width": 600
      }
     },
     "output_type": "display_data"
    }
   ],
   "source": [
    "# Ajusto el tamaño de la ventana gráfica\n",
    "options(repr.plot.width = 10, repr.plot.height = 5)\n",
    "\n",
    "# Divido el área de gráficos en una disposición de 1 fila por 2 columnas\n",
    "par(mfrow = c(1, 2))\n",
    "\n",
    "# Obtengo las frecuencias del histograma de satisfaction_level sin dibujarlo\n",
    "hist_info <- hist(datos$satisfaction_level, breaks = 30, plot = FALSE)\n",
    "\n",
    "# Calculo la frecuencia máxima\n",
    "max_freq <- max(hist_info$counts)\n",
    "\n",
    "# Creo el histograma para satisfaction_level con el ajuste del eje y\n",
    "hist(datos$satisfaction_level,\n",
    "     main = \"Histograma de satisfaction_level\",\n",
    "     xlab = \"Nivel de satisfacción\",\n",
    "     ylab = \"Frecuencia\",\n",
    "     col = \"skyblue\",\n",
    "     breaks = 30,\n",
    "     ylim = c(0, max_freq + 50),  # Ajusto el rango del eje y\n",
    "     axes = FALSE)  # Oculto ejes para personalizarlos después\n",
    "\n",
    "# Añado los ejes personalizados\n",
    "axis(1, at = pretty(datos$satisfaction_level),\n",
    "     labels = format(pretty(datos$satisfaction_level), scientific = FALSE))\n",
    "axis(2, las = 1, at = seq(0, max_freq + 50, by = 50))\n",
    "\n",
    "# Creo el segundo histograma para last_evaluation con intervalos ajustados\n",
    "max_eval <- max(datos$last_evaluation)\n",
    "breaks_last_eval <- seq(floor(min(datos$last_evaluation)), \n",
    "                         max_eval + (0.1 - max_eval %% 0.1), by = 0.1)\n",
    "hist(datos$last_evaluation,\n",
    "     main = \"Histograma de last_evaluation\",\n",
    "     xlab = \"Evaluación del desempeño\",\n",
    "     ylab = \"Frecuencia\",\n",
    "     col = \"lightgreen\",\n",
    "     # Intervalos ajustados para cubrir todo el rango\n",
    "     breaks = breaks_last_eval,\n",
    "     # Oculto ejes para personalizarlos después\n",
    "     axes = FALSE)\n",
    "\n",
    "# Añado los ejes personalizados\n",
    "axis(1, at = seq(floor(min(datos$last_evaluation)),\n",
    "                 max_eval + (0.1 - max_eval %% 0.1), by = 0.1),\n",
    "     labels = seq(floor(min(datos$last_evaluation)),\n",
    "                  max_eval + (0.1 - max_eval %% 0.1), by = 0.1))\n",
    "axis(2, las = 1)"
   ]
  },
  {
   "cell_type": "markdown",
   "metadata": {},
   "source": [
    "`satisfaction_level`:\n",
    "\n",
    "El histograma muestra una distribución multimodal, con maximos alrededor de los niveles de satisfacción de 0.4 y 0.8. Esto sugiere que hay dos grupos principales de empleados: uno con niveles de satisfacción moderados y otro con niveles de satisfacción altos. También se observa una menor frecuencia en niveles muy bajos o muy altos de satisfacción.\n",
    "\n",
    "`last_evaluation`:\n",
    "\n",
    "La distribución de la evaluación del desempeño tiene una forma sesgada a la derecha, con un maximo notable alrededor de 0.6 a 0.8. Esto indica que la mayoría de los empleados tiene evaluaciones de desempeño por encima del promedio, con relativamente pocos empleados obteniendo evaluaciones bajas. Esta distribución podría reflejar un sistema de evaluación que favorece calificaciones positivas o que la mayoría de los empleados están cumpliendo o superando las expectativas."
   ]
  },
  {
   "cell_type": "code",
   "execution_count": 18,
   "metadata": {
    "vscode": {
     "languageId": "r"
    }
   },
   "outputs": [
    {
     "data": {
      "image/png": "[encoded data removed]",
      "text/plain": [
       "Plot with title \"Histograma de average_montly_hours\""
      ]
     },
     "metadata": {
      "image/png": {
       "height": 300,
       "width": 600
      }
     },
     "output_type": "display_data"
    }
   ],
   "source": [
    "# Ajusto el tamaño de la ventana gráfica\n",
    "options(repr.plot.width = 10, repr.plot.height = 5)\n",
    "\n",
    "# Divido el área de gráficos en una disposición de 1 fila por 2 columnas\n",
    "par(mfrow = c(1, 2))\n",
    "\n",
    "# Obtengo las frecuencias del histograma de number_project sin dibujarlo\n",
    "hist_info <- hist(datos$number_project, breaks = 10, plot = FALSE)\n",
    "\n",
    "# Calculo la frecuencia máxima\n",
    "max_freq <- max(hist_info$counts)\n",
    "\n",
    "# Creo el histograma para number_project con el ajuste del eje y\n",
    "hist(datos$number_project,\n",
    "     main = \"Histograma de number_project\",\n",
    "     xlab = \"Número de proyectos\",\n",
    "     ylab = \"Frecuencia\",\n",
    "     col = \"skyblue\",\n",
    "     breaks = 15,  # Aumento el número de barras\n",
    "     ylim = c(0, max_freq + 500),  # Ajusto el rango del eje y\n",
    "     axes = FALSE)  # Oculto ejes para personalizarlos después\n",
    "\n",
    "# Añado los ejes personalizados\n",
    "axis(1, at = seq(min(datos$number_project),\n",
    "                 max(datos$number_project),\n",
    "                 by = 1),\n",
    "     labels = seq(min(datos$number_project),\n",
    "                  max(datos$number_project),\n",
    "                  by = 1))\n",
    "axis(2, las = 1, at = seq(0, max_freq + 500, by = 1000))\n",
    "\n",
    "# Creo el segundo histograma para average_montly_hours con intervalos ajustados\n",
    "max_hours <- max(datos$average_montly_hours)\n",
    "breaks_hours <- seq(floor(min(datos$average_montly_hours)),\n",
    "                    max_hours + (20 - max_hours %% 20), by = 20)\n",
    "hist(datos$average_montly_hours,\n",
    "     main = \"Histograma de average_montly_hours\",\n",
    "     xlab = \"Horas trabajadas por mes\",\n",
    "     ylab = \"Frecuencia\",\n",
    "     col = \"lightgreen\",\n",
    "     # Intervalos ajustados para cubrir todo el rango\n",
    "     breaks = breaks_hours,\n",
    "     # Oculto ejes para personalizarlos después\n",
    "     axes = FALSE)\n",
    "\n",
    "# Añado los ejes personalizados\n",
    "axis(1, at = seq(floor(min(datos$average_montly_hours)),\n",
    "                 max_hours + (20 - max_hours %% 20), by = 20),\n",
    "     labels = seq(floor(min(datos$average_montly_hours)),\n",
    "                  max_hours + (20 - max_hours %% 20), by = 20))\n",
    "axis(2, las = 1)"
   ]
  },
  {
   "cell_type": "markdown",
   "metadata": {},
   "source": [
    "`number_project`:\n",
    "\n",
    "El histograma muestra que la mayoría de los empleados están involucrados en 3 o 4 proyectos, con una caída significativa en la frecuencia para los empleados con 5 o más proyectos. Esta distribución podría sugerir que la carga de trabajo se concentra en un número específico de proyectos, y pocos empleados están llevando más de 5 proyectos simultáneamente.\n",
    "\n",
    "`average_montly_hours`:\n",
    "\n",
    "La distribución de las horas mensuales trabajadas es bimodal, con maximos alrededor de 150 y 250 horas. Esto podría indicar que hay dos patrones de trabajo: uno con una carga horaria moderada y otro con una carga horaria más alta. La existencia de dos grupos distintos podría estar relacionada con diferentes roles o niveles de responsabilidad dentro de la empresa."
   ]
  },
  {
   "cell_type": "code",
   "execution_count": 19,
   "metadata": {
    "vscode": {
     "languageId": "r"
    }
   },
   "outputs": [
    {
     "data": {
      "image/png": "[encoded data removed]",
      "text/plain": [
       "Plot with title \"Histograma de time_spend_company\""
      ]
     },
     "metadata": {
      "image/png": {
       "height": 300,
       "width": 300
      }
     },
     "output_type": "display_data"
    }
   ],
   "source": [
    "# Ajusto el tamaño de la ventana gráfica\n",
    "options(repr.plot.width = 5, repr.plot.height = 5)\n",
    "\n",
    "# Obtengo las frecuencias del histograma de time_spend_company sin dibujarlo\n",
    "hist_info <- hist(datos$time_spend_company, breaks = 5, plot = FALSE)\n",
    "\n",
    "# Calculo la frecuencia máxima\n",
    "max_freq <- max(hist_info$counts)\n",
    "\n",
    "# Creo el histograma para time_spend_company con el ajuste del eje y\n",
    "hist(datos$time_spend_company,\n",
    "     main = \"Histograma de time_spend_company\",\n",
    "     xlab = \"Tiempo en la empresa\",\n",
    "     ylab = \"Frecuencia\",\n",
    "     col = \"skyblue\",\n",
    "     breaks = 5,  # Ajusto los breaks para mejor visualización\n",
    "     ylim = c(0, max_freq + 1000),  # Ajusto el rango del eje y\n",
    "     axes = FALSE)  # Oculto ejes para personalizarlos después\n",
    "\n",
    "# Añado los ejes personalizados\n",
    "axis(1, at = seq(min(datos$time_spend_company),\n",
    "                 max(datos$time_spend_company),\n",
    "                 by = 1),\n",
    "     labels = seq(min(datos$time_spend_company),\n",
    "                  max(datos$time_spend_company),\n",
    "                  by = 1))\n",
    "axis(2, las = 1, at = seq(0, max_freq + 1000, by = 2000))"
   ]
  },
  {
   "cell_type": "markdown",
   "metadata": {},
   "source": [
    "`time_spend_company`:\n",
    "\n",
    "Este histograma muestra una distribución altamente sesgada a la izquierda, con la mayoría de los empleados habiendo trabajado entre 2 y 4 años en la empresa. Un número significativamente menor de empleados ha permanecido más de 5 años, y muy pocos han trabajado 7 años o más. Esta distribución sugiere una alta tasa de rotación en los primeros años de empleo, lo que podría ser un punto de interés para investigar más a fondo en términos de retención de empleados."
   ]
  },
  {
   "cell_type": "code",
   "execution_count": 20,
   "metadata": {
    "vscode": {
     "languageId": "r"
    }
   },
   "outputs": [
    {
     "name": "stdout",
     "output_type": "stream",
     "text": [
      "[1] Varianza de satisfaction_level : 0.0618172006470876\n",
      "[1] Desviación estándar de satisfaction_level : 0.248630651061143\n",
      "[1] Varianza de last_evaluation : 0.0292988644315631\n",
      "[1] Desviación estándar de last_evaluation : 0.171169110623275\n",
      "[1] Varianza de number_project : 1.51928391438924\n",
      "[1] Desviación estándar de number_project : 1.23259235531835\n",
      "[1] Varianza de average_montly_hours : 2494.31317480996\n",
      "[1] Desviación estándar de average_montly_hours : 49.9430993712841\n",
      "[1] Varianza de time_spend_company : 2.13199781172236\n",
      "[1] Desviación estándar de time_spend_company : 1.46013623053548\n"
     ]
    }
   ],
   "source": [
    "variables <- c(\"satisfaction_level\", \"last_evaluation\",\n",
    "               \"number_project\", \"average_montly_hours\",\n",
    "               \"time_spend_company\")\n",
    "for (variable in variables) {\n",
    "  varianza <- var(datos[, variable])\n",
    "  desviacion_estandar <- sd(datos[, variable])\n",
    "  print(paste(\"Varianza de\", variable, \":\", varianza),\n",
    "        quote = FALSE)\n",
    "  print(paste(\"Desviación estándar de\", variable, \":\", desviacion_estandar),\n",
    "        quote = FALSE)\n",
    "}"
   ]
  },
  {
   "cell_type": "markdown",
   "metadata": {},
   "source": [
    "4. Cree la variable “number_project2” donde omita 100 valores para la variable “number_project” de forma aleatoria, suponga que algunos colaboradores no conocían el número de proyectos en el que participaron durante el último año y omitieron su respuesta al momento de ser encuestados. Mantenga la copia de la variable original e inserte la semilla 12345. "
   ]
  },
  {
   "cell_type": "code",
   "execution_count": 21,
   "metadata": {
    "vscode": {
     "languageId": "r"
    }
   },
   "outputs": [
    {
     "data": {
      "text/html": [
       "100"
      ],
      "text/latex": [
       "100"
      ],
      "text/markdown": [
       "100"
      ],
      "text/plain": [
       "[1] 100"
      ]
     },
     "metadata": {},
     "output_type": "display_data"
    }
   ],
   "source": [
    "# Fijo la semilla\n",
    "set.seed(12345)\n",
    "\n",
    "# Copio la variable original\n",
    "datos$number_project2 <- datos$number_project\n",
    "\n",
    "# Selecciono aleatoriamente 100 filas para asignar NA a \"number_project2\"\n",
    "filas_con_na <- sample(1:nrow(datos), 100)\n",
    "\n",
    "# Asigno NA a las filas seleccionadas\n",
    "datos$number_project2[filas_con_na] <- NA\n",
    "\n",
    "# Verifico cuántos valores faltantes hay en la nueva variable\n",
    "sum(is.na(datos$number_project2))"
   ]
  },
  {
   "cell_type": "markdown",
   "metadata": {},
   "source": [
    "5. Suponga que la variable de interés principal es “satisfaction_level”. Por lo tanto, realice un breve análisis descriptivo de dicha variable considerando solo aquellas observaciones con valores perdidos en “number_project2” y repita lo mismo para aquellos casos sin valores perdidos en “number_project2”. ¿Son similares los 2 conjuntos de resultados? Realice un test t para la diferencia de media de “satisfaction_level” considerando la comparación entre aquel grupo con valores perdidos en “number_project2” y aquel grupo sin valores perdidos. Concluya sobre cómo se distribuyen los valores perdidos en relación a su variable principal de interés, “satisfaction_level”. "
   ]
  },
  {
   "cell_type": "code",
   "execution_count": 22,
   "metadata": {
    "vscode": {
     "languageId": "r"
    }
   },
   "outputs": [],
   "source": [
    "# Separo los datos en dos grupos: con y sin valores perdidos\n",
    "grupo_na <- datos[is.na(datos$number_project2), ]\n",
    "grupo_no_na <- datos[!is.na(datos$number_project2), ]\n",
    "\n",
    "# Análisis para observaciones con valores perdidos en number_project2\n",
    "summary_perdidos <- summary(grupo_na$satisfaction_level)\n",
    "sd_perdidos <- sd(grupo_na$satisfaction_level)\n",
    "\n",
    "# Análisis para observaciones sin valores perdidos en number_project2\n",
    "summary_no_perdidos <- summary(grupo_no_na$satisfaction_level)\n",
    "sd_no_perdidos <- sd(grupo_no_na$satisfaction_level)"
   ]
  },
  {
   "cell_type": "code",
   "execution_count": 23,
   "metadata": {
    "vscode": {
     "languageId": "r"
    }
   },
   "outputs": [
    {
     "name": "stdout",
     "output_type": "stream",
     "text": [
      "[1] \"Resumen para observaciones con valores perdidos:\"\n",
      "   Min. 1st Qu.  Median    Mean 3rd Qu.    Max. \n",
      " 0.0900  0.4575  0.6800  0.6246  0.8125  0.9900 \n",
      "[1] \"Desviación estándar: 0.249433378081223\"\n",
      "[1] \"Resumen para observaciones sin valores perdidos:\"\n",
      "   Min. 1st Qu.  Median    Mean 3rd Qu.    Max. \n",
      " 0.0900  0.4400  0.6400  0.6128  0.8200  1.0000 \n",
      "[1] \"Desviación estándar: 0.248631771187715\"\n",
      "[1] \"Resultados del test t:\"\n",
      "\n",
      "\tWelch Two Sample t-test\n",
      "\n",
      "data:  grupo_na$satisfaction_level and grupo_no_na$satisfaction_level\n",
      "t = 0.47332, df = 100.32, p-value = 0.637\n",
      "alternative hypothesis: true difference in means is not equal to 0\n",
      "95 percent confidence interval:\n",
      " -0.03780419  0.06149509\n",
      "sample estimates:\n",
      "mean of x mean of y \n",
      "0.6246000 0.6127545 \n",
      "\n"
     ]
    }
   ],
   "source": [
    "# Imprimo resultados\n",
    "print(\"Resumen para observaciones con valores perdidos:\")\n",
    "print(summary_perdidos)\n",
    "print(paste(\"Desviación estándar:\", sd_perdidos))\n",
    "\n",
    "print(\"Resumen para observaciones sin valores perdidos:\")\n",
    "print(summary_no_perdidos)\n",
    "print(paste(\"Desviación estándar:\", sd_no_perdidos))\n",
    "\n",
    "# Test t para la diferencia de medias\n",
    "t_test_result <- t.test(grupo_na$satisfaction_level,\n",
    "                        grupo_no_na$satisfaction_level)\n",
    "\n",
    "print(\"Resultados del test t:\")\n",
    "print(t_test_result)"
   ]
  },
  {
   "cell_type": "markdown",
   "metadata": {},
   "source": [
    "Análisis descriptivo\n",
    "\n",
    "El análisis descriptivo de la variable \"satisfaction_level\" para las observaciones con valores perdidos en \"number_project2\" (grupo_na) y sin valores perdidos (grupo_no_na) muestra que ambos conjuntos tienen una distribución similar.\n",
    "\n",
    "La media de la satisfacción laboral para el grupo con valores perdidos es de 0,6246, mientras que para el grupo sin valores perdidos es de 0,6128. Estas medias son muy similares.\n",
    "\n",
    "La desviación estándar para el grupo con valores perdidos es de 0,2494, mientras que para el grupo sin valores perdidos es de 0,2486. Estas desviaciones estándar también son muy similares.\n",
    "\n",
    "Análisis Resultado del Test t\n",
    "\n",
    "El test t muestra un p-valor de 0.637, que es mucho mayor que el nivel de significancia típico de 0.05. Esto indica que no hay evidencia estadística suficiente para rechazar la hipótesis nula de que las medias de \"satisfaction_level\" son iguales en ambos grupos.\n",
    "\n",
    "El valor de t es de 0,47332, lo que indica que la diferencia entre las medias no es estadísticamente significativa.\n",
    "\n",
    "Además, el intervalo de confianza del 95% para la diferencia de medias incluye el cero (-0.0378, 0.0615), lo que refuerza la conclusión de que no hay una diferencia estadísticamente significativa entre los grupos.\n",
    "\n",
    "Basándonos en los resultados del análisis descriptivo y el test t, podemos concluir que los valores perdidos en la variable 'number_project2' se distribuyen aleatoriamente en relación a la variable 'satisfaction_level'. En otras palabras, la falta de información sobre el número de proyectos no parece estar relacionada con el nivel de satisfacción de los empleados.\n",
    "\n",
    "Esta conclusión se alinea con el concepto de **Missing Completely at Random (MCAR)** que es cuando los datos son MCAR, la probabilidad de que un dato falte no depende de ninguna variable, ni observada ni no observada. En este caso, la omisión de la respuesta sobre el número de proyectos parece ser aleatoria y no está influenciada por el nivel de satisfacción del empleado."
   ]
  },
  {
   "cell_type": "markdown",
   "metadata": {},
   "source": [
    "6.\tRealice el método de imputación Hot Deck para obtener una estimación de los valores perdidos a ser imputados. Para ello use las variables \"satisfaction_level\" y \"salary\" para apoyar el proceso. Compare sus resultados con el vector original y reporte su RMSE."
   ]
  },
  {
   "cell_type": "code",
   "execution_count": 24,
   "metadata": {
    "vscode": {
     "languageId": "r"
    }
   },
   "outputs": [
    {
     "name": "stdout",
     "output_type": "stream",
     "text": [
      "[1] \"RMSE: 1.17046999107196\"\n"
     ]
    },
    {
     "data": {
      "text/html": [
       "<table class=\"dataframe\">\n",
       "<caption>A data.frame: 6 × 3</caption>\n",
       "<thead>\n",
       "\t<tr><th></th><th scope=col>Original</th><th scope=col>Imputado</th><th scope=col>Diferencia</th></tr>\n",
       "\t<tr><th></th><th scope=col>&lt;int&gt;</th><th scope=col>&lt;int&gt;</th><th scope=col>&lt;int&gt;</th></tr>\n",
       "</thead>\n",
       "<tbody>\n",
       "\t<tr><th scope=row>1</th><td>7</td><td>6</td><td> 1</td></tr>\n",
       "\t<tr><th scope=row>2</th><td>6</td><td>6</td><td> 0</td></tr>\n",
       "\t<tr><th scope=row>3</th><td>2</td><td>2</td><td> 0</td></tr>\n",
       "\t<tr><th scope=row>4</th><td>2</td><td>2</td><td> 0</td></tr>\n",
       "\t<tr><th scope=row>5</th><td>4</td><td>4</td><td> 0</td></tr>\n",
       "\t<tr><th scope=row>6</th><td>4</td><td>5</td><td>-1</td></tr>\n",
       "</tbody>\n",
       "</table>\n"
      ],
      "text/latex": [
       "A data.frame: 6 × 3\n",
       "\\begin{tabular}{r|lll}\n",
       "  & Original & Imputado & Diferencia\\\\\n",
       "  & <int> & <int> & <int>\\\\\n",
       "\\hline\n",
       "\t1 & 7 & 6 &  1\\\\\n",
       "\t2 & 6 & 6 &  0\\\\\n",
       "\t3 & 2 & 2 &  0\\\\\n",
       "\t4 & 2 & 2 &  0\\\\\n",
       "\t5 & 4 & 4 &  0\\\\\n",
       "\t6 & 4 & 5 & -1\\\\\n",
       "\\end{tabular}\n"
      ],
      "text/markdown": [
       "\n",
       "A data.frame: 6 × 3\n",
       "\n",
       "| <!--/--> | Original &lt;int&gt; | Imputado &lt;int&gt; | Diferencia &lt;int&gt; |\n",
       "|---|---|---|---|\n",
       "| 1 | 7 | 6 |  1 |\n",
       "| 2 | 6 | 6 |  0 |\n",
       "| 3 | 2 | 2 |  0 |\n",
       "| 4 | 2 | 2 |  0 |\n",
       "| 5 | 4 | 4 |  0 |\n",
       "| 6 | 4 | 5 | -1 |\n",
       "\n"
      ],
      "text/plain": [
       "  Original Imputado Diferencia\n",
       "1 7        6         1        \n",
       "2 6        6         0        \n",
       "3 2        2         0        \n",
       "4 2        2         0        \n",
       "5 4        4         0        \n",
       "6 4        5        -1        "
      ]
     },
     "metadata": {},
     "output_type": "display_data"
    }
   ],
   "source": [
    "# Realizo la imputación Hot Deck\n",
    "datos_imputados <- hotdeck(datos, variable = \"number_project2\",\n",
    "                           ord_var = c(\"satisfaction_level\", \"salary\"))\n",
    "\n",
    "# Extraigo los valores imputados\n",
    "valores_imputados <- datos_imputados$number_project2\n",
    "\n",
    "# Filtro solo los valores que originalmente eran NA para compararlos\n",
    "originales_na <- datos$number_project[is.na(datos$number_project2)]\n",
    "imputados_na <- valores_imputados[is.na(datos$number_project2)]\n",
    "\n",
    "# Calculo el RMSE solo para los valores imputados\n",
    "rmse <- sqrt(mean((originales_na - imputados_na)^2))\n",
    "\n",
    "# Imprimo el RMSE\n",
    "print(paste(\"RMSE:\", rmse))\n",
    "\n",
    "# Comparo los primeros valores originales e imputados\n",
    "# (solo donde hubo imputación)\n",
    "head(data.frame(Original = originales_na,\n",
    "                Imputado = imputados_na,\n",
    "                Diferencia = originales_na - imputados_na))"
   ]
  },
  {
   "cell_type": "markdown",
   "metadata": {},
   "source": [
    "- El método Hot Deck se basa en la idea de encontrar \"donantes\" (observaciones con valores completos) que sean similares a las observaciones con valores faltantes, basándose en las variables de apoyo. En este caso, las variables satisfaction_level y salary se utilizaron para identificar donantes con características similares a las observaciones con valores faltantes en number_project2.\n",
    "\n",
    "- La precisión del método Hot Deck depende de la calidad de las variables de apoyo y de la similitud entre los donantes y las observaciones con valores faltantes. En este caso, los resultados sugieren que las variables satisfaction_level y salary fueron adecuadas para encontrar donantes similares y generar imputaciones precisas.\n",
    "\n",
    "- Se utilizaron las variables \"satisfaction_level\" y \"salary\" como variables de ordenamiento (ord_var) en el proceso de imputación. Esto significa que el algoritmo buscará donantes que sean similares en términos de nivel de satisfacción y salario, lo cual es coherente con la solicitud de la pregunta.\n",
    "\n",
    "- El método Hot Deck es apropiado en este tipo de situaciones donde los datos faltantes pueden estar asociados a grupos similares en la data, definidos por variables auxiliares. En este caso, el uso de satisfaction_level y salary es lógico, ya que estas variables podrían estar relacionadas con el número de proyectos en los que un empleado ha trabajado.\n",
    "\n",
    "Interpretación del RMSE\n",
    "\n",
    "- El RMSE de 1.1704 indica que, en promedio, la diferencia entre los valores imputados y los valores originales es de aproximadamente 1.17 unidades. Esto es un resultado razonable para un método de imputación que no pretende ser exacto, sino que busca mantener la coherencia en el contexto de las variables (satisfaction_level y salary).\n",
    "\n",
    "- El RMSE está en la misma escala que la variable original (number_project).\n",
    "\n",
    "- Un RMSE moderado como el que se obtuvo es esperable en un método como Hot Deck, donde la imputación se basa en la similitud y no en la exactitud. Según la teoría de valores perdidos, es más importante mantener la coherencia en la distribución general de los datos que obtener valores exactos, lo que se ha logrado este caso."
   ]
  },
  {
   "cell_type": "markdown",
   "metadata": {},
   "source": [
    "7. Realice un método de imputación MICE para obtener una estimación de los valores perdidos. Utilice al menos 5 imputaciones, compare sus resultados con el vector original y reporte sus RMSEs (uno por cada conjunto de imputaciones, es decir, 5 RMSE)."
   ]
  },
  {
   "cell_type": "code",
   "execution_count": 25,
   "metadata": {
    "vscode": {
     "languageId": "r"
    }
   },
   "outputs": [
    {
     "name": "stdout",
     "output_type": "stream",
     "text": [
      "\n",
      " iter imp variable\n",
      "  1   1  number_project2\n",
      "  1   2  number_project2\n",
      "  1   3  number_project2\n",
      "  1   4  number_project2\n",
      "  1   5  number_project2\n",
      "  2   1  number_project2\n",
      "  2   2  number_project2\n",
      "  2   3  number_project2\n",
      "  2   4  number_project2\n",
      "  2   5  number_project2\n",
      "  3   1  number_project2\n",
      "  3   2  number_project2\n",
      "  3   3  number_project2\n",
      "  3   4  number_project2\n",
      "  3   5  number_project2\n",
      "  4   1  number_project2\n",
      "  4   2  number_project2\n",
      "  4   3  number_project2\n",
      "  4   4  number_project2\n",
      "  4   5  number_project2\n",
      "  5   1  number_project2\n",
      "  5   2  number_project2\n",
      "  5   3  number_project2\n",
      "  5   4  number_project2\n",
      "  5   5  number_project2\n",
      "  6   1  number_project2\n",
      "  6   2  number_project2\n",
      "  6   3  number_project2\n",
      "  6   4  number_project2\n",
      "  6   5  number_project2\n",
      "  7   1  number_project2\n",
      "  7   2  number_project2\n",
      "  7   3  number_project2\n",
      "  7   4  number_project2\n",
      "  7   5  number_project2\n",
      "  8   1  number_project2\n",
      "  8   2  number_project2\n",
      "  8   3  number_project2\n",
      "  8   4  number_project2\n",
      "  8   5  number_project2\n",
      "  9   1  number_project2\n",
      "  9   2  number_project2\n",
      "  9   3  number_project2\n",
      "  9   4  number_project2\n",
      "  9   5  number_project2\n",
      "  10   1  number_project2\n",
      "  10   2  number_project2\n",
      "  10   3  number_project2\n",
      "  10   4  number_project2\n",
      "  10   5  number_project2\n",
      "  11   1  number_project2\n",
      "  11   2  number_project2\n",
      "  11   3  number_project2\n",
      "  11   4  number_project2\n",
      "  11   5  number_project2\n",
      "  12   1  number_project2\n",
      "  12   2  number_project2\n",
      "  12   3  number_project2\n",
      "  12   4  number_project2\n",
      "  12   5  number_project2\n",
      "  13   1  number_project2\n",
      "  13   2  number_project2\n",
      "  13   3  number_project2\n",
      "  13   4  number_project2\n",
      "  13   5  number_project2\n",
      "  14   1  number_project2\n",
      "  14   2  number_project2\n",
      "  14   3  number_project2\n",
      "  14   4  number_project2\n",
      "  14   5  number_project2\n",
      "  15   1  number_project2\n",
      "  15   2  number_project2\n",
      "  15   3  number_project2\n",
      "  15   4  number_project2\n",
      "  15   5  number_project2\n",
      "  16   1  number_project2\n",
      "  16   2  number_project2\n",
      "  16   3  number_project2\n",
      "  16   4  number_project2\n",
      "  16   5  number_project2\n",
      "  17   1  number_project2\n",
      "  17   2  number_project2\n",
      "  17   3  number_project2\n",
      "  17   4  number_project2\n",
      "  17   5  number_project2\n",
      "  18   1  number_project2\n",
      "  18   2  number_project2\n",
      "  18   3  number_project2\n",
      "  18   4  number_project2\n",
      "  18   5  number_project2\n",
      "  19   1  number_project2\n",
      "  19   2  number_project2\n",
      "  19   3  number_project2\n",
      "  19   4  number_project2\n",
      "  19   5  number_project2\n",
      "  20   1  number_project2\n",
      "  20   2  number_project2\n",
      "  20   3  number_project2\n",
      "  20   4  number_project2\n",
      "  20   5  number_project2\n",
      "  21   1  number_project2\n",
      "  21   2  number_project2\n",
      "  21   3  number_project2\n",
      "  21   4  number_project2\n",
      "  21   5  number_project2\n",
      "  22   1  number_project2\n",
      "  22   2  number_project2\n",
      "  22   3  number_project2\n",
      "  22   4  number_project2\n",
      "  22   5  number_project2\n",
      "  23   1  number_project2\n",
      "  23   2  number_project2\n",
      "  23   3  number_project2\n",
      "  23   4  number_project2\n",
      "  23   5  number_project2\n",
      "  24   1  number_project2\n",
      "  24   2  number_project2\n",
      "  24   3  number_project2\n",
      "  24   4  number_project2\n",
      "  24   5  number_project2\n",
      "  25   1  number_project2\n",
      "  25   2  number_project2\n",
      "  25   3  number_project2\n",
      "  25   4  number_project2\n",
      "  25   5  number_project2\n",
      "  26   1  number_project2\n",
      "  26   2  number_project2\n",
      "  26   3  number_project2\n",
      "  26   4  number_project2\n",
      "  26   5  number_project2\n",
      "  27   1  number_project2\n",
      "  27   2  number_project2\n",
      "  27   3  number_project2\n",
      "  27   4  number_project2\n",
      "  27   5  number_project2\n",
      "  28   1  number_project2\n",
      "  28   2  number_project2\n",
      "  28   3  number_project2\n",
      "  28   4  number_project2\n",
      "  28   5  number_project2\n",
      "  29   1  number_project2\n",
      "  29   2  number_project2\n",
      "  29   3  number_project2\n",
      "  29   4  number_project2\n",
      "  29   5  number_project2\n",
      "  30   1  number_project2\n",
      "  30   2  number_project2\n",
      "  30   3  number_project2\n",
      "  30   4  number_project2\n",
      "  30   5  number_project2\n",
      "  31   1  number_project2\n",
      "  31   2  number_project2\n",
      "  31   3  number_project2\n",
      "  31   4  number_project2\n",
      "  31   5  number_project2\n",
      "  32   1  number_project2\n",
      "  32   2  number_project2\n",
      "  32   3  number_project2\n",
      "  32   4  number_project2\n",
      "  32   5  number_project2\n",
      "  33   1  number_project2\n",
      "  33   2  number_project2\n",
      "  33   3  number_project2\n",
      "  33   4  number_project2\n",
      "  33   5  number_project2\n",
      "  34   1  number_project2\n",
      "  34   2  number_project2\n",
      "  34   3  number_project2\n",
      "  34   4  number_project2\n",
      "  34   5  number_project2\n",
      "  35   1  number_project2\n",
      "  35   2  number_project2\n",
      "  35   3  number_project2\n",
      "  35   4  number_project2\n",
      "  35   5  number_project2\n",
      "  36   1  number_project2\n",
      "  36   2  number_project2\n",
      "  36   3  number_project2\n",
      "  36   4  number_project2\n",
      "  36   5  number_project2\n",
      "  37   1  number_project2\n",
      "  37   2  number_project2\n",
      "  37   3  number_project2\n",
      "  37   4  number_project2\n",
      "  37   5  number_project2\n",
      "  38   1  number_project2\n",
      "  38   2  number_project2\n",
      "  38   3  number_project2\n",
      "  38   4  number_project2\n",
      "  38   5  number_project2\n",
      "  39   1  number_project2\n",
      "  39   2  number_project2\n",
      "  39   3  number_project2\n",
      "  39   4  number_project2\n",
      "  39   5  number_project2\n",
      "  40   1  number_project2\n",
      "  40   2  number_project2\n",
      "  40   3  number_project2\n",
      "  40   4  number_project2\n",
      "  40   5  number_project2\n",
      "  41   1  number_project2\n",
      "  41   2  number_project2\n",
      "  41   3  number_project2\n",
      "  41   4  number_project2\n",
      "  41   5  number_project2\n",
      "  42   1  number_project2\n",
      "  42   2  number_project2\n",
      "  42   3  number_project2\n",
      "  42   4  number_project2\n",
      "  42   5  number_project2\n",
      "  43   1  number_project2\n",
      "  43   2  number_project2\n",
      "  43   3  number_project2\n",
      "  43   4  number_project2\n",
      "  43   5  number_project2\n",
      "  44   1  number_project2\n",
      "  44   2  number_project2\n",
      "  44   3  number_project2\n",
      "  44   4  number_project2\n",
      "  44   5  number_project2\n",
      "  45   1  number_project2\n",
      "  45   2  number_project2\n",
      "  45   3  number_project2\n",
      "  45   4  number_project2\n",
      "  45   5  number_project2\n",
      "  46   1  number_project2\n",
      "  46   2  number_project2\n",
      "  46   3  number_project2\n",
      "  46   4  number_project2\n",
      "  46   5  number_project2\n",
      "  47   1  number_project2\n",
      "  47   2  number_project2\n",
      "  47   3  number_project2\n",
      "  47   4  number_project2\n",
      "  47   5  number_project2\n",
      "  48   1  number_project2\n",
      "  48   2  number_project2\n",
      "  48   3  number_project2\n",
      "  48   4  number_project2\n",
      "  48   5  number_project2\n",
      "  49   1  number_project2\n",
      "  49   2  number_project2\n",
      "  49   3  number_project2\n",
      "  49   4  number_project2\n",
      "  49   5  number_project2\n",
      "  50   1  number_project2\n",
      "  50   2  number_project2\n",
      "  50   3  number_project2\n",
      "  50   4  number_project2\n",
      "  50   5  number_project2\n"
     ]
    },
    {
     "name": "stderr",
     "output_type": "stream",
     "text": [
      "Warning message:\n",
      "\"Number of logged events: 1\"\n"
     ]
    },
    {
     "name": "stdout",
     "output_type": "stream",
     "text": [
      "[1] \"RMSE para cada conjunto de imputaciones:\"\n",
      "[1] 1.212436 1.303840 1.637071 1.244990 1.256981\n",
      "[1] \"RMSE promedio: 1.33106341390195\"\n"
     ]
    },
    {
     "data": {
      "text/html": [
       "<table class=\"dataframe\">\n",
       "<caption>A data.frame: 6 × 3</caption>\n",
       "<thead>\n",
       "\t<tr><th></th><th scope=col>Original</th><th scope=col>Imputado</th><th scope=col>Diferencia</th></tr>\n",
       "\t<tr><th></th><th scope=col>&lt;int&gt;</th><th scope=col>&lt;int&gt;</th><th scope=col>&lt;int&gt;</th></tr>\n",
       "</thead>\n",
       "<tbody>\n",
       "\t<tr><th scope=row>1</th><td>7</td><td>7</td><td> 0</td></tr>\n",
       "\t<tr><th scope=row>2</th><td>6</td><td>6</td><td> 0</td></tr>\n",
       "\t<tr><th scope=row>3</th><td>2</td><td>2</td><td> 0</td></tr>\n",
       "\t<tr><th scope=row>4</th><td>2</td><td>3</td><td>-1</td></tr>\n",
       "\t<tr><th scope=row>5</th><td>4</td><td>4</td><td> 0</td></tr>\n",
       "\t<tr><th scope=row>6</th><td>4</td><td>5</td><td>-1</td></tr>\n",
       "</tbody>\n",
       "</table>\n"
      ],
      "text/latex": [
       "A data.frame: 6 × 3\n",
       "\\begin{tabular}{r|lll}\n",
       "  & Original & Imputado & Diferencia\\\\\n",
       "  & <int> & <int> & <int>\\\\\n",
       "\\hline\n",
       "\t1 & 7 & 7 &  0\\\\\n",
       "\t2 & 6 & 6 &  0\\\\\n",
       "\t3 & 2 & 2 &  0\\\\\n",
       "\t4 & 2 & 3 & -1\\\\\n",
       "\t5 & 4 & 4 &  0\\\\\n",
       "\t6 & 4 & 5 & -1\\\\\n",
       "\\end{tabular}\n"
      ],
      "text/markdown": [
       "\n",
       "A data.frame: 6 × 3\n",
       "\n",
       "| <!--/--> | Original &lt;int&gt; | Imputado &lt;int&gt; | Diferencia &lt;int&gt; |\n",
       "|---|---|---|---|\n",
       "| 1 | 7 | 7 |  0 |\n",
       "| 2 | 6 | 6 |  0 |\n",
       "| 3 | 2 | 2 |  0 |\n",
       "| 4 | 2 | 3 | -1 |\n",
       "| 5 | 4 | 4 |  0 |\n",
       "| 6 | 4 | 5 | -1 |\n",
       "\n"
      ],
      "text/plain": [
       "  Original Imputado Diferencia\n",
       "1 7        7         0        \n",
       "2 6        6         0        \n",
       "3 2        2         0        \n",
       "4 2        3        -1        \n",
       "5 4        4         0        \n",
       "6 4        5        -1        "
      ]
     },
     "metadata": {},
     "output_type": "display_data"
    }
   ],
   "source": [
    "# Preparo los datos para la imputación\n",
    "# Selecciono las variables relevantes\n",
    "datos_imp <- datos[, c(\"number_project2\", \"satisfaction_level\", \"salary\")]\n",
    "\n",
    "# Realizo la imputación MICE\n",
    "imp <- mice(datos_imp, m = 5, maxit = 50, method = 'pmm', seed = 500)\n",
    "\n",
    "# Extraigo los valores imputados\n",
    "valores_imputados <- complete(imp, \"all\")\n",
    "\n",
    "# Calculo el RMSE para cada conjunto de imputaciones\n",
    "calcular_rmse <- function(originales, imputados) {\n",
    "  sqrt(mean((originales - imputados)^2, na.rm = TRUE))\n",
    "}\n",
    "\n",
    "rmse_resultados <- sapply(1:5, function(i) {\n",
    "  originales <- datos$number_project[is.na(datos$number_project2)]\n",
    "  imputados <- valores_imputados[[i]]$number_project2[is.na(datos$number_project2)]\n",
    "  calcular_rmse(originales, imputados)\n",
    "})\n",
    "\n",
    "# Muestro los resultados\n",
    "print(\"RMSE para cada conjunto de imputaciones:\")\n",
    "print(rmse_resultados)\n",
    "\n",
    "# Calculo y muestro el RMSE promedio\n",
    "rmse_promedio <- mean(rmse_resultados)\n",
    "print(paste(\"RMSE promedio:\", rmse_promedio))\n",
    "\n",
    "# Comparo los primeros valores originales e imputados del primer conjunto\n",
    "head(data.frame(\n",
    "  Original = datos$number_project[is.na(datos$number_project2)],\n",
    "  Imputado = valores_imputados[[1]]$number_project2[is.na(datos$number_project2)],\n",
    "  Diferencia = datos$number_project[is.na(datos$number_project2)] - \n",
    "               valores_imputados[[1]]$number_project2[is.na(datos$number_project2)]\n",
    "))"
   ]
  },
  {
   "cell_type": "markdown",
   "metadata": {},
   "source": [
    "El método MICE es un método de imputación múltiple que genera varios conjuntos de datos imputados, teniendo en cuenta la incertidumbre asociada a la imputación. El método 'pmm' se utilizó para imputar variables numéricas y busca donantes con valores predichos similares para la variable a imputar.\n",
    "\n",
    "El RMSE promedio es 1.331063. Este valor indica el error promedio entre los valores imputados y los valores originales de number_project en los casos donde se realizaron imputaciones.\n",
    "\n",
    "Los RMSE obtenidos son:\n",
    "\n",
    "- 1.212436\n",
    "- 1.303840\n",
    "- 1.637071\n",
    "- 1.244990\n",
    "- 1.256981\n",
    "\n",
    "Los RMSE varían entre aproximadamente 1.21 y 1.63, lo que indica cierta variabilidad en la precisión de las imputaciones entre los diferentes conjuntos.\n",
    "\n",
    "Los RMSE obtenidos son relativamente cercanos entre sí, lo que sugiere que el método de imputación está siendo consistente en cada uno de los cinco conjuntos de imputaciones.\n",
    "\n",
    "Basado en el análisis, podemos concluir que la imputación realizada es efectiva y los valores imputados se aproximan adecuadamente a los valores originales, proporcionando una estimación confiable para los datos faltantes.\n",
    "\n",
    "Para los valores originales 7, 6, 2, 2, 4, y 4, los valores imputados fueron 7, 6, 2, 3, 4, y 5, respectivamente.\n",
    "\n",
    "La diferencia es mínima en la mayoría de los casos (0 en la mayoría y -1 en algunos), lo que es un buen indicador de que la imputación está funcionando correctamente."
   ]
  },
  {
   "cell_type": "markdown",
   "metadata": {},
   "source": [
    "8. Investigue y explique cómo comparar una metodología de imputación (no múltiple) como Hot Deck, donde se obtiene solamente un conjunto de datos imputados, respecto de  una de imputación múltiple. Además, señale cuáles son las ventajas y desventajas de usar cada algoritmo. "
   ]
  },
  {
   "cell_type": "markdown",
   "metadata": {},
   "source": [
    "Comparación de Metodologías de Imputación no múltiple y múltiple\n",
    "\n",
    "**Sesgo y Varianza**: Los métodos de imputación no múltiple como Hot Deck pueden introducir sesgo y subestimar la varianza, ya que solo proporcionan una única estimación de los valores perdidos. Los métodos de imputación múltiple, por otro lado, pueden reducir el sesgo y proporcionar una estimación más precisa de la varianza al tener en cuenta la incertidumbre asociada con la imputación de valores perdidos.\n",
    "\n",
    "**Suposiciones del Modelo**: Los métodos de imputación no múltiple a menudo dependen de suposiciones fuertes del modelo, como la suposición de datos perdidos al azar (MAR, por sus siglas en inglés). Los métodos de imputación múltiple pueden relajar estas suposiciones y proporcionar resultados más robustos.\n",
    "\n",
    "**Complejidad Computacional**: Los métodos de imputación no múltiple son generalmente más simples y rápidos desde el punto de vista computacional en comparación con los métodos de imputación múltiple, que requieren la creación de múltiples conjuntos de datos imputados.\n",
    "\n",
    "**Complejidad de los Datos**: Los métodos de imputación no múltiple pueden no funcionar bien con estructuras de datos complejas, como datos longitudinales o jerárquicos. Los métodos de imputación múltiple pueden manejar estas estructuras de datos complejas de manera más efectiva.\n",
    "\n",
    "**Ventajas metodos imputación no múltiple (por ej: Hot Deck)**\n",
    "- Simple y eficiente desde el punto de vista computacional.\n",
    "- Fácil de implementar e interpretar.\n",
    "- Puede preservar distribuciones multinomiales e imputar valores cero.\n",
    "\n",
    "**Desventajas metodos imputación no múltiple (por ej: Hot Deck)**\n",
    "- Puede introducir sesgo y subestimar la varianza.\n",
    "- Depende de suposiciones fuertes del modelo.\n",
    "- Puede no funcionar bien con estructuras de datos complejas.\n",
    "\n",
    "**Ventajas metodos imputación múltiple**\n",
    "- Puede reducir el sesgo y proporcionar una estimación más precisa de la varianza.\n",
    "- Puede relajar las suposiciones del modelo y proporcionar resultados más robustos.\n",
    "- Puede manejar estructuras de datos complejas de manera efectiva.\n",
    "- Proporciona una imagen más completa de los datos.\n",
    "\n",
    "**Desventajas metodos imputación múltiple**\n",
    "- Computacionalmente más complejo y requiere más tiempo.\n",
    "- Requiere una consideración cuidadosa del modelo de imputación y los parámetros.\n",
    "- Puede ser difícil de interpretar y comunicar los resultados.\n",
    "\n"
   ]
  },
  {
   "cell_type": "markdown",
   "metadata": {},
   "source": [
    "9. Retome nuevamente el conjunto de datos original y considere como variable objetivo “satisfaction_level”.\t\n",
    "\n",
    "Realice un problema de aprendizaje supervisado de regresión mediante el método de regularización, prediga la variable objetivo utilizando regresión de lasso, ridge y elastic net. Considere los siguientes aspectos:\n",
    "- Evalúe si es necesario escalar los datos.\n",
    "- Separe en un conjunto de entrenamiento y otro de prueba.\n",
    "- Ajuste el/los hiperparámetro/s mediante algún procedimiento de remuestreo.\n",
    "- Prediga los resultados en el conjunto de prueba para cada modelo.\n",
    "- Registre RMSE de cada modelo.\n"
   ]
  },
  {
   "cell_type": "code",
   "execution_count": 26,
   "metadata": {
    "vscode": {
     "languageId": "r"
    }
   },
   "outputs": [],
   "source": [
    "# Importo la base de datos y la cargo como dataframe\n",
    "datos <- as.data.frame(read.csv(\"Employee Attrition.csv\"))"
   ]
  },
  {
   "cell_type": "code",
   "execution_count": 27,
   "metadata": {
    "vscode": {
     "languageId": "r"
    }
   },
   "outputs": [],
   "source": [
    "# Elimino la variable \"Emp.ID\"\n",
    "datos <- datos[, -which(names(datos) == \"Emp.ID\")]"
   ]
  },
  {
   "cell_type": "markdown",
   "metadata": {},
   "source": [
    "Evalúo si es necesario escalar los datos"
   ]
  },
  {
   "cell_type": "code",
   "execution_count": 28,
   "metadata": {
    "vscode": {
     "languageId": "r"
    }
   },
   "outputs": [
    {
     "data": {
      "text/plain": [
       " satisfaction_level last_evaluation  number_project  average_montly_hours\n",
       " Min.   :0.0900     Min.   :0.3600   Min.   :2.000   Min.   : 96.0       \n",
       " 1st Qu.:0.4400     1st Qu.:0.5600   1st Qu.:3.000   1st Qu.:156.0       \n",
       " Median :0.6400     Median :0.7200   Median :4.000   Median :200.0       \n",
       " Mean   :0.6128     Mean   :0.7161   Mean   :3.803   Mean   :201.1       \n",
       " 3rd Qu.:0.8200     3rd Qu.:0.8700   3rd Qu.:5.000   3rd Qu.:245.0       \n",
       " Max.   :1.0000     Max.   :1.0000   Max.   :7.000   Max.   :310.0       \n",
       " time_spend_company Work_accident    promotion_last_5years\n",
       " Min.   : 2.000     Min.   :0.0000   Min.   :0.00000      \n",
       " 1st Qu.: 3.000     1st Qu.:0.0000   1st Qu.:0.00000      \n",
       " Median : 3.000     Median :0.0000   Median :0.00000      \n",
       " Mean   : 3.498     Mean   :0.1446   Mean   :0.02127      \n",
       " 3rd Qu.: 4.000     3rd Qu.:0.0000   3rd Qu.:0.00000      \n",
       " Max.   :10.000     Max.   :1.0000   Max.   :1.00000      "
      ]
     },
     "metadata": {},
     "output_type": "display_data"
    }
   ],
   "source": [
    "# Verifico la escala de las variables numéricas\n",
    "summary(datos[, sapply(datos, is.numeric)])"
   ]
  },
  {
   "cell_type": "markdown",
   "metadata": {},
   "source": [
    "Analizando los resultados del summary, podemos observar que las variables numéricas presentan diferentes escalas:\n",
    "\n",
    "- satisfaction_level y last_evaluation: Ambas variables se encuentran en un rango de 0 a 1.\n",
    "- number_project: El número de proyectos varía de 2 a 7.\n",
    "- average_montly_hours: Las horas mensuales trabajadas van desde 96 hasta 310.\n",
    "- time_spend_company: El tiempo en la empresa está entre 2 y 10 años.\n",
    "\n",
    "Estas diferencias en la escala pueden influir negativamente en los modelos de regresión de regularización, como Lasso, Ridge, y Elastic Net. Modelos como estos, que utilizan regularización, son sensibles a la escala de las variables porque los coeficientes de regresión se ven afectados directamente por la magnitud de las variables independientes.\n",
    "\n",
    "Es necesario escalar los datos antes de aplicar los modelos de regularización. Esto es especialmente importante para asegurarse de que todas las variables contribuyan equitativamente al modelo y que los coeficientes de regresión no se vean dominados por las variables con mayores magnitudes"
   ]
  },
  {
   "cell_type": "code",
   "execution_count": 29,
   "metadata": {
    "vscode": {
     "languageId": "r"
    }
   },
   "outputs": [],
   "source": [
    "# Identifico variables categóricas y las convierto en factores\n",
    "categorical_vars <- sapply(datos, is.character)\n",
    "datos[categorical_vars] <- lapply(datos[categorical_vars], as.factor)"
   ]
  },
  {
   "cell_type": "code",
   "execution_count": 30,
   "metadata": {
    "vscode": {
     "languageId": "r"
    }
   },
   "outputs": [
    {
     "data": {
      "text/html": [
       "0"
      ],
      "text/latex": [
       "0"
      ],
      "text/markdown": [
       "0"
      ],
      "text/plain": [
       "[1] 0"
      ]
     },
     "metadata": {},
     "output_type": "display_data"
    }
   ],
   "source": [
    "# identifico missing en variable dependiente\n",
    "sum(is.na(datos$satisfaction_level))"
   ]
  },
  {
   "cell_type": "markdown",
   "metadata": {},
   "source": [
    "Separo en un conjunto de entrenamiento y otro de prueba"
   ]
  },
  {
   "cell_type": "code",
   "execution_count": 31,
   "metadata": {
    "vscode": {
     "languageId": "r"
    }
   },
   "outputs": [],
   "source": [
    "# Semilla\n",
    "set.seed(2106)\n",
    "\n",
    "# Partición de datos\n",
    "training.samples <- createDataPartition(datos$satisfaction_level,\n",
    "                                        p = 0.8, list = FALSE)\n",
    "train.data <- datos[training.samples, ]\n",
    "test.data <- datos[-training.samples, ]\n",
    "\n",
    "# x e y en conjunto de entrenamiento\n",
    "x <- model.matrix(satisfaction_level ~ ., train.data)[, -1]\n",
    "y <- train.data$satisfaction_level\n",
    "\n",
    "# x e y en conjunto de testeo\n",
    "x_test <- model.matrix(satisfaction_level ~ ., test.data)[, -1]\n",
    "y_test <- test.data$satisfaction_level"
   ]
  },
  {
   "cell_type": "code",
   "execution_count": 32,
   "metadata": {
    "vscode": {
     "languageId": "r"
    }
   },
   "outputs": [],
   "source": [
    "# Grilla lambda\n",
    "lambda <- 10^seq(11, -1, length = 200)"
   ]
  },
  {
   "cell_type": "markdown",
   "metadata": {},
   "source": [
    "Ajusto los hiperparámetros mediante validación cruzada"
   ]
  },
  {
   "cell_type": "code",
   "execution_count": 33,
   "metadata": {
    "vscode": {
     "languageId": "r"
    }
   },
   "outputs": [
    {
     "name": "stdout",
     "output_type": "stream",
     "text": [
      "Mejor lambda para Ridge: 0.1 \n"
     ]
    },
    {
     "data": {
      "image/png": "[encoded data removed]",
      "text/plain": [
       "Plot with title \"Ridge regression\""
      ]
     },
     "metadata": {
      "image/png": {
       "height": 300,
       "width": 300
      }
     },
     "output_type": "display_data"
    },
    {
     "data": {
      "image/png": "[encoded data removed]",
      "text/plain": [
       "plot without title"
      ]
     },
     "metadata": {
      "image/png": {
       "height": 300,
       "width": 300
      }
     },
     "output_type": "display_data"
    }
   ],
   "source": [
    "# Ridge\n",
    "ridge_cv <- cv.glmnet(x, y, alpha = 0, lambda = lambda,\n",
    "                      standardize = TRUE, nfolds = 10)\n",
    "bestlam_ridge <- ridge_cv$lambda.min\n",
    "cat(\"Mejor lambda para Ridge:\", bestlam_ridge, \"\\n\")\n",
    "\n",
    "# Gráfico ECM y lambda para Ridge\n",
    "plot(ridge_cv$lambda, ridge_cv$cvm, type = \"l\",\n",
    "     xlab = \"Lambda\", ylab = \"Error Cuadrático Medio\",\n",
    "     main = \"Ridge regression\")\n",
    "points(bestlam_ridge, min(ridge_cv$cvm), col = \"red\", pch = 19)\n",
    "\n",
    "# Gráfico coeficientes y log(Lambda) para Ridge\n",
    "ridge.mod <- glmnet(x, y, alpha = 0)\n",
    "plot(ridge.mod, xvar = \"lambda\", ylab = \"Coeficientes\")\n",
    "abline(h = 0, lwd = 2, col = \"red\")"
   ]
  },
  {
   "cell_type": "markdown",
   "metadata": {},
   "source": [
    "Al usar standardize = TRUE, me aseguré de que en el código todas las variables predictoras están en la misma escala."
   ]
  },
  {
   "cell_type": "markdown",
   "metadata": {},
   "source": [
    "Ajuste del hiperparámetro lambda:\n",
    "\n",
    "- La validación cruzada (CV) se utiliza para ajustar el hiperparámetro lambda, que controla la cantidad de regularización aplicada en el modelo Ridge. El gráfico resultante muestra cómo varía el Error Cuadrático Medio (ECM) en función de lambda. El punto rojo en el gráfico marca el valor de lambda que minimiza el ECM, es decir, el mejor valor de lambda.\n",
    "\n",
    "- El mejor valor de lambda encontrado mediante validación cruzada para la regresión Ridge es 0.1. Este valor relativamente bajo sugiere que el modelo no requiere una penalización muy fuerte, lo que indica que probablemente no hay un problema grave de multicolinealidad o sobreajuste en los datos.\n",
    "\n",
    "Gráfico de Error Cuadrático Medio (ECM) vs Lambda:\n",
    "\n",
    "- El gráfico demuestra que al aumentar lambda, el ECM se estabiliza, lo que indica que el modelo no mejora significativamente con una mayor regularización.\n",
    "\n",
    "Gráfico de Coeficientes vs Log(Lambda):\n",
    "\n",
    "- El segundo gráfico muestra cómo varían los coeficientes de las variables predictoras en función del logaritmo de lambda. A medida que lambda aumenta, los coeficientes tienden a acercarse a cero, lo cual es esperado en la regresión Ridge ya que el objetivo es reducir la complejidad del modelo sin eliminar completamente las variables predictoras (a diferencia del Lasso, que puede llevar coeficientes a cero).\n",
    "\n",
    "- La línea roja horizontal en y=0 ayuda a visualizar qué coeficientes cambian de signo con la regularización."
   ]
  },
  {
   "cell_type": "code",
   "execution_count": 34,
   "metadata": {
    "vscode": {
     "languageId": "r"
    }
   },
   "outputs": [
    {
     "name": "stdout",
     "output_type": "stream",
     "text": [
      "Mejor lambda para Lasso: 1e+11 \n"
     ]
    },
    {
     "data": {
      "image/png": "[encoded data removed]",
      "text/plain": [
       "Plot with title \"LASSO\""
      ]
     },
     "metadata": {
      "image/png": {
       "height": 300,
       "width": 300
      }
     },
     "output_type": "display_data"
    },
    {
     "data": {
      "image/png": "[encoded data removed]",
      "text/plain": [
       "plot without title"
      ]
     },
     "metadata": {
      "image/png": {
       "height": 300,
       "width": 300
      }
     },
     "output_type": "display_data"
    }
   ],
   "source": [
    "# Lasso\n",
    "lasso_cv <- cv.glmnet(x, y, alpha = 1, lambda = lambda,\n",
    "                      standardize = TRUE, nfolds = 10)\n",
    "bestlam_lasso <- lasso_cv$lambda.min\n",
    "cat(\"Mejor lambda para Lasso:\", bestlam_lasso, \"\\n\")\n",
    "\n",
    "# Gráfico ECM y lambda para Lasso\n",
    "plot(lasso_cv$lambda, lasso_cv$cvm, type = \"l\",\n",
    "     xlab = \"Lambda\", ylab = \"Error Cuadrático Medio\", main = \"LASSO\")\n",
    "points(bestlam_lasso, min(lasso_cv$cvm), col = \"red\", pch = 19)\n",
    "\n",
    "# Gráfico coeficientes y log(Lambda) para Lasso\n",
    "lasso.mod <- glmnet(x, y, alpha = 1)\n",
    "plot(lasso.mod, xvar = \"lambda\", ylab = \"Coeficientes\")"
   ]
  },
  {
   "cell_type": "markdown",
   "metadata": {},
   "source": [
    "Escalado: Se realiza nuevamente el escalado de las variables a través del parámetro standardize = TRUE.\n",
    "\n",
    "\n",
    "Selección del mejor Lambda para Lasso:\n",
    "\n",
    "Al igual que en el caso de Ridge, se realizó una validación cruzada para determinar el mejor valor de lambda para el modelo Lasso. El gráfico que relaciona lambda con el Error Cuadrático Medio (ECM) muestra cómo el error varía a medida que se ajusta el valor de lambda.\n",
    "\n",
    "Mejor Lambda para Lasso: 1e+11\n",
    "\n",
    "Este valor de lambda es significativamente grande, lo que indica una fuerte penalización en los coeficientes. En Lasso, esto puede resultar en que algunos coeficientes se reduzcan exactamente a cero, eliminando variables del modelo. Este es un comportamiento distintivo de Lasso, que puede ayudar a simplificar el modelo eliminando variables irrelevantes.\n",
    "\n",
    "Gráfico de Error Cuadrático Medio (ECM) vs Lambda:\n",
    "\n",
    "El gráfico muestra una línea casi plana, con el mínimo ECM identificado por el punto rojo. La falta de una caída pronunciada en el ECM podría sugerir que los datos no están muy afectados por diferentes niveles de regularización, o que las variables relevantes son pocas y ya están bien ajustadas con menos regularización.\n",
    "\n",
    "Gráfico de Coeficientes vs Log(Lambda):\n",
    "\n",
    "En el gráfico de coeficientes contra log(lambda), se observa cómo los coeficientes de las variables predictoras se ajustan con la penalización de Lasso:\n",
    "\n",
    "A medida que lambda aumenta, varios coeficientes comienzan a reducirse a cero. Este es el efecto de selección de variables propio de Lasso.\n",
    "\n",
    "Puntos Importantes:\n",
    "\n",
    "- Lasso tiende a hacer un modelo más parsimonioso (más simple), eliminando variables que no son relevantes para predecir la variable objetivo (satisfaction_level).\n",
    "\n",
    "- A diferencia de Ridge, donde los coeficientes se reducen pero no llegan a cero, Lasso establece explícitamente algunos coeficientes en cero, lo que facilita la interpretación del modelo al indicar cuáles variables son realmente importantes."
   ]
  },
  {
   "cell_type": "code",
   "execution_count": 35,
   "metadata": {
    "vscode": {
     "languageId": "r"
    }
   },
   "outputs": [
    {
     "data": {
      "text/html": [
       "0.0586982052605243"
      ],
      "text/latex": [
       "0.0586982052605243"
      ],
      "text/markdown": [
       "0.0586982052605243"
      ],
      "text/plain": [
       "[1] 0.05869821"
      ]
     },
     "metadata": {},
     "output_type": "display_data"
    },
    {
     "name": "stdout",
     "output_type": "stream",
     "text": [
      "Lambda óptimo para Elastic Net: 0.1 \n",
      "Alpha óptimo para Elastic Net: 0 \n"
     ]
    },
    {
     "data": {
      "image/png": "[encoded data removed]",
      "text/plain": [
       "Plot with title \"Elastic Net\""
      ]
     },
     "metadata": {
      "image/png": {
       "height": 300,
       "width": 300
      }
     },
     "output_type": "display_data"
    },
    {
     "data": {
      "image/png": "[encoded data removed]",
      "text/plain": [
       "plot without title"
      ]
     },
     "metadata": {
      "image/png": {
       "height": 300,
       "width": 300
      }
     },
     "output_type": "display_data"
    }
   ],
   "source": [
    "# Elastic Net\n",
    "alpha_for <- seq(0, 1, length = 200)\n",
    "lambda_for <- 0 * seq(0, 1, length = 200)\n",
    "ecm_for <- 0 * seq(0, 1, length = 200)\n",
    "\n",
    "for(i in 1:200){\n",
    "  cv_for <- cv.glmnet(x, y, alpha = alpha_for[i], lambda = lambda)\n",
    "  lambda_for[i] <- cv_for$lambda.min\n",
    "  ecm_for[i] <- min(cv_for$cvm)\n",
    "}\n",
    "\n",
    "min(ecm_for)\n",
    "diMin <- which(ecm_for == min(ecm_for))\n",
    "alpha_en <- alpha_for[diMin]\n",
    "lambda_en <- lambda_for[diMin]\n",
    "\n",
    "cat(\"Lambda óptimo para Elastic Net:\", lambda_en, \"\\n\")\n",
    "cat(\"Alpha óptimo para Elastic Net:\", alpha_en, \"\\n\")\n",
    "\n",
    "# Gráfico ECM y lambda para Elastic Net\n",
    "plot(lambda_for, ecm_for, type = \"l\", xlab = \"Lambda\",\n",
    "     ylab = \"Error Cuadrático Medio\", main = \"Elastic Net\")\n",
    "points(lambda_en, min(ecm_for), col = \"red\", pch = 19)\n",
    "\n",
    "# Gráfico coeficientes y log(Lambda) para Elastic Net\n",
    "elast.mod <- glmnet(x, y, alpha = alpha_en)\n",
    "plot(elast.mod, xvar = \"lambda\", ylab = \"Coeficientes\")"
   ]
  },
  {
   "cell_type": "markdown",
   "metadata": {},
   "source": [
    "El código de Elastic Net no incluye explícitamente la opción standardize = TRUE en cv.glmnet. Sin embargo, por defecto, la función glmnet tiene standardize = TRUE, lo que significa que las variables predictoras se estandarizan automáticamente antes de ajustar el modelo."
   ]
  },
  {
   "cell_type": "markdown",
   "metadata": {},
   "source": [
    "Selección de los Hiperparámetros Lambda y Alpha para Elastic Net:\n",
    "\n",
    "El modelo Elastic Net combina las propiedades de Lasso y Ridge al utilizar dos hiperparámetros: lambda, que controla la penalización general, y alpha, que ajusta la mezcla entre la penalización L1 (Lasso) y L2 (Ridge). En el código, se realiza un ciclo para encontrar la mejor combinación de alpha y lambda utilizando validación cruzada.\n",
    "\n",
    "- **Lambda óptimo: 0.1**\n",
    "- **Alpha óptimo: 0**\n",
    "\n",
    "El valor de alpha es 0, lo que significa que el modelo Elastic Net en este caso se comporta como un modelo de Ridge (ya que cuando alpha = 0, Elastic Net se reduce a Ridge). Esto es un resultado interesante porque sugiere que, para estos datos, la regularización L2 de Ridge es más efectiva que la regularización L1 de Lasso o una combinación de ambas.\n",
    "\n",
    "Error Cuadrático Medio (ECM):\n",
    "\n",
    "El ECM mínimo encontrado es aproximadamente 0.0587, lo cual es relativamente bajo considerando que la variable objetivo (satisfaction_level) está en una escala de 0 a 1.\n",
    "\n",
    "Gráfico de Error Cuadrático Medio (ECM) vs Lambda:\n",
    "\n",
    "El gráfico muestra el Error Cuadrático Medio (ECM) en función de lambda. El punto rojo marca el valor óptimo de lambda que minimiza el ECM. Como en los casos anteriores, el ECM se estabiliza para valores grandes de lambda, indicando que una mayor regularización no mejora significativamente el modelo.\n",
    "\n",
    "Gráfico de Coeficientes vs Log(Lambda):\n",
    "\n",
    "- El gráfico de coeficientes contra log(lambda) muestra cómo los coeficientes de las variables predictoras cambian a medida que se ajusta lambda. Dado que alpha = 0, este gráfico es muy similar al del modelo Ridge:\n",
    "\n",
    "- Los coeficientes se reducen gradualmente a medida que lambda aumenta, pero ninguno de ellos llega a ser exactamente cero, lo que es consistente con el comportamiento de Ridge."
   ]
  },
  {
   "cell_type": "markdown",
   "metadata": {},
   "source": [
    "Predigo los resultados en el conjunto de prueba para cada modelo"
   ]
  },
  {
   "cell_type": "code",
   "execution_count": 36,
   "metadata": {
    "vscode": {
     "languageId": "r"
    }
   },
   "outputs": [],
   "source": [
    "# Ridge\n",
    "ridge.mod <- glmnet(x, y, alpha = 0, lambda = bestlam_ridge, thresh = 1e-12)\n",
    "ridge.pred <- predict(ridge.mod, s = bestlam_ridge, newx = x_test)\n",
    "\n",
    "# Lasso\n",
    "lasso.mod <- glmnet(x, y, alpha = 1, lambda = bestlam_lasso, thresh = 1e-12)\n",
    "lasso.pred <- predict(lasso.mod, s = bestlam_lasso, newx = x_test)\n",
    "\n",
    "# Elastic Net\n",
    "elast.mod <- glmnet(x, y, alpha = alpha_en, lambda = lambda_en, thresh = 1e-12)\n",
    "elast.pred <- predict(elast.mod, s = lambda_en, newx = x_test)"
   ]
  },
  {
   "cell_type": "markdown",
   "metadata": {},
   "source": [
    "Registro el RMSE de cada modelo"
   ]
  },
  {
   "cell_type": "code",
   "execution_count": 37,
   "metadata": {
    "vscode": {
     "languageId": "r"
    }
   },
   "outputs": [
    {
     "name": "stdout",
     "output_type": "stream",
     "text": [
      "RMSE Ridge: 0.240417 \n",
      "RMSE Lasso: 0.247371 \n",
      "RMSE Elastic Net: 0.240417 \n"
     ]
    }
   ],
   "source": [
    "# Ridge\n",
    "RMSE_ridge <- sqrt(mean((ridge.pred - y_test)^2))\n",
    "\n",
    "# Lasso\n",
    "RMSE_lasso <- sqrt(mean((lasso.pred - y_test)^2))\n",
    "\n",
    "# Elastic Net\n",
    "RMSE_elast <- sqrt(mean((elast.pred - y_test)^2))\n",
    "\n",
    "# Resultados\n",
    "cat(\"RMSE Ridge:\", RMSE_ridge, \"\\n\")\n",
    "cat(\"RMSE Lasso:\", RMSE_lasso, \"\\n\")\n",
    "cat(\"RMSE Elastic Net:\", RMSE_elast, \"\\n\")"
   ]
  },
  {
   "cell_type": "code",
   "execution_count": 38,
   "metadata": {
    "vscode": {
     "languageId": "r"
    }
   },
   "outputs": [
    {
     "name": "stdout",
     "output_type": "stream",
     "text": [
      "                              Ridge     LASSO    ElasticNet\n",
      "(Intercept)            6.286628e-01 0.6125792  6.286628e-01\n",
      "last_evaluation        1.637984e-01 0.0000000  1.637984e-01\n",
      "number_project        -2.390886e-02 0.0000000 -2.390886e-02\n",
      "average_montly_hours  -2.773025e-05 0.0000000 -2.773025e-05\n",
      "time_spend_company    -1.107308e-02 0.0000000 -1.107308e-02\n",
      "Work_accident          3.066552e-02 0.0000000  3.066552e-02\n",
      "promotion_last_5years  3.411133e-02 0.0000000  3.411133e-02\n",
      "depthr                -9.761655e-03 0.0000000 -9.761655e-03\n",
      "deptIT                 8.957965e-03 0.0000000  8.957965e-03\n",
      "deptmanagement         1.597826e-02 0.0000000  1.597826e-02\n",
      "deptmarketing          7.906217e-03 0.0000000  7.906217e-03\n",
      "deptproduct_mng        9.837969e-03 0.0000000  9.837969e-03\n",
      "deptRandD              7.656843e-03 0.0000000  7.656843e-03\n",
      "deptsales              4.769456e-03 0.0000000  4.769456e-03\n",
      "deptsupport            6.411058e-03 0.0000000  6.411058e-03\n",
      "depttechnical         -2.252988e-03 0.0000000 -2.252988e-03\n",
      "salarylow             -1.561683e-02 0.0000000 -1.561683e-02\n",
      "salarymedium           1.734382e-04 0.0000000  1.734382e-04\n"
     ]
    }
   ],
   "source": [
    "# Comparación de coeficientes\n",
    "coef_comparador <- data.frame(\n",
    "  \"Ridge\" = predict(ridge.mod, type = \"coefficients\", s = bestlam_ridge)[,1],\n",
    "  \"LASSO\" = predict(lasso.mod, type = \"coefficients\", s = bestlam_lasso)[,1],\n",
    "  \"ElasticNet\" = predict(elast.mod, type = \"coefficients\", s = lambda_en)[,1]\n",
    ")\n",
    "print(coef_comparador)"
   ]
  },
  {
   "cell_type": "markdown",
   "metadata": {},
   "source": [
    "10.\tComente y compare los resultados de las estimaciones e indique cuál presenta un mejor desempeño. Explique. "
   ]
  },
  {
   "cell_type": "markdown",
   "metadata": {},
   "source": [
    "El RMSE se calculó para cada uno de los tres modelos (Ridge, Lasso y Elastic Net) en el conjunto de prueba. Los resultados son los siguientes:\n",
    "\n",
    "- RMSE Ridge: 0.240417\n",
    "- RMSE Lasso: 0.247371\n",
    "- RMSE Elastic Net: 0.240417\n",
    "\n",
    "Análisis del RMSE\n",
    "\n",
    "Ridge y Elastic Net tienen exactamente el mismo RMSE, lo que sugiere que ambos modelos ofrecen un desempeño muy similar en términos de ajuste a los datos de prueba.\n",
    "Lasso tiene un RMSE ligeramente mayor, lo que indica que su desempeño predictivo es un poco inferior al de Ridge y Elastic Net en este conjunto de datos.\n",
    "\n",
    "Comparación de Coeficientes\n",
    "\n",
    "Ahora respecto a los coeficientes estimados por cada modelo. Los coeficientes indican la magnitud y dirección de la relación entre cada predictor y la variable objetivo.\n",
    "\n",
    "Ridge:\n",
    "\n",
    "No elimina ninguno de los predictores; todos los coeficientes tienen valores distintos de cero, aunque algunos son muy pequeños.\n",
    "Proporciona un ajuste equilibrado, sin reducir a cero los coeficientes, lo que puede ser útil cuando se espera que todas las variables tengan algún impacto en la predicción.\n",
    "\n",
    "Lasso:\n",
    "\n",
    "Ha eliminado efectivamente todas las variables del modelo excepto el intercepto.\n",
    "Este resultado sugiere un sobreajuste extremo y no proporciona información útil sobre los factores que influyen en la satisfacción laboral.\n",
    "\n",
    "Elastic Net:\n",
    "\n",
    "Se comporta de manera idéntica a Ridge en este caso, con todos los coeficientes conservados pero con regularización aplicada para evitar que los coeficientes sean demasiado grandes.\n",
    "Dado que alpha = 0 en este caso, Elastic Net actúa exactamente como Ridge, lo que explica por qué los coeficientes son iguales a los de Ridge.\n",
    "\n",
    "Mejor desempeño:\n",
    "\n",
    "Los modelos Ridge y Elastic Net muestran el mejor desempeño en términos de RMSE y ofrecen una interpretación más detallada de los factores que influyen en la satisfacción laboral.\n",
    "\n",
    "Razones:\n",
    "\n",
    "- Menor RMSE: Indican una mejor capacidad predictiva en el conjunto de prueba.\n",
    "\n",
    "- Retención de variables: Mantienen todas las variables en el modelo, lo que permite una interpretación más completa de los factores que afectan la satisfacción laboral.\n",
    "\n",
    "- Penalización equilibrada: La regularización L2 (Ridge) parece ser más apropiada para este conjunto de datos, reduciendo la magnitud de los coeficientes sin eliminarlos por completo.\n",
    "\n",
    "El modelo Lasso, a pesar de su capacidad teórica para selección de variables, ha resultado en una sobre-regularización que elimina toda la información útil del modelo.\n",
    "\n",
    "Conclusión\n",
    "\n",
    "Para este problema de predicción de la satisfacción laboral, los modelos Ridge y Elastic Net (que convergió a Ridge) presentan el mejor desempeño. Ofrecen un buen equilibrio entre capacidad predictiva y retención de información sobre la importancia relativa de las variables.\n",
    "\n",
    "La evaluación del desempeño (last_evaluation) es el factor más influyente en la satisfacción laboral, seguido por las promociones recientes. Factores como el número de proyectos y el tiempo en la empresa tienen un impacto negativo, lo que podría indicar posibles áreas de mejora en la gestión de recursos humanos."
   ]
  }
 ],
 "metadata": {
  "kernelspec": {
   "display_name": "R",
   "language": "R",
   "name": "ir"
  },
  "language_info": {
   "codemirror_mode": "r",
   "file_extension": ".r",
   "mimetype": "text/x-r-source",
   "name": "R",
   "pygments_lexer": "r",
   "version": "4.4.0"
  }
 },
 "nbformat": 4,
 "nbformat_minor": 2
}
