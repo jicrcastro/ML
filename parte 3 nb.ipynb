{
 "cells": [
  {
   "cell_type": "code",
   "execution_count": 77,
   "metadata": {
    "vscode": {
     "languageId": "r"
    }
   },
   "outputs": [],
   "source": [
    "# elimino todas las variables excepto loan_data2\n",
    "rm(list = setdiff(ls(), \"loan_data2\"))"
   ]
  },
  {
   "cell_type": "code",
   "execution_count": 41,
   "metadata": {
    "vscode": {
     "languageId": "r"
    }
   },
   "outputs": [],
   "source": [
    "# importacion de librerias\n",
    "library(readr)\n",
    "library(caret)\n",
    "library(ggplot2)\n",
    "library(dplyr)\n",
    "library(vcd)\n",
    "library(reshape2)\n",
    "library(ltm)\n",
    "library(gmodels)\n",
    "library(pROC)\n",
    "library(kknn)\n",
    "library(e1071)\n",
    "library(rsample)\n",
    "library(naivebayes)"
   ]
  },
  {
   "cell_type": "code",
   "execution_count": 42,
   "metadata": {
    "vscode": {
     "languageId": "r"
    }
   },
   "outputs": [
    {
     "name": "stderr",
     "output_type": "stream",
     "text": [
      "\u001b[1mRows: \u001b[22m\u001b[34m38345\u001b[39m \u001b[1mColumns: \u001b[22m\u001b[34m21\u001b[39m\n",
      "\u001b[36m──\u001b[39m \u001b[1mColumn specification\u001b[22m \u001b[36m────────────────────────────────────────────────────────\u001b[39m\n",
      "\u001b[1mDelimiter:\u001b[22m \",\"\n",
      "\u001b[31mchr\u001b[39m  (3): term, last_pymnt_d, last_credit_pull_d\n",
      "\u001b[32mdbl\u001b[39m (18): loan_amnt, funded_amnt, funded_amnt_inv, int_rate, installment, an...\n",
      "\n",
      "\u001b[36mℹ\u001b[39m Use `spec()` to retrieve the full column specification for this data.\n",
      "\u001b[36mℹ\u001b[39m Specify the column types or set `show_col_types = FALSE` to quiet this message.\n"
     ]
    }
   ],
   "source": [
    "loan_data2 <- read_csv(\"Anonymize_Loan_Default_data_ML2.csv\")\n",
    "loan_data2 <- as.data.frame(loan_data2)"
   ]
  },
  {
   "cell_type": "markdown",
   "metadata": {},
   "source": [
    "La siguiente celda tiene como objetivo calcular la correlación biserial entre las variables numéricas de un conjunto de datos y la variable de interés (repay_fail), y luego visualizar estas correlaciones utilizando un heatmap."
   ]
  },
  {
   "cell_type": "code",
   "execution_count": 43,
   "metadata": {
    "vscode": {
     "languageId": "r"
    }
   },
   "outputs": [
    {
     "data": {
      "image/png": "[encoded data removed]",
      "text/plain": [
       "plot without title"
      ]
     },
     "metadata": {
      "image/png": {
       "height": 420,
       "width": 420
      }
     },
     "output_type": "display_data"
    }
   ],
   "source": [
    "# Selecciono solo las columnas numéricas\n",
    "numeric_vars <- sapply(loan_data2, is.numeric)\n",
    "datos_numericos <- loan_data2[, numeric_vars]\n",
    "\n",
    "# Añado 'repay_fail' a los datos numéricos\n",
    "datos_numericos$repay_fail <- loan_data2$repay_fail\n",
    "\n",
    "# Función para calcular la correlación biserial\n",
    "cor_biserial <- function(x, y) {\n",
    "  biserial.cor(x, y)\n",
    "}\n",
    "\n",
    "# Calculo la correlación biserial entre cada variable numérica y 'repay_fail'\n",
    "correlaciones <- sapply(datos_numericos[,\n",
    "                                        -ncol(datos_numericos)],\n",
    "                        cor_biserial, y = datos_numericos$repay_fail)\n",
    "\n",
    "# Convierto las correlaciones a un data frame para ggplot\n",
    "correlaciones_df <- data.frame(Variable = names(correlaciones),\n",
    "                               Correlacion = correlaciones)\n",
    "\n",
    "# Ajusto tamaño de etiquetas para mejorar la visualización\n",
    "correlaciones_df$Correlacion <- round(correlaciones_df$Correlacion, 2)\n",
    "\n",
    "# Creo el heatmap con etiquetas mejoradas\n",
    "ggplot(correlaciones_df, aes(x = Variable, y = \"repay_fail\",\n",
    "                             fill = Correlacion)) +\n",
    "  geom_tile(color = \"black\") +\n",
    "  geom_text(aes(label = Correlacion), vjust = 1, color = \"black\", size = 3) +\n",
    "  scale_fill_gradient2(low = \"#3B4CC0\", mid = \"#FFFFFF\", high = \"#B40426\",\n",
    "                       midpoint = 0, limit = c(-1, 1), space = \"Lab\",\n",
    "                       name = \"Correlación Biserial\") +\n",
    "  theme_minimal() +\n",
    "  theme(axis.text.x = element_text(angle = 45, hjust = 1)) +\n",
    "  labs(x = \"\", y = \"\", title = \"Heatmap de Correlación Biserial\")"
   ]
  },
  {
   "cell_type": "markdown",
   "metadata": {},
   "source": [
    "Propósito y Utilidad\n",
    "\n",
    "El propósito del código es identificar qué variables numéricas tienen una relación significativa con la variable repay_fail. Esta información es crucial para:\n",
    "\n",
    "Selección de Características:\n",
    "\n",
    "Identificar las variables más relevantes para incluir en el modelo de Naive Bayes.\n",
    "\n",
    "Preprocesamiento:\n",
    "\n",
    "Determinar qué variables podrían necesitar transformaciones adicionales (como binning) antes de ser utilizadas en el modelo."
   ]
  },
  {
   "cell_type": "markdown",
   "metadata": {},
   "source": [
    "La siguiente celda se encarga de eliminar las variables que tienen una baja correlación con la variable objetivo repay_fail."
   ]
  },
  {
   "cell_type": "code",
   "execution_count": 44,
   "metadata": {
    "vscode": {
     "languageId": "r"
    }
   },
   "outputs": [],
   "source": [
    "#por ende procedo a eliminar las variables que tienen baja\n",
    "# correlación con la variable objetivo\n",
    "#osea elimino funded_amnt_inv, installment, revol_bal, total_rec_int\n",
    "# delinq_2yrs, funded_amnt, pub_rec, inq_last_6mths, loan_amnt, revol_util\n",
    "loan_data2 <- loan_data2 %>%\n",
    "  dplyr::select(-funded_amnt_inv, -installment, -revol_bal,\n",
    "                -total_rec_int, -delinq_2yrs, -funded_amnt, -pub_rec,\n",
    "                -inq_last_6mths, -loan_amnt, -revol_util)"
   ]
  },
  {
   "cell_type": "markdown",
   "metadata": {},
   "source": [
    "Este paso se enfoca en eliminar variables que no aportan información significativa en relación con la variable objetivo repay_fail. Reducir el número de variables simplifica el modelo y mejora su rendimiento, evitando el sobreajuste.\n",
    "\n",
    "Mejora en la Eficiencia del Modelo:\n",
    "\n",
    "Al eliminar las variables irrelevantes, el modelo de Naive Bayes podrá centrarse en las variables que realmente tienen una influencia significativa en la predicción de repay_fail."
   ]
  },
  {
   "cell_type": "code",
   "execution_count": 45,
   "metadata": {
    "vscode": {
     "languageId": "r"
    }
   },
   "outputs": [
    {
     "data": {
      "text/html": [
       "<table class=\"dataframe\">\n",
       "<caption>A data.frame: 6 × 11</caption>\n",
       "<thead>\n",
       "\t<tr><th></th><th scope=col>term</th><th scope=col>int_rate</th><th scope=col>annual_inc</th><th scope=col>dti</th><th scope=col>total_pymnt</th><th scope=col>total_pymnt_inv</th><th scope=col>total_rec_prncp</th><th scope=col>last_pymnt_amnt</th><th scope=col>repay_fail</th><th scope=col>last_pymnt_d</th><th scope=col>last_credit_pull_d</th></tr>\n",
       "\t<tr><th></th><th scope=col>&lt;chr&gt;</th><th scope=col>&lt;dbl&gt;</th><th scope=col>&lt;dbl&gt;</th><th scope=col>&lt;dbl&gt;</th><th scope=col>&lt;dbl&gt;</th><th scope=col>&lt;dbl&gt;</th><th scope=col>&lt;dbl&gt;</th><th scope=col>&lt;dbl&gt;</th><th scope=col>&lt;dbl&gt;</th><th scope=col>&lt;chr&gt;</th><th scope=col>&lt;chr&gt;</th></tr>\n",
       "</thead>\n",
       "<tbody>\n",
       "\t<tr><th scope=row>1</th><td>36 months</td><td>13.98</td><td> 20004</td><td>19.86</td><td>3075.292</td><td>3075.29</td><td>2500.00</td><td>  90.85</td><td>0</td><td>2011-2013</td><td>2014-2016</td></tr>\n",
       "\t<tr><th scope=row>2</th><td>36 months</td><td>15.95</td><td> 59000</td><td>19.57</td><td>2948.760</td><td>2948.76</td><td>1909.02</td><td> 175.67</td><td>1</td><td>2011-2013</td><td>2011-2013</td></tr>\n",
       "\t<tr><th scope=row>3</th><td>36 months</td><td> 9.91</td><td> 53796</td><td>10.80</td><td>8082.392</td><td>8082.39</td><td>7000.00</td><td>1550.27</td><td>0</td><td>2014-2016</td><td>2014-2016</td></tr>\n",
       "\t<tr><th scope=row>4</th><td>36 months</td><td> 5.42</td><td> 30000</td><td> 3.60</td><td>2161.663</td><td>2161.66</td><td>2000.00</td><td>  53.12</td><td>0</td><td>2014-2016</td><td>2014-2016</td></tr>\n",
       "\t<tr><th scope=row>5</th><td>36 months</td><td>10.25</td><td>675048</td><td> 1.55</td><td>4206.031</td><td>4206.03</td><td>3600.00</td><td> 146.75</td><td>0</td><td>2011-2013</td><td>2014-2016</td></tr>\n",
       "\t<tr><th scope=row>6</th><td>36 months</td><td> 6.03</td><td> 77736</td><td> 6.07</td><td>8724.972</td><td>8724.97</td><td>8000.00</td><td>1423.66</td><td>0</td><td>2014-2016</td><td>2014-2016</td></tr>\n",
       "</tbody>\n",
       "</table>\n"
      ],
      "text/latex": [
       "A data.frame: 6 × 11\n",
       "\\begin{tabular}{r|lllllllllll}\n",
       "  & term & int\\_rate & annual\\_inc & dti & total\\_pymnt & total\\_pymnt\\_inv & total\\_rec\\_prncp & last\\_pymnt\\_amnt & repay\\_fail & last\\_pymnt\\_d & last\\_credit\\_pull\\_d\\\\\n",
       "  & <chr> & <dbl> & <dbl> & <dbl> & <dbl> & <dbl> & <dbl> & <dbl> & <dbl> & <chr> & <chr>\\\\\n",
       "\\hline\n",
       "\t1 & 36 months & 13.98 &  20004 & 19.86 & 3075.292 & 3075.29 & 2500.00 &   90.85 & 0 & 2011-2013 & 2014-2016\\\\\n",
       "\t2 & 36 months & 15.95 &  59000 & 19.57 & 2948.760 & 2948.76 & 1909.02 &  175.67 & 1 & 2011-2013 & 2011-2013\\\\\n",
       "\t3 & 36 months &  9.91 &  53796 & 10.80 & 8082.392 & 8082.39 & 7000.00 & 1550.27 & 0 & 2014-2016 & 2014-2016\\\\\n",
       "\t4 & 36 months &  5.42 &  30000 &  3.60 & 2161.663 & 2161.66 & 2000.00 &   53.12 & 0 & 2014-2016 & 2014-2016\\\\\n",
       "\t5 & 36 months & 10.25 & 675048 &  1.55 & 4206.031 & 4206.03 & 3600.00 &  146.75 & 0 & 2011-2013 & 2014-2016\\\\\n",
       "\t6 & 36 months &  6.03 &  77736 &  6.07 & 8724.972 & 8724.97 & 8000.00 & 1423.66 & 0 & 2014-2016 & 2014-2016\\\\\n",
       "\\end{tabular}\n"
      ],
      "text/markdown": [
       "\n",
       "A data.frame: 6 × 11\n",
       "\n",
       "| <!--/--> | term &lt;chr&gt; | int_rate &lt;dbl&gt; | annual_inc &lt;dbl&gt; | dti &lt;dbl&gt; | total_pymnt &lt;dbl&gt; | total_pymnt_inv &lt;dbl&gt; | total_rec_prncp &lt;dbl&gt; | last_pymnt_amnt &lt;dbl&gt; | repay_fail &lt;dbl&gt; | last_pymnt_d &lt;chr&gt; | last_credit_pull_d &lt;chr&gt; |\n",
       "|---|---|---|---|---|---|---|---|---|---|---|---|\n",
       "| 1 | 36 months | 13.98 |  20004 | 19.86 | 3075.292 | 3075.29 | 2500.00 |   90.85 | 0 | 2011-2013 | 2014-2016 |\n",
       "| 2 | 36 months | 15.95 |  59000 | 19.57 | 2948.760 | 2948.76 | 1909.02 |  175.67 | 1 | 2011-2013 | 2011-2013 |\n",
       "| 3 | 36 months |  9.91 |  53796 | 10.80 | 8082.392 | 8082.39 | 7000.00 | 1550.27 | 0 | 2014-2016 | 2014-2016 |\n",
       "| 4 | 36 months |  5.42 |  30000 |  3.60 | 2161.663 | 2161.66 | 2000.00 |   53.12 | 0 | 2014-2016 | 2014-2016 |\n",
       "| 5 | 36 months | 10.25 | 675048 |  1.55 | 4206.031 | 4206.03 | 3600.00 |  146.75 | 0 | 2011-2013 | 2014-2016 |\n",
       "| 6 | 36 months |  6.03 |  77736 |  6.07 | 8724.972 | 8724.97 | 8000.00 | 1423.66 | 0 | 2014-2016 | 2014-2016 |\n",
       "\n"
      ],
      "text/plain": [
       "  term      int_rate annual_inc dti   total_pymnt total_pymnt_inv\n",
       "1 36 months 13.98     20004     19.86 3075.292    3075.29        \n",
       "2 36 months 15.95     59000     19.57 2948.760    2948.76        \n",
       "3 36 months  9.91     53796     10.80 8082.392    8082.39        \n",
       "4 36 months  5.42     30000      3.60 2161.663    2161.66        \n",
       "5 36 months 10.25    675048      1.55 4206.031    4206.03        \n",
       "6 36 months  6.03     77736      6.07 8724.972    8724.97        \n",
       "  total_rec_prncp last_pymnt_amnt repay_fail last_pymnt_d last_credit_pull_d\n",
       "1 2500.00           90.85         0          2011-2013    2014-2016         \n",
       "2 1909.02          175.67         1          2011-2013    2011-2013         \n",
       "3 7000.00         1550.27         0          2014-2016    2014-2016         \n",
       "4 2000.00           53.12         0          2014-2016    2014-2016         \n",
       "5 3600.00          146.75         0          2011-2013    2014-2016         \n",
       "6 8000.00         1423.66         0          2014-2016    2014-2016         "
      ]
     },
     "metadata": {},
     "output_type": "display_data"
    }
   ],
   "source": [
    "head(loan_data2)"
   ]
  },
  {
   "cell_type": "markdown",
   "metadata": {},
   "source": [
    "En el preprocesamiento de datos, especialmente cuando se trabaja con modelos de machine learning como naive bayes que no pueden manejar variables categóricas directamente, se convierten estas variables en variables dummy. Este proceso implica crear nuevas columnas binarias para representar las categorías originales de la variable. "
   ]
  },
  {
   "cell_type": "markdown",
   "metadata": {},
   "source": [
    "En el contexto de Naive Bayes para clasificación, la creación de variables dummy sigue el principio de n - 1 columnas por razones específicas a cómo este algoritmo maneja las variables categóricas.\n",
    "\n",
    "Razón para n - 1 Columnas Dummy en Naive Bayes\n",
    "\n",
    "Evitar la Multicolinealidad:\n",
    "\n",
    "Aunque Naive Bayes no se ve afectado por la multicolinealidad de la misma manera que otros modelos lineales (como la regresión lineal o logística), crear n columnas para n categorías introduce redundancia innecesaria. Esto puede llevar a cálculos innecesarios y complicaciones en la interpretación.\n",
    "\n",
    "Simplicidad y Eficiencia Computacional:\n",
    "\n",
    "Naive Bayes asume que las características son independientes unas de otras (suposición de independencia condicional). Para mantener este supuesto de manera eficiente, se crean n - 1 columnas dummy. Esto simplifica los cálculos de probabilidad y evita el sobreajuste, ya que la redundancia puede hacer que el modelo se ajuste demasiado a los datos de entrenamiento.\n",
    "\n",
    "Categoría de Referencia:\n",
    "\n",
    "Al crear n - 1 dummies, una categoría se toma como referencia implícita. Esta referencia no necesita ser representada explícitamente porque su información está contenida en las otras variables dummy. En términos de Naive Bayes, esto significa que la probabilidad de la categoría de referencia se puede calcular implícitamente cuando todas las otras dummies son 0."
   ]
  },
  {
   "cell_type": "code",
   "execution_count": 46,
   "metadata": {
    "vscode": {
     "languageId": "r"
    }
   },
   "outputs": [
    {
     "data": {
      "text/plain": [
       "\n",
       "36 months 60 months \n",
       "    28478      9867 "
      ]
     },
     "metadata": {},
     "output_type": "display_data"
    },
    {
     "data": {
      "text/plain": [
       "\n",
       "    0     1 \n",
       "28478  9867 "
      ]
     },
     "metadata": {},
     "output_type": "display_data"
    },
    {
     "data": {
      "text/plain": [
       "\n",
       "    0     1 \n",
       " 9867 28478 "
      ]
     },
     "metadata": {},
     "output_type": "display_data"
    }
   ],
   "source": [
    "#tratamiento de variable categórica term\n",
    "table(loan_data2$term) # 2 levels (1 dummy)\n",
    "loan_data2$term_60_months <- ifelse(loan_data2$term == \"60 months\", 1, 0)\n",
    "loan_data2$term <- ifelse(loan_data2$term == \"36 months\", 1, 0)\n",
    "table(loan_data2$term_60_months) ; table(loan_data2$term)"
   ]
  },
  {
   "cell_type": "markdown",
   "metadata": {},
   "source": [
    "En este caso:\n",
    "\n",
    "term_60_months = 1 si el término es \"60 months\", 0 en caso contrario.\n",
    "term = 1 si el término es \"36 months\", 0 en caso contrario.\n",
    "Aquí, una de las categorías (term para \"36 months\") actúa como la categoría de referencia implícita. \n",
    "\n",
    "Para Naive Bayes:\n",
    "\n",
    "Probabilidades Condicionales:\n",
    "\n",
    "Naive Bayes calculará las probabilidades condicionales de cada categoría de la variable objetivo dado cada variable dummy.\n",
    "Por ejemplo, calculará P(repay_fail | term_60_months = 1) y P(repay_fail | term = 1).\n",
    "\n",
    "Independencia Condicional:\n",
    "\n",
    "Asumiendo independencia condicional, Naive Bayes combinará estas probabilidades para predecir la categoría de la variable objetivo. La eliminación de una dummy asegura que no haya redundancia en estas combinaciones.\n",
    "\n",
    "Cálculo de Probabilidades:\n",
    "\n",
    "La categoría de referencia (\"36 months\" en este caso) no necesita una columna dummy explícita. Su probabilidad se deduce cuando term_60_months = 0. Naive Bayes utiliza esta información para calcular P(repay_fail | term = 1) implícitamente.\n",
    "\n",
    "Para las otras columnas categoricas se aplicará lo mismo"
   ]
  },
  {
   "cell_type": "code",
   "execution_count": 47,
   "metadata": {
    "vscode": {
     "languageId": "r"
    }
   },
   "outputs": [
    {
     "data": {
      "text/plain": [
       "\n",
       "2007-2010 2011-2013 2014-2016 \n",
       "     3222     22539     12584 "
      ]
     },
     "metadata": {},
     "output_type": "display_data"
    },
    {
     "data": {
      "text/plain": [
       "\n",
       "    0     1 \n",
       "15806 22539 "
      ]
     },
     "metadata": {},
     "output_type": "display_data"
    },
    {
     "data": {
      "text/plain": [
       "\n",
       "    0     1 \n",
       "25761 12584 "
      ]
     },
     "metadata": {},
     "output_type": "display_data"
    },
    {
     "data": {
      "text/plain": [
       "\n",
       "    0     1 \n",
       "35123  3222 "
      ]
     },
     "metadata": {},
     "output_type": "display_data"
    }
   ],
   "source": [
    "# last_pymnt_d\n",
    "table(loan_data2$last_pymnt_d) # 3 levels (2 dummies)\n",
    "loan_data2$last_pymnt_d_2011_2013 <- ifelse(loan_data2$last_pymnt_d ==\n",
    "                                           \"2011-2013\", 1, 0)\n",
    "loan_data2$last_pymnt_d_2014_2016 <- ifelse(loan_data2$last_pymnt_d ==\n",
    "                                           \"2014-2016\", 1, 0)\n",
    "loan_data2$last_pymnt_d <- ifelse(loan_data2$last_pymnt_d ==\n",
    "                                 \"2007-2010\", 1, 0)\n",
    "table(loan_data2$last_pymnt_d_2011_2013)\n",
    "table(loan_data2$last_pymnt_d_2014_2016)\n",
    "table(loan_data2$last_pymnt_d)"
   ]
  },
  {
   "cell_type": "code",
   "execution_count": 48,
   "metadata": {
    "vscode": {
     "languageId": "r"
    }
   },
   "outputs": [
    {
     "data": {
      "text/plain": [
       "\n",
       "2007-2010 2011-2013 2014-2016 \n",
       "     1431     11041     25873 "
      ]
     },
     "metadata": {},
     "output_type": "display_data"
    },
    {
     "data": {
      "text/plain": [
       "\n",
       "    0     1 \n",
       "27304 11041 "
      ]
     },
     "metadata": {},
     "output_type": "display_data"
    },
    {
     "data": {
      "text/plain": [
       "\n",
       "    0     1 \n",
       "12472 25873 "
      ]
     },
     "metadata": {},
     "output_type": "display_data"
    },
    {
     "data": {
      "text/plain": [
       "\n",
       "    0     1 \n",
       "36914  1431 "
      ]
     },
     "metadata": {},
     "output_type": "display_data"
    }
   ],
   "source": [
    "# last_credit_pull_d\n",
    "table(loan_data2$last_credit_pull_d) # 3 levels (2 dummies)\n",
    "loan_data2$last_credit_pull_d_2011_2013 <- ifelse(loan_data2$last_credit_pull_d ==\n",
    "                                                   \"2011-2013\", 1, 0)\n",
    "loan_data2$last_credit_pull_d_2014_2016 <- ifelse(loan_data2$last_credit_pull_d ==\n",
    "                                                   \"2014-2016\", 1, 0)\n",
    "loan_data2$last_credit_pull_d <- ifelse(loan_data2$last_credit_pull_d ==\n",
    "                                         \"2007-2010\", 1, 0)\n",
    "table(loan_data2$last_credit_pull_d_2011_2013)\n",
    "table(loan_data2$last_credit_pull_d_2014_2016)\n",
    "table(loan_data2$last_credit_pull_d)"
   ]
  },
  {
   "cell_type": "markdown",
   "metadata": {},
   "source": [
    "Tratamiento variables numericas (Binning)"
   ]
  },
  {
   "cell_type": "markdown",
   "metadata": {},
   "source": [
    "En el contexto de Naive Bayes para clasificación, las variables numéricas se convierten en categóricas mediante un proceso llamado binning. Este proceso divide el rango de valores de una variable numérica en varios intervalos discretos, transformándolos en variables categóricas que el algoritmo puede manejar eficientemente. "
   ]
  },
  {
   "cell_type": "code",
   "execution_count": 49,
   "metadata": {
    "vscode": {
     "languageId": "r"
    }
   },
   "outputs": [
    {
     "data": {
      "text/plain": [
       "\n",
       "    0     1 \n",
       "28901  9444 "
      ]
     },
     "metadata": {},
     "output_type": "display_data"
    },
    {
     "data": {
      "text/plain": [
       "\n",
       "    0     1 \n",
       "28829  9516 "
      ]
     },
     "metadata": {},
     "output_type": "display_data"
    },
    {
     "data": {
      "text/plain": [
       "\n",
       "    0     1 \n",
       "28580  9765 "
      ]
     },
     "metadata": {},
     "output_type": "display_data"
    },
    {
     "data": {
      "text/plain": [
       "\n",
       "    0     1 \n",
       "28725  9620 "
      ]
     },
     "metadata": {},
     "output_type": "display_data"
    }
   ],
   "source": [
    "#Variable numerica int_rate\n",
    "\n",
    "# int_rate\n",
    "#Min. : 5.42\n",
    "#1st Qu.: 9.62\n",
    "#Median :11.99\n",
    "#Mean :12.15\n",
    "#3rd Qu.:14.72\n",
    "#Max. :24.11\n",
    "\n",
    "loan_data2$int_rate_low <- ifelse(loan_data2$int_rate < 9.62, 1, 0)\n",
    "loan_data2$int_rate_mid_low <- ifelse(loan_data2$int_rate >= 9.62 &\n",
    "                                       loan_data2$int_rate < 11.99, 1, 0)\n",
    "loan_data2$int_rate_mid_high <- ifelse(loan_data2$int_rate >= 11.99 &\n",
    "                                        loan_data2$int_rate < 14.72, 1, 0)\n",
    "loan_data2$int_rate_high <- ifelse(loan_data2$int_rate >= 14.72, 1, 0)\n",
    "table(loan_data2$int_rate_low)\n",
    "table(loan_data2$int_rate_mid_low)\n",
    "table(loan_data2$int_rate_mid_high)\n",
    "table(loan_data2$int_rate_high)"
   ]
  },
  {
   "cell_type": "markdown",
   "metadata": {},
   "source": [
    "Transformación de Variables Numéricas en Categóricas:\n",
    "\n",
    "El algoritmo Naive Bayes requiere variables 0 y 1 para funcionar correctamente. El binning convierte una variable numérica (int_rate en este caso) en varias variables binarias categóricas.\n",
    "\n",
    "Simplificación y Interpretación\n",
    "\n",
    "Dividir una variable numérica en intervalos discretos puede simplificar el modelo y mejorar la interpretación, ya que los intervalos pueden representar categorías significativas (por ejemplo, tasas de interés bajas, medias y altas).\n",
    "\n",
    "Detalles del Binning\n",
    "\n",
    "Definición de Intervalos\n",
    "\n",
    "Los intervalos se definen basándose en los percentiles (cuartiles) de la distribución de la variable `int_rate`:\n",
    "\n",
    "- `int_rate_low`: Tasa de interés menor a 9.62 (primer cuartil).\n",
    "- `int_rate_mid_low`: Tasa de interés entre 9.62 y 11.99 (primer cuartil a la mediana).\n",
    "- `int_rate_mid_high`: Tasa de interés entre 11.99 y 14.72 (mediana al tercer cuartil).\n",
    "- `int_rate_high`: Tasa de interés mayor o igual a 14.72 (tercer cuartil).\n",
    "\n",
    "Creación de Variables Binarias:\n",
    "\n",
    "Cada intervalo se convierte en una variable binaria:\n",
    "\n",
    "- `int_rate_low`: Toma el valor 1 si int_rate es menor a 9.62, y 0 en caso contrario.\n",
    "- `int_rate_mid_low`: Toma el valor 1 si int_rate está entre 9.62 y 11.99, y 0 en caso contrario.\n",
    "- `int_rate_mid_high`: Toma el valor 1 si int_rate está entre 11.99 y 14.72, y 0 en caso contrario.\n",
    "- `int_rate_high`: Toma el valor 1 si int_rate es mayor o igual a 14.72, y 0 en caso contrario.\n",
    "\n",
    "Impacto en el Proceso de Naive Bayes\n",
    "\n",
    "Adaptación del Algoritmo:\n",
    "\n",
    "Al convertir int_rate en variables categóricas, Naive Bayes puede manejar estas características de manera eficiente, calculando las probabilidades condicionales de cada categoría respecto a la variable objetivo repay_fail.\n",
    "\n",
    "Mantenimiento del Supuesto de Independencia:\n",
    "\n",
    "El supuesto de independencia condicional en Naive Bayes se mantiene más fácilmente con variables binarias, simplificando el cálculo de las probabilidades conjuntas.\n",
    "\n",
    "Para las siguientes variables numericas se realizó el mismo proceso, pero con sus respectivos cuartiles."
   ]
  },
  {
   "cell_type": "code",
   "execution_count": 50,
   "metadata": {
    "vscode": {
     "languageId": "r"
    }
   },
   "outputs": [
    {
     "data": {
      "text/plain": [
       "\n",
       "    0     1 \n",
       "28759  9586 "
      ]
     },
     "metadata": {},
     "output_type": "display_data"
    },
    {
     "data": {
      "text/plain": [
       "\n",
       "    0     1 \n",
       "29575  8770 "
      ]
     },
     "metadata": {},
     "output_type": "display_data"
    },
    {
     "data": {
      "text/plain": [
       "\n",
       "    0     1 \n",
       "27943 10402 "
      ]
     },
     "metadata": {},
     "output_type": "display_data"
    },
    {
     "data": {
      "text/plain": [
       "\n",
       "    0     1 \n",
       "28758  9587 "
      ]
     },
     "metadata": {},
     "output_type": "display_data"
    }
   ],
   "source": [
    "# variable numerica annual_inc\n",
    "\n",
    "#Min.   :   1896\n",
    "#1st Qu.:  40000\n",
    "#Median :  58880\n",
    "#Mean   :  69058\n",
    "#3rd Qu.:  82100\n",
    "#Max.   :6000000\n",
    "\n",
    "loan_data2$annual_inc_high <- ifelse(loan_data2$annual_inc > 82100, 1, 0)\n",
    "loan_data2$annual_inc_low <- ifelse(loan_data2$annual_inc < 40000, 1, 0)\n",
    "loan_data2$annual_inc_mid_low <- ifelse(loan_data2$annual_inc >= 40000 &\n",
    "                                         loan_data2$annual_inc < 58880, 1, 0)\n",
    "loan_data2$annual_inc_mid_high <- ifelse(loan_data2$annual_inc >= 58880 &\n",
    "                                          loan_data2$annual_inc <= 82100, 1, 0)\n",
    "table(loan_data2$annual_inc_high)\n",
    "table(loan_data2$annual_inc_low)\n",
    "table(loan_data2$annual_inc_mid_low)\n",
    "table(loan_data2$annual_inc_mid_high)"
   ]
  },
  {
   "cell_type": "markdown",
   "metadata": {},
   "source": [
    "Para la variable numérica \"annual_inc\", considerando los valores, hice los binning de la siguiente manera:\n",
    "\n",
    "- Menor que el primer cuartil (40,000)\n",
    "- Entre el primer cuartil y la mediana (40,000 - 58,880)\n",
    "- Entre la mediana y el tercer cuartil (58,880 - 82,100)\n",
    "- Mayor que el tercer cuartil (82,100)"
   ]
  },
  {
   "cell_type": "code",
   "execution_count": 51,
   "metadata": {
    "vscode": {
     "languageId": "r"
    }
   },
   "outputs": [
    {
     "data": {
      "text/plain": [
       "\n",
       "    0     1 \n",
       "28764  9581 "
      ]
     },
     "metadata": {},
     "output_type": "display_data"
    },
    {
     "data": {
      "text/plain": [
       "\n",
       "    0     1 \n",
       "28768  9577 "
      ]
     },
     "metadata": {},
     "output_type": "display_data"
    },
    {
     "data": {
      "text/plain": [
       "\n",
       "    0     1 \n",
       "28762  9583 "
      ]
     },
     "metadata": {},
     "output_type": "display_data"
    },
    {
     "data": {
      "text/plain": [
       "\n",
       "    0     1 \n",
       "28741  9604 "
      ]
     },
     "metadata": {},
     "output_type": "display_data"
    }
   ],
   "source": [
    "# variable numerica dti\n",
    "\n",
    "#Min.   : 0.00\n",
    "#1st Qu.: 8.21\n",
    "#Median :13.49\n",
    "#Mean   :13.38\n",
    "#3rd Qu.:18.69\n",
    "#Max.   :29.99\n",
    "\n",
    "loan_data2$dti_high <- ifelse(loan_data2$dti > 18.69, 1, 0)\n",
    "loan_data2$dti_low <- ifelse(loan_data2$dti < 8.21, 1, 0)\n",
    "loan_data2$dti_mid_low <- ifelse(loan_data2$dti >= 8.21 &\n",
    "                                  loan_data2$dti < 13.49, 1, 0)\n",
    "loan_data2$dti_mid_high <- ifelse(loan_data2$dti >= 13.49 &\n",
    "                                   loan_data2$dti <= 18.69, 1, 0)\n",
    "table(loan_data2$dti_high)\n",
    "table(loan_data2$dti_low)\n",
    "table(loan_data2$dti_mid_low)\n",
    "table(loan_data2$dti_mid_high)"
   ]
  },
  {
   "cell_type": "markdown",
   "metadata": {},
   "source": [
    "Para la variable numérica \"dti\", considerando los valores, hice los binning de la siguiente manera:\n",
    "\n",
    "- Menor que el primer cuartil (8.21)\n",
    "- Entre el primer cuartil y la mediana (8.21 - 13.49)\n",
    "- Entre la mediana y el tercer cuartil (13.49 - 18.69)\n",
    "- Mayor que el tercer cuartil (18.69)"
   ]
  },
  {
   "cell_type": "code",
   "execution_count": 52,
   "metadata": {
    "vscode": {
     "languageId": "r"
    }
   },
   "outputs": [
    {
     "data": {
      "text/plain": [
       "\n",
       "    0     1 \n",
       "28759  9586 "
      ]
     },
     "metadata": {},
     "output_type": "display_data"
    },
    {
     "data": {
      "text/plain": [
       "\n",
       "    0     1 \n",
       "28759  9586 "
      ]
     },
     "metadata": {},
     "output_type": "display_data"
    },
    {
     "data": {
      "text/plain": [
       "\n",
       "    0     1 \n",
       "28758  9587 "
      ]
     },
     "metadata": {},
     "output_type": "display_data"
    },
    {
     "data": {
      "text/plain": [
       "\n",
       "    0     1 \n",
       "28759  9586 "
      ]
     },
     "metadata": {},
     "output_type": "display_data"
    }
   ],
   "source": [
    "# variable numerica total_pymnt\n",
    "\n",
    "#Min.   :   35.71\n",
    "#1st Qu.: 5487.53\n",
    "#Median : 9708.77\n",
    "#Mean   :12012.95\n",
    "#3rd Qu.:16427.20\n",
    "#Max.   :58563.68\n",
    "\n",
    "loan_data2$total_pymnt_high <- ifelse(loan_data2$total_pymnt > 16427.20, 1, 0)\n",
    "loan_data2$total_pymnt_low <- ifelse(loan_data2$total_pymnt < 5487.53, 1, 0)\n",
    "loan_data2$total_pymnt_mid_low <- ifelse(loan_data2$total_pymnt >= 5487.53 &\n",
    "                                          loan_data2$total_pymnt < 9708.77, 1, 0)\n",
    "loan_data2$total_pymnt_mid_high <- ifelse(loan_data2$total_pymnt >= 9708.77 &\n",
    "                                           loan_data2$total_pymnt\n",
    "                                           <= 16427.20, 1, 0)\n",
    "table(loan_data2$total_pymnt_high)\n",
    "table(loan_data2$total_pymnt_low)\n",
    "table(loan_data2$total_pymnt_mid_low)\n",
    "table(loan_data2$total_pymnt_mid_high)"
   ]
  },
  {
   "cell_type": "markdown",
   "metadata": {},
   "source": [
    "Para la variable numérica \"total_pymnt\", considerando los valores, hice los binning de la siguiente manera:\n",
    "\n",
    "- Menor que el primer cuartil (5487.53)\n",
    "- Entre el primer cuartil y la mediana (5487.53 - 9708.77)\n",
    "- Entre la mediana y el tercer cuartil (9708.77 - 16427.20)\n",
    "- Mayor que el tercer cuartil (16427.20)"
   ]
  },
  {
   "cell_type": "code",
   "execution_count": 53,
   "metadata": {
    "vscode": {
     "languageId": "r"
    }
   },
   "outputs": [
    {
     "data": {
      "text/plain": [
       "\n",
       "    0     1 \n",
       "28760  9585 "
      ]
     },
     "metadata": {},
     "output_type": "display_data"
    },
    {
     "data": {
      "text/plain": [
       "\n",
       "    0     1 \n",
       "28761  9584 "
      ]
     },
     "metadata": {},
     "output_type": "display_data"
    },
    {
     "data": {
      "text/plain": [
       "\n",
       "    0     1 \n",
       "28757  9588 "
      ]
     },
     "metadata": {},
     "output_type": "display_data"
    },
    {
     "data": {
      "text/plain": [
       "\n",
       "    0     1 \n",
       "28757  9588 "
      ]
     },
     "metadata": {},
     "output_type": "display_data"
    }
   ],
   "source": [
    "# variable numerica total_pymnt_inv\n",
    "\n",
    "#Min.   :    0\n",
    "#1st Qu.: 4851\n",
    "#Median : 8981\n",
    "#Mean   :11307\n",
    "#3rd Qu.:15517\n",
    "#Max.   :58564\n",
    "\n",
    "loan_data2$total_pymnt_inv_high <- ifelse(loan_data2$total_pymnt_inv >\n",
    "                                           15517, 1, 0)\n",
    "loan_data2$total_pymnt_inv_low <- ifelse(loan_data2$total_pymnt_inv < 4851, 1, 0)\n",
    "loan_data2$total_pymnt_inv_mid_low <- ifelse(loan_data2$total_pymnt_inv >= 4851 &\n",
    "                                              loan_data2$total_pymnt_inv <\n",
    "                                                8981, 1, 0)\n",
    "loan_data2$total_pymnt_inv_mid_high <- ifelse(loan_data2$total_pymnt_inv >= 8981 &\n",
    "                                               loan_data2$total_pymnt_inv <=\n",
    "                                                 15517, 1, 0)\n",
    "table(loan_data2$total_pymnt_inv_high)\n",
    "table(loan_data2$total_pymnt_inv_low)\n",
    "table(loan_data2$total_pymnt_inv_mid_low)\n",
    "table(loan_data2$total_pymnt_inv_mid_high)"
   ]
  },
  {
   "cell_type": "markdown",
   "metadata": {},
   "source": [
    "Para la variable numérica \"total_pymnt_inv\", considerando los valores, hice binning de la siguiente manera:\n",
    "\n",
    "- Menor que el primer cuartil (4851)\n",
    "- Entre el primer cuartil y la mediana (4851 - 8981)\n",
    "- Entre la mediana y el tercer cuartil (8981 - 15517)\n",
    "- Mayor que el tercer cuartil (15517)"
   ]
  },
  {
   "cell_type": "code",
   "execution_count": 54,
   "metadata": {
    "vscode": {
     "languageId": "r"
    }
   },
   "outputs": [
    {
     "data": {
      "text/plain": [
       "\n",
       "    0     1 \n",
       "28763  9582 "
      ]
     },
     "metadata": {},
     "output_type": "display_data"
    },
    {
     "data": {
      "text/plain": [
       "\n",
       "    0     1 \n",
       "28758  9587 "
      ]
     },
     "metadata": {},
     "output_type": "display_data"
    },
    {
     "data": {
      "text/plain": [
       "\n",
       "    0     1 \n",
       "29408  8937 "
      ]
     },
     "metadata": {},
     "output_type": "display_data"
    },
    {
     "data": {
      "text/plain": [
       "\n",
       "    0     1 \n",
       "28106 10239 "
      ]
     },
     "metadata": {},
     "output_type": "display_data"
    }
   ],
   "source": [
    "# variable numerica total_rec_prncp\n",
    "\n",
    "#Min.   :    0\n",
    "#1st Qu.: 4485\n",
    "#Median : 8000\n",
    "#Mean   : 9673\n",
    "#3rd Qu.:13450\n",
    "#Max.   :35000\n",
    "\n",
    "loan_data2$total_rec_prncp_high <- ifelse(loan_data2$total_rec_prncp >\n",
    "                                           13450, 1, 0)\n",
    "loan_data2$total_rec_prncp_low <- ifelse(loan_data2$total_rec_prncp < 4485, 1, 0)\n",
    "loan_data2$total_rec_prncp_mid_low <- ifelse(loan_data2$total_rec_prncp >= 4485 &\n",
    "                                              loan_data2$total_rec_prncp <\n",
    "                                                8000, 1, 0)\n",
    "loan_data2$total_rec_prncp_mid_high <- ifelse(loan_data2$total_rec_prncp >= 8000 &\n",
    "                                               loan_data2$total_rec_prncp <=\n",
    "                                                 13450, 1, 0)\n",
    "table(loan_data2$total_rec_prncp_high)\n",
    "table(loan_data2$total_rec_prncp_low)\n",
    "table(loan_data2$total_rec_prncp_mid_low)\n",
    "table(loan_data2$total_rec_prncp_mid_high)"
   ]
  },
  {
   "cell_type": "markdown",
   "metadata": {},
   "source": [
    "\n",
    "Para la variable numérica \"total_rec_prncp\", considerando los valores, hice binning de la siguiente manera:\n",
    "\n",
    "- Menor que el primer cuartil (4485)\n",
    "- Entre el primer cuartil y la mediana (4485 - 8000)\n",
    "- Entre la mediana y el tercer cuartil (8000 - 13450)\n",
    "- Mayor que el tercer cuartil (13450)"
   ]
  },
  {
   "cell_type": "code",
   "execution_count": 55,
   "metadata": {
    "vscode": {
     "languageId": "r"
    }
   },
   "outputs": [
    {
     "data": {
      "text/plain": [
       "\n",
       "    0     1 \n",
       "28759  9586 "
      ]
     },
     "metadata": {},
     "output_type": "display_data"
    },
    {
     "data": {
      "text/plain": [
       "\n",
       "    0     1 \n",
       "28758  9587 "
      ]
     },
     "metadata": {},
     "output_type": "display_data"
    },
    {
     "data": {
      "text/plain": [
       "\n",
       "    0     1 \n",
       "28760  9585 "
      ]
     },
     "metadata": {},
     "output_type": "display_data"
    },
    {
     "data": {
      "text/plain": [
       "\n",
       "    0     1 \n",
       "28758  9587 "
      ]
     },
     "metadata": {},
     "output_type": "display_data"
    }
   ],
   "source": [
    "# variable numerica last_pymnt_amnt\n",
    "\n",
    "#Min.   :    0.0\n",
    "#1st Qu.:  213.8\n",
    "#Median :  528.5\n",
    "#Mean   : 2622.5\n",
    "#3rd Qu.: 3184.3\n",
    "#Max.   :36115.2\n",
    "\n",
    "loan_data2$last_pymnt_amnt_high <- ifelse(loan_data2$last_pymnt_amnt >\n",
    "                                           3184.3, 1, 0)\n",
    "loan_data2$last_pymnt_amnt_low <- ifelse(loan_data2$last_pymnt_amnt < 213.8, 1, 0)\n",
    "loan_data2$last_pymnt_amnt_mid_low <- ifelse(loan_data2$last_pymnt_amnt >=\n",
    "                                              213.8 &\n",
    "                                              loan_data2$last_pymnt_amnt <\n",
    "                                                528.5, 1, 0)\n",
    "loan_data2$last_pymnt_amnt_mid_high <- ifelse(loan_data2$last_pymnt_amnt >=\n",
    "                                               528.5 &\n",
    "                                               loan_data2$last_pymnt_amnt <=\n",
    "                                                 3184.3, 1, 0)\n",
    "table(loan_data2$last_pymnt_amnt_high)\n",
    "table(loan_data2$last_pymnt_amnt_low)\n",
    "table(loan_data2$last_pymnt_amnt_mid_low)\n",
    "table(loan_data2$last_pymnt_amnt_mid_high)"
   ]
  },
  {
   "cell_type": "markdown",
   "metadata": {},
   "source": [
    "Para la variable numérica \"last_pymnt_amnt\", considerando los valores, hice binning de la siguiente manera:\n",
    "\n",
    "- Menor que el primer cuartil (213.8)\n",
    "- Entre el primer cuartil y la mediana (213.8 - 528.5)\n",
    "- Entre la mediana y el tercer cuartil (528.5 - 3184.3)\n",
    "- Mayor que el tercer cuartil (3184.3)"
   ]
  },
  {
   "cell_type": "markdown",
   "metadata": {},
   "source": [
    "La siguiente celda elimina las columnas que ya fueron procesadas, de acuerdo a si son numericas y categoricas, eliminando su columna original no transformada."
   ]
  },
  {
   "cell_type": "code",
   "execution_count": 56,
   "metadata": {
    "vscode": {
     "languageId": "r"
    }
   },
   "outputs": [
    {
     "data": {
      "text/html": [
       "<style>\n",
       ".list-inline {list-style: none; margin:0; padding: 0}\n",
       ".list-inline>li {display: inline-block}\n",
       ".list-inline>li:not(:last-child)::after {content: \"\\00b7\"; padding: 0 .5ex}\n",
       "</style>\n",
       "<ol class=list-inline><li>38345</li><li>34</li></ol>\n"
      ],
      "text/latex": [
       "\\begin{enumerate*}\n",
       "\\item 38345\n",
       "\\item 34\n",
       "\\end{enumerate*}\n"
      ],
      "text/markdown": [
       "1. 38345\n",
       "2. 34\n",
       "\n",
       "\n"
      ],
      "text/plain": [
       "[1] 38345    34"
      ]
     },
     "metadata": {},
     "output_type": "display_data"
    },
    {
     "data": {
      "text/html": [
       "<style>\n",
       ".list-inline {list-style: none; margin:0; padding: 0}\n",
       ".list-inline>li {display: inline-block}\n",
       ".list-inline>li:not(:last-child)::after {content: \"\\00b7\"; padding: 0 .5ex}\n",
       "</style>\n",
       "<ol class=list-inline><li>'repay_fail'</li><li>'term_60_months'</li><li>'last_pymnt_d_2011_2013'</li><li>'last_pymnt_d_2014_2016'</li><li>'last_credit_pull_d_2011_2013'</li><li>'last_credit_pull_d_2014_2016'</li><li>'int_rate_low'</li><li>'int_rate_mid_low'</li><li>'int_rate_mid_high'</li><li>'int_rate_high'</li><li>'annual_inc_high'</li><li>'annual_inc_low'</li><li>'annual_inc_mid_low'</li><li>'annual_inc_mid_high'</li><li>'dti_high'</li><li>'dti_low'</li><li>'dti_mid_low'</li><li>'dti_mid_high'</li><li>'total_pymnt_high'</li><li>'total_pymnt_low'</li><li>'total_pymnt_mid_low'</li><li>'total_pymnt_mid_high'</li><li>'total_pymnt_inv_high'</li><li>'total_pymnt_inv_low'</li><li>'total_pymnt_inv_mid_low'</li><li>'total_pymnt_inv_mid_high'</li><li>'total_rec_prncp_high'</li><li>'total_rec_prncp_low'</li><li>'total_rec_prncp_mid_low'</li><li>'total_rec_prncp_mid_high'</li><li>'last_pymnt_amnt_high'</li><li>'last_pymnt_amnt_low'</li><li>'last_pymnt_amnt_mid_low'</li><li>'last_pymnt_amnt_mid_high'</li></ol>\n"
      ],
      "text/latex": [
       "\\begin{enumerate*}\n",
       "\\item 'repay\\_fail'\n",
       "\\item 'term\\_60\\_months'\n",
       "\\item 'last\\_pymnt\\_d\\_2011\\_2013'\n",
       "\\item 'last\\_pymnt\\_d\\_2014\\_2016'\n",
       "\\item 'last\\_credit\\_pull\\_d\\_2011\\_2013'\n",
       "\\item 'last\\_credit\\_pull\\_d\\_2014\\_2016'\n",
       "\\item 'int\\_rate\\_low'\n",
       "\\item 'int\\_rate\\_mid\\_low'\n",
       "\\item 'int\\_rate\\_mid\\_high'\n",
       "\\item 'int\\_rate\\_high'\n",
       "\\item 'annual\\_inc\\_high'\n",
       "\\item 'annual\\_inc\\_low'\n",
       "\\item 'annual\\_inc\\_mid\\_low'\n",
       "\\item 'annual\\_inc\\_mid\\_high'\n",
       "\\item 'dti\\_high'\n",
       "\\item 'dti\\_low'\n",
       "\\item 'dti\\_mid\\_low'\n",
       "\\item 'dti\\_mid\\_high'\n",
       "\\item 'total\\_pymnt\\_high'\n",
       "\\item 'total\\_pymnt\\_low'\n",
       "\\item 'total\\_pymnt\\_mid\\_low'\n",
       "\\item 'total\\_pymnt\\_mid\\_high'\n",
       "\\item 'total\\_pymnt\\_inv\\_high'\n",
       "\\item 'total\\_pymnt\\_inv\\_low'\n",
       "\\item 'total\\_pymnt\\_inv\\_mid\\_low'\n",
       "\\item 'total\\_pymnt\\_inv\\_mid\\_high'\n",
       "\\item 'total\\_rec\\_prncp\\_high'\n",
       "\\item 'total\\_rec\\_prncp\\_low'\n",
       "\\item 'total\\_rec\\_prncp\\_mid\\_low'\n",
       "\\item 'total\\_rec\\_prncp\\_mid\\_high'\n",
       "\\item 'last\\_pymnt\\_amnt\\_high'\n",
       "\\item 'last\\_pymnt\\_amnt\\_low'\n",
       "\\item 'last\\_pymnt\\_amnt\\_mid\\_low'\n",
       "\\item 'last\\_pymnt\\_amnt\\_mid\\_high'\n",
       "\\end{enumerate*}\n"
      ],
      "text/markdown": [
       "1. 'repay_fail'\n",
       "2. 'term_60_months'\n",
       "3. 'last_pymnt_d_2011_2013'\n",
       "4. 'last_pymnt_d_2014_2016'\n",
       "5. 'last_credit_pull_d_2011_2013'\n",
       "6. 'last_credit_pull_d_2014_2016'\n",
       "7. 'int_rate_low'\n",
       "8. 'int_rate_mid_low'\n",
       "9. 'int_rate_mid_high'\n",
       "10. 'int_rate_high'\n",
       "11. 'annual_inc_high'\n",
       "12. 'annual_inc_low'\n",
       "13. 'annual_inc_mid_low'\n",
       "14. 'annual_inc_mid_high'\n",
       "15. 'dti_high'\n",
       "16. 'dti_low'\n",
       "17. 'dti_mid_low'\n",
       "18. 'dti_mid_high'\n",
       "19. 'total_pymnt_high'\n",
       "20. 'total_pymnt_low'\n",
       "21. 'total_pymnt_mid_low'\n",
       "22. 'total_pymnt_mid_high'\n",
       "23. 'total_pymnt_inv_high'\n",
       "24. 'total_pymnt_inv_low'\n",
       "25. 'total_pymnt_inv_mid_low'\n",
       "26. 'total_pymnt_inv_mid_high'\n",
       "27. 'total_rec_prncp_high'\n",
       "28. 'total_rec_prncp_low'\n",
       "29. 'total_rec_prncp_mid_low'\n",
       "30. 'total_rec_prncp_mid_high'\n",
       "31. 'last_pymnt_amnt_high'\n",
       "32. 'last_pymnt_amnt_low'\n",
       "33. 'last_pymnt_amnt_mid_low'\n",
       "34. 'last_pymnt_amnt_mid_high'\n",
       "\n",
       "\n"
      ],
      "text/plain": [
       " [1] \"repay_fail\"                   \"term_60_months\"              \n",
       " [3] \"last_pymnt_d_2011_2013\"       \"last_pymnt_d_2014_2016\"      \n",
       " [5] \"last_credit_pull_d_2011_2013\" \"last_credit_pull_d_2014_2016\"\n",
       " [7] \"int_rate_low\"                 \"int_rate_mid_low\"            \n",
       " [9] \"int_rate_mid_high\"            \"int_rate_high\"               \n",
       "[11] \"annual_inc_high\"              \"annual_inc_low\"              \n",
       "[13] \"annual_inc_mid_low\"           \"annual_inc_mid_high\"         \n",
       "[15] \"dti_high\"                     \"dti_low\"                     \n",
       "[17] \"dti_mid_low\"                  \"dti_mid_high\"                \n",
       "[19] \"total_pymnt_high\"             \"total_pymnt_low\"             \n",
       "[21] \"total_pymnt_mid_low\"          \"total_pymnt_mid_high\"        \n",
       "[23] \"total_pymnt_inv_high\"         \"total_pymnt_inv_low\"         \n",
       "[25] \"total_pymnt_inv_mid_low\"      \"total_pymnt_inv_mid_high\"    \n",
       "[27] \"total_rec_prncp_high\"         \"total_rec_prncp_low\"         \n",
       "[29] \"total_rec_prncp_mid_low\"      \"total_rec_prncp_mid_high\"    \n",
       "[31] \"last_pymnt_amnt_high\"         \"last_pymnt_amnt_low\"         \n",
       "[33] \"last_pymnt_amnt_mid_low\"      \"last_pymnt_amnt_mid_high\"    "
      ]
     },
     "metadata": {},
     "output_type": "display_data"
    }
   ],
   "source": [
    "loan_data2 <- loan_data2 %>%\n",
    "  dplyr::select(-term, -last_pymnt_d, -last_credit_pull_d,\n",
    "                -int_rate, -annual_inc, -dti, -total_pymnt,\n",
    "                -total_pymnt_inv, -total_rec_prncp, -last_pymnt_amnt)\n",
    "dim(loan_data2)\n",
    "#nombre de las columnas de loan_data2\n",
    "colnames(loan_data2)"
   ]
  },
  {
   "cell_type": "markdown",
   "metadata": {},
   "source": [
    "La siguiente celda asegura que la variable objetivo repay_fail esté en el formato adecuado para ser utilizada en el modelo Naive Bayes, que requiere que la variable de clase sea categórica (en este caso, un factor en R)."
   ]
  },
  {
   "cell_type": "code",
   "execution_count": 57,
   "metadata": {
    "vscode": {
     "languageId": "r"
    }
   },
   "outputs": [
    {
     "data": {
      "text/plain": [
       "\n",
       "    0     1 \n",
       "32606  5739 "
      ]
     },
     "metadata": {},
     "output_type": "display_data"
    },
    {
     "data": {
      "text/plain": [
       "\n",
       "        0         1 \n",
       "0.8503325 0.1496675 "
      ]
     },
     "metadata": {},
     "output_type": "display_data"
    }
   ],
   "source": [
    "# repay_fail lo dejo como formato factor\n",
    "table(loan_data2$repay_fail)\n",
    "loan_data2$repay_fail <- as.factor(loan_data2$repay_fail)\n",
    "prop.table(table(loan_data2$repay_fail))"
   ]
  },
  {
   "cell_type": "markdown",
   "metadata": {},
   "source": [
    "En la siguiente celda se realiza la división del conjunto de datos en conjuntos de entrenamiento y prueba, asegurando que la distribución de la variable objetivo repay_fail se mantenga consistente en ambos conjuntos mediante estratificación. Se utiliza una semilla aleatoria para garantizar la reproducibilidad de los resultados."
   ]
  },
  {
   "cell_type": "code",
   "execution_count": 58,
   "metadata": {
    "vscode": {
     "languageId": "r"
    }
   },
   "outputs": [],
   "source": [
    "### Splitting initial de los datos en conjunto de entrenamiento y prueba\n",
    "set.seed(123) # Semilla\n",
    "split <- initial_split(loan_data2, prop = 0.7, strata = \"repay_fail\")\n",
    "loan_data_train <- training(split)\n",
    "loan_data_test <- testing(split)"
   ]
  },
  {
   "cell_type": "markdown",
   "metadata": {},
   "source": [
    "Por qué del 70%-30%\n",
    "\n",
    "Suficiente Cantidad de Datos para Entrenamiento:\n",
    "\n",
    "Usar el 70% de los datos para el entrenamiento asegura que el modelo tenga acceso a una cantidad suficiente de datos para aprender las características y patrones del conjunto de datos. Esto es esencial para construir un modelo robusto y reducir el riesgo de subajuste.\n",
    "\n",
    "Evaluación Representativa:\n",
    "\n",
    "Al reservar el 30% de los datos para el conjunto de prueba, se asegura una evaluación representativa del rendimiento del modelo. Este conjunto debe ser lo suficientemente grande para proporcionar una evaluación precisa y confiable del modelo en datos no vistos.\n",
    "\n",
    "Prácticas Comunes:\n",
    "\n",
    "La proporción de 70%-30% es una práctica común en machine learning, proporcionando un buen balance entre tener suficientes datos para el entrenamiento y una cantidad adecuada para la evaluación del modelo.\n",
    "\n",
    "Subajuste y Sobreajuste\n",
    "\n",
    "Subajuste\n",
    "\n",
    "Definición: Ocurre cuando un modelo es demasiado simple para capturar la estructura subyacente de los datos. Un modelo con subajuste tendrá un rendimiento pobre tanto en el conjunto de entrenamiento como en el de prueba.\n",
    "\n",
    "Prevención: Utilizar una proporción adecuada de datos de entrenamiento ayuda a mitigar el subajuste. Con el 70% de los datos para el entrenamiento, el modelo tiene suficiente información para aprender patrones complejos sin ser demasiado simple.\n",
    "\n",
    "Sobreajuste\n",
    "\n",
    "Definición: Ocurre cuando un modelo es demasiado complejo y se ajusta demasiado a los datos de entrenamiento, capturando también el ruido y las peculiaridades específicas de estos datos. Un modelo con sobreajuste tendrá un rendimiento excelente en el conjunto de entrenamiento pero pobre en el conjunto de prueba.\n",
    "\n",
    "Prevención: Reservar el 30% de los datos para el conjunto de prueba permite evaluar cómo generaliza el modelo a datos nuevos. Si el modelo tiene un rendimiento significativamente peor en el conjunto de prueba comparado con el conjunto de entrenamiento, esto indica un posible sobreajuste.\n",
    "\n",
    "Estratificación por repay_fail\n",
    "\n",
    "Motivación: La estratificación por la variable objetivo repay_fail asegura que la distribución de las clases (yes y no) sea representativa en ambos conjuntos (entrenamiento y prueba). Esto es crucial para evitar sesgos y asegurar que el modelo sea evaluado de manera justa en una muestra que refleja la población original.\n",
    "\n",
    "La proporción 70%-30% para la división del conjunto de datos se elige para equilibrar adecuadamente la cantidad de datos disponibles para el entrenamiento y la evaluación, ayudando a prevenir tanto el subajuste como el sobreajuste. La estratificación por repay_fail asegura que ambos conjuntos tengan distribuciones representativas, mejorando la robustez y la precisión de la evaluación del modelo."
   ]
  },
  {
   "cell_type": "markdown",
   "metadata": {},
   "source": [
    "El siguiente código verifica que la proporción de la variable objetivo repay_fail en los conjuntos de entrenamiento y prueba sea consistente, y luego genera vectores para la variable objetivo en ambos conjuntos."
   ]
  },
  {
   "cell_type": "code",
   "execution_count": null,
   "metadata": {
    "vscode": {
     "languageId": "r"
    }
   },
   "outputs": [],
   "source": [
    "# Compruebo proporcion de \"repay_fail\"\n",
    "round(prop.table(table(loan_data_train$repay_fail)), 2)\n",
    "round(prop.table(table(loan_data_test$repay_fail)), 2)\n",
    "\n",
    "# genero vectores de la variable objetivo\n",
    "repay_fail_train <- loan_data_train$repay_fail\n",
    "repay_fail_test <- loan_data_test$repay_fail"
   ]
  },
  {
   "cell_type": "markdown",
   "metadata": {},
   "source": [
    "Verificación de la Proporción de repay_fail:\n",
    "\n",
    "El uso de round(prop.table(table(...)), 2) permite comprobar que la distribución de la variable repay_fail es similar en los conjuntos de entrenamiento y prueba. Esto es importante para asegurar que ambos conjuntos sean representativos de la población original.\n",
    "\n",
    "Los resultados 0.85 y 0.15 para ambas clases (0 y 1) indican que el 85% de las observaciones no tienen fallos de repago (0) y el 15% sí tienen fallos de repago (1), tanto en el conjunto de entrenamiento como en el de prueba."
   ]
  },
  {
   "cell_type": "markdown",
   "metadata": {},
   "source": [
    "Modelo Naive Bayes\n",
    "\n",
    "1era forma: Paquete e1071, metodo naiveBayes que no permite configuracion de parametros (excepto sólo laplace ) y colocando hiperparametro suboptimo de forma manual, sin saber hiperparametro y parametros optimos que se obtendrian mediante remuestreo y grilla. "
   ]
  },
  {
   "cell_type": "markdown",
   "metadata": {},
   "source": [
    "1.1 Evaluacion del modelo, mediante metrica de accuracy, teniendo como output un vector de niveles"
   ]
  },
  {
   "cell_type": "code",
   "execution_count": 60,
   "metadata": {
    "vscode": {
     "languageId": "r"
    }
   },
   "outputs": [],
   "source": [
    "set.seed(12345)\n",
    "nb_level <- naiveBayes(repay_fail ~ ., data = loan_data_train, laplace = 0)\n",
    "nb_level <- predict(nb_level,\n",
    "                    loan_data_test[colnames(loan_data_test) != \"repay_fail\"],\n",
    "                    type = \"class\")"
   ]
  },
  {
   "cell_type": "code",
   "execution_count": 61,
   "metadata": {
    "vscode": {
     "languageId": "r"
    }
   },
   "outputs": [
    {
     "data": {
      "text/plain": [
       "          Reference\n",
       "Prediction    0    1\n",
       "         0 7536  410\n",
       "         1 2246 1312"
      ]
     },
     "metadata": {},
     "output_type": "display_data"
    },
    {
     "data": {
      "text/html": [
       "<strong>Accuracy:</strong> 0.769123783031989"
      ],
      "text/latex": [
       "\\textbf{Accuracy:} 0.769123783031989"
      ],
      "text/markdown": [
       "**Accuracy:** 0.769123783031989"
      ],
      "text/plain": [
       " Accuracy \n",
       "0.7691238 "
      ]
     },
     "metadata": {},
     "output_type": "display_data"
    }
   ],
   "source": [
    "# Resultados\n",
    "results <- confusionMatrix(nb_level, repay_fail_test)\n",
    "results$table\n",
    "results$overall[names(results$overall) == \"Accuracy\"]"
   ]
  },
  {
   "cell_type": "markdown",
   "metadata": {},
   "source": [
    "Entrenamiento del Modelo Naive Bayes:\n",
    "\n",
    "naiveBayes(repay_fail ~ ., data = loan_data_train, laplace = 0) entrena un modelo Naive Bayes utilizando el conjunto de datos de entrenamiento. El parámetro laplace = 0 indica que no se está aplicando suavizado de Laplace.\n",
    "\n",
    "Predicción:\n",
    "\n",
    "predict(nb_level, loan_data_test[colnames(loan_data_test) != \"repay_fail\"], type = \"class\") genera predicciones para el conjunto de prueba. El tipo de predicción class indica que se deben devolver las clases predichas.\n",
    "\n",
    "Evaluación del Modelo:\n",
    "\n",
    "confusionMatrix(nb_level, repay_fail_test) calcula la matriz de confusión y varias métricas de evaluación, incluyendo la precisión (accuracy).\n",
    "results$overall[names(results$overall) == \"Accuracy\"] extrae el valor de precisión del resultado de la matriz de confusión."
   ]
  },
  {
   "cell_type": "markdown",
   "metadata": {},
   "source": [
    "Interpretación de los Resultados\n",
    "\n",
    "Matriz de Confusión:\n",
    "\n",
    "La matriz de confusión muestra la cantidad de verdaderos negativos, falsos negativos, verdaderos positivos y falsos positivos:\n",
    "\n",
    "- 7536 verdaderos negativos (TN)\n",
    "- 410 falsos negativos (FN)\n",
    "- 2246 falsos positivos (FP)\n",
    "- 1312 verdaderos positivos (TP)\n",
    "\n",
    "Precisión (Accuracy):\n",
    "\n",
    "La precisión es una métrica que mide la proporción de predicciones correctas sobre el total de predicciones realizadas.\n",
    "​\n",
    "La precisión de 0.7691 indica que el modelo Naive Bayes predijo correctamente aproximadamente el 77% de las veces en el conjunto de prueba. Sin embargo, esta evaluación inicial usa un valor subóptimo para el parámetro de Laplace y no ha optimizado otros hiperparámetros posibles. Para mejorar el rendimiento del modelo, será útil realizar una búsqueda de hiperparámetros mediante técnicas de remuestreo y grillas, lo que se abordará en pasos posteriores."
   ]
  },
  {
   "cell_type": "markdown",
   "metadata": {},
   "source": [
    "Definiciones en el Contexto de Predicción del No Pago de Préstamos\n",
    "\n",
    "En el contexto de intentar predecir el no pago de préstamos por parte de los clientes, las definiciones de verdaderos positivos (TP), verdaderos negativos (TN), falsos positivos (FP) y falsos negativos (FN) son las siguientes:\n",
    "\n",
    "1. **Verdadero Positivo (TP)**:\n",
    "   - Un verdadero positivo ocurre cuando el modelo predice correctamente que un cliente no pagará su préstamo.\n",
    "   - **Ejemplo**: El modelo predice que un cliente no pagará su préstamo, y efectivamente el cliente no lo paga.\n",
    "\n",
    "2. **Verdadero Negativo (TN)**:\n",
    "   - Un verdadero negativo ocurre cuando el modelo predice correctamente que un cliente pagará su préstamo.\n",
    "   - **Ejemplo**: El modelo predice que un cliente pagará su préstamo, y efectivamente el cliente lo paga.\n",
    "\n",
    "3. **Falso Positivo (FP)**:\n",
    "   - Un falso positivo ocurre cuando el modelo predice incorrectamente que un cliente no pagará su préstamo, pero en realidad el cliente sí lo paga.\n",
    "   - **Ejemplo**: El modelo predice que un cliente no pagará su préstamo, pero el cliente efectivamente lo paga.\n",
    "\n",
    "4. **Falso Negativo (FN)**:\n",
    "   - Un falso negativo ocurre cuando el modelo predice incorrectamente que un cliente pagará su préstamo, pero en realidad el cliente no lo paga.\n",
    "   - **Ejemplo**: El modelo predice que un cliente pagará su préstamo, pero el cliente efectivamente no lo paga.\n",
    "\n",
    "Importancia de Estas Definiciones en el Contexto del Problema\n",
    "\n",
    "- **Verdaderos Positivos (TP)**: Identificar correctamente a los clientes que no pagarán sus préstamos es crucial para la gestión de riesgos en las instituciones financieras. Permite tomar medidas preventivas y reducir el impacto de los préstamos incobrables.\n",
    "  \n",
    "- **Verdaderos Negativos (TN)**: Reconocer correctamente a los clientes que pagarán sus préstamos asegura que se concedan préstamos a clientes de bajo riesgo, optimizando el rendimiento de la cartera de préstamos.\n",
    "  \n",
    "- **Falsos Positivos (FP)**: Predicciones incorrectas de no pago pueden llevar a la denegación de préstamos a clientes que son de bajo riesgo, lo cual puede resultar en la pérdida de oportunidades de negocio y afectar negativamente la satisfacción del cliente.\n",
    "  \n",
    "- **Falsos Negativos (FN)**: Predicciones incorrectas de pago pueden resultar en la aprobación de préstamos a clientes que son de alto riesgo, aumentando la probabilidad de incurrir en pérdidas por préstamos incobrables.\n",
    "\n",
    "Comprender y minimizar los falsos negativos y falsos positivos es esencial para mejorar la precisión del modelo y la toma de decisiones en la concesión de préstamos, contribuyendo a una gestión de riesgos más efectiva y a la optimización de los recursos financieros."
   ]
  },
  {
   "cell_type": "markdown",
   "metadata": {},
   "source": [
    "1.2 Evaluacion del modelo mediante ROC, teniendo como output un vector de probabilidades"
   ]
  },
  {
   "cell_type": "code",
   "execution_count": 62,
   "metadata": {
    "vscode": {
     "languageId": "r"
    }
   },
   "outputs": [],
   "source": [
    "set.seed(12345)\n",
    "nb_prob <- naiveBayes(repay_fail ~ ., data = loan_data_train, laplace = 0)\n",
    "nb_prob <- predict(nb_prob,\n",
    "                   loan_data_test[colnames(loan_data_test) != \"repay_fail\"],\n",
    "                   type = \"raw\")\n",
    "nb_prob <- as.numeric(nb_prob[, colnames(nb_prob) == \"1\"])"
   ]
  },
  {
   "cell_type": "code",
   "execution_count": 63,
   "metadata": {
    "vscode": {
     "languageId": "r"
    }
   },
   "outputs": [
    {
     "data": {
      "text/html": [
       "0.503533225275366"
      ],
      "text/latex": [
       "0.503533225275366"
      ],
      "text/markdown": [
       "0.503533225275366"
      ],
      "text/plain": [
       "[1] 0.5035332"
      ]
     },
     "metadata": {},
     "output_type": "display_data"
    }
   ],
   "source": [
    "# Umbral nivel/probabilidad\n",
    "level_prob <- data.frame(nb_level, nb_prob)\n",
    "level_prob <- min(level_prob[level_prob$nb_level == \"1\", \"nb_prob\"])\n",
    "level_prob"
   ]
  },
  {
   "cell_type": "markdown",
   "metadata": {},
   "source": [
    "Explicación del Propósito\n",
    "Entrenamiento del Modelo Naive Bayes:\n",
    "\n",
    "naiveBayes(repay_fail ~ ., data = loan_data_train, laplace = 0) entrena un modelo Naive Bayes utilizando el conjunto de datos de entrenamiento. El parámetro laplace = 0 indica que no se está aplicando suavizado de Laplace.\n",
    "\n",
    "Predicción:\n",
    "\n",
    "predict(nb_prob, loan_data_test[colnames(loan_data_test) != \"repay_fail\"], type = \"raw\") genera predicciones para el conjunto de prueba en forma de probabilidades. type = \"raw\" indica que se deben devolver las probabilidades de cada clase.\n",
    "nb_prob <- as.numeric(nb_prob[, colnames(nb_prob) == \"1\"]) extrae las probabilidades asociadas con la clase 1.\n",
    "\n",
    "Cálculo del Umbral de Probabilidad:\n",
    "\n",
    "level_prob <- data.frame(nb_level, nb_prob) crea un data frame con las predicciones de clase y sus probabilidades correspondientes.\n",
    "level_prob <- min(level_prob[level_prob$nb_level == \"1\", \"nb_prob\"]) encuentra el umbral mínimo de probabilidad para el cual se predice la clase 1.\n",
    "\n",
    "Interpretación del Resultado\n",
    "\n",
    "Este umbral indica que cualquier instancia con una probabilidad predicha mayor o igual a 0.503533225275366 será clasificada como clase 1 (repay_fail = 1). Este valor es crucial para trazar la curva ROC y evaluar el rendimiento del modelo en términos de sensibilidad y especificidad.\n",
    "\n",
    "Este valor indica que cualquier cliente con una probabilidad de no pago mayor o igual a 0.5035 será clasificado como de alto riesgo de no pago. Este umbral es crucial para determinar la clasificación final de los clientes y ayuda a tomar decisiones informadas sobre la aprobación de préstamos.\n",
    "\n",
    "El umbral de probabilidad calculado proporciona un punto de corte para clasificar las instancias en la clase 1. Utilizar este umbral permite evaluar el modelo Naive Bayes mediante la curva ROC, proporcionando una visión más detallada del rendimiento del modelo en comparación con solo utilizar la precisión."
   ]
  },
  {
   "cell_type": "markdown",
   "metadata": {},
   "source": [
    "Creación de la Curva ROC\n",
    "\n",
    "El siguiente código crea la curva ROC y encuentra el mejor umbral de corte para ajustar las probabilidades."
   ]
  },
  {
   "cell_type": "code",
   "execution_count": 64,
   "metadata": {
    "vscode": {
     "languageId": "r"
    }
   },
   "outputs": [
    {
     "data": {
      "image/png": "[encoded data removed]",
      "text/plain": [
       "Plot with title \"ROC curve\""
      ]
     },
     "metadata": {
      "image/png": {
       "height": 420,
       "width": 420
      }
     },
     "output_type": "display_data"
    }
   ],
   "source": [
    "# Creo el ROC y la curva ROC\n",
    "nb_roc <- roc(repay_fail_test, nb_prob, levels = c(\"0\", \"1\"), direction = \"<\")\n",
    "plot.roc(nb_roc, main = \"ROC curve\", col = \"blue\", lwd = 2, legacy.axes = TRUE,\n",
    "         print.thres = \"best\", print.auc = TRUE)\n",
    "\n",
    "# Encuentro el mejor umbral de corte\n",
    "aux <- nb_roc$sensitivities + nb_roc$specificities\n",
    "corte <- nb_roc$thresholds[which(aux == max(aux))]\n",
    "\n",
    "# Ajusto las probabilidades al umbral de corte\n",
    "nb_prob <- ifelse(nb_prob < corte, 0, 1)\n",
    "nb_prob <- factor(nb_prob, levels = c(0, 1), labels = c(\"0\", \"1\"))"
   ]
  },
  {
   "cell_type": "markdown",
   "metadata": {},
   "source": [
    "El umbral de corte encontrado es 0.422.\n",
    "\n",
    "Interpretación del Resultado\n",
    "\n",
    "Curva ROC: La curva ROC muestra la relación entre la sensibilidad (True Positive Rate) y 1 - especificidad (False Positive Rate) para diferentes umbrales de probabilidad.\n",
    "\n",
    "AUC (Área Bajo la Curva): Un AUC de 0.852 indica un buen rendimiento del modelo, ya que un valor cercano a 1 representa un modelo con alta capacidad de discriminación.\n",
    "\n",
    "Mejor Umbral de Corte: El mejor umbral de corte (0.422) se utiliza para ajustar las probabilidades, clasificando cualquier instancia con una probabilidad mayor o igual a este valor como clase 1.\n",
    "\n",
    "El uso de la curva ROC y el ajuste del umbral de corte proporciona una evaluación más detallada del rendimiento del modelo Naive Bayes. La AUC de 0.852 y el umbral de corte identificado aseguran que el modelo tenga un buen balance entre sensibilidad y especificidad."
   ]
  },
  {
   "cell_type": "markdown",
   "metadata": {},
   "source": [
    "Explicación de la Imagen\n",
    "\n",
    "- **Curva ROC**: La curva ROC muestra cómo varía la tasa de verdaderos positivos (sensibilidad) contra la tasa de falsos positivos (1 - especificidad) para diferentes umbrales.\n",
    "- **AUC**: El área bajo la curva (AUC) es 0.852, lo que indica que el modelo tiene un buen rendimiento de clasificación.\n",
    "- **Mejor Umbral de Corte**: El mejor umbral de corte es 0.422, lo que proporciona un buen equilibrio entre sensibilidad y especificidad.\n",
    "\n",
    "Este análisis confirma que el modelo Naive Bayes, evaluado mediante la curva ROC, tiene un buen desempeño, con un AUC de 0.852. Ajustar las probabilidades utilizando el mejor umbral de corte mejora la precisión del modelo."
   ]
  },
  {
   "cell_type": "markdown",
   "metadata": {},
   "source": [
    "En el contexto de predecir el no pago de préstamos:\n",
    "\n",
    "- **AUC**: Indica la capacidad general del modelo para discriminar entre clientes de alto y bajo riesgo.\n",
    "- **Umbral de Corte**: Define la probabilidad a partir de la cual un cliente es clasificado como de alto riesgo.\n",
    "- **Sensibilidad**: Mide la capacidad del modelo para identificar correctamente a los clientes de alto riesgo.\n",
    "- **Especificidad**: Mide la capacidad del modelo para identificar correctamente a los clientes de bajo riesgo.\n",
    "- **Suma de Sensibilidad y Especificidad**: Proporciona una visión combinada del rendimiento del modelo, indicando un buen equilibrio entre las tasas de verdaderos positivos y verdaderos negativos."
   ]
  },
  {
   "cell_type": "markdown",
   "metadata": {},
   "source": [
    "El siguiente código muestra cómo evaluar los resultados del modelo Naive Bayes ajustado con el mejor umbral de corte utilizando la matriz de confusión, y calcula la suma de la sensibilidad y la especificidad."
   ]
  },
  {
   "cell_type": "code",
   "execution_count": 65,
   "metadata": {
    "vscode": {
     "languageId": "r"
    }
   },
   "outputs": [
    {
     "data": {
      "text/plain": [
       "          Reference\n",
       "Prediction    0    1\n",
       "         0 7479  396\n",
       "         1 2303 1326"
      ]
     },
     "metadata": {},
     "output_type": "display_data"
    },
    {
     "data": {
      "text/html": [
       "1.53460241629901"
      ],
      "text/latex": [
       "1.53460241629901"
      ],
      "text/markdown": [
       "1.53460241629901"
      ],
      "text/plain": [
       "[1] 1.534602"
      ]
     },
     "metadata": {},
     "output_type": "display_data"
    }
   ],
   "source": [
    "# Resultados\n",
    "results <- confusionMatrix(nb_prob, repay_fail_test)\n",
    "results$table\n",
    "sensitivity(nb_prob, repay_fail_test) + specificity(nb_prob, repay_fail_test)"
   ]
  },
  {
   "cell_type": "markdown",
   "metadata": {},
   "source": [
    "Interpretación de los Resultados\n",
    "\n",
    "Matriz de Confusión:\n",
    "\n",
    "La matriz de confusión muestra la cantidad de verdaderos negativos, falsos negativos, verdaderos positivos y falsos positivos:\n",
    "\n",
    "- 7479 verdaderos negativos (TN)\n",
    "- 396 falsos negativos (FN)\n",
    "- 2303 falsos positivos (FP)\n",
    "- 1326 verdaderos positivos (TP)\n",
    "\n",
    "Sensibilidad y Especificidad:\n",
    "\n",
    "- La sensibilidad (True Positive Rate) es la proporción de verdaderos positivos correctamente identificados por el modelo.\n",
    "- La especificidad (True Negative Rate) es la proporción de verdaderos negativos correctamente identificados por el modelo.\n",
    "- La suma de la sensibilidad y la especificidad es 1.53460241629901, lo cual indica un buen equilibrio entre ambas métricas."
   ]
  },
  {
   "cell_type": "markdown",
   "metadata": {},
   "source": [
    "2da forma: Mediante Paquete naivebayes que nos permite configuracion de parametros laplace, usekernel y adjust. Para esta forma se buscarán los mejores 3 parametros (laplace, usekernel y adjust), para estos efectos se utilizará el remuestreo k-fold CV y grilla."
   ]
  },
  {
   "cell_type": "markdown",
   "metadata": {},
   "source": [
    "2.1 Evaluacion del modelo, mediante metrica de accuracy, teniendo como output un vector de niveles"
   ]
  },
  {
   "cell_type": "markdown",
   "metadata": {},
   "source": [
    "El siguiente código configura la estrategia de remuestreo k-fold cross-validation y define una grilla de hiperparámetros para entrenar un modelo Naive Bayes con el paquete `naivebayes`."
   ]
  },
  {
   "cell_type": "code",
   "execution_count": 66,
   "metadata": {
    "vscode": {
     "languageId": "r"
    }
   },
   "outputs": [],
   "source": [
    "# Estrategia de remuestreo\n",
    "cv <- trainControl(method = \"cv\", number = 5)\n",
    "\n",
    "# Parámetros\n",
    "hyper_grid <- expand.grid(\n",
    "  laplace = c(0, 1),\n",
    "  usekernel = c(TRUE, FALSE),\n",
    "  adjust = seq(0.5, 3, by = 0.5)\n",
    ")"
   ]
  },
  {
   "cell_type": "markdown",
   "metadata": {},
   "source": [
    "Estrategia de Remuestreo\n",
    "\n",
    "trainControl(method = \"cv\", number = 5) establece la estrategia de remuestreo k-fold cross-validation con 5 particiones. Esta estrategia divide los datos en 5 subconjuntos, entrena el modelo en 4 de ellos y lo valida en el subconjunto restante, repitiendo este proceso 5 veces. Este método ayuda a evaluar la estabilidad y generalización del modelo.\n",
    "\n",
    "Parámetros:\n",
    "\n",
    "expand.grid(laplace = c(0, 1), usekernel = c(TRUE, FALSE), adjust = seq(0.5, 3, by = 0.5)) crea una grilla de hiperparámetros que especifica las combinaciones de valores posibles para laplace, usekernel y adjust. Esta grilla será utilizada para buscar los mejores valores de estos parámetros durante el entrenamiento del modelo:\n",
    "\n",
    "- laplace: Suavizado de Laplace, con valores 0 y 1.\n",
    "- usekernel: Uso de kernel para estimar las densidades de probabilidad, con valores TRUE y FALSE.\n",
    "- adjust: Parámetro de ajuste para la estimación del kernel, con valores en el rango de 0.5 a 3 en incrementos de 0.5.\n",
    "\n",
    "Importancia en el Contexto de Naive Bayes\n",
    "\n",
    "Remuestreo k-fold CV:\n",
    "\n",
    "Utilizar k-fold cross-validation ayuda a obtener una estimación más robusta del rendimiento del modelo, mitigando el riesgo de sobreajuste y subajuste al evaluar el modelo en diferentes particiones del conjunto de datos.\n",
    "\n",
    "Grilla de Hiperparámetros:\n",
    "\n",
    "La búsqueda en grilla permite explorar sistemáticamente las combinaciones de los hiperparámetros laplace, usekernel y adjust para encontrar los valores que optimizan el rendimiento del modelo. Esta optimización es crucial para mejorar la precisión y la capacidad de generalización del modelo Naive Bayes."
   ]
  },
  {
   "cell_type": "markdown",
   "metadata": {},
   "source": [
    "El siguiente código muestra cómo entrenar un modelo Naive Bayes utilizando el paquete `naivebayes` con remuestreo k-fold cross-validation y una grilla de hiperparámetros."
   ]
  },
  {
   "cell_type": "code",
   "execution_count": 67,
   "metadata": {
    "vscode": {
     "languageId": "r"
    }
   },
   "outputs": [
    {
     "data": {
      "text/plain": [
       "Naive Bayes \n",
       "\n",
       "26841 samples\n",
       "   33 predictor\n",
       "    2 classes: '0', '1' \n",
       "\n",
       "No pre-processing\n",
       "Resampling: Cross-Validated (5 fold) \n",
       "Summary of sample sizes: 21473, 21472, 21473, 21473, 21473 \n",
       "Resampling results across tuning parameters:\n",
       "\n",
       "  laplace  usekernel  adjust  Accuracy   Kappa      \n",
       "  0        FALSE      0.5     0.7622666  0.360051055\n",
       "  0        FALSE      1.0     0.7622666  0.360051055\n",
       "  0        FALSE      1.5     0.7622666  0.360051055\n",
       "  0        FALSE      2.0     0.7622666  0.360051055\n",
       "  0        FALSE      2.5     0.7622666  0.360051055\n",
       "  0        FALSE      3.0     0.7622666  0.360051055\n",
       "  0         TRUE      0.5     0.8511978  0.009679496\n",
       "  0         TRUE      1.0     0.8512350  0.010096310\n",
       "  0         TRUE      1.5     0.8512350  0.010096310\n",
       "  0         TRUE      2.0     0.8512350  0.010096310\n",
       "  0         TRUE      2.5     0.8512350  0.010096310\n",
       "  0         TRUE      3.0     0.8512350  0.010096310\n",
       "  1        FALSE      0.5     0.7622666  0.360051055\n",
       "  1        FALSE      1.0     0.7622666  0.360051055\n",
       "  1        FALSE      1.5     0.7622666  0.360051055\n",
       "  1        FALSE      2.0     0.7622666  0.360051055\n",
       "  1        FALSE      2.5     0.7622666  0.360051055\n",
       "  1        FALSE      3.0     0.7622666  0.360051055\n",
       "  1         TRUE      0.5     0.8511978  0.009679496\n",
       "  1         TRUE      1.0     0.8512350  0.010096310\n",
       "  1         TRUE      1.5     0.8512350  0.010096310\n",
       "  1         TRUE      2.0     0.8512350  0.010096310\n",
       "  1         TRUE      2.5     0.8512350  0.010096310\n",
       "  1         TRUE      3.0     0.8512350  0.010096310\n",
       "\n",
       "Accuracy was used to select the optimal model using the largest value.\n",
       "The final values used for the model were laplace = 0, usekernel = TRUE\n",
       " and adjust = 1."
      ]
     },
     "metadata": {},
     "output_type": "display_data"
    },
    {
     "data": {
      "image/png": "[encoded data removed]",
      "text/plain": [
       "plot without title"
      ]
     },
     "metadata": {
      "image/png": {
       "height": 420,
       "width": 420
      }
     },
     "output_type": "display_data"
    }
   ],
   "source": [
    "# Entrenamiento del modelo Naive Bayes con el paquete naivebayes\n",
    "# toma 25 segundos\n",
    "set.seed(12345)\n",
    "naive_bayes_fit <- train(\n",
    "  repay_fail ~ .,\n",
    "  data = loan_data_train,\n",
    "  method = \"naive_bayes\",\n",
    "  metric = \"Accuracy\",\n",
    "  trControl = cv,\n",
    "  tuneGrid = hyper_grid\n",
    ")\n",
    "\n",
    "# Resultados\n",
    "naive_bayes_fit\n",
    "ggplot(naive_bayes_fit)"
   ]
  },
  {
   "cell_type": "markdown",
   "metadata": {},
   "source": [
    "Visualización de los Resultados\n",
    "La imagen adjunta muestra la precisión (Accuracy) para las diferentes combinaciones de los parametros laplace, usekernel y adjust.\n",
    "\n",
    "El mejor modelo Naive Bayes fue seleccionado utilizando remuestreo k-fold cross-validation y una grilla de hiperparámetros. Los parámetros óptimos fueron laplace = 0, usekernel = TRUE y adjust = 1, logrando una precisión de 0.8512350. La visualización de los resultados ayuda a entender cómo cada combinación de parámetros afecta la precisión del modelo."
   ]
  },
  {
   "cell_type": "markdown",
   "metadata": {},
   "source": [
    "El siguiente código muestra cómo evaluar el mejor modelo Naive Bayes utilizando los parámetros óptimos encontrados (`laplace = 0`, `usekernel = TRUE`, `adjust = 1.0`). La evaluación se realiza utilizando la métrica de precisión (accuracy)."
   ]
  },
  {
   "cell_type": "code",
   "execution_count": 68,
   "metadata": {
    "vscode": {
     "languageId": "r"
    }
   },
   "outputs": [],
   "source": [
    "# Best Model - Accuracy\n",
    "set.seed(12345)\n",
    "nb_acc <- naive_bayes(\n",
    "  repay_fail ~ .,\n",
    "  data = loan_data_train,\n",
    "  laplace = 0,\n",
    "  usekernel = TRUE,\n",
    "  adjust = 1.0\n",
    ")"
   ]
  },
  {
   "cell_type": "code",
   "execution_count": 69,
   "metadata": {
    "vscode": {
     "languageId": "r"
    }
   },
   "outputs": [
    {
     "data": {
      "text/plain": [
       "          Reference\n",
       "Prediction    0    1\n",
       "         0 9782 1706\n",
       "         1    0   16"
      ]
     },
     "metadata": {},
     "output_type": "display_data"
    },
    {
     "data": {
      "text/html": [
       "<strong>Accuracy:</strong> 0.851703755215577"
      ],
      "text/latex": [
       "\\textbf{Accuracy:} 0.851703755215577"
      ],
      "text/markdown": [
       "**Accuracy:** 0.851703755215577"
      ],
      "text/plain": [
       " Accuracy \n",
       "0.8517038 "
      ]
     },
     "metadata": {},
     "output_type": "display_data"
    }
   ],
   "source": [
    "# Predicciones\n",
    "nb_acc_predictions <- predict(\n",
    "  nb_acc,\n",
    "  loan_data_test[, colnames(loan_data_test) != \"repay_fail\"],\n",
    "  type = \"class\"\n",
    ")\n",
    "\n",
    "# Resultados\n",
    "results <- confusionMatrix(nb_acc_predictions, loan_data_test$repay_fail)\n",
    "results$table\n",
    "results$overall[names(results$overall) == \"Accuracy\"]"
   ]
  },
  {
   "cell_type": "markdown",
   "metadata": {},
   "source": [
    "Matriz de Confusión:\n",
    "\n",
    "La matriz de confusión muestra la cantidad de verdaderos negativos, falsos negativos, verdaderos positivos y falsos positivos:\n",
    "- 9782 verdaderos negativos (TN)\n",
    "- 1706 falsos negativos (FN)\n",
    "- 0 falsos positivos (FP)\n",
    "- 16 verdaderos positivos (TP)\n",
    "\n",
    "Precisión (Accuracy):\n",
    "\n",
    "La precisión es una métrica que mide la proporción de predicciones correctas sobre el total de predicciones realizadas.\n",
    "\n",
    "El mejor modelo Naive Bayes, configurado con los parámetros óptimos laplace = 0, usekernel = TRUE y adjust = 1.0, logra una precisión de 0.8517 en el conjunto de prueba."
   ]
  },
  {
   "cell_type": "markdown",
   "metadata": {},
   "source": [
    "2.2 Evaluacion del modelo mediante ROC, teniendo como output un vector de probabilidades"
   ]
  },
  {
   "cell_type": "code",
   "execution_count": 70,
   "metadata": {
    "vscode": {
     "languageId": "r"
    }
   },
   "outputs": [],
   "source": [
    "# Me aseguro de que los niveles de repay_fail sean nombres de variables válidos\n",
    "loan_data_train$repay_fail <- make.names(as.factor(loan_data_train$repay_fail))\n",
    "loan_data_test$repay_fail <- make.names(as.factor(loan_data_test$repay_fail))"
   ]
  },
  {
   "cell_type": "markdown",
   "metadata": {},
   "source": [
    "El siguiente código configura la estrategia de remuestreo k-fold cross-validation con probabilidades de clase y una grilla de hiperparámetros para entrenar un modelo Naive Bayes con el paquete `naivebayes`."
   ]
  },
  {
   "cell_type": "code",
   "execution_count": 71,
   "metadata": {
    "vscode": {
     "languageId": "r"
    }
   },
   "outputs": [],
   "source": [
    "# Estrategia\n",
    "cv <- trainControl(method = \"cv\", number = 5, classProbs = TRUE,\n",
    "                   summaryFunction = twoClassSummary)\n",
    "\n",
    "# Parámetros\n",
    "hyper_grid <- expand.grid(\n",
    "  laplace = c(0, 1),\n",
    "  usekernel = c(TRUE, FALSE),\n",
    "  adjust = seq(0.5, 3, by = 0.5)\n",
    ")"
   ]
  },
  {
   "cell_type": "markdown",
   "metadata": {},
   "source": [
    "Estrategia de Remuestreo:\n",
    "\n",
    "- trainControl(method = \"cv\", number = 5, classProbs = TRUE, summaryFunction = twoClassSummary) establece la estrategia de remuestreo k-fold cross-validation con 5 particiones.\n",
    "- classProbs = TRUE indica que se calcularán las probabilidades de clase.\n",
    "- summaryFunction = twoClassSummary especifica que se utilizará la función de resumen twoClassSummary, que calcula métricas como el área bajo la curva ROC (AUC), sensibilidad y especificidad.\n",
    "Parámetros:\n",
    "\n",
    "- expand.grid(laplace = c(0, 1), usekernel = c(TRUE, FALSE), adjust = seq(0.5, 3, by = 0.5)) crea una grilla de hiperparámetros que especifica las combinaciones de valores posibles para laplace, usekernel y adjust. Esta grilla será utilizada para buscar los mejores valores de estos parámetros durante el entrenamiento del modelo:\n",
    "\n",
    "- laplace: Suavizado de Laplace, con valores 0 y 1.\n",
    "- usekernel: Uso de kernel para estimar las densidades de probabilidad, con valores TRUE y FALSE.\n",
    "- adjust: Parámetro de ajuste para la estimación del kernel, con valores en el rango de 0.5 a 3 en incrementos de 0.5."
   ]
  },
  {
   "cell_type": "markdown",
   "metadata": {},
   "source": [
    "El siguiente código muestra cómo entrenar un modelo Naive Bayes utilizando el paquete `naivebayes` con remuestreo k-fold cross-validation y una grilla de hiperparámetros. La métrica de evaluación utilizada es el área bajo la curva ROC (AUC)."
   ]
  },
  {
   "cell_type": "code",
   "execution_count": 72,
   "metadata": {
    "vscode": {
     "languageId": "r"
    }
   },
   "outputs": [
    {
     "data": {
      "text/plain": [
       "Naive Bayes \n",
       "\n",
       "26841 samples\n",
       "   33 predictor\n",
       "    2 classes: 'X0', 'X1' \n",
       "\n",
       "No pre-processing\n",
       "Resampling: Cross-Validated (5 fold) \n",
       "Summary of sample sizes: 21473, 21472, 21473, 21473, 21473 \n",
       "Resampling results across tuning parameters:\n",
       "\n",
       "  laplace  usekernel  adjust  ROC        Sens       Spec       \n",
       "  0        FALSE      0.5     0.8479977  0.7620485  0.763504086\n",
       "  0        FALSE      1.0     0.8479977  0.7620485  0.763504086\n",
       "  0        FALSE      1.5     0.8479977  0.7620485  0.763504086\n",
       "  0        FALSE      2.0     0.8479977  0.7620485  0.763504086\n",
       "  0        FALSE      2.5     0.8479977  0.7620485  0.763504086\n",
       "  0        FALSE      3.0     0.8479977  0.7620485  0.763504086\n",
       "  0         TRUE      0.5     0.8465190  1.0000000  0.005725420\n",
       "  0         TRUE      1.0     0.8465190  1.0000000  0.005974176\n",
       "  0         TRUE      1.5     0.8465190  1.0000000  0.005974176\n",
       "  0         TRUE      2.0     0.8465190  1.0000000  0.005974176\n",
       "  0         TRUE      2.5     0.8465190  1.0000000  0.005974176\n",
       "  0         TRUE      3.0     0.8465303  1.0000000  0.005974176\n",
       "  1        FALSE      0.5     0.8479977  0.7620485  0.763504086\n",
       "  1        FALSE      1.0     0.8479977  0.7620485  0.763504086\n",
       "  1        FALSE      1.5     0.8479977  0.7620485  0.763504086\n",
       "  1        FALSE      2.0     0.8479977  0.7620485  0.763504086\n",
       "  1        FALSE      2.5     0.8479977  0.7620485  0.763504086\n",
       "  1        FALSE      3.0     0.8479977  0.7620485  0.763504086\n",
       "  1         TRUE      0.5     0.8465190  1.0000000  0.005725420\n",
       "  1         TRUE      1.0     0.8465190  1.0000000  0.005974176\n",
       "  1         TRUE      1.5     0.8465190  1.0000000  0.005974176\n",
       "  1         TRUE      2.0     0.8465190  1.0000000  0.005974176\n",
       "  1         TRUE      2.5     0.8465190  1.0000000  0.005974176\n",
       "  1         TRUE      3.0     0.8465303  1.0000000  0.005974176\n",
       "\n",
       "ROC was used to select the optimal model using the largest value.\n",
       "The final values used for the model were laplace = 0, usekernel = FALSE\n",
       " and adjust = 0.5."
      ]
     },
     "metadata": {},
     "output_type": "display_data"
    },
    {
     "data": {
      "image/png": "[encoded data removed]",
      "text/plain": [
       "plot without title"
      ]
     },
     "metadata": {
      "image/png": {
       "height": 420,
       "width": 420
      }
     },
     "output_type": "display_data"
    }
   ],
   "source": [
    "# Entrenamiento\n",
    "set.seed(12345)\n",
    "naive_bayes_fit <- train(\n",
    "  repay_fail ~ .,\n",
    "  data = loan_data_train,\n",
    "  method = \"naive_bayes\",\n",
    "  metric = \"ROC\",\n",
    "  trControl = cv,\n",
    "  tuneGrid = hyper_grid\n",
    ")\n",
    "\n",
    "naive_bayes_fit\n",
    "ggplot(naive_bayes_fit)"
   ]
  },
  {
   "cell_type": "markdown",
   "metadata": {},
   "source": [
    "Visualización de los Resultados\n",
    "\n",
    "La imagen adjunta muestra la AUC (ROC) para las diferentes combinaciones de los hiperparámetros laplace, usekernel y adjust.\n",
    "\n",
    "El mejor modelo Naive Bayes fue seleccionado utilizando remuestreo k-fold cross-validation y una grilla de hiperparámetros. Los parámetros óptimos fueron laplace = 0, usekernel = FALSE y adjust = 0.5, logrando una AUC de 0.8479977. "
   ]
  },
  {
   "cell_type": "markdown",
   "metadata": {},
   "source": [
    "El siguiente código muestra cómo evaluar el mejor modelo Naive Bayes utilizando los parámetros óptimos (`laplace = 0`, `usekernel = FALSE`, `adjust = 0.5`) y la métrica ROC. La evaluación se realiza utilizando las probabilidades de clase."
   ]
  },
  {
   "cell_type": "code",
   "execution_count": 73,
   "metadata": {
    "vscode": {
     "languageId": "r"
    }
   },
   "outputs": [],
   "source": [
    "# Best Model - ROC\n",
    "set.seed(12345)\n",
    "nb_roc <- naive_bayes(\n",
    "  repay_fail ~ .,\n",
    "  data = loan_data_train,\n",
    "  laplace = 0,\n",
    "  usekernel = FALSE,\n",
    "  adjust = 0.5\n",
    ")"
   ]
  },
  {
   "cell_type": "code",
   "execution_count": 74,
   "metadata": {
    "vscode": {
     "languageId": "r"
    }
   },
   "outputs": [
    {
     "data": {
      "image/png": "[encoded data removed]",
      "text/plain": [
       "Plot with title \"ROC curve\""
      ]
     },
     "metadata": {
      "image/png": {
       "height": 420,
       "width": 420
      }
     },
     "output_type": "display_data"
    }
   ],
   "source": [
    "# Predicciones de probabilidad\n",
    "nb_roc_prob <- predict(\n",
    "  nb_roc,\n",
    "  loan_data_test[, colnames(loan_data_test) != \"repay_fail\"],\n",
    "  type = \"prob\"\n",
    ")\n",
    "nb_roc_prob <- as.numeric(nb_roc_prob[, \"X1\"])\n",
    "\n",
    "# ROC\n",
    "nb_roc_curve <- roc(loan_data_test$repay_fail, nb_roc_prob,\n",
    "                    levels = c(\"X0\", \"X1\"), direction = \"<\")\n",
    "plot.roc(nb_roc_curve, main = \"ROC curve\", col = \"blue\", lwd = 2,\n",
    "         legacy.axes = TRUE, print.thres = \"best\", print.auc = TRUE)"
   ]
  },
  {
   "cell_type": "markdown",
   "metadata": {},
   "source": [
    "Interpretación de los Resultados\n",
    "\n",
    "Curva ROC:\n",
    "\n",
    "La curva ROC muestra la relación entre la sensibilidad (tasa de verdaderos positivos) y 1 - especificidad (tasa de falsos positivos) para diferentes umbrales de probabilidad.\n",
    "La AUC (Área Bajo la Curva) es 0.852, lo que indica un buen rendimiento del modelo en la discriminación entre las clases repay_fail = 0 y repay_fail = 1.\n",
    "\n",
    "Umbral de Corte:\n",
    "\n",
    "El mejor umbral de corte es 0.422, que proporciona un buen equilibrio entre sensibilidad y especificidad. Este valor es crucial para determinar a partir de qué probabilidad se clasificará un cliente como de alto riesgo de no pago.\n",
    "Conclusión\n",
    "El mejor modelo Naive Bayes, configurado con los parámetros óptimos laplace = 0, usekernel = FALSE y adjust = 0.5, logra una AUC de 0.852 en el conjunto de prueba.\n",
    "\n",
    "Implicaciones para Predecir el No pago de Préstamos\n",
    "\n",
    "AUC de 0.852: Un AUC de 0.852 sugiere que el modelo tiene una alta capacidad para distinguir entre los clientes que fallarán en el pago del préstamo y aquellos que no lo harán. Este valor indica un buen rendimiento del modelo y una capacidad efectiva para identificar el riesgo de no pago.\n",
    "\n",
    "Umbral de Corte de 0.422: El umbral de corte de 0.422 significa que cualquier cliente con una probabilidad de no pago mayor o igual a 0.422 será clasificado como de alto riesgo. Esto ayuda a la institución financiera a tomar decisiones informadas sobre la aprobación de préstamos y la gestión del riesgo, enfocándose en medidas preventivas para clientes con mayor probabilidad de incumplimiento."
   ]
  },
  {
   "cell_type": "markdown",
   "metadata": {},
   "source": [
    "El siguiente código muestra cómo calcular el punto de corte óptimo basado en la suma de sensibilidades y especificidades, convertir las probabilidades a clases binarias usando este punto de corte, y evaluar el modelo Naive Bayes utilizando la matriz de confusión."
   ]
  },
  {
   "cell_type": "code",
   "execution_count": 75,
   "metadata": {
    "vscode": {
     "languageId": "r"
    }
   },
   "outputs": [],
   "source": [
    "# Calculo el punto de corte óptimo basado en la suma\n",
    "# de sensibilidades y especificidades\n",
    "aux <- nb_roc_curve$sensitivities + nb_roc_curve$specificities\n",
    "corte <- nb_roc_curve$thresholds[which(aux == max(aux))]\n",
    "\n",
    "# Convierto las probabilidades a clases binarias usando el punto de corte óptimo\n",
    "nb_roc_class <- ifelse(nb_roc_prob < corte, 0, 1)\n",
    "nb_roc_class <- factor(nb_roc_class, levels = c(0, 1), labels = c(\"X0\", \"X1\"))"
   ]
  },
  {
   "cell_type": "code",
   "execution_count": 76,
   "metadata": {
    "vscode": {
     "languageId": "r"
    }
   },
   "outputs": [
    {
     "data": {
      "text/plain": [
       "          Reference\n",
       "Prediction   X0   X1\n",
       "        X0 7479  396\n",
       "        X1 2303 1326"
      ]
     },
     "metadata": {},
     "output_type": "display_data"
    },
    {
     "data": {
      "text/html": [
       "1.53460241629901"
      ],
      "text/latex": [
       "1.53460241629901"
      ],
      "text/markdown": [
       "1.53460241629901"
      ],
      "text/plain": [
       "[1] 1.534602"
      ]
     },
     "metadata": {},
     "output_type": "display_data"
    }
   ],
   "source": [
    "# Me aseguro que `loan_data_test$repay_fail` tenga los mismos niveles\n",
    "loan_data_test$repay_fail <- factor(loan_data_test$repay_fail,\n",
    "                                    levels = c(\"X0\", \"X1\"))\n",
    "\n",
    "# Resultados\n",
    "results <- confusionMatrix(nb_roc_class, loan_data_test$repay_fail)\n",
    "results$table\n",
    "sensitivity(nb_roc_class, loan_data_test$repay_fail) +\n",
    "  specificity(nb_roc_class, loan_data_test$repay_fail)"
   ]
  },
  {
   "cell_type": "markdown",
   "metadata": {},
   "source": [
    "Matriz de Confusión:\n",
    "\n",
    "La matriz de confusión muestra la cantidad de verdaderos negativos, falsos negativos, verdaderos positivos y falsos positivos:\n",
    "\n",
    "- 7479 verdaderos negativos (TN)\n",
    "- 396 falsos negativos (FN)\n",
    "- 2303 falsos positivos (FP)\n",
    "- 1326 verdaderos positivos (TP)\n",
    "- Sensibilidad y Especificidad:\n",
    "\n",
    "La sensibilidad (True Positive Rate) es la proporción de verdaderos positivos correctamente identificados por el modelo.\n",
    "\n",
    "La especificidad (True Negative Rate) es la proporción de verdaderos negativos correctamente identificados por el modelo.\n",
    "\n",
    "La suma de la sensibilidad y la especificidad es 1.53460241629901, lo cual indica un buen equilibrio entre ambas métricas.\n",
    "\n",
    "El mejor modelo Naive Bayes, evaluado mediante la curva ROC y ajustado con el punto de corte óptimo, logra un buen rendimiento en términos de sensibilidad y especificidad.\n",
    "\n",
    "Implicaciones para Predecir el No Pago de Préstamos\n",
    "\n",
    "Suma de Sensibilidad y Especificidad: Una suma de 1.5346 indica un buen equilibrio entre la capacidad del modelo para identificar correctamente tanto los clientes que no pagarán (alta sensibilidad) como aquellos que sí pagarán (alta especificidad)."
   ]
  },
  {
   "cell_type": "markdown",
   "metadata": {},
   "source": [
    "Conclusion de modelo naive bayes\n",
    "\n",
    "**Interpretación:**\n",
    "\n",
    "- **AUC de 0.852** indica un rendimiento igual al del primer modelo (paquete e1071) en términos de capacidad discriminativa.\n",
    "- **Umbral de Corte de 0.422** proporciona el mismo umbral óptimo que en la primera forma, asegurando consistencia en la clasificación.\n",
    "- **Specificity + Sensitivity:** 1.5346 indica un equilibrio adecuado igual al primer modelo (paquete e1071).\n",
    "\n",
    "**Comparación de Resultados:**\n",
    "\n",
    "1. **Paquete `e1071`, Método `naiveBayes` sin Configuración de Parámetros:**\n",
    "   - **Precisión (Accuracy):** 0.7691\n",
    "   - **AUC:** 0.852\n",
    "   - **Specificity + Sensitivity:** 1.5346\n",
    "\n",
    "   Este método muestra un rendimiento moderado con una precisión aceptable, pero con una cantidad significativa de falsos positivos y falsos negativos. Aunque la AUC es alta, indicando buena capacidad discriminativa, el modelo sufre de imprecisión en la clasificación de clientes.\n",
    "\n",
    "2. **Paquete `naivebayes` con Configuración de Parámetros:**\n",
    "   - **Precisión (Accuracy):** 0.8517\n",
    "   - **AUC:** 0.852\n",
    "   - **Specificity + Sensitivity:** 1.5346\n",
    "\n",
    "   Este método muestra una mejora significativa en la precisión, alcanzando el 85% de exactitud. Sin embargo, aunque elimina los falsos positivos, aumenta considerablemente los falsos negativos, lo cual es problemático para identificar clientes de alto riesgo.\n",
    "\n",
    "- Ambos modelos muestran una alta capacidad discriminativa (AUC de 0.852), pero el modelo con configuración de parámetros (`naivebayes`) proporciona una mejor precisión general.\n",
    "- La elección del modelo dependerá de la prioridad de la institución financiera. Si se busca minimizar los falsos positivos para no rechazar clientes fiables, el segundo modelo es más adecuado. Sin embargo, si es crucial identificar la mayor cantidad posible de clientes de alto riesgo, se debe considerar mejorar el balance entre falsos negativos y verdaderos positivos."
   ]
  },
  {
   "cell_type": "markdown",
   "metadata": {},
   "source": [
    "Análisis Comparativo y Conclusiones\n",
    "\n",
    "k-NN de Clasificacion VS Naive Bayes\n",
    "\n",
    "En el siguiente análisis compararemos los modelos Naive Bayes y k-NN en el contexto del problema de predecir qué clientes fallarán en el pago de sus préstamos. Evaluaremos ambos modelos usando dos configuraciones: una con parámetros subóptimos definidos manualmente y otra con parámetros optimizados mediante k-fold cross-validation y búsqueda en grilla.\n",
    "\n",
    "1. Precisión (Accuracy):\n",
    "\n",
    "- Naive Bayes (Primera Configuración): 0.769\n",
    "- Naive Bayes (Segunda Configuración): 0.852\n",
    "- k-NN (Primera Configuración): 0.908\n",
    "- k-NN (Segunda Configuración): 0.920\n",
    "\n",
    "Conclusión: El modelo k-NN tiene una mayor precisión que Naive Bayes en ambas configuraciones, mostrando que k-NN es más eficaz para este conjunto de datos.\n",
    "\n",
    "2. Evaluación mediante ROC y AUC:\n",
    "\n",
    "Naive Bayes (Primera Configuración):\n",
    "- AUC: 0.852\n",
    "- Suma de Sensibilidad + Especificidad: 1.534\n",
    "\n",
    "Naive Bayes (Segunda Configuración):\n",
    "- AUC: 0.852\n",
    "- Suma de Sensibilidad + Especificidad: 1.534\n",
    "\n",
    "k-NN (Primera Configuración):\n",
    "- AUC: 0.892\n",
    "- Suma de Sensibilidad + Especificidad: 1.653\n",
    "\n",
    "k-NN (Segunda Configuración):\n",
    "- AUC: 0.909\n",
    "- Suma de Sensibilidad + Especificidad: 1.676\n",
    "\n",
    "Conclusión: El modelo k-NN no solo muestra una mayor precisión sino también un mejor rendimiento en términos de AUC y la suma de sensibilidad y especificidad, lo que indica una mejor capacidad para distinguir entre clientes que fallarán y no fallarán en el pago de sus préstamos.\n",
    "\n",
    "3. Comparación de Matrices de Confusión:\n",
    "\n",
    "Naive Bayes (Primera Configuración):\n",
    "- True Negatives (TN): 7536\n",
    "- False Positives (FP): 2246\n",
    "- False Negatives (FN): 410\n",
    "- True Positives (TP): 1312\n",
    "\n",
    "Naive Bayes (Segunda Configuración):\n",
    "- True Negatives (TN): 9782\n",
    "- False Positives (FP): 0\n",
    "- False Negatives (FN): 1706\n",
    "- True Positives (TP): 16\n",
    "\n",
    "k-NN (Primera Configuración):\n",
    "- True Negatives (TN): 9395\n",
    "- False Positives (FP): 387\n",
    "- False Negatives (FN): 674\n",
    "- True Positives (TP): 1048\n",
    "\n",
    "k-NN (Segunda Configuración):\n",
    "- True Negatives (TN): 9571\n",
    "- False Positives (FP): 211\n",
    "- False Negatives (FN): 704\n",
    "- True Positives (TP): 1018\n",
    "\n",
    "Conclusión: La segunda configuración del modelo k-NN reduce significativamente los falsos positivos en comparación con Naive Bayes, lo cual es crucial en el contexto de predecir fallos en pagos de préstamos.\n",
    "\n",
    "Conclusiones Finales\n",
    "\n",
    "- En el contexto del problema de predecir si los clientes fallarán en el pago de sus préstamos, el modelo k-NN ha demostrado ser superior al modelo Naive Bayes en términos de precisión, AUC, ROC, Sensibilidad + Especificidad y la capacidad de distinguir entre clases. La optimización de los hiperparámetros mediante remuestreo k-fold cross-validation y búsqueda en grilla ha mejorado significativamente el rendimiento de ambos modelos, pero k-NN sigue superando a Naive Bayes."
   ]
  }
 ],
 "metadata": {
  "kernelspec": {
   "display_name": "R",
   "language": "R",
   "name": "ir"
  },
  "language_info": {
   "codemirror_mode": "r",
   "file_extension": ".r",
   "mimetype": "text/x-r-source",
   "name": "R",
   "pygments_lexer": "r",
   "version": "4.4.0"
  }
 },
 "nbformat": 4,
 "nbformat_minor": 2
}
