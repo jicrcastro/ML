{
 "cells": [
  {
   "cell_type": "code",
   "execution_count": 30,
   "metadata": {
    "vscode": {
     "languageId": "r"
    }
   },
   "outputs": [],
   "source": [
    "# importacion de librerias\n",
    "library(ggplot2)\n",
    "library(dplyr)\n",
    "library(readr)\n",
    "library(caret)\n",
    "library(rsample)\n",
    "library(kknn)"
   ]
  },
  {
   "cell_type": "markdown",
   "metadata": {},
   "source": [
    "Estas librerías son fundamentales para cumplir con los objetivos del trabajo, que incluyen desde la importación y manipulación de datos hasta la construcción, evaluación y visualización de modelos de machine learning."
   ]
  },
  {
   "cell_type": "markdown",
   "metadata": {},
   "source": [
    "La siguiente celda realiza la importación del conjunto de datos \"Daegu_Real_Estate_v2data.csv\" y se convierte en un data frame. Este conjunto de datos contiene información sobre transacciones de apartamentos en Daegu, Corea del Sur, entre agosto de 2007 y agosto de 2017."
   ]
  },
  {
   "cell_type": "code",
   "execution_count": 2,
   "metadata": {
    "vscode": {
     "languageId": "r"
    }
   },
   "outputs": [
    {
     "name": "stderr",
     "output_type": "stream",
     "text": [
      "\u001b[1mRows: \u001b[22m\u001b[34m5891\u001b[39m \u001b[1mColumns: \u001b[22m\u001b[34m30\u001b[39m\n",
      "\u001b[36m──\u001b[39m \u001b[1mColumn specification\u001b[22m \u001b[36m────────────────────────────────────────────────────────\u001b[39m\n",
      "\u001b[1mDelimiter:\u001b[22m \",\"\n",
      "\u001b[31mchr\u001b[39m  (6): HallwayType, HeatingType, AptManageType, TimeToBusStop, TimeToSubw...\n",
      "\u001b[32mdbl\u001b[39m (24): SalePrice, YearBuilt, YrSold, MonthSold, Size(sqf), Floor, N_Parki...\n",
      "\n",
      "\u001b[36mℹ\u001b[39m Use `spec()` to retrieve the full column specification for this data.\n",
      "\u001b[36mℹ\u001b[39m Specify the column types or set `show_col_types = FALSE` to quiet this message.\n"
     ]
    }
   ],
   "source": [
    "base_daegu <- read_csv(\"Daegu_Real_Estate_v2data.csv\")\n",
    "base_daegu <- as.data.frame(base_daegu)"
   ]
  },
  {
   "cell_type": "markdown",
   "metadata": {},
   "source": [
    "Resultado de la Importación\n",
    "\n",
    "Filas: 5891\n",
    "Columnas: 30\n",
    "\n",
    "Las columnas incluyen una mezcla de variables categóricas (6) y numéricas (24). Algunas de las variables importantes son:\n",
    "\n",
    "- `SalePrice`: Precio de venta de la vivienda (variable objetivo).\n",
    "- `YearBuilt`: Año de construcción.\n",
    "- `YrSold`: Año de venta.\n",
    "- `MonthSold`: Mes de venta.\n",
    "- `Size(sqf)`: Tamaño en pies cuadrados.\n",
    "- `Floor`: Piso del apartamento.\n",
    "- `N_Parkinglot(Ground)`, `N_Parkinglot(Basement)`: Número de estacionamientos en superficie y subterráneos.\n",
    "- `TimeToBusStop`, `TimeToSubway`: Tiempo al paradero de bus y estación de metro.\n",
    "\n",
    "Variables categóricas como `HallwayType`, `HeatingType`, y `AptManageType`."
   ]
  },
  {
   "cell_type": "markdown",
   "metadata": {},
   "source": [
    "En la siguiente celda se seleccionan las columnas categóricas del conjunto de datos y se calculan las frecuencias de las diferentes clases presentes en cada una de estas variables. Esto es crucial para entender la distribución de las categorías y cómo están representadas en el conjunto de datos."
   ]
  },
  {
   "cell_type": "code",
   "execution_count": 3,
   "metadata": {
    "vscode": {
     "languageId": "r"
    }
   },
   "outputs": [
    {
     "data": {
      "text/plain": [
       "$HallwayType\n",
       "\n",
       "corridor    mixed terraced \n",
       "     637     1690     3564 \n",
       "\n",
       "$HeatingType\n",
       "\n",
       "   central_heating individual_heating \n",
       "               300               5591 \n",
       "\n",
       "$AptManageType\n",
       "\n",
       "management_in_trust     self_management \n",
       "               5542                 349 \n",
       "\n",
       "$TimeToBusStop\n",
       "\n",
       "     0~5min 10min~15min  5min~10min \n",
       "       4509          55        1327 \n",
       "\n",
       "$TimeToSubway\n",
       "\n",
       "            0-5min        10min~15min        15min~20min         5min~10min \n",
       "              2759                806                953               1135 \n",
       "no_bus_stop_nearby \n",
       "               238 \n",
       "\n",
       "$SubwayStation\n",
       "\n",
       "              Bangoge            Banwoldang      Chil-sung-market \n",
       "                  737                   748                   115 \n",
       "                Daegu Kyungbuk_uni_hospital             Myung-duk \n",
       "                   85                  1644                  1507 \n",
       "     no_subway_nearby               Sin-nam \n",
       "                  404                   651 \n"
      ]
     },
     "metadata": {},
     "output_type": "display_data"
    }
   ],
   "source": [
    "#selecciono las columnas categoricas\n",
    "col_cate <- c(\"HallwayType\", \"HeatingType\", \"AptManageType\",\n",
    "              \"TimeToBusStop\", \"TimeToSubway\", \"SubwayStation\")\n",
    "valores_por_clase <- lapply(base_daegu[col_cate], table)\n",
    "valores_por_clase"
   ]
  },
  {
   "cell_type": "markdown",
   "metadata": {},
   "source": [
    "La siguiente celda realiza la conversión de las variables categóricas a variables dummies, un paso esencial para el preprocesamiento de datos antes de aplicar el algoritmo k-NN de regresión."
   ]
  },
  {
   "cell_type": "code",
   "execution_count": 4,
   "metadata": {
    "vscode": {
     "languageId": "r"
    }
   },
   "outputs": [
    {
     "data": {
      "text/html": [
       "<table class=\"dataframe\">\n",
       "<caption>A data.frame: 6 × 17</caption>\n",
       "<thead>\n",
       "\t<tr><th></th><th scope=col>HallwayTypemixed</th><th scope=col>HallwayTypeterraced</th><th scope=col>HeatingTypeindividual_heating</th><th scope=col>AptManageTypeself_management</th><th scope=col>TimeToBusStop10min.15min</th><th scope=col>TimeToBusStop5min.10min</th><th scope=col>TimeToSubway10min.15min</th><th scope=col>TimeToSubway15min.20min</th><th scope=col>TimeToSubway5min.10min</th><th scope=col>TimeToSubwayno_bus_stop_nearby</th><th scope=col>SubwayStationBanwoldang</th><th scope=col>SubwayStationChil.sung.market</th><th scope=col>SubwayStationDaegu</th><th scope=col>SubwayStationKyungbuk_uni_hospital</th><th scope=col>SubwayStationMyung.duk</th><th scope=col>SubwayStationno_subway_nearby</th><th scope=col>SubwayStationSin.nam</th></tr>\n",
       "\t<tr><th></th><th scope=col>&lt;dbl&gt;</th><th scope=col>&lt;dbl&gt;</th><th scope=col>&lt;dbl&gt;</th><th scope=col>&lt;dbl&gt;</th><th scope=col>&lt;dbl&gt;</th><th scope=col>&lt;dbl&gt;</th><th scope=col>&lt;dbl&gt;</th><th scope=col>&lt;dbl&gt;</th><th scope=col>&lt;dbl&gt;</th><th scope=col>&lt;dbl&gt;</th><th scope=col>&lt;dbl&gt;</th><th scope=col>&lt;dbl&gt;</th><th scope=col>&lt;dbl&gt;</th><th scope=col>&lt;dbl&gt;</th><th scope=col>&lt;dbl&gt;</th><th scope=col>&lt;dbl&gt;</th><th scope=col>&lt;dbl&gt;</th></tr>\n",
       "</thead>\n",
       "<tbody>\n",
       "\t<tr><th scope=row>1</th><td>0</td><td>1</td><td>1</td><td>0</td><td>0</td><td>1</td><td>1</td><td>0</td><td>0</td><td>0</td><td>0</td><td>0</td><td>0</td><td>1</td><td>0</td><td>0</td><td>0</td></tr>\n",
       "\t<tr><th scope=row>2</th><td>0</td><td>0</td><td>1</td><td>1</td><td>0</td><td>0</td><td>0</td><td>0</td><td>1</td><td>0</td><td>0</td><td>0</td><td>1</td><td>0</td><td>0</td><td>0</td><td>0</td></tr>\n",
       "\t<tr><th scope=row>3</th><td>0</td><td>0</td><td>1</td><td>1</td><td>0</td><td>0</td><td>0</td><td>0</td><td>1</td><td>0</td><td>0</td><td>0</td><td>1</td><td>0</td><td>0</td><td>0</td><td>0</td></tr>\n",
       "\t<tr><th scope=row>4</th><td>0</td><td>1</td><td>1</td><td>0</td><td>0</td><td>0</td><td>0</td><td>0</td><td>0</td><td>0</td><td>0</td><td>0</td><td>0</td><td>0</td><td>0</td><td>0</td><td>1</td></tr>\n",
       "\t<tr><th scope=row>5</th><td>1</td><td>0</td><td>1</td><td>0</td><td>0</td><td>0</td><td>0</td><td>1</td><td>0</td><td>0</td><td>0</td><td>0</td><td>0</td><td>0</td><td>1</td><td>0</td><td>0</td></tr>\n",
       "\t<tr><th scope=row>6</th><td>0</td><td>0</td><td>1</td><td>0</td><td>0</td><td>1</td><td>1</td><td>0</td><td>0</td><td>0</td><td>0</td><td>0</td><td>0</td><td>0</td><td>1</td><td>0</td><td>0</td></tr>\n",
       "</tbody>\n",
       "</table>\n"
      ],
      "text/latex": [
       "A data.frame: 6 × 17\n",
       "\\begin{tabular}{r|lllllllllllllllll}\n",
       "  & HallwayTypemixed & HallwayTypeterraced & HeatingTypeindividual\\_heating & AptManageTypeself\\_management & TimeToBusStop10min.15min & TimeToBusStop5min.10min & TimeToSubway10min.15min & TimeToSubway15min.20min & TimeToSubway5min.10min & TimeToSubwayno\\_bus\\_stop\\_nearby & SubwayStationBanwoldang & SubwayStationChil.sung.market & SubwayStationDaegu & SubwayStationKyungbuk\\_uni\\_hospital & SubwayStationMyung.duk & SubwayStationno\\_subway\\_nearby & SubwayStationSin.nam\\\\\n",
       "  & <dbl> & <dbl> & <dbl> & <dbl> & <dbl> & <dbl> & <dbl> & <dbl> & <dbl> & <dbl> & <dbl> & <dbl> & <dbl> & <dbl> & <dbl> & <dbl> & <dbl>\\\\\n",
       "\\hline\n",
       "\t1 & 0 & 1 & 1 & 0 & 0 & 1 & 1 & 0 & 0 & 0 & 0 & 0 & 0 & 1 & 0 & 0 & 0\\\\\n",
       "\t2 & 0 & 0 & 1 & 1 & 0 & 0 & 0 & 0 & 1 & 0 & 0 & 0 & 1 & 0 & 0 & 0 & 0\\\\\n",
       "\t3 & 0 & 0 & 1 & 1 & 0 & 0 & 0 & 0 & 1 & 0 & 0 & 0 & 1 & 0 & 0 & 0 & 0\\\\\n",
       "\t4 & 0 & 1 & 1 & 0 & 0 & 0 & 0 & 0 & 0 & 0 & 0 & 0 & 0 & 0 & 0 & 0 & 1\\\\\n",
       "\t5 & 1 & 0 & 1 & 0 & 0 & 0 & 0 & 1 & 0 & 0 & 0 & 0 & 0 & 0 & 1 & 0 & 0\\\\\n",
       "\t6 & 0 & 0 & 1 & 0 & 0 & 1 & 1 & 0 & 0 & 0 & 0 & 0 & 0 & 0 & 1 & 0 & 0\\\\\n",
       "\\end{tabular}\n"
      ],
      "text/markdown": [
       "\n",
       "A data.frame: 6 × 17\n",
       "\n",
       "| <!--/--> | HallwayTypemixed &lt;dbl&gt; | HallwayTypeterraced &lt;dbl&gt; | HeatingTypeindividual_heating &lt;dbl&gt; | AptManageTypeself_management &lt;dbl&gt; | TimeToBusStop10min.15min &lt;dbl&gt; | TimeToBusStop5min.10min &lt;dbl&gt; | TimeToSubway10min.15min &lt;dbl&gt; | TimeToSubway15min.20min &lt;dbl&gt; | TimeToSubway5min.10min &lt;dbl&gt; | TimeToSubwayno_bus_stop_nearby &lt;dbl&gt; | SubwayStationBanwoldang &lt;dbl&gt; | SubwayStationChil.sung.market &lt;dbl&gt; | SubwayStationDaegu &lt;dbl&gt; | SubwayStationKyungbuk_uni_hospital &lt;dbl&gt; | SubwayStationMyung.duk &lt;dbl&gt; | SubwayStationno_subway_nearby &lt;dbl&gt; | SubwayStationSin.nam &lt;dbl&gt; |\n",
       "|---|---|---|---|---|---|---|---|---|---|---|---|---|---|---|---|---|---|\n",
       "| 1 | 0 | 1 | 1 | 0 | 0 | 1 | 1 | 0 | 0 | 0 | 0 | 0 | 0 | 1 | 0 | 0 | 0 |\n",
       "| 2 | 0 | 0 | 1 | 1 | 0 | 0 | 0 | 0 | 1 | 0 | 0 | 0 | 1 | 0 | 0 | 0 | 0 |\n",
       "| 3 | 0 | 0 | 1 | 1 | 0 | 0 | 0 | 0 | 1 | 0 | 0 | 0 | 1 | 0 | 0 | 0 | 0 |\n",
       "| 4 | 0 | 1 | 1 | 0 | 0 | 0 | 0 | 0 | 0 | 0 | 0 | 0 | 0 | 0 | 0 | 0 | 1 |\n",
       "| 5 | 1 | 0 | 1 | 0 | 0 | 0 | 0 | 1 | 0 | 0 | 0 | 0 | 0 | 0 | 1 | 0 | 0 |\n",
       "| 6 | 0 | 0 | 1 | 0 | 0 | 1 | 1 | 0 | 0 | 0 | 0 | 0 | 0 | 0 | 1 | 0 | 0 |\n",
       "\n"
      ],
      "text/plain": [
       "  HallwayTypemixed HallwayTypeterraced HeatingTypeindividual_heating\n",
       "1 0                1                   1                            \n",
       "2 0                0                   1                            \n",
       "3 0                0                   1                            \n",
       "4 0                1                   1                            \n",
       "5 1                0                   1                            \n",
       "6 0                0                   1                            \n",
       "  AptManageTypeself_management TimeToBusStop10min.15min TimeToBusStop5min.10min\n",
       "1 0                            0                        1                      \n",
       "2 1                            0                        0                      \n",
       "3 1                            0                        0                      \n",
       "4 0                            0                        0                      \n",
       "5 0                            0                        0                      \n",
       "6 0                            0                        1                      \n",
       "  TimeToSubway10min.15min TimeToSubway15min.20min TimeToSubway5min.10min\n",
       "1 1                       0                       0                     \n",
       "2 0                       0                       1                     \n",
       "3 0                       0                       1                     \n",
       "4 0                       0                       0                     \n",
       "5 0                       1                       0                     \n",
       "6 1                       0                       0                     \n",
       "  TimeToSubwayno_bus_stop_nearby SubwayStationBanwoldang\n",
       "1 0                              0                      \n",
       "2 0                              0                      \n",
       "3 0                              0                      \n",
       "4 0                              0                      \n",
       "5 0                              0                      \n",
       "6 0                              0                      \n",
       "  SubwayStationChil.sung.market SubwayStationDaegu\n",
       "1 0                             0                 \n",
       "2 0                             1                 \n",
       "3 0                             1                 \n",
       "4 0                             0                 \n",
       "5 0                             0                 \n",
       "6 0                             0                 \n",
       "  SubwayStationKyungbuk_uni_hospital SubwayStationMyung.duk\n",
       "1 1                                  0                     \n",
       "2 0                                  0                     \n",
       "3 0                                  0                     \n",
       "4 0                                  0                     \n",
       "5 0                                  1                     \n",
       "6 0                                  1                     \n",
       "  SubwayStationno_subway_nearby SubwayStationSin.nam\n",
       "1 0                             0                   \n",
       "2 0                             0                   \n",
       "3 0                             0                   \n",
       "4 0                             1                   \n",
       "5 0                             0                   \n",
       "6 0                             0                   "
      ]
     },
     "metadata": {},
     "output_type": "display_data"
    }
   ],
   "source": [
    "# Defino el objeto con las variables categóricas a convertir\n",
    "dv <- dummyVars(\"~ .\", data = base_daegu[, col_cate], fullRank = TRUE)\n",
    "# creo el diseño de la matriz\n",
    "design_matrix <- data.frame(predict(dv, newdata = base_daegu[, col_cate]))\n",
    "# veo el resultado\n",
    "head(design_matrix)"
   ]
  },
  {
   "cell_type": "markdown",
   "metadata": {},
   "source": [
    "1. Definición del Objeto `dummyVars`:\n",
    "\n",
    "- Se utiliza la función `dummyVars` del paquete `caret` para definir cómo se convertirán las variables categóricas.\n",
    "- La fórmula `\"~ .\"` indica que todas las columnas de `base_daegu[, col_cate]` (osea solo las columnas categoricas) serán transformadas.\n",
    "- El argumento `fullRank = TRUE` asegura que, para cada variable categórica con `N` clases, se generen `N-1` columnas dummy, evitando la multicolinealidad.\n",
    "\n",
    "2. Creación de la Matriz de Diseño:\n",
    "\n",
    "- Se usa la función `predict` para aplicar la transformación definida en `dv` a los datos categóricos originales.\n",
    "- El resultado es una matriz de diseño (`design_matrix`) con las variables categóricas convertidas a variables dummies.\n",
    "\n",
    "3. Visualización del Resultado:\n",
    "\n",
    "- `head(design_matrix)` muestra las primeras filas de la matriz de diseño resultante para verificar la conversión.\n",
    "\n",
    "Propósito\n",
    "\n",
    "La conversión de variables categóricas a variables dummies es necesaria porque los algoritmos de machine learning, como k-NN, no pueden manejar variables categóricas directamente. Las variables categóricas deben ser transformadas en un formato numérico adecuado para que el algoritmo pueda calcular las distancias correctamente.\n",
    "\n",
    "Conversión de Variables Categóricas\n",
    "\n",
    "Razonamiento:\n",
    "\n",
    "- Las variables categóricas contienen clases que representan diferentes estados o categorías. Para que estas variables puedan ser utilizadas en el cálculo de distancias, deben ser convertidas en una representación numérica.\n",
    "- La técnica de variables dummies asigna una columna binaria (0 o 1) para cada clase de la variable categórica, lo que permite representar la presencia o ausencia de una clase.\n",
    "\n",
    "N Clases a N-1 Columnas:\n",
    "\n",
    "- Si una variable categórica tiene N clases, se generan N-1 columnas dummies. Esto se hace para evitar la multicolinealidad, que ocurre cuando las variables predictoras están altamente correlacionadas entre sí.\n",
    "- Por ejemplo, si una variable tiene tres clases (A, B, C), se crean dos columnas: una para A y otra para B. La clase C puede ser inferida cuando ambas columnas tienen el valor 0.\n",
    "- Este enfoque garantiza que la información sobre la variable categórica esté completamente representada sin redundancias."
   ]
  },
  {
   "cell_type": "markdown",
   "metadata": {},
   "source": [
    "En la siguiente celda se realizan dos operaciones clave para preparar el conjunto de datos para el análisis posterior con el algoritmo k-NN, que son la eliminación de las columnas originales (las categoricas) y la union de la matriz de diseño con la base de datos original"
   ]
  },
  {
   "cell_type": "code",
   "execution_count": 5,
   "metadata": {
    "vscode": {
     "languageId": "r"
    }
   },
   "outputs": [
    {
     "data": {
      "text/html": [
       "<table class=\"dataframe\">\n",
       "<caption>A data.frame: 6 × 41</caption>\n",
       "<thead>\n",
       "\t<tr><th></th><th scope=col>SalePrice</th><th scope=col>YearBuilt</th><th scope=col>YrSold</th><th scope=col>MonthSold</th><th scope=col>Size(sqf)</th><th scope=col>Floor</th><th scope=col>N_Parkinglot(Ground)</th><th scope=col>N_Parkinglot(Basement)</th><th scope=col>N_APT</th><th scope=col>N_manager</th><th scope=col>⋯</th><th scope=col>TimeToSubway15min.20min</th><th scope=col>TimeToSubway5min.10min</th><th scope=col>TimeToSubwayno_bus_stop_nearby</th><th scope=col>SubwayStationBanwoldang</th><th scope=col>SubwayStationChil.sung.market</th><th scope=col>SubwayStationDaegu</th><th scope=col>SubwayStationKyungbuk_uni_hospital</th><th scope=col>SubwayStationMyung.duk</th><th scope=col>SubwayStationno_subway_nearby</th><th scope=col>SubwayStationSin.nam</th></tr>\n",
       "\t<tr><th></th><th scope=col>&lt;dbl&gt;</th><th scope=col>&lt;dbl&gt;</th><th scope=col>&lt;dbl&gt;</th><th scope=col>&lt;dbl&gt;</th><th scope=col>&lt;dbl&gt;</th><th scope=col>&lt;dbl&gt;</th><th scope=col>&lt;dbl&gt;</th><th scope=col>&lt;dbl&gt;</th><th scope=col>&lt;dbl&gt;</th><th scope=col>&lt;dbl&gt;</th><th scope=col>⋯</th><th scope=col>&lt;dbl&gt;</th><th scope=col>&lt;dbl&gt;</th><th scope=col>&lt;dbl&gt;</th><th scope=col>&lt;dbl&gt;</th><th scope=col>&lt;dbl&gt;</th><th scope=col>&lt;dbl&gt;</th><th scope=col>&lt;dbl&gt;</th><th scope=col>&lt;dbl&gt;</th><th scope=col>&lt;dbl&gt;</th><th scope=col>&lt;dbl&gt;</th></tr>\n",
       "</thead>\n",
       "<tbody>\n",
       "\t<tr><th scope=row>1</th><td>141592</td><td>2006</td><td>2007</td><td>8</td><td> 814</td><td>3</td><td>111</td><td>184</td><td>3</td><td>3</td><td>⋯</td><td>0</td><td>0</td><td>0</td><td>0</td><td>0</td><td>0</td><td>1</td><td>0</td><td>0</td><td>0</td></tr>\n",
       "\t<tr><th scope=row>2</th><td> 51327</td><td>1985</td><td>2007</td><td>8</td><td> 587</td><td>8</td><td> 80</td><td> 76</td><td>1</td><td>2</td><td>⋯</td><td>0</td><td>1</td><td>0</td><td>0</td><td>0</td><td>1</td><td>0</td><td>0</td><td>0</td><td>0</td></tr>\n",
       "\t<tr><th scope=row>3</th><td> 48672</td><td>1985</td><td>2007</td><td>8</td><td> 587</td><td>6</td><td> 80</td><td> 76</td><td>1</td><td>2</td><td>⋯</td><td>0</td><td>1</td><td>0</td><td>0</td><td>0</td><td>1</td><td>0</td><td>0</td><td>0</td><td>0</td></tr>\n",
       "\t<tr><th scope=row>4</th><td>380530</td><td>2006</td><td>2007</td><td>8</td><td>2056</td><td>8</td><td>249</td><td>536</td><td>6</td><td>5</td><td>⋯</td><td>0</td><td>0</td><td>0</td><td>0</td><td>0</td><td>0</td><td>0</td><td>0</td><td>0</td><td>1</td></tr>\n",
       "\t<tr><th scope=row>5</th><td>221238</td><td>1993</td><td>2007</td><td>8</td><td>1761</td><td>3</td><td>523</td><td>536</td><td>8</td><td>8</td><td>⋯</td><td>1</td><td>0</td><td>0</td><td>0</td><td>0</td><td>0</td><td>0</td><td>1</td><td>0</td><td>0</td></tr>\n",
       "\t<tr><th scope=row>6</th><td> 35840</td><td>1992</td><td>2007</td><td>8</td><td> 355</td><td>5</td><td>200</td><td>  0</td><td>3</td><td>5</td><td>⋯</td><td>0</td><td>0</td><td>0</td><td>0</td><td>0</td><td>0</td><td>0</td><td>1</td><td>0</td><td>0</td></tr>\n",
       "</tbody>\n",
       "</table>\n"
      ],
      "text/latex": [
       "A data.frame: 6 × 41\n",
       "\\begin{tabular}{r|lllllllllllllllllllll}\n",
       "  & SalePrice & YearBuilt & YrSold & MonthSold & Size(sqf) & Floor & N\\_Parkinglot(Ground) & N\\_Parkinglot(Basement) & N\\_APT & N\\_manager & ⋯ & TimeToSubway15min.20min & TimeToSubway5min.10min & TimeToSubwayno\\_bus\\_stop\\_nearby & SubwayStationBanwoldang & SubwayStationChil.sung.market & SubwayStationDaegu & SubwayStationKyungbuk\\_uni\\_hospital & SubwayStationMyung.duk & SubwayStationno\\_subway\\_nearby & SubwayStationSin.nam\\\\\n",
       "  & <dbl> & <dbl> & <dbl> & <dbl> & <dbl> & <dbl> & <dbl> & <dbl> & <dbl> & <dbl> & ⋯ & <dbl> & <dbl> & <dbl> & <dbl> & <dbl> & <dbl> & <dbl> & <dbl> & <dbl> & <dbl>\\\\\n",
       "\\hline\n",
       "\t1 & 141592 & 2006 & 2007 & 8 &  814 & 3 & 111 & 184 & 3 & 3 & ⋯ & 0 & 0 & 0 & 0 & 0 & 0 & 1 & 0 & 0 & 0\\\\\n",
       "\t2 &  51327 & 1985 & 2007 & 8 &  587 & 8 &  80 &  76 & 1 & 2 & ⋯ & 0 & 1 & 0 & 0 & 0 & 1 & 0 & 0 & 0 & 0\\\\\n",
       "\t3 &  48672 & 1985 & 2007 & 8 &  587 & 6 &  80 &  76 & 1 & 2 & ⋯ & 0 & 1 & 0 & 0 & 0 & 1 & 0 & 0 & 0 & 0\\\\\n",
       "\t4 & 380530 & 2006 & 2007 & 8 & 2056 & 8 & 249 & 536 & 6 & 5 & ⋯ & 0 & 0 & 0 & 0 & 0 & 0 & 0 & 0 & 0 & 1\\\\\n",
       "\t5 & 221238 & 1993 & 2007 & 8 & 1761 & 3 & 523 & 536 & 8 & 8 & ⋯ & 1 & 0 & 0 & 0 & 0 & 0 & 0 & 1 & 0 & 0\\\\\n",
       "\t6 &  35840 & 1992 & 2007 & 8 &  355 & 5 & 200 &   0 & 3 & 5 & ⋯ & 0 & 0 & 0 & 0 & 0 & 0 & 0 & 1 & 0 & 0\\\\\n",
       "\\end{tabular}\n"
      ],
      "text/markdown": [
       "\n",
       "A data.frame: 6 × 41\n",
       "\n",
       "| <!--/--> | SalePrice &lt;dbl&gt; | YearBuilt &lt;dbl&gt; | YrSold &lt;dbl&gt; | MonthSold &lt;dbl&gt; | Size(sqf) &lt;dbl&gt; | Floor &lt;dbl&gt; | N_Parkinglot(Ground) &lt;dbl&gt; | N_Parkinglot(Basement) &lt;dbl&gt; | N_APT &lt;dbl&gt; | N_manager &lt;dbl&gt; | ⋯ ⋯ | TimeToSubway15min.20min &lt;dbl&gt; | TimeToSubway5min.10min &lt;dbl&gt; | TimeToSubwayno_bus_stop_nearby &lt;dbl&gt; | SubwayStationBanwoldang &lt;dbl&gt; | SubwayStationChil.sung.market &lt;dbl&gt; | SubwayStationDaegu &lt;dbl&gt; | SubwayStationKyungbuk_uni_hospital &lt;dbl&gt; | SubwayStationMyung.duk &lt;dbl&gt; | SubwayStationno_subway_nearby &lt;dbl&gt; | SubwayStationSin.nam &lt;dbl&gt; |\n",
       "|---|---|---|---|---|---|---|---|---|---|---|---|---|---|---|---|---|---|---|---|---|---|\n",
       "| 1 | 141592 | 2006 | 2007 | 8 |  814 | 3 | 111 | 184 | 3 | 3 | ⋯ | 0 | 0 | 0 | 0 | 0 | 0 | 1 | 0 | 0 | 0 |\n",
       "| 2 |  51327 | 1985 | 2007 | 8 |  587 | 8 |  80 |  76 | 1 | 2 | ⋯ | 0 | 1 | 0 | 0 | 0 | 1 | 0 | 0 | 0 | 0 |\n",
       "| 3 |  48672 | 1985 | 2007 | 8 |  587 | 6 |  80 |  76 | 1 | 2 | ⋯ | 0 | 1 | 0 | 0 | 0 | 1 | 0 | 0 | 0 | 0 |\n",
       "| 4 | 380530 | 2006 | 2007 | 8 | 2056 | 8 | 249 | 536 | 6 | 5 | ⋯ | 0 | 0 | 0 | 0 | 0 | 0 | 0 | 0 | 0 | 1 |\n",
       "| 5 | 221238 | 1993 | 2007 | 8 | 1761 | 3 | 523 | 536 | 8 | 8 | ⋯ | 1 | 0 | 0 | 0 | 0 | 0 | 0 | 1 | 0 | 0 |\n",
       "| 6 |  35840 | 1992 | 2007 | 8 |  355 | 5 | 200 |   0 | 3 | 5 | ⋯ | 0 | 0 | 0 | 0 | 0 | 0 | 0 | 1 | 0 | 0 |\n",
       "\n"
      ],
      "text/plain": [
       "  SalePrice YearBuilt YrSold MonthSold Size(sqf) Floor N_Parkinglot(Ground)\n",
       "1 141592    2006      2007   8          814      3     111                 \n",
       "2  51327    1985      2007   8          587      8      80                 \n",
       "3  48672    1985      2007   8          587      6      80                 \n",
       "4 380530    2006      2007   8         2056      8     249                 \n",
       "5 221238    1993      2007   8         1761      3     523                 \n",
       "6  35840    1992      2007   8          355      5     200                 \n",
       "  N_Parkinglot(Basement) N_APT N_manager ⋯ TimeToSubway15min.20min\n",
       "1 184                    3     3         ⋯ 0                      \n",
       "2  76                    1     2         ⋯ 0                      \n",
       "3  76                    1     2         ⋯ 0                      \n",
       "4 536                    6     5         ⋯ 0                      \n",
       "5 536                    8     8         ⋯ 1                      \n",
       "6   0                    3     5         ⋯ 0                      \n",
       "  TimeToSubway5min.10min TimeToSubwayno_bus_stop_nearby SubwayStationBanwoldang\n",
       "1 0                      0                              0                      \n",
       "2 1                      0                              0                      \n",
       "3 1                      0                              0                      \n",
       "4 0                      0                              0                      \n",
       "5 0                      0                              0                      \n",
       "6 0                      0                              0                      \n",
       "  SubwayStationChil.sung.market SubwayStationDaegu\n",
       "1 0                             0                 \n",
       "2 0                             1                 \n",
       "3 0                             1                 \n",
       "4 0                             0                 \n",
       "5 0                             0                 \n",
       "6 0                             0                 \n",
       "  SubwayStationKyungbuk_uni_hospital SubwayStationMyung.duk\n",
       "1 1                                  0                     \n",
       "2 0                                  0                     \n",
       "3 0                                  0                     \n",
       "4 0                                  0                     \n",
       "5 0                                  1                     \n",
       "6 0                                  1                     \n",
       "  SubwayStationno_subway_nearby SubwayStationSin.nam\n",
       "1 0                             0                   \n",
       "2 0                             0                   \n",
       "3 0                             0                   \n",
       "4 0                             1                   \n",
       "5 0                             0                   \n",
       "6 0                             0                   "
      ]
     },
     "metadata": {},
     "output_type": "display_data"
    }
   ],
   "source": [
    "# elimino las columnas originales\n",
    "base_daegu <- base_daegu[, -which(names(base_daegu) %in% col_cate)]\n",
    "# uno las columnas de la matriz de diseño\n",
    "base_daegu <- cbind(base_daegu, design_matrix)\n",
    "head(base_daegu)"
   ]
  },
  {
   "cell_type": "markdown",
   "metadata": {},
   "source": [
    "El objetivo de este paso es integrar las variables dummies con las variables numéricas originales en un solo data frame. Esto es crucial para asegurarse de que el conjunto de datos esté preparado para la aplicación del algoritmo k-NN, que requiere que todas las variables sean numéricas."
   ]
  },
  {
   "cell_type": "markdown",
   "metadata": {},
   "source": [
    "En las 2 próximas celdas se definen dos funciones esenciales para el preprocesamiento de los datos: una para normalizar las variables numéricas y otra para desnormalizarlas. Estas funciones son fundamentales para el uso de algoritmos de machine learning, como k-NN, que son sensibles a las escalas de las variables."
   ]
  },
  {
   "cell_type": "code",
   "execution_count": 6,
   "metadata": {
    "vscode": {
     "languageId": "r"
    }
   },
   "outputs": [],
   "source": [
    "# Función de normalización\n",
    "normalizar <- function(x) {\n",
    "  return((x - min(x)) / (max(x) - min(x)))\n",
    "}"
   ]
  },
  {
   "cell_type": "markdown",
   "metadata": {},
   "source": [
    "La normalización reescala los valores de una variable para que estén dentro de un rango específico [0, 1]. Esto es importante para que todas las variables contribuyan de manera equitativa en el cálculo de distancias, evitando que las variables con rangos más amplios dominen las distancias."
   ]
  },
  {
   "cell_type": "code",
   "execution_count": 7,
   "metadata": {
    "vscode": {
     "languageId": "r"
    }
   },
   "outputs": [],
   "source": [
    "# Función de desnormalización\n",
    "desnormalizar <- function(x, min_val, max_val) {\n",
    "  return(x * (max_val - min_val) + min_val)\n",
    "}"
   ]
  },
  {
   "cell_type": "markdown",
   "metadata": {},
   "source": [
    "La desnormalización convierte los valores normalizados de regreso a su escala original. Esto es útil para interpretar los resultados del modelo en el contexto original de los datos."
   ]
  },
  {
   "cell_type": "markdown",
   "metadata": {},
   "source": [
    "El algoritmo k-NN es sensible a las escalas de las variables porque se basa en métricas de distancia para encontrar los vecinos más cercanos. Si las variables no están normalizadas, aquellas con rangos más amplios tendrán una influencia desproporcionada en las distancias calculadas, lo que puede llevar a un rendimiento subóptimo del modelo."
   ]
  },
  {
   "cell_type": "markdown",
   "metadata": {},
   "source": [
    "La siguiente celda almacena los valores mínimos y máximos originales de todas las columnas del conjunto de datos base_daegu. Esta información es crucial para la desnormalización de los datos después de que se hayan realizado las predicciones con el modelo k-NN."
   ]
  },
  {
   "cell_type": "code",
   "execution_count": 8,
   "metadata": {
    "vscode": {
     "languageId": "r"
    }
   },
   "outputs": [],
   "source": [
    "# Guardar los valores mínimos y máximos originales de todas las columnas\n",
    "min_vals <- sapply(base_daegu, min)\n",
    "max_vals <- sapply(base_daegu, max)"
   ]
  },
  {
   "cell_type": "markdown",
   "metadata": {},
   "source": [
    "Después de que normalizar y que el modelo k-NN haga sus predicciones, es necesario convertir estos valores normalizados de regreso a su escala original para interpretarlos en la escala original de los datos."
   ]
  },
  {
   "cell_type": "markdown",
   "metadata": {},
   "source": [
    "En la siguiente celda se aplica la normalización a todas las columnas del conjunto de datos `base_daegu`. Dado que las variables categóricas ya han sido convertidas a variables dummies (y, por lo tanto, ya están en formato binario 0 y 1), esta operación efectivamente normaliza solo las variables numéricas."
   ]
  },
  {
   "cell_type": "code",
   "execution_count": 9,
   "metadata": {
    "vscode": {
     "languageId": "r"
    }
   },
   "outputs": [
    {
     "data": {
      "text/html": [
       "<table class=\"dataframe\">\n",
       "<caption>A data.frame: 6 × 41</caption>\n",
       "<thead>\n",
       "\t<tr><th></th><th scope=col>SalePrice</th><th scope=col>YearBuilt</th><th scope=col>YrSold</th><th scope=col>MonthSold</th><th scope=col>Size.sqf.</th><th scope=col>Floor</th><th scope=col>N_Parkinglot.Ground.</th><th scope=col>N_Parkinglot.Basement.</th><th scope=col>N_APT</th><th scope=col>N_manager</th><th scope=col>⋯</th><th scope=col>TimeToSubway15min.20min</th><th scope=col>TimeToSubway5min.10min</th><th scope=col>TimeToSubwayno_bus_stop_nearby</th><th scope=col>SubwayStationBanwoldang</th><th scope=col>SubwayStationChil.sung.market</th><th scope=col>SubwayStationDaegu</th><th scope=col>SubwayStationKyungbuk_uni_hospital</th><th scope=col>SubwayStationMyung.duk</th><th scope=col>SubwayStationno_subway_nearby</th><th scope=col>SubwayStationSin.nam</th></tr>\n",
       "\t<tr><th></th><th scope=col>&lt;dbl&gt;</th><th scope=col>&lt;dbl&gt;</th><th scope=col>&lt;dbl&gt;</th><th scope=col>&lt;dbl&gt;</th><th scope=col>&lt;dbl&gt;</th><th scope=col>&lt;dbl&gt;</th><th scope=col>&lt;dbl&gt;</th><th scope=col>&lt;dbl&gt;</th><th scope=col>&lt;dbl&gt;</th><th scope=col>&lt;dbl&gt;</th><th scope=col>⋯</th><th scope=col>&lt;dbl&gt;</th><th scope=col>&lt;dbl&gt;</th><th scope=col>&lt;dbl&gt;</th><th scope=col>&lt;dbl&gt;</th><th scope=col>&lt;dbl&gt;</th><th scope=col>&lt;dbl&gt;</th><th scope=col>&lt;dbl&gt;</th><th scope=col>&lt;dbl&gt;</th><th scope=col>&lt;dbl&gt;</th><th scope=col>&lt;dbl&gt;</th></tr>\n",
       "</thead>\n",
       "<tbody>\n",
       "\t<tr><th scope=row>1</th><td>0.196799115</td><td>0.7567568</td><td>0</td><td>0.6363636</td><td>0.30835604</td><td>0.04761905</td><td>0.1556802</td><td>0.13928842</td><td>0.1666667</td><td>0.15384615</td><td>⋯</td><td>0</td><td>0</td><td>0</td><td>0</td><td>0</td><td>0</td><td>1</td><td>0</td><td>0</td><td>0</td></tr>\n",
       "\t<tr><th scope=row>2</th><td>0.033599893</td><td>0.1891892</td><td>0</td><td>0.6363636</td><td>0.20526794</td><td>0.16666667</td><td>0.1122020</td><td>0.05753217</td><td>0.0000000</td><td>0.07692308</td><td>⋯</td><td>0</td><td>1</td><td>0</td><td>0</td><td>0</td><td>1</td><td>0</td><td>0</td><td>0</td><td>0</td></tr>\n",
       "\t<tr><th scope=row>3</th><td>0.028799650</td><td>0.1891892</td><td>0</td><td>0.6363636</td><td>0.20526794</td><td>0.11904762</td><td>0.1122020</td><td>0.05753217</td><td>0.0000000</td><td>0.07692308</td><td>⋯</td><td>0</td><td>1</td><td>0</td><td>0</td><td>0</td><td>1</td><td>0</td><td>0</td><td>0</td><td>0</td></tr>\n",
       "\t<tr><th scope=row>4</th><td>0.628799288</td><td>0.7567568</td><td>0</td><td>0.6363636</td><td>0.87238874</td><td>0.16666667</td><td>0.3492286</td><td>0.40575322</td><td>0.4166667</td><td>0.30769231</td><td>⋯</td><td>0</td><td>0</td><td>0</td><td>0</td><td>0</td><td>0</td><td>0</td><td>0</td><td>0</td><td>1</td></tr>\n",
       "\t<tr><th scope=row>5</th><td>0.340799173</td><td>0.4054054</td><td>0</td><td>0.6363636</td><td>0.73841962</td><td>0.04761905</td><td>0.7335203</td><td>0.40575322</td><td>0.5833333</td><td>0.53846154</td><td>⋯</td><td>1</td><td>0</td><td>0</td><td>0</td><td>0</td><td>0</td><td>0</td><td>1</td><td>0</td><td>0</td></tr>\n",
       "\t<tr><th scope=row>6</th><td>0.005599379</td><td>0.3783784</td><td>0</td><td>0.6363636</td><td>0.09990917</td><td>0.09523810</td><td>0.2805049</td><td>0.00000000</td><td>0.1666667</td><td>0.30769231</td><td>⋯</td><td>0</td><td>0</td><td>0</td><td>0</td><td>0</td><td>0</td><td>0</td><td>1</td><td>0</td><td>0</td></tr>\n",
       "</tbody>\n",
       "</table>\n"
      ],
      "text/latex": [
       "A data.frame: 6 × 41\n",
       "\\begin{tabular}{r|lllllllllllllllllllll}\n",
       "  & SalePrice & YearBuilt & YrSold & MonthSold & Size.sqf. & Floor & N\\_Parkinglot.Ground. & N\\_Parkinglot.Basement. & N\\_APT & N\\_manager & ⋯ & TimeToSubway15min.20min & TimeToSubway5min.10min & TimeToSubwayno\\_bus\\_stop\\_nearby & SubwayStationBanwoldang & SubwayStationChil.sung.market & SubwayStationDaegu & SubwayStationKyungbuk\\_uni\\_hospital & SubwayStationMyung.duk & SubwayStationno\\_subway\\_nearby & SubwayStationSin.nam\\\\\n",
       "  & <dbl> & <dbl> & <dbl> & <dbl> & <dbl> & <dbl> & <dbl> & <dbl> & <dbl> & <dbl> & ⋯ & <dbl> & <dbl> & <dbl> & <dbl> & <dbl> & <dbl> & <dbl> & <dbl> & <dbl> & <dbl>\\\\\n",
       "\\hline\n",
       "\t1 & 0.196799115 & 0.7567568 & 0 & 0.6363636 & 0.30835604 & 0.04761905 & 0.1556802 & 0.13928842 & 0.1666667 & 0.15384615 & ⋯ & 0 & 0 & 0 & 0 & 0 & 0 & 1 & 0 & 0 & 0\\\\\n",
       "\t2 & 0.033599893 & 0.1891892 & 0 & 0.6363636 & 0.20526794 & 0.16666667 & 0.1122020 & 0.05753217 & 0.0000000 & 0.07692308 & ⋯ & 0 & 1 & 0 & 0 & 0 & 1 & 0 & 0 & 0 & 0\\\\\n",
       "\t3 & 0.028799650 & 0.1891892 & 0 & 0.6363636 & 0.20526794 & 0.11904762 & 0.1122020 & 0.05753217 & 0.0000000 & 0.07692308 & ⋯ & 0 & 1 & 0 & 0 & 0 & 1 & 0 & 0 & 0 & 0\\\\\n",
       "\t4 & 0.628799288 & 0.7567568 & 0 & 0.6363636 & 0.87238874 & 0.16666667 & 0.3492286 & 0.40575322 & 0.4166667 & 0.30769231 & ⋯ & 0 & 0 & 0 & 0 & 0 & 0 & 0 & 0 & 0 & 1\\\\\n",
       "\t5 & 0.340799173 & 0.4054054 & 0 & 0.6363636 & 0.73841962 & 0.04761905 & 0.7335203 & 0.40575322 & 0.5833333 & 0.53846154 & ⋯ & 1 & 0 & 0 & 0 & 0 & 0 & 0 & 1 & 0 & 0\\\\\n",
       "\t6 & 0.005599379 & 0.3783784 & 0 & 0.6363636 & 0.09990917 & 0.09523810 & 0.2805049 & 0.00000000 & 0.1666667 & 0.30769231 & ⋯ & 0 & 0 & 0 & 0 & 0 & 0 & 0 & 1 & 0 & 0\\\\\n",
       "\\end{tabular}\n"
      ],
      "text/markdown": [
       "\n",
       "A data.frame: 6 × 41\n",
       "\n",
       "| <!--/--> | SalePrice &lt;dbl&gt; | YearBuilt &lt;dbl&gt; | YrSold &lt;dbl&gt; | MonthSold &lt;dbl&gt; | Size.sqf. &lt;dbl&gt; | Floor &lt;dbl&gt; | N_Parkinglot.Ground. &lt;dbl&gt; | N_Parkinglot.Basement. &lt;dbl&gt; | N_APT &lt;dbl&gt; | N_manager &lt;dbl&gt; | ⋯ ⋯ | TimeToSubway15min.20min &lt;dbl&gt; | TimeToSubway5min.10min &lt;dbl&gt; | TimeToSubwayno_bus_stop_nearby &lt;dbl&gt; | SubwayStationBanwoldang &lt;dbl&gt; | SubwayStationChil.sung.market &lt;dbl&gt; | SubwayStationDaegu &lt;dbl&gt; | SubwayStationKyungbuk_uni_hospital &lt;dbl&gt; | SubwayStationMyung.duk &lt;dbl&gt; | SubwayStationno_subway_nearby &lt;dbl&gt; | SubwayStationSin.nam &lt;dbl&gt; |\n",
       "|---|---|---|---|---|---|---|---|---|---|---|---|---|---|---|---|---|---|---|---|---|---|\n",
       "| 1 | 0.196799115 | 0.7567568 | 0 | 0.6363636 | 0.30835604 | 0.04761905 | 0.1556802 | 0.13928842 | 0.1666667 | 0.15384615 | ⋯ | 0 | 0 | 0 | 0 | 0 | 0 | 1 | 0 | 0 | 0 |\n",
       "| 2 | 0.033599893 | 0.1891892 | 0 | 0.6363636 | 0.20526794 | 0.16666667 | 0.1122020 | 0.05753217 | 0.0000000 | 0.07692308 | ⋯ | 0 | 1 | 0 | 0 | 0 | 1 | 0 | 0 | 0 | 0 |\n",
       "| 3 | 0.028799650 | 0.1891892 | 0 | 0.6363636 | 0.20526794 | 0.11904762 | 0.1122020 | 0.05753217 | 0.0000000 | 0.07692308 | ⋯ | 0 | 1 | 0 | 0 | 0 | 1 | 0 | 0 | 0 | 0 |\n",
       "| 4 | 0.628799288 | 0.7567568 | 0 | 0.6363636 | 0.87238874 | 0.16666667 | 0.3492286 | 0.40575322 | 0.4166667 | 0.30769231 | ⋯ | 0 | 0 | 0 | 0 | 0 | 0 | 0 | 0 | 0 | 1 |\n",
       "| 5 | 0.340799173 | 0.4054054 | 0 | 0.6363636 | 0.73841962 | 0.04761905 | 0.7335203 | 0.40575322 | 0.5833333 | 0.53846154 | ⋯ | 1 | 0 | 0 | 0 | 0 | 0 | 0 | 1 | 0 | 0 |\n",
       "| 6 | 0.005599379 | 0.3783784 | 0 | 0.6363636 | 0.09990917 | 0.09523810 | 0.2805049 | 0.00000000 | 0.1666667 | 0.30769231 | ⋯ | 0 | 0 | 0 | 0 | 0 | 0 | 0 | 1 | 0 | 0 |\n",
       "\n"
      ],
      "text/plain": [
       "  SalePrice   YearBuilt YrSold MonthSold Size.sqf.  Floor     \n",
       "1 0.196799115 0.7567568 0      0.6363636 0.30835604 0.04761905\n",
       "2 0.033599893 0.1891892 0      0.6363636 0.20526794 0.16666667\n",
       "3 0.028799650 0.1891892 0      0.6363636 0.20526794 0.11904762\n",
       "4 0.628799288 0.7567568 0      0.6363636 0.87238874 0.16666667\n",
       "5 0.340799173 0.4054054 0      0.6363636 0.73841962 0.04761905\n",
       "6 0.005599379 0.3783784 0      0.6363636 0.09990917 0.09523810\n",
       "  N_Parkinglot.Ground. N_Parkinglot.Basement. N_APT     N_manager  ⋯\n",
       "1 0.1556802            0.13928842             0.1666667 0.15384615 ⋯\n",
       "2 0.1122020            0.05753217             0.0000000 0.07692308 ⋯\n",
       "3 0.1122020            0.05753217             0.0000000 0.07692308 ⋯\n",
       "4 0.3492286            0.40575322             0.4166667 0.30769231 ⋯\n",
       "5 0.7335203            0.40575322             0.5833333 0.53846154 ⋯\n",
       "6 0.2805049            0.00000000             0.1666667 0.30769231 ⋯\n",
       "  TimeToSubway15min.20min TimeToSubway5min.10min TimeToSubwayno_bus_stop_nearby\n",
       "1 0                       0                      0                             \n",
       "2 0                       1                      0                             \n",
       "3 0                       1                      0                             \n",
       "4 0                       0                      0                             \n",
       "5 1                       0                      0                             \n",
       "6 0                       0                      0                             \n",
       "  SubwayStationBanwoldang SubwayStationChil.sung.market SubwayStationDaegu\n",
       "1 0                       0                             0                 \n",
       "2 0                       0                             1                 \n",
       "3 0                       0                             1                 \n",
       "4 0                       0                             0                 \n",
       "5 0                       0                             0                 \n",
       "6 0                       0                             0                 \n",
       "  SubwayStationKyungbuk_uni_hospital SubwayStationMyung.duk\n",
       "1 1                                  0                     \n",
       "2 0                                  0                     \n",
       "3 0                                  0                     \n",
       "4 0                                  0                     \n",
       "5 0                                  1                     \n",
       "6 0                                  1                     \n",
       "  SubwayStationno_subway_nearby SubwayStationSin.nam\n",
       "1 0                             0                   \n",
       "2 0                             0                   \n",
       "3 0                             0                   \n",
       "4 0                             1                   \n",
       "5 0                             0                   \n",
       "6 0                             0                   "
      ]
     },
     "metadata": {},
     "output_type": "display_data"
    }
   ],
   "source": [
    "# Normalizar todas las columnas\n",
    "# dado que las categoricas ya estan normalizadas, al normalizar\n",
    "# todas las columnas, solo se normalizaran las numericas y las\n",
    "# categoricas se mantendran igual\n",
    "base_daegu <- as.data.frame(lapply(base_daegu, normalizar))\n",
    "# Verificar la normalización\n",
    "head(base_daegu)"
   ]
  },
  {
   "cell_type": "markdown",
   "metadata": {},
   "source": [
    "Normalizar las variables es esencial en k-NN porque:\n",
    "\n",
    "- Consistencia: Asegura que todas las variables contribuyan de manera similar en el cálculo de distancias.\n",
    "- Evita el Dominio de Variables: Previene que las variables con rangos mayores dominen las distancias y, por lo tanto, el resultado del modelo."
   ]
  },
  {
   "cell_type": "markdown",
   "metadata": {},
   "source": [
    "Las siguiente celda se verifica que todas las columnas del conjunto de datos base_daegu hayan sido normalizadas correctamente. "
   ]
  },
  {
   "cell_type": "code",
   "execution_count": 10,
   "metadata": {
    "vscode": {
     "languageId": "r"
    }
   },
   "outputs": [
    {
     "data": {
      "text/plain": [
       "   SalePrice        YearBuilt          YrSold         MonthSold     \n",
       " Min.   :0.0000   Min.   :0.0000   Min.   :0.0000   Min.   :0.0000  \n",
       " Max.   :1.0000   Max.   :1.0000   Max.   :1.0000   Max.   :1.0000  \n",
       "   Size.sqf.          Floor        N_Parkinglot.Ground. N_Parkinglot.Basement.\n",
       " Min.   :0.0000   Min.   :0.0000   Min.   :0.00000      Min.   :0.0000        \n",
       " Max.   :1.0000   Max.   :1.0000   Max.   :1.00000      Max.   :1.0000        \n",
       "     N_APT          N_manager       N_elevators    \n",
       " Min.   :0.0000   Min.   :0.0000   Min.   :0.0000  \n",
       " Max.   :1.0000   Max.   :1.0000   Max.   :1.0000  \n",
       " N_FacilitiesNearBy.PublicOffice. N_FacilitiesNearBy.Hospital.\n",
       " Min.   :0.0000                   Min.   :0.000               \n",
       " Max.   :1.0000                   Max.   :1.000               \n",
       " N_FacilitiesNearBy.Dpartmentstore. N_FacilitiesNearBy.Mall.\n",
       " Min.   :0.0000                     Min.   :0.0000          \n",
       " Max.   :1.0000                     Max.   :1.0000          \n",
       " N_FacilitiesNearBy.ETC. N_FacilitiesNearBy.Park. N_SchoolNearBy.Elementary.\n",
       " Min.   :0.0000          Min.   :0.0000           Min.   :0.0000            \n",
       " Max.   :1.0000          Max.   :1.0000           Max.   :1.0000            \n",
       " N_SchoolNearBy.Middle. N_SchoolNearBy.High. N_SchoolNearBy.University.\n",
       " Min.   :0.0000         Min.   :0.0000       Min.   :0.0000            \n",
       " Max.   :1.0000         Max.   :1.0000       Max.   :1.0000            \n",
       " N_FacilitiesInApt N_FacilitiesNearBy.Total. N_SchoolNearBy.Total.\n",
       " Min.   :0.0000    Min.   :0.0000            Min.   :0.0000       \n",
       " Max.   :1.0000    Max.   :1.0000            Max.   :1.0000       \n",
       " HallwayTypemixed HallwayTypeterraced HeatingTypeindividual_heating\n",
       " Min.   :0.0000   Min.   :0.000       Min.   :0.0000               \n",
       " Max.   :1.0000   Max.   :1.000       Max.   :1.0000               \n",
       " AptManageTypeself_management TimeToBusStop10min.15min TimeToBusStop5min.10min\n",
       " Min.   :0.00000              Min.   :0.000000         Min.   :0.0000         \n",
       " Max.   :1.00000              Max.   :1.000000         Max.   :1.0000         \n",
       " TimeToSubway10min.15min TimeToSubway15min.20min TimeToSubway5min.10min\n",
       " Min.   :0.0000          Min.   :0.0000          Min.   :0.0000        \n",
       " Max.   :1.0000          Max.   :1.0000          Max.   :1.0000        \n",
       " TimeToSubwayno_bus_stop_nearby SubwayStationBanwoldang\n",
       " Min.   :0.0000                 Min.   :0.000          \n",
       " Max.   :1.0000                 Max.   :1.000          \n",
       " SubwayStationChil.sung.market SubwayStationDaegu\n",
       " Min.   :0.00000               Min.   :0.00000   \n",
       " Max.   :1.00000               Max.   :1.00000   \n",
       " SubwayStationKyungbuk_uni_hospital SubwayStationMyung.duk\n",
       " Min.   :0.0000                     Min.   :0.0000        \n",
       " Max.   :1.0000                     Max.   :1.0000        \n",
       " SubwayStationno_subway_nearby SubwayStationSin.nam\n",
       " Min.   :0.00000               Min.   :0.0000      \n",
       " Max.   :1.00000               Max.   :1.0000      "
      ]
     },
     "metadata": {},
     "output_type": "display_data"
    }
   ],
   "source": [
    "# Quiero verificar que todos mis columnas tengan como mínimo 0 y como máximo 1\n",
    "summary(base_daegu)[c(1, 6), ]"
   ]
  },
  {
   "cell_type": "markdown",
   "metadata": {},
   "source": [
    "En la siguiente celda se realiza la división del conjunto de datos en conjuntos de entrenamiento y prueba, asegurando que la distribución de la variable objetivo SalePrice se mantenga consistente en ambos conjuntos mediante estratificación. Se utiliza una semilla aleatoria para garantizar la reproducibilidad de los resultados."
   ]
  },
  {
   "cell_type": "code",
   "execution_count": 11,
   "metadata": {
    "vscode": {
     "languageId": "r"
    }
   },
   "outputs": [],
   "source": [
    "set.seed(123) #inserto semilla\n",
    "# Divido el conjunto de datos en entrenamiento y prueba\n",
    "# donde el 70% de los datos son para entrenamiento y el 30% para prueba\n",
    "# y estratifico por la variable objetivo SalePrice\n",
    "particiones <- initial_split(base_daegu, prop = 0.7, strata = \"SalePrice\")\n",
    "# Guardo los datos de entrenamiento y prueba\n",
    "# en dos variables diferentes\n",
    "entrenamiento <- training(particiones)\n",
    "prueba <- testing(particiones)"
   ]
  },
  {
   "cell_type": "markdown",
   "metadata": {},
   "source": [
    "Porqué del 70%-30%\n",
    "\n",
    "1. **Suficiente Cantidad de Datos para Entrenamiento**:\n",
    "   - Usar el 70% de los datos para el entrenamiento asegura que el modelo tenga acceso a una cantidad suficiente de datos para aprender las características y patrones del conjunto de datos. Esto es esencial para construir un modelo robusto y reducir el riesgo de subajuste.\n",
    "\n",
    "2. **Evaluación Representativa**:\n",
    "   - Al reservar el 30% de los datos para el conjunto de prueba, se asegura una evaluación representativa del rendimiento del modelo. Este conjunto debe ser lo suficientemente grande para proporcionar una evaluación precisa y confiable del modelo en datos no vistos.\n",
    "\n",
    "3. **Prácticas Comunes**:\n",
    "   - La proporción de 70%-30% es una práctica común en machine learning, proporcionando un buen balance entre tener suficientes datos para el entrenamiento y una cantidad adecuada para la evaluación del modelo.\n",
    "\n",
    "Subajuste y Sobreajuste\n",
    "\n",
    "Subajuste\n",
    "\n",
    "- **Definición**: Ocurre cuando un modelo es demasiado simple para capturar la estructura subyacente de los datos. Un modelo con subajuste tendrá un rendimiento pobre tanto en el conjunto de entrenamiento como en el de prueba.\n",
    "- **Prevención**: Utilizar una proporción adecuada de datos de entrenamiento ayuda a mitigar el subajuste. Con el 70% de los datos para el entrenamiento, el modelo tiene suficiente información para aprender patrones complejos sin ser demasiado simple.\n",
    "\n",
    "Sobreajuste\n",
    "\n",
    "- **Definición**: Ocurre cuando un modelo es demasiado complejo y se ajusta demasiado a los datos de entrenamiento, capturando también el ruido y las peculiaridades específicas de estos datos. Un modelo con sobreajuste tendrá un rendimiento excelente en el conjunto de entrenamiento pero pobre en el conjunto de prueba.\n",
    "- **Prevención**: Reservar el 30% de los datos para el conjunto de prueba permite evaluar cómo generaliza el modelo a datos nuevos. Si el modelo tiene un rendimiento significativamente peor en el conjunto de prueba comparado con el conjunto de entrenamiento, esto indica un posible sobreajuste.\n",
    "\n",
    "Estratificación por `SalePrice`\n",
    "\n",
    "- **Motivación**: La estratificación por la variable objetivo `SalePrice` asegura que la distribución de los precios de venta sea representativa en ambos conjuntos (entrenamiento y prueba). Esto es crucial para evitar sesgos y asegurar que el modelo sea evaluado de manera justa en una muestra que refleja la población original.\n",
    "\n",
    "La proporción 70%-30% para la división del conjunto de datos se elige para equilibrar adecuadamente la cantidad de datos disponibles para el entrenamiento y la evaluación, ayudando a prevenir tanto el subajuste como el sobreajuste. La estratificación por `SalePrice` asegura que ambos conjuntos tengan distribuciones representativas, mejorando la robustez y la precisión de la evaluación del modelo."
   ]
  },
  {
   "cell_type": "markdown",
   "metadata": {},
   "source": [
    "Importancia de la Estratificación\n",
    "\n",
    "- `Consistencia en la Distribución`: La estratificación asegura que la variable objetivo tenga una distribución similar en ambos conjuntos, lo cual es importante para evitar sesgos en el modelo.\n",
    "- `Mejor Evaluación del Modelo`: Garantiza que el modelo sea evaluado en un conjunto de prueba representativo, proporcionando una medida más precisa de su rendimiento en datos no vistos."
   ]
  },
  {
   "cell_type": "markdown",
   "metadata": {},
   "source": [
    "En la siguiente celda se genera un gráfico de densidad para comparar la distribución de la variable objetivo SalePrice en el conjunto de datos original, de entrenamiento y de prueba. Esto es importante para asegurarse de que la estratificación haya mantenido la distribución de la variable objetivo de manera consistente en ambos subconjuntos."
   ]
  },
  {
   "cell_type": "code",
   "execution_count": 12,
   "metadata": {
    "vscode": {
     "languageId": "r"
    }
   },
   "outputs": [
    {
     "data": {
      "image/png": "[encoded data removed]",
      "text/plain": [
       "Plot with title \"Distribucion\""
      ]
     },
     "metadata": {
      "image/png": {
       "height": 420,
       "width": 420
      }
     },
     "output_type": "display_data"
    }
   ],
   "source": [
    "# quiero comprobar la distribución de la variable objetivo\n",
    "# en los conjuntos original, de entrenamiento y de prueba\n",
    "# con un gráfico de densidad sin ocupar ggplot\n",
    "plot(density(base_daegu$SalePrice), col = \"black\", main = \"Distribucion\")\n",
    "lines(density(entrenamiento$SalePrice), col = \"red\")\n",
    "lines(density(prueba$SalePrice), col = \"blue\")\n",
    "legend(\"topright\", c(\"Original\", \"Entrenamiento\", \"Prueba\"),\n",
    "       fill = c(\"black\", \"red\", \"blue\"))"
   ]
  },
  {
   "cell_type": "markdown",
   "metadata": {},
   "source": [
    "Líneas de Densidad:\n",
    "\n",
    "- Negro: Distribución de SalePrice en el conjunto de datos original.\n",
    "- Rojo: Distribución de SalePrice en el conjunto de entrenamiento.\n",
    "- Azul: Distribución de SalePrice en el conjunto de prueba.\n",
    "\n",
    "Observaciones:\n",
    "\n",
    "- Las tres líneas de densidad (negra, roja y azul) se superponen en gran medida, indicando que las distribuciones de SalePrice en el conjunto original, de entrenamiento y de prueba son muy similares.\n",
    "- Esto confirma que la estratificación ha funcionado correctamente, manteniendo una distribución representativa de la variable objetivo en ambos conjuntos.\n",
    "\n",
    "Importancia\n",
    "\n",
    "Mantener la consistencia en la distribución de la variable objetivo entre los conjuntos de entrenamiento y de prueba es crucial para:\n",
    "\n",
    "- Evaluación Justa del Modelo: Asegura que el modelo sea evaluado en un conjunto de prueba que es representativo de los datos en general.\n",
    "- Evitar Sesgos: Previene sesgos en la evaluación del rendimiento del modelo, proporcionando una medida precisa de su capacidad para generalizar a datos no vistos."
   ]
  },
  {
   "cell_type": "markdown",
   "metadata": {},
   "source": [
    "En la siguiente celda se aplica el modelo k-NN de regresión utilizando k = 1 y se obtienen las predicciones para el conjunto de prueba. "
   ]
  },
  {
   "cell_type": "code",
   "execution_count": 13,
   "metadata": {
    "vscode": {
     "languageId": "r"
    }
   },
   "outputs": [
    {
     "data": {
      "text/html": [
       "<style>\n",
       ".list-inline {list-style: none; margin:0; padding: 0}\n",
       ".list-inline>li {display: inline-block}\n",
       ".list-inline>li:not(:last-child)::after {content: \"\\00b7\"; padding: 0 .5ex}\n",
       "</style>\n",
       "<ol class=list-inline><li>0.0335998929663332</li><li>0.268159111331285</li><li>0.0055993794940128</li><li>0.108800083891252</li><li>0.628799288370756</li><li>0.171199626828567</li></ol>\n"
      ],
      "text/latex": [
       "\\begin{enumerate*}\n",
       "\\item 0.0335998929663332\n",
       "\\item 0.268159111331285\n",
       "\\item 0.0055993794940128\n",
       "\\item 0.108800083891252\n",
       "\\item 0.628799288370756\n",
       "\\item 0.171199626828567\n",
       "\\end{enumerate*}\n"
      ],
      "text/markdown": [
       "1. 0.0335998929663332\n",
       "2. 0.268159111331285\n",
       "3. 0.0055993794940128\n",
       "4. 0.108800083891252\n",
       "5. 0.628799288370756\n",
       "6. 0.171199626828567\n",
       "\n",
       "\n"
      ],
      "text/plain": [
       "[1] 0.033599893 0.268159111 0.005599379 0.108800084 0.628799288 0.171199627"
      ]
     },
     "metadata": {},
     "output_type": "display_data"
    }
   ],
   "source": [
    "#Aplicacion del modelo knn de regresion con k=1\n",
    "# y obtencion de las predicciones\n",
    "knn <- knnreg(SalePrice ~ ., entrenamiento, k = 1)\n",
    "knn_pred <- predict(knn, newdata = prueba[, colnames(prueba) != \"SalePrice\"])\n",
    "knn_pred <- as.vector(knn_pred)\n",
    "head(knn_pred)"
   ]
  },
  {
   "cell_type": "markdown",
   "metadata": {},
   "source": [
    "- Después de entrenar el modelo KNN (K-Nearest Neighbors) en la línea 1, el modelo está listo para hacer predicciones. El entrenamiento se hizo con el conjunto de datos entrenamiento, usando SalePrice como la variable objetivo y todas las demás variables como predictores.\n",
    "Objetivo:\n",
    "\n",
    "- El objetivo de la línea 2 es usar el modelo entrenado (knn) para hacer predicciones sobre un conjunto de datos nuevo (el conjunto de prueba prueba).\n",
    "\n",
    "Proceso:\n",
    "\n",
    "- `predict(knn, newdata = prueba[, colnames(prueba) != \"SalePrice\"])`:\n",
    "- `predict(knn, newdata = ...)`: Esta función toma el modelo entrenado (knn) y hace predicciones usando un nuevo conjunto de datos (newdata).\n",
    "- `prueba[, colnames(prueba) != \"SalePrice\"]`: Aquí se especifica que se deben usar todas las columnas del conjunto de prueba prueba, excepto la columna `SalePrice`. Esto se hace porque SalePrice es la variable que queremos predecir, no una de las variables predictoras.\n",
    "- El modelo utiliza los valores de las variables predictoras en el conjunto de prueba para generar predicciones de `SalePrice` basado en el aprendizaje que hizo el algoritmo en la línea 1. En otras palabras, para cada fila en prueba, el modelo toma los valores de todas las columnas predictoras y genera un valor predicho para `SalePrice`.\n",
    "Resultado:\n",
    "\n",
    "- El resultado de esta función es un vector de predicciones `(knn_pred)`. Cada valor en este vector corresponde a una predicción de `SalePrice` para una fila del conjunto de prueba. Estas predicciones son los valores estimados de `SalePrice` basados en los valores de las variables predictoras en prueba.\n",
    "\n",
    "- La línea 2 utiliza el modelo KNN entrenado para predecir los valores de `SalePrice` en el conjunto de prueba, basado en el aprendizaje que hizo el algoritmo en la línea 1. Para cada fila en el conjunto de prueba, el modelo toma los valores de todas las variables predictoras (excepto `SalePrice`) y genera una predicción de `SalePrice`. Estas predicciones son los valores de `knn_pred`."
   ]
  },
  {
   "cell_type": "markdown",
   "metadata": {},
   "source": [
    "Respecto a Valor k = 1:\n",
    "\n",
    "- Utiliza el vecino más cercano para hacer predicciones.\n",
    "- Es propenso a sobreajustar los datos de entrenamiento, capturando ruido y peculiaridades específicas del conjunto de datos de entrenamiento.\n",
    "- Puede proporcionar una evaluación inicial del rendimiento del modelo, pero generalmente no es el valor óptimo de k para la mayoría de los problemas. (lo que se demostrará mas adelante)"
   ]
  },
  {
   "cell_type": "markdown",
   "metadata": {},
   "source": [
    "En la siguiente celda se desnormalizan las predicciones del modelo k-NN para devolver los valores a su escala original. Este paso es crucial para interpretar las predicciones en el contexto original de los datos, específicamente para la variable objetivo SalePrice."
   ]
  },
  {
   "cell_type": "code",
   "execution_count": 14,
   "metadata": {
    "vscode": {
     "languageId": "r"
    }
   },
   "outputs": [
    {
     "data": {
      "text/html": [
       "<style>\n",
       ".list-inline {list-style: none; margin:0; padding: 0}\n",
       ".list-inline>li {display: inline-block}\n",
       ".list-inline>li:not(:last-child)::after {content: \"\\00b7\"; padding: 0 .5ex}\n",
       "</style>\n",
       "<ol class=list-inline><li>51327</li><li>181061</li><li>35840</li><li>92920</li><li>380530</li><li>127433</li></ol>\n"
      ],
      "text/latex": [
       "\\begin{enumerate*}\n",
       "\\item 51327\n",
       "\\item 181061\n",
       "\\item 35840\n",
       "\\item 92920\n",
       "\\item 380530\n",
       "\\item 127433\n",
       "\\end{enumerate*}\n"
      ],
      "text/markdown": [
       "1. 51327\n",
       "2. 181061\n",
       "3. 35840\n",
       "4. 92920\n",
       "5. 380530\n",
       "6. 127433\n",
       "\n",
       "\n"
      ],
      "text/plain": [
       "[1]  51327 181061  35840  92920 380530 127433"
      ]
     },
     "metadata": {},
     "output_type": "display_data"
    }
   ],
   "source": [
    "#Desnormalizo las predicciones para devolverlas a la escala original\n",
    "#osea desnormalizo los valores de SalePrice de las predicciones\n",
    "knn_pred <- desnormalizar(knn_pred, min_vals[\"SalePrice\"],\n",
    "                          max_vals[\"SalePrice\"])\n",
    "head(knn_pred)"
   ]
  },
  {
   "cell_type": "markdown",
   "metadata": {},
   "source": [
    "Estos valores ahora están en la escala original de `SalePrice`, lo que permite una interpretación directa y una comparación con los valores reales en el conjunto de prueba.\n",
    "\n",
    "La desnormalización de las predicciones es esencial para:\n",
    "\n",
    "- Interpretación: Permitir la interpretación de las predicciones en el contexto original de los datos.\n",
    "- Comparación: Facilitar la comparación directa entre las predicciones y los valores reales de SalePrice."
   ]
  },
  {
   "cell_type": "markdown",
   "metadata": {},
   "source": [
    "En la siguiente celda se desnormalizan los valores de SalePrice en el conjunto de prueba. Esto permite comparar las predicciones desnormalizadas con los valores reales de SalePrice en su escala original."
   ]
  },
  {
   "cell_type": "code",
   "execution_count": 16,
   "metadata": {
    "vscode": {
     "languageId": "r"
    }
   },
   "outputs": [
    {
     "data": {
      "text/html": [
       "<style>\n",
       ".list-inline {list-style: none; margin:0; padding: 0}\n",
       ".list-inline>li {display: inline-block}\n",
       ".list-inline>li:not(:last-child)::after {content: \"\\00b7\"; padding: 0 .5ex}\n",
       "</style>\n",
       "<ol class=list-inline><li>48672</li><li>200884</li><li>38053</li><li>92035</li><li>292035</li><li>138053</li></ol>\n"
      ],
      "text/latex": [
       "\\begin{enumerate*}\n",
       "\\item 48672\n",
       "\\item 200884\n",
       "\\item 38053\n",
       "\\item 92035\n",
       "\\item 292035\n",
       "\\item 138053\n",
       "\\end{enumerate*}\n"
      ],
      "text/markdown": [
       "1. 48672\n",
       "2. 200884\n",
       "3. 38053\n",
       "4. 92035\n",
       "5. 292035\n",
       "6. 138053\n",
       "\n",
       "\n"
      ],
      "text/plain": [
       "[1]  48672 200884  38053  92035 292035 138053"
      ]
     },
     "metadata": {},
     "output_type": "display_data"
    }
   ],
   "source": [
    "#desnormalizo los valores de SalePrice en el conjunto de prueba\n",
    "precio_prueba <- desnormalizar(prueba$SalePrice, min_vals[\"SalePrice\"],\n",
    "                               max_vals[\"SalePrice\"])\n",
    "head(precio_prueba)"
   ]
  },
  {
   "cell_type": "markdown",
   "metadata": {},
   "source": [
    "Desnormalizar SalePrice en el conjunto de prueba es crucial para:\n",
    "\n",
    "- Comparabilidad: Permitir la comparación directa entre las predicciones desnormalizadas y los valores reales de `SalePrice`.\n",
    "- Evaluación del Modelo: Facilitar la evaluación del rendimiento del modelo utilizando métricas."
   ]
  },
  {
   "cell_type": "markdown",
   "metadata": {},
   "source": [
    "En las siguientes 2 celdas se definen y calculan varias métricas de evaluación del modelo k-NN utilizando las predicciones desnormalizadas y los valores reales de `SalePrice` en el conjunto de prueba. Estas métricas permiten evaluar la precisión y efectividad del modelo."
   ]
  },
  {
   "cell_type": "code",
   "execution_count": 17,
   "metadata": {
    "vscode": {
     "languageId": "r"
    }
   },
   "outputs": [],
   "source": [
    "# Funciones de Métricas de Evaluación del Modelo\n",
    "mae <- function(actual, predicted) {\n",
    "  mean(abs(actual - predicted))\n",
    "}\n",
    "\n",
    "rmse <- function(actual, predicted) {\n",
    "  sqrt(mean((actual - predicted)^2))\n",
    "}\n",
    "\n",
    "metrics <- function(actual, predicted) {\n",
    "  cat(\"cor  =\", cor(actual, predicted),\n",
    "      \"\\nMAE  =\", mae(actual, predicted),\n",
    "      \"\\nRMSE =\", rmse(actual, predicted))\n",
    "}"
   ]
  },
  {
   "cell_type": "code",
   "execution_count": 18,
   "metadata": {
    "vscode": {
     "languageId": "r"
    }
   },
   "outputs": [
    {
     "name": "stdout",
     "output_type": "stream",
     "text": [
      "cor  = 0.9615033 \n",
      "MAE  = 18413.52 \n",
      "RMSE = 29335.16"
     ]
    }
   ],
   "source": [
    "#Veo las metricas de evaluacion\n",
    "metrics(precio_prueba, knn_pred)"
   ]
  },
  {
   "cell_type": "markdown",
   "metadata": {},
   "source": [
    "Resultados de las Métricas\n",
    "\n",
    "- Correlación (cor): Indica una fuerte correlación positiva entre los valores predichos y los valores reales. Una correlación de 0.9615 sugiere que las predicciones del modelo k-NN están fuertemente alineadas con los valores reales de `SalePrice`.\n",
    "\n",
    "- MAE (Mean Absolute Error): Representa el error absoluto medio en las predicciones. Un valor más bajo indica un modelo más preciso. Un MAE de 18413.52 indica que, en promedio, las predicciones del modelo k-NN están a 18413.52 unidades monetarias de los valores reales.\n",
    "\n",
    "- RMSE (Root Mean Squared Error): Representa la raíz del error cuadrático medio. Un valor más bajo indica un modelo más preciso. Un RMSE de 29335.16 proporciona una medida de la desviación cuadrática media de las predicciones respecto a los valores reales. Valores más bajos de RMSE son preferibles ya que indican menor error."
   ]
  },
  {
   "cell_type": "markdown",
   "metadata": {},
   "source": [
    "Dado que el paquete knnreg ofrece muy poca configuración, y el objetivo es minimizar el RMSE, algo que es conseguible configurando parametros e hiperparametro, se opta por ocupar paquete kknn, para revisar si es que se puede minimizar más la metrica RMSE."
   ]
  },
  {
   "cell_type": "markdown",
   "metadata": {},
   "source": [
    "### k-nn con paquete kknn"
   ]
  },
  {
   "cell_type": "markdown",
   "metadata": {},
   "source": [
    "En la siguiente celda se aplica el modelo k-NN de regresión utilizando el paquete kknn en lugar de knnreg. El objetivo es aprovechar las capacidades avanzadas de configuración y optimización del paquete kknn para minimizar la métrica RMSE."
   ]
  },
  {
   "cell_type": "code",
   "execution_count": 19,
   "metadata": {
    "vscode": {
     "languageId": "r"
    }
   },
   "outputs": [
    {
     "data": {
      "text/html": [
       "<style>\n",
       ".list-inline {list-style: none; margin:0; padding: 0}\n",
       ".list-inline>li {display: inline-block}\n",
       ".list-inline>li:not(:last-child)::after {content: \"\\00b7\"; padding: 0 .5ex}\n",
       "</style>\n",
       "<ol class=list-inline><li>0.0335998929663332</li><li>0.268159111331285</li><li>0.0055993794940128</li><li>0.108800083891252</li><li>0.628799288370756</li><li>0.171199626828567</li></ol>\n"
      ],
      "text/latex": [
       "\\begin{enumerate*}\n",
       "\\item 0.0335998929663332\n",
       "\\item 0.268159111331285\n",
       "\\item 0.0055993794940128\n",
       "\\item 0.108800083891252\n",
       "\\item 0.628799288370756\n",
       "\\item 0.171199626828567\n",
       "\\end{enumerate*}\n"
      ],
      "text/markdown": [
       "1. 0.0335998929663332\n",
       "2. 0.268159111331285\n",
       "3. 0.0055993794940128\n",
       "4. 0.108800083891252\n",
       "5. 0.628799288370756\n",
       "6. 0.171199626828567\n",
       "\n",
       "\n"
      ],
      "text/plain": [
       "[1] 0.033599893 0.268159111 0.005599379 0.108800084 0.628799288 0.171199627"
      ]
     },
     "metadata": {},
     "output_type": "display_data"
    }
   ],
   "source": [
    "set.seed(12345)\n",
    "# realizo la prediccion con el modelo knn de regresionm con k=1\n",
    "# y con el metodo de kernel optimo, distancia euclidiana p = 2\n",
    "knn <- kknn(SalePrice ~ ., entrenamiento, prueba, distance = 2, k = 1)\n",
    "knn_pred <- knn$fitted.values\n",
    "head(knn_pred)"
   ]
  },
  {
   "cell_type": "markdown",
   "metadata": {},
   "source": [
    "Paso a Paso del Proceso\n",
    "\n",
    "Configuración de la Semilla:\n",
    "\n",
    "- `set.seed(12345)`: Establece una semilla para garantizar la reproducibilidad de los resultados.\n",
    "\n",
    "Aplicación del Modelo k-NN con kknn:\n",
    "\n",
    "- `knn <- kknn(SalePrice ~ ., entrenamiento, prueba, distance = 2, k = 1)`:\n",
    "- Utiliza la función `kknn` para crear un modelo k-NN de regresión.\n",
    "- `SalePrice ~ .` indica que `SalePrice` es la variable objetivo y todas las demás columnas son predictores.\n",
    "- `distance = 2` especifica el uso de la distancia euclidiana.\n",
    "- `k = 1` indica que se utiliza el vecino más cercano.\n",
    "\n",
    "Obtención de las Predicciones:\n",
    "\n",
    "- `knn_pred <- knn$fitted.values`: Extrae los valores predichos del modelo k-NN.\n",
    "- `head(knn_pred)`: Muestra las primeras seis predicciones obtenidas."
   ]
  },
  {
   "cell_type": "markdown",
   "metadata": {},
   "source": [
    "El paquete `knnreg` ofrece opciones limitadas para configurar y optimizar el modelo k-NN. En contraste, kknn proporciona mayor flexibilidad y capacidad de ajuste, permitiendo configuraciones avanzadas como:\n",
    "\n",
    "- `Métodos de Kernel`: Diferentes métodos de kernel pueden influir en la suavidad de las predicciones.\n",
    "- `Distancias Personalizables`: Permite especificar diferentes métricas de distancia (e.g., euclidiana, Manhattan).\n",
    "- `Optimización de Hiperparámetros`: Facilita la búsqueda de valores óptimos para los hiperparámetros, como el número de vecinos k."
   ]
  },
  {
   "cell_type": "markdown",
   "metadata": {},
   "source": [
    "En la siguiente celda se desnormalizan las predicciones obtenidas del modelo k-NN para devolver los valores a su escala original de SalePrice. Este paso es crucial para interpretar las predicciones en la escala original de los datos."
   ]
  },
  {
   "cell_type": "code",
   "execution_count": 20,
   "metadata": {
    "vscode": {
     "languageId": "r"
    }
   },
   "outputs": [
    {
     "data": {
      "text/html": [
       "<style>\n",
       ".list-inline {list-style: none; margin:0; padding: 0}\n",
       ".list-inline>li {display: inline-block}\n",
       ".list-inline>li:not(:last-child)::after {content: \"\\00b7\"; padding: 0 .5ex}\n",
       "</style>\n",
       "<ol class=list-inline><li>51327</li><li>181061</li><li>35840</li><li>92920</li><li>380530</li><li>127433</li></ol>\n"
      ],
      "text/latex": [
       "\\begin{enumerate*}\n",
       "\\item 51327\n",
       "\\item 181061\n",
       "\\item 35840\n",
       "\\item 92920\n",
       "\\item 380530\n",
       "\\item 127433\n",
       "\\end{enumerate*}\n"
      ],
      "text/markdown": [
       "1. 51327\n",
       "2. 181061\n",
       "3. 35840\n",
       "4. 92920\n",
       "5. 380530\n",
       "6. 127433\n",
       "\n",
       "\n"
      ],
      "text/plain": [
       "[1]  51327 181061  35840  92920 380530 127433"
      ]
     },
     "metadata": {},
     "output_type": "display_data"
    }
   ],
   "source": [
    "#Desnormalizo las predicciones para devolverlas a la escala original\n",
    "knn_pred <- desnormalizar(knn_pred, min_vals[\"SalePrice\"],\n",
    "                          max_vals[\"SalePrice\"])\n",
    "head(knn_pred)"
   ]
  },
  {
   "cell_type": "markdown",
   "metadata": {},
   "source": [
    "Los valores ahora están en la escala original de SalePrice, lo que permite una interpretación directa y una comparación con los valores reales en el conjunto de prueba.\n",
    "\n",
    "La desnormalización de las predicciones es esencial para:\n",
    "\n",
    "- Interpretación: Permitir la interpretación de las predicciones en el contexto original de los datos.\n",
    "- Comparación: Facilitar la comparación directa entre las predicciones y los valores reales de SalePrice."
   ]
  },
  {
   "cell_type": "markdown",
   "metadata": {},
   "source": [
    "En la siguiente celda se desnormalizan los valores de SalePrice en el conjunto de prueba. Esto permite comparar las predicciones desnormalizadas con los valores reales de SalePrice en su escala original."
   ]
  },
  {
   "cell_type": "code",
   "execution_count": 21,
   "metadata": {
    "vscode": {
     "languageId": "r"
    }
   },
   "outputs": [
    {
     "data": {
      "text/html": [
       "<style>\n",
       ".list-inline {list-style: none; margin:0; padding: 0}\n",
       ".list-inline>li {display: inline-block}\n",
       ".list-inline>li:not(:last-child)::after {content: \"\\00b7\"; padding: 0 .5ex}\n",
       "</style>\n",
       "<ol class=list-inline><li>48672</li><li>200884</li><li>38053</li><li>92035</li><li>292035</li><li>138053</li></ol>\n"
      ],
      "text/latex": [
       "\\begin{enumerate*}\n",
       "\\item 48672\n",
       "\\item 200884\n",
       "\\item 38053\n",
       "\\item 92035\n",
       "\\item 292035\n",
       "\\item 138053\n",
       "\\end{enumerate*}\n"
      ],
      "text/markdown": [
       "1. 48672\n",
       "2. 200884\n",
       "3. 38053\n",
       "4. 92035\n",
       "5. 292035\n",
       "6. 138053\n",
       "\n",
       "\n"
      ],
      "text/plain": [
       "[1]  48672 200884  38053  92035 292035 138053"
      ]
     },
     "metadata": {},
     "output_type": "display_data"
    }
   ],
   "source": [
    "#desnormalizo los valores de SalePrice en el conjunto de prueba\n",
    "precio_prueba <- desnormalizar(prueba$SalePrice, min_vals[\"SalePrice\"],\n",
    "                               max_vals[\"SalePrice\"])\n",
    "head(precio_prueba)"
   ]
  },
  {
   "cell_type": "markdown",
   "metadata": {},
   "source": [
    "Los valores están ahora en la escala original de SalePrice, lo que facilita la interpretación y comparación con las predicciones del modelo.\n",
    "\n",
    "Desnormalizar SalePrice en el conjunto de prueba es crucial para:\n",
    "\n",
    "- Comparabilidad: Permitir la comparación directa entre las predicciones desnormalizadas y los valores reales de SalePrice.\n",
    "- Evaluación del Modelo: Facilitar la evaluación del rendimiento del modelo utilizando métricas. "
   ]
  },
  {
   "cell_type": "markdown",
   "metadata": {},
   "source": [
    "En las siguientes celda se ocupa la variable metrics, ya definida y explicada anteriormente, pero en esta oportunidad para calcular varias métricas de evaluación del modelo k-NN utilizando el paquete kknn ocupando las predicciones desnormalizadas y los valores reales de `SalePrice` en el conjunto de prueba."
   ]
  },
  {
   "cell_type": "code",
   "execution_count": 22,
   "metadata": {
    "vscode": {
     "languageId": "r"
    }
   },
   "outputs": [
    {
     "name": "stdout",
     "output_type": "stream",
     "text": [
      "cor  = 0.962854 \n",
      "MAE  = 17643.97 \n",
      "RMSE = 28791.39"
     ]
    }
   ],
   "source": [
    "#Veo las metricas de evaluacion\n",
    "metrics(precio_prueba, knn_pred)"
   ]
  },
  {
   "cell_type": "markdown",
   "metadata": {},
   "source": [
    "Análisis de los Resultados\n",
    "\n",
    "Correlación\n",
    "\n",
    "- **`knnreg`**: 0.9615033\n",
    "- **`kknn`**: 0.962854\n",
    "- **Interpretación**: Ambos modelos muestran una correlación alta entre las predicciones y los valores reales, indicando que ambos modelos capturan bien la relación entre las variables predictoras y la variable objetivo. Sin embargo, el modelo `kknn` tiene una correlación ligeramente superior, sugiriendo una mejor alineación entre las predicciones y los valores reales.\n",
    "\n",
    "MAE (Mean Absolute Error)\n",
    "\n",
    "- **`knnreg`**: 18413.52\n",
    "- **`kknn`**: 17643.97\n",
    "- **Interpretación**: El MAE más bajo del modelo `kknn` indica que, en promedio, las predicciones están más cerca de los valores reales en comparación con el modelo `knnreg`. Esto sugiere una mejora en la precisión de las predicciones al usar `kknn`.\n",
    "\n",
    "RMSE (Root Mean Squared Error)\n",
    "\n",
    "- **`knnreg`**: 29335.16\n",
    "- **`kknn`**: 28791.39\n",
    "- **Interpretación**: El RMSE más bajo del modelo `kknn` indica que las predicciones tienen una desviación cuadrática media menor respecto a los valores reales en comparación con el modelo `knnreg`. Esto sugiere que el modelo `kknn` maneja mejor los errores grandes y proporciona predicciones más precisas.\n",
    "\n",
    "Ventajas de Usar `kknn` Sobre `knnreg`\n",
    "\n",
    "1. **Configuración Avanzada**:\n",
    "   - **Número de Vecinos**: Ambos paquetes permiten configurar el número de vecinos (k), pero `kknn` ofrece configuraciones adicionales.\n",
    "   - **Métricas de Distancia**: `kknn` permite elegir entre diferentes métricas de distancia (Euclidiana, Manhattan, Minkowski), proporcionando flexibilidad para seleccionar la mejor métrica para los datos específicos.\n",
    "   - **Métodos de Kernel**: `kknn` incluye opciones de kernel que pueden mejorar la suavidad y precisión de las predicciones.\n",
    "\n",
    "2. **Mejor Rendimiento**:\n",
    "   - **Menor MAE y RMSE**: Las métricas más bajas obtenidas con `kknn` indican que este paquete puede producir modelos más precisos, lo cual es crucial cuando el objetivo es minimizar el RMSE.\n",
    "   - **Mejor Correlación**: La correlación ligeramente superior sugiere que las predicciones de `kknn` están mejor alineadas con los valores reales.\n",
    "\n",
    "El uso del paquete `kknn` ha demostrado una mejora en el rendimiento del modelo k-NN en comparación con `knnreg`. Por ende lo siguiente será encontrar los mejores parametros de kknn para minimizar aún más el RMSE.\n"
   ]
  },
  {
   "cell_type": "markdown",
   "metadata": {},
   "source": [
    "En la siguiente celda se configura el control de entrenamiento utilizando el método de bootstrap y se define una cuadrícula de hiperparámetros para explorar durante el proceso de ajuste del modelo. El objetivo es encontrar la combinación de hiperparámetros que minimice el RMSE."
   ]
  },
  {
   "cell_type": "code",
   "execution_count": 23,
   "metadata": {
    "vscode": {
     "languageId": "r"
    }
   },
   "outputs": [],
   "source": [
    "# Configuración de control de entrenamiento para bootstrap\n",
    "boot <- trainControl(method = \"boot\", number = 1)\n",
    "# Parámetros\n",
    "hyper_grid <- expand.grid(kmax = seq(1, 20, 2),\n",
    "                          distance = seq(1, 3, 1),\n",
    "                          kernel = c(\"optimal\", \"gaussian\", \"triangular\"))"
   ]
  },
  {
   "cell_type": "markdown",
   "metadata": {},
   "source": [
    "Paso a Paso del Proceso\n",
    "\n",
    "1. Configuración de Control de Entrenamiento para Bootstrap:\n",
    "\n",
    "- `boot <- trainControl(method = \"boot\", number = 1)`:\n",
    "- `method = \"boot\"`: Especifica que se utilizará el método de bootstrap para el remuestreo.\n",
    "- `number = 1`: Indica que se realizará un solo ciclo de bootstrap en cada iteración del ajuste de hiperparámetros. Esto se puede ajustar según la necesidad para realizar más iteraciones de bootstrap.\n",
    "\n",
    "2. Definición de la Cuadrícula de Hiperparámetros:\n",
    "\n",
    "- `hyper_grid <- expand.grid(kmax = seq(1, 20, 2), distance = seq(1, 3, 1), kernel = c(\"optimal\", \"gaussian\", \"triangular\"))`:\n",
    "- `kmax = seq(1, 20, 2)`: Explora valores impares de k desde 1 hasta 20.\n",
    "- `distance = seq(1, 3, 1)`: Explora tres métricas de distancia diferentes: 1 (Manhattan), 2 (Euclidiana), y 3 (Minkowski).\n",
    "- `kernel = c(\"optimal\", \"gaussian\", \"triangular\")`: Explora tres métodos de kernel diferentes: óptimo, gaussiano y triangular.\n",
    "\n",
    "Selección de Valores de k\n",
    "\n",
    "Número de Vecinos (kmax):\n",
    "\n",
    "- Rango de 1 a 20: Este rango proporciona un buen equilibrio entre explorar modelos muy simples (k = 1) y modelos más complejos (k = 20).\n",
    "- Incremento de 2 en 2: Los valores impares de k se utilizan para evitar empates en la clasificación, lo cual es particularmente relevante en problemas de clasificación. Aunque en regresión, el uso de valores impares ayuda a mantener consistencia y evita situaciones en las que múltiples vecinos podrían influir de manera igualitaria pero contradictoria en la predicción.\n",
    "- Número Impar: Para regresión, el uso de números impares también facilita una mejor distribución de los vecinos considerados y evita posibles sesgos introducidos por divisiones iguales.\n",
    "\n",
    "Importancia\n",
    "\n",
    "- Método de Bootstrap: El bootstrap es un método de remuestreo que permite evaluar la estabilidad y la variabilidad del modelo, proporcionando una estimación más robusta del rendimiento del modelo.\n",
    "- Exploración de Hiperparámetros: La definición de una cuadrícula de hiperparámetros permite explorar sistemáticamente diferentes combinaciones de parámetros para encontrar la mejor configuración que minimice el RMSE. La capacidad de ajustar múltiples parámetros simultáneamente (k, distancia y kernel) es una ventaja significativa del paquete kknn.\n",
    "\n",
    "El objetivo es utilizar el control de entrenamiento y la cuadrícula de hiperparámetros para ajustar el modelo k-NN de manera óptima, encontrando la combinación de parámetros que minimice el RMSE y mejore la precisión del modelo."
   ]
  },
  {
   "cell_type": "markdown",
   "metadata": {},
   "source": [
    "**Nota importante**: El modificar el numero de bootstraps trae consigo una enorme carga computacional, a modo de ejemplo, lo probe con 3 numeros distintos, donde obtuve los siguientes tiempos de ejecucion:\n",
    "\n",
    "- 1 bootstrap --> 3 min 50\n",
    "- 5 bootstraps --> 19 min 40\n",
    "- 20 bootstraps --> 1 hr 16 min\n",
    "\n",
    "Por lo que para efectos de velocidad de ejecución de este modelo, preferí dejarlo con 1 bootstrap."
   ]
  },
  {
   "cell_type": "markdown",
   "metadata": {},
   "source": [
    "En la siguiente celda se entrena un modelo k-NN utilizando el paquete kknn con una grilla de hiperparámetros definida previamente. El objetivo es encontrar la combinación óptima de hiperparámetros que minimice el RMSE."
   ]
  },
  {
   "cell_type": "code",
   "execution_count": 24,
   "metadata": {
    "vscode": {
     "languageId": "r"
    }
   },
   "outputs": [
    {
     "data": {
      "text/plain": [
       "k-Nearest Neighbors \n",
       "\n",
       "4121 samples\n",
       "  40 predictor\n",
       "\n",
       "No pre-processing\n",
       "Resampling: Bootstrapped (1 reps) \n",
       "Summary of sample sizes: 4121 \n",
       "Resampling results across tuning parameters:\n",
       "\n",
       "  kmax  distance  kernel      RMSE        Rsquared   MAE       \n",
       "   1    1         optimal     0.05302130  0.9223631  0.03352027\n",
       "   1    1         gaussian    0.05302130  0.9223631  0.03352027\n",
       "   1    1         triangular  0.05302130  0.9223631  0.03352027\n",
       "   1    2         optimal     0.05392793  0.9191230  0.03453864\n",
       "   1    2         gaussian    0.05392793  0.9191230  0.03453864\n",
       "   1    2         triangular  0.05392793  0.9191230  0.03453864\n",
       "   1    3         optimal     0.05283243  0.9222793  0.03400897\n",
       "   1    3         gaussian    0.05283243  0.9222793  0.03400897\n",
       "   1    3         triangular  0.05283243  0.9222793  0.03400897\n",
       "   3    1         optimal     0.05038349  0.9294120  0.03192316\n",
       "   3    1         gaussian    0.05302130  0.9223631  0.03352027\n",
       "   3    1         triangular  0.04817849  0.9351485  0.03056020\n",
       "   3    2         optimal     0.05168601  0.9254183  0.03307507\n",
       "   3    2         gaussian    0.05392793  0.9191230  0.03453864\n",
       "   3    2         triangular  0.04946447  0.9314592  0.03170190\n",
       "   3    3         optimal     0.05089160  0.9276307  0.03274776\n",
       "   3    3         gaussian    0.05283243  0.9222793  0.03400897\n",
       "   3    3         triangular  0.04934482  0.9318161  0.03144182\n",
       "   5    1         optimal     0.05038349  0.9294120  0.03192316\n",
       "   5    1         gaussian    0.05302130  0.9223631  0.03352027\n",
       "   5    1         triangular  0.04817849  0.9351485  0.03056020\n",
       "   5    2         optimal     0.05168601  0.9254183  0.03307507\n",
       "   5    2         gaussian    0.05392793  0.9191230  0.03453864\n",
       "   5    2         triangular  0.04946447  0.9314592  0.03170190\n",
       "   5    3         optimal     0.05089160  0.9276307  0.03274776\n",
       "   5    3         gaussian    0.05283243  0.9222793  0.03400897\n",
       "   5    3         triangular  0.04934482  0.9318161  0.03144182\n",
       "   7    1         optimal     0.05038349  0.9294120  0.03192316\n",
       "   7    1         gaussian    0.05302130  0.9223631  0.03352027\n",
       "   7    1         triangular  0.04817849  0.9351485  0.03056020\n",
       "   7    2         optimal     0.05168601  0.9254183  0.03307507\n",
       "   7    2         gaussian    0.05392793  0.9191230  0.03453864\n",
       "   7    2         triangular  0.04859204  0.9338438  0.03124157\n",
       "   7    3         optimal     0.05089160  0.9276307  0.03274776\n",
       "   7    3         gaussian    0.05283243  0.9222793  0.03400897\n",
       "   7    3         triangular  0.04897029  0.9328281  0.03120197\n",
       "   9    1         optimal     0.05038349  0.9294120  0.03192316\n",
       "   9    1         gaussian    0.05302130  0.9223631  0.03352027\n",
       "   9    1         triangular  0.04817849  0.9351485  0.03056020\n",
       "   9    2         optimal     0.05168601  0.9254183  0.03307507\n",
       "   9    2         gaussian    0.05392793  0.9191230  0.03453864\n",
       "   9    2         triangular  0.04859204  0.9338438  0.03124157\n",
       "   9    3         optimal     0.05089160  0.9276307  0.03274776\n",
       "   9    3         gaussian    0.05283243  0.9222793  0.03400897\n",
       "   9    3         triangular  0.04897029  0.9328281  0.03120197\n",
       "  11    1         optimal     0.05038349  0.9294120  0.03192316\n",
       "  11    1         gaussian    0.05302130  0.9223631  0.03352027\n",
       "  11    1         triangular  0.04817849  0.9351485  0.03056020\n",
       "  11    2         optimal     0.05168601  0.9254183  0.03307507\n",
       "  11    2         gaussian    0.05392793  0.9191230  0.03453864\n",
       "  11    2         triangular  0.04946447  0.9314592  0.03170190\n",
       "  11    3         optimal     0.05089160  0.9276307  0.03274776\n",
       "  11    3         gaussian    0.05283243  0.9222793  0.03400897\n",
       "  11    3         triangular  0.04934482  0.9318161  0.03144182\n",
       "  13    1         optimal     0.05038349  0.9294120  0.03192316\n",
       "  13    1         gaussian    0.05302130  0.9223631  0.03352027\n",
       "  13    1         triangular  0.04817849  0.9351485  0.03056020\n",
       "  13    2         optimal     0.05168601  0.9254183  0.03307507\n",
       "  13    2         gaussian    0.05392793  0.9191230  0.03453864\n",
       "  13    2         triangular  0.04946447  0.9314592  0.03170190\n",
       "  13    3         optimal     0.05089160  0.9276307  0.03274776\n",
       "  13    3         gaussian    0.05283243  0.9222793  0.03400897\n",
       "  13    3         triangular  0.04934482  0.9318161  0.03144182\n",
       "  15    1         optimal     0.05038349  0.9294120  0.03192316\n",
       "  15    1         gaussian    0.05302130  0.9223631  0.03352027\n",
       "  15    1         triangular  0.04817849  0.9351485  0.03056020\n",
       "  15    2         optimal     0.05168601  0.9254183  0.03307507\n",
       "  15    2         gaussian    0.05392793  0.9191230  0.03453864\n",
       "  15    2         triangular  0.04859204  0.9338438  0.03124157\n",
       "  15    3         optimal     0.05089160  0.9276307  0.03274776\n",
       "  15    3         gaussian    0.05283243  0.9222793  0.03400897\n",
       "  15    3         triangular  0.04934482  0.9318161  0.03144182\n",
       "  17    1         optimal     0.05038349  0.9294120  0.03192316\n",
       "  17    1         gaussian    0.05302130  0.9223631  0.03352027\n",
       "  17    1         triangular  0.04817849  0.9351485  0.03056020\n",
       "  17    2         optimal     0.05168601  0.9254183  0.03307507\n",
       "  17    2         gaussian    0.05392793  0.9191230  0.03453864\n",
       "  17    2         triangular  0.04946447  0.9314592  0.03170190\n",
       "  17    3         optimal     0.05089160  0.9276307  0.03274776\n",
       "  17    3         gaussian    0.05283243  0.9222793  0.03400897\n",
       "  17    3         triangular  0.04934482  0.9318161  0.03144182\n",
       "  19    1         optimal     0.05038349  0.9294120  0.03192316\n",
       "  19    1         gaussian    0.05302130  0.9223631  0.03352027\n",
       "  19    1         triangular  0.04817849  0.9351485  0.03056020\n",
       "  19    2         optimal     0.05168601  0.9254183  0.03307507\n",
       "  19    2         gaussian    0.05392793  0.9191230  0.03453864\n",
       "  19    2         triangular  0.04859204  0.9338438  0.03124157\n",
       "  19    3         optimal     0.05089160  0.9276307  0.03274776\n",
       "  19    3         gaussian    0.05283243  0.9222793  0.03400897\n",
       "  19    3         triangular  0.04934482  0.9318161  0.03144182\n",
       "\n",
       "RMSE was used to select the optimal model using the smallest value.\n",
       "The final values used for the model were kmax = 19, distance = 1 and kernel\n",
       " = triangular."
      ]
     },
     "metadata": {},
     "output_type": "display_data"
    }
   ],
   "source": [
    "# Entrenamiento\n",
    "set.seed(12345)\n",
    "knn_fit <- train(SalePrice ~ ., data = entrenamiento, method = \"kknn\",\n",
    "                 metric = \"RMSE\", trControl = boot, tuneGrid = hyper_grid)\n",
    "\n",
    "knn_fit"
   ]
  },
  {
   "cell_type": "markdown",
   "metadata": {},
   "source": [
    "El modelo se ajustó utilizando bootstrap y se evaluó a través de varias combinaciones de hiperparámetros (kmax, distancia y kernel)."
   ]
  },
  {
   "cell_type": "markdown",
   "metadata": {},
   "source": [
    "El uso del paquete kknn con una cuadrícula de hiperparámetros y el método de bootstrap ha permitido encontrar una combinación óptima de parámetros que mejora significativamente las métricas de rendimiento del modelo k-NN. Esto demuestra la importancia de la optimización de hiperparámetros para mejorar la precisión y robustez de los modelos de machine learning."
   ]
  },
  {
   "cell_type": "markdown",
   "metadata": {},
   "source": [
    "En la siguiente celda se genera un gráfico utilizando ggplot2 para visualizar los resultados del ajuste del modelo k-NN con diferentes hiperparámetros. El gráfico muestra cómo varía el RMSE en función del número de vecinos (kmax), la métrica de distancia, y el tipo de kernel utilizado."
   ]
  },
  {
   "cell_type": "code",
   "execution_count": 25,
   "metadata": {
    "vscode": {
     "languageId": "r"
    }
   },
   "outputs": [
    {
     "data": {
      "image/png": "[encoded data removed]",
      "text/plain": [
       "plot without title"
      ]
     },
     "metadata": {
      "image/png": {
       "height": 420,
       "width": 420
      }
     },
     "output_type": "display_data"
    }
   ],
   "source": [
    "# grafico de los resultados\n",
    "ggplot(knn_fit) +\n",
    "  facet_wrap(~ kernel, ncol = 2)"
   ]
  },
  {
   "cell_type": "markdown",
   "metadata": {},
   "source": [
    "Visualizar los resultados del ajuste del modelo permite:\n",
    "\n",
    "- **Identificación de Hiperparámetros Óptimos**: Facilita la identificación de la mejor combinación de hiperparámetros que minimiza el RMSE.\n",
    "- **Comparación de Desempeño**: Permite comparar el desempeño de diferentes tipos de kernel y métricas de distancia, ayudando a entender cuál combinación es más efectiva.\n",
    "- **Información para Toma de Decisiones**: Proporciona información visual que puede ser utilizada para tomar decisiones informadas sobre qué hiperparámetros usar en el modelo final.\n",
    "\n",
    "El gráfico indica que el uso de la distancia Manhattan (1) y el kernel triangular, con un número de vecinos entre 3 a 19, proporciona los mejores resultados en términos de RMSE. Esto valida los resultados numéricos obtenidos anteriormente y proporciona una representación visual clara del rendimiento del modelo."
   ]
  },
  {
   "cell_type": "markdown",
   "metadata": {},
   "source": [
    "Por otro lado el gráfico de resultados muestra que tanto un k-NN con 3 vecinos como uno con 19 vecinos producen RMSE similares, cuando la distancia es Manhattan y el kernel triangular. La diferencia en RMSE es mínima, por lo que es importante considerar otros factores al decidir entre estos dos valores de k.\n",
    "\n",
    "Comparación entre k = 3 y k = 19\n",
    "\n",
    "1. **k = 3**:\n",
    "   - **Ventajas**:\n",
    "     - **Menor Complejidad Computacional**: Utilizar 3 vecinos requiere menos cálculos de distancia y menos tiempo de predicción.\n",
    "     - **Menor Riesgo de Sobreajuste**: Un valor de k bajo puede capturar las peculiaridades locales de los datos, pero aún mantiene una capacidad de generalización razonable.\n",
    "   - **Desventajas**:\n",
    "     - **Sensibilidad al Ruido**: Con un valor de k bajo, el modelo es más sensible al ruido y a las anomalías en los datos, lo que puede afectar la precisión de las predicciones en ciertos casos.\n",
    "\n",
    "2. **k = 19**:\n",
    "   - **Ventajas**:\n",
    "     - **Mayor Robustez**: Utilizar más vecinos puede proporcionar predicciones más robustas y menos sensibles a las fluctuaciones y ruido en los datos, ya que se promedian más puntos.\n",
    "     - **Reducción de Variabilidad**: Un valor de k más alto reduce la variabilidad de las predicciones y puede mejorar la estabilidad del modelo.\n",
    "   - **Desventajas**:\n",
    "     - **Mayor Complejidad Computacional**: Requiere más cálculos de distancia, lo que aumenta el tiempo de predicción y la carga computacional, especialmente con grandes conjuntos de datos.\n",
    "     - **Riesgo de Subajuste**: Un valor de k muy alto puede llevar a subajuste, donde el modelo es demasiado general y no captura las relaciones locales en los datos.\n",
    "\n",
    "Consideraciones Prácticas\n",
    "\n",
    "- **Tamaño del Conjunto de Datos**: Con un conjunto de datos más grande, utilizar un k más alto como 19 puede ser más beneficioso para obtener predicciones robustas. En conjuntos de datos más pequeños, un valor más bajo como 3 puede ser más adecuado.\n",
    "- **Distribución de los Datos**: Si los datos tienen muchas anomalías o ruido, un k más alto puede ser preferible para suavizar estos efectos. En casos donde los datos son limpios y consistentes, un k más bajo puede capturar mejor las relaciones locales.\n",
    "- **Velocidad de Predicción**: Si la velocidad de predicción es crucial, un k más bajo será más rápido. Para aplicaciones en tiempo real, la diferencia en tiempo de computación entre k = 3 y k = 19 puede ser significativa.\n",
    "\n",
    "La elección entre k = 3 y k = 19 depende entonces, de un balance entre robustez y sensibilidad, complejidad computacional y riesgo de sobreajuste o subajuste. Dado que la diferencia en RMSE es mínima, se puede considerar:\n",
    "\n",
    "- **Para Mayor Robustez y Menos Sensibilidad al Ruido**: Utilizar k = 19.\n",
    "- **Para Menor Complejidad Computacional y Mayor Sensibilidad a Relaciones Locales**: Utilizar k = 3.\n",
    "\n",
    "En contextos donde se requiere una alta precisión y estabilidad en las predicciones, k = 19 puede ser la mejor opción. Para aplicaciones donde la velocidad y la simplicidad son más importantes, k = 3 podría ser preferible. Por ende, bajo este analisis la mejor opción será k = 19."
   ]
  },
  {
   "cell_type": "markdown",
   "metadata": {},
   "source": [
    "En la siguiente celda se aplica el modelo k-NN de regresión utilizando k = 19 vecinos, el método de kernel triangular y la distancia Manhattan (p = 1). Este ajuste se realiza para verificar si se obtiene un rendimiento óptimo del modelo, basado en los resultados anteriores."
   ]
  },
  {
   "cell_type": "code",
   "execution_count": 32,
   "metadata": {
    "vscode": {
     "languageId": "r"
    }
   },
   "outputs": [
    {
     "data": {
      "text/html": [
       "<style>\n",
       ".list-inline {list-style: none; margin:0; padding: 0}\n",
       ".list-inline>li {display: inline-block}\n",
       ".list-inline>li:not(:last-child)::after {content: \"\\00b7\"; padding: 0 .5ex}\n",
       "</style>\n",
       "<ol class=list-inline><li>0.0430016283549345</li><li>0.31924285189714</li><li>0.0279328253012017</li><li>0.102238006422799</li><li>0.485251717542366</li><li>0.160248724581126</li></ol>\n"
      ],
      "text/latex": [
       "\\begin{enumerate*}\n",
       "\\item 0.0430016283549345\n",
       "\\item 0.31924285189714\n",
       "\\item 0.0279328253012017\n",
       "\\item 0.102238006422799\n",
       "\\item 0.485251717542366\n",
       "\\item 0.160248724581126\n",
       "\\end{enumerate*}\n"
      ],
      "text/markdown": [
       "1. 0.0430016283549345\n",
       "2. 0.31924285189714\n",
       "3. 0.0279328253012017\n",
       "4. 0.102238006422799\n",
       "5. 0.485251717542366\n",
       "6. 0.160248724581126\n",
       "\n",
       "\n"
      ],
      "text/plain": [
       "[1] 0.04300163 0.31924285 0.02793283 0.10223801 0.48525172 0.16024872"
      ]
     },
     "metadata": {},
     "output_type": "display_data"
    }
   ],
   "source": [
    "set.seed(12345)\n",
    "# Realizo la predicción con el modelo knn de regresión, con k=19\n",
    "# y con el método de kernel triangular, distancia Manhattan p = 1\n",
    "knn <- kknn(SalePrice ~ ., entrenamiento, prueba, kernel = \"triangular\",\n",
    "            distance = 1, k = 19)\n",
    "knn_pred <- knn$fitted.values\n",
    "head(knn_pred)"
   ]
  },
  {
   "cell_type": "markdown",
   "metadata": {},
   "source": [
    "Paso a Paso del Proceso\n",
    "\n",
    "1. Configuración de la Semilla:\n",
    "\n",
    "- `set.seed(12345)`: Establece una semilla para garantizar la reproducibilidad de los resultados.\n",
    "\n",
    "2. Aplicación del Modelo k-NN con kknn:\n",
    "\n",
    "- `knn <- kknn(SalePrice ~ ., entrenamiento, prueba, kernel = \"triangular\", distance = 1, k = 19)`:\n",
    "- Utiliza la función kknn para crear un modelo k-NN de regresión.\n",
    "- `SalePrice ~ .`: Indica que SalePrice es la variable objetivo y todas las demás columnas del conjunto de datos se utilizan como predictores.\n",
    "- `kernel = \"triangular\"`: Especifica el uso del kernel triangular.\n",
    "- `distance = 1`: Especifica el uso de la distancia Manhattan.\n",
    "- `k = 19`: Indica que se utilizarán los 19 vecinos más cercanos para hacer las predicciones.\n",
    "\n",
    "3. Obtención de las Predicciones:\n",
    "\n",
    "- `knn_pred <- knn$fitted.values`: Extrae los valores predichos del modelo k-NN.\n",
    "- `head(knn_pred)`: Muestra las primeras seis predicciones obtenidas por el modelo k-NN."
   ]
  },
  {
   "cell_type": "markdown",
   "metadata": {},
   "source": [
    "Este enfoque permitirá verificar si el uso de k = 19, distancia = 1 (manhattan) y kernel triangular proporcionan una mejora significativa en el rendimiento del modelo en comparación con los otros modelos considerando las métricas de evaluación y la robustez de las predicciones."
   ]
  },
  {
   "cell_type": "markdown",
   "metadata": {},
   "source": [
    "En la próxima celda se desnormalizan las predicciones obtenidas del modelo k-NN (con k = 19, kernel triangular, y distancia Manhattan) para devolver los valores a su escala original de SalePrice."
   ]
  },
  {
   "cell_type": "code",
   "execution_count": 33,
   "metadata": {
    "vscode": {
     "languageId": "r"
    }
   },
   "outputs": [
    {
     "data": {
      "text/html": [
       "<style>\n",
       ".list-inline {list-style: none; margin:0; padding: 0}\n",
       ".list-inline>li {display: inline-block}\n",
       ".list-inline>li:not(:last-child)::after {content: \"\\00b7\"; padding: 0 .5ex}\n",
       "</style>\n",
       "<ol class=list-inline><li>56527.0716382292</li><li>209315.263655752</li><li>48192.5618756188</li><li>89290.5346384311</li><li>301134.26921753</li><li>121376.088819647</li></ol>\n"
      ],
      "text/latex": [
       "\\begin{enumerate*}\n",
       "\\item 56527.0716382292\n",
       "\\item 209315.263655752\n",
       "\\item 48192.5618756188\n",
       "\\item 89290.5346384311\n",
       "\\item 301134.26921753\n",
       "\\item 121376.088819647\n",
       "\\end{enumerate*}\n"
      ],
      "text/markdown": [
       "1. 56527.0716382292\n",
       "2. 209315.263655752\n",
       "3. 48192.5618756188\n",
       "4. 89290.5346384311\n",
       "5. 301134.26921753\n",
       "6. 121376.088819647\n",
       "\n",
       "\n"
      ],
      "text/plain": [
       "[1]  56527.07 209315.26  48192.56  89290.53 301134.27 121376.09"
      ]
     },
     "metadata": {},
     "output_type": "display_data"
    }
   ],
   "source": [
    "#Desnormalizo las predicciones para devolverlas a la escala original\n",
    "knn_pred <- desnormalizar(knn_pred, min_vals[\"SalePrice\"],\n",
    "                          max_vals[\"SalePrice\"])\n",
    "head(knn_pred)"
   ]
  },
  {
   "cell_type": "markdown",
   "metadata": {},
   "source": [
    "Los valores ahora están en la escala original de SalePrice, lo que permite una interpretación directa y una comparación con los valores reales en el conjunto de prueba.\n",
    "\n",
    "La desnormalización de las predicciones es esencial para:\n",
    "\n",
    "- Interpretación: Permitir la interpretación de las predicciones en el contexto original de los datos.\n",
    "- Comparación: Facilitar la comparación directa entre las predicciones y los valores reales de SalePrice."
   ]
  },
  {
   "cell_type": "markdown",
   "metadata": {},
   "source": [
    "En la siguiente celda se desnormalizan los valores de SalePrice en el conjunto de prueba. Esto permite comparar las predicciones desnormalizadas con los valores reales de SalePrice en su escala original."
   ]
  },
  {
   "cell_type": "code",
   "execution_count": 36,
   "metadata": {
    "vscode": {
     "languageId": "r"
    }
   },
   "outputs": [
    {
     "data": {
      "text/html": [
       "<style>\n",
       ".list-inline {list-style: none; margin:0; padding: 0}\n",
       ".list-inline>li {display: inline-block}\n",
       ".list-inline>li:not(:last-child)::after {content: \"\\00b7\"; padding: 0 .5ex}\n",
       "</style>\n",
       "<ol class=list-inline><li>48672</li><li>200884</li><li>38053</li><li>92035</li><li>292035</li><li>138053</li></ol>\n"
      ],
      "text/latex": [
       "\\begin{enumerate*}\n",
       "\\item 48672\n",
       "\\item 200884\n",
       "\\item 38053\n",
       "\\item 92035\n",
       "\\item 292035\n",
       "\\item 138053\n",
       "\\end{enumerate*}\n"
      ],
      "text/markdown": [
       "1. 48672\n",
       "2. 200884\n",
       "3. 38053\n",
       "4. 92035\n",
       "5. 292035\n",
       "6. 138053\n",
       "\n",
       "\n"
      ],
      "text/plain": [
       "[1]  48672 200884  38053  92035 292035 138053"
      ]
     },
     "metadata": {},
     "output_type": "display_data"
    }
   ],
   "source": [
    "#desnormalizo los valores de SalePrice en el conjunto de prueba\n",
    "precio_prueba <- desnormalizar(prueba$SalePrice, min_vals[\"SalePrice\"],\n",
    "                               max_vals[\"SalePrice\"])\n",
    "head(precio_prueba)"
   ]
  },
  {
   "cell_type": "markdown",
   "metadata": {},
   "source": [
    "Estos valores están ahora en la escala original de SalePrice, lo que facilita la interpretación y comparación con las predicciones del modelo.\n",
    "\n",
    "Desnormalizar SalePrice en el conjunto de prueba es crucial para:\n",
    "\n",
    "- Comparabilidad: Permitir la comparación directa entre las predicciones desnormalizadas y los valores reales de SalePrice.\n",
    "- Evaluación del Modelo: Facilitar la evaluación del rendimiento del modelo utilizando métricas."
   ]
  },
  {
   "cell_type": "code",
   "execution_count": 35,
   "metadata": {
    "vscode": {
     "languageId": "r"
    }
   },
   "outputs": [
    {
     "name": "stdout",
     "output_type": "stream",
     "text": [
      "cor  = 0.9723958 \n",
      "MAE  = 16558.37 \n",
      "RMSE = 24760.22"
     ]
    }
   ],
   "source": [
    "#Veo las metricas de evaluacion\n",
    "metrics(precio_prueba, knn_pred)"
   ]
  },
  {
   "cell_type": "markdown",
   "metadata": {},
   "source": [
    "Comparación de Resultados de k-NN Usando Diferentes Configuraciones y Paquetes\n",
    "\n",
    "Resultados con `knnreg` (k = 1)\n",
    "\n",
    "- **Correlación (cor)**: 0.9615033\n",
    "- **MAE (Mean Absolute Error)**: 18413.52\n",
    "- **RMSE (Root Mean Squared Error)**: 29335.16\n",
    "\n",
    "Resultados con `kknn` sin Optimización (k = 1, distance = 2, kernel = optimal)\n",
    "\n",
    "- **Correlación (cor)**: 0.962854\n",
    "- **MAE (Mean Absolute Error)**: 17643.97\n",
    "- **RMSE (Root Mean Squared Error)**: 28791.39\n",
    "\n",
    "Resultados con `kknn` Optimizado (k = 19, distance = 1, kernel = triangular)\n",
    "\n",
    "- **Correlación (cor)**: 0.9723958\n",
    "- **MAE (Mean Absolute Error)**: 16558.37\n",
    "- **RMSE (Root Mean Squared Error)**: 24760.22\n",
    "\n",
    "Análisis de los Resultados\n",
    "\n",
    "Correlación\n",
    "\n",
    "- **`knnreg` (k = 1)**: 0.9615033\n",
    "- **`kknn` sin optimización**: 0.962854\n",
    "- **`kknn` optimizado**: 0.9723958\n",
    "- **Interpretación**: La correlación mejora ligeramente con el uso de `kknn` en comparación con `knnreg`. La mayor mejora se observa con la versión optimizada de `kknn`, indicando una mejor alineación entre las predicciones y los valores reales.\n",
    "\n",
    "MAE (Mean Absolute Error)\n",
    "\n",
    "- **`knnreg` (k = 1)**: 18413.52\n",
    "- **`kknn` sin optimización**: 17643.97\n",
    "- **`kknn` optimizado**: 16558.37\n",
    "- **Interpretación**: El MAE disminuye significativamente al pasar de `knnreg` a `kknn`, y aún más con la versión optimizada de `kknn`. Un MAE más bajo indica que las predicciones están, en promedio, más cerca de los valores reales, lo que sugiere una mejora en la precisión del modelo.\n",
    "\n",
    "RMSE (Root Mean Squared Error)\n",
    "\n",
    "- **`knnreg` (k = 1)**: 29335.16\n",
    "- **`kknn` sin optimización**: 28791.39\n",
    "- **`kknn` optimizado**: 24760.22\n",
    "- **Interpretación**: El RMSE muestra una reducción significativa al pasar de `knnreg` a `kknn`, y aún más con la versión optimizada de `kknn`. Un RMSE más bajo indica una menor desviación cuadrática media entre las predicciones y los valores reales, lo que refleja una mejor capacidad del modelo para hacer predicciones precisas.\n",
    "\n",
    "Ventajas de Usar `kknn` con Hiperparámetros Optimizados\n",
    "\n",
    "1. **Mayor Precisión**:\n",
    "   - La optimización de los hiperparámetros en `kknn` ha resultado en mejoras significativas en las métricas de evaluación, particularmente en RMSE y MAE, que son indicadores clave de la precisión del modelo.\n",
    "   - La correlación más alta también sugiere que el modelo optimizado captura mejor la relación entre las variables predictoras y la variable objetivo.\n",
    "\n",
    "2. **Flexibilidad y Configurabilidad**:\n",
    "   - `kknn` permite ajustar no solo el número de vecinos (k), sino también la métrica de distancia y el tipo de kernel, proporcionando una mayor flexibilidad para adaptar el modelo a los datos específicos.\n",
    "   - La capacidad de optimizar estos parámetros ayuda a mejorar significativamente el rendimiento del modelo en comparación con el uso de configuraciones predeterminadas.\n",
    "\n",
    "Conclusión\n",
    "\n",
    "El uso del paquete `kknn` con una cuadrícula de hiperparámetros y el método de bootstrap ha permitido encontrar una combinación óptima de parámetros que mejora significativamente las métricas de rendimiento del modelo k-NN. En particular, utilizar k = 19, distancia Manhattan, y kernel triangular ha resultado en el mejor rendimiento, minimizando el RMSE y mejorando la precisión de las predicciones."
   ]
  }
 ],
 "metadata": {
  "kernelspec": {
   "display_name": "R",
   "language": "R",
   "name": "ir"
  },
  "language_info": {
   "codemirror_mode": "r",
   "file_extension": ".r",
   "mimetype": "text/x-r-source",
   "name": "R",
   "pygments_lexer": "r",
   "version": "4.4.0"
  }
 },
 "nbformat": 4,
 "nbformat_minor": 2
}
