{
 "cells": [
  {
   "cell_type": "raw",
   "metadata": {
    "vscode": {
     "languageId": "raw"
    }
   },
   "source": [
    "---\n",
    "title: 'Trabajo ML1: Parte 3'\n",
    "author: Jose Castro\n",
    "date: 24 junio 2024\n",
    "format:\n",
    "  html:\n",
    "    code-fold: false\n",
    "jupyter: ir\n",
    "---"
   ]
  },
  {
   "cell_type": "markdown",
   "metadata": {},
   "source": [
    "Realizo la importacion de librerias que ocuparé para el analisis descriptivo, el modelo k-NN de clasificacion y el modelo Naive Bayes."
   ]
  },
  {
   "cell_type": "code",
   "execution_count": 2,
   "metadata": {
    "vscode": {
     "languageId": "r"
    }
   },
   "outputs": [],
   "source": [
    "# importacion de librerias\n",
    "library(ggplot2)\n",
    "library(dplyr)\n",
    "library(readr)\n",
    "library(vcd)\n",
    "library(reshape2)\n",
    "library(ltm)\n",
    "library(gmodels)\n",
    "library(pROC)\n",
    "library(kknn)\n",
    "library(caret)\n",
    "library(e1071)\n",
    "library(rsample)\n",
    "library(naivebayes)"
   ]
  },
  {
   "cell_type": "markdown",
   "metadata": {},
   "source": [
    "Cargo la base de datos, que fue descarga del siguiente link:\n",
    "\n",
    "https://www.kaggle.com/datasets/joebeachcapital/loan-default"
   ]
  },
  {
   "cell_type": "code",
   "execution_count": 2,
   "metadata": {
    "vscode": {
     "languageId": "r"
    }
   },
   "outputs": [
    {
     "name": "stderr",
     "output_type": "stream",
     "text": [
      "\u001b[1m\u001b[22mNew names:\n",
      "\u001b[36m•\u001b[39m `` -> `...1`\n",
      "\u001b[1mRows: \u001b[22m\u001b[34m38480\u001b[39m \u001b[1mColumns: \u001b[22m\u001b[34m37\u001b[39m\n",
      "\u001b[36m──\u001b[39m \u001b[1mColumn specification\u001b[22m \u001b[36m────────────────────────────────────────────────────────\u001b[39m\n",
      "\u001b[1mDelimiter:\u001b[22m \",\"\n",
      "\u001b[31mchr\u001b[39m (14): term, emp_length, home_ownership, verification_status, issue_d, lo...\n",
      "\u001b[32mdbl\u001b[39m (23): ...1, id, member_id, loan_amnt, funded_amnt, funded_amnt_inv, int_...\n",
      "\n",
      "\u001b[36mℹ\u001b[39m Use `spec()` to retrieve the full column specification for this data.\n",
      "\u001b[36mℹ\u001b[39m Specify the column types or set `show_col_types = FALSE` to quiet this message.\n"
     ]
    }
   ],
   "source": [
    "loan_data <- read_csv(\"Anonymize_Loan_Default_data.csv\")\n",
    "loan_data <- as.data.frame(loan_data)"
   ]
  },
  {
   "cell_type": "markdown",
   "metadata": {},
   "source": [
    "El siguiente bloque de código tiene como objetivo asegurarse de que todos los datos de tipo carácter en el conjunto de datos loan_data estén codificados en UTF-8."
   ]
  },
  {
   "cell_type": "code",
   "execution_count": 3,
   "metadata": {
    "vscode": {
     "languageId": "r"
    }
   },
   "outputs": [],
   "source": [
    "# Recorro todas las columnas del dataframe\n",
    "for (i in seq_along(loan_data)) {\n",
    "  # Verifico si la columna es de tipo caracter\n",
    "  if (is.character(loan_data[[i]])) {\n",
    "    # Convierto la columna a UTF-8\n",
    "    loan_data[[i]] <- iconv(loan_data[[i]], to = \"UTF-8\")\n",
    "  }\n",
    "}"
   ]
  },
  {
   "cell_type": "markdown",
   "metadata": {},
   "source": [
    "Este paso es crucial para evitar problemas de codificación que podrían surgir durante el análisis o procesamiento de los datos. La codificación UTF-8 es un estándar que garantiza la compatibilidad de caracteres especiales y acentos, especialmente útil si el conjunto de datos incluye texto en diferentes idiomas o caracteres especiales.\n",
    "\n",
    "1. **Recorrido de columnas**: Se utiliza un bucle for para iterar sobre todas las columnas del dataframe loan_data. seq_along(loan_data) genera una secuencia de índices basada en el número de columnas en el dataframe.\n",
    "2. **Verificación de tipo de columna**: Dentro del bucle, se verifica si la columna actual es de tipo carácter utilizando `is.character(loan_data[[i]])`.\n",
    "3. **Conversión a UTF-8**: Si la columna es de tipo carácter, se convierte a UTF-8 utilizando la función iconv, lo cual asegura que todos los caracteres sean compatibles y se puedan manejar correctamente en análisis posteriores.\n",
    "\n",
    "Este paso es una medida preventiva importante para evitar errores relacionados con la codificación de caracteres en etapas posteriores del análisis."
   ]
  },
  {
   "cell_type": "markdown",
   "metadata": {},
   "source": [
    "La siguiente tiene como objetivo limpiar el conjunto de datos loan_data eliminando columnas con altos porcentajes de valores faltantes (NA) y columnas irrelevantes. La limpieza de datos es un paso esencial para asegurar que los análisis y modelos posteriores se basen en datos de calidad y evitar sesgos o errores."
   ]
  },
  {
   "cell_type": "code",
   "execution_count": 4,
   "metadata": {
    "vscode": {
     "languageId": "r"
    }
   },
   "outputs": [
    {
     "data": {
      "text/html": [
       "<table class=\"dataframe\">\n",
       "<caption>A data.frame: 6 × 34</caption>\n",
       "<thead>\n",
       "\t<tr><th></th><th scope=col>id</th><th scope=col>member_id</th><th scope=col>loan_amnt</th><th scope=col>funded_amnt</th><th scope=col>funded_amnt_inv</th><th scope=col>term</th><th scope=col>int_rate</th><th scope=col>installment</th><th scope=col>emp_length</th><th scope=col>home_ownership</th><th scope=col>⋯</th><th scope=col>revol_util</th><th scope=col>total_acc</th><th scope=col>total_pymnt</th><th scope=col>total_pymnt_inv</th><th scope=col>total_rec_prncp</th><th scope=col>total_rec_int</th><th scope=col>last_pymnt_d</th><th scope=col>last_pymnt_amnt</th><th scope=col>last_credit_pull_d</th><th scope=col>repay_fail</th></tr>\n",
       "\t<tr><th></th><th scope=col>&lt;dbl&gt;</th><th scope=col>&lt;dbl&gt;</th><th scope=col>&lt;dbl&gt;</th><th scope=col>&lt;dbl&gt;</th><th scope=col>&lt;dbl&gt;</th><th scope=col>&lt;chr&gt;</th><th scope=col>&lt;dbl&gt;</th><th scope=col>&lt;dbl&gt;</th><th scope=col>&lt;chr&gt;</th><th scope=col>&lt;chr&gt;</th><th scope=col>⋯</th><th scope=col>&lt;chr&gt;</th><th scope=col>&lt;dbl&gt;</th><th scope=col>&lt;dbl&gt;</th><th scope=col>&lt;dbl&gt;</th><th scope=col>&lt;dbl&gt;</th><th scope=col>&lt;dbl&gt;</th><th scope=col>&lt;chr&gt;</th><th scope=col>&lt;dbl&gt;</th><th scope=col>&lt;chr&gt;</th><th scope=col>&lt;dbl&gt;</th></tr>\n",
       "</thead>\n",
       "<tbody>\n",
       "\t<tr><th scope=row>1</th><td><span style=white-space:pre-wrap>     2</span></td><td><span style=white-space:pre-wrap>      2</span></td><td><span style=white-space:pre-wrap>   0</span></td><td><span style=white-space:pre-wrap>   0</span></td><td><span style=white-space:pre-wrap>   0</span></td><td>36 months</td><td> 0.00</td><td><span style=white-space:pre-wrap>  0.00</span></td><td>&lt; 1 year </td><td><span style=white-space:pre-wrap>RENT    </span></td><td>⋯</td><td><span style=white-space:pre-wrap>NA    </span></td><td> 1</td><td><span style=white-space:pre-wrap>   0.000</span></td><td><span style=white-space:pre-wrap>   0.00</span></td><td><span style=white-space:pre-wrap>   0.00</span></td><td><span style=white-space:pre-wrap>   0.00</span></td><td>Jan-07</td><td><span style=white-space:pre-wrap>   0.00</span></td><td>Jan-07</td><td>1</td></tr>\n",
       "\t<tr><th scope=row>2</th><td>545583</td><td> 703644</td><td>2500</td><td>2500</td><td>2500</td><td>36 months</td><td>13.98</td><td> 85.42</td><td>4 years  </td><td>RENT    </td><td>⋯</td><td>21.30%</td><td>10</td><td>3075.292</td><td>3075.29</td><td>2500.00</td><td> 575.29</td><td>Jul-13</td><td>  90.85</td><td>Jun-16</td><td>0</td></tr>\n",
       "\t<tr><th scope=row>3</th><td>532101</td><td> 687836</td><td>5000</td><td>5000</td><td>5000</td><td>36 months</td><td>15.95</td><td>175.67</td><td>4 years  </td><td>RENT    </td><td>⋯</td><td>99.90%</td><td>15</td><td>2948.760</td><td>2948.76</td><td>1909.02</td><td> 873.81</td><td>Nov-11</td><td> 175.67</td><td>Mar-12</td><td>1</td></tr>\n",
       "\t<tr><th scope=row>4</th><td>877788</td><td>1092507</td><td>7000</td><td>7000</td><td>7000</td><td>36 months</td><td> 9.91</td><td>225.58</td><td>10+ years</td><td>MORTGAGE</td><td>⋯</td><td>47.20%</td><td>20</td><td>8082.392</td><td>8082.39</td><td>7000.00</td><td>1082.39</td><td>Mar-14</td><td>1550.27</td><td>Mar-14</td><td>0</td></tr>\n",
       "\t<tr><th scope=row>5</th><td>875406</td><td>1089981</td><td>2000</td><td>2000</td><td>2000</td><td>36 months</td><td> 5.42</td><td> 60.32</td><td>10+ years</td><td>RENT    </td><td>⋯</td><td>0%    </td><td>15</td><td>2161.663</td><td>2161.66</td><td>2000.00</td><td> 161.66</td><td>Feb-14</td><td>  53.12</td><td>Jun-16</td><td>0</td></tr>\n",
       "\t<tr><th scope=row>6</th><td>506439</td><td> 652909</td><td>3600</td><td>3600</td><td>3600</td><td>36 months</td><td>10.25</td><td>116.59</td><td>10+ years</td><td>MORTGAGE</td><td>⋯</td><td>0%    </td><td>25</td><td>4206.031</td><td>4206.03</td><td>3600.00</td><td> 606.03</td><td>May-13</td><td> 146.75</td><td>Jun-16</td><td>0</td></tr>\n",
       "</tbody>\n",
       "</table>\n"
      ],
      "text/latex": [
       "A data.frame: 6 × 34\n",
       "\\begin{tabular}{r|lllllllllllllllllllll}\n",
       "  & id & member\\_id & loan\\_amnt & funded\\_amnt & funded\\_amnt\\_inv & term & int\\_rate & installment & emp\\_length & home\\_ownership & ⋯ & revol\\_util & total\\_acc & total\\_pymnt & total\\_pymnt\\_inv & total\\_rec\\_prncp & total\\_rec\\_int & last\\_pymnt\\_d & last\\_pymnt\\_amnt & last\\_credit\\_pull\\_d & repay\\_fail\\\\\n",
       "  & <dbl> & <dbl> & <dbl> & <dbl> & <dbl> & <chr> & <dbl> & <dbl> & <chr> & <chr> & ⋯ & <chr> & <dbl> & <dbl> & <dbl> & <dbl> & <dbl> & <chr> & <dbl> & <chr> & <dbl>\\\\\n",
       "\\hline\n",
       "\t1 &      2 &       2 &    0 &    0 &    0 & 36 months &  0.00 &   0.00 & < 1 year  & RENT     & ⋯ & NA     &  1 &    0.000 &    0.00 &    0.00 &    0.00 & Jan-07 &    0.00 & Jan-07 & 1\\\\\n",
       "\t2 & 545583 &  703644 & 2500 & 2500 & 2500 & 36 months & 13.98 &  85.42 & 4 years   & RENT     & ⋯ & 21.30\\% & 10 & 3075.292 & 3075.29 & 2500.00 &  575.29 & Jul-13 &   90.85 & Jun-16 & 0\\\\\n",
       "\t3 & 532101 &  687836 & 5000 & 5000 & 5000 & 36 months & 15.95 & 175.67 & 4 years   & RENT     & ⋯ & 99.90\\% & 15 & 2948.760 & 2948.76 & 1909.02 &  873.81 & Nov-11 &  175.67 & Mar-12 & 1\\\\\n",
       "\t4 & 877788 & 1092507 & 7000 & 7000 & 7000 & 36 months &  9.91 & 225.58 & 10+ years & MORTGAGE & ⋯ & 47.20\\% & 20 & 8082.392 & 8082.39 & 7000.00 & 1082.39 & Mar-14 & 1550.27 & Mar-14 & 0\\\\\n",
       "\t5 & 875406 & 1089981 & 2000 & 2000 & 2000 & 36 months &  5.42 &  60.32 & 10+ years & RENT     & ⋯ & 0\\%     & 15 & 2161.663 & 2161.66 & 2000.00 &  161.66 & Feb-14 &   53.12 & Jun-16 & 0\\\\\n",
       "\t6 & 506439 &  652909 & 3600 & 3600 & 3600 & 36 months & 10.25 & 116.59 & 10+ years & MORTGAGE & ⋯ & 0\\%     & 25 & 4206.031 & 4206.03 & 3600.00 &  606.03 & May-13 &  146.75 & Jun-16 & 0\\\\\n",
       "\\end{tabular}\n"
      ],
      "text/markdown": [
       "\n",
       "A data.frame: 6 × 34\n",
       "\n",
       "| <!--/--> | id &lt;dbl&gt; | member_id &lt;dbl&gt; | loan_amnt &lt;dbl&gt; | funded_amnt &lt;dbl&gt; | funded_amnt_inv &lt;dbl&gt; | term &lt;chr&gt; | int_rate &lt;dbl&gt; | installment &lt;dbl&gt; | emp_length &lt;chr&gt; | home_ownership &lt;chr&gt; | ⋯ ⋯ | revol_util &lt;chr&gt; | total_acc &lt;dbl&gt; | total_pymnt &lt;dbl&gt; | total_pymnt_inv &lt;dbl&gt; | total_rec_prncp &lt;dbl&gt; | total_rec_int &lt;dbl&gt; | last_pymnt_d &lt;chr&gt; | last_pymnt_amnt &lt;dbl&gt; | last_credit_pull_d &lt;chr&gt; | repay_fail &lt;dbl&gt; |\n",
       "|---|---|---|---|---|---|---|---|---|---|---|---|---|---|---|---|---|---|---|---|---|---|\n",
       "| 1 |      2 |       2 |    0 |    0 |    0 | 36 months |  0.00 |   0.00 | &lt; 1 year  | RENT     | ⋯ | NA     |  1 |    0.000 |    0.00 |    0.00 |    0.00 | Jan-07 |    0.00 | Jan-07 | 1 |\n",
       "| 2 | 545583 |  703644 | 2500 | 2500 | 2500 | 36 months | 13.98 |  85.42 | 4 years   | RENT     | ⋯ | 21.30% | 10 | 3075.292 | 3075.29 | 2500.00 |  575.29 | Jul-13 |   90.85 | Jun-16 | 0 |\n",
       "| 3 | 532101 |  687836 | 5000 | 5000 | 5000 | 36 months | 15.95 | 175.67 | 4 years   | RENT     | ⋯ | 99.90% | 15 | 2948.760 | 2948.76 | 1909.02 |  873.81 | Nov-11 |  175.67 | Mar-12 | 1 |\n",
       "| 4 | 877788 | 1092507 | 7000 | 7000 | 7000 | 36 months |  9.91 | 225.58 | 10+ years | MORTGAGE | ⋯ | 47.20% | 20 | 8082.392 | 8082.39 | 7000.00 | 1082.39 | Mar-14 | 1550.27 | Mar-14 | 0 |\n",
       "| 5 | 875406 | 1089981 | 2000 | 2000 | 2000 | 36 months |  5.42 |  60.32 | 10+ years | RENT     | ⋯ | 0%     | 15 | 2161.663 | 2161.66 | 2000.00 |  161.66 | Feb-14 |   53.12 | Jun-16 | 0 |\n",
       "| 6 | 506439 |  652909 | 3600 | 3600 | 3600 | 36 months | 10.25 | 116.59 | 10+ years | MORTGAGE | ⋯ | 0%     | 25 | 4206.031 | 4206.03 | 3600.00 |  606.03 | May-13 |  146.75 | Jun-16 | 0 |\n",
       "\n"
      ],
      "text/plain": [
       "  id     member_id loan_amnt funded_amnt funded_amnt_inv term      int_rate\n",
       "1      2       2      0         0           0            36 months  0.00   \n",
       "2 545583  703644   2500      2500        2500            36 months 13.98   \n",
       "3 532101  687836   5000      5000        5000            36 months 15.95   \n",
       "4 877788 1092507   7000      7000        7000            36 months  9.91   \n",
       "5 875406 1089981   2000      2000        2000            36 months  5.42   \n",
       "6 506439  652909   3600      3600        3600            36 months 10.25   \n",
       "  installment emp_length home_ownership ⋯ revol_util total_acc total_pymnt\n",
       "1   0.00      < 1 year   RENT           ⋯ NA          1           0.000   \n",
       "2  85.42      4 years    RENT           ⋯ 21.30%     10        3075.292   \n",
       "3 175.67      4 years    RENT           ⋯ 99.90%     15        2948.760   \n",
       "4 225.58      10+ years  MORTGAGE       ⋯ 47.20%     20        8082.392   \n",
       "5  60.32      10+ years  RENT           ⋯ 0%         15        2161.663   \n",
       "6 116.59      10+ years  MORTGAGE       ⋯ 0%         25        4206.031   \n",
       "  total_pymnt_inv total_rec_prncp total_rec_int last_pymnt_d last_pymnt_amnt\n",
       "1    0.00            0.00            0.00       Jan-07          0.00        \n",
       "2 3075.29         2500.00          575.29       Jul-13         90.85        \n",
       "3 2948.76         1909.02          873.81       Nov-11        175.67        \n",
       "4 8082.39         7000.00         1082.39       Mar-14       1550.27        \n",
       "5 2161.66         2000.00          161.66       Feb-14         53.12        \n",
       "6 4206.03         3600.00          606.03       May-13        146.75        \n",
       "  last_credit_pull_d repay_fail\n",
       "1 Jan-07             1         \n",
       "2 Jun-16             0         \n",
       "3 Mar-12             1         \n",
       "4 Mar-14             0         \n",
       "5 Jun-16             0         \n",
       "6 Jun-16             0         "
      ]
     },
     "metadata": {},
     "output_type": "display_data"
    }
   ],
   "source": [
    "#borro la columna que contiene el muchos NA, 91% de los datos\n",
    "#columna next_pymnt_d\n",
    "loan_data <- loan_data[, -which(names(loan_data) %in% c(\"next_pymnt_d\"))]\n",
    "#borro la primera columna que se llama ...1\n",
    "loan_data <- loan_data[, -which(names(loan_data) %in% c(\"...1\"))]\n",
    "#borro la columna que tiene 61% de sus valores como NA\n",
    "loan_data <- loan_data[, -which(names(loan_data) %in%\n",
    "                                  c(\"mths_since_last_delinq\"))]"
   ]
  },
  {
   "cell_type": "markdown",
   "metadata": {},
   "source": [
    "La siguiente celda se utiliza para eliminar filas con valores faltantes (NA) del conjunto de datos loan_data, asegurando así que los datos sean completos para el análisis y modelado posterior. La eliminación de valores NA es un paso importante en la preparación de datos para evitar problemas durante el análisis."
   ]
  },
  {
   "cell_type": "code",
   "execution_count": 5,
   "metadata": {
    "vscode": {
     "languageId": "r"
    }
   },
   "outputs": [
    {
     "data": {
      "text/html": [
       "<style>\n",
       ".list-inline {list-style: none; margin:0; padding: 0}\n",
       ".list-inline>li {display: inline-block}\n",
       ".list-inline>li:not(:last-child)::after {content: \"\\00b7\"; padding: 0 .5ex}\n",
       "</style>\n",
       "<ol class=list-inline><li>38480</li><li>34</li></ol>\n"
      ],
      "text/latex": [
       "\\begin{enumerate*}\n",
       "\\item 38480\n",
       "\\item 34\n",
       "\\end{enumerate*}\n"
      ],
      "text/markdown": [
       "1. 38480\n",
       "2. 34\n",
       "\n",
       "\n"
      ],
      "text/plain": [
       "[1] 38480    34"
      ]
     },
     "metadata": {},
     "output_type": "display_data"
    }
   ],
   "source": [
    "#numero de filas y columnas antes de eliminar los NA\n",
    "dim(loan_data)"
   ]
  },
  {
   "cell_type": "code",
   "execution_count": 6,
   "metadata": {
    "vscode": {
     "languageId": "r"
    }
   },
   "outputs": [
    {
     "data": {
      "text/html": [
       "<style>\n",
       ".list-inline {list-style: none; margin:0; padding: 0}\n",
       ".list-inline>li {display: inline-block}\n",
       ".list-inline>li:not(:last-child)::after {content: \"\\00b7\"; padding: 0 .5ex}\n",
       "</style>\n",
       "<ol class=list-inline><li>38345</li><li>34</li></ol>\n"
      ],
      "text/latex": [
       "\\begin{enumerate*}\n",
       "\\item 38345\n",
       "\\item 34\n",
       "\\end{enumerate*}\n"
      ],
      "text/markdown": [
       "1. 38345\n",
       "2. 34\n",
       "\n",
       "\n"
      ],
      "text/plain": [
       "[1] 38345    34"
      ]
     },
     "metadata": {},
     "output_type": "display_data"
    }
   ],
   "source": [
    "#elimino las filas con valores NA de todas las columnas\n",
    "loan_data <- na.omit(loan_data)\n",
    "#numero de filas y columnas despues de eliminar los NA\n",
    "dim(loan_data)"
   ]
  },
  {
   "cell_type": "markdown",
   "metadata": {},
   "source": [
    "El resultado **38345 34** indica que el conjunto de datos ahora tiene 38345 filas y 34 columnas, lo que muestra que se eliminaron 135 filas con valores faltantes.\n",
    "\n",
    "Eliminar las filas con valores faltantes es crucial para asegurar la integridad de los datos y evitar errores o sesgos en el análisis y modelado. Este paso garantiza que los algoritmos de machine learning puedan trabajar con datos completos y confiables."
   ]
  },
  {
   "cell_type": "code",
   "execution_count": 7,
   "metadata": {
    "vscode": {
     "languageId": "r"
    }
   },
   "outputs": [
    {
     "data": {
      "text/html": [
       "<table class=\"dataframe\">\n",
       "<caption>A data.frame: 1 × 34</caption>\n",
       "<thead>\n",
       "\t<tr><th scope=col>id</th><th scope=col>member_id</th><th scope=col>loan_amnt</th><th scope=col>funded_amnt</th><th scope=col>funded_amnt_inv</th><th scope=col>term</th><th scope=col>int_rate</th><th scope=col>installment</th><th scope=col>emp_length</th><th scope=col>home_ownership</th><th scope=col>⋯</th><th scope=col>revol_util</th><th scope=col>total_acc</th><th scope=col>total_pymnt</th><th scope=col>total_pymnt_inv</th><th scope=col>total_rec_prncp</th><th scope=col>total_rec_int</th><th scope=col>last_pymnt_d</th><th scope=col>last_pymnt_amnt</th><th scope=col>last_credit_pull_d</th><th scope=col>repay_fail</th></tr>\n",
       "\t<tr><th scope=col>&lt;int&gt;</th><th scope=col>&lt;int&gt;</th><th scope=col>&lt;int&gt;</th><th scope=col>&lt;int&gt;</th><th scope=col>&lt;int&gt;</th><th scope=col>&lt;int&gt;</th><th scope=col>&lt;int&gt;</th><th scope=col>&lt;int&gt;</th><th scope=col>&lt;int&gt;</th><th scope=col>&lt;int&gt;</th><th scope=col>⋯</th><th scope=col>&lt;int&gt;</th><th scope=col>&lt;int&gt;</th><th scope=col>&lt;int&gt;</th><th scope=col>&lt;int&gt;</th><th scope=col>&lt;int&gt;</th><th scope=col>&lt;int&gt;</th><th scope=col>&lt;int&gt;</th><th scope=col>&lt;int&gt;</th><th scope=col>&lt;int&gt;</th><th scope=col>&lt;int&gt;</th></tr>\n",
       "</thead>\n",
       "<tbody>\n",
       "\t<tr><td>0</td><td>0</td><td>0</td><td>0</td><td>0</td><td>0</td><td>0</td><td>0</td><td>0</td><td>0</td><td>⋯</td><td>0</td><td>0</td><td>0</td><td>0</td><td>0</td><td>0</td><td>0</td><td>0</td><td>0</td><td>0</td></tr>\n",
       "</tbody>\n",
       "</table>\n"
      ],
      "text/latex": [
       "A data.frame: 1 × 34\n",
       "\\begin{tabular}{lllllllllllllllllllll}\n",
       " id & member\\_id & loan\\_amnt & funded\\_amnt & funded\\_amnt\\_inv & term & int\\_rate & installment & emp\\_length & home\\_ownership & ⋯ & revol\\_util & total\\_acc & total\\_pymnt & total\\_pymnt\\_inv & total\\_rec\\_prncp & total\\_rec\\_int & last\\_pymnt\\_d & last\\_pymnt\\_amnt & last\\_credit\\_pull\\_d & repay\\_fail\\\\\n",
       " <int> & <int> & <int> & <int> & <int> & <int> & <int> & <int> & <int> & <int> & ⋯ & <int> & <int> & <int> & <int> & <int> & <int> & <int> & <int> & <int> & <int>\\\\\n",
       "\\hline\n",
       "\t 0 & 0 & 0 & 0 & 0 & 0 & 0 & 0 & 0 & 0 & ⋯ & 0 & 0 & 0 & 0 & 0 & 0 & 0 & 0 & 0 & 0\\\\\n",
       "\\end{tabular}\n"
      ],
      "text/markdown": [
       "\n",
       "A data.frame: 1 × 34\n",
       "\n",
       "| id &lt;int&gt; | member_id &lt;int&gt; | loan_amnt &lt;int&gt; | funded_amnt &lt;int&gt; | funded_amnt_inv &lt;int&gt; | term &lt;int&gt; | int_rate &lt;int&gt; | installment &lt;int&gt; | emp_length &lt;int&gt; | home_ownership &lt;int&gt; | ⋯ ⋯ | revol_util &lt;int&gt; | total_acc &lt;int&gt; | total_pymnt &lt;int&gt; | total_pymnt_inv &lt;int&gt; | total_rec_prncp &lt;int&gt; | total_rec_int &lt;int&gt; | last_pymnt_d &lt;int&gt; | last_pymnt_amnt &lt;int&gt; | last_credit_pull_d &lt;int&gt; | repay_fail &lt;int&gt; |\n",
       "|---|---|---|---|---|---|---|---|---|---|---|---|---|---|---|---|---|---|---|---|---|\n",
       "| 0 | 0 | 0 | 0 | 0 | 0 | 0 | 0 | 0 | 0 | ⋯ | 0 | 0 | 0 | 0 | 0 | 0 | 0 | 0 | 0 | 0 |\n",
       "\n"
      ],
      "text/plain": [
       "  id member_id loan_amnt funded_amnt funded_amnt_inv term int_rate installment\n",
       "1 0  0         0         0           0               0    0        0          \n",
       "  emp_length home_ownership ⋯ revol_util total_acc total_pymnt total_pymnt_inv\n",
       "1 0          0              ⋯ 0          0         0           0              \n",
       "  total_rec_prncp total_rec_int last_pymnt_d last_pymnt_amnt last_credit_pull_d\n",
       "1 0               0             0            0               0                 \n",
       "  repay_fail\n",
       "1 0         "
      ]
     },
     "metadata": {},
     "output_type": "display_data"
    }
   ],
   "source": [
    "#reviso si hay columnas con valores NA\n",
    "loan_data %>% summarise(across(everything(), ~sum(is.na(.))))"
   ]
  },
  {
   "cell_type": "markdown",
   "metadata": {},
   "source": [
    "Con esto queda comprobado que ya no hay NA en las columnas, por lo que esto me asegura que no ocurriran errores al entrenar los modelos de ML provenientes de NA."
   ]
  },
  {
   "cell_type": "markdown",
   "metadata": {},
   "source": [
    "El siguiente código calcula el coeficiente de Cramér para evaluar la fuerza de asociación entre variables categóricas y la variable objetivo repay_fail, que es binaria. El coeficiente de Cramér es una medida de asociación entre dos variables categóricas y es útil en el análisis exploratorio de datos."
   ]
  },
  {
   "cell_type": "code",
   "execution_count": 8,
   "metadata": {
    "vscode": {
     "languageId": "r"
    }
   },
   "outputs": [],
   "source": [
    "# Función para calcular el coeficiente de Cramér en relacion a 2 variables\n",
    "# una variable categórica y target binaria\n",
    "cramers_v <- function(x, y) {\n",
    "  tbl <- table(x, y)\n",
    "  chi2 <- chisq.test(tbl, correct = FALSE)$statistic\n",
    "  n <- sum(tbl)\n",
    "  min_dim <- min(dim(tbl)) - 1\n",
    "  return(sqrt(chi2 / (n * min_dim)))\n",
    "}"
   ]
  },
  {
   "cell_type": "code",
   "execution_count": 9,
   "metadata": {
    "vscode": {
     "languageId": "r"
    }
   },
   "outputs": [],
   "source": [
    "# Calculo el coeficiente de Cramér para cada variable categórica\n",
    "# con respecto a 'repay_fail'\n",
    "vars_to_test <- c(\"zip_code\", \"addr_state\", \"last_pymnt_d\",\n",
    "                  \"last_credit_pull_d\", \"earliest_cr_line\", \"issue_d\",\n",
    "                  \"emp_length\", \"home_ownership\", \"loan_status\", \"purpose\")\n",
    "correlacion <- sapply(vars_to_test, function(var) {\n",
    "  suppressWarnings(cramers_v(loan_data[[var]], loan_data$repay_fail))\n",
    "})"
   ]
  },
  {
   "cell_type": "code",
   "execution_count": 10,
   "metadata": {
    "vscode": {
     "languageId": "r"
    }
   },
   "outputs": [
    {
     "data": {
      "text/html": [
       "<style>\n",
       ".dl-inline {width: auto; margin:0; padding: 0}\n",
       ".dl-inline>dt, .dl-inline>dd {float: none; width: auto; display: inline-block}\n",
       ".dl-inline>dt::after {content: \":\\0020\"; padding-right: .5ex}\n",
       ".dl-inline>dt:not(:first-of-type) {padding-left: .5ex}\n",
       "</style><dl class=dl-inline><dt>zip_code.X-squared</dt><dd>0.169016097245682</dd><dt>addr_state.X-squared</dt><dd>0.0663092610740247</dd><dt>last_pymnt_d.X-squared</dt><dd>0.263950487590177</dd><dt>last_credit_pull_d.X-squared</dt><dd>0.225079310665055</dd><dt>earliest_cr_line.X-squared</dt><dd>0.126216754041437</dd><dt>issue_d.X-squared</dt><dd>0.0835352249030549</dd><dt>emp_length.X-squared</dt><dd>0.0381688064061832</dd><dt>home_ownership.X-squared</dt><dd>0.0231557679389414</dd><dt>loan_status.X-squared</dt><dd>1</dd><dt>purpose.X-squared</dt><dd>0.0986792073483036</dd></dl>\n"
      ],
      "text/latex": [
       "\\begin{description*}\n",
       "\\item[zip\\textbackslash{}\\_code.X-squared] 0.169016097245682\n",
       "\\item[addr\\textbackslash{}\\_state.X-squared] 0.0663092610740247\n",
       "\\item[last\\textbackslash{}\\_pymnt\\textbackslash{}\\_d.X-squared] 0.263950487590177\n",
       "\\item[last\\textbackslash{}\\_credit\\textbackslash{}\\_pull\\textbackslash{}\\_d.X-squared] 0.225079310665055\n",
       "\\item[earliest\\textbackslash{}\\_cr\\textbackslash{}\\_line.X-squared] 0.126216754041437\n",
       "\\item[issue\\textbackslash{}\\_d.X-squared] 0.0835352249030549\n",
       "\\item[emp\\textbackslash{}\\_length.X-squared] 0.0381688064061832\n",
       "\\item[home\\textbackslash{}\\_ownership.X-squared] 0.0231557679389414\n",
       "\\item[loan\\textbackslash{}\\_status.X-squared] 1\n",
       "\\item[purpose.X-squared] 0.0986792073483036\n",
       "\\end{description*}\n"
      ],
      "text/markdown": [
       "zip_code.X-squared\n",
       ":   0.169016097245682addr_state.X-squared\n",
       ":   0.0663092610740247last_pymnt_d.X-squared\n",
       ":   0.263950487590177last_credit_pull_d.X-squared\n",
       ":   0.225079310665055earliest_cr_line.X-squared\n",
       ":   0.126216754041437issue_d.X-squared\n",
       ":   0.0835352249030549emp_length.X-squared\n",
       ":   0.0381688064061832home_ownership.X-squared\n",
       ":   0.0231557679389414loan_status.X-squared\n",
       ":   1purpose.X-squared\n",
       ":   0.0986792073483036\n",
       "\n"
      ],
      "text/plain": [
       "          zip_code.X-squared         addr_state.X-squared \n",
       "                  0.16901610                   0.06630926 \n",
       "      last_pymnt_d.X-squared last_credit_pull_d.X-squared \n",
       "                  0.26395049                   0.22507931 \n",
       "  earliest_cr_line.X-squared            issue_d.X-squared \n",
       "                  0.12621675                   0.08353522 \n",
       "        emp_length.X-squared     home_ownership.X-squared \n",
       "                  0.03816881                   0.02315577 \n",
       "       loan_status.X-squared            purpose.X-squared \n",
       "                  1.00000000                   0.09867921 "
      ]
     },
     "metadata": {},
     "output_type": "display_data"
    }
   ],
   "source": [
    "# Muestro los resultados\n",
    "correlacion"
   ]
  },
  {
   "cell_type": "markdown",
   "metadata": {},
   "source": [
    "zip_code (0.1690):\n",
    "\n",
    "- Baja correlación: Un valor de 0.169 indica que hay una asociación baja entre zip_code y repay_fail. Aunque no es insignificante, la alta cardinalidad (834 clases) de esta variable puede introducir ruido más que valor predictivo significativo.\n",
    "- Recomendación: Borrar esta columna.\n",
    "\n",
    "addr_state (0.0663):\n",
    "\n",
    "- Muy baja correlación: Un valor de 0.066 indica una correlación muy baja entre addr_state y repay_fail. Esto sugiere que el estado de residencia no es relevante para la predicción de incumplimiento.\n",
    "- Recomendación: Borrar esta columna.\n",
    "\n",
    "last_pymnt_d (0.2639):\n",
    "\n",
    "- Moderada correlación: Con un valor de 0.2639, esta variable muestra una correlación moderada con repay_fail. Esto sugiere que la fecha del último pago tiene cierta relevancia para la predicción.\n",
    "- Recomendación: Mantener esta columna.\n",
    "\n",
    "last_credit_pull_d (0.2250):\n",
    "\n",
    "- Baja a moderada correlación: Un valor de 0.225 indica una baja a moderada asociación entre last_credit_pull_d y repay_fail. A pesar de esto, puede no ser suficiente para justificar su inclusión debido a la complejidad de manejar fechas.\n",
    "- Recomendación: Mantener esta columna.\n",
    "\n",
    "earliest_cr_line (0.1262):\n",
    "\n",
    "- Baja correlación: Un valor de 0.1262 indica una asociación baja entre earliest_cr_line y repay_fail. Esto sugiere que la fecha de la línea de crédito más antigua no tiene una relevancia significativa para predecir el incumplimiento.\n",
    "- Recomendación: Borrar esta columna.\n",
    "\n",
    "issue_d (0.0835):\n",
    "\n",
    "- Muy baja correlación: Un valor de 0.0835 indica una asociación muy baja entre issue_d y repay_fail. Esto sugiere que la fecha de emisión del préstamo no es muy relevante para predecir el incumplimiento.\n",
    "- Recomendación: Borrar esta columna.\n",
    "\n",
    "emp_length (0.0381)\n",
    "\n",
    "- Muy baja correlación\n",
    "- Recomendación: Borrar esta columna\n",
    "\n",
    "home_ownership (0.0231)\n",
    "\n",
    "- Muy baja correlación\n",
    "- Recomendación: Borrar esta columna\n",
    "\n",
    "loan_status (1)\n",
    "\n",
    "- correlacion 1 a 1 con repay_fail\n",
    "- Recomendación: Borrar esta columna porque es basicamente lo mismo que la columna a predecir.\n",
    "\n",
    "purpose (0.0986)\n",
    "\n",
    "- Muy baja correlación\n",
    "- Recomendación: Borrar esta columna"
   ]
  },
  {
   "cell_type": "markdown",
   "metadata": {},
   "source": [
    "La siguiente celda de código se enfoca en eliminar varias columnas del conjunto de datos loan_data que han mostrado tener baja correlación con la variable objetivo repay_fail. Eliminar variables con baja correlación es una práctica común en la preparación de datos para reducir la dimensionalidad y simplificar los modelos sin perder información significativa."
   ]
  },
  {
   "cell_type": "code",
   "execution_count": 11,
   "metadata": {
    "vscode": {
     "languageId": "r"
    }
   },
   "outputs": [
    {
     "data": {
      "text/html": [
       "<style>\n",
       ".list-inline {list-style: none; margin:0; padding: 0}\n",
       ".list-inline>li {display: inline-block}\n",
       ".list-inline>li:not(:last-child)::after {content: \"\\00b7\"; padding: 0 .5ex}\n",
       "</style>\n",
       "<ol class=list-inline><li>38345</li><li>26</li></ol>\n"
      ],
      "text/latex": [
       "\\begin{enumerate*}\n",
       "\\item 38345\n",
       "\\item 26\n",
       "\\end{enumerate*}\n"
      ],
      "text/markdown": [
       "1. 38345\n",
       "2. 26\n",
       "\n",
       "\n"
      ],
      "text/plain": [
       "[1] 38345    26"
      ]
     },
     "metadata": {},
     "output_type": "display_data"
    }
   ],
   "source": [
    "#ejecuto las recomendaciones de borrar 2 columnas con baja correlacion\n",
    "#elimino la columna zip_code\n",
    "loan_data <- loan_data[, -which(names(loan_data) %in% c(\"zip_code\"))]\n",
    "#elimino la columna addr_state\n",
    "loan_data <- loan_data[, -which(names(loan_data) %in% c(\"addr_state\"))]\n",
    "#elimino la columna earliest_cr_line\n",
    "loan_data <- loan_data[, -which(names(loan_data) %in% c(\"earliest_cr_line\"))]\n",
    "#elimino la columna issue_d\n",
    "loan_data <- loan_data[, -which(names(loan_data) %in% c(\"issue_d\"))]\n",
    "#elimino la columna emp_length\n",
    "loan_data <- loan_data[, -which(names(loan_data) %in% c(\"emp_length\"))]\n",
    "#elimino la columna home_ownership\n",
    "loan_data <- loan_data[, -which(names(loan_data) %in% c(\"home_ownership\"))]\n",
    "#elimino la columna loan_status\n",
    "loan_data <- loan_data[, -which(names(loan_data) %in% c(\"loan_status\"))]\n",
    "#elimino la columna purpose\n",
    "loan_data <- loan_data[, -which(names(loan_data) %in% c(\"purpose\"))]\n",
    "dim(loan_data)"
   ]
  },
  {
   "cell_type": "markdown",
   "metadata": {},
   "source": [
    "El siguiente bloque de código se centra en la conversión y formateo adecuado de columnas de fecha."
   ]
  },
  {
   "cell_type": "code",
   "execution_count": 12,
   "metadata": {
    "vscode": {
     "languageId": "r"
    }
   },
   "outputs": [
    {
     "data": {
      "text/html": [
       "'English_United States.1252'"
      ],
      "text/latex": [
       "'English\\_United States.1252'"
      ],
      "text/markdown": [
       "'English_United States.1252'"
      ],
      "text/plain": [
       "[1] \"English_United States.1252\""
      ]
     },
     "metadata": {},
     "output_type": "display_data"
    },
    {
     "data": {
      "text/html": [
       "<table class=\"dataframe\">\n",
       "<caption>A data.frame: 6 × 2</caption>\n",
       "<thead>\n",
       "\t<tr><th></th><th scope=col>last_pymnt_d</th><th scope=col>last_credit_pull_d</th></tr>\n",
       "\t<tr><th></th><th scope=col>&lt;date&gt;</th><th scope=col>&lt;date&gt;</th></tr>\n",
       "</thead>\n",
       "<tbody>\n",
       "\t<tr><th scope=row>2</th><td>2013-07-01</td><td>2016-06-01</td></tr>\n",
       "\t<tr><th scope=row>3</th><td>2011-11-01</td><td>2012-03-01</td></tr>\n",
       "\t<tr><th scope=row>4</th><td>2014-03-01</td><td>2014-03-01</td></tr>\n",
       "\t<tr><th scope=row>5</th><td>2014-02-01</td><td>2016-06-01</td></tr>\n",
       "\t<tr><th scope=row>6</th><td>2013-05-01</td><td>2016-06-01</td></tr>\n",
       "\t<tr><th scope=row>7</th><td>2014-04-01</td><td>2014-04-01</td></tr>\n",
       "</tbody>\n",
       "</table>\n"
      ],
      "text/latex": [
       "A data.frame: 6 × 2\n",
       "\\begin{tabular}{r|ll}\n",
       "  & last\\_pymnt\\_d & last\\_credit\\_pull\\_d\\\\\n",
       "  & <date> & <date>\\\\\n",
       "\\hline\n",
       "\t2 & 2013-07-01 & 2016-06-01\\\\\n",
       "\t3 & 2011-11-01 & 2012-03-01\\\\\n",
       "\t4 & 2014-03-01 & 2014-03-01\\\\\n",
       "\t5 & 2014-02-01 & 2016-06-01\\\\\n",
       "\t6 & 2013-05-01 & 2016-06-01\\\\\n",
       "\t7 & 2014-04-01 & 2014-04-01\\\\\n",
       "\\end{tabular}\n"
      ],
      "text/markdown": [
       "\n",
       "A data.frame: 6 × 2\n",
       "\n",
       "| <!--/--> | last_pymnt_d &lt;date&gt; | last_credit_pull_d &lt;date&gt; |\n",
       "|---|---|---|\n",
       "| 2 | 2013-07-01 | 2016-06-01 |\n",
       "| 3 | 2011-11-01 | 2012-03-01 |\n",
       "| 4 | 2014-03-01 | 2014-03-01 |\n",
       "| 5 | 2014-02-01 | 2016-06-01 |\n",
       "| 6 | 2013-05-01 | 2016-06-01 |\n",
       "| 7 | 2014-04-01 | 2014-04-01 |\n",
       "\n"
      ],
      "text/plain": [
       "  last_pymnt_d last_credit_pull_d\n",
       "2 2013-07-01   2016-06-01        \n",
       "3 2011-11-01   2012-03-01        \n",
       "4 2014-03-01   2014-03-01        \n",
       "5 2014-02-01   2016-06-01        \n",
       "6 2013-05-01   2016-06-01        \n",
       "7 2014-04-01   2014-04-01        "
      ]
     },
     "metadata": {},
     "output_type": "display_data"
    }
   ],
   "source": [
    "#Indico a R que trabajaremos con fechas en inglés\n",
    "Sys.setlocale(\"LC_TIME\", \"English\")\n",
    "# Convierto las columnas de fecha al formato de fecha adecuado\n",
    "loan_data$last_pymnt_d <- as.Date(paste0(\"01-\", loan_data$last_pymnt_d),\n",
    "                                  format = \"%d-%b-%y\")\n",
    "loan_data$last_credit_pull_d <- as.Date(paste0(\"01-\", loan_data$last_credit_pull_d), format = \"%d-%b-%y\")\n",
    "# Verifico las conversiones de fecha\n",
    "head(loan_data[, c(\"last_pymnt_d\", \"last_credit_pull_d\")])"
   ]
  },
  {
   "cell_type": "markdown",
   "metadata": {},
   "source": [
    "Los siguientes 2 bloques de código se encargan de analizar las fechas mínimas y máximas de las columnas last_pymnt_d y last_credit_pull_d, y de crear nuevas columnas categorizando estas fechas en intervalos específicos. La categorización de fechas en intervalos será útil para disminuir los numeros de clases de cada columna de fechas."
   ]
  },
  {
   "cell_type": "code",
   "execution_count": 13,
   "metadata": {
    "vscode": {
     "languageId": "r"
    }
   },
   "outputs": [
    {
     "data": {
      "text/html": [
       "<time datetime=\"2007-12-01\">2007-12-01</time>"
      ],
      "text/latex": [
       "2007-12-01"
      ],
      "text/markdown": [
       "2007-12-01"
      ],
      "text/plain": [
       "[1] \"2007-12-01\""
      ]
     },
     "metadata": {},
     "output_type": "display_data"
    },
    {
     "data": {
      "text/html": [
       "<time datetime=\"2016-06-01\">2016-06-01</time>"
      ],
      "text/latex": [
       "2016-06-01"
      ],
      "text/markdown": [
       "2016-06-01"
      ],
      "text/plain": [
       "[1] \"2016-06-01\""
      ]
     },
     "metadata": {},
     "output_type": "display_data"
    },
    {
     "data": {
      "text/html": [
       "<time datetime=\"2007-05-01\">2007-05-01</time>"
      ],
      "text/latex": [
       "2007-05-01"
      ],
      "text/markdown": [
       "2007-05-01"
      ],
      "text/plain": [
       "[1] \"2007-05-01\""
      ]
     },
     "metadata": {},
     "output_type": "display_data"
    },
    {
     "data": {
      "text/html": [
       "<time datetime=\"2016-06-01\">2016-06-01</time>"
      ],
      "text/latex": [
       "2016-06-01"
      ],
      "text/markdown": [
       "2016-06-01"
      ],
      "text/plain": [
       "[1] \"2016-06-01\""
      ]
     },
     "metadata": {},
     "output_type": "display_data"
    }
   ],
   "source": [
    "#fecha minimas y maximas\n",
    "min(loan_data$last_pymnt_d)\n",
    "max(loan_data$last_pymnt_d)\n",
    "min(loan_data$last_credit_pull_d)\n",
    "max(loan_data$last_credit_pull_d)"
   ]
  },
  {
   "cell_type": "markdown",
   "metadata": {},
   "source": [
    "Creo columnas nuevas que agrupen fecha en intervalos, para las columnas `last_pymnt_d` y `last_credit_pull_d`, estos intervalos seran 2007-2010, 2011-2013 y 2014-2016."
   ]
  },
  {
   "cell_type": "code",
   "execution_count": 14,
   "metadata": {
    "vscode": {
     "languageId": "r"
    }
   },
   "outputs": [
    {
     "data": {
      "text/html": [
       "<table class=\"dataframe\">\n",
       "<caption>A data.frame: 6 × 4</caption>\n",
       "<thead>\n",
       "\t<tr><th></th><th scope=col>last_pymnt_d</th><th scope=col>last_pymnt_d2</th><th scope=col>last_credit_pull_d</th><th scope=col>last_credit_pull_d2</th></tr>\n",
       "\t<tr><th></th><th scope=col>&lt;date&gt;</th><th scope=col>&lt;chr&gt;</th><th scope=col>&lt;date&gt;</th><th scope=col>&lt;chr&gt;</th></tr>\n",
       "</thead>\n",
       "<tbody>\n",
       "\t<tr><th scope=row>2</th><td>2013-07-01</td><td>2011-2013</td><td>2016-06-01</td><td>2014-2016</td></tr>\n",
       "\t<tr><th scope=row>3</th><td>2011-11-01</td><td>2011-2013</td><td>2012-03-01</td><td>2011-2013</td></tr>\n",
       "\t<tr><th scope=row>4</th><td>2014-03-01</td><td>2014-2016</td><td>2014-03-01</td><td>2014-2016</td></tr>\n",
       "\t<tr><th scope=row>5</th><td>2014-02-01</td><td>2014-2016</td><td>2016-06-01</td><td>2014-2016</td></tr>\n",
       "\t<tr><th scope=row>6</th><td>2013-05-01</td><td>2011-2013</td><td>2016-06-01</td><td>2014-2016</td></tr>\n",
       "\t<tr><th scope=row>7</th><td>2014-04-01</td><td>2014-2016</td><td>2014-04-01</td><td>2014-2016</td></tr>\n",
       "</tbody>\n",
       "</table>\n"
      ],
      "text/latex": [
       "A data.frame: 6 × 4\n",
       "\\begin{tabular}{r|llll}\n",
       "  & last\\_pymnt\\_d & last\\_pymnt\\_d2 & last\\_credit\\_pull\\_d & last\\_credit\\_pull\\_d2\\\\\n",
       "  & <date> & <chr> & <date> & <chr>\\\\\n",
       "\\hline\n",
       "\t2 & 2013-07-01 & 2011-2013 & 2016-06-01 & 2014-2016\\\\\n",
       "\t3 & 2011-11-01 & 2011-2013 & 2012-03-01 & 2011-2013\\\\\n",
       "\t4 & 2014-03-01 & 2014-2016 & 2014-03-01 & 2014-2016\\\\\n",
       "\t5 & 2014-02-01 & 2014-2016 & 2016-06-01 & 2014-2016\\\\\n",
       "\t6 & 2013-05-01 & 2011-2013 & 2016-06-01 & 2014-2016\\\\\n",
       "\t7 & 2014-04-01 & 2014-2016 & 2014-04-01 & 2014-2016\\\\\n",
       "\\end{tabular}\n"
      ],
      "text/markdown": [
       "\n",
       "A data.frame: 6 × 4\n",
       "\n",
       "| <!--/--> | last_pymnt_d &lt;date&gt; | last_pymnt_d2 &lt;chr&gt; | last_credit_pull_d &lt;date&gt; | last_credit_pull_d2 &lt;chr&gt; |\n",
       "|---|---|---|---|---|\n",
       "| 2 | 2013-07-01 | 2011-2013 | 2016-06-01 | 2014-2016 |\n",
       "| 3 | 2011-11-01 | 2011-2013 | 2012-03-01 | 2011-2013 |\n",
       "| 4 | 2014-03-01 | 2014-2016 | 2014-03-01 | 2014-2016 |\n",
       "| 5 | 2014-02-01 | 2014-2016 | 2016-06-01 | 2014-2016 |\n",
       "| 6 | 2013-05-01 | 2011-2013 | 2016-06-01 | 2014-2016 |\n",
       "| 7 | 2014-04-01 | 2014-2016 | 2014-04-01 | 2014-2016 |\n",
       "\n"
      ],
      "text/plain": [
       "  last_pymnt_d last_pymnt_d2 last_credit_pull_d last_credit_pull_d2\n",
       "2 2013-07-01   2011-2013     2016-06-01         2014-2016          \n",
       "3 2011-11-01   2011-2013     2012-03-01         2011-2013          \n",
       "4 2014-03-01   2014-2016     2014-03-01         2014-2016          \n",
       "5 2014-02-01   2014-2016     2016-06-01         2014-2016          \n",
       "6 2013-05-01   2011-2013     2016-06-01         2014-2016          \n",
       "7 2014-04-01   2014-2016     2014-04-01         2014-2016          "
      ]
     },
     "metadata": {},
     "output_type": "display_data"
    }
   ],
   "source": [
    "# Creo nuevas columnas con los intervalos de fechas especificados\n",
    "loan_data <- loan_data %>%\n",
    "  mutate(\n",
    "    last_pymnt_d2 = case_when(\n",
    "      last_pymnt_d >= as.Date(\"2007-01-01\") & last_pymnt_d <= as.Date(\"2010-12-31\") ~ \"2007-2010\",\n",
    "      last_pymnt_d >= as.Date(\"2011-01-01\") & last_pymnt_d <= as.Date(\"2013-12-31\") ~ \"2011-2013\",\n",
    "      last_pymnt_d >= as.Date(\"2014-01-01\") & last_pymnt_d <= as.Date(\"2016-12-31\") ~ \"2014-2016\",\n",
    "      TRUE ~ NA_character_\n",
    "    ),\n",
    "    last_credit_pull_d2 = case_when(\n",
    "      last_credit_pull_d >= as.Date(\"2007-01-01\") & last_credit_pull_d <= as.Date(\"2010-12-31\") ~ \"2007-2010\",\n",
    "      last_credit_pull_d >= as.Date(\"2011-01-01\") & last_credit_pull_d <= as.Date(\"2013-12-31\") ~ \"2011-2013\",\n",
    "      last_credit_pull_d >= as.Date(\"2014-01-01\") & last_credit_pull_d <= as.Date(\"2016-12-31\") ~ \"2014-2016\",\n",
    "      TRUE ~ NA_character_\n",
    "    )\n",
    "  )\n",
    "\n",
    "# Verifico las nuevas columnas\n",
    "head(loan_data[, c(\"last_pymnt_d\", \"last_pymnt_d2\", \"last_credit_pull_d\", \"last_credit_pull_d2\")])"
   ]
  },
  {
   "cell_type": "markdown",
   "metadata": {},
   "source": [
    "Ahora que ya generé nuevas columnas con fechas agrupadas en intervalos, procedo a borrar las originales que ya no me sirven y proceso a renombrar las nuevas con el nombre de las antiguas columnas."
   ]
  },
  {
   "cell_type": "code",
   "execution_count": 15,
   "metadata": {
    "vscode": {
     "languageId": "r"
    }
   },
   "outputs": [
    {
     "data": {
      "text/html": [
       "<table class=\"dataframe\">\n",
       "<caption>A data.frame: 6 × 26</caption>\n",
       "<thead>\n",
       "\t<tr><th></th><th scope=col>id</th><th scope=col>member_id</th><th scope=col>loan_amnt</th><th scope=col>funded_amnt</th><th scope=col>funded_amnt_inv</th><th scope=col>term</th><th scope=col>int_rate</th><th scope=col>installment</th><th scope=col>annual_inc</th><th scope=col>verification_status</th><th scope=col>⋯</th><th scope=col>revol_util</th><th scope=col>total_acc</th><th scope=col>total_pymnt</th><th scope=col>total_pymnt_inv</th><th scope=col>total_rec_prncp</th><th scope=col>total_rec_int</th><th scope=col>last_pymnt_amnt</th><th scope=col>repay_fail</th><th scope=col>last_pymnt_d</th><th scope=col>last_credit_pull_d</th></tr>\n",
       "\t<tr><th></th><th scope=col>&lt;dbl&gt;</th><th scope=col>&lt;dbl&gt;</th><th scope=col>&lt;dbl&gt;</th><th scope=col>&lt;dbl&gt;</th><th scope=col>&lt;dbl&gt;</th><th scope=col>&lt;chr&gt;</th><th scope=col>&lt;dbl&gt;</th><th scope=col>&lt;dbl&gt;</th><th scope=col>&lt;dbl&gt;</th><th scope=col>&lt;chr&gt;</th><th scope=col>⋯</th><th scope=col>&lt;chr&gt;</th><th scope=col>&lt;dbl&gt;</th><th scope=col>&lt;dbl&gt;</th><th scope=col>&lt;dbl&gt;</th><th scope=col>&lt;dbl&gt;</th><th scope=col>&lt;dbl&gt;</th><th scope=col>&lt;dbl&gt;</th><th scope=col>&lt;dbl&gt;</th><th scope=col>&lt;chr&gt;</th><th scope=col>&lt;chr&gt;</th></tr>\n",
       "</thead>\n",
       "<tbody>\n",
       "\t<tr><th scope=row>2</th><td>545583</td><td> 703644</td><td>2500</td><td>2500</td><td>2500</td><td>36 months</td><td>13.98</td><td> 85.42</td><td> 20004</td><td>Not Verified</td><td>⋯</td><td>21.30%</td><td>10</td><td>3075.292</td><td>3075.29</td><td>2500.00</td><td> 575.29</td><td>  90.85</td><td>0</td><td>2011-2013</td><td>2014-2016</td></tr>\n",
       "\t<tr><th scope=row>3</th><td>532101</td><td> 687836</td><td>5000</td><td>5000</td><td>5000</td><td>36 months</td><td>15.95</td><td>175.67</td><td> 59000</td><td>Not Verified</td><td>⋯</td><td>99.90%</td><td>15</td><td>2948.760</td><td>2948.76</td><td>1909.02</td><td> 873.81</td><td> 175.67</td><td>1</td><td>2011-2013</td><td>2011-2013</td></tr>\n",
       "\t<tr><th scope=row>4</th><td>877788</td><td>1092507</td><td>7000</td><td>7000</td><td>7000</td><td>36 months</td><td> 9.91</td><td>225.58</td><td> 53796</td><td>Not Verified</td><td>⋯</td><td>47.20%</td><td>20</td><td>8082.392</td><td>8082.39</td><td>7000.00</td><td>1082.39</td><td>1550.27</td><td>0</td><td>2014-2016</td><td>2014-2016</td></tr>\n",
       "\t<tr><th scope=row>5</th><td>875406</td><td>1089981</td><td>2000</td><td>2000</td><td>2000</td><td>36 months</td><td> 5.42</td><td> 60.32</td><td> 30000</td><td>Not Verified</td><td>⋯</td><td>0%    </td><td>15</td><td>2161.663</td><td>2161.66</td><td>2000.00</td><td> 161.66</td><td>  53.12</td><td>0</td><td>2014-2016</td><td>2014-2016</td></tr>\n",
       "\t<tr><th scope=row>6</th><td>506439</td><td> 652909</td><td>3600</td><td>3600</td><td>3600</td><td>36 months</td><td>10.25</td><td>116.59</td><td>675048</td><td>Not Verified</td><td>⋯</td><td>0%    </td><td>25</td><td>4206.031</td><td>4206.03</td><td>3600.00</td><td> 606.03</td><td> 146.75</td><td>0</td><td>2011-2013</td><td>2014-2016</td></tr>\n",
       "\t<tr><th scope=row>7</th><td>981465</td><td>1204637</td><td>8000</td><td>8000</td><td>8000</td><td>36 months</td><td> 6.03</td><td>243.49</td><td> 77736</td><td>Verified    </td><td>⋯</td><td>13.60%</td><td>49</td><td>8724.972</td><td>8724.97</td><td>8000.00</td><td> 724.97</td><td>1423.66</td><td>0</td><td>2014-2016</td><td>2014-2016</td></tr>\n",
       "</tbody>\n",
       "</table>\n"
      ],
      "text/latex": [
       "A data.frame: 6 × 26\n",
       "\\begin{tabular}{r|lllllllllllllllllllll}\n",
       "  & id & member\\_id & loan\\_amnt & funded\\_amnt & funded\\_amnt\\_inv & term & int\\_rate & installment & annual\\_inc & verification\\_status & ⋯ & revol\\_util & total\\_acc & total\\_pymnt & total\\_pymnt\\_inv & total\\_rec\\_prncp & total\\_rec\\_int & last\\_pymnt\\_amnt & repay\\_fail & last\\_pymnt\\_d & last\\_credit\\_pull\\_d\\\\\n",
       "  & <dbl> & <dbl> & <dbl> & <dbl> & <dbl> & <chr> & <dbl> & <dbl> & <dbl> & <chr> & ⋯ & <chr> & <dbl> & <dbl> & <dbl> & <dbl> & <dbl> & <dbl> & <dbl> & <chr> & <chr>\\\\\n",
       "\\hline\n",
       "\t2 & 545583 &  703644 & 2500 & 2500 & 2500 & 36 months & 13.98 &  85.42 &  20004 & Not Verified & ⋯ & 21.30\\% & 10 & 3075.292 & 3075.29 & 2500.00 &  575.29 &   90.85 & 0 & 2011-2013 & 2014-2016\\\\\n",
       "\t3 & 532101 &  687836 & 5000 & 5000 & 5000 & 36 months & 15.95 & 175.67 &  59000 & Not Verified & ⋯ & 99.90\\% & 15 & 2948.760 & 2948.76 & 1909.02 &  873.81 &  175.67 & 1 & 2011-2013 & 2011-2013\\\\\n",
       "\t4 & 877788 & 1092507 & 7000 & 7000 & 7000 & 36 months &  9.91 & 225.58 &  53796 & Not Verified & ⋯ & 47.20\\% & 20 & 8082.392 & 8082.39 & 7000.00 & 1082.39 & 1550.27 & 0 & 2014-2016 & 2014-2016\\\\\n",
       "\t5 & 875406 & 1089981 & 2000 & 2000 & 2000 & 36 months &  5.42 &  60.32 &  30000 & Not Verified & ⋯ & 0\\%     & 15 & 2161.663 & 2161.66 & 2000.00 &  161.66 &   53.12 & 0 & 2014-2016 & 2014-2016\\\\\n",
       "\t6 & 506439 &  652909 & 3600 & 3600 & 3600 & 36 months & 10.25 & 116.59 & 675048 & Not Verified & ⋯ & 0\\%     & 25 & 4206.031 & 4206.03 & 3600.00 &  606.03 &  146.75 & 0 & 2011-2013 & 2014-2016\\\\\n",
       "\t7 & 981465 & 1204637 & 8000 & 8000 & 8000 & 36 months &  6.03 & 243.49 &  77736 & Verified     & ⋯ & 13.60\\% & 49 & 8724.972 & 8724.97 & 8000.00 &  724.97 & 1423.66 & 0 & 2014-2016 & 2014-2016\\\\\n",
       "\\end{tabular}\n"
      ],
      "text/markdown": [
       "\n",
       "A data.frame: 6 × 26\n",
       "\n",
       "| <!--/--> | id &lt;dbl&gt; | member_id &lt;dbl&gt; | loan_amnt &lt;dbl&gt; | funded_amnt &lt;dbl&gt; | funded_amnt_inv &lt;dbl&gt; | term &lt;chr&gt; | int_rate &lt;dbl&gt; | installment &lt;dbl&gt; | annual_inc &lt;dbl&gt; | verification_status &lt;chr&gt; | ⋯ ⋯ | revol_util &lt;chr&gt; | total_acc &lt;dbl&gt; | total_pymnt &lt;dbl&gt; | total_pymnt_inv &lt;dbl&gt; | total_rec_prncp &lt;dbl&gt; | total_rec_int &lt;dbl&gt; | last_pymnt_amnt &lt;dbl&gt; | repay_fail &lt;dbl&gt; | last_pymnt_d &lt;chr&gt; | last_credit_pull_d &lt;chr&gt; |\n",
       "|---|---|---|---|---|---|---|---|---|---|---|---|---|---|---|---|---|---|---|---|---|---|\n",
       "| 2 | 545583 |  703644 | 2500 | 2500 | 2500 | 36 months | 13.98 |  85.42 |  20004 | Not Verified | ⋯ | 21.30% | 10 | 3075.292 | 3075.29 | 2500.00 |  575.29 |   90.85 | 0 | 2011-2013 | 2014-2016 |\n",
       "| 3 | 532101 |  687836 | 5000 | 5000 | 5000 | 36 months | 15.95 | 175.67 |  59000 | Not Verified | ⋯ | 99.90% | 15 | 2948.760 | 2948.76 | 1909.02 |  873.81 |  175.67 | 1 | 2011-2013 | 2011-2013 |\n",
       "| 4 | 877788 | 1092507 | 7000 | 7000 | 7000 | 36 months |  9.91 | 225.58 |  53796 | Not Verified | ⋯ | 47.20% | 20 | 8082.392 | 8082.39 | 7000.00 | 1082.39 | 1550.27 | 0 | 2014-2016 | 2014-2016 |\n",
       "| 5 | 875406 | 1089981 | 2000 | 2000 | 2000 | 36 months |  5.42 |  60.32 |  30000 | Not Verified | ⋯ | 0%     | 15 | 2161.663 | 2161.66 | 2000.00 |  161.66 |   53.12 | 0 | 2014-2016 | 2014-2016 |\n",
       "| 6 | 506439 |  652909 | 3600 | 3600 | 3600 | 36 months | 10.25 | 116.59 | 675048 | Not Verified | ⋯ | 0%     | 25 | 4206.031 | 4206.03 | 3600.00 |  606.03 |  146.75 | 0 | 2011-2013 | 2014-2016 |\n",
       "| 7 | 981465 | 1204637 | 8000 | 8000 | 8000 | 36 months |  6.03 | 243.49 |  77736 | Verified     | ⋯ | 13.60% | 49 | 8724.972 | 8724.97 | 8000.00 |  724.97 | 1423.66 | 0 | 2014-2016 | 2014-2016 |\n",
       "\n"
      ],
      "text/plain": [
       "  id     member_id loan_amnt funded_amnt funded_amnt_inv term      int_rate\n",
       "2 545583  703644   2500      2500        2500            36 months 13.98   \n",
       "3 532101  687836   5000      5000        5000            36 months 15.95   \n",
       "4 877788 1092507   7000      7000        7000            36 months  9.91   \n",
       "5 875406 1089981   2000      2000        2000            36 months  5.42   \n",
       "6 506439  652909   3600      3600        3600            36 months 10.25   \n",
       "7 981465 1204637   8000      8000        8000            36 months  6.03   \n",
       "  installment annual_inc verification_status ⋯ revol_util total_acc total_pymnt\n",
       "2  85.42       20004     Not Verified        ⋯ 21.30%     10        3075.292   \n",
       "3 175.67       59000     Not Verified        ⋯ 99.90%     15        2948.760   \n",
       "4 225.58       53796     Not Verified        ⋯ 47.20%     20        8082.392   \n",
       "5  60.32       30000     Not Verified        ⋯ 0%         15        2161.663   \n",
       "6 116.59      675048     Not Verified        ⋯ 0%         25        4206.031   \n",
       "7 243.49       77736     Verified            ⋯ 13.60%     49        8724.972   \n",
       "  total_pymnt_inv total_rec_prncp total_rec_int last_pymnt_amnt repay_fail\n",
       "2 3075.29         2500.00          575.29         90.85         0         \n",
       "3 2948.76         1909.02          873.81        175.67         1         \n",
       "4 8082.39         7000.00         1082.39       1550.27         0         \n",
       "5 2161.66         2000.00          161.66         53.12         0         \n",
       "6 4206.03         3600.00          606.03        146.75         0         \n",
       "7 8724.97         8000.00          724.97       1423.66         0         \n",
       "  last_pymnt_d last_credit_pull_d\n",
       "2 2011-2013    2014-2016         \n",
       "3 2011-2013    2011-2013         \n",
       "4 2014-2016    2014-2016         \n",
       "5 2014-2016    2014-2016         \n",
       "6 2011-2013    2014-2016         \n",
       "7 2014-2016    2014-2016         "
      ]
     },
     "metadata": {},
     "output_type": "display_data"
    }
   ],
   "source": [
    "#borro columnas last_pymnt_d y last_credit_pull_d\n",
    "loan_data <- loan_data[, -which(names(loan_data) %in% c(\"last_pymnt_d\"))]\n",
    "loan_data <- loan_data[, -which(names(loan_data) %in% c(\"last_credit_pull_d\"))]\n",
    "#cambio el nombre de las columnas last_pymnt_d2 y last_credit_pull_d2\n",
    "colnames(loan_data)[colnames(loan_data) == \"last_pymnt_d2\"] <- \"last_pymnt_d\"\n",
    "colnames(loan_data)[colnames(loan_data) == \"last_credit_pull_d2\"] <- \"last_credit_pull_d\""
   ]
  },
  {
   "cell_type": "markdown",
   "metadata": {},
   "source": [
    "La siguiente celda se encarga de limpiar y convertir los valores de la columna revol_util del conjunto de datos loan_data, eliminando el signo de porcentaje y convirtiendo los valores a formato numérico."
   ]
  },
  {
   "cell_type": "code",
   "execution_count": 16,
   "metadata": {
    "vscode": {
     "languageId": "r"
    }
   },
   "outputs": [
    {
     "data": {
      "text/html": [
       "<table class=\"dataframe\">\n",
       "<caption>A data.frame: 6 × 26</caption>\n",
       "<thead>\n",
       "\t<tr><th></th><th scope=col>id</th><th scope=col>member_id</th><th scope=col>loan_amnt</th><th scope=col>funded_amnt</th><th scope=col>funded_amnt_inv</th><th scope=col>term</th><th scope=col>int_rate</th><th scope=col>installment</th><th scope=col>annual_inc</th><th scope=col>verification_status</th><th scope=col>⋯</th><th scope=col>revol_util</th><th scope=col>total_acc</th><th scope=col>total_pymnt</th><th scope=col>total_pymnt_inv</th><th scope=col>total_rec_prncp</th><th scope=col>total_rec_int</th><th scope=col>last_pymnt_amnt</th><th scope=col>repay_fail</th><th scope=col>last_pymnt_d</th><th scope=col>last_credit_pull_d</th></tr>\n",
       "\t<tr><th></th><th scope=col>&lt;dbl&gt;</th><th scope=col>&lt;dbl&gt;</th><th scope=col>&lt;dbl&gt;</th><th scope=col>&lt;dbl&gt;</th><th scope=col>&lt;dbl&gt;</th><th scope=col>&lt;chr&gt;</th><th scope=col>&lt;dbl&gt;</th><th scope=col>&lt;dbl&gt;</th><th scope=col>&lt;dbl&gt;</th><th scope=col>&lt;chr&gt;</th><th scope=col>⋯</th><th scope=col>&lt;dbl&gt;</th><th scope=col>&lt;dbl&gt;</th><th scope=col>&lt;dbl&gt;</th><th scope=col>&lt;dbl&gt;</th><th scope=col>&lt;dbl&gt;</th><th scope=col>&lt;dbl&gt;</th><th scope=col>&lt;dbl&gt;</th><th scope=col>&lt;dbl&gt;</th><th scope=col>&lt;chr&gt;</th><th scope=col>&lt;chr&gt;</th></tr>\n",
       "</thead>\n",
       "<tbody>\n",
       "\t<tr><th scope=row>2</th><td>545583</td><td> 703644</td><td>2500</td><td>2500</td><td>2500</td><td>36 months</td><td>13.98</td><td> 85.42</td><td> 20004</td><td>Not Verified</td><td>⋯</td><td>21.3</td><td>10</td><td>3075.292</td><td>3075.29</td><td>2500.00</td><td> 575.29</td><td>  90.85</td><td>0</td><td>2011-2013</td><td>2014-2016</td></tr>\n",
       "\t<tr><th scope=row>3</th><td>532101</td><td> 687836</td><td>5000</td><td>5000</td><td>5000</td><td>36 months</td><td>15.95</td><td>175.67</td><td> 59000</td><td>Not Verified</td><td>⋯</td><td>99.9</td><td>15</td><td>2948.760</td><td>2948.76</td><td>1909.02</td><td> 873.81</td><td> 175.67</td><td>1</td><td>2011-2013</td><td>2011-2013</td></tr>\n",
       "\t<tr><th scope=row>4</th><td>877788</td><td>1092507</td><td>7000</td><td>7000</td><td>7000</td><td>36 months</td><td> 9.91</td><td>225.58</td><td> 53796</td><td>Not Verified</td><td>⋯</td><td>47.2</td><td>20</td><td>8082.392</td><td>8082.39</td><td>7000.00</td><td>1082.39</td><td>1550.27</td><td>0</td><td>2014-2016</td><td>2014-2016</td></tr>\n",
       "\t<tr><th scope=row>5</th><td>875406</td><td>1089981</td><td>2000</td><td>2000</td><td>2000</td><td>36 months</td><td> 5.42</td><td> 60.32</td><td> 30000</td><td>Not Verified</td><td>⋯</td><td> 0.0</td><td>15</td><td>2161.663</td><td>2161.66</td><td>2000.00</td><td> 161.66</td><td>  53.12</td><td>0</td><td>2014-2016</td><td>2014-2016</td></tr>\n",
       "\t<tr><th scope=row>6</th><td>506439</td><td> 652909</td><td>3600</td><td>3600</td><td>3600</td><td>36 months</td><td>10.25</td><td>116.59</td><td>675048</td><td>Not Verified</td><td>⋯</td><td> 0.0</td><td>25</td><td>4206.031</td><td>4206.03</td><td>3600.00</td><td> 606.03</td><td> 146.75</td><td>0</td><td>2011-2013</td><td>2014-2016</td></tr>\n",
       "\t<tr><th scope=row>7</th><td>981465</td><td>1204637</td><td>8000</td><td>8000</td><td>8000</td><td>36 months</td><td> 6.03</td><td>243.49</td><td> 77736</td><td>Verified    </td><td>⋯</td><td>13.6</td><td>49</td><td>8724.972</td><td>8724.97</td><td>8000.00</td><td> 724.97</td><td>1423.66</td><td>0</td><td>2014-2016</td><td>2014-2016</td></tr>\n",
       "</tbody>\n",
       "</table>\n"
      ],
      "text/latex": [
       "A data.frame: 6 × 26\n",
       "\\begin{tabular}{r|lllllllllllllllllllll}\n",
       "  & id & member\\_id & loan\\_amnt & funded\\_amnt & funded\\_amnt\\_inv & term & int\\_rate & installment & annual\\_inc & verification\\_status & ⋯ & revol\\_util & total\\_acc & total\\_pymnt & total\\_pymnt\\_inv & total\\_rec\\_prncp & total\\_rec\\_int & last\\_pymnt\\_amnt & repay\\_fail & last\\_pymnt\\_d & last\\_credit\\_pull\\_d\\\\\n",
       "  & <dbl> & <dbl> & <dbl> & <dbl> & <dbl> & <chr> & <dbl> & <dbl> & <dbl> & <chr> & ⋯ & <dbl> & <dbl> & <dbl> & <dbl> & <dbl> & <dbl> & <dbl> & <dbl> & <chr> & <chr>\\\\\n",
       "\\hline\n",
       "\t2 & 545583 &  703644 & 2500 & 2500 & 2500 & 36 months & 13.98 &  85.42 &  20004 & Not Verified & ⋯ & 21.3 & 10 & 3075.292 & 3075.29 & 2500.00 &  575.29 &   90.85 & 0 & 2011-2013 & 2014-2016\\\\\n",
       "\t3 & 532101 &  687836 & 5000 & 5000 & 5000 & 36 months & 15.95 & 175.67 &  59000 & Not Verified & ⋯ & 99.9 & 15 & 2948.760 & 2948.76 & 1909.02 &  873.81 &  175.67 & 1 & 2011-2013 & 2011-2013\\\\\n",
       "\t4 & 877788 & 1092507 & 7000 & 7000 & 7000 & 36 months &  9.91 & 225.58 &  53796 & Not Verified & ⋯ & 47.2 & 20 & 8082.392 & 8082.39 & 7000.00 & 1082.39 & 1550.27 & 0 & 2014-2016 & 2014-2016\\\\\n",
       "\t5 & 875406 & 1089981 & 2000 & 2000 & 2000 & 36 months &  5.42 &  60.32 &  30000 & Not Verified & ⋯ &  0.0 & 15 & 2161.663 & 2161.66 & 2000.00 &  161.66 &   53.12 & 0 & 2014-2016 & 2014-2016\\\\\n",
       "\t6 & 506439 &  652909 & 3600 & 3600 & 3600 & 36 months & 10.25 & 116.59 & 675048 & Not Verified & ⋯ &  0.0 & 25 & 4206.031 & 4206.03 & 3600.00 &  606.03 &  146.75 & 0 & 2011-2013 & 2014-2016\\\\\n",
       "\t7 & 981465 & 1204637 & 8000 & 8000 & 8000 & 36 months &  6.03 & 243.49 &  77736 & Verified     & ⋯ & 13.6 & 49 & 8724.972 & 8724.97 & 8000.00 &  724.97 & 1423.66 & 0 & 2014-2016 & 2014-2016\\\\\n",
       "\\end{tabular}\n"
      ],
      "text/markdown": [
       "\n",
       "A data.frame: 6 × 26\n",
       "\n",
       "| <!--/--> | id &lt;dbl&gt; | member_id &lt;dbl&gt; | loan_amnt &lt;dbl&gt; | funded_amnt &lt;dbl&gt; | funded_amnt_inv &lt;dbl&gt; | term &lt;chr&gt; | int_rate &lt;dbl&gt; | installment &lt;dbl&gt; | annual_inc &lt;dbl&gt; | verification_status &lt;chr&gt; | ⋯ ⋯ | revol_util &lt;dbl&gt; | total_acc &lt;dbl&gt; | total_pymnt &lt;dbl&gt; | total_pymnt_inv &lt;dbl&gt; | total_rec_prncp &lt;dbl&gt; | total_rec_int &lt;dbl&gt; | last_pymnt_amnt &lt;dbl&gt; | repay_fail &lt;dbl&gt; | last_pymnt_d &lt;chr&gt; | last_credit_pull_d &lt;chr&gt; |\n",
       "|---|---|---|---|---|---|---|---|---|---|---|---|---|---|---|---|---|---|---|---|---|---|\n",
       "| 2 | 545583 |  703644 | 2500 | 2500 | 2500 | 36 months | 13.98 |  85.42 |  20004 | Not Verified | ⋯ | 21.3 | 10 | 3075.292 | 3075.29 | 2500.00 |  575.29 |   90.85 | 0 | 2011-2013 | 2014-2016 |\n",
       "| 3 | 532101 |  687836 | 5000 | 5000 | 5000 | 36 months | 15.95 | 175.67 |  59000 | Not Verified | ⋯ | 99.9 | 15 | 2948.760 | 2948.76 | 1909.02 |  873.81 |  175.67 | 1 | 2011-2013 | 2011-2013 |\n",
       "| 4 | 877788 | 1092507 | 7000 | 7000 | 7000 | 36 months |  9.91 | 225.58 |  53796 | Not Verified | ⋯ | 47.2 | 20 | 8082.392 | 8082.39 | 7000.00 | 1082.39 | 1550.27 | 0 | 2014-2016 | 2014-2016 |\n",
       "| 5 | 875406 | 1089981 | 2000 | 2000 | 2000 | 36 months |  5.42 |  60.32 |  30000 | Not Verified | ⋯ |  0.0 | 15 | 2161.663 | 2161.66 | 2000.00 |  161.66 |   53.12 | 0 | 2014-2016 | 2014-2016 |\n",
       "| 6 | 506439 |  652909 | 3600 | 3600 | 3600 | 36 months | 10.25 | 116.59 | 675048 | Not Verified | ⋯ |  0.0 | 25 | 4206.031 | 4206.03 | 3600.00 |  606.03 |  146.75 | 0 | 2011-2013 | 2014-2016 |\n",
       "| 7 | 981465 | 1204637 | 8000 | 8000 | 8000 | 36 months |  6.03 | 243.49 |  77736 | Verified     | ⋯ | 13.6 | 49 | 8724.972 | 8724.97 | 8000.00 |  724.97 | 1423.66 | 0 | 2014-2016 | 2014-2016 |\n",
       "\n"
      ],
      "text/plain": [
       "  id     member_id loan_amnt funded_amnt funded_amnt_inv term      int_rate\n",
       "2 545583  703644   2500      2500        2500            36 months 13.98   \n",
       "3 532101  687836   5000      5000        5000            36 months 15.95   \n",
       "4 877788 1092507   7000      7000        7000            36 months  9.91   \n",
       "5 875406 1089981   2000      2000        2000            36 months  5.42   \n",
       "6 506439  652909   3600      3600        3600            36 months 10.25   \n",
       "7 981465 1204637   8000      8000        8000            36 months  6.03   \n",
       "  installment annual_inc verification_status ⋯ revol_util total_acc total_pymnt\n",
       "2  85.42       20004     Not Verified        ⋯ 21.3       10        3075.292   \n",
       "3 175.67       59000     Not Verified        ⋯ 99.9       15        2948.760   \n",
       "4 225.58       53796     Not Verified        ⋯ 47.2       20        8082.392   \n",
       "5  60.32       30000     Not Verified        ⋯  0.0       15        2161.663   \n",
       "6 116.59      675048     Not Verified        ⋯  0.0       25        4206.031   \n",
       "7 243.49       77736     Verified            ⋯ 13.6       49        8724.972   \n",
       "  total_pymnt_inv total_rec_prncp total_rec_int last_pymnt_amnt repay_fail\n",
       "2 3075.29         2500.00          575.29         90.85         0         \n",
       "3 2948.76         1909.02          873.81        175.67         1         \n",
       "4 8082.39         7000.00         1082.39       1550.27         0         \n",
       "5 2161.66         2000.00          161.66         53.12         0         \n",
       "6 4206.03         3600.00          606.03        146.75         0         \n",
       "7 8724.97         8000.00          724.97       1423.66         0         \n",
       "  last_pymnt_d last_credit_pull_d\n",
       "2 2011-2013    2014-2016         \n",
       "3 2011-2013    2011-2013         \n",
       "4 2014-2016    2014-2016         \n",
       "5 2014-2016    2014-2016         \n",
       "6 2011-2013    2014-2016         \n",
       "7 2014-2016    2014-2016         "
      ]
     },
     "metadata": {},
     "output_type": "display_data"
    }
   ],
   "source": [
    "#elimino el signo de porcentaje de la columna revol_util\n",
    "loan_data$revol_util <- as.numeric(gsub(\"%\", \"\", loan_data$revol_util))"
   ]
  },
  {
   "cell_type": "code",
   "execution_count": 17,
   "metadata": {
    "vscode": {
     "languageId": "r"
    }
   },
   "outputs": [
    {
     "data": {
      "text/plain": [
       "$term\n",
       "\n",
       "36 months 60 months \n",
       "    28478      9867 \n",
       "\n",
       "$verification_status\n",
       "\n",
       "   Not Verified Source Verified        Verified \n",
       "          16885            9321           12139 \n",
       "\n",
       "$last_pymnt_d\n",
       "\n",
       "2007-2010 2011-2013 2014-2016 \n",
       "     3222     22539     12584 \n",
       "\n",
       "$last_credit_pull_d\n",
       "\n",
       "2007-2010 2011-2013 2014-2016 \n",
       "     1431     11041     25873 \n",
       "\n",
       "$repay_fail\n",
       "\n",
       "    0     1 \n",
       "32606  5739 \n"
      ]
     },
     "metadata": {},
     "output_type": "display_data"
    }
   ],
   "source": [
    "# selecciono las columnas categoricas\n",
    "# luego veo la cantidad de valores por cada categoria o clase\n",
    "categorical_columns <- c(\"term\",\n",
    "                         \"verification_status\",\n",
    "                         \"last_pymnt_d\", \"last_credit_pull_d\",\n",
    "                         \"repay_fail\")\n",
    "valores_por_categoria <- lapply(loan_data[categorical_columns], table)\n",
    "valores_por_categoria"
   ]
  },
  {
   "cell_type": "code",
   "execution_count": 18,
   "metadata": {
    "vscode": {
     "languageId": "r"
    }
   },
   "outputs": [
    {
     "data": {
      "text/html": [
       "<style>\n",
       ".list-inline {list-style: none; margin:0; padding: 0}\n",
       ".list-inline>li {display: inline-block}\n",
       ".list-inline>li:not(:last-child)::after {content: \"\\00b7\"; padding: 0 .5ex}\n",
       "</style>\n",
       "<ol class=list-inline><li>'id'</li><li>'member_id'</li><li>'loan_amnt'</li><li>'funded_amnt'</li><li>'funded_amnt_inv'</li><li>'term'</li><li>'int_rate'</li><li>'installment'</li><li>'annual_inc'</li><li>'verification_status'</li><li>'dti'</li><li>'delinq_2yrs'</li><li>'inq_last_6mths'</li><li>'open_acc'</li><li>'pub_rec'</li><li>'revol_bal'</li><li>'revol_util'</li><li>'total_acc'</li><li>'total_pymnt'</li><li>'total_pymnt_inv'</li><li>'total_rec_prncp'</li><li>'total_rec_int'</li><li>'last_pymnt_amnt'</li><li>'repay_fail'</li><li>'last_pymnt_d'</li><li>'last_credit_pull_d'</li></ol>\n"
      ],
      "text/latex": [
       "\\begin{enumerate*}\n",
       "\\item 'id'\n",
       "\\item 'member\\_id'\n",
       "\\item 'loan\\_amnt'\n",
       "\\item 'funded\\_amnt'\n",
       "\\item 'funded\\_amnt\\_inv'\n",
       "\\item 'term'\n",
       "\\item 'int\\_rate'\n",
       "\\item 'installment'\n",
       "\\item 'annual\\_inc'\n",
       "\\item 'verification\\_status'\n",
       "\\item 'dti'\n",
       "\\item 'delinq\\_2yrs'\n",
       "\\item 'inq\\_last\\_6mths'\n",
       "\\item 'open\\_acc'\n",
       "\\item 'pub\\_rec'\n",
       "\\item 'revol\\_bal'\n",
       "\\item 'revol\\_util'\n",
       "\\item 'total\\_acc'\n",
       "\\item 'total\\_pymnt'\n",
       "\\item 'total\\_pymnt\\_inv'\n",
       "\\item 'total\\_rec\\_prncp'\n",
       "\\item 'total\\_rec\\_int'\n",
       "\\item 'last\\_pymnt\\_amnt'\n",
       "\\item 'repay\\_fail'\n",
       "\\item 'last\\_pymnt\\_d'\n",
       "\\item 'last\\_credit\\_pull\\_d'\n",
       "\\end{enumerate*}\n"
      ],
      "text/markdown": [
       "1. 'id'\n",
       "2. 'member_id'\n",
       "3. 'loan_amnt'\n",
       "4. 'funded_amnt'\n",
       "5. 'funded_amnt_inv'\n",
       "6. 'term'\n",
       "7. 'int_rate'\n",
       "8. 'installment'\n",
       "9. 'annual_inc'\n",
       "10. 'verification_status'\n",
       "11. 'dti'\n",
       "12. 'delinq_2yrs'\n",
       "13. 'inq_last_6mths'\n",
       "14. 'open_acc'\n",
       "15. 'pub_rec'\n",
       "16. 'revol_bal'\n",
       "17. 'revol_util'\n",
       "18. 'total_acc'\n",
       "19. 'total_pymnt'\n",
       "20. 'total_pymnt_inv'\n",
       "21. 'total_rec_prncp'\n",
       "22. 'total_rec_int'\n",
       "23. 'last_pymnt_amnt'\n",
       "24. 'repay_fail'\n",
       "25. 'last_pymnt_d'\n",
       "26. 'last_credit_pull_d'\n",
       "\n",
       "\n"
      ],
      "text/plain": [
       " [1] \"id\"                  \"member_id\"           \"loan_amnt\"          \n",
       " [4] \"funded_amnt\"         \"funded_amnt_inv\"     \"term\"               \n",
       " [7] \"int_rate\"            \"installment\"         \"annual_inc\"         \n",
       "[10] \"verification_status\" \"dti\"                 \"delinq_2yrs\"        \n",
       "[13] \"inq_last_6mths\"      \"open_acc\"            \"pub_rec\"            \n",
       "[16] \"revol_bal\"           \"revol_util\"          \"total_acc\"          \n",
       "[19] \"total_pymnt\"         \"total_pymnt_inv\"     \"total_rec_prncp\"    \n",
       "[22] \"total_rec_int\"       \"last_pymnt_amnt\"     \"repay_fail\"         \n",
       "[25] \"last_pymnt_d\"        \"last_credit_pull_d\" "
      ]
     },
     "metadata": {},
     "output_type": "display_data"
    }
   ],
   "source": [
    "#nombre de las columnas\n",
    "names(loan_data)"
   ]
  },
  {
   "cell_type": "code",
   "execution_count": 19,
   "metadata": {
    "vscode": {
     "languageId": "r"
    }
   },
   "outputs": [
    {
     "data": {
      "text/html": [
       "<style>\n",
       ".list-inline {list-style: none; margin:0; padding: 0}\n",
       ".list-inline>li {display: inline-block}\n",
       ".list-inline>li:not(:last-child)::after {content: \"\\00b7\"; padding: 0 .5ex}\n",
       "</style>\n",
       "<ol class=list-inline><li>'id'</li><li>'member_id'</li><li>'loan_amnt'</li><li>'funded_amnt'</li><li>'funded_amnt_inv'</li><li>'int_rate'</li><li>'installment'</li><li>'annual_inc'</li><li>'dti'</li><li>'delinq_2yrs'</li><li>'inq_last_6mths'</li><li>'open_acc'</li><li>'pub_rec'</li><li>'revol_bal'</li><li>'revol_util'</li><li>'total_acc'</li><li>'total_pymnt'</li><li>'total_pymnt_inv'</li><li>'total_rec_prncp'</li><li>'total_rec_int'</li><li>'last_pymnt_amnt'</li><li>'repay_fail'</li></ol>\n"
      ],
      "text/latex": [
       "\\begin{enumerate*}\n",
       "\\item 'id'\n",
       "\\item 'member\\_id'\n",
       "\\item 'loan\\_amnt'\n",
       "\\item 'funded\\_amnt'\n",
       "\\item 'funded\\_amnt\\_inv'\n",
       "\\item 'int\\_rate'\n",
       "\\item 'installment'\n",
       "\\item 'annual\\_inc'\n",
       "\\item 'dti'\n",
       "\\item 'delinq\\_2yrs'\n",
       "\\item 'inq\\_last\\_6mths'\n",
       "\\item 'open\\_acc'\n",
       "\\item 'pub\\_rec'\n",
       "\\item 'revol\\_bal'\n",
       "\\item 'revol\\_util'\n",
       "\\item 'total\\_acc'\n",
       "\\item 'total\\_pymnt'\n",
       "\\item 'total\\_pymnt\\_inv'\n",
       "\\item 'total\\_rec\\_prncp'\n",
       "\\item 'total\\_rec\\_int'\n",
       "\\item 'last\\_pymnt\\_amnt'\n",
       "\\item 'repay\\_fail'\n",
       "\\end{enumerate*}\n"
      ],
      "text/markdown": [
       "1. 'id'\n",
       "2. 'member_id'\n",
       "3. 'loan_amnt'\n",
       "4. 'funded_amnt'\n",
       "5. 'funded_amnt_inv'\n",
       "6. 'int_rate'\n",
       "7. 'installment'\n",
       "8. 'annual_inc'\n",
       "9. 'dti'\n",
       "10. 'delinq_2yrs'\n",
       "11. 'inq_last_6mths'\n",
       "12. 'open_acc'\n",
       "13. 'pub_rec'\n",
       "14. 'revol_bal'\n",
       "15. 'revol_util'\n",
       "16. 'total_acc'\n",
       "17. 'total_pymnt'\n",
       "18. 'total_pymnt_inv'\n",
       "19. 'total_rec_prncp'\n",
       "20. 'total_rec_int'\n",
       "21. 'last_pymnt_amnt'\n",
       "22. 'repay_fail'\n",
       "\n",
       "\n"
      ],
      "text/plain": [
       " [1] \"id\"              \"member_id\"       \"loan_amnt\"       \"funded_amnt\"    \n",
       " [5] \"funded_amnt_inv\" \"int_rate\"        \"installment\"     \"annual_inc\"     \n",
       " [9] \"dti\"             \"delinq_2yrs\"     \"inq_last_6mths\"  \"open_acc\"       \n",
       "[13] \"pub_rec\"         \"revol_bal\"       \"revol_util\"      \"total_acc\"      \n",
       "[17] \"total_pymnt\"     \"total_pymnt_inv\" \"total_rec_prncp\" \"total_rec_int\"  \n",
       "[21] \"last_pymnt_amnt\" \"repay_fail\"     "
      ]
     },
     "metadata": {},
     "output_type": "display_data"
    },
    {
     "data": {
      "text/html": [
       "<style>\n",
       ".list-inline {list-style: none; margin:0; padding: 0}\n",
       ".list-inline>li {display: inline-block}\n",
       ".list-inline>li:not(:last-child)::after {content: \"\\00b7\"; padding: 0 .5ex}\n",
       "</style>\n",
       "<ol class=list-inline><li>'term'</li><li>'verification_status'</li><li>'last_pymnt_d'</li><li>'last_credit_pull_d'</li></ol>\n"
      ],
      "text/latex": [
       "\\begin{enumerate*}\n",
       "\\item 'term'\n",
       "\\item 'verification\\_status'\n",
       "\\item 'last\\_pymnt\\_d'\n",
       "\\item 'last\\_credit\\_pull\\_d'\n",
       "\\end{enumerate*}\n"
      ],
      "text/markdown": [
       "1. 'term'\n",
       "2. 'verification_status'\n",
       "3. 'last_pymnt_d'\n",
       "4. 'last_credit_pull_d'\n",
       "\n",
       "\n"
      ],
      "text/plain": [
       "[1] \"term\"                \"verification_status\" \"last_pymnt_d\"       \n",
       "[4] \"last_credit_pull_d\" "
      ]
     },
     "metadata": {},
     "output_type": "display_data"
    }
   ],
   "source": [
    "# selecciono que columnas son numericas y cuales son categoricas\n",
    "vars_num <- loan_data %>% select_if(is.numeric) %>% colnames()\n",
    "vars_cat <- loan_data %>% select_if(is.character) %>% colnames()\n",
    "# veo las variables numericas y categoricas (respectivamente)\n",
    "vars_num\n",
    "vars_cat"
   ]
  },
  {
   "cell_type": "markdown",
   "metadata": {},
   "source": [
    "3. Describa cada una de las variables que componen la data e indique si corresponden a variables numéricas o categóricas. En caso de tener un número excesivo de variables (o variables irrelevantes) mantener solamente las de mayor interés."
   ]
  },
  {
   "cell_type": "markdown",
   "metadata": {},
   "source": [
    "Variables Numericas\n",
    "\n",
    "- id: Identificador único del préstamo.\n",
    "- member_id: Identificador único del miembro solicitante del préstamo.\n",
    "- loan_amnt: Monto del préstamo solicitado.\n",
    "- funded_amnt: Monto del préstamo financiado.\n",
    "- funded_amnt_inv: Monto del préstamo financiado por los inversionistas.\n",
    "- int_rate: Tasa de interés del préstamo.\n",
    "- installment: Pago mensual de la cuota del préstamo.\n",
    "- annual_inc: Ingreso anual del solicitante.\n",
    "- dti: Ratio deuda-ingreso (Debt-to-Income Ratio) del solicitante.\n",
    "- delinq_2yrs: Número de incidencias de morosidad del solicitante en los últimos 2 años.\n",
    "- inq_last_6mths: Número de consultas de crédito del solicitante en los últimos 6 meses.\n",
    "- open_acc: Número de cuentas abiertas del solicitante.\n",
    "- pub_rec: Número de registros públicos adversos del solicitante.\n",
    "- revol_bal: Saldo rotativo del solicitante.\n",
    "- revol_util: Utilización del crédito rotativo del solicitante.\n",
    "- total_acc: Número total de cuentas del solicitante.\n",
    "- total_pymnt: Pago total realizado por el solicitante.\n",
    "- total_pymnt_inv: Pago total realizado por los inversionistas.\n",
    "- total_rec_prncp: Total de capital principal recibido.\n",
    "- total_rec_int: Total de interés recibido.\n",
    "- last_pymnt_amnt: Monto del último pago.\n",
    "\n",
    "Variables Categoricas\n",
    "\n",
    "- term: Plazo del préstamo.\n",
    "- emp_length: Duración del empleo del solicitante.\n",
    "- home_ownership: Estado de propiedad de la vivienda del solicitante.\n",
    "- verification_status: Estado de verificación del ingreso del solicitante.\n",
    "- loan_status: Estado del préstamo.\n",
    "- purpose: Propósito del préstamo\n",
    "- repay_fail: Indicador de fallo de pago (1 = fallo, 0 = no fallo).\n",
    "- last_pymnt_d: Fecha del último pago.\n",
    "- last_credit_pull_d: Fecha de la última consulta de crédito."
   ]
  },
  {
   "cell_type": "markdown",
   "metadata": {},
   "source": [
    "Procedo a eliminar columnas que me parecen no relevantes para el analisis y modelo de ML que implementaré para ver si un prestamo se paga o no."
   ]
  },
  {
   "cell_type": "code",
   "execution_count": 20,
   "metadata": {
    "vscode": {
     "languageId": "r"
    }
   },
   "outputs": [
    {
     "data": {
      "text/html": [
       "<table class=\"dataframe\">\n",
       "<caption>A data.frame: 6 × 21</caption>\n",
       "<thead>\n",
       "\t<tr><th></th><th scope=col>loan_amnt</th><th scope=col>funded_amnt</th><th scope=col>funded_amnt_inv</th><th scope=col>term</th><th scope=col>int_rate</th><th scope=col>installment</th><th scope=col>annual_inc</th><th scope=col>dti</th><th scope=col>delinq_2yrs</th><th scope=col>inq_last_6mths</th><th scope=col>⋯</th><th scope=col>revol_bal</th><th scope=col>revol_util</th><th scope=col>total_pymnt</th><th scope=col>total_pymnt_inv</th><th scope=col>total_rec_prncp</th><th scope=col>total_rec_int</th><th scope=col>last_pymnt_amnt</th><th scope=col>repay_fail</th><th scope=col>last_pymnt_d</th><th scope=col>last_credit_pull_d</th></tr>\n",
       "\t<tr><th></th><th scope=col>&lt;dbl&gt;</th><th scope=col>&lt;dbl&gt;</th><th scope=col>&lt;dbl&gt;</th><th scope=col>&lt;chr&gt;</th><th scope=col>&lt;dbl&gt;</th><th scope=col>&lt;dbl&gt;</th><th scope=col>&lt;dbl&gt;</th><th scope=col>&lt;dbl&gt;</th><th scope=col>&lt;dbl&gt;</th><th scope=col>&lt;dbl&gt;</th><th scope=col>⋯</th><th scope=col>&lt;dbl&gt;</th><th scope=col>&lt;dbl&gt;</th><th scope=col>&lt;dbl&gt;</th><th scope=col>&lt;dbl&gt;</th><th scope=col>&lt;dbl&gt;</th><th scope=col>&lt;dbl&gt;</th><th scope=col>&lt;dbl&gt;</th><th scope=col>&lt;dbl&gt;</th><th scope=col>&lt;chr&gt;</th><th scope=col>&lt;chr&gt;</th></tr>\n",
       "</thead>\n",
       "<tbody>\n",
       "\t<tr><th scope=row>1</th><td>2500</td><td>2500</td><td>2500</td><td>36 months</td><td>13.98</td><td> 85.42</td><td> 20004</td><td>19.86</td><td>0</td><td>5</td><td>⋯</td><td>  981</td><td>21.3</td><td>3075.292</td><td>3075.29</td><td>2500.00</td><td> 575.29</td><td>  90.85</td><td>0</td><td>2011-2013</td><td>2014-2016</td></tr>\n",
       "\t<tr><th scope=row>2</th><td>5000</td><td>5000</td><td>5000</td><td>36 months</td><td>15.95</td><td>175.67</td><td> 59000</td><td>19.57</td><td>0</td><td>1</td><td>⋯</td><td>18773</td><td>99.9</td><td>2948.760</td><td>2948.76</td><td>1909.02</td><td> 873.81</td><td> 175.67</td><td>1</td><td>2011-2013</td><td>2011-2013</td></tr>\n",
       "\t<tr><th scope=row>3</th><td>7000</td><td>7000</td><td>7000</td><td>36 months</td><td> 9.91</td><td>225.58</td><td> 53796</td><td>10.80</td><td>3</td><td>3</td><td>⋯</td><td> 3269</td><td>47.2</td><td>8082.392</td><td>8082.39</td><td>7000.00</td><td>1082.39</td><td>1550.27</td><td>0</td><td>2014-2016</td><td>2014-2016</td></tr>\n",
       "\t<tr><th scope=row>4</th><td>2000</td><td>2000</td><td>2000</td><td>36 months</td><td> 5.42</td><td> 60.32</td><td> 30000</td><td> 3.60</td><td>0</td><td>0</td><td>⋯</td><td>    0</td><td> 0.0</td><td>2161.663</td><td>2161.66</td><td>2000.00</td><td> 161.66</td><td>  53.12</td><td>0</td><td>2014-2016</td><td>2014-2016</td></tr>\n",
       "\t<tr><th scope=row>5</th><td>3600</td><td>3600</td><td>3600</td><td>36 months</td><td>10.25</td><td>116.59</td><td>675048</td><td> 1.55</td><td>0</td><td>4</td><td>⋯</td><td>    0</td><td> 0.0</td><td>4206.031</td><td>4206.03</td><td>3600.00</td><td> 606.03</td><td> 146.75</td><td>0</td><td>2011-2013</td><td>2014-2016</td></tr>\n",
       "\t<tr><th scope=row>6</th><td>8000</td><td>8000</td><td>8000</td><td>36 months</td><td> 6.03</td><td>243.49</td><td> 77736</td><td> 6.07</td><td>0</td><td>0</td><td>⋯</td><td> 4182</td><td>13.6</td><td>8724.972</td><td>8724.97</td><td>8000.00</td><td> 724.97</td><td>1423.66</td><td>0</td><td>2014-2016</td><td>2014-2016</td></tr>\n",
       "</tbody>\n",
       "</table>\n"
      ],
      "text/latex": [
       "A data.frame: 6 × 21\n",
       "\\begin{tabular}{r|lllllllllllllllllllll}\n",
       "  & loan\\_amnt & funded\\_amnt & funded\\_amnt\\_inv & term & int\\_rate & installment & annual\\_inc & dti & delinq\\_2yrs & inq\\_last\\_6mths & ⋯ & revol\\_bal & revol\\_util & total\\_pymnt & total\\_pymnt\\_inv & total\\_rec\\_prncp & total\\_rec\\_int & last\\_pymnt\\_amnt & repay\\_fail & last\\_pymnt\\_d & last\\_credit\\_pull\\_d\\\\\n",
       "  & <dbl> & <dbl> & <dbl> & <chr> & <dbl> & <dbl> & <dbl> & <dbl> & <dbl> & <dbl> & ⋯ & <dbl> & <dbl> & <dbl> & <dbl> & <dbl> & <dbl> & <dbl> & <dbl> & <chr> & <chr>\\\\\n",
       "\\hline\n",
       "\t1 & 2500 & 2500 & 2500 & 36 months & 13.98 &  85.42 &  20004 & 19.86 & 0 & 5 & ⋯ &   981 & 21.3 & 3075.292 & 3075.29 & 2500.00 &  575.29 &   90.85 & 0 & 2011-2013 & 2014-2016\\\\\n",
       "\t2 & 5000 & 5000 & 5000 & 36 months & 15.95 & 175.67 &  59000 & 19.57 & 0 & 1 & ⋯ & 18773 & 99.9 & 2948.760 & 2948.76 & 1909.02 &  873.81 &  175.67 & 1 & 2011-2013 & 2011-2013\\\\\n",
       "\t3 & 7000 & 7000 & 7000 & 36 months &  9.91 & 225.58 &  53796 & 10.80 & 3 & 3 & ⋯ &  3269 & 47.2 & 8082.392 & 8082.39 & 7000.00 & 1082.39 & 1550.27 & 0 & 2014-2016 & 2014-2016\\\\\n",
       "\t4 & 2000 & 2000 & 2000 & 36 months &  5.42 &  60.32 &  30000 &  3.60 & 0 & 0 & ⋯ &     0 &  0.0 & 2161.663 & 2161.66 & 2000.00 &  161.66 &   53.12 & 0 & 2014-2016 & 2014-2016\\\\\n",
       "\t5 & 3600 & 3600 & 3600 & 36 months & 10.25 & 116.59 & 675048 &  1.55 & 0 & 4 & ⋯ &     0 &  0.0 & 4206.031 & 4206.03 & 3600.00 &  606.03 &  146.75 & 0 & 2011-2013 & 2014-2016\\\\\n",
       "\t6 & 8000 & 8000 & 8000 & 36 months &  6.03 & 243.49 &  77736 &  6.07 & 0 & 0 & ⋯ &  4182 & 13.6 & 8724.972 & 8724.97 & 8000.00 &  724.97 & 1423.66 & 0 & 2014-2016 & 2014-2016\\\\\n",
       "\\end{tabular}\n"
      ],
      "text/markdown": [
       "\n",
       "A data.frame: 6 × 21\n",
       "\n",
       "| <!--/--> | loan_amnt &lt;dbl&gt; | funded_amnt &lt;dbl&gt; | funded_amnt_inv &lt;dbl&gt; | term &lt;chr&gt; | int_rate &lt;dbl&gt; | installment &lt;dbl&gt; | annual_inc &lt;dbl&gt; | dti &lt;dbl&gt; | delinq_2yrs &lt;dbl&gt; | inq_last_6mths &lt;dbl&gt; | ⋯ ⋯ | revol_bal &lt;dbl&gt; | revol_util &lt;dbl&gt; | total_pymnt &lt;dbl&gt; | total_pymnt_inv &lt;dbl&gt; | total_rec_prncp &lt;dbl&gt; | total_rec_int &lt;dbl&gt; | last_pymnt_amnt &lt;dbl&gt; | repay_fail &lt;dbl&gt; | last_pymnt_d &lt;chr&gt; | last_credit_pull_d &lt;chr&gt; |\n",
       "|---|---|---|---|---|---|---|---|---|---|---|---|---|---|---|---|---|---|---|---|---|---|\n",
       "| 1 | 2500 | 2500 | 2500 | 36 months | 13.98 |  85.42 |  20004 | 19.86 | 0 | 5 | ⋯ |   981 | 21.3 | 3075.292 | 3075.29 | 2500.00 |  575.29 |   90.85 | 0 | 2011-2013 | 2014-2016 |\n",
       "| 2 | 5000 | 5000 | 5000 | 36 months | 15.95 | 175.67 |  59000 | 19.57 | 0 | 1 | ⋯ | 18773 | 99.9 | 2948.760 | 2948.76 | 1909.02 |  873.81 |  175.67 | 1 | 2011-2013 | 2011-2013 |\n",
       "| 3 | 7000 | 7000 | 7000 | 36 months |  9.91 | 225.58 |  53796 | 10.80 | 3 | 3 | ⋯ |  3269 | 47.2 | 8082.392 | 8082.39 | 7000.00 | 1082.39 | 1550.27 | 0 | 2014-2016 | 2014-2016 |\n",
       "| 4 | 2000 | 2000 | 2000 | 36 months |  5.42 |  60.32 |  30000 |  3.60 | 0 | 0 | ⋯ |     0 |  0.0 | 2161.663 | 2161.66 | 2000.00 |  161.66 |   53.12 | 0 | 2014-2016 | 2014-2016 |\n",
       "| 5 | 3600 | 3600 | 3600 | 36 months | 10.25 | 116.59 | 675048 |  1.55 | 0 | 4 | ⋯ |     0 |  0.0 | 4206.031 | 4206.03 | 3600.00 |  606.03 |  146.75 | 0 | 2011-2013 | 2014-2016 |\n",
       "| 6 | 8000 | 8000 | 8000 | 36 months |  6.03 | 243.49 |  77736 |  6.07 | 0 | 0 | ⋯ |  4182 | 13.6 | 8724.972 | 8724.97 | 8000.00 |  724.97 | 1423.66 | 0 | 2014-2016 | 2014-2016 |\n",
       "\n"
      ],
      "text/plain": [
       "  loan_amnt funded_amnt funded_amnt_inv term      int_rate installment\n",
       "1 2500      2500        2500            36 months 13.98     85.42     \n",
       "2 5000      5000        5000            36 months 15.95    175.67     \n",
       "3 7000      7000        7000            36 months  9.91    225.58     \n",
       "4 2000      2000        2000            36 months  5.42     60.32     \n",
       "5 3600      3600        3600            36 months 10.25    116.59     \n",
       "6 8000      8000        8000            36 months  6.03    243.49     \n",
       "  annual_inc dti   delinq_2yrs inq_last_6mths ⋯ revol_bal revol_util\n",
       "1  20004     19.86 0           5              ⋯   981     21.3      \n",
       "2  59000     19.57 0           1              ⋯ 18773     99.9      \n",
       "3  53796     10.80 3           3              ⋯  3269     47.2      \n",
       "4  30000      3.60 0           0              ⋯     0      0.0      \n",
       "5 675048      1.55 0           4              ⋯     0      0.0      \n",
       "6  77736      6.07 0           0              ⋯  4182     13.6      \n",
       "  total_pymnt total_pymnt_inv total_rec_prncp total_rec_int last_pymnt_amnt\n",
       "1 3075.292    3075.29         2500.00          575.29         90.85        \n",
       "2 2948.760    2948.76         1909.02          873.81        175.67        \n",
       "3 8082.392    8082.39         7000.00         1082.39       1550.27        \n",
       "4 2161.663    2161.66         2000.00          161.66         53.12        \n",
       "5 4206.031    4206.03         3600.00          606.03        146.75        \n",
       "6 8724.972    8724.97         8000.00          724.97       1423.66        \n",
       "  repay_fail last_pymnt_d last_credit_pull_d\n",
       "1 0          2011-2013    2014-2016         \n",
       "2 1          2011-2013    2011-2013         \n",
       "3 0          2014-2016    2014-2016         \n",
       "4 0          2014-2016    2014-2016         \n",
       "5 0          2011-2013    2014-2016         \n",
       "6 0          2014-2016    2014-2016         "
      ]
     },
     "metadata": {},
     "output_type": "display_data"
    }
   ],
   "source": [
    "# Elimino las columnas id, member_id, open_acc, total_acc y verification_status\n",
    "loan_data <- loan_data[, -which(names(loan_data) %in% c(\"id\"))]\n",
    "loan_data <- loan_data[, -which(names(loan_data) %in% c(\"member_id\"))]\n",
    "loan_data <- loan_data[, -which(names(loan_data) %in% c(\"open_acc\"))]\n",
    "loan_data <- loan_data[, -which(names(loan_data) %in% c(\"total_acc\"))]\n",
    "loan_data <- loan_data[, -which(names(loan_data) %in% c(\"verification_status\"))]\n",
    "# Reseteo los nombres de las filas para que comiencen en 1\n",
    "row.names(loan_data) <- NULL"
   ]
  },
  {
   "cell_type": "markdown",
   "metadata": {},
   "source": [
    "La siguiente celda se utiliza para generar un resumen estadístico de las variables numéricas seleccionadas en el conjunto de datos loan_data. El resumen incluye medidas como la media, mediana, mínimo, máximo y los cuartiles (Q1 y Q3), que son útiles para entender la distribución de los datos."
   ]
  },
  {
   "cell_type": "code",
   "execution_count": 22,
   "metadata": {
    "vscode": {
     "languageId": "r"
    }
   },
   "outputs": [
    {
     "data": {
      "text/plain": [
       "   loan_amnt      funded_amnt    funded_amnt_inv    int_rate    \n",
       " Min.   :  500   Min.   :  500   Min.   :    0   Min.   : 5.42  \n",
       " 1st Qu.: 5300   1st Qu.: 5125   1st Qu.: 4973   1st Qu.: 9.62  \n",
       " Median : 9800   Median : 9600   Median : 8500   Median :11.99  \n",
       " Mean   :11109   Mean   :10845   Mean   :10166   Mean   :12.15  \n",
       " 3rd Qu.:15000   3rd Qu.:15000   3rd Qu.:14019   3rd Qu.:14.72  \n",
       " Max.   :35000   Max.   :35000   Max.   :35000   Max.   :24.11  \n",
       "  installment        annual_inc           dti         delinq_2yrs     \n",
       " Min.   :  15.67   Min.   :   1896   Min.   : 0.00   Min.   : 0.0000  \n",
       " 1st Qu.: 165.91   1st Qu.:  40000   1st Qu.: 8.21   1st Qu.: 0.0000  \n",
       " Median : 278.48   Median :  58880   Median :13.49   Median : 0.0000  \n",
       " Mean   : 323.52   Mean   :  69058   Mean   :13.38   Mean   : 0.1519  \n",
       " 3rd Qu.: 429.86   3rd Qu.:  82100   3rd Qu.:18.69   3rd Qu.: 0.0000  \n",
       " Max.   :1305.19   Max.   :6000000   Max.   :29.99   Max.   :11.0000  \n",
       " inq_last_6mths      pub_rec         revol_bal         revol_util    \n",
       " Min.   : 0.000   Min.   :0.0000   Min.   :      0   Min.   :  0.00  \n",
       " 1st Qu.: 0.000   1st Qu.:0.0000   1st Qu.:   3667   1st Qu.: 25.70  \n",
       " Median : 1.000   Median :0.0000   Median :   8863   Median : 49.60  \n",
       " Mean   : 1.082   Mean   :0.0579   Mean   :  14309   Mean   : 49.11  \n",
       " 3rd Qu.: 2.000   3rd Qu.:0.0000   3rd Qu.:  17291   3rd Qu.: 72.60  \n",
       " Max.   :33.000   Max.   :5.0000   Max.   :1207359   Max.   :119.00  \n",
       "  total_pymnt       total_pymnt_inv total_rec_prncp total_rec_int     \n",
       " Min.   :   35.71   Min.   :    0   Min.   :    0   Min.   :    3.54  \n",
       " 1st Qu.: 5487.53   1st Qu.: 4851   1st Qu.: 4485   1st Qu.:  662.38  \n",
       " Median : 9708.77   Median : 8981   Median : 8000   Median : 1339.16  \n",
       " Mean   :12012.95   Mean   :11307   Mean   : 9673   Mean   : 2238.91  \n",
       " 3rd Qu.:16427.20   3rd Qu.:15517   3rd Qu.:13450   3rd Qu.: 2803.51  \n",
       " Max.   :58563.68   Max.   :58564   Max.   :35000   Max.   :23611.10  \n",
       " last_pymnt_amnt  \n",
       " Min.   :    0.0  \n",
       " 1st Qu.:  213.8  \n",
       " Median :  528.5  \n",
       " Mean   : 2622.5  \n",
       " 3rd Qu.: 3184.3  \n",
       " Max.   :36115.2  "
      ]
     },
     "metadata": {},
     "output_type": "display_data"
    }
   ],
   "source": [
    "# veo un resumen de las variables numericas\n",
    "# como la media, mediana (Q2), minimo, maximo, Q1, Q3\n",
    "summary(loan_data[c(\"loan_amnt\", \"funded_amnt\",\n",
    "                    \"funded_amnt_inv\", \"int_rate\", \"installment\", \"annual_inc\",\n",
    "                    \"dti\", \"delinq_2yrs\", \"inq_last_6mths\",\n",
    "                    \"pub_rec\", \"revol_bal\", \"revol_util\",\n",
    "                    \"total_pymnt\", \"total_pymnt_inv\", \"total_rec_prncp\",\n",
    "                    \"total_rec_int\", \"last_pymnt_amnt\")])"
   ]
  },
  {
   "cell_type": "markdown",
   "metadata": {},
   "source": [
    "Medidas resumen incluidas:\n",
    "\n",
    "- Media: El promedio de los valores en cada columna.\n",
    "- Mediana (Q2): El valor central cuando los datos están ordenados.\n",
    "- Mínimo: El valor más pequeño en la columna.\n",
    "- Máximo: El valor más grande en la columna.\n",
    "- Primer cuartil (Q1): El valor por debajo del cual se encuentra el 25% de los datos.\n",
    "- Tercer cuartil (Q3): El valor por debajo del cual se encuentra el 75% de los datos."
   ]
  },
  {
   "cell_type": "markdown",
   "metadata": {},
   "source": [
    "Analisis Univariado Variables Numericas Seleccionadas\n",
    "\n",
    "Considero que las variables numericas más importantes son 3: loan_amnt, annual_inc y dti."
   ]
  },
  {
   "cell_type": "code",
   "execution_count": 23,
   "metadata": {
    "vscode": {
     "languageId": "r"
    }
   },
   "outputs": [
    {
     "data": {
      "text/html": [
       "<style>\n",
       ".dl-inline {width: auto; margin:0; padding: 0}\n",
       ".dl-inline>dt, .dl-inline>dd {float: none; width: auto; display: inline-block}\n",
       ".dl-inline>dt::after {content: \":\\0020\"; padding-right: .5ex}\n",
       ".dl-inline>dt:not(:first-of-type) {padding-left: .5ex}\n",
       "</style><dl class=dl-inline><dt>loan_amnt</dt><dd>0</dd><dt>funded_amnt</dt><dd>0</dd><dt>funded_amnt_inv</dt><dd>0</dd><dt>term</dt><dd>0</dd><dt>int_rate</dt><dd>0</dd><dt>installment</dt><dd>0</dd><dt>annual_inc</dt><dd>0</dd><dt>dti</dt><dd>0</dd><dt>delinq_2yrs</dt><dd>0</dd><dt>inq_last_6mths</dt><dd>0</dd><dt>pub_rec</dt><dd>0</dd><dt>revol_bal</dt><dd>0</dd><dt>revol_util</dt><dd>0</dd><dt>total_pymnt</dt><dd>0</dd><dt>total_pymnt_inv</dt><dd>0</dd><dt>total_rec_prncp</dt><dd>0</dd><dt>total_rec_int</dt><dd>0</dd><dt>last_pymnt_amnt</dt><dd>0</dd><dt>repay_fail</dt><dd>0</dd><dt>last_pymnt_d</dt><dd>0</dd><dt>last_credit_pull_d</dt><dd>0</dd></dl>\n"
      ],
      "text/latex": [
       "\\begin{description*}\n",
       "\\item[loan\\textbackslash{}\\_amnt] 0\n",
       "\\item[funded\\textbackslash{}\\_amnt] 0\n",
       "\\item[funded\\textbackslash{}\\_amnt\\textbackslash{}\\_inv] 0\n",
       "\\item[term] 0\n",
       "\\item[int\\textbackslash{}\\_rate] 0\n",
       "\\item[installment] 0\n",
       "\\item[annual\\textbackslash{}\\_inc] 0\n",
       "\\item[dti] 0\n",
       "\\item[delinq\\textbackslash{}\\_2yrs] 0\n",
       "\\item[inq\\textbackslash{}\\_last\\textbackslash{}\\_6mths] 0\n",
       "\\item[pub\\textbackslash{}\\_rec] 0\n",
       "\\item[revol\\textbackslash{}\\_bal] 0\n",
       "\\item[revol\\textbackslash{}\\_util] 0\n",
       "\\item[total\\textbackslash{}\\_pymnt] 0\n",
       "\\item[total\\textbackslash{}\\_pymnt\\textbackslash{}\\_inv] 0\n",
       "\\item[total\\textbackslash{}\\_rec\\textbackslash{}\\_prncp] 0\n",
       "\\item[total\\textbackslash{}\\_rec\\textbackslash{}\\_int] 0\n",
       "\\item[last\\textbackslash{}\\_pymnt\\textbackslash{}\\_amnt] 0\n",
       "\\item[repay\\textbackslash{}\\_fail] 0\n",
       "\\item[last\\textbackslash{}\\_pymnt\\textbackslash{}\\_d] 0\n",
       "\\item[last\\textbackslash{}\\_credit\\textbackslash{}\\_pull\\textbackslash{}\\_d] 0\n",
       "\\end{description*}\n"
      ],
      "text/markdown": [
       "loan_amnt\n",
       ":   0funded_amnt\n",
       ":   0funded_amnt_inv\n",
       ":   0term\n",
       ":   0int_rate\n",
       ":   0installment\n",
       ":   0annual_inc\n",
       ":   0dti\n",
       ":   0delinq_2yrs\n",
       ":   0inq_last_6mths\n",
       ":   0pub_rec\n",
       ":   0revol_bal\n",
       ":   0revol_util\n",
       ":   0total_pymnt\n",
       ":   0total_pymnt_inv\n",
       ":   0total_rec_prncp\n",
       ":   0total_rec_int\n",
       ":   0last_pymnt_amnt\n",
       ":   0repay_fail\n",
       ":   0last_pymnt_d\n",
       ":   0last_credit_pull_d\n",
       ":   0\n",
       "\n"
      ],
      "text/plain": [
       "         loan_amnt        funded_amnt    funded_amnt_inv               term \n",
       "                 0                  0                  0                  0 \n",
       "          int_rate        installment         annual_inc                dti \n",
       "                 0                  0                  0                  0 \n",
       "       delinq_2yrs     inq_last_6mths            pub_rec          revol_bal \n",
       "                 0                  0                  0                  0 \n",
       "        revol_util        total_pymnt    total_pymnt_inv    total_rec_prncp \n",
       "                 0                  0                  0                  0 \n",
       "     total_rec_int    last_pymnt_amnt         repay_fail       last_pymnt_d \n",
       "                 0                  0                  0                  0 \n",
       "last_credit_pull_d \n",
       "                 0 "
      ]
     },
     "metadata": {},
     "output_type": "display_data"
    }
   ],
   "source": [
    "#chequeo si hay valores faltantes en las columnas\n",
    "# y cuantos son\n",
    "valores_faltantes <- sapply(loan_data, function(x) sum(is.na(x)))\n",
    "valores_faltantes"
   ]
  },
  {
   "cell_type": "code",
   "execution_count": 24,
   "metadata": {
    "vscode": {
     "languageId": "r"
    }
   },
   "outputs": [
    {
     "data": {
      "text/plain": [
       "   loan_amnt       annual_inc           dti       \n",
       " Min.   :  500   Min.   :   1896   Min.   : 0.00  \n",
       " 1st Qu.: 5300   1st Qu.:  40000   1st Qu.: 8.21  \n",
       " Median : 9800   Median :  58880   Median :13.49  \n",
       " Mean   :11109   Mean   :  69058   Mean   :13.38  \n",
       " 3rd Qu.:15000   3rd Qu.:  82100   3rd Qu.:18.69  \n",
       " Max.   :35000   Max.   :6000000   Max.   :29.99  "
      ]
     },
     "metadata": {},
     "output_type": "display_data"
    }
   ],
   "source": [
    "# veo un resumen de las variables numericas\n",
    "# como la media, mediana (Q2), minimo, maximo, Q1, Q3\n",
    "summary(loan_data[c(\"loan_amnt\", \"annual_inc\", \"dti\")])"
   ]
  },
  {
   "cell_type": "code",
   "execution_count": 25,
   "metadata": {
    "vscode": {
     "languageId": "r"
    }
   },
   "outputs": [
    {
     "data": {
      "text/html": [
       "<style>\n",
       ".dl-inline {width: auto; margin:0; padding: 0}\n",
       ".dl-inline>dt, .dl-inline>dd {float: none; width: auto; display: inline-block}\n",
       ".dl-inline>dt::after {content: \":\\0020\"; padding-right: .5ex}\n",
       ".dl-inline>dt:not(:first-of-type) {padding-left: .5ex}\n",
       "</style><dl class=dl-inline><dt>loan_amnt</dt><dd>9700</dd><dt>annual_inc</dt><dd>42100</dd><dt>dti</dt><dd>10.48</dd></dl>\n"
      ],
      "text/latex": [
       "\\begin{description*}\n",
       "\\item[loan\\textbackslash{}\\_amnt] 9700\n",
       "\\item[annual\\textbackslash{}\\_inc] 42100\n",
       "\\item[dti] 10.48\n",
       "\\end{description*}\n"
      ],
      "text/markdown": [
       "loan_amnt\n",
       ":   9700annual_inc\n",
       ":   42100dti\n",
       ":   10.48\n",
       "\n"
      ],
      "text/plain": [
       " loan_amnt annual_inc        dti \n",
       "   9700.00   42100.00      10.48 "
      ]
     },
     "metadata": {},
     "output_type": "display_data"
    }
   ],
   "source": [
    "# selecciono las columnas numericas que me interesan\n",
    "# luego calculo el rango intercuartilico de cada una\n",
    "col_interes_num2 <- c(\"loan_amnt\", \"annual_inc\", \"dti\")\n",
    "valores_iqr <- sapply(loan_data[col_interes_num2], IQR)\n",
    "valores_iqr"
   ]
  },
  {
   "cell_type": "code",
   "execution_count": 26,
   "metadata": {
    "vscode": {
     "languageId": "r"
    }
   },
   "outputs": [
    {
     "data": {
      "image/png": "[encoded data removed]",
      "text/plain": [
       "Plot with title \"Boxplot de annual_inc\""
      ]
     },
     "metadata": {
      "image/png": {
       "height": 300,
       "width": 600
      }
     },
     "output_type": "display_data"
    }
   ],
   "source": [
    "# Ajusto el tamaño de la ventana gráfica\n",
    "options(repr.plot.width = 10, repr.plot.height = 5)\n",
    "\n",
    "# Divido el área de gráficos en una disposición de 1 fila por 2 columnas\n",
    "par(mfrow = c(1, 2))\n",
    "\n",
    "# Creo el primer boxplot para loan_amnt\n",
    "boxplot(loan_data$loan_amnt,\n",
    "        main = \"Boxplot de loan_amnt\",\n",
    "        ylab = \"loan_amnt ($)\",\n",
    "        xlab = \"\",\n",
    "        outline = TRUE,\n",
    "        axes = FALSE)  # Oculto ejes para personalizarlos después\n",
    "\n",
    "# Añado de nuevo los ejes\n",
    "axis(2, las = 1, cex.axis = 0.7,\n",
    "     at = pretty(loan_data$loan_amnt),\n",
    "     labels = format(pretty(loan_data$loan_amnt), scientific = FALSE))\n",
    "axis(1, at = 1, labels = \"\")\n",
    "box()  # Añado el cuadro alrededor del gráfico\n",
    "\n",
    "# Creo el segundo boxplot para annual_inc con rango limitado\n",
    "boxplot(loan_data$annual_inc,\n",
    "        main = \"Boxplot de annual_inc\",\n",
    "        ylab = \"annual_inc ($)\",\n",
    "        xlab = \"\",\n",
    "        ylim = c(0, 150000),  # Limito el rango del eje y\n",
    "        outline = TRUE,\n",
    "        axes = FALSE)  # Oculto ejes para personalizarlos después\n",
    "\n",
    "# Añado de nuevo los ejes\n",
    "axis(2, las = 1, cex.axis = 0.7,\n",
    "     at = pretty(loan_data$annual_inc[loan_data$annual_inc <= 150000]),\n",
    "     labels = format(pretty(loan_data$annual_inc\n",
    "                            [loan_data$annual_inc <= 150000]),\n",
    "                     scientific = FALSE))\n",
    "axis(1, at = 1, labels = \"\")\n",
    "box()  # Añado el cuadro alrededor del gráfico\n"
   ]
  },
  {
   "cell_type": "code",
   "execution_count": 27,
   "metadata": {
    "vscode": {
     "languageId": "r"
    }
   },
   "outputs": [
    {
     "data": {
      "image/png": "[encoded data removed]",
      "text/plain": [
       "Plot with title \"Boxplot de dti\""
      ]
     },
     "metadata": {
      "image/png": {
       "height": 300,
       "width": 600
      }
     },
     "output_type": "display_data"
    }
   ],
   "source": [
    "# Creo un boxplot para dti\n",
    "par(mfrow = c(1, 2))  # Configuro el área de gráficos para un solo gráfico\n",
    "boxplot(loan_data$dti,\n",
    "        main = \"Boxplot de dti\",\n",
    "        ylab = \"dti\",\n",
    "        xlab = \"\",\n",
    "        outline = TRUE)  # Mantengo los outliers"
   ]
  },
  {
   "cell_type": "code",
   "execution_count": 28,
   "metadata": {
    "vscode": {
     "languageId": "r"
    }
   },
   "outputs": [
    {
     "data": {
      "text/html": [
       "1111"
      ],
      "text/latex": [
       "1111"
      ],
      "text/markdown": [
       "1111"
      ],
      "text/plain": [
       "[1] 1111"
      ]
     },
     "metadata": {},
     "output_type": "display_data"
    }
   ],
   "source": [
    "# Cálculo del rango intercuartílico de loan_amnt\n",
    "q1 <- quantile(loan_data$loan_amnt, 0.25)\n",
    "q3 <- quantile(loan_data$loan_amnt, 0.75)\n",
    "iqr <- q3 - q1\n",
    "lim_inf <- q1 - 1.5 * iqr\n",
    "lim_sup <- q3 + 1.5 * iqr\n",
    "# Identifico los outliers\n",
    "outliers <- loan_data %>%\n",
    "  filter(loan_amnt < lim_inf | loan_amnt > lim_sup)\n",
    "# Número de outliers\n",
    "nrow(outliers)"
   ]
  },
  {
   "cell_type": "code",
   "execution_count": 29,
   "metadata": {
    "vscode": {
     "languageId": "r"
    }
   },
   "outputs": [
    {
     "data": {
      "text/html": [
       "1838"
      ],
      "text/latex": [
       "1838"
      ],
      "text/markdown": [
       "1838"
      ],
      "text/plain": [
       "[1] 1838"
      ]
     },
     "metadata": {},
     "output_type": "display_data"
    }
   ],
   "source": [
    "# Cálculo del rango intercuartílico de annual_inc\n",
    "q1 <- quantile(loan_data$annual_inc, 0.25)\n",
    "q3 <- quantile(loan_data$annual_inc, 0.75)\n",
    "iqr <- q3 - q1\n",
    "lim_inf <- q1 - 1.5 * iqr\n",
    "lim_sup <- q3 + 1.5 * iqr\n",
    "# Identifico los outliers\n",
    "outliers <- loan_data %>%\n",
    "  filter(annual_inc < lim_inf | annual_inc > lim_sup)\n",
    "# Número de outliers\n",
    "nrow(outliers)"
   ]
  },
  {
   "cell_type": "code",
   "execution_count": 30,
   "metadata": {
    "vscode": {
     "languageId": "r"
    }
   },
   "outputs": [
    {
     "data": {
      "text/html": [
       "58880"
      ],
      "text/latex": [
       "58880"
      ],
      "text/markdown": [
       "58880"
      ],
      "text/plain": [
       "[1] 58880"
      ]
     },
     "metadata": {},
     "output_type": "display_data"
    },
    {
     "data": {
      "text/html": [
       "69057.6147143043"
      ],
      "text/latex": [
       "69057.6147143043"
      ],
      "text/markdown": [
       "69057.6147143043"
      ],
      "text/plain": [
       "[1] 69057.61"
      ]
     },
     "metadata": {},
     "output_type": "display_data"
    }
   ],
   "source": [
    "#mediana y promedio de annual_inc\n",
    "median(loan_data$annual_inc)\n",
    "mean(loan_data$annual_inc)"
   ]
  },
  {
   "cell_type": "code",
   "execution_count": 31,
   "metadata": {
    "vscode": {
     "languageId": "r"
    }
   },
   "outputs": [
    {
     "data": {
      "image/png": "[encoded data removed]",
      "text/plain": [
       "Plot with title \"Histograma de annual_inc\""
      ]
     },
     "metadata": {
      "image/png": {
       "height": 300,
       "width": 600
      }
     },
     "output_type": "display_data"
    }
   ],
   "source": [
    "# Ajusto el tamaño de la ventana gráfica\n",
    "options(repr.plot.width = 10, repr.plot.height = 5)\n",
    "\n",
    "# Divido el área de gráficos en una disposición de 1 fila por 2 columnas\n",
    "par(mfrow = c(1, 2))\n",
    "\n",
    "# Creo el histograma para loan_amnt\n",
    "hist(loan_data$loan_amnt,\n",
    "     main = \"Histograma de loan_amnt\",\n",
    "     xlab = \"loan_amnt ($)\",\n",
    "     ylab = \"Frecuencia\",\n",
    "     col = \"skyblue\",\n",
    "     breaks = 30,  # Ajusto el número de bins\n",
    "     axes = FALSE)  # Oculto ejes para personalizarlos después\n",
    "\n",
    "# Añado los ejes personalizados para loan_amnt\n",
    "axis(1, at = pretty(loan_data$loan_amnt),\n",
    "     labels = format(pretty(loan_data$loan_amnt), scientific = FALSE))\n",
    "axis(2, las = 1, at = pretty(range(hist(loan_data$loan_amnt, breaks = 30, plot = FALSE)$counts)))\n",
    "\n",
    "# Creo el histograma para annual_inc con más bins\n",
    "hist(loan_data$annual_inc,\n",
    "     main = \"Histograma de annual_inc\",\n",
    "     xlab = \"annual_inc ($)\",\n",
    "     ylab = \"Frecuencia\",\n",
    "     col = \"lightgreen\",\n",
    "     breaks = 100,  # Incremento el número de bins\n",
    "     xlim = c(0, 300000),  # Limito el rango del eje x\n",
    "     axes = FALSE)  # Oculto ejes para personalizarlos después\n",
    "\n",
    "# Añado los ejes personalizados para annual_inc\n",
    "axis(1, at = pretty(loan_data$annual_inc[loan_data$annual_inc <= 300000]),\n",
    "     labels = format(pretty(loan_data$annual_inc[loan_data$annual_inc <= 300000]), scientific = FALSE))\n",
    "axis(2, las = 1, at = pretty(range(hist(loan_data$annual_inc, breaks = 100, plot = FALSE)$counts)))\n"
   ]
  },
  {
   "cell_type": "code",
   "execution_count": 32,
   "metadata": {
    "vscode": {
     "languageId": "r"
    }
   },
   "outputs": [
    {
     "data": {
      "image/png": "[encoded data removed]",
      "text/plain": [
       "Plot with title \"Histograma de dti\""
      ]
     },
     "metadata": {
      "image/png": {
       "height": 300,
       "width": 600
      }
     },
     "output_type": "display_data"
    }
   ],
   "source": [
    "# Configuro el área de gráficos para un solo gráfico\n",
    "par(mfrow = c(1, 2))\n",
    "# Obtengo las frecuencias del histograma de dti sin dibujarlo\n",
    "hist_info_dti <- hist(loan_data$dti, breaks = 10, plot = FALSE)\n",
    "\n",
    "# Calculo la frecuencia máxima para dti\n",
    "max_freq_dti <- max(hist_info_dti$counts)\n",
    "\n",
    "# Creo el histograma para dti con el ajuste del eje y\n",
    "hist(loan_data$dti,\n",
    "     main = \"Histograma de dti\",\n",
    "     xlab = \"dti\",\n",
    "     ylab = \"Frecuencia\",\n",
    "     col = \"skyblue\",\n",
    "     breaks = 10,\n",
    "     ylim = c(0, max_freq_dti + 50),  # Ajusto el rango del eje y\n",
    "     axes = FALSE)  # Oculto ejes para personalizarlos después\n",
    "\n",
    "# Añado los ejes personalizados para dti\n",
    "axis(1, at = hist_info_dti$breaks, labels =\n",
    "       format(hist_info_dti$breaks, scientific = FALSE))\n",
    "axis(2, las = 1, at = seq(0, max_freq_dti + 50, by = 400))"
   ]
  },
  {
   "cell_type": "code",
   "execution_count": 33,
   "metadata": {
    "vscode": {
     "languageId": "r"
    }
   },
   "outputs": [
    {
     "data": {
      "text/html": [
       "54811626.785361"
      ],
      "text/latex": [
       "54811626.785361"
      ],
      "text/markdown": [
       "54811626.785361"
      ],
      "text/plain": [
       "[1] 54811627"
      ]
     },
     "metadata": {},
     "output_type": "display_data"
    },
    {
     "data": {
      "text/html": [
       "7403.48747451909"
      ],
      "text/latex": [
       "7403.48747451909"
      ],
      "text/markdown": [
       "7403.48747451909"
      ],
      "text/plain": [
       "[1] 7403.487"
      ]
     },
     "metadata": {},
     "output_type": "display_data"
    }
   ],
   "source": [
    "# Varianza y desviación estándar de loan_amnt\n",
    "var_loan_amnt <- var(loan_data$loan_amnt)\n",
    "sd_loan_amnt <- sd(loan_data$loan_amnt)\n",
    "var_loan_amnt\n",
    "sd_loan_amnt"
   ]
  },
  {
   "cell_type": "code",
   "execution_count": 34,
   "metadata": {
    "vscode": {
     "languageId": "r"
    }
   },
   "outputs": [
    {
     "data": {
      "text/html": [
       "4160751266.03768"
      ],
      "text/latex": [
       "4160751266.03768"
      ],
      "text/markdown": [
       "4160751266.03768"
      ],
      "text/plain": [
       "[1] 4160751266"
      ]
     },
     "metadata": {},
     "output_type": "display_data"
    },
    {
     "data": {
      "text/html": [
       "64503.8856661959"
      ],
      "text/latex": [
       "64503.8856661959"
      ],
      "text/markdown": [
       "64503.8856661959"
      ],
      "text/plain": [
       "[1] 64503.89"
      ]
     },
     "metadata": {},
     "output_type": "display_data"
    }
   ],
   "source": [
    "# Varianza y desviación estándar de annual_inc\n",
    "var_annual_inc <- var(loan_data$annual_inc)\n",
    "sd_annual_inc <- sd(loan_data$annual_inc)\n",
    "var_annual_inc\n",
    "sd_annual_inc"
   ]
  },
  {
   "cell_type": "code",
   "execution_count": 35,
   "metadata": {
    "vscode": {
     "languageId": "r"
    }
   },
   "outputs": [
    {
     "data": {
      "text/html": [
       "45.2570584176227"
      ],
      "text/latex": [
       "45.2570584176227"
      ],
      "text/markdown": [
       "45.2570584176227"
      ],
      "text/plain": [
       "[1] 45.25706"
      ]
     },
     "metadata": {},
     "output_type": "display_data"
    },
    {
     "data": {
      "text/html": [
       "6.72733665112894"
      ],
      "text/latex": [
       "6.72733665112894"
      ],
      "text/markdown": [
       "6.72733665112894"
      ],
      "text/plain": [
       "[1] 6.727337"
      ]
     },
     "metadata": {},
     "output_type": "display_data"
    }
   ],
   "source": [
    "# Varianza y desviación estándar de dti\n",
    "var_dti <- var(loan_data$dti)\n",
    "sd_dti <- sd(loan_data$dti)\n",
    "var_dti\n",
    "sd_dti"
   ]
  },
  {
   "cell_type": "markdown",
   "metadata": {},
   "source": [
    "Analisis Univariado Variables Categoricas Seleccionadas\n",
    "\n",
    "Considero que las variables categoricas más importantes son 2: repay_fail y term"
   ]
  },
  {
   "cell_type": "code",
   "execution_count": 36,
   "metadata": {
    "vscode": {
     "languageId": "r"
    }
   },
   "outputs": [
    {
     "data": {
      "image/png": "[encoded data removed]",
      "text/plain": [
       "Plot with title \"Gráfico de Barras de repay_fail\""
      ]
     },
     "metadata": {
      "image/png": {
       "height": 300,
       "width": 600
      }
     },
     "output_type": "display_data"
    }
   ],
   "source": [
    "# Creo la tabla de frecuencias para repay_fail\n",
    "freq_table_repay_fail <- table(loan_data$repay_fail)\n",
    "\n",
    "# Creo el gráfico de barras\n",
    "barplot(freq_table_repay_fail,\n",
    "        main = \"Gráfico de Barras de repay_fail\",\n",
    "        xlab = \"repay_fail\",\n",
    "        ylab = \"Frecuencia\",\n",
    "        col = \"skyblue\",\n",
    "        ylim = c(0, max(freq_table_repay_fail) + 4000),\n",
    "        las = 1)  # Hacer que las etiquetas del eje y sean horizontales\n",
    "\n",
    "# Añado más etiquetas en el eje y\n",
    "y_ticks <- seq(0, max(freq_table_repay_fail) + 50, by = 5000)\n",
    "axis(2, at = y_ticks, labels = y_ticks, las = 1)"
   ]
  },
  {
   "cell_type": "code",
   "execution_count": 37,
   "metadata": {
    "vscode": {
     "languageId": "r"
    }
   },
   "outputs": [
    {
     "data": {
      "image/png": "[encoded data removed]",
      "text/plain": [
       "Plot with title \"Gráfico de Barras de term\""
      ]
     },
     "metadata": {
      "image/png": {
       "height": 300,
       "width": 600
      }
     },
     "output_type": "display_data"
    }
   ],
   "source": [
    "# Creo la tabla de frecuencias para term\n",
    "freq_table_term <- table(loan_data$term)\n",
    "\n",
    "# Creo el gráfico de barras\n",
    "barplot(freq_table_term,\n",
    "        main = \"Gráfico de Barras de term\",\n",
    "        xlab = \"term\",\n",
    "        ylab = \"Frecuencia\",\n",
    "        col = \"skyblue\",\n",
    "        ylim = c(0, max(freq_table_term) + 4000),\n",
    "        las = 1)  # Hago que las etiquetas del eje y sean horizontales\n",
    "\n",
    "# Añado más etiquetas en el eje y\n",
    "y_ticks <- seq(0, max(freq_table_term) + 50, by = 5000)\n",
    "axis(2, at = y_ticks, labels = y_ticks, las = 1)"
   ]
  },
  {
   "cell_type": "code",
   "execution_count": 38,
   "metadata": {
    "vscode": {
     "languageId": "r"
    }
   },
   "outputs": [
    {
     "data": {
      "image/png": "[encoded data removed]",
      "text/plain": [
       "Plot with title \"Gráfico de Torta de repay_fail\""
      ]
     },
     "metadata": {
      "image/png": {
       "height": 300,
       "width": 600
      }
     },
     "output_type": "display_data"
    }
   ],
   "source": [
    "# Creo la tabla de frecuencias para repay_fail\n",
    "freq_table_repay_fail <- table(loan_data$repay_fail)\n",
    "\n",
    "# Calculo los porcentajes\n",
    "percentages <- round(100 * freq_table_repay_fail / sum(freq_table_repay_fail), 1)\n",
    "labels <- paste(names(freq_table_repay_fail), percentages, \"%\")\n",
    "\n",
    "# Creo el gráfico de torta\n",
    "pie(freq_table_repay_fail,\n",
    "    main = \"Gráfico de Torta de repay_fail\",\n",
    "    col = c(\"skyblue\", \"lightgreen\"),\n",
    "    labels = labels,\n",
    "    clockwise = TRUE)\n",
    "\n",
    "# Añado leyenda\n",
    "legend(\"topright\", legend = names(freq_table_repay_fail), fill = c(\"skyblue\", \"lightgreen\"))\n"
   ]
  },
  {
   "cell_type": "code",
   "execution_count": 39,
   "metadata": {
    "vscode": {
     "languageId": "r"
    }
   },
   "outputs": [
    {
     "data": {
      "image/png": "[encoded data removed]",
      "text/plain": [
       "Plot with title \"Gráfico de Torta de term\""
      ]
     },
     "metadata": {
      "image/png": {
       "height": 300,
       "width": 600
      }
     },
     "output_type": "display_data"
    }
   ],
   "source": [
    "# Creo la tabla de frecuencias para term\n",
    "freq_table_term <- table(loan_data$term)\n",
    "\n",
    "# Calculo los porcentajes\n",
    "percentages <- round(100 * freq_table_term / sum(freq_table_term), 1)\n",
    "labels <- paste(names(freq_table_term), percentages, \"%\")\n",
    "\n",
    "# Creo el gráfico de torta\n",
    "pie(freq_table_term,\n",
    "    main = \"Gráfico de Torta de term\",\n",
    "    col = c(\"skyblue\", \"lightgreen\"),\n",
    "    labels = labels,\n",
    "    clockwise = TRUE)\n",
    "\n",
    "# Añado leyenda\n",
    "legend(\"topright\", legend = names(freq_table_term), fill = c(\"skyblue\", \"lightgreen\"))\n"
   ]
  },
  {
   "cell_type": "code",
   "execution_count": 40,
   "metadata": {
    "vscode": {
     "languageId": "r"
    }
   },
   "outputs": [
    {
     "data": {
      "text/plain": [
       "\n",
       "    0     1 \n",
       "32606  5739 "
      ]
     },
     "metadata": {},
     "output_type": "display_data"
    }
   ],
   "source": [
    "## Creo la tabla de frecuencias para repay_fail\n",
    "freq_table_repay_fail <- table(loan_data$repay_fail)\n",
    "freq_table_repay_fail"
   ]
  },
  {
   "cell_type": "code",
   "execution_count": 41,
   "metadata": {
    "vscode": {
     "languageId": "r"
    }
   },
   "outputs": [
    {
     "data": {
      "text/plain": [
       "\n",
       "36 months 60 months \n",
       "    28478      9867 "
      ]
     },
     "metadata": {},
     "output_type": "display_data"
    }
   ],
   "source": [
    "## Creo la tabla de frecuencias para term\n",
    "freq_table_term <- table(loan_data$term)\n",
    "freq_table_term"
   ]
  },
  {
   "cell_type": "code",
   "execution_count": 42,
   "metadata": {
    "vscode": {
     "languageId": "r"
    }
   },
   "outputs": [
    {
     "data": {
      "image/png": "[encoded data removed]",
      "text/plain": [
       "plot without title"
      ]
     },
     "metadata": {
      "image/png": {
       "height": 300,
       "width": 600
      }
     },
     "output_type": "display_data"
    }
   ],
   "source": [
    "# Creo el gráfico de barras apiladas usando ggplot2\n",
    "# para las variables repay_fail y purpose\n",
    "ggplot(loan_data, aes(x = factor(repay_fail), fill = factor(term))) +\n",
    "  geom_bar(position = \"stack\") +\n",
    "  labs(title = \"Gráfico de Barras Apiladas de repay_fail y term\",\n",
    "       x = \"repay_fail\",\n",
    "       y = \"Frecuencia\",\n",
    "       fill = \"term\") +\n",
    "  theme_light() +\n",
    "  theme(legend.position = \"top\")"
   ]
  },
  {
   "cell_type": "markdown",
   "metadata": {},
   "source": [
    "La siguiente celda tiene como objetivo calcular la correlación biserial entre las variables numéricas de un conjunto de datos y la variable de interés (repay_fail), y luego visualizar estas correlaciones utilizando un heatmap."
   ]
  },
  {
   "cell_type": "code",
   "execution_count": 43,
   "metadata": {
    "vscode": {
     "languageId": "r"
    }
   },
   "outputs": [
    {
     "data": {
      "image/png": "[encoded data removed]",
      "text/plain": [
       "plot without title"
      ]
     },
     "metadata": {
      "image/png": {
       "height": 300,
       "width": 600
      }
     },
     "output_type": "display_data"
    }
   ],
   "source": [
    "# Selecciono solo las columnas numéricas\n",
    "numeric_vars <- sapply(loan_data, is.numeric)\n",
    "datos_numericos <- loan_data[, numeric_vars]\n",
    "\n",
    "# Añado 'repay_fail' a los datos numéricos\n",
    "datos_numericos$repay_fail <- loan_data$repay_fail\n",
    "\n",
    "# creo función para calcular la correlación biserial\n",
    "cor_biserial <- function(x, y) {\n",
    "  biserial.cor(x, y)\n",
    "}\n",
    "\n",
    "# Calculo la correlación biserial entre cada variable numérica y 'repay_fail'\n",
    "correlaciones <- sapply(datos_numericos[, -ncol(datos_numericos)], cor_biserial, y = datos_numericos$repay_fail)\n",
    "\n",
    "# Convierto las correlaciones a un data frame para ggplot\n",
    "correlaciones_df <- data.frame(Variable = names(correlaciones), Correlacion = correlaciones)\n",
    "\n",
    "# Ajusto tamaño de etiquetas para mejorar la visualización\n",
    "correlaciones_df$Correlacion <- round(correlaciones_df$Correlacion, 2)\n",
    "\n",
    "# Creo el heatmap con etiquetas mejoradas\n",
    "ggplot(correlaciones_df, aes(x = Variable, y = \"repay_fail\", fill = Correlacion)) +\n",
    "  geom_tile(color = \"black\") +\n",
    "  geom_text(aes(label = Correlacion), vjust = 1, color = \"black\", size = 3) +\n",
    "  scale_fill_gradient2(low = \"#3B4CC0\", mid = \"#FFFFFF\", high = \"#B40426\", \n",
    "                       midpoint = 0, limit = c(-1, 1), space = \"Lab\", \n",
    "                       name = \"Correlación Biserial\") +\n",
    "  theme_minimal() +\n",
    "  theme(axis.text.x = element_text(angle = 45, hjust = 1)) +\n",
    "  labs(x = \"\", y = \"\", title = \"Heatmap de Correlación Biserial\")"
   ]
  },
  {
   "cell_type": "markdown",
   "metadata": {},
   "source": [
    "Propósito y Utilidad\n",
    "\n",
    "El propósito del código es identificar qué variables numéricas tienen una relación significativa con la variable repay_fail. Esta información es crucial para:\n",
    "\n",
    "Selección de Características:\n",
    "\n",
    "Identificar las variables más relevantes para incluir en el modelo de Naive Bayes.\n",
    "\n",
    "Preprocesamiento:\n",
    "\n",
    "Determinar qué variables podrían necesitar transformaciones adicionales (como binning) antes de ser utilizadas en el modelo."
   ]
  },
  {
   "cell_type": "markdown",
   "metadata": {},
   "source": [
    "La siguiente celda se encarga de eliminar las variables que tienen una baja correlación con la variable objetivo repay_fail."
   ]
  },
  {
   "cell_type": "code",
   "execution_count": 44,
   "metadata": {
    "vscode": {
     "languageId": "r"
    }
   },
   "outputs": [],
   "source": [
    "#por ende procedo a eliminar las variables que tienen baja\n",
    "# correlación con la variable objetivo\n",
    "#osea elimino funded_amnt_inv, installment, revol_bal, total_rec_int\n",
    "# delinq_2yrs, funded_amnt, pub_rec, inq_last_6mths, loan_amnt, revol_util\n",
    "loan_data <- loan_data %>%\n",
    "  dplyr::select(-funded_amnt_inv, -installment, -revol_bal,\n",
    "                -total_rec_int, -delinq_2yrs, -funded_amnt, -pub_rec,\n",
    "                -inq_last_6mths, -loan_amnt, -revol_util)"
   ]
  },
  {
   "cell_type": "markdown",
   "metadata": {},
   "source": [
    "Este paso se enfoca en eliminar variables que no aportan información significativa en relación con la variable objetivo repay_fail. Reducir el número de variables simplifica el modelo y mejora su rendimiento, evitando el sobreajuste.\n",
    "\n",
    "Mejora en la Eficiencia del Modelo:\n",
    "\n",
    "Al eliminar las variables irrelevantes, el modelo de Naive Bayes podrá centrarse en las variables que realmente tienen una influencia significativa en la predicción de repay_fail."
   ]
  },
  {
   "cell_type": "code",
   "execution_count": 46,
   "metadata": {
    "vscode": {
     "languageId": "r"
    }
   },
   "outputs": [],
   "source": [
    "#creo 2 copias de loan_data, una para el modelo de\n",
    "# k-NN de clasificación y otra para el modelo de naives bayes\n",
    "loan_data_knn <- loan_data\n",
    "loan_data2 <- loan_data"
   ]
  }
 ],
 "metadata": {
  "kernelspec": {
   "display_name": "R",
   "language": "R",
   "name": "ir"
  },
  "language_info": {
   "codemirror_mode": "r",
   "file_extension": ".r",
   "mimetype": "text/x-r-source",
   "name": "R",
   "pygments_lexer": "r",
   "version": "4.4.0"
  }
 },
 "nbformat": 4,
 "nbformat_minor": 2
}
